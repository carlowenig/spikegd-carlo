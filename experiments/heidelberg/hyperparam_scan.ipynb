{
 "cells": [
  {
   "cell_type": "code",
   "execution_count": 1,
   "metadata": {},
   "outputs": [],
   "source": [
    "from heidelberg_v01 import run_theta_ensemble, load_datasets\n",
    "from hyperparam_scan_util import computed, scan_grid, vary\n",
    "import numpy as np\n",
    "from functools import partial\n",
    "import jax"
   ]
  },
  {
   "cell_type": "code",
   "execution_count": 2,
   "metadata": {},
   "outputs": [
    {
     "ename": "AssertionError",
     "evalue": "Expected a single GPU, got [CpuDevice(id=0)]",
     "output_type": "error",
     "traceback": [
      "\u001b[1;31m---------------------------------------------------------------------------\u001b[0m",
      "\u001b[1;31mAssertionError\u001b[0m                            Traceback (most recent call last)",
      "Cell \u001b[1;32mIn[2], line 2\u001b[0m\n\u001b[0;32m      1\u001b[0m devices \u001b[38;5;241m=\u001b[39m jax\u001b[38;5;241m.\u001b[39mdevices()\n\u001b[1;32m----> 2\u001b[0m \u001b[38;5;28;01massert\u001b[39;00m \u001b[38;5;28mlen\u001b[39m(devices) \u001b[38;5;241m==\u001b[39m \u001b[38;5;241m1\u001b[39m \u001b[38;5;129;01mand\u001b[39;00m devices[\u001b[38;5;241m0\u001b[39m]\u001b[38;5;241m.\u001b[39mdevice_kind \u001b[38;5;241m==\u001b[39m \u001b[38;5;124m'\u001b[39m\u001b[38;5;124mgpu\u001b[39m\u001b[38;5;124m'\u001b[39m, \\\n\u001b[0;32m      3\u001b[0m     \u001b[38;5;124mf\u001b[39m\u001b[38;5;124m\"\u001b[39m\u001b[38;5;124mExpected a single GPU, got \u001b[39m\u001b[38;5;132;01m{\u001b[39;00mdevices\u001b[38;5;132;01m}\u001b[39;00m\u001b[38;5;124m\"\u001b[39m\n",
      "\u001b[1;31mAssertionError\u001b[0m: Expected a single GPU, got [CpuDevice(id=0)]"
     ]
    }
   ],
   "source": [
    "devices = jax.devices()\n",
    "assert len(devices) == 1 and devices[0].device_kind == 'gpu', \\\n",
    "    f\"Expected a single GPU, got {devices}\""
   ]
  },
  {
   "cell_type": "code",
   "execution_count": null,
   "metadata": {},
   "outputs": [
    {
     "name": "stdout",
     "output_type": "stream",
     "text": [
      "Loading data from h5 file\n",
      "Loading audio filenames\n",
      "Finished loading SHD\n",
      "Loading data from h5 file\n",
      "Loading audio filenames\n",
      "Finished loading SHD\n"
     ]
    }
   ],
   "source": [
    "datasets = load_datasets(\"data\", verbose=True)"
   ]
  },
  {
   "cell_type": "code",
   "execution_count": null,
   "metadata": {},
   "outputs": [],
   "source": [
    "config_grid = {\n",
    "    \"seed\": 0,\n",
    "    # Neuron\n",
    "    \"tau\": 6 / np.pi,\n",
    "    \"I0\": 5 / 4,\n",
    "    \"eps\": 1e-6,\n",
    "    # Network\n",
    "    # \"Nin\": 7000, # must be N * Nt, where N is the number of neurons in the SHD dataset (700)\n",
    "    \"Nin_virtual\": vary(12, 16, 20),  # #Virtual input neurons = N_bin - 1\n",
    "    \"Nhidden\": vary(40, 60, 80, 100),\n",
    "    \"Nlayer\": vary(2, 3),  # Number of layers\n",
    "    \"Nout\": 20,\n",
    "    \"w_scale\": 0.5,  # Scaling factor of initial weights\n",
    "    # Trial\n",
    "    \"T\": 2.0,\n",
    "    \"K\": vary(50, 100, 150, 200),  # Maximal number of simulated ordinary spikes\n",
    "    \"dt\": 0.001,  # Step size used to compute state traces\n",
    "    # Training\n",
    "    \"gamma\": 1e-2,\n",
    "    \"Nbatch\": 1000,\n",
    "    \"lr\": 4e-3,\n",
    "    \"tau_lr\": 1e2,\n",
    "    \"beta1\": 0.9,\n",
    "    \"beta2\": 0.999,\n",
    "    \"p_flip\": vary(0.0, 0.02, 0.04),\n",
    "    \"Nepochs\": 10,\n",
    "    \"Ntrain\": None,  # Number of training samples\n",
    "    # SHD Quantization\n",
    "    \"Nt\": vary(8, 12, 16),\n",
    "    \"Nin_data\": 700,\n",
    "    \"Nin\": computed(lambda Nin_data, Nt: Nin_data * Nt),\n",
    "    # Ensemble\n",
    "    \"Nsamples\": 3,\n",
    "}"
   ]
  },
  {
   "cell_type": "code",
   "execution_count": null,
   "metadata": {},
   "outputs": [
    {
     "name": "stdout",
     "output_type": "stream",
     "text": [
      "varying keys              Nin_virtual, Nhidden, Nlayer, K, p_flip, Nt, Nin\n",
      "configs                   864\n",
      "========== CONSTANTS ==========\n",
      "seed                      0\n",
      "tau                       1/6 pi^-1\n",
      "I0                        1.25\n",
      "eps                       1e-06\n",
      "Nout                      20\n",
      "w_scale                   0.5\n",
      "T                         2.0\n",
      "dt                        0.001\n",
      "gamma                     0.01\n",
      "Nbatch                    1000\n",
      "lr                        0.004\n",
      "tau_lr                    100.0\n",
      "beta1                     0.9\n",
      "beta2                     0.999\n",
      "Nepochs                   10\n",
      "Ntrain                    None\n",
      "Nin_data                  700\n",
      "Nsamples                  3\n",
      "\n",
      "\n",
      "========== CONFIG 001 ==========\n",
      "Nin_virtual               12\n",
      "Nhidden                   40\n",
      "Nlayer                    2\n",
      "K                         50\n",
      "p_flip                    0.0\n",
      "Nt                        8\n",
      "Nin                       5600\n",
      "Starting trial 1.\n"
     ]
    },
    {
     "name": "stderr",
     "output_type": "stream",
     "text": [
      " 30%|███       | 3/10 [00:23<00:50,  7.21s/it]"
     ]
    }
   ],
   "source": [
    "scan_grid(partial(run_theta_ensemble, datasets), config_grid, version=1,\n",
    "          show_metrics=(\"acc_max_epoch\", \"acc_max_mean\", \"acc_max_std\"),\n",
    "          if_trial_exists=\"recompute_if_unsuccessful\")"
   ]
  }
 ],
 "metadata": {
  "kernelspec": {
   "display_name": "spikegd",
   "language": "python",
   "name": "python3"
  },
  "language_info": {
   "codemirror_mode": {
    "name": "ipython",
    "version": 3
   },
   "file_extension": ".py",
   "mimetype": "text/x-python",
   "name": "python",
   "nbconvert_exporter": "python",
   "pygments_lexer": "ipython3",
   "version": "3.12.1"
  }
 },
 "nbformat": 4,
 "nbformat_minor": 2
}
