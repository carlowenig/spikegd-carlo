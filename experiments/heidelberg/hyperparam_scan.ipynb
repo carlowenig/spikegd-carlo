{
 "cells": [
  {
   "cell_type": "code",
   "execution_count": 1,
   "metadata": {},
   "outputs": [],
   "source": [
    "import itertools\n",
    "import shutil\n",
    "import time\n",
    "from dataclasses import asdict, dataclass, field\n",
    "from datetime import datetime\n",
    "from pathlib import Path\n",
    "from typing import Any, Callable, Iterable, Literal, Self\n",
    "\n",
    "import jax\n",
    "import jax.numpy as jnp\n",
    "import matplotlib.gridspec as gridspec\n",
    "import matplotlib.pyplot as plt\n",
    "import numpy as np\n",
    "import pandas as pd\n",
    "import yaml\n",
    "from jax import random\n",
    "from mpl_toolkits.axes_grid1.inset_locator import inset_axes\n",
    "\n",
    "from heidelberg_v01 import (\n",
    "    load_data,\n",
    "    load_datasets,\n",
    "    plot_error,\n",
    "    plot_spikes,\n",
    "    plot_traces,\n",
    "    run,\n",
    "    run_example,\n",
    ")\n",
    "from spikegd.theta import ThetaNeuron\n"
   ]
  },
  {
   "cell_type": "code",
   "execution_count": 2,
   "metadata": {},
   "outputs": [
    {
     "name": "stdout",
     "output_type": "stream",
     "text": [
      "Loading data from h5 file\n",
      "Loading audio filenames\n",
      "Finished loading SHD\n",
      "Loading data from h5 file\n",
      "Loading audio filenames\n",
      "Finished loading SHD\n"
     ]
    }
   ],
   "source": [
    "datasets = load_datasets(\"data\", verbose=True)"
   ]
  },
  {
   "cell_type": "code",
   "execution_count": 3,
   "metadata": {},
   "outputs": [],
   "source": [
    "def run_theta(config: dict, data_loaders=None):\n",
    "    \"\"\"\n",
    "    Wrapper to train a network of Theta neurons with the given configuration.\n",
    "\n",
    "    See docstring of `run` and article for more information.\n",
    "    \"\"\"\n",
    "    if data_loaders is None:\n",
    "        data_loaders = load_data(datasets, config)\n",
    "\n",
    "    tau, I0, eps = config[\"tau\"], config[\"I0\"], config[\"eps\"]\n",
    "    neuron = ThetaNeuron(tau, I0, eps)\n",
    "    metrics, perf_metrics = run(neuron, data_loaders, config, progress_bar=\"script\")\n",
    "    return metrics, perf_metrics\n",
    "\n",
    "def run_theta_ensemble(config: dict, samples: int = 1, data_loaders=None) -> dict:\n",
    "    seed = 0\n",
    "    key = random.PRNGKey(seed)\n",
    "    seeds = random.randint(key, (samples,), 0, jnp.uint32(2**32 - 1), dtype=jnp.uint32)\n",
    "    metrics_list = []\n",
    "\n",
    "    # load data once if not provided\n",
    "    if data_loaders is None:\n",
    "        data_loaders = load_data(datasets, config)\n",
    "\n",
    "    for seed in seeds:\n",
    "        config_theta = {**config, \"seed\": seed}\n",
    "        metrics, perf_metrics = run_theta(config_theta, data_loaders)\n",
    "        metrics_list.append(metrics | perf_metrics)\n",
    "    metrics = jax.tree.map(lambda *args: jnp.stack(args), *metrics_list)\n",
    "    \n",
    "    return metrics"
   ]
  },
  {
   "cell_type": "code",
   "execution_count": 4,
   "metadata": {},
   "outputs": [],
   "source": [
    "def summarize_ensemble_metrics(ensemble_metrics: dict, epoch: int = -1) -> dict:\n",
    "    metrics = {}\n",
    "\n",
    "    for key, value in ensemble_metrics.items():\n",
    "        if key.startswith(\"perf.\"):\n",
    "            # Not epoch-specific\n",
    "            metrics[f\"{key}_mean\"] = float(jnp.mean(value))\n",
    "            metrics[f\"{key}_std\"] = float(jnp.std(value))\n",
    "        elif key not in [\"p_init\", \"p_end\"]:\n",
    "            # Epoch-specific\n",
    "            metrics[f\"{key}_mean\"] = float(jnp.mean(value[:, epoch]))\n",
    "            metrics[f\"{key}_std\"] = float(jnp.std(value[:, epoch]))\n",
    "\n",
    "    return metrics\n"
   ]
  },
  {
   "cell_type": "code",
   "execution_count": 5,
   "metadata": {},
   "outputs": [],
   "source": [
    "config_grid = {\n",
    "    \"seed\": 0,\n",
    "    # Neuron\n",
    "    \"tau\": 6 / np.pi,\n",
    "    \"I0\": 5 / 4,\n",
    "    \"eps\": 1e-6,\n",
    "    # Network\n",
    "    # \"Nin\": 7000, # must be N * Nt, where N is the number of neurons in the SHD dataset (700)\n",
    "    \"Nin_virtual\": (12, 16, 20),  # #Virtual input neurons = N_bin - 1\n",
    "    \"Nhidden\": (40, 60, 80, 100),\n",
    "    \"Nlayer\": (2, 3),  # Number of layers\n",
    "    \"Nout\": 20,\n",
    "    \"w_scale\": 0.5,  # Scaling factor of initial weights\n",
    "    # Trial\n",
    "    \"T\": 2.0,\n",
    "    \"K\": (50, 100, 150, 200),  # Maximal number of simulated ordinary spikes\n",
    "    \"dt\": 0.001,  # Step size used to compute state traces\n",
    "    # Training\n",
    "    \"gamma\": 1e-2,\n",
    "    \"Nbatch\": 1000,\n",
    "    \"lr\": 4e-3,\n",
    "    \"tau_lr\": 1e2,\n",
    "    \"beta1\": 0.9,\n",
    "    \"beta2\": 0.999,\n",
    "    \"p_flip\": (0.0, 0.02, 0.04),\n",
    "    \"Nepochs\": 10,\n",
    "    \"Ntrain\": None,  # Number of training samples\n",
    "    # SHD Quantization\n",
    "    \"Nt\": (8, 12, 16),\n",
    "    \"Nin_data\": 700,\n",
    "}\n",
    "\n",
    "\n",
    "def configs_from_grid(config_grid: dict):\n",
    "    config_grid = {\n",
    "        k: v if isinstance(v, tuple) else (v,) for k, v in config_grid.items()\n",
    "    }\n",
    "\n",
    "    configs = [\n",
    "        dict(zip(config_grid.keys(), values))\n",
    "        for values in itertools.product(*config_grid.values())\n",
    "    ]\n",
    "\n",
    "    for config in configs:\n",
    "        config[\"Nin\"] = config[\"Nin_data\"] * config[\"Nt\"]\n",
    "\n",
    "    return configs\n",
    "\n",
    "\n",
    "def format_timestamp(t: float):\n",
    "    return datetime.fromtimestamp(t).strftime(\"%Y-%m-%d_%H-%M-%S_%f\")\n",
    "\n",
    "\n",
    "def parse_timestamp(t: str):\n",
    "    return datetime.strptime(t, \"%Y-%m-%d_%H-%M-%S_%f\").timestamp()\n",
    "\n",
    "\n",
    "def get_grid_data_filename(version: int):\n",
    "    return f\"grid_data_{version:02d}.yaml\"\n",
    "\n",
    "\n",
    "@dataclass\n",
    "class GridData:\n",
    "    version: int\n",
    "    created_at: str\n",
    "    const: dict[str, Any] | None = None\n",
    "    trials: dict[int, \"GridTrial\"] = field(default_factory=dict)\n",
    "\n",
    "    def to_dict(self):\n",
    "        dict_ = asdict(self)\n",
    "        dict_[\"trials\"] = dict(trial.to_item() for trial in self.trials.values())\n",
    "        return dict_\n",
    "\n",
    "    @classmethod\n",
    "    def from_dict(cls, dict_: dict):\n",
    "        dict_[\"trials\"] = {\n",
    "            k: GridTrial.from_item((k, v)) for k, v in dict_[\"trials\"].items()\n",
    "        }\n",
    "        return cls(**dict_)\n",
    "\n",
    "    def save(self):\n",
    "        filename = get_grid_data_filename(self.version)\n",
    "        with open(filename, \"w\") as f:\n",
    "            yaml.dump(self.to_dict(), f, sort_keys=False)\n",
    "\n",
    "    @classmethod\n",
    "    def load_or_create(cls, version: int) -> Self:\n",
    "        path = Path(get_grid_data_filename(version))\n",
    "\n",
    "        if not path.exists():\n",
    "            data = cls(version=version, created_at=format_timestamp(time.time()))\n",
    "            data.save()\n",
    "            return data\n",
    "        \n",
    "        # File exists -> create backup and load data\n",
    "        shutil.copy(path, path.with_stem(f\"{path.stem}_{time.strftime(\"%Y%m%d-%H%M%S\")}\"))\n",
    "\n",
    "        with path.open(\"r\") as f:\n",
    "            dict_ = yaml.safe_load(f)\n",
    "\n",
    "        data = cls.from_dict(dict_)\n",
    "\n",
    "        assert data.version == version, f\"Version mismatch: {data.version} != {version}\"\n",
    "\n",
    "        return data\n",
    "\n",
    "    def create_trial_config(self, config: dict[str, Any]) -> dict[str, Any]:\n",
    "        if self.const is None:\n",
    "            self.const = config.copy()\n",
    "            return {}\n",
    "\n",
    "        trial_config = {}\n",
    "\n",
    "        for key, const_value in list(self.const.items()):\n",
    "            new_value = config.get(key)\n",
    "\n",
    "            if const_value != new_value:\n",
    "                # Previously constant key is different now -> remove from const\n",
    "                self.const.pop(key, None)\n",
    "\n",
    "                # Add key with constant value to all existing trial configs\n",
    "                for trial in self.trials.values():\n",
    "                    assert (\n",
    "                        key not in trial.config\n",
    "                    ), f\"Key {key} already in trial config of trial {trial.index}.\"\n",
    "                    trial.config[key] = const_value\n",
    "\n",
    "        for key, new_value in config.items():\n",
    "            const_value = self.const.get(key)\n",
    "\n",
    "            if new_value != const_value:\n",
    "                # Add key with new value to trial config\n",
    "                trial_config[key] = new_value\n",
    "\n",
    "        return trial_config\n",
    "\n",
    "    def get_next_trial_index(self):\n",
    "        return max((trial.index for trial in self.trials.values()), default=0) + 1\n",
    "\n",
    "    def start_trial(self, config: dict[str, Any], n_samples: int) -> \"GridTrial\":\n",
    "        trial_config = self.create_trial_config(config)\n",
    "\n",
    "        trial = GridTrial(\n",
    "            index=self.get_next_trial_index(),\n",
    "            config=trial_config,\n",
    "            n_samples=n_samples,\n",
    "            started_at=format_timestamp(time.time()),\n",
    "        )\n",
    "        self.trials[trial.index] = trial\n",
    "        return trial\n",
    "\n",
    "    def find_trial_by_config(self, config: dict[str, Any]):\n",
    "        for trial in self.trials.values():\n",
    "            for k, v in config.items():\n",
    "                trial_value = trial.config.get(k)\n",
    "                if trial_value is None and self.const is not None:\n",
    "                    trial_value = self.const.get(k)\n",
    "\n",
    "                if v != trial_value:\n",
    "                    break\n",
    "            else:\n",
    "                return trial\n",
    "\n",
    "\n",
    "@dataclass\n",
    "class GridTrial:\n",
    "    index: int\n",
    "    config: dict[str, Any]\n",
    "    n_samples: int\n",
    "    started_at: str\n",
    "    finished_at: str | None = None\n",
    "    duration: float | None = None\n",
    "    metrics: dict[str, Any] = field(default_factory=dict)\n",
    "    error: str | None = None\n",
    "\n",
    "    def __post_init__(self):\n",
    "        if self.index > 999:\n",
    "            raise ValueError(\"Trial indices above 999 are not supported.\")\n",
    "\n",
    "    def to_item(self):\n",
    "        return self.index, asdict(self)\n",
    "\n",
    "    @classmethod\n",
    "    def from_item(cls, item: tuple[int, dict[str, Any]]):\n",
    "        index, dict_ = item\n",
    "        assert isinstance(index, int), f\"Invalid trial index: {index}\"\n",
    "        assert isinstance(dict_, dict), f\"Invalid trial data: {dict_}\"\n",
    "\n",
    "        trial = cls(**dict_)\n",
    "        assert trial.index == index, f\"Trial index mismatch: {trial.index} != {index}\"\n",
    "        return trial\n",
    "\n",
    "    def finish(self, metrics: dict[str, Any], error: str | None = None):\n",
    "        self.metrics = metrics\n",
    "        self.error = error\n",
    "        end_time = time.time()\n",
    "        self.finished_at = format_timestamp(end_time)\n",
    "        self.duration = end_time - parse_timestamp(self.started_at)\n",
    "\n",
    "\n",
    "def print_dict(d: dict, value_format=\"\"):\n",
    "    for k, v in d.items():\n",
    "        print(f\"{k:<25} {v:{value_format}}\")\n",
    "\n",
    "\n",
    "def filter_dict[K, V](\n",
    "    d: dict[K, V], predicate: Callable[[K, V], bool] | Iterable[K]\n",
    ") -> dict[K, V]:\n",
    "    if isinstance(predicate, Iterable):\n",
    "        keys = predicate\n",
    "        predicate = lambda k, v: k in keys\n",
    "\n",
    "    return {k: v for k, v in d.items() if predicate(k, v)}\n",
    "\n",
    "\n",
    "def run_theta_grid(config_grid: dict, version: int, n_samples_per_trial=1):\n",
    "    configs = configs_from_grid(config_grid)\n",
    "    const_keys = [k for k, v in config_grid.items() if not isinstance(v, tuple)]\n",
    "    varying_keys = [k for k, v in config_grid.items() if isinstance(v, tuple)]\n",
    "\n",
    "\n",
    "    data = GridData.load_or_create(version)    \n",
    "    print_dict(\n",
    "        {\n",
    "            \"variables\": \", \".join(varying_keys),\n",
    "            \"samples per trial\": n_samples_per_trial,\n",
    "            \"configs\": len(configs),\n",
    "        }\n",
    "    )\n",
    "    print(\"========== CONSTANTS ==========\")\n",
    "    print_dict(filter_dict(config_grid, const_keys))\n",
    "    print()\n",
    "\n",
    "    print()\n",
    "\n",
    "    for config in configs:\n",
    "        trial_index = data.get_next_trial_index()\n",
    "        print(f\"========== TRIAL {trial_index:03d} ==========\")\n",
    "        print_dict(filter_dict(config, varying_keys))\n",
    "\n",
    "        # Check if this config has already been run\n",
    "        trial = data.find_trial_by_config(config)\n",
    "\n",
    "        if trial is not None:\n",
    "            print(f\"This config has already been used in trial {trial.index}.\")\n",
    "            print()\n",
    "            continue\n",
    "\n",
    "        trial = data.start_trial(config, n_samples_per_trial)\n",
    "\n",
    "        try:\n",
    "            ensemble_metrics = run_theta_ensemble(config, samples=n_samples_per_trial)\n",
    "        except Exception as e:\n",
    "            trial.finish({}, repr(e))\n",
    "            print_dict({\"error\": repr(e)})\n",
    "        else:\n",
    "            metrics = summarize_ensemble_metrics(ensemble_metrics)\n",
    "            trial.finish(metrics)\n",
    "            print_dict(filter_dict(metrics, (\"acc_mean\", \"acc_std\")), \".3f\")\n",
    "\n",
    "        print()\n",
    "\n",
    "        data.save()"
   ]
  },
  {
   "cell_type": "code",
   "execution_count": 6,
   "metadata": {},
   "outputs": [
    {
     "name": "stdout",
     "output_type": "stream",
     "text": [
      "variables                 Nin_virtual, Nhidden, Nlayer, K, p_flip, Nt\n",
      "samples per trial         3\n",
      "configs                   864\n",
      "========== CONSTANTS ==========\n",
      "seed                      0\n",
      "tau                       1.909859317102744\n",
      "I0                        1.25\n",
      "eps                       1e-06\n",
      "Nout                      20\n",
      "w_scale                   0.5\n",
      "T                         2.0\n",
      "dt                        0.001\n",
      "gamma                     0.01\n",
      "Nbatch                    1000\n",
      "lr                        0.004\n",
      "tau_lr                    100.0\n",
      "beta1                     0.9\n",
      "beta2                     0.999\n",
      "Nepochs                   10\n",
      "Ntrain                    None\n",
      "Nin_data                  700\n",
      "\n",
      "\n",
      "========== TRIAL 001 ==========\n",
      "Nin_virtual               12\n",
      "Nhidden                   40\n",
      "Nlayer                    2\n",
      "K                         50\n",
      "p_flip                    0.0\n",
      "Nt                        8\n"
     ]
    },
    {
     "name": "stderr",
     "output_type": "stream",
     "text": [
      "100%|██████████| 10/10 [00:11<00:00,  1.18s/it]\n",
      "100%|██████████| 10/10 [00:09<00:00,  1.06it/s]\n",
      "100%|██████████| 10/10 [00:09<00:00,  1.06it/s]\n"
     ]
    },
    {
     "name": "stdout",
     "output_type": "stream",
     "text": [
      "acc_mean                  0.788\n",
      "acc_std                   0.036\n",
      "\n",
      "========== TRIAL 002 ==========\n",
      "Nin_virtual               12\n",
      "Nhidden                   40\n",
      "Nlayer                    2\n",
      "K                         50\n",
      "p_flip                    0.0\n",
      "Nt                        12\n"
     ]
    },
    {
     "name": "stderr",
     "output_type": "stream",
     "text": [
      "100%|██████████| 10/10 [00:11<00:00,  1.13s/it]\n",
      "100%|██████████| 10/10 [00:09<00:00,  1.06it/s]\n",
      "100%|██████████| 10/10 [00:09<00:00,  1.05it/s]\n"
     ]
    },
    {
     "name": "stdout",
     "output_type": "stream",
     "text": [
      "acc_mean                  0.760\n",
      "acc_std                   0.031\n",
      "\n",
      "========== TRIAL 003 ==========\n",
      "Nin_virtual               12\n",
      "Nhidden                   40\n",
      "Nlayer                    2\n",
      "K                         50\n",
      "p_flip                    0.0\n",
      "Nt                        16\n"
     ]
    },
    {
     "name": "stderr",
     "output_type": "stream",
     "text": [
      "100%|██████████| 10/10 [00:12<00:00,  1.21s/it]\n",
      "100%|██████████| 10/10 [00:10<00:00,  1.03s/it]\n",
      "100%|██████████| 10/10 [00:10<00:00,  1.02s/it]\n"
     ]
    },
    {
     "name": "stdout",
     "output_type": "stream",
     "text": [
      "acc_mean                  0.782\n",
      "acc_std                   0.007\n",
      "\n",
      "========== TRIAL 004 ==========\n",
      "Nin_virtual               12\n",
      "Nhidden                   40\n",
      "Nlayer                    2\n",
      "K                         50\n",
      "p_flip                    0.02\n",
      "Nt                        8\n"
     ]
    },
    {
     "name": "stderr",
     "output_type": "stream",
     "text": [
      "100%|██████████| 10/10 [00:09<00:00,  1.05it/s]\n",
      "100%|██████████| 10/10 [00:09<00:00,  1.05it/s]\n",
      "100%|██████████| 10/10 [00:09<00:00,  1.07it/s]\n"
     ]
    },
    {
     "name": "stdout",
     "output_type": "stream",
     "text": [
      "acc_mean                  0.795\n",
      "acc_std                   0.018\n",
      "\n",
      "========== TRIAL 005 ==========\n",
      "Nin_virtual               12\n",
      "Nhidden                   40\n",
      "Nlayer                    2\n",
      "K                         50\n",
      "p_flip                    0.02\n",
      "Nt                        12\n"
     ]
    },
    {
     "name": "stderr",
     "output_type": "stream",
     "text": [
      "100%|██████████| 10/10 [00:09<00:00,  1.06it/s]\n",
      "100%|██████████| 10/10 [00:09<00:00,  1.08it/s]\n",
      "100%|██████████| 10/10 [00:09<00:00,  1.03it/s]\n"
     ]
    },
    {
     "name": "stdout",
     "output_type": "stream",
     "text": [
      "acc_mean                  0.764\n",
      "acc_std                   0.025\n",
      "\n",
      "========== TRIAL 006 ==========\n",
      "Nin_virtual               12\n",
      "Nhidden                   40\n",
      "Nlayer                    2\n",
      "K                         50\n",
      "p_flip                    0.02\n",
      "Nt                        16\n"
     ]
    },
    {
     "name": "stderr",
     "output_type": "stream",
     "text": [
      "100%|██████████| 10/10 [00:10<00:00,  1.05s/it]\n",
      "100%|██████████| 10/10 [00:10<00:00,  1.01s/it]\n",
      "100%|██████████| 10/10 [00:10<00:00,  1.01s/it]\n"
     ]
    },
    {
     "name": "stdout",
     "output_type": "stream",
     "text": [
      "acc_mean                  0.770\n",
      "acc_std                   0.031\n",
      "\n",
      "========== TRIAL 007 ==========\n",
      "Nin_virtual               12\n",
      "Nhidden                   40\n",
      "Nlayer                    2\n",
      "K                         50\n",
      "p_flip                    0.04\n",
      "Nt                        8\n"
     ]
    },
    {
     "name": "stderr",
     "output_type": "stream",
     "text": [
      "100%|██████████| 10/10 [00:09<00:00,  1.02it/s]\n",
      "100%|██████████| 10/10 [00:09<00:00,  1.05it/s]\n",
      "100%|██████████| 10/10 [00:09<00:00,  1.08it/s]\n"
     ]
    },
    {
     "name": "stdout",
     "output_type": "stream",
     "text": [
      "acc_mean                  0.741\n",
      "acc_std                   0.006\n",
      "\n",
      "========== TRIAL 008 ==========\n",
      "Nin_virtual               12\n",
      "Nhidden                   40\n",
      "Nlayer                    2\n",
      "K                         50\n",
      "p_flip                    0.04\n",
      "Nt                        12\n"
     ]
    },
    {
     "name": "stderr",
     "output_type": "stream",
     "text": [
      "100%|██████████| 10/10 [00:09<00:00,  1.01it/s]\n",
      "100%|██████████| 10/10 [00:09<00:00,  1.07it/s]\n",
      "100%|██████████| 10/10 [00:09<00:00,  1.02it/s]\n"
     ]
    },
    {
     "name": "stdout",
     "output_type": "stream",
     "text": [
      "acc_mean                  0.756\n",
      "acc_std                   0.031\n",
      "\n",
      "========== TRIAL 009 ==========\n",
      "Nin_virtual               12\n",
      "Nhidden                   40\n",
      "Nlayer                    2\n",
      "K                         50\n",
      "p_flip                    0.04\n",
      "Nt                        16\n"
     ]
    },
    {
     "name": "stderr",
     "output_type": "stream",
     "text": [
      "100%|██████████| 10/10 [00:10<00:00,  1.02s/it]\n",
      "100%|██████████| 10/10 [00:10<00:00,  1.01s/it]\n",
      "100%|██████████| 10/10 [00:10<00:00,  1.06s/it]\n"
     ]
    },
    {
     "name": "stdout",
     "output_type": "stream",
     "text": [
      "acc_mean                  0.740\n",
      "acc_std                   0.019\n",
      "\n",
      "========== TRIAL 010 ==========\n",
      "Nin_virtual               12\n",
      "Nhidden                   40\n",
      "Nlayer                    2\n",
      "K                         100\n",
      "p_flip                    0.0\n",
      "Nt                        8\n"
     ]
    },
    {
     "name": "stderr",
     "output_type": "stream",
     "text": [
      "100%|██████████| 10/10 [00:11<00:00,  1.16s/it]\n",
      "100%|██████████| 10/10 [00:10<00:00,  1.08s/it]\n",
      "100%|██████████| 10/10 [00:10<00:00,  1.03s/it]\n"
     ]
    },
    {
     "name": "stdout",
     "output_type": "stream",
     "text": [
      "acc_mean                  0.792\n",
      "acc_std                   0.020\n",
      "\n",
      "========== TRIAL 011 ==========\n",
      "Nin_virtual               12\n",
      "Nhidden                   40\n",
      "Nlayer                    2\n",
      "K                         100\n",
      "p_flip                    0.0\n",
      "Nt                        12\n"
     ]
    },
    {
     "name": "stderr",
     "output_type": "stream",
     "text": [
      "100%|██████████| 10/10 [00:12<00:00,  1.20s/it]\n",
      "100%|██████████| 10/10 [00:10<00:00,  1.04s/it]\n",
      "100%|██████████| 10/10 [00:10<00:00,  1.09s/it]\n"
     ]
    },
    {
     "name": "stdout",
     "output_type": "stream",
     "text": [
      "acc_mean                  0.791\n",
      "acc_std                   0.037\n",
      "\n",
      "========== TRIAL 012 ==========\n",
      "Nin_virtual               12\n",
      "Nhidden                   40\n",
      "Nlayer                    2\n",
      "K                         100\n",
      "p_flip                    0.0\n",
      "Nt                        16\n"
     ]
    },
    {
     "name": "stderr",
     "output_type": "stream",
     "text": [
      "100%|██████████| 10/10 [00:12<00:00,  1.24s/it]\n",
      "100%|██████████| 10/10 [00:11<00:00,  1.12s/it]\n",
      "100%|██████████| 10/10 [00:11<00:00,  1.18s/it]\n"
     ]
    },
    {
     "name": "stdout",
     "output_type": "stream",
     "text": [
      "acc_mean                  0.781\n",
      "acc_std                   0.024\n",
      "\n",
      "========== TRIAL 013 ==========\n",
      "Nin_virtual               12\n",
      "Nhidden                   40\n",
      "Nlayer                    2\n",
      "K                         100\n",
      "p_flip                    0.02\n",
      "Nt                        8\n"
     ]
    },
    {
     "name": "stderr",
     "output_type": "stream",
     "text": [
      "100%|██████████| 10/10 [00:10<00:00,  1.03s/it]\n",
      "100%|██████████| 10/10 [00:10<00:00,  1.10s/it]\n",
      "100%|██████████| 10/10 [00:10<00:00,  1.03s/it]\n"
     ]
    },
    {
     "name": "stdout",
     "output_type": "stream",
     "text": [
      "acc_mean                  0.792\n",
      "acc_std                   0.028\n",
      "\n",
      "========== TRIAL 014 ==========\n",
      "Nin_virtual               12\n",
      "Nhidden                   40\n",
      "Nlayer                    2\n",
      "K                         100\n",
      "p_flip                    0.02\n",
      "Nt                        12\n"
     ]
    },
    {
     "name": "stderr",
     "output_type": "stream",
     "text": [
      "100%|██████████| 10/10 [00:10<00:00,  1.05s/it]\n",
      "100%|██████████| 10/10 [00:11<00:00,  1.11s/it]\n",
      "100%|██████████| 10/10 [00:10<00:00,  1.04s/it]\n"
     ]
    },
    {
     "name": "stdout",
     "output_type": "stream",
     "text": [
      "acc_mean                  0.771\n",
      "acc_std                   0.017\n",
      "\n",
      "========== TRIAL 015 ==========\n",
      "Nin_virtual               12\n",
      "Nhidden                   40\n",
      "Nlayer                    2\n",
      "K                         100\n",
      "p_flip                    0.02\n",
      "Nt                        16\n"
     ]
    },
    {
     "name": "stderr",
     "output_type": "stream",
     "text": [
      "100%|██████████| 10/10 [00:11<00:00,  1.19s/it]\n",
      "100%|██████████| 10/10 [00:11<00:00,  1.12s/it]\n",
      "100%|██████████| 10/10 [00:11<00:00,  1.12s/it]\n"
     ]
    },
    {
     "name": "stdout",
     "output_type": "stream",
     "text": [
      "acc_mean                  0.751\n",
      "acc_std                   0.016\n",
      "\n",
      "========== TRIAL 016 ==========\n",
      "Nin_virtual               12\n",
      "Nhidden                   40\n",
      "Nlayer                    2\n",
      "K                         100\n",
      "p_flip                    0.04\n",
      "Nt                        8\n"
     ]
    },
    {
     "name": "stderr",
     "output_type": "stream",
     "text": [
      "100%|██████████| 10/10 [00:11<00:00,  1.10s/it]\n",
      "100%|██████████| 10/10 [00:10<00:00,  1.03s/it]\n",
      "100%|██████████| 10/10 [00:10<00:00,  1.04s/it]\n"
     ]
    },
    {
     "name": "stdout",
     "output_type": "stream",
     "text": [
      "acc_mean                  0.762\n",
      "acc_std                   0.017\n",
      "\n",
      "========== TRIAL 017 ==========\n",
      "Nin_virtual               12\n",
      "Nhidden                   40\n",
      "Nlayer                    2\n",
      "K                         100\n",
      "p_flip                    0.04\n",
      "Nt                        12\n"
     ]
    },
    {
     "name": "stderr",
     "output_type": "stream",
     "text": [
      "100%|██████████| 10/10 [00:11<00:00,  1.12s/it]\n",
      "100%|██████████| 10/10 [00:10<00:00,  1.05s/it]\n",
      "100%|██████████| 10/10 [00:10<00:00,  1.05s/it]\n"
     ]
    },
    {
     "name": "stdout",
     "output_type": "stream",
     "text": [
      "acc_mean                  0.745\n",
      "acc_std                   0.030\n",
      "\n",
      "========== TRIAL 018 ==========\n",
      "Nin_virtual               12\n",
      "Nhidden                   40\n",
      "Nlayer                    2\n",
      "K                         100\n",
      "p_flip                    0.04\n",
      "Nt                        16\n"
     ]
    },
    {
     "name": "stderr",
     "output_type": "stream",
     "text": [
      "100%|██████████| 10/10 [00:11<00:00,  1.19s/it]\n",
      "100%|██████████| 10/10 [00:11<00:00,  1.13s/it]\n",
      "100%|██████████| 10/10 [00:11<00:00,  1.12s/it]\n"
     ]
    },
    {
     "name": "stdout",
     "output_type": "stream",
     "text": [
      "acc_mean                  0.726\n",
      "acc_std                   0.028\n",
      "\n",
      "========== TRIAL 019 ==========\n",
      "Nin_virtual               12\n",
      "Nhidden                   40\n",
      "Nlayer                    2\n",
      "K                         150\n",
      "p_flip                    0.0\n",
      "Nt                        8\n"
     ]
    },
    {
     "name": "stderr",
     "output_type": "stream",
     "text": [
      "100%|██████████| 10/10 [00:13<00:00,  1.35s/it]\n",
      "100%|██████████| 10/10 [00:11<00:00,  1.14s/it]\n",
      "100%|██████████| 10/10 [00:11<00:00,  1.13s/it]\n"
     ]
    },
    {
     "name": "stdout",
     "output_type": "stream",
     "text": [
      "acc_mean                  0.804\n",
      "acc_std                   0.023\n",
      "\n",
      "========== TRIAL 020 ==========\n",
      "Nin_virtual               12\n",
      "Nhidden                   40\n",
      "Nlayer                    2\n",
      "K                         150\n",
      "p_flip                    0.0\n",
      "Nt                        12\n"
     ]
    },
    {
     "name": "stderr",
     "output_type": "stream",
     "text": [
      "100%|██████████| 10/10 [00:12<00:00,  1.26s/it]\n",
      "100%|██████████| 10/10 [00:12<00:00,  1.23s/it]\n",
      "100%|██████████| 10/10 [00:11<00:00,  1.14s/it]\n"
     ]
    },
    {
     "name": "stdout",
     "output_type": "stream",
     "text": [
      "acc_mean                  0.784\n",
      "acc_std                   0.017\n",
      "\n",
      "========== TRIAL 021 ==========\n",
      "Nin_virtual               12\n",
      "Nhidden                   40\n",
      "Nlayer                    2\n",
      "K                         150\n",
      "p_flip                    0.0\n",
      "Nt                        16\n"
     ]
    },
    {
     "name": "stderr",
     "output_type": "stream",
     "text": [
      "100%|██████████| 10/10 [00:13<00:00,  1.34s/it]\n",
      "100%|██████████| 10/10 [00:13<00:00,  1.31s/it]\n",
      "100%|██████████| 10/10 [00:12<00:00,  1.22s/it]\n"
     ]
    },
    {
     "name": "stdout",
     "output_type": "stream",
     "text": [
      "acc_mean                  0.781\n",
      "acc_std                   0.035\n",
      "\n",
      "========== TRIAL 022 ==========\n",
      "Nin_virtual               12\n",
      "Nhidden                   40\n",
      "Nlayer                    2\n",
      "K                         150\n",
      "p_flip                    0.02\n",
      "Nt                        8\n"
     ]
    },
    {
     "name": "stderr",
     "output_type": "stream",
     "text": [
      "100%|██████████| 10/10 [00:11<00:00,  1.14s/it]\n",
      "100%|██████████| 10/10 [00:11<00:00,  1.14s/it]\n",
      "100%|██████████| 10/10 [00:12<00:00,  1.25s/it]\n"
     ]
    },
    {
     "name": "stdout",
     "output_type": "stream",
     "text": [
      "acc_mean                  0.783\n",
      "acc_std                   0.025\n",
      "\n",
      "========== TRIAL 023 ==========\n",
      "Nin_virtual               12\n",
      "Nhidden                   40\n",
      "Nlayer                    2\n",
      "K                         150\n",
      "p_flip                    0.02\n",
      "Nt                        12\n"
     ]
    },
    {
     "name": "stderr",
     "output_type": "stream",
     "text": [
      "100%|██████████| 10/10 [00:11<00:00,  1.15s/it]\n",
      "100%|██████████| 10/10 [00:11<00:00,  1.14s/it]\n",
      "100%|██████████| 10/10 [00:11<00:00,  1.13s/it]\n"
     ]
    },
    {
     "name": "stdout",
     "output_type": "stream",
     "text": [
      "acc_mean                  0.767\n",
      "acc_std                   0.037\n",
      "\n",
      "========== TRIAL 024 ==========\n",
      "Nin_virtual               12\n",
      "Nhidden                   40\n",
      "Nlayer                    2\n",
      "K                         150\n",
      "p_flip                    0.02\n",
      "Nt                        16\n"
     ]
    },
    {
     "name": "stderr",
     "output_type": "stream",
     "text": [
      "100%|██████████| 10/10 [00:13<00:00,  1.31s/it]\n",
      "100%|██████████| 10/10 [00:12<00:00,  1.21s/it]\n",
      "100%|██████████| 10/10 [00:12<00:00,  1.21s/it]\n"
     ]
    },
    {
     "name": "stdout",
     "output_type": "stream",
     "text": [
      "acc_mean                  0.767\n",
      "acc_std                   0.017\n",
      "\n",
      "========== TRIAL 025 ==========\n",
      "Nin_virtual               12\n",
      "Nhidden                   40\n",
      "Nlayer                    2\n",
      "K                         150\n",
      "p_flip                    0.04\n",
      "Nt                        8\n"
     ]
    },
    {
     "name": "stderr",
     "output_type": "stream",
     "text": [
      "100%|██████████| 10/10 [00:11<00:00,  1.14s/it]\n",
      "100%|██████████| 10/10 [00:12<00:00,  1.24s/it]\n",
      "100%|██████████| 10/10 [00:11<00:00,  1.13s/it]\n"
     ]
    },
    {
     "name": "stdout",
     "output_type": "stream",
     "text": [
      "acc_mean                  0.755\n",
      "acc_std                   0.035\n",
      "\n",
      "========== TRIAL 026 ==========\n",
      "Nin_virtual               12\n",
      "Nhidden                   40\n",
      "Nlayer                    2\n",
      "K                         150\n",
      "p_flip                    0.04\n",
      "Nt                        12\n"
     ]
    },
    {
     "name": "stderr",
     "output_type": "stream",
     "text": [
      "100%|██████████| 10/10 [00:11<00:00,  1.15s/it]\n",
      "100%|██████████| 10/10 [00:11<00:00,  1.13s/it]\n",
      "100%|██████████| 10/10 [00:11<00:00,  1.13s/it]\n"
     ]
    },
    {
     "name": "stdout",
     "output_type": "stream",
     "text": [
      "acc_mean                  0.738\n",
      "acc_std                   0.031\n",
      "\n",
      "========== TRIAL 027 ==========\n",
      "Nin_virtual               12\n",
      "Nhidden                   40\n",
      "Nlayer                    2\n",
      "K                         150\n",
      "p_flip                    0.04\n",
      "Nt                        16\n"
     ]
    },
    {
     "name": "stderr",
     "output_type": "stream",
     "text": [
      "100%|██████████| 10/10 [00:13<00:00,  1.34s/it]\n",
      "100%|██████████| 10/10 [00:12<00:00,  1.21s/it]\n",
      "100%|██████████| 10/10 [00:12<00:00,  1.21s/it]\n"
     ]
    },
    {
     "name": "stdout",
     "output_type": "stream",
     "text": [
      "acc_mean                  0.757\n",
      "acc_std                   0.030\n",
      "\n",
      "========== TRIAL 028 ==========\n",
      "Nin_virtual               12\n",
      "Nhidden                   40\n",
      "Nlayer                    2\n",
      "K                         200\n",
      "p_flip                    0.0\n",
      "Nt                        8\n"
     ]
    },
    {
     "name": "stderr",
     "output_type": "stream",
     "text": [
      "100%|██████████| 10/10 [00:13<00:00,  1.37s/it]\n",
      "100%|██████████| 10/10 [00:13<00:00,  1.35s/it]\n",
      "100%|██████████| 10/10 [00:12<00:00,  1.23s/it]\n"
     ]
    },
    {
     "name": "stdout",
     "output_type": "stream",
     "text": [
      "acc_mean                  0.804\n",
      "acc_std                   0.010\n",
      "\n",
      "========== TRIAL 029 ==========\n",
      "Nin_virtual               12\n",
      "Nhidden                   40\n",
      "Nlayer                    2\n",
      "K                         200\n",
      "p_flip                    0.0\n",
      "Nt                        12\n"
     ]
    },
    {
     "name": "stderr",
     "output_type": "stream",
     "text": [
      "100%|██████████| 10/10 [00:13<00:00,  1.36s/it]\n",
      "100%|██████████| 10/10 [00:12<00:00,  1.24s/it]\n",
      "100%|██████████| 10/10 [00:12<00:00,  1.24s/it]\n"
     ]
    },
    {
     "name": "stdout",
     "output_type": "stream",
     "text": [
      "acc_mean                  0.788\n",
      "acc_std                   0.038\n",
      "\n",
      "========== TRIAL 030 ==========\n",
      "Nin_virtual               12\n",
      "Nhidden                   40\n",
      "Nlayer                    2\n",
      "K                         200\n",
      "p_flip                    0.0\n",
      "Nt                        16\n"
     ]
    },
    {
     "name": "stderr",
     "output_type": "stream",
     "text": [
      "100%|██████████| 10/10 [00:15<00:00,  1.57s/it]\n",
      "100%|██████████| 10/10 [00:13<00:00,  1.30s/it]\n",
      "100%|██████████| 10/10 [00:13<00:00,  1.31s/it]\n"
     ]
    },
    {
     "name": "stdout",
     "output_type": "stream",
     "text": [
      "acc_mean                  0.794\n",
      "acc_std                   0.005\n",
      "\n",
      "========== TRIAL 031 ==========\n",
      "Nin_virtual               12\n",
      "Nhidden                   40\n",
      "Nlayer                    2\n",
      "K                         200\n",
      "p_flip                    0.02\n",
      "Nt                        8\n"
     ]
    },
    {
     "name": "stderr",
     "output_type": "stream",
     "text": [
      "100%|██████████| 10/10 [00:12<00:00,  1.24s/it]\n",
      "100%|██████████| 10/10 [00:12<00:00,  1.23s/it]\n",
      "100%|██████████| 10/10 [00:12<00:00,  1.24s/it]\n"
     ]
    },
    {
     "name": "stdout",
     "output_type": "stream",
     "text": [
      "acc_mean                  0.778\n",
      "acc_std                   0.021\n",
      "\n",
      "========== TRIAL 032 ==========\n",
      "Nin_virtual               12\n",
      "Nhidden                   40\n",
      "Nlayer                    2\n",
      "K                         200\n",
      "p_flip                    0.02\n",
      "Nt                        12\n"
     ]
    },
    {
     "name": "stderr",
     "output_type": "stream",
     "text": [
      "100%|██████████| 10/10 [00:12<00:00,  1.24s/it]\n",
      "100%|██████████| 10/10 [00:12<00:00,  1.24s/it]\n",
      "100%|██████████| 10/10 [00:12<00:00,  1.24s/it]\n"
     ]
    },
    {
     "name": "stdout",
     "output_type": "stream",
     "text": [
      "acc_mean                  0.779\n",
      "acc_std                   0.016\n",
      "\n",
      "========== TRIAL 033 ==========\n",
      "Nin_virtual               12\n",
      "Nhidden                   40\n",
      "Nlayer                    2\n",
      "K                         200\n",
      "p_flip                    0.02\n",
      "Nt                        16\n"
     ]
    },
    {
     "name": "stderr",
     "output_type": "stream",
     "text": [
      "100%|██████████| 10/10 [00:13<00:00,  1.32s/it]\n",
      "100%|██████████| 10/10 [00:13<00:00,  1.31s/it]\n",
      "100%|██████████| 10/10 [00:14<00:00,  1.47s/it]\n"
     ]
    },
    {
     "name": "stdout",
     "output_type": "stream",
     "text": [
      "acc_mean                  0.759\n",
      "acc_std                   0.031\n",
      "\n",
      "========== TRIAL 034 ==========\n",
      "Nin_virtual               12\n",
      "Nhidden                   40\n",
      "Nlayer                    2\n",
      "K                         200\n",
      "p_flip                    0.04\n",
      "Nt                        8\n"
     ]
    },
    {
     "name": "stderr",
     "output_type": "stream",
     "text": [
      "100%|██████████| 10/10 [00:12<00:00,  1.24s/it]\n",
      "100%|██████████| 10/10 [00:12<00:00,  1.23s/it]\n",
      "100%|██████████| 10/10 [00:12<00:00,  1.24s/it]\n"
     ]
    },
    {
     "name": "stdout",
     "output_type": "stream",
     "text": [
      "acc_mean                  0.773\n",
      "acc_std                   0.026\n",
      "\n",
      "========== TRIAL 035 ==========\n",
      "Nin_virtual               12\n",
      "Nhidden                   40\n",
      "Nlayer                    2\n",
      "K                         200\n",
      "p_flip                    0.04\n",
      "Nt                        12\n"
     ]
    },
    {
     "name": "stderr",
     "output_type": "stream",
     "text": [
      "100%|██████████| 10/10 [00:12<00:00,  1.24s/it]\n",
      "100%|██████████| 10/10 [00:12<00:00,  1.23s/it]\n",
      "100%|██████████| 10/10 [00:12<00:00,  1.24s/it]\n"
     ]
    },
    {
     "name": "stdout",
     "output_type": "stream",
     "text": [
      "acc_mean                  0.763\n",
      "acc_std                   0.018\n",
      "\n",
      "========== TRIAL 036 ==========\n",
      "Nin_virtual               12\n",
      "Nhidden                   40\n",
      "Nlayer                    2\n",
      "K                         200\n",
      "p_flip                    0.04\n",
      "Nt                        16\n"
     ]
    },
    {
     "name": "stderr",
     "output_type": "stream",
     "text": [
      "100%|██████████| 10/10 [00:13<00:00,  1.31s/it]\n",
      "100%|██████████| 10/10 [00:13<00:00,  1.32s/it]\n",
      "100%|██████████| 10/10 [00:13<00:00,  1.32s/it]\n"
     ]
    },
    {
     "name": "stdout",
     "output_type": "stream",
     "text": [
      "acc_mean                  0.748\n",
      "acc_std                   0.053\n",
      "\n",
      "========== TRIAL 037 ==========\n",
      "Nin_virtual               12\n",
      "Nhidden                   40\n",
      "Nlayer                    3\n",
      "K                         50\n",
      "p_flip                    0.0\n",
      "Nt                        8\n"
     ]
    },
    {
     "name": "stderr",
     "output_type": "stream",
     "text": [
      "100%|██████████| 10/10 [00:11<00:00,  1.19s/it]\n"
     ]
    },
    {
     "name": "stdout",
     "output_type": "stream",
     "text": [
      "Warning: A NaN appeared. Likely not enough spikes have been simulated. Try increasing `K`.\n"
     ]
    },
    {
     "name": "stderr",
     "output_type": "stream",
     "text": [
      "100%|██████████| 10/10 [00:11<00:00,  1.16s/it]\n",
      "100%|██████████| 10/10 [00:10<00:00,  1.01s/it]\n"
     ]
    },
    {
     "name": "stdout",
     "output_type": "stream",
     "text": [
      "Warning: A NaN appeared. Likely not enough spikes have been simulated. Try increasing `K`.\n",
      "acc_mean                  0.118\n",
      "acc_std                   0.102\n",
      "\n",
      "========== TRIAL 038 ==========\n",
      "Nin_virtual               12\n",
      "Nhidden                   40\n",
      "Nlayer                    3\n",
      "K                         50\n",
      "p_flip                    0.0\n",
      "Nt                        12\n"
     ]
    },
    {
     "name": "stderr",
     "output_type": "stream",
     "text": [
      "100%|██████████| 10/10 [00:11<00:00,  1.13s/it]\n"
     ]
    },
    {
     "name": "stdout",
     "output_type": "stream",
     "text": [
      "Warning: A NaN appeared. Likely not enough spikes have been simulated. Try increasing `K`.\n"
     ]
    },
    {
     "name": "stderr",
     "output_type": "stream",
     "text": [
      "100%|██████████| 10/10 [00:10<00:00,  1.01s/it]\n"
     ]
    },
    {
     "name": "stdout",
     "output_type": "stream",
     "text": [
      "Warning: A NaN appeared. Likely not enough spikes have been simulated. Try increasing `K`.\n"
     ]
    },
    {
     "name": "stderr",
     "output_type": "stream",
     "text": [
      "100%|██████████| 10/10 [00:10<00:00,  1.00s/it]\n"
     ]
    },
    {
     "name": "stdout",
     "output_type": "stream",
     "text": [
      "Warning: A NaN appeared. Likely not enough spikes have been simulated. Try increasing `K`.\n",
      "acc_mean                  0.049\n",
      "acc_std                   0.004\n",
      "\n",
      "========== TRIAL 039 ==========\n",
      "Nin_virtual               12\n",
      "Nhidden                   40\n",
      "Nlayer                    3\n",
      "K                         50\n",
      "p_flip                    0.0\n",
      "Nt                        16\n"
     ]
    },
    {
     "name": "stderr",
     "output_type": "stream",
     "text": [
      "100%|██████████| 10/10 [00:12<00:00,  1.21s/it]\n",
      "100%|██████████| 10/10 [00:12<00:00,  1.25s/it]\n",
      "100%|██████████| 10/10 [00:10<00:00,  1.09s/it]\n"
     ]
    },
    {
     "name": "stdout",
     "output_type": "stream",
     "text": [
      "Warning: A NaN appeared. Likely not enough spikes have been simulated. Try increasing `K`.\n",
      "acc_mean                  0.210\n",
      "acc_std                   0.121\n",
      "\n",
      "========== TRIAL 040 ==========\n",
      "Nin_virtual               12\n",
      "Nhidden                   40\n",
      "Nlayer                    3\n",
      "K                         50\n",
      "p_flip                    0.02\n",
      "Nt                        8\n"
     ]
    },
    {
     "name": "stderr",
     "output_type": "stream",
     "text": [
      "100%|██████████| 10/10 [00:10<00:00,  1.01s/it]\n"
     ]
    },
    {
     "name": "stdout",
     "output_type": "stream",
     "text": [
      "Warning: A NaN appeared. Likely not enough spikes have been simulated. Try increasing `K`.\n"
     ]
    },
    {
     "name": "stderr",
     "output_type": "stream",
     "text": [
      "100%|██████████| 10/10 [00:10<00:00,  1.02s/it]\n"
     ]
    },
    {
     "name": "stdout",
     "output_type": "stream",
     "text": [
      "Warning: A NaN appeared. Likely not enough spikes have been simulated. Try increasing `K`.\n"
     ]
    },
    {
     "name": "stderr",
     "output_type": "stream",
     "text": [
      "100%|██████████| 10/10 [00:10<00:00,  1.02s/it]\n"
     ]
    },
    {
     "name": "stdout",
     "output_type": "stream",
     "text": [
      "Warning: A NaN appeared. Likely not enough spikes have been simulated. Try increasing `K`.\n",
      "acc_mean                  0.049\n",
      "acc_std                   0.004\n",
      "\n",
      "========== TRIAL 041 ==========\n",
      "Nin_virtual               12\n",
      "Nhidden                   40\n",
      "Nlayer                    3\n",
      "K                         50\n",
      "p_flip                    0.02\n",
      "Nt                        12\n"
     ]
    },
    {
     "name": "stderr",
     "output_type": "stream",
     "text": [
      "100%|██████████| 10/10 [00:10<00:00,  1.01s/it]\n"
     ]
    },
    {
     "name": "stdout",
     "output_type": "stream",
     "text": [
      "Warning: A NaN appeared. Likely not enough spikes have been simulated. Try increasing `K`.\n"
     ]
    },
    {
     "name": "stderr",
     "output_type": "stream",
     "text": [
      "100%|██████████| 10/10 [00:10<00:00,  1.00s/it]\n",
      "100%|██████████| 10/10 [00:12<00:00,  1.20s/it]\n"
     ]
    },
    {
     "name": "stdout",
     "output_type": "stream",
     "text": [
      "Warning: A NaN appeared. Likely not enough spikes have been simulated. Try increasing `K`.\n",
      "acc_mean                  0.145\n",
      "acc_std                   0.140\n",
      "\n",
      "========== TRIAL 042 ==========\n",
      "Nin_virtual               12\n",
      "Nhidden                   40\n",
      "Nlayer                    3\n",
      "K                         50\n",
      "p_flip                    0.02\n",
      "Nt                        16\n"
     ]
    },
    {
     "name": "stderr",
     "output_type": "stream",
     "text": [
      "100%|██████████| 10/10 [00:10<00:00,  1.09s/it]\n",
      "100%|██████████| 10/10 [00:10<00:00,  1.09s/it]\n",
      "100%|██████████| 10/10 [00:10<00:00,  1.08s/it]\n"
     ]
    },
    {
     "name": "stdout",
     "output_type": "stream",
     "text": [
      "Warning: A NaN appeared. Likely not enough spikes have been simulated. Try increasing `K`.\n",
      "acc_mean                  0.174\n",
      "acc_std                   0.091\n",
      "\n",
      "========== TRIAL 043 ==========\n",
      "Nin_virtual               12\n",
      "Nhidden                   40\n",
      "Nlayer                    3\n",
      "K                         50\n",
      "p_flip                    0.04\n",
      "Nt                        8\n"
     ]
    },
    {
     "name": "stderr",
     "output_type": "stream",
     "text": [
      "100%|██████████| 10/10 [00:10<00:00,  1.01s/it]\n",
      "100%|██████████| 10/10 [00:10<00:00,  1.02s/it]\n",
      "100%|██████████| 10/10 [00:10<00:00,  1.02s/it]\n"
     ]
    },
    {
     "name": "stdout",
     "output_type": "stream",
     "text": [
      "Warning: A NaN appeared. Likely not enough spikes have been simulated. Try increasing `K`.\n",
      "acc_mean                  0.184\n",
      "acc_std                   0.097\n",
      "\n",
      "========== TRIAL 044 ==========\n",
      "Nin_virtual               12\n",
      "Nhidden                   40\n",
      "Nlayer                    3\n",
      "K                         50\n",
      "p_flip                    0.04\n",
      "Nt                        12\n"
     ]
    },
    {
     "name": "stderr",
     "output_type": "stream",
     "text": [
      "100%|██████████| 10/10 [00:10<00:00,  1.02s/it]\n",
      "100%|██████████| 10/10 [00:10<00:00,  1.01s/it]\n",
      "100%|██████████| 10/10 [00:10<00:00,  1.02s/it]\n"
     ]
    },
    {
     "name": "stdout",
     "output_type": "stream",
     "text": [
      "Warning: A NaN appeared. Likely not enough spikes have been simulated. Try increasing `K`.\n",
      "acc_mean                  0.139\n",
      "acc_std                   0.065\n",
      "\n",
      "========== TRIAL 045 ==========\n",
      "Nin_virtual               12\n",
      "Nhidden                   40\n",
      "Nlayer                    3\n",
      "K                         50\n",
      "p_flip                    0.04\n",
      "Nt                        16\n"
     ]
    },
    {
     "name": "stderr",
     "output_type": "stream",
     "text": [
      "100%|██████████| 10/10 [00:10<00:00,  1.09s/it]\n",
      "100%|██████████| 10/10 [00:10<00:00,  1.09s/it]\n",
      "100%|██████████| 10/10 [00:10<00:00,  1.09s/it]\n"
     ]
    },
    {
     "name": "stdout",
     "output_type": "stream",
     "text": [
      "Warning: A NaN appeared. Likely not enough spikes have been simulated. Try increasing `K`.\n",
      "acc_mean                  0.155\n",
      "acc_std                   0.077\n",
      "\n",
      "========== TRIAL 046 ==========\n",
      "Nin_virtual               12\n",
      "Nhidden                   40\n",
      "Nlayer                    3\n",
      "K                         100\n",
      "p_flip                    0.0\n",
      "Nt                        8\n"
     ]
    },
    {
     "name": "stderr",
     "output_type": "stream",
     "text": [
      "100%|██████████| 10/10 [00:15<00:00,  1.52s/it]\n",
      "100%|██████████| 10/10 [00:11<00:00,  1.17s/it]\n",
      "100%|██████████| 10/10 [00:11<00:00,  1.18s/it]\n"
     ]
    },
    {
     "name": "stdout",
     "output_type": "stream",
     "text": [
      "acc_mean                  0.678\n",
      "acc_std                   0.018\n",
      "\n",
      "========== TRIAL 047 ==========\n",
      "Nin_virtual               12\n",
      "Nhidden                   40\n",
      "Nlayer                    3\n",
      "K                         100\n",
      "p_flip                    0.0\n",
      "Nt                        12\n"
     ]
    },
    {
     "name": "stderr",
     "output_type": "stream",
     "text": [
      "100%|██████████| 10/10 [00:13<00:00,  1.31s/it]\n",
      "100%|██████████| 10/10 [00:11<00:00,  1.17s/it]\n",
      "100%|██████████| 10/10 [00:11<00:00,  1.18s/it]\n"
     ]
    },
    {
     "name": "stdout",
     "output_type": "stream",
     "text": [
      "acc_mean                  0.733\n",
      "acc_std                   0.018\n",
      "\n",
      "========== TRIAL 048 ==========\n",
      "Nin_virtual               12\n",
      "Nhidden                   40\n",
      "Nlayer                    3\n",
      "K                         100\n",
      "p_flip                    0.0\n",
      "Nt                        16\n"
     ]
    },
    {
     "name": "stderr",
     "output_type": "stream",
     "text": [
      "100%|██████████| 10/10 [00:13<00:00,  1.38s/it]\n",
      "100%|██████████| 10/10 [00:12<00:00,  1.26s/it]\n",
      "100%|██████████| 10/10 [00:12<00:00,  1.25s/it]\n"
     ]
    },
    {
     "name": "stdout",
     "output_type": "stream",
     "text": [
      "acc_mean                  0.696\n",
      "acc_std                   0.008\n",
      "\n",
      "========== TRIAL 049 ==========\n",
      "Nin_virtual               12\n",
      "Nhidden                   40\n",
      "Nlayer                    3\n",
      "K                         100\n",
      "p_flip                    0.02\n",
      "Nt                        8\n"
     ]
    },
    {
     "name": "stderr",
     "output_type": "stream",
     "text": [
      "100%|██████████| 10/10 [00:11<00:00,  1.18s/it]\n",
      "100%|██████████| 10/10 [00:11<00:00,  1.18s/it]\n",
      "100%|██████████| 10/10 [00:11<00:00,  1.18s/it]\n"
     ]
    },
    {
     "name": "stdout",
     "output_type": "stream",
     "text": [
      "acc_mean                  0.678\n",
      "acc_std                   0.040\n",
      "\n",
      "========== TRIAL 050 ==========\n",
      "Nin_virtual               12\n",
      "Nhidden                   40\n",
      "Nlayer                    3\n",
      "K                         100\n",
      "p_flip                    0.02\n",
      "Nt                        12\n"
     ]
    },
    {
     "name": "stderr",
     "output_type": "stream",
     "text": [
      "100%|██████████| 10/10 [00:11<00:00,  1.18s/it]\n",
      "100%|██████████| 10/10 [00:11<00:00,  1.18s/it]\n",
      "100%|██████████| 10/10 [00:13<00:00,  1.40s/it]\n"
     ]
    },
    {
     "name": "stdout",
     "output_type": "stream",
     "text": [
      "acc_mean                  0.681\n",
      "acc_std                   0.015\n",
      "\n",
      "========== TRIAL 051 ==========\n",
      "Nin_virtual               12\n",
      "Nhidden                   40\n",
      "Nlayer                    3\n",
      "K                         100\n",
      "p_flip                    0.02\n",
      "Nt                        16\n"
     ]
    },
    {
     "name": "stderr",
     "output_type": "stream",
     "text": [
      "100%|██████████| 10/10 [00:12<00:00,  1.26s/it]\n",
      "100%|██████████| 10/10 [00:12<00:00,  1.25s/it]\n",
      "100%|██████████| 10/10 [00:12<00:00,  1.26s/it]\n"
     ]
    },
    {
     "name": "stdout",
     "output_type": "stream",
     "text": [
      "acc_mean                  0.693\n",
      "acc_std                   0.033\n",
      "\n",
      "========== TRIAL 052 ==========\n",
      "Nin_virtual               12\n",
      "Nhidden                   40\n",
      "Nlayer                    3\n",
      "K                         100\n",
      "p_flip                    0.04\n",
      "Nt                        8\n"
     ]
    },
    {
     "name": "stderr",
     "output_type": "stream",
     "text": [
      "100%|██████████| 10/10 [00:11<00:00,  1.18s/it]\n",
      "100%|██████████| 10/10 [00:11<00:00,  1.19s/it]\n",
      "100%|██████████| 10/10 [00:11<00:00,  1.18s/it]\n"
     ]
    },
    {
     "name": "stdout",
     "output_type": "stream",
     "text": [
      "acc_mean                  0.666\n",
      "acc_std                   0.028\n",
      "\n",
      "========== TRIAL 053 ==========\n",
      "Nin_virtual               12\n",
      "Nhidden                   40\n",
      "Nlayer                    3\n",
      "K                         100\n",
      "p_flip                    0.04\n",
      "Nt                        12\n"
     ]
    },
    {
     "name": "stderr",
     "output_type": "stream",
     "text": [
      "100%|██████████| 10/10 [00:14<00:00,  1.40s/it]\n",
      "100%|██████████| 10/10 [00:11<00:00,  1.18s/it]\n",
      "100%|██████████| 10/10 [00:11<00:00,  1.18s/it]\n"
     ]
    },
    {
     "name": "stdout",
     "output_type": "stream",
     "text": [
      "acc_mean                  0.678\n",
      "acc_std                   0.025\n",
      "\n",
      "========== TRIAL 054 ==========\n",
      "Nin_virtual               12\n",
      "Nhidden                   40\n",
      "Nlayer                    3\n",
      "K                         100\n",
      "p_flip                    0.04\n",
      "Nt                        16\n"
     ]
    },
    {
     "name": "stderr",
     "output_type": "stream",
     "text": [
      "100%|██████████| 10/10 [00:12<00:00,  1.26s/it]\n",
      "100%|██████████| 10/10 [00:12<00:00,  1.27s/it]\n",
      "100%|██████████| 10/10 [00:12<00:00,  1.27s/it]\n"
     ]
    },
    {
     "name": "stdout",
     "output_type": "stream",
     "text": [
      "acc_mean                  0.689\n",
      "acc_std                   0.009\n",
      "\n",
      "========== TRIAL 055 ==========\n",
      "Nin_virtual               12\n",
      "Nhidden                   40\n",
      "Nlayer                    3\n",
      "K                         150\n",
      "p_flip                    0.0\n",
      "Nt                        8\n"
     ]
    },
    {
     "name": "stderr",
     "output_type": "stream",
     "text": [
      "100%|██████████| 10/10 [00:14<00:00,  1.48s/it]\n",
      "100%|██████████| 10/10 [00:15<00:00,  1.56s/it]\n",
      "100%|██████████| 10/10 [00:13<00:00,  1.33s/it]\n"
     ]
    },
    {
     "name": "stdout",
     "output_type": "stream",
     "text": [
      "acc_mean                  0.676\n",
      "acc_std                   0.009\n",
      "\n",
      "========== TRIAL 056 ==========\n",
      "Nin_virtual               12\n",
      "Nhidden                   40\n",
      "Nlayer                    3\n",
      "K                         150\n",
      "p_flip                    0.0\n",
      "Nt                        12\n"
     ]
    },
    {
     "name": "stderr",
     "output_type": "stream",
     "text": [
      "100%|██████████| 10/10 [00:14<00:00,  1.46s/it]\n",
      "100%|██████████| 10/10 [00:13<00:00,  1.34s/it]\n",
      "100%|██████████| 10/10 [00:13<00:00,  1.34s/it]\n"
     ]
    },
    {
     "name": "stdout",
     "output_type": "stream",
     "text": [
      "acc_mean                  0.698\n",
      "acc_std                   0.028\n",
      "\n",
      "========== TRIAL 057 ==========\n",
      "Nin_virtual               12\n",
      "Nhidden                   40\n",
      "Nlayer                    3\n",
      "K                         150\n",
      "p_flip                    0.0\n",
      "Nt                        16\n"
     ]
    },
    {
     "name": "stderr",
     "output_type": "stream",
     "text": [
      "100%|██████████| 10/10 [00:15<00:00,  1.54s/it]\n",
      "100%|██████████| 10/10 [00:14<00:00,  1.42s/it]\n",
      "100%|██████████| 10/10 [00:16<00:00,  1.64s/it]\n"
     ]
    },
    {
     "name": "stdout",
     "output_type": "stream",
     "text": [
      "acc_mean                  0.713\n",
      "acc_std                   0.013\n",
      "\n",
      "========== TRIAL 058 ==========\n",
      "Nin_virtual               12\n",
      "Nhidden                   40\n",
      "Nlayer                    3\n",
      "K                         150\n",
      "p_flip                    0.02\n",
      "Nt                        8\n"
     ]
    },
    {
     "name": "stderr",
     "output_type": "stream",
     "text": [
      "100%|██████████| 10/10 [00:13<00:00,  1.35s/it]\n",
      "100%|██████████| 10/10 [00:13<00:00,  1.34s/it]\n",
      "100%|██████████| 10/10 [00:13<00:00,  1.34s/it]\n"
     ]
    },
    {
     "name": "stdout",
     "output_type": "stream",
     "text": [
      "acc_mean                  0.680\n",
      "acc_std                   0.013\n",
      "\n",
      "========== TRIAL 059 ==========\n",
      "Nin_virtual               12\n",
      "Nhidden                   40\n",
      "Nlayer                    3\n",
      "K                         150\n",
      "p_flip                    0.02\n",
      "Nt                        12\n"
     ]
    },
    {
     "name": "stderr",
     "output_type": "stream",
     "text": [
      "100%|██████████| 10/10 [00:13<00:00,  1.35s/it]\n",
      "100%|██████████| 10/10 [00:13<00:00,  1.35s/it]\n",
      "100%|██████████| 10/10 [00:13<00:00,  1.33s/it]\n"
     ]
    },
    {
     "name": "stdout",
     "output_type": "stream",
     "text": [
      "acc_mean                  0.697\n",
      "acc_std                   0.025\n",
      "\n",
      "========== TRIAL 060 ==========\n",
      "Nin_virtual               12\n",
      "Nhidden                   40\n",
      "Nlayer                    3\n",
      "K                         150\n",
      "p_flip                    0.02\n",
      "Nt                        16\n"
     ]
    },
    {
     "name": "stderr",
     "output_type": "stream",
     "text": [
      "100%|██████████| 10/10 [00:16<00:00,  1.66s/it]\n",
      "100%|██████████| 10/10 [00:14<00:00,  1.42s/it]\n",
      "100%|██████████| 10/10 [00:14<00:00,  1.41s/it]\n"
     ]
    },
    {
     "name": "stdout",
     "output_type": "stream",
     "text": [
      "acc_mean                  0.701\n",
      "acc_std                   0.020\n",
      "\n",
      "========== TRIAL 061 ==========\n",
      "Nin_virtual               12\n",
      "Nhidden                   40\n",
      "Nlayer                    3\n",
      "K                         150\n",
      "p_flip                    0.04\n",
      "Nt                        8\n"
     ]
    },
    {
     "name": "stderr",
     "output_type": "stream",
     "text": [
      "100%|██████████| 10/10 [00:13<00:00,  1.34s/it]\n",
      "100%|██████████| 10/10 [00:13<00:00,  1.34s/it]\n",
      "100%|██████████| 10/10 [00:13<00:00,  1.35s/it]\n"
     ]
    },
    {
     "name": "stdout",
     "output_type": "stream",
     "text": [
      "acc_mean                  0.661\n",
      "acc_std                   0.026\n",
      "\n",
      "========== TRIAL 062 ==========\n",
      "Nin_virtual               12\n",
      "Nhidden                   40\n",
      "Nlayer                    3\n",
      "K                         150\n",
      "p_flip                    0.04\n",
      "Nt                        12\n"
     ]
    },
    {
     "name": "stderr",
     "output_type": "stream",
     "text": [
      "100%|██████████| 10/10 [00:13<00:00,  1.35s/it]\n",
      "100%|██████████| 10/10 [00:15<00:00,  1.58s/it]\n",
      "100%|██████████| 10/10 [00:13<00:00,  1.34s/it]\n"
     ]
    },
    {
     "name": "stdout",
     "output_type": "stream",
     "text": [
      "acc_mean                  0.667\n",
      "acc_std                   0.025\n",
      "\n",
      "========== TRIAL 063 ==========\n",
      "Nin_virtual               12\n",
      "Nhidden                   40\n",
      "Nlayer                    3\n",
      "K                         150\n",
      "p_flip                    0.04\n",
      "Nt                        16\n"
     ]
    },
    {
     "name": "stderr",
     "output_type": "stream",
     "text": [
      "100%|██████████| 10/10 [00:14<00:00,  1.43s/it]\n",
      "100%|██████████| 10/10 [00:14<00:00,  1.42s/it]\n",
      "100%|██████████| 10/10 [00:14<00:00,  1.41s/it]\n"
     ]
    },
    {
     "name": "stdout",
     "output_type": "stream",
     "text": [
      "acc_mean                  0.681\n",
      "acc_std                   0.024\n",
      "\n",
      "========== TRIAL 064 ==========\n",
      "Nin_virtual               12\n",
      "Nhidden                   40\n",
      "Nlayer                    3\n",
      "K                         200\n",
      "p_flip                    0.0\n",
      "Nt                        8\n"
     ]
    },
    {
     "name": "stderr",
     "output_type": "stream",
     "text": [
      "100%|██████████| 10/10 [00:16<00:00,  1.65s/it]\n",
      "100%|██████████| 10/10 [00:14<00:00,  1.50s/it]\n",
      "100%|██████████| 10/10 [00:17<00:00,  1.75s/it]\n"
     ]
    },
    {
     "name": "stdout",
     "output_type": "stream",
     "text": [
      "acc_mean                  0.692\n",
      "acc_std                   0.015\n",
      "\n",
      "========== TRIAL 065 ==========\n",
      "Nin_virtual               12\n",
      "Nhidden                   40\n",
      "Nlayer                    3\n",
      "K                         200\n",
      "p_flip                    0.0\n",
      "Nt                        12\n"
     ]
    },
    {
     "name": "stderr",
     "output_type": "stream",
     "text": [
      "100%|██████████| 10/10 [00:16<00:00,  1.62s/it]\n",
      "100%|██████████| 10/10 [00:14<00:00,  1.49s/it]\n",
      "100%|██████████| 10/10 [00:15<00:00,  1.50s/it]\n"
     ]
    },
    {
     "name": "stdout",
     "output_type": "stream",
     "text": [
      "acc_mean                  0.696\n",
      "acc_std                   0.014\n",
      "\n",
      "========== TRIAL 066 ==========\n",
      "Nin_virtual               12\n",
      "Nhidden                   40\n",
      "Nlayer                    3\n",
      "K                         200\n",
      "p_flip                    0.0\n",
      "Nt                        16\n"
     ]
    },
    {
     "name": "stderr",
     "output_type": "stream",
     "text": [
      "  0%|          | 0/10 [00:00<?, ?it/s]2024-08-28 21:15:55.118935: W external/xla/xla/tsl/framework/bfc_allocator.cc:482] Allocator (GPU_0_bfc) ran out of memory trying to allocate 863.14MiB (rounded to 905066752)requested by op \n",
      "2024-08-28 21:15:55.119180: W external/xla/xla/tsl/framework/bfc_allocator.cc:494] ****________________________________________________________________________________________________\n",
      "E0828 21:15:55.119218  308455 pjrt_stream_executor_client.cc:3067] Execution of replica 0 failed: RESOURCE_EXHAUSTED: Out of memory while trying to allocate 905066648 bytes.\n",
      "  0%|          | 0/10 [00:13<?, ?it/s]\n"
     ]
    },
    {
     "name": "stdout",
     "output_type": "stream",
     "text": [
      "error                     XlaRuntimeError('RESOURCE_EXHAUSTED: Out of memory while trying to allocate 905066648 bytes.')\n",
      "\n",
      "========== TRIAL 067 ==========\n",
      "Nin_virtual               12\n",
      "Nhidden                   40\n",
      "Nlayer                    3\n",
      "K                         200\n",
      "p_flip                    0.02\n",
      "Nt                        8\n"
     ]
    },
    {
     "name": "stderr",
     "output_type": "stream",
     "text": [
      "100%|██████████| 10/10 [00:15<00:00,  1.51s/it]\n",
      "100%|██████████| 10/10 [00:15<00:00,  1.51s/it]\n",
      "100%|██████████| 10/10 [00:14<00:00,  1.49s/it]\n"
     ]
    },
    {
     "name": "stdout",
     "output_type": "stream",
     "text": [
      "acc_mean                  0.684\n",
      "acc_std                   0.020\n",
      "\n",
      "========== TRIAL 068 ==========\n",
      "Nin_virtual               12\n",
      "Nhidden                   40\n",
      "Nlayer                    3\n",
      "K                         200\n",
      "p_flip                    0.02\n",
      "Nt                        12\n"
     ]
    },
    {
     "name": "stderr",
     "output_type": "stream",
     "text": [
      "100%|██████████| 10/10 [00:17<00:00,  1.76s/it]\n",
      "100%|██████████| 10/10 [00:15<00:00,  1.51s/it]\n",
      "100%|██████████| 10/10 [00:15<00:00,  1.50s/it]\n"
     ]
    },
    {
     "name": "stdout",
     "output_type": "stream",
     "text": [
      "acc_mean                  0.674\n",
      "acc_std                   0.031\n",
      "\n",
      "========== TRIAL 069 ==========\n",
      "Nin_virtual               12\n",
      "Nhidden                   40\n",
      "Nlayer                    3\n",
      "K                         200\n",
      "p_flip                    0.02\n",
      "Nt                        16\n"
     ]
    },
    {
     "name": "stderr",
     "output_type": "stream",
     "text": [
      "  0%|          | 0/10 [00:00<?, ?it/s]2024-08-28 21:18:13.172056: W external/xla/xla/tsl/framework/bfc_allocator.cc:482] Allocator (GPU_0_bfc) ran out of memory trying to allocate 863.14MiB (rounded to 905066752)requested by op \n",
      "2024-08-28 21:18:13.172284: W external/xla/xla/tsl/framework/bfc_allocator.cc:494] ******______________________________________________________________________________________________\n",
      "E0828 21:18:13.172323  308455 pjrt_stream_executor_client.cc:3067] Execution of replica 0 failed: RESOURCE_EXHAUSTED: Out of memory while trying to allocate 905066648 bytes.\n",
      "  0%|          | 0/10 [00:13<?, ?it/s]\n"
     ]
    },
    {
     "name": "stdout",
     "output_type": "stream",
     "text": [
      "error                     XlaRuntimeError('RESOURCE_EXHAUSTED: Out of memory while trying to allocate 905066648 bytes.')\n",
      "\n",
      "========== TRIAL 070 ==========\n",
      "Nin_virtual               12\n",
      "Nhidden                   40\n",
      "Nlayer                    3\n",
      "K                         200\n",
      "p_flip                    0.04\n",
      "Nt                        8\n"
     ]
    },
    {
     "name": "stderr",
     "output_type": "stream",
     "text": [
      "100%|██████████| 10/10 [00:15<00:00,  1.51s/it]\n",
      "100%|██████████| 10/10 [00:14<00:00,  1.49s/it]\n",
      "100%|██████████| 10/10 [00:14<00:00,  1.50s/it]\n"
     ]
    },
    {
     "name": "stdout",
     "output_type": "stream",
     "text": [
      "acc_mean                  0.615\n",
      "acc_std                   0.064\n",
      "\n",
      "========== TRIAL 071 ==========\n",
      "Nin_virtual               12\n",
      "Nhidden                   40\n",
      "Nlayer                    3\n",
      "K                         200\n",
      "p_flip                    0.04\n",
      "Nt                        12\n"
     ]
    },
    {
     "name": "stderr",
     "output_type": "stream",
     "text": [
      "100%|██████████| 10/10 [00:17<00:00,  1.76s/it]\n",
      "100%|██████████| 10/10 [00:14<00:00,  1.49s/it]\n",
      "100%|██████████| 10/10 [00:14<00:00,  1.49s/it]\n"
     ]
    },
    {
     "name": "stdout",
     "output_type": "stream",
     "text": [
      "acc_mean                  0.671\n",
      "acc_std                   0.011\n",
      "\n",
      "========== TRIAL 072 ==========\n",
      "Nin_virtual               12\n",
      "Nhidden                   40\n",
      "Nlayer                    3\n",
      "K                         200\n",
      "p_flip                    0.04\n",
      "Nt                        16\n"
     ]
    },
    {
     "name": "stderr",
     "output_type": "stream",
     "text": [
      "  0%|          | 0/10 [00:00<?, ?it/s]2024-08-28 21:20:30.825686: W external/xla/xla/tsl/framework/bfc_allocator.cc:482] Allocator (GPU_0_bfc) ran out of memory trying to allocate 863.14MiB (rounded to 905066752)requested by op \n",
      "2024-08-28 21:20:30.825934: W external/xla/xla/tsl/framework/bfc_allocator.cc:494] *******_____________________________________________________________________________________________\n",
      "E0828 21:20:30.825972  308455 pjrt_stream_executor_client.cc:3067] Execution of replica 0 failed: RESOURCE_EXHAUSTED: Out of memory while trying to allocate 905066648 bytes.\n",
      "  0%|          | 0/10 [00:13<?, ?it/s]\n"
     ]
    },
    {
     "name": "stdout",
     "output_type": "stream",
     "text": [
      "error                     XlaRuntimeError('RESOURCE_EXHAUSTED: Out of memory while trying to allocate 905066648 bytes.')\n",
      "\n",
      "========== TRIAL 073 ==========\n",
      "Nin_virtual               12\n",
      "Nhidden                   60\n",
      "Nlayer                    2\n",
      "K                         50\n",
      "p_flip                    0.0\n",
      "Nt                        8\n"
     ]
    },
    {
     "name": "stderr",
     "output_type": "stream",
     "text": [
      "100%|██████████| 10/10 [00:11<00:00,  1.20s/it]\n",
      "100%|██████████| 10/10 [00:09<00:00,  1.03it/s]\n",
      "100%|██████████| 10/10 [00:09<00:00,  1.04it/s]\n"
     ]
    },
    {
     "name": "stdout",
     "output_type": "stream",
     "text": [
      "acc_mean                  0.774\n",
      "acc_std                   0.019\n",
      "\n",
      "========== TRIAL 074 ==========\n",
      "Nin_virtual               12\n",
      "Nhidden                   60\n",
      "Nlayer                    2\n",
      "K                         50\n",
      "p_flip                    0.0\n",
      "Nt                        12\n"
     ]
    },
    {
     "name": "stderr",
     "output_type": "stream",
     "text": [
      "100%|██████████| 10/10 [00:11<00:00,  1.13s/it]\n",
      "100%|██████████| 10/10 [00:12<00:00,  1.21s/it]\n",
      "100%|██████████| 10/10 [00:09<00:00,  1.03it/s]\n"
     ]
    },
    {
     "name": "stdout",
     "output_type": "stream",
     "text": [
      "acc_mean                  0.788\n",
      "acc_std                   0.020\n",
      "\n",
      "========== TRIAL 075 ==========\n",
      "Nin_virtual               12\n",
      "Nhidden                   60\n",
      "Nlayer                    2\n",
      "K                         50\n",
      "p_flip                    0.0\n",
      "Nt                        16\n"
     ]
    },
    {
     "name": "stderr",
     "output_type": "stream",
     "text": [
      "100%|██████████| 10/10 [00:12<00:00,  1.21s/it]\n",
      "100%|██████████| 10/10 [00:10<00:00,  1.03s/it]\n",
      "100%|██████████| 10/10 [00:10<00:00,  1.04s/it]\n"
     ]
    },
    {
     "name": "stdout",
     "output_type": "stream",
     "text": [
      "acc_mean                  0.799\n",
      "acc_std                   0.023\n",
      "\n",
      "========== TRIAL 076 ==========\n",
      "Nin_virtual               12\n",
      "Nhidden                   60\n",
      "Nlayer                    2\n",
      "K                         50\n",
      "p_flip                    0.02\n",
      "Nt                        8\n"
     ]
    },
    {
     "name": "stderr",
     "output_type": "stream",
     "text": [
      "100%|██████████| 10/10 [00:09<00:00,  1.04it/s]\n",
      "100%|██████████| 10/10 [00:09<00:00,  1.04it/s]\n",
      "100%|██████████| 10/10 [00:12<00:00,  1.23s/it]\n"
     ]
    },
    {
     "name": "stdout",
     "output_type": "stream",
     "text": [
      "acc_mean                  0.777\n",
      "acc_std                   0.018\n",
      "\n",
      "========== TRIAL 077 ==========\n",
      "Nin_virtual               12\n",
      "Nhidden                   60\n",
      "Nlayer                    2\n",
      "K                         50\n",
      "p_flip                    0.02\n",
      "Nt                        12\n"
     ]
    },
    {
     "name": "stderr",
     "output_type": "stream",
     "text": [
      "100%|██████████| 10/10 [00:09<00:00,  1.03it/s]\n",
      "100%|██████████| 10/10 [00:09<00:00,  1.03it/s]\n",
      "100%|██████████| 10/10 [00:09<00:00,  1.03it/s]\n"
     ]
    },
    {
     "name": "stdout",
     "output_type": "stream",
     "text": [
      "acc_mean                  0.761\n",
      "acc_std                   0.027\n",
      "\n",
      "========== TRIAL 078 ==========\n",
      "Nin_virtual               12\n",
      "Nhidden                   60\n",
      "Nlayer                    2\n",
      "K                         50\n",
      "p_flip                    0.02\n",
      "Nt                        16\n"
     ]
    },
    {
     "name": "stderr",
     "output_type": "stream",
     "text": [
      "100%|██████████| 10/10 [00:10<00:00,  1.05s/it]\n",
      "100%|██████████| 10/10 [00:10<00:00,  1.05s/it]\n",
      "100%|██████████| 10/10 [00:10<00:00,  1.06s/it]\n"
     ]
    },
    {
     "name": "stdout",
     "output_type": "stream",
     "text": [
      "acc_mean                  0.785\n",
      "acc_std                   0.014\n",
      "\n",
      "========== TRIAL 079 ==========\n",
      "Nin_virtual               12\n",
      "Nhidden                   60\n",
      "Nlayer                    2\n",
      "K                         50\n",
      "p_flip                    0.04\n",
      "Nt                        8\n"
     ]
    },
    {
     "name": "stderr",
     "output_type": "stream",
     "text": [
      "100%|██████████| 10/10 [00:09<00:00,  1.04it/s]\n",
      "100%|██████████| 10/10 [00:12<00:00,  1.24s/it]\n",
      "100%|██████████| 10/10 [00:09<00:00,  1.03it/s]\n"
     ]
    },
    {
     "name": "stdout",
     "output_type": "stream",
     "text": [
      "acc_mean                  0.754\n",
      "acc_std                   0.030\n",
      "\n",
      "========== TRIAL 080 ==========\n",
      "Nin_virtual               12\n",
      "Nhidden                   60\n",
      "Nlayer                    2\n",
      "K                         50\n",
      "p_flip                    0.04\n",
      "Nt                        12\n"
     ]
    },
    {
     "name": "stderr",
     "output_type": "stream",
     "text": [
      "100%|██████████| 10/10 [00:09<00:00,  1.03it/s]\n",
      "100%|██████████| 10/10 [00:09<00:00,  1.03it/s]\n",
      "100%|██████████| 10/10 [00:09<00:00,  1.02it/s]\n"
     ]
    },
    {
     "name": "stdout",
     "output_type": "stream",
     "text": [
      "acc_mean                  0.766\n",
      "acc_std                   0.034\n",
      "\n",
      "========== TRIAL 081 ==========\n",
      "Nin_virtual               12\n",
      "Nhidden                   60\n",
      "Nlayer                    2\n",
      "K                         50\n",
      "p_flip                    0.04\n",
      "Nt                        16\n"
     ]
    },
    {
     "name": "stderr",
     "output_type": "stream",
     "text": [
      "100%|██████████| 10/10 [00:10<00:00,  1.05s/it]\n",
      "100%|██████████| 10/10 [00:10<00:00,  1.05s/it]\n",
      "100%|██████████| 10/10 [00:13<00:00,  1.33s/it]\n"
     ]
    },
    {
     "name": "stdout",
     "output_type": "stream",
     "text": [
      "acc_mean                  0.760\n",
      "acc_std                   0.032\n",
      "\n",
      "========== TRIAL 082 ==========\n",
      "Nin_virtual               12\n",
      "Nhidden                   60\n",
      "Nlayer                    2\n",
      "K                         100\n",
      "p_flip                    0.0\n",
      "Nt                        8\n"
     ]
    },
    {
     "name": "stderr",
     "output_type": "stream",
     "text": [
      "100%|██████████| 10/10 [00:12<00:00,  1.24s/it]\n",
      "100%|██████████| 10/10 [00:11<00:00,  1.10s/it]\n",
      "100%|██████████| 10/10 [00:11<00:00,  1.10s/it]\n"
     ]
    },
    {
     "name": "stdout",
     "output_type": "stream",
     "text": [
      "acc_mean                  0.778\n",
      "acc_std                   0.013\n",
      "\n",
      "========== TRIAL 083 ==========\n",
      "Nin_virtual               12\n",
      "Nhidden                   60\n",
      "Nlayer                    2\n",
      "K                         100\n",
      "p_flip                    0.0\n",
      "Nt                        12\n"
     ]
    },
    {
     "name": "stderr",
     "output_type": "stream",
     "text": [
      "100%|██████████| 10/10 [00:12<00:00,  1.22s/it]\n",
      "100%|██████████| 10/10 [00:10<00:00,  1.10s/it]\n",
      "100%|██████████| 10/10 [00:10<00:00,  1.10s/it]\n"
     ]
    },
    {
     "name": "stdout",
     "output_type": "stream",
     "text": [
      "acc_mean                  0.790\n",
      "acc_std                   0.008\n",
      "\n",
      "========== TRIAL 084 ==========\n",
      "Nin_virtual               12\n",
      "Nhidden                   60\n",
      "Nlayer                    2\n",
      "K                         100\n",
      "p_flip                    0.0\n",
      "Nt                        16\n"
     ]
    },
    {
     "name": "stderr",
     "output_type": "stream",
     "text": [
      "100%|██████████| 10/10 [00:13<00:00,  1.31s/it]\n",
      "100%|██████████| 10/10 [00:14<00:00,  1.47s/it]\n",
      "100%|██████████| 10/10 [00:11<00:00,  1.18s/it]\n"
     ]
    },
    {
     "name": "stdout",
     "output_type": "stream",
     "text": [
      "acc_mean                  0.791\n",
      "acc_std                   0.018\n",
      "\n",
      "========== TRIAL 085 ==========\n",
      "Nin_virtual               12\n",
      "Nhidden                   60\n",
      "Nlayer                    2\n",
      "K                         100\n",
      "p_flip                    0.02\n",
      "Nt                        8\n"
     ]
    },
    {
     "name": "stderr",
     "output_type": "stream",
     "text": [
      "100%|██████████| 10/10 [00:11<00:00,  1.10s/it]\n",
      "100%|██████████| 10/10 [00:11<00:00,  1.11s/it]\n",
      "100%|██████████| 10/10 [00:10<00:00,  1.10s/it]\n"
     ]
    },
    {
     "name": "stdout",
     "output_type": "stream",
     "text": [
      "acc_mean                  0.778\n",
      "acc_std                   0.006\n",
      "\n",
      "========== TRIAL 086 ==========\n",
      "Nin_virtual               12\n",
      "Nhidden                   60\n",
      "Nlayer                    2\n",
      "K                         100\n",
      "p_flip                    0.02\n",
      "Nt                        12\n"
     ]
    },
    {
     "name": "stderr",
     "output_type": "stream",
     "text": [
      "100%|██████████| 10/10 [00:11<00:00,  1.10s/it]\n",
      "100%|██████████| 10/10 [00:11<00:00,  1.10s/it]\n",
      "100%|██████████| 10/10 [00:13<00:00,  1.38s/it]\n"
     ]
    },
    {
     "name": "stdout",
     "output_type": "stream",
     "text": [
      "acc_mean                  0.790\n",
      "acc_std                   0.004\n",
      "\n",
      "========== TRIAL 087 ==========\n",
      "Nin_virtual               12\n",
      "Nhidden                   60\n",
      "Nlayer                    2\n",
      "K                         100\n",
      "p_flip                    0.02\n",
      "Nt                        16\n"
     ]
    },
    {
     "name": "stderr",
     "output_type": "stream",
     "text": [
      "100%|██████████| 10/10 [00:11<00:00,  1.19s/it]\n",
      "100%|██████████| 10/10 [00:11<00:00,  1.18s/it]\n",
      "100%|██████████| 10/10 [00:11<00:00,  1.18s/it]\n"
     ]
    },
    {
     "name": "stdout",
     "output_type": "stream",
     "text": [
      "acc_mean                  0.781\n",
      "acc_std                   0.021\n",
      "\n",
      "========== TRIAL 088 ==========\n",
      "Nin_virtual               12\n",
      "Nhidden                   60\n",
      "Nlayer                    2\n",
      "K                         100\n",
      "p_flip                    0.04\n",
      "Nt                        8\n"
     ]
    },
    {
     "name": "stderr",
     "output_type": "stream",
     "text": [
      "100%|██████████| 10/10 [00:11<00:00,  1.10s/it]\n",
      "100%|██████████| 10/10 [00:11<00:00,  1.11s/it]\n",
      "100%|██████████| 10/10 [00:11<00:00,  1.12s/it]\n"
     ]
    },
    {
     "name": "stdout",
     "output_type": "stream",
     "text": [
      "acc_mean                  0.745\n",
      "acc_std                   0.033\n",
      "\n",
      "========== TRIAL 089 ==========\n",
      "Nin_virtual               12\n",
      "Nhidden                   60\n",
      "Nlayer                    2\n",
      "K                         100\n",
      "p_flip                    0.04\n",
      "Nt                        12\n"
     ]
    },
    {
     "name": "stderr",
     "output_type": "stream",
     "text": [
      "100%|██████████| 10/10 [00:11<00:00,  1.10s/it]\n",
      "100%|██████████| 10/10 [00:13<00:00,  1.39s/it]\n",
      "100%|██████████| 10/10 [00:11<00:00,  1.10s/it]\n"
     ]
    },
    {
     "name": "stdout",
     "output_type": "stream",
     "text": [
      "acc_mean                  0.750\n",
      "acc_std                   0.025\n",
      "\n",
      "========== TRIAL 090 ==========\n",
      "Nin_virtual               12\n",
      "Nhidden                   60\n",
      "Nlayer                    2\n",
      "K                         100\n",
      "p_flip                    0.04\n",
      "Nt                        16\n"
     ]
    },
    {
     "name": "stderr",
     "output_type": "stream",
     "text": [
      "100%|██████████| 10/10 [00:11<00:00,  1.19s/it]\n",
      "100%|██████████| 10/10 [00:11<00:00,  1.20s/it]\n",
      "100%|██████████| 10/10 [00:11<00:00,  1.19s/it]\n"
     ]
    },
    {
     "name": "stdout",
     "output_type": "stream",
     "text": [
      "acc_mean                  0.743\n",
      "acc_std                   0.029\n",
      "\n",
      "========== TRIAL 091 ==========\n",
      "Nin_virtual               12\n",
      "Nhidden                   60\n",
      "Nlayer                    2\n",
      "K                         150\n",
      "p_flip                    0.0\n",
      "Nt                        8\n"
     ]
    },
    {
     "name": "stderr",
     "output_type": "stream",
     "text": [
      "100%|██████████| 10/10 [00:13<00:00,  1.37s/it]\n",
      "100%|██████████| 10/10 [00:12<00:00,  1.23s/it]\n",
      "100%|██████████| 10/10 [00:15<00:00,  1.51s/it]\n"
     ]
    },
    {
     "name": "stdout",
     "output_type": "stream",
     "text": [
      "acc_mean                  0.797\n",
      "acc_std                   0.015\n",
      "\n",
      "========== TRIAL 092 ==========\n",
      "Nin_virtual               12\n",
      "Nhidden                   60\n",
      "Nlayer                    2\n",
      "K                         150\n",
      "p_flip                    0.0\n",
      "Nt                        12\n"
     ]
    },
    {
     "name": "stderr",
     "output_type": "stream",
     "text": [
      "100%|██████████| 10/10 [00:13<00:00,  1.37s/it]\n",
      "100%|██████████| 10/10 [00:12<00:00,  1.23s/it]\n",
      "100%|██████████| 10/10 [00:12<00:00,  1.23s/it]\n"
     ]
    },
    {
     "name": "stdout",
     "output_type": "stream",
     "text": [
      "acc_mean                  0.806\n",
      "acc_std                   0.011\n",
      "\n",
      "========== TRIAL 093 ==========\n",
      "Nin_virtual               12\n",
      "Nhidden                   60\n",
      "Nlayer                    2\n",
      "K                         150\n",
      "p_flip                    0.0\n",
      "Nt                        16\n"
     ]
    },
    {
     "name": "stderr",
     "output_type": "stream",
     "text": [
      "100%|██████████| 10/10 [00:14<00:00,  1.44s/it]\n",
      "100%|██████████| 10/10 [00:13<00:00,  1.32s/it]\n",
      "100%|██████████| 10/10 [00:13<00:00,  1.31s/it]\n"
     ]
    },
    {
     "name": "stdout",
     "output_type": "stream",
     "text": [
      "acc_mean                  0.799\n",
      "acc_std                   0.015\n",
      "\n",
      "========== TRIAL 094 ==========\n",
      "Nin_virtual               12\n",
      "Nhidden                   60\n",
      "Nlayer                    2\n",
      "K                         150\n",
      "p_flip                    0.02\n",
      "Nt                        8\n"
     ]
    },
    {
     "name": "stderr",
     "output_type": "stream",
     "text": [
      "100%|██████████| 10/10 [00:12<00:00,  1.23s/it]\n",
      "100%|██████████| 10/10 [00:15<00:00,  1.53s/it]\n",
      "100%|██████████| 10/10 [00:12<00:00,  1.24s/it]\n"
     ]
    },
    {
     "name": "stdout",
     "output_type": "stream",
     "text": [
      "acc_mean                  0.781\n",
      "acc_std                   0.007\n",
      "\n",
      "========== TRIAL 095 ==========\n",
      "Nin_virtual               12\n",
      "Nhidden                   60\n",
      "Nlayer                    2\n",
      "K                         150\n",
      "p_flip                    0.02\n",
      "Nt                        12\n"
     ]
    },
    {
     "name": "stderr",
     "output_type": "stream",
     "text": [
      "100%|██████████| 10/10 [00:12<00:00,  1.23s/it]\n",
      "100%|██████████| 10/10 [00:12<00:00,  1.24s/it]\n",
      "100%|██████████| 10/10 [00:12<00:00,  1.23s/it]\n"
     ]
    },
    {
     "name": "stdout",
     "output_type": "stream",
     "text": [
      "acc_mean                  0.777\n",
      "acc_std                   0.007\n",
      "\n",
      "========== TRIAL 096 ==========\n",
      "Nin_virtual               12\n",
      "Nhidden                   60\n",
      "Nlayer                    2\n",
      "K                         150\n",
      "p_flip                    0.02\n",
      "Nt                        16\n"
     ]
    },
    {
     "name": "stderr",
     "output_type": "stream",
     "text": [
      "100%|██████████| 10/10 [00:13<00:00,  1.32s/it]\n",
      "100%|██████████| 10/10 [00:13<00:00,  1.32s/it]\n",
      "100%|██████████| 10/10 [00:16<00:00,  1.61s/it]\n"
     ]
    },
    {
     "name": "stdout",
     "output_type": "stream",
     "text": [
      "acc_mean                  0.769\n",
      "acc_std                   0.019\n",
      "\n",
      "========== TRIAL 097 ==========\n",
      "Nin_virtual               12\n",
      "Nhidden                   60\n",
      "Nlayer                    2\n",
      "K                         150\n",
      "p_flip                    0.04\n",
      "Nt                        8\n"
     ]
    },
    {
     "name": "stderr",
     "output_type": "stream",
     "text": [
      "100%|██████████| 10/10 [00:12<00:00,  1.24s/it]\n",
      "100%|██████████| 10/10 [00:12<00:00,  1.24s/it]\n",
      "100%|██████████| 10/10 [00:12<00:00,  1.23s/it]\n"
     ]
    },
    {
     "name": "stdout",
     "output_type": "stream",
     "text": [
      "acc_mean                  0.728\n",
      "acc_std                   0.010\n",
      "\n",
      "========== TRIAL 098 ==========\n",
      "Nin_virtual               12\n",
      "Nhidden                   60\n",
      "Nlayer                    2\n",
      "K                         150\n",
      "p_flip                    0.04\n",
      "Nt                        12\n"
     ]
    },
    {
     "name": "stderr",
     "output_type": "stream",
     "text": [
      "100%|██████████| 10/10 [00:12<00:00,  1.24s/it]\n",
      "100%|██████████| 10/10 [00:12<00:00,  1.25s/it]\n",
      "100%|██████████| 10/10 [00:12<00:00,  1.24s/it]\n"
     ]
    },
    {
     "name": "stdout",
     "output_type": "stream",
     "text": [
      "acc_mean                  0.793\n",
      "acc_std                   0.026\n",
      "\n",
      "========== TRIAL 099 ==========\n",
      "Nin_virtual               12\n",
      "Nhidden                   60\n",
      "Nlayer                    2\n",
      "K                         150\n",
      "p_flip                    0.04\n",
      "Nt                        16\n"
     ]
    },
    {
     "name": "stderr",
     "output_type": "stream",
     "text": [
      "100%|██████████| 10/10 [00:13<00:00,  1.32s/it]\n",
      "100%|██████████| 10/10 [00:13<00:00,  1.32s/it]\n",
      "100%|██████████| 10/10 [00:13<00:00,  1.31s/it]\n"
     ]
    },
    {
     "name": "stdout",
     "output_type": "stream",
     "text": [
      "acc_mean                  0.726\n",
      "acc_std                   0.031\n",
      "\n",
      "========== TRIAL 100 ==========\n",
      "Nin_virtual               12\n",
      "Nhidden                   60\n",
      "Nlayer                    2\n",
      "K                         200\n",
      "p_flip                    0.0\n",
      "Nt                        8\n"
     ]
    },
    {
     "name": "stderr",
     "output_type": "stream",
     "text": [
      "100%|██████████| 10/10 [00:15<00:00,  1.51s/it]\n",
      "100%|██████████| 10/10 [00:13<00:00,  1.36s/it]\n",
      "100%|██████████| 10/10 [00:13<00:00,  1.37s/it]\n"
     ]
    },
    {
     "name": "stdout",
     "output_type": "stream",
     "text": [
      "acc_mean                  0.792\n",
      "acc_std                   0.010\n",
      "\n",
      "========== TRIAL 101 ==========\n",
      "Nin_virtual               12\n",
      "Nhidden                   60\n",
      "Nlayer                    2\n",
      "K                         200\n",
      "p_flip                    0.0\n",
      "Nt                        12\n"
     ]
    },
    {
     "name": "stderr",
     "output_type": "stream",
     "text": [
      "100%|██████████| 10/10 [00:14<00:00,  1.49s/it]\n",
      "100%|██████████| 10/10 [00:13<00:00,  1.37s/it]\n",
      "100%|██████████| 10/10 [00:16<00:00,  1.67s/it]\n"
     ]
    },
    {
     "name": "stdout",
     "output_type": "stream",
     "text": [
      "acc_mean                  0.813\n",
      "acc_std                   0.018\n",
      "\n",
      "========== TRIAL 102 ==========\n",
      "Nin_virtual               12\n",
      "Nhidden                   60\n",
      "Nlayer                    2\n",
      "K                         200\n",
      "p_flip                    0.0\n",
      "Nt                        16\n"
     ]
    },
    {
     "name": "stderr",
     "output_type": "stream",
     "text": [
      "100%|██████████| 10/10 [00:15<00:00,  1.57s/it]\n",
      "100%|██████████| 10/10 [00:14<00:00,  1.44s/it]\n",
      "  0%|          | 0/10 [00:00<?, ?it/s]2024-08-28 21:44:52.533174: W external/xla/xla/tsl/framework/bfc_allocator.cc:482] Allocator (GPU_0_bfc) ran out of memory trying to allocate 791.93MiB (rounded to 830402560)requested by op \n",
      "2024-08-28 21:44:52.533440: W external/xla/xla/tsl/framework/bfc_allocator.cc:494] ***********_________________________________________________________________________________________\n",
      "E0828 21:44:52.533477  308455 pjrt_stream_executor_client.cc:3067] Execution of replica 0 failed: RESOURCE_EXHAUSTED: Out of memory while trying to allocate 830402328 bytes.\n",
      "  0%|          | 0/10 [00:13<?, ?it/s]\n"
     ]
    },
    {
     "name": "stdout",
     "output_type": "stream",
     "text": [
      "error                     ValueError('RESOURCE_EXHAUSTED: Out of memory while trying to allocate 830402328 bytes.')\n",
      "\n",
      "========== TRIAL 103 ==========\n",
      "Nin_virtual               12\n",
      "Nhidden                   60\n",
      "Nlayer                    2\n",
      "K                         200\n",
      "p_flip                    0.02\n",
      "Nt                        8\n"
     ]
    },
    {
     "name": "stderr",
     "output_type": "stream",
     "text": [
      "100%|██████████| 10/10 [00:13<00:00,  1.37s/it]\n",
      "100%|██████████| 10/10 [00:13<00:00,  1.38s/it]\n",
      "100%|██████████| 10/10 [00:13<00:00,  1.37s/it]\n"
     ]
    },
    {
     "name": "stdout",
     "output_type": "stream",
     "text": [
      "acc_mean                  0.770\n",
      "acc_std                   0.004\n",
      "\n",
      "========== TRIAL 104 ==========\n",
      "Nin_virtual               12\n",
      "Nhidden                   60\n",
      "Nlayer                    2\n",
      "K                         200\n",
      "p_flip                    0.02\n",
      "Nt                        12\n"
     ]
    },
    {
     "name": "stderr",
     "output_type": "stream",
     "text": [
      "100%|██████████| 10/10 [00:13<00:00,  1.38s/it]\n",
      "100%|██████████| 10/10 [00:16<00:00,  1.68s/it]\n",
      "100%|██████████| 10/10 [00:13<00:00,  1.37s/it]\n"
     ]
    },
    {
     "name": "stdout",
     "output_type": "stream",
     "text": [
      "acc_mean                  0.792\n",
      "acc_std                   0.020\n",
      "\n",
      "========== TRIAL 105 ==========\n",
      "Nin_virtual               12\n",
      "Nhidden                   60\n",
      "Nlayer                    2\n",
      "K                         200\n",
      "p_flip                    0.02\n",
      "Nt                        16\n"
     ]
    },
    {
     "name": "stderr",
     "output_type": "stream",
     "text": [
      "100%|██████████| 10/10 [00:14<00:00,  1.45s/it]\n",
      "  0%|          | 0/10 [00:00<?, ?it/s]2024-08-28 21:47:20.128786: W external/xla/xla/tsl/framework/bfc_allocator.cc:482] Allocator (GPU_0_bfc) ran out of memory trying to allocate 791.93MiB (rounded to 830402560)requested by op \n",
      "2024-08-28 21:47:20.129084: W external/xla/xla/tsl/framework/bfc_allocator.cc:494] ***********_________________________________________________________________________________________\n",
      "E0828 21:47:20.129123  308455 pjrt_stream_executor_client.cc:3067] Execution of replica 0 failed: RESOURCE_EXHAUSTED: Out of memory while trying to allocate 830402328 bytes.\n",
      "  0%|          | 0/10 [00:13<?, ?it/s]\n"
     ]
    },
    {
     "name": "stdout",
     "output_type": "stream",
     "text": [
      "error                     ValueError('RESOURCE_EXHAUSTED: Out of memory while trying to allocate 830402328 bytes.')\n",
      "\n",
      "========== TRIAL 106 ==========\n",
      "Nin_virtual               12\n",
      "Nhidden                   60\n",
      "Nlayer                    2\n",
      "K                         200\n",
      "p_flip                    0.04\n",
      "Nt                        8\n"
     ]
    },
    {
     "name": "stderr",
     "output_type": "stream",
     "text": [
      "100%|██████████| 10/10 [00:13<00:00,  1.37s/it]\n",
      "100%|██████████| 10/10 [00:13<00:00,  1.38s/it]\n",
      "100%|██████████| 10/10 [00:13<00:00,  1.37s/it]\n"
     ]
    },
    {
     "name": "stdout",
     "output_type": "stream",
     "text": [
      "acc_mean                  0.763\n",
      "acc_std                   0.014\n",
      "\n",
      "========== TRIAL 107 ==========\n",
      "Nin_virtual               12\n",
      "Nhidden                   60\n",
      "Nlayer                    2\n",
      "K                         200\n",
      "p_flip                    0.04\n",
      "Nt                        12\n"
     ]
    },
    {
     "name": "stderr",
     "output_type": "stream",
     "text": [
      "100%|██████████| 10/10 [00:13<00:00,  1.36s/it]\n",
      "100%|██████████| 10/10 [00:16<00:00,  1.68s/it]\n",
      "100%|██████████| 10/10 [00:13<00:00,  1.37s/it]\n"
     ]
    },
    {
     "name": "stdout",
     "output_type": "stream",
     "text": [
      "acc_mean                  0.781\n",
      "acc_std                   0.021\n",
      "\n",
      "========== TRIAL 108 ==========\n",
      "Nin_virtual               12\n",
      "Nhidden                   60\n",
      "Nlayer                    2\n",
      "K                         200\n",
      "p_flip                    0.04\n",
      "Nt                        16\n"
     ]
    },
    {
     "name": "stderr",
     "output_type": "stream",
     "text": [
      "  0%|          | 0/10 [00:00<?, ?it/s]2024-08-28 21:49:30.241898: W external/xla/xla/tsl/framework/bfc_allocator.cc:482] Allocator (GPU_0_bfc) ran out of memory trying to allocate 791.93MiB (rounded to 830402560)requested by op \n",
      "2024-08-28 21:49:30.242181: W external/xla/xla/tsl/framework/bfc_allocator.cc:494] ***********_________________________________________________________________________________________\n",
      "E0828 21:49:30.242217  308455 pjrt_stream_executor_client.cc:3067] Execution of replica 0 failed: RESOURCE_EXHAUSTED: Out of memory while trying to allocate 830402328 bytes.\n",
      "  0%|          | 0/10 [00:13<?, ?it/s]\n"
     ]
    },
    {
     "name": "stdout",
     "output_type": "stream",
     "text": [
      "error                     ValueError('RESOURCE_EXHAUSTED: Out of memory while trying to allocate 830402328 bytes.')\n",
      "\n",
      "========== TRIAL 109 ==========\n",
      "Nin_virtual               12\n",
      "Nhidden                   60\n",
      "Nlayer                    3\n",
      "K                         50\n",
      "p_flip                    0.0\n",
      "Nt                        8\n"
     ]
    },
    {
     "name": "stderr",
     "output_type": "stream",
     "text": [
      "100%|██████████| 10/10 [00:12<00:00,  1.27s/it]\n",
      "100%|██████████| 10/10 [00:10<00:00,  1.08s/it]\n",
      "100%|██████████| 10/10 [00:10<00:00,  1.08s/it]\n"
     ]
    },
    {
     "name": "stdout",
     "output_type": "stream",
     "text": [
      "acc_mean                  0.342\n",
      "acc_std                   0.041\n",
      "\n",
      "========== TRIAL 110 ==========\n",
      "Nin_virtual               12\n",
      "Nhidden                   60\n",
      "Nlayer                    3\n",
      "K                         50\n",
      "p_flip                    0.0\n",
      "Nt                        12\n"
     ]
    },
    {
     "name": "stderr",
     "output_type": "stream",
     "text": [
      "100%|██████████| 10/10 [00:12<00:00,  1.21s/it]\n",
      "100%|██████████| 10/10 [00:10<00:00,  1.08s/it]\n",
      "100%|██████████| 10/10 [00:13<00:00,  1.37s/it]\n"
     ]
    },
    {
     "name": "stdout",
     "output_type": "stream",
     "text": [
      "acc_mean                  0.346\n",
      "acc_std                   0.063\n",
      "\n",
      "========== TRIAL 111 ==========\n",
      "Nin_virtual               12\n",
      "Nhidden                   60\n",
      "Nlayer                    3\n",
      "K                         50\n",
      "p_flip                    0.0\n",
      "Nt                        16\n"
     ]
    },
    {
     "name": "stderr",
     "output_type": "stream",
     "text": [
      "100%|██████████| 10/10 [00:12<00:00,  1.28s/it]\n",
      "100%|██████████| 10/10 [00:11<00:00,  1.16s/it]\n",
      "100%|██████████| 10/10 [00:11<00:00,  1.16s/it]\n"
     ]
    },
    {
     "name": "stdout",
     "output_type": "stream",
     "text": [
      "acc_mean                  0.323\n",
      "acc_std                   0.055\n",
      "\n",
      "========== TRIAL 112 ==========\n",
      "Nin_virtual               12\n",
      "Nhidden                   60\n",
      "Nlayer                    3\n",
      "K                         50\n",
      "p_flip                    0.02\n",
      "Nt                        8\n"
     ]
    },
    {
     "name": "stderr",
     "output_type": "stream",
     "text": [
      "100%|██████████| 10/10 [00:10<00:00,  1.09s/it]\n"
     ]
    },
    {
     "name": "stdout",
     "output_type": "stream",
     "text": [
      "Warning: A NaN appeared. Likely not enough spikes have been simulated. Try increasing `K`.\n"
     ]
    },
    {
     "name": "stderr",
     "output_type": "stream",
     "text": [
      "100%|██████████| 10/10 [00:10<00:00,  1.09s/it]\n",
      "100%|██████████| 10/10 [00:10<00:00,  1.09s/it]\n"
     ]
    },
    {
     "name": "stdout",
     "output_type": "stream",
     "text": [
      "acc_mean                  0.238\n",
      "acc_std                   0.138\n",
      "\n",
      "========== TRIAL 113 ==========\n",
      "Nin_virtual               12\n",
      "Nhidden                   60\n",
      "Nlayer                    3\n",
      "K                         50\n",
      "p_flip                    0.02\n",
      "Nt                        12\n"
     ]
    },
    {
     "name": "stderr",
     "output_type": "stream",
     "text": [
      "100%|██████████| 10/10 [00:14<00:00,  1.40s/it]\n",
      "100%|██████████| 10/10 [00:10<00:00,  1.08s/it]\n",
      "100%|██████████| 10/10 [00:10<00:00,  1.08s/it]\n"
     ]
    },
    {
     "name": "stdout",
     "output_type": "stream",
     "text": [
      "acc_mean                  0.272\n",
      "acc_std                   0.072\n",
      "\n",
      "========== TRIAL 114 ==========\n",
      "Nin_virtual               12\n",
      "Nhidden                   60\n",
      "Nlayer                    3\n",
      "K                         50\n",
      "p_flip                    0.02\n",
      "Nt                        16\n"
     ]
    },
    {
     "name": "stderr",
     "output_type": "stream",
     "text": [
      "100%|██████████| 10/10 [00:11<00:00,  1.18s/it]\n",
      "100%|██████████| 10/10 [00:11<00:00,  1.17s/it]\n",
      "100%|██████████| 10/10 [00:11<00:00,  1.16s/it]\n"
     ]
    },
    {
     "name": "stdout",
     "output_type": "stream",
     "text": [
      "acc_mean                  0.257\n",
      "acc_std                   0.072\n",
      "\n",
      "========== TRIAL 115 ==========\n",
      "Nin_virtual               12\n",
      "Nhidden                   60\n",
      "Nlayer                    3\n",
      "K                         50\n",
      "p_flip                    0.04\n",
      "Nt                        8\n"
     ]
    },
    {
     "name": "stderr",
     "output_type": "stream",
     "text": [
      "100%|██████████| 10/10 [00:10<00:00,  1.09s/it]\n",
      "100%|██████████| 10/10 [00:10<00:00,  1.09s/it]\n",
      "100%|██████████| 10/10 [00:10<00:00,  1.09s/it]\n"
     ]
    },
    {
     "name": "stdout",
     "output_type": "stream",
     "text": [
      "acc_mean                  0.307\n",
      "acc_std                   0.010\n",
      "\n",
      "========== TRIAL 116 ==========\n",
      "Nin_virtual               12\n",
      "Nhidden                   60\n",
      "Nlayer                    3\n",
      "K                         50\n",
      "p_flip                    0.04\n",
      "Nt                        12\n"
     ]
    },
    {
     "name": "stderr",
     "output_type": "stream",
     "text": [
      "100%|██████████| 10/10 [00:10<00:00,  1.08s/it]\n",
      "100%|██████████| 10/10 [00:10<00:00,  1.08s/it]\n",
      "100%|██████████| 10/10 [00:10<00:00,  1.09s/it]\n"
     ]
    },
    {
     "name": "stdout",
     "output_type": "stream",
     "text": [
      "acc_mean                  0.287\n",
      "acc_std                   0.103\n",
      "\n",
      "========== TRIAL 117 ==========\n",
      "Nin_virtual               12\n",
      "Nhidden                   60\n",
      "Nlayer                    3\n",
      "K                         50\n",
      "p_flip                    0.04\n",
      "Nt                        16\n"
     ]
    },
    {
     "name": "stderr",
     "output_type": "stream",
     "text": [
      "100%|██████████| 10/10 [00:11<00:00,  1.17s/it]\n",
      "100%|██████████| 10/10 [00:11<00:00,  1.16s/it]\n",
      "100%|██████████| 10/10 [00:11<00:00,  1.17s/it]\n"
     ]
    },
    {
     "name": "stdout",
     "output_type": "stream",
     "text": [
      "acc_mean                  0.214\n",
      "acc_std                   0.028\n",
      "\n",
      "========== TRIAL 118 ==========\n",
      "Nin_virtual               12\n",
      "Nhidden                   60\n",
      "Nlayer                    3\n",
      "K                         100\n",
      "p_flip                    0.0\n",
      "Nt                        8\n"
     ]
    },
    {
     "name": "stderr",
     "output_type": "stream",
     "text": [
      "100%|██████████| 10/10 [00:17<00:00,  1.76s/it]\n",
      "100%|██████████| 10/10 [00:12<00:00,  1.29s/it]\n",
      "100%|██████████| 10/10 [00:12<00:00,  1.29s/it]\n"
     ]
    },
    {
     "name": "stdout",
     "output_type": "stream",
     "text": [
      "acc_mean                  0.733\n",
      "acc_std                   0.003\n",
      "\n",
      "========== TRIAL 119 ==========\n",
      "Nin_virtual               12\n",
      "Nhidden                   60\n",
      "Nlayer                    3\n",
      "K                         100\n",
      "p_flip                    0.0\n",
      "Nt                        12\n"
     ]
    },
    {
     "name": "stderr",
     "output_type": "stream",
     "text": [
      "100%|██████████| 10/10 [00:14<00:00,  1.42s/it]\n",
      "100%|██████████| 10/10 [00:12<00:00,  1.30s/it]\n",
      "100%|██████████| 10/10 [00:13<00:00,  1.30s/it]\n"
     ]
    },
    {
     "name": "stdout",
     "output_type": "stream",
     "text": [
      "acc_mean                  0.741\n",
      "acc_std                   0.019\n",
      "\n",
      "========== TRIAL 120 ==========\n",
      "Nin_virtual               12\n",
      "Nhidden                   60\n",
      "Nlayer                    3\n",
      "K                         100\n",
      "p_flip                    0.0\n",
      "Nt                        16\n"
     ]
    },
    {
     "name": "stderr",
     "output_type": "stream",
     "text": [
      "100%|██████████| 10/10 [00:15<00:00,  1.51s/it]\n",
      "100%|██████████| 10/10 [00:16<00:00,  1.69s/it]\n",
      "100%|██████████| 10/10 [00:13<00:00,  1.38s/it]\n"
     ]
    },
    {
     "name": "stdout",
     "output_type": "stream",
     "text": [
      "acc_mean                  0.719\n",
      "acc_std                   0.016\n",
      "\n",
      "========== TRIAL 121 ==========\n",
      "Nin_virtual               12\n",
      "Nhidden                   60\n",
      "Nlayer                    3\n",
      "K                         100\n",
      "p_flip                    0.02\n",
      "Nt                        8\n"
     ]
    },
    {
     "name": "stderr",
     "output_type": "stream",
     "text": [
      "100%|██████████| 10/10 [00:13<00:00,  1.31s/it]\n",
      "100%|██████████| 10/10 [00:13<00:00,  1.31s/it]\n",
      "100%|██████████| 10/10 [00:12<00:00,  1.30s/it]\n"
     ]
    },
    {
     "name": "stdout",
     "output_type": "stream",
     "text": [
      "acc_mean                  0.735\n",
      "acc_std                   0.014\n",
      "\n",
      "========== TRIAL 122 ==========\n",
      "Nin_virtual               12\n",
      "Nhidden                   60\n",
      "Nlayer                    3\n",
      "K                         100\n",
      "p_flip                    0.02\n",
      "Nt                        12\n"
     ]
    },
    {
     "name": "stderr",
     "output_type": "stream",
     "text": [
      "100%|██████████| 10/10 [00:13<00:00,  1.31s/it]\n",
      "100%|██████████| 10/10 [00:13<00:00,  1.30s/it]\n",
      "100%|██████████| 10/10 [00:16<00:00,  1.61s/it]\n"
     ]
    },
    {
     "name": "stdout",
     "output_type": "stream",
     "text": [
      "acc_mean                  0.717\n",
      "acc_std                   0.035\n",
      "\n",
      "========== TRIAL 123 ==========\n",
      "Nin_virtual               12\n",
      "Nhidden                   60\n",
      "Nlayer                    3\n",
      "K                         100\n",
      "p_flip                    0.02\n",
      "Nt                        16\n"
     ]
    },
    {
     "name": "stderr",
     "output_type": "stream",
     "text": [
      "100%|██████████| 10/10 [00:13<00:00,  1.40s/it]\n",
      "100%|██████████| 10/10 [00:13<00:00,  1.39s/it]\n",
      "100%|██████████| 10/10 [00:13<00:00,  1.39s/it]\n"
     ]
    },
    {
     "name": "stdout",
     "output_type": "stream",
     "text": [
      "acc_mean                  0.717\n",
      "acc_std                   0.019\n",
      "\n",
      "========== TRIAL 124 ==========\n",
      "Nin_virtual               12\n",
      "Nhidden                   60\n",
      "Nlayer                    3\n",
      "K                         100\n",
      "p_flip                    0.04\n",
      "Nt                        8\n"
     ]
    },
    {
     "name": "stderr",
     "output_type": "stream",
     "text": [
      "100%|██████████| 10/10 [00:13<00:00,  1.31s/it]\n",
      "100%|██████████| 10/10 [00:13<00:00,  1.31s/it]\n",
      "100%|██████████| 10/10 [00:13<00:00,  1.31s/it]\n"
     ]
    },
    {
     "name": "stdout",
     "output_type": "stream",
     "text": [
      "acc_mean                  0.679\n",
      "acc_std                   0.027\n",
      "\n",
      "========== TRIAL 125 ==========\n",
      "Nin_virtual               12\n",
      "Nhidden                   60\n",
      "Nlayer                    3\n",
      "K                         100\n",
      "p_flip                    0.04\n",
      "Nt                        12\n"
     ]
    },
    {
     "name": "stderr",
     "output_type": "stream",
     "text": [
      "100%|██████████| 10/10 [00:13<00:00,  1.31s/it]\n",
      "100%|██████████| 10/10 [00:13<00:00,  1.31s/it]\n",
      "100%|██████████| 10/10 [00:13<00:00,  1.31s/it]\n"
     ]
    },
    {
     "name": "stdout",
     "output_type": "stream",
     "text": [
      "acc_mean                  0.663\n",
      "acc_std                   0.036\n",
      "\n",
      "========== TRIAL 126 ==========\n",
      "Nin_virtual               12\n",
      "Nhidden                   60\n",
      "Nlayer                    3\n",
      "K                         100\n",
      "p_flip                    0.04\n",
      "Nt                        16\n"
     ]
    },
    {
     "name": "stderr",
     "output_type": "stream",
     "text": [
      "100%|██████████| 10/10 [00:13<00:00,  1.38s/it]\n",
      "100%|██████████| 10/10 [00:13<00:00,  1.39s/it]\n",
      "100%|██████████| 10/10 [00:13<00:00,  1.39s/it]\n"
     ]
    },
    {
     "name": "stdout",
     "output_type": "stream",
     "text": [
      "acc_mean                  0.685\n",
      "acc_std                   0.019\n",
      "\n",
      "========== TRIAL 127 ==========\n",
      "Nin_virtual               12\n",
      "Nhidden                   60\n",
      "Nlayer                    3\n",
      "K                         150\n",
      "p_flip                    0.0\n",
      "Nt                        8\n"
     ]
    },
    {
     "name": "stderr",
     "output_type": "stream",
     "text": [
      "100%|██████████| 10/10 [00:16<00:00,  1.66s/it]\n",
      "100%|██████████| 10/10 [00:15<00:00,  1.51s/it]\n",
      "100%|██████████| 10/10 [00:18<00:00,  1.82s/it]\n"
     ]
    },
    {
     "name": "stdout",
     "output_type": "stream",
     "text": [
      "acc_mean                  0.760\n",
      "acc_std                   0.018\n",
      "\n",
      "========== TRIAL 128 ==========\n",
      "Nin_virtual               12\n",
      "Nhidden                   60\n",
      "Nlayer                    3\n",
      "K                         150\n",
      "p_flip                    0.0\n",
      "Nt                        12\n"
     ]
    },
    {
     "name": "stderr",
     "output_type": "stream",
     "text": [
      "100%|██████████| 10/10 [00:16<00:00,  1.64s/it]\n",
      "100%|██████████| 10/10 [00:15<00:00,  1.50s/it]\n",
      "100%|██████████| 10/10 [00:15<00:00,  1.51s/it]\n"
     ]
    },
    {
     "name": "stdout",
     "output_type": "stream",
     "text": [
      "acc_mean                  0.745\n",
      "acc_std                   0.019\n",
      "\n",
      "========== TRIAL 129 ==========\n",
      "Nin_virtual               12\n",
      "Nhidden                   60\n",
      "Nlayer                    3\n",
      "K                         150\n",
      "p_flip                    0.0\n",
      "Nt                        16\n"
     ]
    },
    {
     "name": "stderr",
     "output_type": "stream",
     "text": [
      "  0%|          | 0/10 [00:00<?, ?it/s]2024-08-28 22:07:15.408271: W external/xla/xla/tsl/framework/bfc_allocator.cc:482] Allocator (GPU_0_bfc) ran out of memory trying to allocate 878.02MiB (rounded to 920669184)requested by op \n",
      "2024-08-28 22:07:15.408575: W external/xla/xla/tsl/framework/bfc_allocator.cc:494] ***********_________________________________________________________________________________________\n",
      "E0828 22:07:15.408615  308455 pjrt_stream_executor_client.cc:3067] Execution of replica 0 failed: RESOURCE_EXHAUSTED: Out of memory while trying to allocate 920668952 bytes.\n",
      "  0%|          | 0/10 [00:13<?, ?it/s]\n"
     ]
    },
    {
     "name": "stdout",
     "output_type": "stream",
     "text": [
      "error                     XlaRuntimeError('RESOURCE_EXHAUSTED: Out of memory while trying to allocate 920668952 bytes.')\n",
      "\n",
      "========== TRIAL 130 ==========\n",
      "Nin_virtual               12\n",
      "Nhidden                   60\n",
      "Nlayer                    3\n",
      "K                         150\n",
      "p_flip                    0.02\n",
      "Nt                        8\n"
     ]
    },
    {
     "name": "stderr",
     "output_type": "stream",
     "text": [
      "100%|██████████| 10/10 [00:15<00:00,  1.52s/it]\n",
      "100%|██████████| 10/10 [00:15<00:00,  1.51s/it]\n",
      "100%|██████████| 10/10 [00:15<00:00,  1.52s/it]\n"
     ]
    },
    {
     "name": "stdout",
     "output_type": "stream",
     "text": [
      "acc_mean                  0.718\n",
      "acc_std                   0.007\n",
      "\n",
      "========== TRIAL 131 ==========\n",
      "Nin_virtual               12\n",
      "Nhidden                   60\n",
      "Nlayer                    3\n",
      "K                         150\n",
      "p_flip                    0.02\n",
      "Nt                        12\n"
     ]
    },
    {
     "name": "stderr",
     "output_type": "stream",
     "text": [
      "100%|██████████| 10/10 [00:15<00:00,  1.51s/it]\n",
      "100%|██████████| 10/10 [00:15<00:00,  1.52s/it]\n",
      "100%|██████████| 10/10 [00:15<00:00,  1.51s/it]\n"
     ]
    },
    {
     "name": "stdout",
     "output_type": "stream",
     "text": [
      "acc_mean                  0.691\n",
      "acc_std                   0.052\n",
      "\n",
      "========== TRIAL 132 ==========\n",
      "Nin_virtual               12\n",
      "Nhidden                   60\n",
      "Nlayer                    3\n",
      "K                         150\n",
      "p_flip                    0.02\n",
      "Nt                        16\n"
     ]
    },
    {
     "name": "stderr",
     "output_type": "stream",
     "text": [
      "  0%|          | 0/10 [00:00<?, ?it/s]2024-08-28 22:09:35.334434: W external/xla/xla/tsl/framework/bfc_allocator.cc:482] Allocator (GPU_0_bfc) ran out of memory trying to allocate 878.02MiB (rounded to 920669184)requested by op \n",
      "2024-08-28 22:09:35.334740: W external/xla/xla/tsl/framework/bfc_allocator.cc:494] ************________________________________________________________________________________________\n",
      "E0828 22:09:35.334779  308455 pjrt_stream_executor_client.cc:3067] Execution of replica 0 failed: RESOURCE_EXHAUSTED: Out of memory while trying to allocate 920668952 bytes.\n",
      "  0%|          | 0/10 [00:13<?, ?it/s]\n"
     ]
    },
    {
     "name": "stdout",
     "output_type": "stream",
     "text": [
      "error                     XlaRuntimeError('RESOURCE_EXHAUSTED: Out of memory while trying to allocate 920668952 bytes.')\n",
      "\n",
      "========== TRIAL 133 ==========\n",
      "Nin_virtual               12\n",
      "Nhidden                   60\n",
      "Nlayer                    3\n",
      "K                         150\n",
      "p_flip                    0.04\n",
      "Nt                        8\n"
     ]
    },
    {
     "name": "stderr",
     "output_type": "stream",
     "text": [
      "100%|██████████| 10/10 [00:15<00:00,  1.52s/it]\n",
      "100%|██████████| 10/10 [00:15<00:00,  1.51s/it]\n",
      "100%|██████████| 10/10 [00:15<00:00,  1.51s/it]\n"
     ]
    },
    {
     "name": "stdout",
     "output_type": "stream",
     "text": [
      "acc_mean                  0.667\n",
      "acc_std                   0.025\n",
      "\n",
      "========== TRIAL 134 ==========\n",
      "Nin_virtual               12\n",
      "Nhidden                   60\n",
      "Nlayer                    3\n",
      "K                         150\n",
      "p_flip                    0.04\n",
      "Nt                        12\n"
     ]
    },
    {
     "name": "stderr",
     "output_type": "stream",
     "text": [
      "100%|██████████| 10/10 [00:18<00:00,  1.83s/it]\n",
      "100%|██████████| 10/10 [00:15<00:00,  1.52s/it]\n",
      "100%|██████████| 10/10 [00:15<00:00,  1.52s/it]\n"
     ]
    },
    {
     "name": "stdout",
     "output_type": "stream",
     "text": [
      "acc_mean                  0.690\n",
      "acc_std                   0.032\n",
      "\n",
      "========== TRIAL 135 ==========\n",
      "Nin_virtual               12\n",
      "Nhidden                   60\n",
      "Nlayer                    3\n",
      "K                         150\n",
      "p_flip                    0.04\n",
      "Nt                        16\n"
     ]
    },
    {
     "name": "stderr",
     "output_type": "stream",
     "text": [
      "  0%|          | 0/10 [00:00<?, ?it/s]2024-08-28 22:11:55.320421: W external/xla/xla/tsl/framework/bfc_allocator.cc:482] Allocator (GPU_0_bfc) ran out of memory trying to allocate 878.02MiB (rounded to 920669184)requested by op \n",
      "2024-08-28 22:11:55.320737: W external/xla/xla/tsl/framework/bfc_allocator.cc:494] *************_______________________________________________________________________________________\n",
      "E0828 22:11:55.320775  308455 pjrt_stream_executor_client.cc:3067] Execution of replica 0 failed: RESOURCE_EXHAUSTED: Out of memory while trying to allocate 920668952 bytes.\n",
      "  0%|          | 0/10 [00:13<?, ?it/s]\n"
     ]
    },
    {
     "name": "stdout",
     "output_type": "stream",
     "text": [
      "error                     XlaRuntimeError('RESOURCE_EXHAUSTED: Out of memory while trying to allocate 920668952 bytes.')\n",
      "\n",
      "========== TRIAL 136 ==========\n",
      "Nin_virtual               12\n",
      "Nhidden                   60\n",
      "Nlayer                    3\n",
      "K                         200\n",
      "p_flip                    0.0\n",
      "Nt                        8\n"
     ]
    },
    {
     "name": "stderr",
     "output_type": "stream",
     "text": [
      "100%|██████████| 10/10 [00:18<00:00,  1.88s/it]\n",
      "100%|██████████| 10/10 [00:17<00:00,  1.73s/it]\n",
      "100%|██████████| 10/10 [00:17<00:00,  1.73s/it]\n"
     ]
    },
    {
     "name": "stdout",
     "output_type": "stream",
     "text": [
      "acc_mean                  0.737\n",
      "acc_std                   0.002\n",
      "\n",
      "========== TRIAL 137 ==========\n",
      "Nin_virtual               12\n",
      "Nhidden                   60\n",
      "Nlayer                    3\n",
      "K                         200\n",
      "p_flip                    0.0\n",
      "Nt                        12\n"
     ]
    },
    {
     "name": "stderr",
     "output_type": "stream",
     "text": [
      "  0%|          | 0/10 [00:00<?, ?it/s]2024-08-28 22:13:23.845301: W external/xla/xla/tsl/framework/bfc_allocator.cc:482] Allocator (GPU_0_bfc) ran out of memory trying to allocate 873.00MiB (rounded to 915403008)requested by op \n",
      "2024-08-28 22:13:23.845699: W external/xla/xla/tsl/framework/bfc_allocator.cc:494] *************_______________________________________________________________________________________\n",
      "E0828 22:13:23.845747  308455 pjrt_stream_executor_client.cc:3067] Execution of replica 0 failed: RESOURCE_EXHAUSTED: Out of memory while trying to allocate 915402776 bytes.\n",
      "  0%|          | 0/10 [00:13<?, ?it/s]\n"
     ]
    },
    {
     "name": "stdout",
     "output_type": "stream",
     "text": [
      "error                     XlaRuntimeError('RESOURCE_EXHAUSTED: Out of memory while trying to allocate 915402776 bytes.')\n",
      "\n",
      "========== TRIAL 138 ==========\n",
      "Nin_virtual               12\n",
      "Nhidden                   60\n",
      "Nlayer                    3\n",
      "K                         200\n",
      "p_flip                    0.0\n",
      "Nt                        16\n"
     ]
    },
    {
     "name": "stderr",
     "output_type": "stream",
     "text": [
      "  0%|          | 0/10 [00:00<?, ?it/s]2024-08-28 22:13:45.745724: W external/xla/xla/tsl/framework/bfc_allocator.cc:482] Allocator (GPU_0_bfc) ran out of memory trying to allocate 998.90MiB (rounded to 1047418880)requested by op \n",
      "2024-08-28 22:13:45.746083: W external/xla/xla/tsl/framework/bfc_allocator.cc:494] **************______________________________________________________________________________________\n",
      "E0828 22:13:45.746123  308455 pjrt_stream_executor_client.cc:3067] Execution of replica 0 failed: RESOURCE_EXHAUSTED: Out of memory while trying to allocate 1047418776 bytes.\n",
      "  0%|          | 0/10 [00:13<?, ?it/s]\n"
     ]
    },
    {
     "name": "stdout",
     "output_type": "stream",
     "text": [
      "error                     XlaRuntimeError('RESOURCE_EXHAUSTED: Out of memory while trying to allocate 1047418776 bytes.')\n",
      "\n",
      "========== TRIAL 139 ==========\n",
      "Nin_virtual               12\n",
      "Nhidden                   60\n",
      "Nlayer                    3\n",
      "K                         200\n",
      "p_flip                    0.02\n",
      "Nt                        8\n"
     ]
    },
    {
     "name": "stderr",
     "output_type": "stream",
     "text": [
      "100%|██████████| 10/10 [00:20<00:00,  2.05s/it]\n",
      "100%|██████████| 10/10 [00:17<00:00,  1.73s/it]\n",
      "100%|██████████| 10/10 [00:17<00:00,  1.73s/it]\n"
     ]
    },
    {
     "name": "stdout",
     "output_type": "stream",
     "text": [
      "acc_mean                  0.734\n",
      "acc_std                   0.005\n",
      "\n",
      "========== TRIAL 140 ==========\n",
      "Nin_virtual               12\n",
      "Nhidden                   60\n",
      "Nlayer                    3\n",
      "K                         200\n",
      "p_flip                    0.02\n",
      "Nt                        12\n"
     ]
    },
    {
     "name": "stderr",
     "output_type": "stream",
     "text": [
      "  0%|          | 0/10 [00:00<?, ?it/s]2024-08-28 22:15:13.792301: W external/xla/xla/tsl/framework/bfc_allocator.cc:482] Allocator (GPU_0_bfc) ran out of memory trying to allocate 873.00MiB (rounded to 915403008)requested by op \n",
      "2024-08-28 22:15:13.792710: W external/xla/xla/tsl/framework/bfc_allocator.cc:494] **************______________________________________________________________________________________\n",
      "E0828 22:15:13.792757  308455 pjrt_stream_executor_client.cc:3067] Execution of replica 0 failed: RESOURCE_EXHAUSTED: Out of memory while trying to allocate 915402776 bytes.\n",
      "  0%|          | 0/10 [00:13<?, ?it/s]\n"
     ]
    },
    {
     "name": "stdout",
     "output_type": "stream",
     "text": [
      "error                     XlaRuntimeError('RESOURCE_EXHAUSTED: Out of memory while trying to allocate 915402776 bytes.')\n",
      "\n",
      "========== TRIAL 141 ==========\n",
      "Nin_virtual               12\n",
      "Nhidden                   60\n",
      "Nlayer                    3\n",
      "K                         200\n",
      "p_flip                    0.02\n",
      "Nt                        16\n"
     ]
    },
    {
     "name": "stderr",
     "output_type": "stream",
     "text": [
      "  0%|          | 0/10 [00:00<?, ?it/s]2024-08-28 22:15:34.324942: W external/xla/xla/tsl/framework/bfc_allocator.cc:482] Allocator (GPU_0_bfc) ran out of memory trying to allocate 998.90MiB (rounded to 1047418880)requested by op \n",
      "2024-08-28 22:15:34.325395: W external/xla/xla/tsl/framework/bfc_allocator.cc:494] ***************_____________________________________________________________________________________\n",
      "E0828 22:15:34.325440  308455 pjrt_stream_executor_client.cc:3067] Execution of replica 0 failed: RESOURCE_EXHAUSTED: Out of memory while trying to allocate 1047418776 bytes.\n",
      "  0%|          | 0/10 [00:13<?, ?it/s]\n"
     ]
    },
    {
     "name": "stdout",
     "output_type": "stream",
     "text": [
      "error                     XlaRuntimeError('RESOURCE_EXHAUSTED: Out of memory while trying to allocate 1047418776 bytes.')\n",
      "\n",
      "========== TRIAL 142 ==========\n",
      "Nin_virtual               12\n",
      "Nhidden                   60\n",
      "Nlayer                    3\n",
      "K                         200\n",
      "p_flip                    0.04\n",
      "Nt                        8\n"
     ]
    },
    {
     "name": "stderr",
     "output_type": "stream",
     "text": [
      "100%|██████████| 10/10 [00:17<00:00,  1.73s/it]\n",
      " 10%|█         | 1/10 [00:07<01:07,  7.55s/it]2024-08-28 22:16:19.014447: W external/xla/xla/tsl/framework/bfc_allocator.cc:482] Allocator (GPU_0_bfc) ran out of memory trying to allocate 746.18MiB (rounded to 782422528)requested by op \n",
      "2024-08-28 22:16:19.014865: W external/xla/xla/tsl/framework/bfc_allocator.cc:494] ****************____________________________________________________________________________________\n",
      "E0828 22:16:19.014901  308455 pjrt_stream_executor_client.cc:3067] Execution of replica 0 failed: RESOURCE_EXHAUSTED: Out of memory while trying to allocate 782422328 bytes.\n",
      " 10%|█         | 1/10 [00:17<02:38, 17.60s/it]\n"
     ]
    },
    {
     "name": "stdout",
     "output_type": "stream",
     "text": [
      "error                     ValueError('RESOURCE_EXHAUSTED: Out of memory while trying to allocate 782422328 bytes.')\n",
      "\n",
      "========== TRIAL 143 ==========\n",
      "Nin_virtual               12\n",
      "Nhidden                   60\n",
      "Nlayer                    3\n",
      "K                         200\n",
      "p_flip                    0.04\n",
      "Nt                        12\n"
     ]
    },
    {
     "name": "stderr",
     "output_type": "stream",
     "text": [
      "  0%|          | 0/10 [00:00<?, ?it/s]2024-08-28 22:16:39.431721: W external/xla/xla/tsl/framework/bfc_allocator.cc:482] Allocator (GPU_0_bfc) ran out of memory trying to allocate 873.00MiB (rounded to 915403008)requested by op \n",
      "2024-08-28 22:16:39.432134: W external/xla/xla/tsl/framework/bfc_allocator.cc:494] ****************____________________________________________________________________________________\n",
      "E0828 22:16:39.432173  308455 pjrt_stream_executor_client.cc:3067] Execution of replica 0 failed: RESOURCE_EXHAUSTED: Out of memory while trying to allocate 915402776 bytes.\n",
      "  0%|          | 0/10 [00:13<?, ?it/s]\n"
     ]
    },
    {
     "name": "stdout",
     "output_type": "stream",
     "text": [
      "error                     XlaRuntimeError('RESOURCE_EXHAUSTED: Out of memory while trying to allocate 915402776 bytes.')\n",
      "\n",
      "========== TRIAL 144 ==========\n",
      "Nin_virtual               12\n",
      "Nhidden                   60\n",
      "Nlayer                    3\n",
      "K                         200\n",
      "p_flip                    0.04\n",
      "Nt                        16\n"
     ]
    },
    {
     "name": "stderr",
     "output_type": "stream",
     "text": [
      "  0%|          | 0/10 [00:00<?, ?it/s]2024-08-28 22:16:59.937380: W external/xla/xla/tsl/framework/bfc_allocator.cc:482] Allocator (GPU_0_bfc) ran out of memory trying to allocate 998.90MiB (rounded to 1047418880)requested by op \n",
      "2024-08-28 22:16:59.937792: W external/xla/xla/tsl/framework/bfc_allocator.cc:494] *****************___________________________________________________________________________________\n",
      "E0828 22:16:59.937830  308455 pjrt_stream_executor_client.cc:3067] Execution of replica 0 failed: RESOURCE_EXHAUSTED: Out of memory while trying to allocate 1047418776 bytes.\n",
      "  0%|          | 0/10 [00:13<?, ?it/s]\n"
     ]
    },
    {
     "name": "stdout",
     "output_type": "stream",
     "text": [
      "error                     XlaRuntimeError('RESOURCE_EXHAUSTED: Out of memory while trying to allocate 1047418776 bytes.')\n",
      "\n",
      "========== TRIAL 145 ==========\n",
      "Nin_virtual               12\n",
      "Nhidden                   80\n",
      "Nlayer                    2\n",
      "K                         50\n",
      "p_flip                    0.0\n",
      "Nt                        8\n"
     ]
    },
    {
     "name": "stderr",
     "output_type": "stream",
     "text": [
      "100%|██████████| 10/10 [00:13<00:00,  1.36s/it]\n"
     ]
    },
    {
     "name": "stdout",
     "output_type": "stream",
     "text": [
      "Warning: A NaN appeared. Likely not enough spikes have been simulated. Try increasing `K`.\n"
     ]
    },
    {
     "name": "stderr",
     "output_type": "stream",
     "text": [
      "100%|██████████| 10/10 [00:14<00:00,  1.45s/it]\n"
     ]
    },
    {
     "name": "stdout",
     "output_type": "stream",
     "text": [
      "Warning: A NaN appeared. Likely not enough spikes have been simulated. Try increasing `K`.\n"
     ]
    },
    {
     "name": "stderr",
     "output_type": "stream",
     "text": [
      "100%|██████████| 10/10 [00:11<00:00,  1.12s/it]\n"
     ]
    },
    {
     "name": "stdout",
     "output_type": "stream",
     "text": [
      "Warning: A NaN appeared. Likely not enough spikes have been simulated. Try increasing `K`.\n",
      "acc_mean                  0.049\n",
      "acc_std                   0.004\n",
      "\n",
      "========== TRIAL 146 ==========\n",
      "Nin_virtual               12\n",
      "Nhidden                   80\n",
      "Nlayer                    2\n",
      "K                         50\n",
      "p_flip                    0.0\n",
      "Nt                        12\n"
     ]
    },
    {
     "name": "stderr",
     "output_type": "stream",
     "text": [
      "100%|██████████| 10/10 [00:13<00:00,  1.35s/it]\n"
     ]
    },
    {
     "name": "stdout",
     "output_type": "stream",
     "text": [
      "Warning: A NaN appeared. Likely not enough spikes have been simulated. Try increasing `K`.\n"
     ]
    },
    {
     "name": "stderr",
     "output_type": "stream",
     "text": [
      "100%|██████████| 10/10 [00:11<00:00,  1.13s/it]\n",
      "100%|██████████| 10/10 [00:11<00:00,  1.14s/it]\n"
     ]
    },
    {
     "name": "stdout",
     "output_type": "stream",
     "text": [
      "Warning: A NaN appeared. Likely not enough spikes have been simulated. Try increasing `K`.\n",
      "acc_mean                  0.303\n",
      "acc_std                   0.364\n",
      "\n",
      "========== TRIAL 147 ==========\n",
      "Nin_virtual               12\n",
      "Nhidden                   80\n",
      "Nlayer                    2\n",
      "K                         50\n",
      "p_flip                    0.0\n",
      "Nt                        16\n"
     ]
    },
    {
     "name": "stderr",
     "output_type": "stream",
     "text": [
      "100%|██████████| 10/10 [00:14<00:00,  1.45s/it]\n"
     ]
    },
    {
     "name": "stdout",
     "output_type": "stream",
     "text": [
      "Warning: A NaN appeared. Likely not enough spikes have been simulated. Try increasing `K`.\n"
     ]
    },
    {
     "name": "stderr",
     "output_type": "stream",
     "text": [
      "100%|██████████| 10/10 [00:12<00:00,  1.25s/it]\n",
      "100%|██████████| 10/10 [00:12<00:00,  1.24s/it]\n"
     ]
    },
    {
     "name": "stdout",
     "output_type": "stream",
     "text": [
      "Warning: A NaN appeared. Likely not enough spikes have been simulated. Try increasing `K`.\n",
      "acc_mean                  0.287\n",
      "acc_std                   0.340\n",
      "\n",
      "========== TRIAL 148 ==========\n",
      "Nin_virtual               12\n",
      "Nhidden                   80\n",
      "Nlayer                    2\n",
      "K                         50\n",
      "p_flip                    0.02\n",
      "Nt                        8\n"
     ]
    },
    {
     "name": "stderr",
     "output_type": "stream",
     "text": [
      "100%|██████████| 10/10 [00:11<00:00,  1.12s/it]\n"
     ]
    },
    {
     "name": "stdout",
     "output_type": "stream",
     "text": [
      "Warning: A NaN appeared. Likely not enough spikes have been simulated. Try increasing `K`.\n"
     ]
    },
    {
     "name": "stderr",
     "output_type": "stream",
     "text": [
      "100%|██████████| 10/10 [00:11<00:00,  1.12s/it]\n"
     ]
    },
    {
     "name": "stdout",
     "output_type": "stream",
     "text": [
      "Warning: A NaN appeared. Likely not enough spikes have been simulated. Try increasing `K`.\n"
     ]
    },
    {
     "name": "stderr",
     "output_type": "stream",
     "text": [
      "100%|██████████| 10/10 [00:11<00:00,  1.12s/it]\n"
     ]
    },
    {
     "name": "stdout",
     "output_type": "stream",
     "text": [
      "Warning: A NaN appeared. Likely not enough spikes have been simulated. Try increasing `K`.\n",
      "acc_mean                  0.049\n",
      "acc_std                   0.004\n",
      "\n",
      "========== TRIAL 149 ==========\n",
      "Nin_virtual               12\n",
      "Nhidden                   80\n",
      "Nlayer                    2\n",
      "K                         50\n",
      "p_flip                    0.02\n",
      "Nt                        12\n"
     ]
    },
    {
     "name": "stderr",
     "output_type": "stream",
     "text": [
      "100%|██████████| 10/10 [00:11<00:00,  1.14s/it]\n"
     ]
    },
    {
     "name": "stdout",
     "output_type": "stream",
     "text": [
      "Warning: A NaN appeared. Likely not enough spikes have been simulated. Try increasing `K`.\n"
     ]
    },
    {
     "name": "stderr",
     "output_type": "stream",
     "text": [
      "100%|██████████| 10/10 [00:11<00:00,  1.15s/it]\n",
      "100%|██████████| 10/10 [00:11<00:00,  1.14s/it]\n"
     ]
    },
    {
     "name": "stdout",
     "output_type": "stream",
     "text": [
      "Warning: A NaN appeared. Likely not enough spikes have been simulated. Try increasing `K`.\n",
      "acc_mean                  0.291\n",
      "acc_std                   0.347\n",
      "\n",
      "========== TRIAL 150 ==========\n",
      "Nin_virtual               12\n",
      "Nhidden                   80\n",
      "Nlayer                    2\n",
      "K                         50\n",
      "p_flip                    0.02\n",
      "Nt                        16\n"
     ]
    },
    {
     "name": "stderr",
     "output_type": "stream",
     "text": [
      "100%|██████████| 10/10 [00:12<00:00,  1.26s/it]\n"
     ]
    },
    {
     "name": "stdout",
     "output_type": "stream",
     "text": [
      "Warning: A NaN appeared. Likely not enough spikes have been simulated. Try increasing `K`.\n"
     ]
    },
    {
     "name": "stderr",
     "output_type": "stream",
     "text": [
      "100%|██████████| 10/10 [00:15<00:00,  1.58s/it]\n",
      "100%|██████████| 10/10 [00:12<00:00,  1.25s/it]\n"
     ]
    },
    {
     "name": "stdout",
     "output_type": "stream",
     "text": [
      "Warning: A NaN appeared. Likely not enough spikes have been simulated. Try increasing `K`.\n",
      "acc_mean                  0.282\n",
      "acc_std                   0.333\n",
      "\n",
      "========== TRIAL 151 ==========\n",
      "Nin_virtual               12\n",
      "Nhidden                   80\n",
      "Nlayer                    2\n",
      "K                         50\n",
      "p_flip                    0.04\n",
      "Nt                        8\n"
     ]
    },
    {
     "name": "stderr",
     "output_type": "stream",
     "text": [
      "100%|██████████| 10/10 [00:11<00:00,  1.11s/it]\n"
     ]
    },
    {
     "name": "stdout",
     "output_type": "stream",
     "text": [
      "Warning: A NaN appeared. Likely not enough spikes have been simulated. Try increasing `K`.\n"
     ]
    },
    {
     "name": "stderr",
     "output_type": "stream",
     "text": [
      "100%|██████████| 10/10 [00:11<00:00,  1.12s/it]\n"
     ]
    },
    {
     "name": "stdout",
     "output_type": "stream",
     "text": [
      "Warning: A NaN appeared. Likely not enough spikes have been simulated. Try increasing `K`.\n"
     ]
    },
    {
     "name": "stderr",
     "output_type": "stream",
     "text": [
      "100%|██████████| 10/10 [00:11<00:00,  1.11s/it]\n"
     ]
    },
    {
     "name": "stdout",
     "output_type": "stream",
     "text": [
      "Warning: A NaN appeared. Likely not enough spikes have been simulated. Try increasing `K`.\n",
      "acc_mean                  0.290\n",
      "acc_std                   0.345\n",
      "\n",
      "========== TRIAL 152 ==========\n",
      "Nin_virtual               12\n",
      "Nhidden                   80\n",
      "Nlayer                    2\n",
      "K                         50\n",
      "p_flip                    0.04\n",
      "Nt                        12\n"
     ]
    },
    {
     "name": "stderr",
     "output_type": "stream",
     "text": [
      "100%|██████████| 10/10 [00:11<00:00,  1.15s/it]\n",
      "100%|██████████| 10/10 [00:11<00:00,  1.15s/it]\n",
      "100%|██████████| 10/10 [00:11<00:00,  1.14s/it]\n"
     ]
    },
    {
     "name": "stdout",
     "output_type": "stream",
     "text": [
      "Warning: A NaN appeared. Likely not enough spikes have been simulated. Try increasing `K`.\n",
      "acc_mean                  0.521\n",
      "acc_std                   0.335\n",
      "\n",
      "========== TRIAL 153 ==========\n",
      "Nin_virtual               12\n",
      "Nhidden                   80\n",
      "Nlayer                    2\n",
      "K                         50\n",
      "p_flip                    0.04\n",
      "Nt                        16\n"
     ]
    },
    {
     "name": "stderr",
     "output_type": "stream",
     "text": [
      "100%|██████████| 10/10 [00:12<00:00,  1.24s/it]\n"
     ]
    },
    {
     "name": "stdout",
     "output_type": "stream",
     "text": [
      "Warning: A NaN appeared. Likely not enough spikes have been simulated. Try increasing `K`.\n"
     ]
    },
    {
     "name": "stderr",
     "output_type": "stream",
     "text": [
      "100%|██████████| 10/10 [00:12<00:00,  1.26s/it]\n",
      "100%|██████████| 10/10 [00:12<00:00,  1.25s/it]\n"
     ]
    },
    {
     "name": "stdout",
     "output_type": "stream",
     "text": [
      "Warning: A NaN appeared. Likely not enough spikes have been simulated. Try increasing `K`.\n",
      "acc_mean                  0.289\n",
      "acc_std                   0.344\n",
      "\n",
      "========== TRIAL 154 ==========\n",
      "Nin_virtual               12\n",
      "Nhidden                   80\n",
      "Nlayer                    2\n",
      "K                         100\n",
      "p_flip                    0.0\n",
      "Nt                        8\n"
     ]
    },
    {
     "name": "stderr",
     "output_type": "stream",
     "text": [
      "100%|██████████| 10/10 [00:14<00:00,  1.45s/it]\n",
      "100%|██████████| 10/10 [00:12<00:00,  1.28s/it]\n",
      "100%|██████████| 10/10 [00:12<00:00,  1.28s/it]\n"
     ]
    },
    {
     "name": "stdout",
     "output_type": "stream",
     "text": [
      "acc_mean                  0.825\n",
      "acc_std                   0.017\n",
      "\n",
      "========== TRIAL 155 ==========\n",
      "Nin_virtual               12\n",
      "Nhidden                   80\n",
      "Nlayer                    2\n",
      "K                         100\n",
      "p_flip                    0.0\n",
      "Nt                        12\n"
     ]
    },
    {
     "name": "stderr",
     "output_type": "stream",
     "text": [
      "100%|██████████| 10/10 [00:14<00:00,  1.47s/it]\n",
      "100%|██████████| 10/10 [00:16<00:00,  1.63s/it]\n",
      "100%|██████████| 10/10 [00:13<00:00,  1.31s/it]\n"
     ]
    },
    {
     "name": "stdout",
     "output_type": "stream",
     "text": [
      "acc_mean                  0.822\n",
      "acc_std                   0.020\n",
      "\n",
      "========== TRIAL 156 ==========\n",
      "Nin_virtual               12\n",
      "Nhidden                   80\n",
      "Nlayer                    2\n",
      "K                         100\n",
      "p_flip                    0.0\n",
      "Nt                        16\n"
     ]
    },
    {
     "name": "stderr",
     "output_type": "stream",
     "text": [
      "100%|██████████| 10/10 [00:15<00:00,  1.56s/it]\n",
      "  0%|          | 0/10 [00:00<?, ?it/s]2024-08-28 22:26:57.284922: W external/xla/xla/tsl/framework/bfc_allocator.cc:482] Allocator (GPU_0_bfc) ran out of memory trying to allocate 687.89MiB (rounded to 721302528)requested by op \n",
      "2024-08-28 22:26:57.285393: W external/xla/xla/tsl/framework/bfc_allocator.cc:494] ***********************_____________________________________________________________________________\n",
      "E0828 22:26:57.285431  308455 pjrt_stream_executor_client.cc:3067] Execution of replica 0 failed: RESOURCE_EXHAUSTED: Out of memory while trying to allocate 721302424 bytes.\n",
      "  0%|          | 0/10 [00:13<?, ?it/s]\n"
     ]
    },
    {
     "name": "stdout",
     "output_type": "stream",
     "text": [
      "error                     ValueError('RESOURCE_EXHAUSTED: Out of memory while trying to allocate 721302424 bytes.')\n",
      "\n",
      "========== TRIAL 157 ==========\n",
      "Nin_virtual               12\n",
      "Nhidden                   80\n",
      "Nlayer                    2\n",
      "K                         100\n",
      "p_flip                    0.02\n",
      "Nt                        8\n"
     ]
    },
    {
     "name": "stderr",
     "output_type": "stream",
     "text": [
      "100%|██████████| 10/10 [00:12<00:00,  1.28s/it]\n",
      "100%|██████████| 10/10 [00:12<00:00,  1.28s/it]\n",
      "100%|██████████| 10/10 [00:12<00:00,  1.28s/it]\n"
     ]
    },
    {
     "name": "stdout",
     "output_type": "stream",
     "text": [
      "acc_mean                  0.800\n",
      "acc_std                   0.017\n",
      "\n",
      "========== TRIAL 158 ==========\n",
      "Nin_virtual               12\n",
      "Nhidden                   80\n",
      "Nlayer                    2\n",
      "K                         100\n",
      "p_flip                    0.02\n",
      "Nt                        12\n"
     ]
    },
    {
     "name": "stderr",
     "output_type": "stream",
     "text": [
      "100%|██████████| 10/10 [00:13<00:00,  1.31s/it]\n",
      "100%|██████████| 10/10 [00:16<00:00,  1.63s/it]\n",
      "100%|██████████| 10/10 [00:13<00:00,  1.31s/it]\n"
     ]
    },
    {
     "name": "stdout",
     "output_type": "stream",
     "text": [
      "acc_mean                  0.812\n",
      "acc_std                   0.021\n",
      "\n",
      "========== TRIAL 159 ==========\n",
      "Nin_virtual               12\n",
      "Nhidden                   80\n",
      "Nlayer                    2\n",
      "K                         100\n",
      "p_flip                    0.02\n",
      "Nt                        16\n"
     ]
    },
    {
     "name": "stderr",
     "output_type": "stream",
     "text": [
      "  0%|          | 0/10 [00:00<?, ?it/s]2024-08-28 22:29:02.726344: W external/xla/xla/tsl/framework/bfc_allocator.cc:482] Allocator (GPU_0_bfc) ran out of memory trying to allocate 687.89MiB (rounded to 721302528)requested by op \n",
      "2024-08-28 22:29:02.726789: W external/xla/xla/tsl/framework/bfc_allocator.cc:494] ***********************_____________________________________________________________________________\n",
      "E0828 22:29:02.726824  308455 pjrt_stream_executor_client.cc:3067] Execution of replica 0 failed: RESOURCE_EXHAUSTED: Out of memory while trying to allocate 721302424 bytes.\n",
      "  0%|          | 0/10 [00:12<?, ?it/s]\n"
     ]
    },
    {
     "name": "stdout",
     "output_type": "stream",
     "text": [
      "error                     XlaRuntimeError('RESOURCE_EXHAUSTED: Out of memory while trying to allocate 721302424 bytes.')\n",
      "\n",
      "========== TRIAL 160 ==========\n",
      "Nin_virtual               12\n",
      "Nhidden                   80\n",
      "Nlayer                    2\n",
      "K                         100\n",
      "p_flip                    0.04\n",
      "Nt                        8\n"
     ]
    },
    {
     "name": "stderr",
     "output_type": "stream",
     "text": [
      "100%|██████████| 10/10 [00:12<00:00,  1.29s/it]\n",
      "100%|██████████| 10/10 [00:12<00:00,  1.27s/it]\n",
      "100%|██████████| 10/10 [00:12<00:00,  1.28s/it]\n"
     ]
    },
    {
     "name": "stdout",
     "output_type": "stream",
     "text": [
      "acc_mean                  0.789\n",
      "acc_std                   0.021\n",
      "\n",
      "========== TRIAL 161 ==========\n",
      "Nin_virtual               12\n",
      "Nhidden                   80\n",
      "Nlayer                    2\n",
      "K                         100\n",
      "p_flip                    0.04\n",
      "Nt                        12\n"
     ]
    },
    {
     "name": "stderr",
     "output_type": "stream",
     "text": [
      "100%|██████████| 10/10 [00:13<00:00,  1.31s/it]\n",
      "100%|██████████| 10/10 [00:13<00:00,  1.31s/it]\n",
      "100%|██████████| 10/10 [00:16<00:00,  1.64s/it]\n"
     ]
    },
    {
     "name": "stdout",
     "output_type": "stream",
     "text": [
      "acc_mean                  0.776\n",
      "acc_std                   0.035\n",
      "\n",
      "========== TRIAL 162 ==========\n",
      "Nin_virtual               12\n",
      "Nhidden                   80\n",
      "Nlayer                    2\n",
      "K                         100\n",
      "p_flip                    0.04\n",
      "Nt                        16\n"
     ]
    },
    {
     "name": "stderr",
     "output_type": "stream",
     "text": [
      "  0%|          | 0/10 [00:00<?, ?it/s]2024-08-28 22:31:08.544173: W external/xla/xla/tsl/framework/bfc_allocator.cc:482] Allocator (GPU_0_bfc) ran out of memory trying to allocate 687.89MiB (rounded to 721302528)requested by op \n",
      "2024-08-28 22:31:08.544628: W external/xla/xla/tsl/framework/bfc_allocator.cc:494] ************************____________________________________________________________________________\n",
      "E0828 22:31:08.544664  308455 pjrt_stream_executor_client.cc:3067] Execution of replica 0 failed: RESOURCE_EXHAUSTED: Out of memory while trying to allocate 721302424 bytes.\n",
      "  0%|          | 0/10 [00:13<?, ?it/s]\n"
     ]
    },
    {
     "name": "stdout",
     "output_type": "stream",
     "text": [
      "error                     XlaRuntimeError('RESOURCE_EXHAUSTED: Out of memory while trying to allocate 721302424 bytes.')\n",
      "\n",
      "========== TRIAL 163 ==========\n",
      "Nin_virtual               12\n",
      "Nhidden                   80\n",
      "Nlayer                    2\n",
      "K                         150\n",
      "p_flip                    0.0\n",
      "Nt                        8\n"
     ]
    },
    {
     "name": "stderr",
     "output_type": "stream",
     "text": [
      "100%|██████████| 10/10 [00:16<00:00,  1.60s/it]\n",
      "100%|██████████| 10/10 [00:14<00:00,  1.43s/it]\n",
      "100%|██████████| 10/10 [00:14<00:00,  1.44s/it]\n"
     ]
    },
    {
     "name": "stdout",
     "output_type": "stream",
     "text": [
      "acc_mean                  0.833\n",
      "acc_std                   0.017\n",
      "\n",
      "========== TRIAL 164 ==========\n",
      "Nin_virtual               12\n",
      "Nhidden                   80\n",
      "Nlayer                    2\n",
      "K                         150\n",
      "p_flip                    0.0\n",
      "Nt                        12\n"
     ]
    },
    {
     "name": "stderr",
     "output_type": "stream",
     "text": [
      "100%|██████████| 10/10 [00:16<00:00,  1.62s/it]\n",
      "100%|██████████| 10/10 [00:14<00:00,  1.47s/it]\n",
      "100%|██████████| 10/10 [00:14<00:00,  1.47s/it]\n"
     ]
    },
    {
     "name": "stdout",
     "output_type": "stream",
     "text": [
      "acc_mean                  0.818\n",
      "acc_std                   0.011\n",
      "\n",
      "========== TRIAL 165 ==========\n",
      "Nin_virtual               12\n",
      "Nhidden                   80\n",
      "Nlayer                    2\n",
      "K                         150\n",
      "p_flip                    0.0\n",
      "Nt                        16\n"
     ]
    },
    {
     "name": "stderr",
     "output_type": "stream",
     "text": [
      "  0%|          | 0/10 [00:00<?, ?it/s]2024-08-28 22:33:26.435892: W external/xla/xla/tsl/framework/bfc_allocator.cc:482] Allocator (GPU_0_bfc) ran out of memory trying to allocate 774.43MiB (rounded to 812052480)requested by op \n",
      "2024-08-28 22:33:26.436365: W external/xla/xla/tsl/framework/bfc_allocator.cc:494] *************************___________________________________________________________________________\n",
      "E0828 22:33:26.436403  308455 pjrt_stream_executor_client.cc:3067] Execution of replica 0 failed: RESOURCE_EXHAUSTED: Out of memory while trying to allocate 812052376 bytes.\n",
      "  0%|          | 0/10 [00:13<?, ?it/s]\n"
     ]
    },
    {
     "name": "stdout",
     "output_type": "stream",
     "text": [
      "error                     XlaRuntimeError('RESOURCE_EXHAUSTED: Out of memory while trying to allocate 812052376 bytes.')\n",
      "\n",
      "========== TRIAL 166 ==========\n",
      "Nin_virtual               12\n",
      "Nhidden                   80\n",
      "Nlayer                    2\n",
      "K                         150\n",
      "p_flip                    0.02\n",
      "Nt                        8\n"
     ]
    },
    {
     "name": "stderr",
     "output_type": "stream",
     "text": [
      "100%|██████████| 10/10 [00:17<00:00,  1.79s/it]\n",
      "100%|██████████| 10/10 [00:14<00:00,  1.44s/it]\n",
      "100%|██████████| 10/10 [00:14<00:00,  1.44s/it]\n"
     ]
    },
    {
     "name": "stdout",
     "output_type": "stream",
     "text": [
      "acc_mean                  0.811\n",
      "acc_std                   0.007\n",
      "\n",
      "========== TRIAL 167 ==========\n",
      "Nin_virtual               12\n",
      "Nhidden                   80\n",
      "Nlayer                    2\n",
      "K                         150\n",
      "p_flip                    0.02\n",
      "Nt                        12\n"
     ]
    },
    {
     "name": "stderr",
     "output_type": "stream",
     "text": [
      "100%|██████████| 10/10 [00:14<00:00,  1.47s/it]\n",
      "100%|██████████| 10/10 [00:14<00:00,  1.47s/it]\n",
      "100%|██████████| 10/10 [00:14<00:00,  1.47s/it]\n"
     ]
    },
    {
     "name": "stdout",
     "output_type": "stream",
     "text": [
      "acc_mean                  0.814\n",
      "acc_std                   0.020\n",
      "\n",
      "========== TRIAL 168 ==========\n",
      "Nin_virtual               12\n",
      "Nhidden                   80\n",
      "Nlayer                    2\n",
      "K                         150\n",
      "p_flip                    0.02\n",
      "Nt                        16\n"
     ]
    },
    {
     "name": "stderr",
     "output_type": "stream",
     "text": [
      "  0%|          | 0/10 [00:00<?, ?it/s]2024-08-28 22:35:42.145739: W external/xla/xla/tsl/framework/bfc_allocator.cc:482] Allocator (GPU_0_bfc) ran out of memory trying to allocate 774.43MiB (rounded to 812052480)requested by op \n",
      "2024-08-28 22:35:42.146405: W external/xla/xla/tsl/framework/bfc_allocator.cc:494] **************************__________________________________________________________________________\n",
      "E0828 22:35:42.146443  308455 pjrt_stream_executor_client.cc:3067] Execution of replica 0 failed: RESOURCE_EXHAUSTED: Out of memory while trying to allocate 812052376 bytes.\n",
      "  0%|          | 0/10 [00:13<?, ?it/s]\n"
     ]
    },
    {
     "name": "stdout",
     "output_type": "stream",
     "text": [
      "error                     XlaRuntimeError('RESOURCE_EXHAUSTED: Out of memory while trying to allocate 812052376 bytes.')\n",
      "\n",
      "========== TRIAL 169 ==========\n",
      "Nin_virtual               12\n",
      "Nhidden                   80\n",
      "Nlayer                    2\n",
      "K                         150\n",
      "p_flip                    0.04\n",
      "Nt                        8\n"
     ]
    },
    {
     "name": "stderr",
     "output_type": "stream",
     "text": [
      "100%|██████████| 10/10 [00:14<00:00,  1.44s/it]\n",
      "100%|██████████| 10/10 [00:17<00:00,  1.78s/it]\n",
      "100%|██████████| 10/10 [00:14<00:00,  1.44s/it]\n"
     ]
    },
    {
     "name": "stdout",
     "output_type": "stream",
     "text": [
      "acc_mean                  0.773\n",
      "acc_std                   0.041\n",
      "\n",
      "========== TRIAL 170 ==========\n",
      "Nin_virtual               12\n",
      "Nhidden                   80\n",
      "Nlayer                    2\n",
      "K                         150\n",
      "p_flip                    0.04\n",
      "Nt                        12\n"
     ]
    },
    {
     "name": "stderr",
     "output_type": "stream",
     "text": [
      "100%|██████████| 10/10 [00:14<00:00,  1.48s/it]\n",
      "100%|██████████| 10/10 [00:14<00:00,  1.47s/it]\n",
      " 10%|█         | 1/10 [00:06<01:02,  7.00s/it]2024-08-28 22:37:39.967246: W external/xla/xla/tsl/framework/bfc_allocator.cc:482] Allocator (GPU_0_bfc) ran out of memory trying to allocate 646.26MiB (rounded to 677652480)requested by op \n",
      "2024-08-28 22:37:39.967768: W external/xla/xla/tsl/framework/bfc_allocator.cc:494] ***************************_________________________________________________________________________\n",
      "E0828 22:37:39.967803  308455 pjrt_stream_executor_client.cc:3067] Execution of replica 0 failed: RESOURCE_EXHAUSTED: Out of memory while trying to allocate 677652376 bytes.\n",
      " 10%|█         | 1/10 [00:17<02:33, 17.03s/it]\n"
     ]
    },
    {
     "name": "stdout",
     "output_type": "stream",
     "text": [
      "error                     ValueError('RESOURCE_EXHAUSTED: Out of memory while trying to allocate 677652376 bytes.')\n",
      "\n",
      "========== TRIAL 171 ==========\n",
      "Nin_virtual               12\n",
      "Nhidden                   80\n",
      "Nlayer                    2\n",
      "K                         150\n",
      "p_flip                    0.04\n",
      "Nt                        16\n"
     ]
    },
    {
     "name": "stderr",
     "output_type": "stream",
     "text": [
      "  0%|          | 0/10 [00:00<?, ?it/s]2024-08-28 22:38:00.227114: W external/xla/xla/tsl/framework/bfc_allocator.cc:482] Allocator (GPU_0_bfc) ran out of memory trying to allocate 774.43MiB (rounded to 812052480)requested by op \n",
      "2024-08-28 22:38:00.227691: W external/xla/xla/tsl/framework/bfc_allocator.cc:494] ***************************_________________________________________________________________________\n",
      "E0828 22:38:00.227738  308455 pjrt_stream_executor_client.cc:3067] Execution of replica 0 failed: RESOURCE_EXHAUSTED: Out of memory while trying to allocate 812052376 bytes.\n",
      "  0%|          | 0/10 [00:13<?, ?it/s]\n"
     ]
    },
    {
     "name": "stdout",
     "output_type": "stream",
     "text": [
      "error                     XlaRuntimeError('RESOURCE_EXHAUSTED: Out of memory while trying to allocate 812052376 bytes.')\n",
      "\n",
      "========== TRIAL 172 ==========\n",
      "Nin_virtual               12\n",
      "Nhidden                   80\n",
      "Nlayer                    2\n",
      "K                         200\n",
      "p_flip                    0.0\n",
      "Nt                        8\n"
     ]
    },
    {
     "name": "stderr",
     "output_type": "stream",
     "text": [
      "100%|██████████| 10/10 [00:17<00:00,  1.76s/it]\n",
      "100%|██████████| 10/10 [00:15<00:00,  1.60s/it]\n",
      "100%|██████████| 10/10 [00:19<00:00,  1.92s/it]\n"
     ]
    },
    {
     "name": "stdout",
     "output_type": "stream",
     "text": [
      "acc_mean                  0.817\n",
      "acc_std                   0.019\n",
      "\n",
      "========== TRIAL 173 ==========\n",
      "Nin_virtual               12\n",
      "Nhidden                   80\n",
      "Nlayer                    2\n",
      "K                         200\n",
      "p_flip                    0.0\n",
      "Nt                        12\n"
     ]
    },
    {
     "name": "stderr",
     "output_type": "stream",
     "text": [
      "  0%|          | 0/10 [00:00<?, ?it/s]2024-08-28 22:39:27.448690: W external/xla/xla/tsl/framework/bfc_allocator.cc:482] Allocator (GPU_0_bfc) ran out of memory trying to allocate 732.80MiB (rounded to 768402432)requested by op \n",
      "2024-08-28 22:39:27.449216: W external/xla/xla/tsl/framework/bfc_allocator.cc:494] ***************************_________________________________________________________________________\n",
      "E0828 22:39:27.449253  308455 pjrt_stream_executor_client.cc:3067] Execution of replica 0 failed: RESOURCE_EXHAUSTED: Out of memory while trying to allocate 768402200 bytes.\n",
      "  0%|          | 0/10 [00:13<?, ?it/s]\n"
     ]
    },
    {
     "name": "stdout",
     "output_type": "stream",
     "text": [
      "error                     XlaRuntimeError('RESOURCE_EXHAUSTED: Out of memory while trying to allocate 768402200 bytes.')\n",
      "\n",
      "========== TRIAL 174 ==========\n",
      "Nin_virtual               12\n",
      "Nhidden                   80\n",
      "Nlayer                    2\n",
      "K                         200\n",
      "p_flip                    0.0\n",
      "Nt                        16\n"
     ]
    },
    {
     "name": "stderr",
     "output_type": "stream",
     "text": [
      "  0%|          | 0/10 [00:00<?, ?it/s]2024-08-28 22:39:49.107518: W external/xla/xla/tsl/framework/bfc_allocator.cc:482] Allocator (GPU_0_bfc) ran out of memory trying to allocate 860.98MiB (rounded to 902802432)requested by op \n",
      "2024-08-28 22:39:49.108128: W external/xla/xla/tsl/framework/bfc_allocator.cc:494] ******************************______________________________________________________________________\n",
      "E0828 22:39:49.108177  308455 pjrt_stream_executor_client.cc:3067] Execution of replica 0 failed: RESOURCE_EXHAUSTED: Out of memory while trying to allocate 902802200 bytes.\n",
      "  0%|          | 0/10 [00:13<?, ?it/s]\n"
     ]
    },
    {
     "name": "stdout",
     "output_type": "stream",
     "text": [
      "error                     XlaRuntimeError('RESOURCE_EXHAUSTED: Out of memory while trying to allocate 902802200 bytes.')\n",
      "\n",
      "========== TRIAL 175 ==========\n",
      "Nin_virtual               12\n",
      "Nhidden                   80\n",
      "Nlayer                    2\n",
      "K                         200\n",
      "p_flip                    0.02\n",
      "Nt                        8\n"
     ]
    },
    {
     "name": "stderr",
     "output_type": "stream",
     "text": [
      "100%|██████████| 10/10 [00:15<00:00,  1.60s/it]\n",
      "100%|██████████| 10/10 [00:15<00:00,  1.59s/it]\n",
      "100%|██████████| 10/10 [00:15<00:00,  1.59s/it]\n"
     ]
    },
    {
     "name": "stdout",
     "output_type": "stream",
     "text": [
      "acc_mean                  0.803\n",
      "acc_std                   0.031\n",
      "\n",
      "========== TRIAL 176 ==========\n",
      "Nin_virtual               12\n",
      "Nhidden                   80\n",
      "Nlayer                    2\n",
      "K                         200\n",
      "p_flip                    0.02\n",
      "Nt                        12\n"
     ]
    },
    {
     "name": "stderr",
     "output_type": "stream",
     "text": [
      "  0%|          | 0/10 [00:00<?, ?it/s]2024-08-28 22:41:09.268633: W external/xla/xla/tsl/framework/bfc_allocator.cc:482] Allocator (GPU_0_bfc) ran out of memory trying to allocate 732.80MiB (rounded to 768402432)requested by op \n",
      "2024-08-28 22:41:09.269168: W external/xla/xla/tsl/framework/bfc_allocator.cc:494] ******************************______________________________________________________________________\n",
      "E0828 22:41:09.269206  308455 pjrt_stream_executor_client.cc:3067] Execution of replica 0 failed: RESOURCE_EXHAUSTED: Out of memory while trying to allocate 768402200 bytes.\n",
      "  0%|          | 0/10 [00:13<?, ?it/s]\n"
     ]
    },
    {
     "name": "stdout",
     "output_type": "stream",
     "text": [
      "error                     XlaRuntimeError('RESOURCE_EXHAUSTED: Out of memory while trying to allocate 768402200 bytes.')\n",
      "\n",
      "========== TRIAL 177 ==========\n",
      "Nin_virtual               12\n",
      "Nhidden                   80\n",
      "Nlayer                    2\n",
      "K                         200\n",
      "p_flip                    0.02\n",
      "Nt                        16\n"
     ]
    },
    {
     "name": "stderr",
     "output_type": "stream",
     "text": [
      "  0%|          | 0/10 [00:00<?, ?it/s]2024-08-28 22:41:29.567836: W external/xla/xla/tsl/framework/bfc_allocator.cc:482] Allocator (GPU_0_bfc) ran out of memory trying to allocate 860.98MiB (rounded to 902802432)requested by op \n",
      "2024-08-28 22:41:29.568442: W external/xla/xla/tsl/framework/bfc_allocator.cc:494] ********************************____________________________________________________________________\n",
      "E0828 22:41:29.568482  308455 pjrt_stream_executor_client.cc:3067] Execution of replica 0 failed: RESOURCE_EXHAUSTED: Out of memory while trying to allocate 902802200 bytes.\n",
      "  0%|          | 0/10 [00:13<?, ?it/s]\n"
     ]
    },
    {
     "name": "stdout",
     "output_type": "stream",
     "text": [
      "error                     XlaRuntimeError('RESOURCE_EXHAUSTED: Out of memory while trying to allocate 902802200 bytes.')\n",
      "\n",
      "========== TRIAL 178 ==========\n",
      "Nin_virtual               12\n",
      "Nhidden                   80\n",
      "Nlayer                    2\n",
      "K                         200\n",
      "p_flip                    0.04\n",
      "Nt                        8\n"
     ]
    },
    {
     "name": "stderr",
     "output_type": "stream",
     "text": [
      "100%|██████████| 10/10 [00:15<00:00,  1.60s/it]\n",
      "100%|██████████| 10/10 [00:15<00:00,  1.60s/it]\n",
      " 10%|█         | 1/10 [00:10<01:38, 10.99s/it]2024-08-28 22:42:34.816412: W external/xla/xla/tsl/framework/bfc_allocator.cc:482] Allocator (GPU_0_bfc) ran out of memory trying to allocate 606.83MiB (rounded to 636305408)requested by op \n",
      "2024-08-28 22:42:34.816855: W external/xla/xla/tsl/framework/bfc_allocator.cc:494] ********************************____________________________________________________________________\n",
      "E0828 22:42:34.816885  308455 pjrt_stream_executor_client.cc:3067] Execution of replica 0 failed: RESOURCE_EXHAUSTED: Out of memory while trying to allocate 636305192 bytes.\n",
      " 10%|█         | 1/10 [00:21<03:09, 21.04s/it]\n"
     ]
    },
    {
     "name": "stdout",
     "output_type": "stream",
     "text": [
      "error                     ValueError('RESOURCE_EXHAUSTED: Out of memory while trying to allocate 636305192 bytes.')\n",
      "\n",
      "========== TRIAL 179 ==========\n",
      "Nin_virtual               12\n",
      "Nhidden                   80\n",
      "Nlayer                    2\n",
      "K                         200\n",
      "p_flip                    0.04\n",
      "Nt                        12\n"
     ]
    },
    {
     "name": "stderr",
     "output_type": "stream",
     "text": [
      "  0%|          | 0/10 [00:00<?, ?it/s]2024-08-28 22:42:54.977917: W external/xla/xla/tsl/framework/bfc_allocator.cc:482] Allocator (GPU_0_bfc) ran out of memory trying to allocate 732.80MiB (rounded to 768402432)requested by op \n",
      "2024-08-28 22:42:54.978605: W external/xla/xla/tsl/framework/bfc_allocator.cc:494] ********************************____________________________________________________________________\n",
      "E0828 22:42:54.978646  308455 pjrt_stream_executor_client.cc:3067] Execution of replica 0 failed: RESOURCE_EXHAUSTED: Out of memory while trying to allocate 768402200 bytes.\n",
      "  0%|          | 0/10 [00:13<?, ?it/s]\n"
     ]
    },
    {
     "name": "stdout",
     "output_type": "stream",
     "text": [
      "error                     XlaRuntimeError('RESOURCE_EXHAUSTED: Out of memory while trying to allocate 768402200 bytes.')\n",
      "\n",
      "========== TRIAL 180 ==========\n",
      "Nin_virtual               12\n",
      "Nhidden                   80\n",
      "Nlayer                    2\n",
      "K                         200\n",
      "p_flip                    0.04\n",
      "Nt                        16\n"
     ]
    },
    {
     "name": "stderr",
     "output_type": "stream",
     "text": [
      "  0%|          | 0/10 [00:00<?, ?it/s]2024-08-28 22:43:15.288436: W external/xla/xla/tsl/framework/bfc_allocator.cc:482] Allocator (GPU_0_bfc) ran out of memory trying to allocate 860.98MiB (rounded to 902802432)requested by op \n",
      "2024-08-28 22:43:15.289025: W external/xla/xla/tsl/framework/bfc_allocator.cc:494] ***********************************_________________________________________________________________\n",
      "E0828 22:43:15.289063  308455 pjrt_stream_executor_client.cc:3067] Execution of replica 0 failed: RESOURCE_EXHAUSTED: Out of memory while trying to allocate 902802200 bytes.\n",
      "  0%|          | 0/10 [00:13<?, ?it/s]\n"
     ]
    },
    {
     "name": "stdout",
     "output_type": "stream",
     "text": [
      "error                     XlaRuntimeError('RESOURCE_EXHAUSTED: Out of memory while trying to allocate 902802200 bytes.')\n",
      "\n",
      "========== TRIAL 181 ==========\n",
      "Nin_virtual               12\n",
      "Nhidden                   80\n",
      "Nlayer                    3\n",
      "K                         50\n",
      "p_flip                    0.0\n",
      "Nt                        8\n"
     ]
    },
    {
     "name": "stderr",
     "output_type": "stream",
     "text": [
      "100%|██████████| 10/10 [00:14<00:00,  1.46s/it]\n",
      "100%|██████████| 10/10 [00:12<00:00,  1.26s/it]\n",
      "100%|██████████| 10/10 [00:12<00:00,  1.25s/it]\n"
     ]
    },
    {
     "name": "stdout",
     "output_type": "stream",
     "text": [
      "Warning: A NaN appeared. Likely not enough spikes have been simulated. Try increasing `K`.\n",
      "acc_mean                  0.247\n",
      "acc_std                   0.030\n",
      "\n",
      "========== TRIAL 182 ==========\n",
      "Nin_virtual               12\n",
      "Nhidden                   80\n",
      "Nlayer                    3\n",
      "K                         50\n",
      "p_flip                    0.0\n",
      "Nt                        12\n"
     ]
    },
    {
     "name": "stderr",
     "output_type": "stream",
     "text": [
      "100%|██████████| 10/10 [00:14<00:00,  1.43s/it]\n",
      "100%|██████████| 10/10 [00:12<00:00,  1.28s/it]\n",
      "100%|██████████| 10/10 [00:12<00:00,  1.27s/it]\n"
     ]
    },
    {
     "name": "stdout",
     "output_type": "stream",
     "text": [
      "acc_mean                  0.251\n",
      "acc_std                   0.025\n",
      "\n",
      "========== TRIAL 183 ==========\n",
      "Nin_virtual               12\n",
      "Nhidden                   80\n",
      "Nlayer                    3\n",
      "K                         50\n",
      "p_flip                    0.0\n",
      "Nt                        16\n"
     ]
    },
    {
     "name": "stderr",
     "output_type": "stream",
     "text": [
      "  0%|          | 0/10 [00:00<?, ?it/s]2024-08-28 22:45:26.936039: W external/xla/xla/tsl/framework/bfc_allocator.cc:482] Allocator (GPU_0_bfc) ran out of memory trying to allocate 671.36MiB (rounded to 703973120)requested by op \n",
      "2024-08-28 22:45:26.936675: W external/xla/xla/tsl/framework/bfc_allocator.cc:494] *************************************_______________________________________________________________\n",
      "E0828 22:45:26.936715  308455 pjrt_stream_executor_client.cc:3067] Execution of replica 0 failed: RESOURCE_EXHAUSTED: Out of memory while trying to allocate 703973016 bytes.\n",
      "  0%|          | 0/10 [00:13<?, ?it/s]\n"
     ]
    },
    {
     "name": "stdout",
     "output_type": "stream",
     "text": [
      "error                     XlaRuntimeError('RESOURCE_EXHAUSTED: Out of memory while trying to allocate 703973016 bytes.')\n",
      "\n",
      "========== TRIAL 184 ==========\n",
      "Nin_virtual               12\n",
      "Nhidden                   80\n",
      "Nlayer                    3\n",
      "K                         50\n",
      "p_flip                    0.02\n",
      "Nt                        8\n"
     ]
    },
    {
     "name": "stderr",
     "output_type": "stream",
     "text": [
      "100%|██████████| 10/10 [00:12<00:00,  1.26s/it]\n",
      "100%|██████████| 10/10 [00:12<00:00,  1.25s/it]\n",
      "100%|██████████| 10/10 [00:12<00:00,  1.26s/it]\n"
     ]
    },
    {
     "name": "stdout",
     "output_type": "stream",
     "text": [
      "acc_mean                  0.259\n",
      "acc_std                   0.078\n",
      "\n",
      "========== TRIAL 185 ==========\n",
      "Nin_virtual               12\n",
      "Nhidden                   80\n",
      "Nlayer                    3\n",
      "K                         50\n",
      "p_flip                    0.02\n",
      "Nt                        12\n"
     ]
    },
    {
     "name": "stderr",
     "output_type": "stream",
     "text": [
      "100%|██████████| 10/10 [00:12<00:00,  1.28s/it]\n",
      "100%|██████████| 10/10 [00:12<00:00,  1.29s/it]\n",
      "100%|██████████| 10/10 [00:12<00:00,  1.28s/it]\n"
     ]
    },
    {
     "name": "stdout",
     "output_type": "stream",
     "text": [
      "acc_mean                  0.282\n",
      "acc_std                   0.060\n",
      "\n",
      "========== TRIAL 186 ==========\n",
      "Nin_virtual               12\n",
      "Nhidden                   80\n",
      "Nlayer                    3\n",
      "K                         50\n",
      "p_flip                    0.02\n",
      "Nt                        16\n"
     ]
    },
    {
     "name": "stderr",
     "output_type": "stream",
     "text": [
      "  0%|          | 0/10 [00:00<?, ?it/s]2024-08-28 22:47:28.403610: W external/xla/xla/tsl/framework/bfc_allocator.cc:482] Allocator (GPU_0_bfc) ran out of memory trying to allocate 671.36MiB (rounded to 703973120)requested by op \n",
      "2024-08-28 22:47:28.404250: W external/xla/xla/tsl/framework/bfc_allocator.cc:494] **************************************______________________________________________________________\n",
      "E0828 22:47:28.404290  308455 pjrt_stream_executor_client.cc:3067] Execution of replica 0 failed: RESOURCE_EXHAUSTED: Out of memory while trying to allocate 703973016 bytes.\n",
      "  0%|          | 0/10 [00:13<?, ?it/s]\n"
     ]
    },
    {
     "name": "stdout",
     "output_type": "stream",
     "text": [
      "error                     XlaRuntimeError('RESOURCE_EXHAUSTED: Out of memory while trying to allocate 703973016 bytes.')\n",
      "\n",
      "========== TRIAL 187 ==========\n",
      "Nin_virtual               12\n",
      "Nhidden                   80\n",
      "Nlayer                    3\n",
      "K                         50\n",
      "p_flip                    0.04\n",
      "Nt                        8\n"
     ]
    },
    {
     "name": "stderr",
     "output_type": "stream",
     "text": [
      "100%|██████████| 10/10 [00:15<00:00,  1.58s/it]\n",
      "100%|██████████| 10/10 [00:12<00:00,  1.26s/it]\n",
      "100%|██████████| 10/10 [00:12<00:00,  1.26s/it]\n"
     ]
    },
    {
     "name": "stdout",
     "output_type": "stream",
     "text": [
      "acc_mean                  0.183\n",
      "acc_std                   0.015\n",
      "\n",
      "========== TRIAL 188 ==========\n",
      "Nin_virtual               12\n",
      "Nhidden                   80\n",
      "Nlayer                    3\n",
      "K                         50\n",
      "p_flip                    0.04\n",
      "Nt                        12\n"
     ]
    },
    {
     "name": "stderr",
     "output_type": "stream",
     "text": [
      "  0%|          | 0/10 [00:00<?, ?it/s]2024-08-28 22:48:42.001784: W external/xla/xla/tsl/framework/bfc_allocator.cc:482] Allocator (GPU_0_bfc) ran out of memory trying to allocate 543.19MiB (rounded to 569573120)requested by op \n",
      "2024-08-28 22:48:42.002412: W external/xla/xla/tsl/framework/bfc_allocator.cc:494] ***************************************_____________________________________________________________\n",
      "E0828 22:48:42.002448  308455 pjrt_stream_executor_client.cc:3067] Execution of replica 0 failed: RESOURCE_EXHAUSTED: Out of memory while trying to allocate 569573016 bytes.\n",
      "  0%|          | 0/10 [00:13<?, ?it/s]\n"
     ]
    },
    {
     "name": "stdout",
     "output_type": "stream",
     "text": [
      "error                     ValueError('RESOURCE_EXHAUSTED: Out of memory while trying to allocate 569573016 bytes.')\n",
      "\n",
      "========== TRIAL 189 ==========\n",
      "Nin_virtual               12\n",
      "Nhidden                   80\n",
      "Nlayer                    3\n",
      "K                         50\n",
      "p_flip                    0.04\n",
      "Nt                        16\n"
     ]
    },
    {
     "name": "stderr",
     "output_type": "stream",
     "text": [
      "  0%|          | 0/10 [00:00<?, ?it/s]2024-08-28 22:49:02.381942: W external/xla/xla/tsl/framework/bfc_allocator.cc:482] Allocator (GPU_0_bfc) ran out of memory trying to allocate 671.36MiB (rounded to 703973120)requested by op \n",
      "2024-08-28 22:49:02.382617: W external/xla/xla/tsl/framework/bfc_allocator.cc:494] ****************************************____________________________________________________________\n",
      "E0828 22:49:02.382656  308455 pjrt_stream_executor_client.cc:3067] Execution of replica 0 failed: RESOURCE_EXHAUSTED: Out of memory while trying to allocate 703973016 bytes.\n",
      "  0%|          | 0/10 [00:13<?, ?it/s]\n"
     ]
    },
    {
     "name": "stdout",
     "output_type": "stream",
     "text": [
      "error                     XlaRuntimeError('RESOURCE_EXHAUSTED: Out of memory while trying to allocate 703973016 bytes.')\n",
      "\n",
      "========== TRIAL 190 ==========\n",
      "Nin_virtual               12\n",
      "Nhidden                   80\n",
      "Nlayer                    3\n",
      "K                         100\n",
      "p_flip                    0.0\n",
      "Nt                        8\n"
     ]
    },
    {
     "name": "stderr",
     "output_type": "stream",
     "text": [
      "  0%|          | 0/10 [00:00<?, ?it/s]2024-08-28 22:49:24.476599: W external/xla/xla/tsl/framework/bfc_allocator.cc:482] Allocator (GPU_0_bfc) ran out of memory trying to allocate 569.92MiB (rounded to 597602560)requested by op \n",
      "2024-08-28 22:49:24.477084: W external/xla/xla/tsl/framework/bfc_allocator.cc:494] ****************************************____________________________________________________________\n",
      "E0828 22:49:24.477114  308455 pjrt_stream_executor_client.cc:3067] Execution of replica 0 failed: RESOURCE_EXHAUSTED: Out of memory while trying to allocate 597602488 bytes.\n",
      "  0%|          | 0/10 [00:14<?, ?it/s]\n"
     ]
    },
    {
     "name": "stdout",
     "output_type": "stream",
     "text": [
      "error                     XlaRuntimeError('RESOURCE_EXHAUSTED: Out of memory while trying to allocate 597602488 bytes.')\n",
      "\n",
      "========== TRIAL 191 ==========\n",
      "Nin_virtual               12\n",
      "Nhidden                   80\n",
      "Nlayer                    3\n",
      "K                         100\n",
      "p_flip                    0.0\n",
      "Nt                        12\n"
     ]
    },
    {
     "name": "stderr",
     "output_type": "stream",
     "text": [
      "  0%|          | 0/10 [00:00<?, ?it/s]2024-08-28 22:49:46.221736: W external/xla/xla/tsl/framework/bfc_allocator.cc:482] Allocator (GPU_0_bfc) ran out of memory trying to allocate 698.32MiB (rounded to 732242944)requested by op \n",
      "2024-08-28 22:49:46.222406: W external/xla/xla/tsl/framework/bfc_allocator.cc:494] ****************************************____________________________________________________________\n",
      "E0828 22:49:46.222443  308455 pjrt_stream_executor_client.cc:3067] Execution of replica 0 failed: RESOURCE_EXHAUSTED: Out of memory while trying to allocate 732242840 bytes.\n",
      "  0%|          | 0/10 [00:13<?, ?it/s]\n"
     ]
    },
    {
     "name": "stdout",
     "output_type": "stream",
     "text": [
      "error                     XlaRuntimeError('RESOURCE_EXHAUSTED: Out of memory while trying to allocate 732242840 bytes.')\n",
      "\n",
      "========== TRIAL 192 ==========\n",
      "Nin_virtual               12\n",
      "Nhidden                   80\n",
      "Nlayer                    3\n",
      "K                         100\n",
      "p_flip                    0.0\n",
      "Nt                        16\n"
     ]
    },
    {
     "name": "stderr",
     "output_type": "stream",
     "text": [
      "2024-08-28 22:50:02.732729: W external/xla/xla/tsl/framework/bfc_allocator.cc:482] Allocator (GPU_0_bfc) ran out of memory trying to allocate 517.00MiB (rounded to 542119168)requested by op \n",
      "2024-08-28 22:50:02.733278: W external/xla/xla/tsl/framework/bfc_allocator.cc:494] ****************************************_**_________________________________________________________\n",
      "E0828 22:50:02.733308  308455 pjrt_stream_executor_client.cc:3067] Execution of replica 0 failed: RESOURCE_EXHAUSTED: Out of memory while trying to allocate 542119160 bytes.\n"
     ]
    },
    {
     "name": "stdout",
     "output_type": "stream",
     "text": [
      "error                     XlaRuntimeError('RESOURCE_EXHAUSTED: Out of memory while trying to allocate 542119160 bytes.')\n",
      "\n",
      "========== TRIAL 193 ==========\n",
      "Nin_virtual               12\n",
      "Nhidden                   80\n",
      "Nlayer                    3\n",
      "K                         100\n",
      "p_flip                    0.02\n",
      "Nt                        8\n"
     ]
    },
    {
     "name": "stderr",
     "output_type": "stream",
     "text": [
      "  0%|          | 0/10 [00:00<?, ?it/s]2024-08-28 22:50:23.235539: W external/xla/xla/tsl/framework/bfc_allocator.cc:482] Allocator (GPU_0_bfc) ran out of memory trying to allocate 569.92MiB (rounded to 597602560)requested by op \n",
      "2024-08-28 22:50:23.236218: W external/xla/xla/tsl/framework/bfc_allocator.cc:494] ****************************************____________________________________________________________\n",
      "E0828 22:50:23.236255  308455 pjrt_stream_executor_client.cc:3067] Execution of replica 0 failed: RESOURCE_EXHAUSTED: Out of memory while trying to allocate 597602488 bytes.\n",
      "  0%|          | 0/10 [00:13<?, ?it/s]\n"
     ]
    },
    {
     "name": "stdout",
     "output_type": "stream",
     "text": [
      "error                     XlaRuntimeError('RESOURCE_EXHAUSTED: Out of memory while trying to allocate 597602488 bytes.')\n",
      "\n",
      "========== TRIAL 194 ==========\n",
      "Nin_virtual               12\n",
      "Nhidden                   80\n",
      "Nlayer                    3\n",
      "K                         100\n",
      "p_flip                    0.02\n",
      "Nt                        12\n"
     ]
    },
    {
     "name": "stderr",
     "output_type": "stream",
     "text": [
      "  0%|          | 0/10 [00:00<?, ?it/s]2024-08-28 22:50:43.524628: W external/xla/xla/tsl/framework/bfc_allocator.cc:482] Allocator (GPU_0_bfc) ran out of memory trying to allocate 698.32MiB (rounded to 732242944)requested by op \n",
      "2024-08-28 22:50:43.525330: W external/xla/xla/tsl/framework/bfc_allocator.cc:494] *****************************************___________________________________________________________\n",
      "E0828 22:50:43.525369  308455 pjrt_stream_executor_client.cc:3067] Execution of replica 0 failed: RESOURCE_EXHAUSTED: Out of memory while trying to allocate 732242840 bytes.\n",
      "  0%|          | 0/10 [00:13<?, ?it/s]\n"
     ]
    },
    {
     "name": "stdout",
     "output_type": "stream",
     "text": [
      "error                     XlaRuntimeError('RESOURCE_EXHAUSTED: Out of memory while trying to allocate 732242840 bytes.')\n",
      "\n",
      "========== TRIAL 195 ==========\n",
      "Nin_virtual               12\n",
      "Nhidden                   80\n",
      "Nlayer                    3\n",
      "K                         100\n",
      "p_flip                    0.02\n",
      "Nt                        16\n"
     ]
    },
    {
     "name": "stderr",
     "output_type": "stream",
     "text": [
      "2024-08-28 22:50:59.580137: W external/xla/xla/tsl/framework/bfc_allocator.cc:482] Allocator (GPU_0_bfc) ran out of memory trying to allocate 517.00MiB (rounded to 542119168)requested by op \n",
      "2024-08-28 22:50:59.580716: W external/xla/xla/tsl/framework/bfc_allocator.cc:494] *****************************************_**________________________________________________________\n",
      "E0828 22:50:59.580743  308455 pjrt_stream_executor_client.cc:3067] Execution of replica 0 failed: RESOURCE_EXHAUSTED: Out of memory while trying to allocate 542119160 bytes.\n"
     ]
    },
    {
     "name": "stdout",
     "output_type": "stream",
     "text": [
      "error                     XlaRuntimeError('RESOURCE_EXHAUSTED: Out of memory while trying to allocate 542119160 bytes.')\n",
      "\n",
      "========== TRIAL 196 ==========\n",
      "Nin_virtual               12\n",
      "Nhidden                   80\n",
      "Nlayer                    3\n",
      "K                         100\n",
      "p_flip                    0.04\n",
      "Nt                        8\n"
     ]
    },
    {
     "name": "stderr",
     "output_type": "stream",
     "text": [
      "  0%|          | 0/10 [00:00<?, ?it/s]2024-08-28 22:51:20.085864: W external/xla/xla/tsl/framework/bfc_allocator.cc:482] Allocator (GPU_0_bfc) ran out of memory trying to allocate 569.92MiB (rounded to 597602560)requested by op \n",
      "2024-08-28 22:51:20.086560: W external/xla/xla/tsl/framework/bfc_allocator.cc:494] *****************************************___________________________________________________________\n",
      "E0828 22:51:20.086594  308455 pjrt_stream_executor_client.cc:3067] Execution of replica 0 failed: RESOURCE_EXHAUSTED: Out of memory while trying to allocate 597602488 bytes.\n",
      "  0%|          | 0/10 [00:13<?, ?it/s]\n"
     ]
    },
    {
     "name": "stdout",
     "output_type": "stream",
     "text": [
      "error                     XlaRuntimeError('RESOURCE_EXHAUSTED: Out of memory while trying to allocate 597602488 bytes.')\n",
      "\n",
      "========== TRIAL 197 ==========\n",
      "Nin_virtual               12\n",
      "Nhidden                   80\n",
      "Nlayer                    3\n",
      "K                         100\n",
      "p_flip                    0.04\n",
      "Nt                        12\n"
     ]
    },
    {
     "name": "stderr",
     "output_type": "stream",
     "text": [
      "  0%|          | 0/10 [00:00<?, ?it/s]2024-08-28 22:51:40.347389: W external/xla/xla/tsl/framework/bfc_allocator.cc:482] Allocator (GPU_0_bfc) ran out of memory trying to allocate 698.32MiB (rounded to 732242944)requested by op \n",
      "2024-08-28 22:51:40.348137: W external/xla/xla/tsl/framework/bfc_allocator.cc:494] *******************************************_________________________________________________________\n",
      "E0828 22:51:40.348175  308455 pjrt_stream_executor_client.cc:3067] Execution of replica 0 failed: RESOURCE_EXHAUSTED: Out of memory while trying to allocate 732242840 bytes.\n",
      "  0%|          | 0/10 [00:13<?, ?it/s]\n"
     ]
    },
    {
     "name": "stdout",
     "output_type": "stream",
     "text": [
      "error                     XlaRuntimeError('RESOURCE_EXHAUSTED: Out of memory while trying to allocate 732242840 bytes.')\n",
      "\n",
      "========== TRIAL 198 ==========\n",
      "Nin_virtual               12\n",
      "Nhidden                   80\n",
      "Nlayer                    3\n",
      "K                         100\n",
      "p_flip                    0.04\n",
      "Nt                        16\n"
     ]
    },
    {
     "name": "stderr",
     "output_type": "stream",
     "text": [
      "2024-08-28 22:51:56.383521: W external/xla/xla/tsl/framework/bfc_allocator.cc:482] Allocator (GPU_0_bfc) ran out of memory trying to allocate 517.00MiB (rounded to 542119168)requested by op \n",
      "2024-08-28 22:51:56.384244: W external/xla/xla/tsl/framework/bfc_allocator.cc:494] **********************************************______________________________________________________\n",
      "E0828 22:51:56.384278  308455 pjrt_stream_executor_client.cc:3067] Execution of replica 0 failed: RESOURCE_EXHAUSTED: Out of memory while trying to allocate 542119160 bytes.\n"
     ]
    },
    {
     "name": "stdout",
     "output_type": "stream",
     "text": [
      "error                     XlaRuntimeError('RESOURCE_EXHAUSTED: Out of memory while trying to allocate 542119160 bytes.')\n",
      "\n",
      "========== TRIAL 199 ==========\n",
      "Nin_virtual               12\n",
      "Nhidden                   80\n",
      "Nlayer                    3\n",
      "K                         150\n",
      "p_flip                    0.0\n",
      "Nt                        8\n"
     ]
    },
    {
     "name": "stderr",
     "output_type": "stream",
     "text": [
      "  0%|          | 0/10 [00:00<?, ?it/s]2024-08-28 22:52:18.441420: W external/xla/xla/tsl/framework/bfc_allocator.cc:482] Allocator (GPU_0_bfc) ran out of memory trying to allocate 726.84MiB (rounded to 762152704)requested by op \n",
      "2024-08-28 22:52:18.442148: W external/xla/xla/tsl/framework/bfc_allocator.cc:494] *******************************************_________________________________________________________\n",
      "E0828 22:52:18.442185  308455 pjrt_stream_executor_client.cc:3067] Execution of replica 0 failed: RESOURCE_EXHAUSTED: Out of memory while trying to allocate 762152504 bytes.\n",
      "  0%|          | 0/10 [00:14<?, ?it/s]\n"
     ]
    },
    {
     "name": "stdout",
     "output_type": "stream",
     "text": [
      "error                     XlaRuntimeError('RESOURCE_EXHAUSTED: Out of memory while trying to allocate 762152504 bytes.')\n",
      "\n",
      "========== TRIAL 200 ==========\n",
      "Nin_virtual               12\n",
      "Nhidden                   80\n",
      "Nlayer                    3\n",
      "K                         150\n",
      "p_flip                    0.0\n",
      "Nt                        12\n"
     ]
    },
    {
     "name": "stderr",
     "output_type": "stream",
     "text": [
      "  0%|          | 0/10 [00:00<?, ?it/s]2024-08-28 22:52:43.552993: W external/xla/xla/tsl/framework/bfc_allocator.cc:482] Allocator (GPU_0_bfc) ran out of memory trying to allocate 853.53MiB (rounded to 894992896)requested by op \n",
      "2024-08-28 22:52:43.553557: W external/xla/xla/tsl/framework/bfc_allocator.cc:494] ********************************************________________________________________________________\n",
      "E0828 22:52:43.553589  308455 pjrt_stream_executor_client.cc:3067] Execution of replica 0 failed: RESOURCE_EXHAUSTED: Out of memory while trying to allocate 894992792 bytes.\n",
      "  0%|          | 0/10 [00:13<?, ?it/s]\n"
     ]
    },
    {
     "name": "stdout",
     "output_type": "stream",
     "text": [
      "error                     XlaRuntimeError('RESOURCE_EXHAUSTED: Out of memory while trying to allocate 894992792 bytes.')\n",
      "\n",
      "========== TRIAL 201 ==========\n",
      "Nin_virtual               12\n",
      "Nhidden                   80\n",
      "Nlayer                    3\n",
      "K                         150\n",
      "p_flip                    0.0\n",
      "Nt                        16\n"
     ]
    },
    {
     "name": "stderr",
     "output_type": "stream",
     "text": [
      "2024-08-28 22:52:59.987500: W external/xla/xla/tsl/framework/bfc_allocator.cc:482] Allocator (GPU_0_bfc) ran out of memory trying to allocate 517.00MiB (rounded to 542119168)requested by op \n",
      "2024-08-28 22:52:59.988204: W external/xla/xla/tsl/framework/bfc_allocator.cc:494] ********************************************_**_____________________________________________________\n",
      "E0828 22:52:59.988235  308455 pjrt_stream_executor_client.cc:3067] Execution of replica 0 failed: RESOURCE_EXHAUSTED: Out of memory while trying to allocate 542119160 bytes.\n"
     ]
    },
    {
     "name": "stdout",
     "output_type": "stream",
     "text": [
      "error                     XlaRuntimeError('RESOURCE_EXHAUSTED: Out of memory while trying to allocate 542119160 bytes.')\n",
      "\n",
      "========== TRIAL 202 ==========\n",
      "Nin_virtual               12\n",
      "Nhidden                   80\n",
      "Nlayer                    3\n",
      "K                         150\n",
      "p_flip                    0.02\n",
      "Nt                        8\n"
     ]
    },
    {
     "name": "stderr",
     "output_type": "stream",
     "text": [
      "  0%|          | 0/10 [00:00<?, ?it/s]2024-08-28 22:53:20.420169: W external/xla/xla/tsl/framework/bfc_allocator.cc:482] Allocator (GPU_0_bfc) ran out of memory trying to allocate 726.84MiB (rounded to 762152704)requested by op \n",
      "2024-08-28 22:53:20.420982: W external/xla/xla/tsl/framework/bfc_allocator.cc:494] ********************************************________________________________________________________\n",
      "E0828 22:53:20.421035  308455 pjrt_stream_executor_client.cc:3067] Execution of replica 0 failed: RESOURCE_EXHAUSTED: Out of memory while trying to allocate 762152504 bytes.\n",
      "  0%|          | 0/10 [00:13<?, ?it/s]\n"
     ]
    },
    {
     "name": "stdout",
     "output_type": "stream",
     "text": [
      "error                     XlaRuntimeError('RESOURCE_EXHAUSTED: Out of memory while trying to allocate 762152504 bytes.')\n",
      "\n",
      "========== TRIAL 203 ==========\n",
      "Nin_virtual               12\n",
      "Nhidden                   80\n",
      "Nlayer                    3\n",
      "K                         150\n",
      "p_flip                    0.02\n",
      "Nt                        12\n"
     ]
    },
    {
     "name": "stderr",
     "output_type": "stream",
     "text": [
      "  0%|          | 0/10 [00:00<?, ?it/s]2024-08-28 22:53:40.763044: W external/xla/xla/tsl/framework/bfc_allocator.cc:482] Allocator (GPU_0_bfc) ran out of memory trying to allocate 853.53MiB (rounded to 894992896)requested by op \n",
      "2024-08-28 22:53:40.763824: W external/xla/xla/tsl/framework/bfc_allocator.cc:494] **********************************************______________________________________________________\n",
      "E0828 22:53:40.763861  308455 pjrt_stream_executor_client.cc:3067] Execution of replica 0 failed: RESOURCE_EXHAUSTED: Out of memory while trying to allocate 894992792 bytes.\n",
      "  0%|          | 0/10 [00:13<?, ?it/s]\n"
     ]
    },
    {
     "name": "stdout",
     "output_type": "stream",
     "text": [
      "error                     XlaRuntimeError('RESOURCE_EXHAUSTED: Out of memory while trying to allocate 894992792 bytes.')\n",
      "\n",
      "========== TRIAL 204 ==========\n",
      "Nin_virtual               12\n",
      "Nhidden                   80\n",
      "Nlayer                    3\n",
      "K                         150\n",
      "p_flip                    0.02\n",
      "Nt                        16\n"
     ]
    },
    {
     "name": "stderr",
     "output_type": "stream",
     "text": [
      "2024-08-28 22:53:56.782591: W external/xla/xla/tsl/framework/bfc_allocator.cc:482] Allocator (GPU_0_bfc) ran out of memory trying to allocate 517.00MiB (rounded to 542119168)requested by op \n",
      "2024-08-28 22:53:56.783320: W external/xla/xla/tsl/framework/bfc_allocator.cc:494] ************************************************____________________________________________________\n",
      "E0828 22:53:56.783346  308455 pjrt_stream_executor_client.cc:3067] Execution of replica 0 failed: RESOURCE_EXHAUSTED: Out of memory while trying to allocate 542119160 bytes.\n"
     ]
    },
    {
     "name": "stdout",
     "output_type": "stream",
     "text": [
      "error                     XlaRuntimeError('RESOURCE_EXHAUSTED: Out of memory while trying to allocate 542119160 bytes.')\n",
      "\n",
      "========== TRIAL 205 ==========\n",
      "Nin_virtual               12\n",
      "Nhidden                   80\n",
      "Nlayer                    3\n",
      "K                         150\n",
      "p_flip                    0.04\n",
      "Nt                        8\n"
     ]
    },
    {
     "name": "stderr",
     "output_type": "stream",
     "text": [
      "  0%|          | 0/10 [00:00<?, ?it/s]2024-08-28 22:54:17.284546: W external/xla/xla/tsl/framework/bfc_allocator.cc:482] Allocator (GPU_0_bfc) ran out of memory trying to allocate 726.84MiB (rounded to 762152704)requested by op \n",
      "2024-08-28 22:54:17.285377: W external/xla/xla/tsl/framework/bfc_allocator.cc:494] **********************************************______________________________________________________\n",
      "E0828 22:54:17.285413  308455 pjrt_stream_executor_client.cc:3067] Execution of replica 0 failed: RESOURCE_EXHAUSTED: Out of memory while trying to allocate 762152504 bytes.\n",
      "  0%|          | 0/10 [00:13<?, ?it/s]\n"
     ]
    },
    {
     "name": "stdout",
     "output_type": "stream",
     "text": [
      "error                     XlaRuntimeError('RESOURCE_EXHAUSTED: Out of memory while trying to allocate 762152504 bytes.')\n",
      "\n",
      "========== TRIAL 206 ==========\n",
      "Nin_virtual               12\n",
      "Nhidden                   80\n",
      "Nlayer                    3\n",
      "K                         150\n",
      "p_flip                    0.04\n",
      "Nt                        12\n"
     ]
    },
    {
     "name": "stderr",
     "output_type": "stream",
     "text": [
      "  0%|          | 0/10 [00:00<?, ?it/s]2024-08-28 22:54:37.627454: W external/xla/xla/tsl/framework/bfc_allocator.cc:482] Allocator (GPU_0_bfc) ran out of memory trying to allocate 853.53MiB (rounded to 894992896)requested by op \n",
      "2024-08-28 22:54:37.628232: W external/xla/xla/tsl/framework/bfc_allocator.cc:494] ***********************************************_____________________________________________________\n",
      "E0828 22:54:37.628266  308455 pjrt_stream_executor_client.cc:3067] Execution of replica 0 failed: RESOURCE_EXHAUSTED: Out of memory while trying to allocate 894992792 bytes.\n",
      "  0%|          | 0/10 [00:13<?, ?it/s]\n"
     ]
    },
    {
     "name": "stdout",
     "output_type": "stream",
     "text": [
      "error                     XlaRuntimeError('RESOURCE_EXHAUSTED: Out of memory while trying to allocate 894992792 bytes.')\n",
      "\n",
      "========== TRIAL 207 ==========\n",
      "Nin_virtual               12\n",
      "Nhidden                   80\n",
      "Nlayer                    3\n",
      "K                         150\n",
      "p_flip                    0.04\n",
      "Nt                        16\n"
     ]
    },
    {
     "name": "stderr",
     "output_type": "stream",
     "text": [
      "2024-08-28 22:54:53.677404: W external/xla/xla/tsl/framework/bfc_allocator.cc:482] Allocator (GPU_0_bfc) ran out of memory trying to allocate 517.00MiB (rounded to 542119168)requested by op \n",
      "2024-08-28 22:54:53.678178: W external/xla/xla/tsl/framework/bfc_allocator.cc:494] ***********************************************_**__________________________________________________\n",
      "E0828 22:54:53.678211  308455 pjrt_stream_executor_client.cc:3067] Execution of replica 0 failed: RESOURCE_EXHAUSTED: Out of memory while trying to allocate 542119160 bytes.\n"
     ]
    },
    {
     "name": "stdout",
     "output_type": "stream",
     "text": [
      "error                     XlaRuntimeError('RESOURCE_EXHAUSTED: Out of memory while trying to allocate 542119160 bytes.')\n",
      "\n",
      "========== TRIAL 208 ==========\n",
      "Nin_virtual               12\n",
      "Nhidden                   80\n",
      "Nlayer                    3\n",
      "K                         200\n",
      "p_flip                    0.0\n",
      "Nt                        8\n"
     ]
    },
    {
     "name": "stderr",
     "output_type": "stream",
     "text": [
      "  0%|          | 0/10 [00:00<?, ?it/s]2024-08-28 22:55:15.885897: W external/xla/xla/tsl/framework/bfc_allocator.cc:482] Allocator (GPU_0_bfc) ran out of memory trying to allocate 882.63MiB (rounded to 925502464)requested by op \n",
      "2024-08-28 22:55:15.886772: W external/xla/xla/tsl/framework/bfc_allocator.cc:494] ***********************************************_____________________________________________________\n",
      "E0828 22:55:15.886816  308455 pjrt_stream_executor_client.cc:3067] Execution of replica 0 failed: RESOURCE_EXHAUSTED: Out of memory while trying to allocate 925502264 bytes.\n",
      "  0%|          | 0/10 [00:14<?, ?it/s]\n"
     ]
    },
    {
     "name": "stdout",
     "output_type": "stream",
     "text": [
      "error                     XlaRuntimeError('RESOURCE_EXHAUSTED: Out of memory while trying to allocate 925502264 bytes.')\n",
      "\n",
      "========== TRIAL 209 ==========\n",
      "Nin_virtual               12\n",
      "Nhidden                   80\n",
      "Nlayer                    3\n",
      "K                         200\n",
      "p_flip                    0.0\n",
      "Nt                        12\n"
     ]
    },
    {
     "name": "stderr",
     "output_type": "stream",
     "text": [
      "  0%|          | 0/10 [00:00<?, ?it/s]2024-08-28 22:55:37.689757: W external/xla/xla/tsl/framework/bfc_allocator.cc:482] Allocator (GPU_0_bfc) ran out of memory trying to allocate 1008.74MiB (rounded to 1057742848)requested by op \n",
      "2024-08-28 22:55:37.690609: W external/xla/xla/tsl/framework/bfc_allocator.cc:494] *************************************************___________________________________________________\n",
      "E0828 22:55:37.690649  308455 pjrt_stream_executor_client.cc:3067] Execution of replica 0 failed: RESOURCE_EXHAUSTED: Out of memory while trying to allocate 1057742616 bytes.\n",
      "  0%|          | 0/10 [00:13<?, ?it/s]\n"
     ]
    },
    {
     "name": "stdout",
     "output_type": "stream",
     "text": [
      "error                     XlaRuntimeError('RESOURCE_EXHAUSTED: Out of memory while trying to allocate 1057742616 bytes.')\n",
      "\n",
      "========== TRIAL 210 ==========\n",
      "Nin_virtual               12\n",
      "Nhidden                   80\n",
      "Nlayer                    3\n",
      "K                         200\n",
      "p_flip                    0.0\n",
      "Nt                        16\n"
     ]
    },
    {
     "name": "stderr",
     "output_type": "stream",
     "text": [
      "2024-08-28 22:55:54.144158: W external/xla/xla/tsl/framework/bfc_allocator.cc:482] Allocator (GPU_0_bfc) ran out of memory trying to allocate 517.00MiB (rounded to 542119168)requested by op \n",
      "2024-08-28 22:55:54.144838: W external/xla/xla/tsl/framework/bfc_allocator.cc:494] ***************************************************_________________________________________________\n",
      "E0828 22:55:54.144864  308455 pjrt_stream_executor_client.cc:3067] Execution of replica 0 failed: RESOURCE_EXHAUSTED: Out of memory while trying to allocate 542119160 bytes.\n"
     ]
    },
    {
     "name": "stdout",
     "output_type": "stream",
     "text": [
      "error                     XlaRuntimeError('RESOURCE_EXHAUSTED: Out of memory while trying to allocate 542119160 bytes.')\n",
      "\n",
      "========== TRIAL 211 ==========\n",
      "Nin_virtual               12\n",
      "Nhidden                   80\n",
      "Nlayer                    3\n",
      "K                         200\n",
      "p_flip                    0.02\n",
      "Nt                        8\n"
     ]
    },
    {
     "name": "stderr",
     "output_type": "stream",
     "text": [
      "  0%|          | 0/10 [00:00<?, ?it/s]2024-08-28 22:56:14.661811: W external/xla/xla/tsl/framework/bfc_allocator.cc:482] Allocator (GPU_0_bfc) ran out of memory trying to allocate 882.63MiB (rounded to 925502464)requested by op \n",
      "2024-08-28 22:56:14.662703: W external/xla/xla/tsl/framework/bfc_allocator.cc:494] *************************************************___________________________________________________\n",
      "E0828 22:56:14.662742  308455 pjrt_stream_executor_client.cc:3067] Execution of replica 0 failed: RESOURCE_EXHAUSTED: Out of memory while trying to allocate 925502264 bytes.\n",
      "  0%|          | 0/10 [00:13<?, ?it/s]\n"
     ]
    },
    {
     "name": "stdout",
     "output_type": "stream",
     "text": [
      "error                     XlaRuntimeError('RESOURCE_EXHAUSTED: Out of memory while trying to allocate 925502264 bytes.')\n",
      "\n",
      "========== TRIAL 212 ==========\n",
      "Nin_virtual               12\n",
      "Nhidden                   80\n",
      "Nlayer                    3\n",
      "K                         200\n",
      "p_flip                    0.02\n",
      "Nt                        12\n"
     ]
    },
    {
     "name": "stderr",
     "output_type": "stream",
     "text": [
      "  0%|          | 0/10 [00:00<?, ?it/s]2024-08-28 22:56:35.029276: W external/xla/xla/tsl/framework/bfc_allocator.cc:482] Allocator (GPU_0_bfc) ran out of memory trying to allocate 1008.74MiB (rounded to 1057742848)requested by op \n",
      "2024-08-28 22:56:35.030233: W external/xla/xla/tsl/framework/bfc_allocator.cc:494] **************************************************__________________________________________________\n",
      "E0828 22:56:35.030283  308455 pjrt_stream_executor_client.cc:3067] Execution of replica 0 failed: RESOURCE_EXHAUSTED: Out of memory while trying to allocate 1057742616 bytes.\n",
      "  0%|          | 0/10 [00:13<?, ?it/s]\n"
     ]
    },
    {
     "name": "stdout",
     "output_type": "stream",
     "text": [
      "error                     XlaRuntimeError('RESOURCE_EXHAUSTED: Out of memory while trying to allocate 1057742616 bytes.')\n",
      "\n",
      "========== TRIAL 213 ==========\n",
      "Nin_virtual               12\n",
      "Nhidden                   80\n",
      "Nlayer                    3\n",
      "K                         200\n",
      "p_flip                    0.02\n",
      "Nt                        16\n"
     ]
    },
    {
     "name": "stderr",
     "output_type": "stream",
     "text": [
      "2024-08-28 22:56:51.070465: W external/xla/xla/tsl/framework/bfc_allocator.cc:482] Allocator (GPU_0_bfc) ran out of memory trying to allocate 517.00MiB (rounded to 542119168)requested by op \n",
      "2024-08-28 22:56:51.071282: W external/xla/xla/tsl/framework/bfc_allocator.cc:494] **************************************************_**_______________________________________________\n",
      "E0828 22:56:51.071311  308455 pjrt_stream_executor_client.cc:3067] Execution of replica 0 failed: RESOURCE_EXHAUSTED: Out of memory while trying to allocate 542119160 bytes.\n"
     ]
    },
    {
     "name": "stdout",
     "output_type": "stream",
     "text": [
      "error                     XlaRuntimeError('RESOURCE_EXHAUSTED: Out of memory while trying to allocate 542119160 bytes.')\n",
      "\n",
      "========== TRIAL 214 ==========\n",
      "Nin_virtual               12\n",
      "Nhidden                   80\n",
      "Nlayer                    3\n",
      "K                         200\n",
      "p_flip                    0.04\n",
      "Nt                        8\n"
     ]
    },
    {
     "name": "stderr",
     "output_type": "stream",
     "text": [
      "  0%|          | 0/10 [00:00<?, ?it/s]2024-08-28 22:57:11.506429: W external/xla/xla/tsl/framework/bfc_allocator.cc:482] Allocator (GPU_0_bfc) ran out of memory trying to allocate 882.63MiB (rounded to 925502464)requested by op \n",
      "2024-08-28 22:57:11.507285: W external/xla/xla/tsl/framework/bfc_allocator.cc:494] **************************************************__________________________________________________\n",
      "E0828 22:57:11.507320  308455 pjrt_stream_executor_client.cc:3067] Execution of replica 0 failed: RESOURCE_EXHAUSTED: Out of memory while trying to allocate 925502264 bytes.\n",
      "  0%|          | 0/10 [00:13<?, ?it/s]\n"
     ]
    },
    {
     "name": "stdout",
     "output_type": "stream",
     "text": [
      "error                     XlaRuntimeError('RESOURCE_EXHAUSTED: Out of memory while trying to allocate 925502264 bytes.')\n",
      "\n",
      "========== TRIAL 215 ==========\n",
      "Nin_virtual               12\n",
      "Nhidden                   80\n",
      "Nlayer                    3\n",
      "K                         200\n",
      "p_flip                    0.04\n",
      "Nt                        12\n"
     ]
    },
    {
     "name": "stderr",
     "output_type": "stream",
     "text": [
      "  0%|          | 0/10 [00:00<?, ?it/s]2024-08-28 22:57:31.811180: W external/xla/xla/tsl/framework/bfc_allocator.cc:482] Allocator (GPU_0_bfc) ran out of memory trying to allocate 1008.74MiB (rounded to 1057742848)requested by op \n",
      "2024-08-28 22:57:31.812047: W external/xla/xla/tsl/framework/bfc_allocator.cc:494] ****************************************************________________________________________________\n",
      "E0828 22:57:31.812082  308455 pjrt_stream_executor_client.cc:3067] Execution of replica 0 failed: RESOURCE_EXHAUSTED: Out of memory while trying to allocate 1057742616 bytes.\n",
      "  0%|          | 0/10 [00:13<?, ?it/s]\n"
     ]
    },
    {
     "name": "stdout",
     "output_type": "stream",
     "text": [
      "error                     XlaRuntimeError('RESOURCE_EXHAUSTED: Out of memory while trying to allocate 1057742616 bytes.')\n",
      "\n",
      "========== TRIAL 216 ==========\n",
      "Nin_virtual               12\n",
      "Nhidden                   80\n",
      "Nlayer                    3\n",
      "K                         200\n",
      "p_flip                    0.04\n",
      "Nt                        16\n"
     ]
    },
    {
     "name": "stderr",
     "output_type": "stream",
     "text": [
      "2024-08-28 22:57:47.864545: W external/xla/xla/tsl/framework/bfc_allocator.cc:482] Allocator (GPU_0_bfc) ran out of memory trying to allocate 517.00MiB (rounded to 542119168)requested by op \n",
      "2024-08-28 22:57:47.865272: W external/xla/xla/tsl/framework/bfc_allocator.cc:494] ******************************************************______________________________________________\n",
      "E0828 22:57:47.865300  308455 pjrt_stream_executor_client.cc:3067] Execution of replica 0 failed: RESOURCE_EXHAUSTED: Out of memory while trying to allocate 542119160 bytes.\n"
     ]
    },
    {
     "name": "stdout",
     "output_type": "stream",
     "text": [
      "error                     XlaRuntimeError('RESOURCE_EXHAUSTED: Out of memory while trying to allocate 542119160 bytes.')\n",
      "\n",
      "========== TRIAL 217 ==========\n",
      "Nin_virtual               12\n",
      "Nhidden                   100\n",
      "Nlayer                    2\n",
      "K                         50\n",
      "p_flip                    0.0\n",
      "Nt                        8\n"
     ]
    },
    {
     "name": "stderr",
     "output_type": "stream",
     "text": [
      "  0%|          | 0/10 [00:00<?, ?it/s]2024-08-28 22:58:11.276702: W external/xla/xla/tsl/framework/bfc_allocator.cc:482] Allocator (GPU_0_bfc) ran out of memory trying to allocate 521.28MiB (rounded to 546604288)requested by op \n",
      "2024-08-28 22:58:11.277563: W external/xla/xla/tsl/framework/bfc_allocator.cc:494] ****************************************************________________________________________________\n",
      "E0828 22:58:11.277595  308455 pjrt_stream_executor_client.cc:3067] Execution of replica 0 failed: RESOURCE_EXHAUSTED: Out of memory while trying to allocate 546604072 bytes.\n",
      "  0%|          | 0/10 [00:14<?, ?it/s]\n"
     ]
    },
    {
     "name": "stdout",
     "output_type": "stream",
     "text": [
      "error                     XlaRuntimeError('RESOURCE_EXHAUSTED: Out of memory while trying to allocate 546604072 bytes.')\n",
      "\n",
      "========== TRIAL 218 ==========\n",
      "Nin_virtual               12\n",
      "Nhidden                   100\n",
      "Nlayer                    2\n",
      "K                         50\n",
      "p_flip                    0.0\n",
      "Nt                        12\n"
     ]
    },
    {
     "name": "stderr",
     "output_type": "stream",
     "text": [
      "  0%|          | 0/10 [00:00<?, ?it/s]2024-08-28 22:58:33.279150: W external/xla/xla/tsl/framework/bfc_allocator.cc:482] Allocator (GPU_0_bfc) ran out of memory trying to allocate 491.00MiB (rounded to 514856960)requested by op \n",
      "2024-08-28 22:58:33.279919: W external/xla/xla/tsl/framework/bfc_allocator.cc:494] *******************************************************_____________________________________________\n",
      "E0828 22:58:33.279947  308455 pjrt_stream_executor_client.cc:3067] Execution of replica 0 failed: RESOURCE_EXHAUSTED: Out of memory while trying to allocate 514856856 bytes.\n",
      "  0%|          | 0/10 [00:13<?, ?it/s]\n"
     ]
    },
    {
     "name": "stdout",
     "output_type": "stream",
     "text": [
      "error                     XlaRuntimeError('RESOURCE_EXHAUSTED: Out of memory while trying to allocate 514856856 bytes.')\n",
      "\n",
      "========== TRIAL 219 ==========\n",
      "Nin_virtual               12\n",
      "Nhidden                   100\n",
      "Nlayer                    2\n",
      "K                         50\n",
      "p_flip                    0.0\n",
      "Nt                        16\n"
     ]
    },
    {
     "name": "stderr",
     "output_type": "stream",
     "text": [
      "2024-08-28 22:58:49.893175: W external/xla/xla/tsl/framework/bfc_allocator.cc:482] Allocator (GPU_0_bfc) ran out of memory trying to allocate 517.08MiB (rounded to 542199040)requested by op \n",
      "2024-08-28 22:58:49.893860: W external/xla/xla/tsl/framework/bfc_allocator.cc:494] *********************************************************___________________________________________\n",
      "E0828 22:58:49.893885  308455 pjrt_stream_executor_client.cc:3067] Execution of replica 0 failed: RESOURCE_EXHAUSTED: Out of memory while trying to allocate 542198904 bytes.\n"
     ]
    },
    {
     "name": "stdout",
     "output_type": "stream",
     "text": [
      "error                     XlaRuntimeError('RESOURCE_EXHAUSTED: Out of memory while trying to allocate 542198904 bytes.')\n",
      "\n",
      "========== TRIAL 220 ==========\n",
      "Nin_virtual               12\n",
      "Nhidden                   100\n",
      "Nlayer                    2\n",
      "K                         50\n",
      "p_flip                    0.02\n",
      "Nt                        8\n"
     ]
    },
    {
     "name": "stderr",
     "output_type": "stream",
     "text": [
      "  0%|          | 0/10 [00:00<?, ?it/s]2024-08-28 22:59:13.159233: W external/xla/xla/tsl/framework/bfc_allocator.cc:482] Allocator (GPU_0_bfc) ran out of memory trying to allocate 521.28MiB (rounded to 546604288)requested by op \n",
      "2024-08-28 22:59:13.160100: W external/xla/xla/tsl/framework/bfc_allocator.cc:494] *******************************************************_____________________________________________\n",
      "E0828 22:59:13.160128  308455 pjrt_stream_executor_client.cc:3067] Execution of replica 0 failed: RESOURCE_EXHAUSTED: Out of memory while trying to allocate 546604072 bytes.\n",
      "  0%|          | 0/10 [00:16<?, ?it/s]\n"
     ]
    },
    {
     "name": "stdout",
     "output_type": "stream",
     "text": [
      "error                     XlaRuntimeError('RESOURCE_EXHAUSTED: Out of memory while trying to allocate 546604072 bytes.')\n",
      "\n",
      "========== TRIAL 221 ==========\n",
      "Nin_virtual               12\n",
      "Nhidden                   100\n",
      "Nlayer                    2\n",
      "K                         50\n",
      "p_flip                    0.02\n",
      "Nt                        12\n"
     ]
    },
    {
     "name": "stderr",
     "output_type": "stream",
     "text": [
      "2024-08-28 22:59:28.878470: W external/xla/xla/tsl/framework/bfc_allocator.cc:482] Allocator (GPU_0_bfc) ran out of memory trying to allocate 388.91MiB (rounded to 407799040)requested by op \n",
      "2024-08-28 22:59:28.879157: W external/xla/xla/tsl/framework/bfc_allocator.cc:494] *********************************************************___________________________________________\n",
      "E0828 22:59:28.879183  308455 pjrt_stream_executor_client.cc:3067] Execution of replica 0 failed: RESOURCE_EXHAUSTED: Out of memory while trying to allocate 407798904 bytes.\n"
     ]
    },
    {
     "name": "stdout",
     "output_type": "stream",
     "text": [
      "error                     XlaRuntimeError('RESOURCE_EXHAUSTED: Out of memory while trying to allocate 407798904 bytes.')\n",
      "\n",
      "========== TRIAL 222 ==========\n",
      "Nin_virtual               12\n",
      "Nhidden                   100\n",
      "Nlayer                    2\n",
      "K                         50\n",
      "p_flip                    0.02\n",
      "Nt                        16\n"
     ]
    },
    {
     "name": "stderr",
     "output_type": "stream",
     "text": [
      "2024-08-28 22:59:44.700733: W external/xla/xla/tsl/framework/bfc_allocator.cc:482] Allocator (GPU_0_bfc) ran out of memory trying to allocate 517.08MiB (rounded to 542199040)requested by op \n",
      "2024-08-28 22:59:44.701751: W external/xla/xla/tsl/framework/bfc_allocator.cc:494] *******************************************************_**__________________________________________\n",
      "E0828 22:59:44.701785  308455 pjrt_stream_executor_client.cc:3067] Execution of replica 0 failed: RESOURCE_EXHAUSTED: Out of memory while trying to allocate 542198904 bytes.\n"
     ]
    },
    {
     "name": "stdout",
     "output_type": "stream",
     "text": [
      "error                     XlaRuntimeError('RESOURCE_EXHAUSTED: Out of memory while trying to allocate 542198904 bytes.')\n",
      "\n",
      "========== TRIAL 223 ==========\n",
      "Nin_virtual               12\n",
      "Nhidden                   100\n",
      "Nlayer                    2\n",
      "K                         50\n",
      "p_flip                    0.04\n",
      "Nt                        8\n"
     ]
    },
    {
     "name": "stderr",
     "output_type": "stream",
     "text": [
      "  0%|          | 0/10 [00:00<?, ?it/s]2024-08-28 23:00:04.555607: W external/xla/xla/tsl/framework/bfc_allocator.cc:482] Allocator (GPU_0_bfc) ran out of memory trying to allocate 521.28MiB (rounded to 546604288)requested by op \n",
      "2024-08-28 23:00:04.556336: W external/xla/xla/tsl/framework/bfc_allocator.cc:494] *******************************************************_____________________________________________\n",
      "E0828 23:00:04.556365  308455 pjrt_stream_executor_client.cc:3067] Execution of replica 0 failed: RESOURCE_EXHAUSTED: Out of memory while trying to allocate 546604072 bytes.\n",
      "  0%|          | 0/10 [00:13<?, ?it/s]\n"
     ]
    },
    {
     "name": "stdout",
     "output_type": "stream",
     "text": [
      "error                     XlaRuntimeError('RESOURCE_EXHAUSTED: Out of memory while trying to allocate 546604072 bytes.')\n",
      "\n",
      "========== TRIAL 224 ==========\n",
      "Nin_virtual               12\n",
      "Nhidden                   100\n",
      "Nlayer                    2\n",
      "K                         50\n",
      "p_flip                    0.04\n",
      "Nt                        12\n"
     ]
    },
    {
     "name": "stderr",
     "output_type": "stream",
     "text": [
      "2024-08-28 23:00:20.317604: W external/xla/xla/tsl/framework/bfc_allocator.cc:482] Allocator (GPU_0_bfc) ran out of memory trying to allocate 388.91MiB (rounded to 407799040)requested by op \n",
      "2024-08-28 23:00:20.318254: W external/xla/xla/tsl/framework/bfc_allocator.cc:494] **********************************************************__________________________________________\n",
      "E0828 23:00:20.318280  308455 pjrt_stream_executor_client.cc:3067] Execution of replica 0 failed: RESOURCE_EXHAUSTED: Out of memory while trying to allocate 407798904 bytes.\n"
     ]
    },
    {
     "name": "stdout",
     "output_type": "stream",
     "text": [
      "error                     XlaRuntimeError('RESOURCE_EXHAUSTED: Out of memory while trying to allocate 407798904 bytes.')\n",
      "\n",
      "========== TRIAL 225 ==========\n",
      "Nin_virtual               12\n",
      "Nhidden                   100\n",
      "Nlayer                    2\n",
      "K                         50\n",
      "p_flip                    0.04\n",
      "Nt                        16\n"
     ]
    },
    {
     "name": "stderr",
     "output_type": "stream",
     "text": [
      "2024-08-28 23:00:36.183695: W external/xla/xla/tsl/framework/bfc_allocator.cc:482] Allocator (GPU_0_bfc) ran out of memory trying to allocate 517.08MiB (rounded to 542199040)requested by op \n",
      "2024-08-28 23:00:36.184542: W external/xla/xla/tsl/framework/bfc_allocator.cc:494] **********************************************************__________________________________________\n",
      "E0828 23:00:36.184568  308455 pjrt_stream_executor_client.cc:3067] Execution of replica 0 failed: RESOURCE_EXHAUSTED: Out of memory while trying to allocate 542198904 bytes.\n"
     ]
    },
    {
     "name": "stdout",
     "output_type": "stream",
     "text": [
      "error                     XlaRuntimeError('RESOURCE_EXHAUSTED: Out of memory while trying to allocate 542198904 bytes.')\n",
      "\n",
      "========== TRIAL 226 ==========\n",
      "Nin_virtual               12\n",
      "Nhidden                   100\n",
      "Nlayer                    2\n",
      "K                         100\n",
      "p_flip                    0.0\n",
      "Nt                        8\n"
     ]
    },
    {
     "name": "stderr",
     "output_type": "stream",
     "text": [
      "  0%|          | 0/10 [00:00<?, ?it/s]2024-08-28 23:00:58.106928: W external/xla/xla/tsl/framework/bfc_allocator.cc:482] Allocator (GPU_0_bfc) ran out of memory trying to allocate 521.28MiB (rounded to 546604288)requested by op \n",
      "2024-08-28 23:00:58.107706: W external/xla/xla/tsl/framework/bfc_allocator.cc:494] ********************************************************____________________________________________\n",
      "E0828 23:00:58.107735  308455 pjrt_stream_executor_client.cc:3067] Execution of replica 0 failed: RESOURCE_EXHAUSTED: Out of memory while trying to allocate 546604072 bytes.\n",
      "  0%|          | 0/10 [00:14<?, ?it/s]\n"
     ]
    },
    {
     "name": "stdout",
     "output_type": "stream",
     "text": [
      "error                     XlaRuntimeError('RESOURCE_EXHAUSTED: Out of memory while trying to allocate 546604072 bytes.')\n",
      "\n",
      "========== TRIAL 227 ==========\n",
      "Nin_virtual               12\n",
      "Nhidden                   100\n",
      "Nlayer                    2\n",
      "K                         100\n",
      "p_flip                    0.0\n",
      "Nt                        12\n"
     ]
    },
    {
     "name": "stderr",
     "output_type": "stream",
     "text": [
      "2024-08-28 23:01:14.283400: W external/xla/xla/tsl/framework/bfc_allocator.cc:482] Allocator (GPU_0_bfc) ran out of memory trying to allocate 388.91MiB (rounded to 407799040)requested by op \n",
      "2024-08-28 23:01:14.284082: W external/xla/xla/tsl/framework/bfc_allocator.cc:494] **********************************************************__________________________________________\n",
      "E0828 23:01:14.284108  308455 pjrt_stream_executor_client.cc:3067] Execution of replica 0 failed: RESOURCE_EXHAUSTED: Out of memory while trying to allocate 407798904 bytes.\n"
     ]
    },
    {
     "name": "stdout",
     "output_type": "stream",
     "text": [
      "error                     XlaRuntimeError('RESOURCE_EXHAUSTED: Out of memory while trying to allocate 407798904 bytes.')\n",
      "\n",
      "========== TRIAL 228 ==========\n",
      "Nin_virtual               12\n",
      "Nhidden                   100\n",
      "Nlayer                    2\n",
      "K                         100\n",
      "p_flip                    0.0\n",
      "Nt                        16\n"
     ]
    },
    {
     "name": "stderr",
     "output_type": "stream",
     "text": [
      "2024-08-28 23:01:30.536460: W external/xla/xla/tsl/framework/bfc_allocator.cc:482] Allocator (GPU_0_bfc) ran out of memory trying to allocate 517.08MiB (rounded to 542199040)requested by op \n",
      "2024-08-28 23:01:30.537388: W external/xla/xla/tsl/framework/bfc_allocator.cc:494] ***********************************************************_________________________________________\n",
      "E0828 23:01:30.537414  308455 pjrt_stream_executor_client.cc:3067] Execution of replica 0 failed: RESOURCE_EXHAUSTED: Out of memory while trying to allocate 542198904 bytes.\n"
     ]
    },
    {
     "name": "stdout",
     "output_type": "stream",
     "text": [
      "error                     XlaRuntimeError('RESOURCE_EXHAUSTED: Out of memory while trying to allocate 542198904 bytes.')\n",
      "\n",
      "========== TRIAL 229 ==========\n",
      "Nin_virtual               12\n",
      "Nhidden                   100\n",
      "Nlayer                    2\n",
      "K                         100\n",
      "p_flip                    0.02\n",
      "Nt                        8\n"
     ]
    },
    {
     "name": "stderr",
     "output_type": "stream",
     "text": [
      "  0%|          | 0/10 [00:00<?, ?it/s]2024-08-28 23:01:50.646764: W external/xla/xla/tsl/framework/bfc_allocator.cc:482] Allocator (GPU_0_bfc) ran out of memory trying to allocate 521.28MiB (rounded to 546604288)requested by op \n",
      "2024-08-28 23:01:50.647776: W external/xla/xla/tsl/framework/bfc_allocator.cc:494] *********************************************************___________________________________________\n",
      "E0828 23:01:50.647808  308455 pjrt_stream_executor_client.cc:3067] Execution of replica 0 failed: RESOURCE_EXHAUSTED: Out of memory while trying to allocate 546604072 bytes.\n",
      "  0%|          | 0/10 [00:13<?, ?it/s]\n"
     ]
    },
    {
     "name": "stdout",
     "output_type": "stream",
     "text": [
      "error                     XlaRuntimeError('RESOURCE_EXHAUSTED: Out of memory while trying to allocate 546604072 bytes.')\n",
      "\n",
      "========== TRIAL 230 ==========\n",
      "Nin_virtual               12\n",
      "Nhidden                   100\n",
      "Nlayer                    2\n",
      "K                         100\n",
      "p_flip                    0.02\n",
      "Nt                        12\n"
     ]
    },
    {
     "name": "stderr",
     "output_type": "stream",
     "text": [
      "2024-08-28 23:02:06.453846: W external/xla/xla/tsl/framework/bfc_allocator.cc:482] Allocator (GPU_0_bfc) ran out of memory trying to allocate 388.91MiB (rounded to 407799040)requested by op \n",
      "2024-08-28 23:02:06.454554: W external/xla/xla/tsl/framework/bfc_allocator.cc:494] ***********************************************************_________________________________________\n",
      "E0828 23:02:06.454580  308455 pjrt_stream_executor_client.cc:3067] Execution of replica 0 failed: RESOURCE_EXHAUSTED: Out of memory while trying to allocate 407798904 bytes.\n"
     ]
    },
    {
     "name": "stdout",
     "output_type": "stream",
     "text": [
      "error                     XlaRuntimeError('RESOURCE_EXHAUSTED: Out of memory while trying to allocate 407798904 bytes.')\n",
      "\n",
      "========== TRIAL 231 ==========\n",
      "Nin_virtual               12\n",
      "Nhidden                   100\n",
      "Nlayer                    2\n",
      "K                         100\n",
      "p_flip                    0.02\n",
      "Nt                        16\n"
     ]
    },
    {
     "name": "stderr",
     "output_type": "stream",
     "text": [
      "2024-08-28 23:02:22.332746: W external/xla/xla/tsl/framework/bfc_allocator.cc:482] Allocator (GPU_0_bfc) ran out of memory trying to allocate 517.08MiB (rounded to 542199040)requested by op \n",
      "2024-08-28 23:02:22.333578: W external/xla/xla/tsl/framework/bfc_allocator.cc:494] *********************************************************_**________________________________________\n",
      "E0828 23:02:22.333605  308455 pjrt_stream_executor_client.cc:3067] Execution of replica 0 failed: RESOURCE_EXHAUSTED: Out of memory while trying to allocate 542198904 bytes.\n"
     ]
    },
    {
     "name": "stdout",
     "output_type": "stream",
     "text": [
      "error                     XlaRuntimeError('RESOURCE_EXHAUSTED: Out of memory while trying to allocate 542198904 bytes.')\n",
      "\n",
      "========== TRIAL 232 ==========\n",
      "Nin_virtual               12\n",
      "Nhidden                   100\n",
      "Nlayer                    2\n",
      "K                         100\n",
      "p_flip                    0.04\n",
      "Nt                        8\n"
     ]
    },
    {
     "name": "stderr",
     "output_type": "stream",
     "text": [
      "  0%|          | 0/10 [00:00<?, ?it/s]2024-08-28 23:02:42.478401: W external/xla/xla/tsl/framework/bfc_allocator.cc:482] Allocator (GPU_0_bfc) ran out of memory trying to allocate 521.28MiB (rounded to 546604288)requested by op \n",
      "2024-08-28 23:02:42.479179: W external/xla/xla/tsl/framework/bfc_allocator.cc:494] *********************************************************___________________________________________\n",
      "E0828 23:02:42.479210  308455 pjrt_stream_executor_client.cc:3067] Execution of replica 0 failed: RESOURCE_EXHAUSTED: Out of memory while trying to allocate 546604072 bytes.\n",
      "  0%|          | 0/10 [00:13<?, ?it/s]\n"
     ]
    },
    {
     "name": "stdout",
     "output_type": "stream",
     "text": [
      "error                     XlaRuntimeError('RESOURCE_EXHAUSTED: Out of memory while trying to allocate 546604072 bytes.')\n",
      "\n",
      "========== TRIAL 233 ==========\n",
      "Nin_virtual               12\n",
      "Nhidden                   100\n",
      "Nlayer                    2\n",
      "K                         100\n",
      "p_flip                    0.04\n",
      "Nt                        12\n"
     ]
    },
    {
     "name": "stderr",
     "output_type": "stream",
     "text": [
      "2024-08-28 23:02:58.229902: W external/xla/xla/tsl/framework/bfc_allocator.cc:482] Allocator (GPU_0_bfc) ran out of memory trying to allocate 388.91MiB (rounded to 407799040)requested by op \n",
      "2024-08-28 23:02:58.230662: W external/xla/xla/tsl/framework/bfc_allocator.cc:494] ************************************************************________________________________________\n",
      "E0828 23:02:58.230691  308455 pjrt_stream_executor_client.cc:3067] Execution of replica 0 failed: RESOURCE_EXHAUSTED: Out of memory while trying to allocate 407798904 bytes.\n"
     ]
    },
    {
     "name": "stdout",
     "output_type": "stream",
     "text": [
      "error                     XlaRuntimeError('RESOURCE_EXHAUSTED: Out of memory while trying to allocate 407798904 bytes.')\n",
      "\n",
      "========== TRIAL 234 ==========\n",
      "Nin_virtual               12\n",
      "Nhidden                   100\n",
      "Nlayer                    2\n",
      "K                         100\n",
      "p_flip                    0.04\n",
      "Nt                        16\n"
     ]
    },
    {
     "name": "stderr",
     "output_type": "stream",
     "text": [
      "2024-08-28 23:03:14.080508: W external/xla/xla/tsl/framework/bfc_allocator.cc:482] Allocator (GPU_0_bfc) ran out of memory trying to allocate 517.08MiB (rounded to 542199040)requested by op \n",
      "2024-08-28 23:03:14.081204: W external/xla/xla/tsl/framework/bfc_allocator.cc:494] *************************************************************_______________________________________\n",
      "E0828 23:03:14.081231  308455 pjrt_stream_executor_client.cc:3067] Execution of replica 0 failed: RESOURCE_EXHAUSTED: Out of memory while trying to allocate 542198904 bytes.\n"
     ]
    },
    {
     "name": "stdout",
     "output_type": "stream",
     "text": [
      "error                     XlaRuntimeError('RESOURCE_EXHAUSTED: Out of memory while trying to allocate 542198904 bytes.')\n",
      "\n",
      "========== TRIAL 235 ==========\n",
      "Nin_virtual               12\n",
      "Nhidden                   100\n",
      "Nlayer                    2\n",
      "K                         150\n",
      "p_flip                    0.0\n",
      "Nt                        8\n"
     ]
    },
    {
     "name": "stderr",
     "output_type": "stream",
     "text": [
      "  0%|          | 0/10 [00:00<?, ?it/s]2024-08-28 23:03:35.663097: W external/xla/xla/tsl/framework/bfc_allocator.cc:482] Allocator (GPU_0_bfc) ran out of memory trying to allocate 569.87MiB (rounded to 597551872)requested by op \n",
      "2024-08-28 23:03:35.664095: W external/xla/xla/tsl/framework/bfc_allocator.cc:494] **********************************************************__________________________________________\n",
      "E0828 23:03:35.664128  308455 pjrt_stream_executor_client.cc:3067] Execution of replica 0 failed: RESOURCE_EXHAUSTED: Out of memory while trying to allocate 597551656 bytes.\n",
      "  0%|          | 0/10 [00:14<?, ?it/s]\n"
     ]
    },
    {
     "name": "stdout",
     "output_type": "stream",
     "text": [
      "error                     XlaRuntimeError('RESOURCE_EXHAUSTED: Out of memory while trying to allocate 597551656 bytes.')\n",
      "\n",
      "========== TRIAL 236 ==========\n",
      "Nin_virtual               12\n",
      "Nhidden                   100\n",
      "Nlayer                    2\n",
      "K                         150\n",
      "p_flip                    0.0\n",
      "Nt                        12\n"
     ]
    },
    {
     "name": "stderr",
     "output_type": "stream",
     "text": [
      "2024-08-28 23:03:51.768314: W external/xla/xla/tsl/framework/bfc_allocator.cc:482] Allocator (GPU_0_bfc) ran out of memory trying to allocate 388.91MiB (rounded to 407799040)requested by op \n",
      "2024-08-28 23:03:51.769060: W external/xla/xla/tsl/framework/bfc_allocator.cc:494] *************************************************************_______________________________________\n",
      "E0828 23:03:51.769087  308455 pjrt_stream_executor_client.cc:3067] Execution of replica 0 failed: RESOURCE_EXHAUSTED: Out of memory while trying to allocate 407798904 bytes.\n"
     ]
    },
    {
     "name": "stdout",
     "output_type": "stream",
     "text": [
      "error                     XlaRuntimeError('RESOURCE_EXHAUSTED: Out of memory while trying to allocate 407798904 bytes.')\n",
      "\n",
      "========== TRIAL 237 ==========\n",
      "Nin_virtual               12\n",
      "Nhidden                   100\n",
      "Nlayer                    2\n",
      "K                         150\n",
      "p_flip                    0.0\n",
      "Nt                        16\n"
     ]
    },
    {
     "name": "stderr",
     "output_type": "stream",
     "text": [
      "2024-08-28 23:04:08.055864: W external/xla/xla/tsl/framework/bfc_allocator.cc:482] Allocator (GPU_0_bfc) ran out of memory trying to allocate 517.08MiB (rounded to 542199040)requested by op \n",
      "2024-08-28 23:04:08.056660: W external/xla/xla/tsl/framework/bfc_allocator.cc:494] *************************************************************_______________________________________\n",
      "E0828 23:04:08.056685  308455 pjrt_stream_executor_client.cc:3067] Execution of replica 0 failed: RESOURCE_EXHAUSTED: Out of memory while trying to allocate 542198904 bytes.\n"
     ]
    },
    {
     "name": "stdout",
     "output_type": "stream",
     "text": [
      "error                     XlaRuntimeError('RESOURCE_EXHAUSTED: Out of memory while trying to allocate 542198904 bytes.')\n",
      "\n",
      "========== TRIAL 238 ==========\n",
      "Nin_virtual               12\n",
      "Nhidden                   100\n",
      "Nlayer                    2\n",
      "K                         150\n",
      "p_flip                    0.02\n",
      "Nt                        8\n"
     ]
    },
    {
     "name": "stderr",
     "output_type": "stream",
     "text": [
      "  0%|          | 0/10 [00:00<?, ?it/s]2024-08-28 23:04:28.086690: W external/xla/xla/tsl/framework/bfc_allocator.cc:482] Allocator (GPU_0_bfc) ran out of memory trying to allocate 569.87MiB (rounded to 597551872)requested by op \n",
      "2024-08-28 23:04:28.087647: W external/xla/xla/tsl/framework/bfc_allocator.cc:494] ***********************************************************_________________________________________\n",
      "E0828 23:04:28.087675  308455 pjrt_stream_executor_client.cc:3067] Execution of replica 0 failed: RESOURCE_EXHAUSTED: Out of memory while trying to allocate 597551656 bytes.\n",
      "  0%|          | 0/10 [00:13<?, ?it/s]\n"
     ]
    },
    {
     "name": "stdout",
     "output_type": "stream",
     "text": [
      "error                     XlaRuntimeError('RESOURCE_EXHAUSTED: Out of memory while trying to allocate 597551656 bytes.')\n",
      "\n",
      "========== TRIAL 239 ==========\n",
      "Nin_virtual               12\n",
      "Nhidden                   100\n",
      "Nlayer                    2\n",
      "K                         150\n",
      "p_flip                    0.02\n",
      "Nt                        12\n"
     ]
    },
    {
     "name": "stderr",
     "output_type": "stream",
     "text": [
      "2024-08-28 23:04:43.866039: W external/xla/xla/tsl/framework/bfc_allocator.cc:482] Allocator (GPU_0_bfc) ran out of memory trying to allocate 388.91MiB (rounded to 407799040)requested by op \n",
      "2024-08-28 23:04:43.866927: W external/xla/xla/tsl/framework/bfc_allocator.cc:494] *************************************************************_______________________________________\n",
      "E0828 23:04:43.866957  308455 pjrt_stream_executor_client.cc:3067] Execution of replica 0 failed: RESOURCE_EXHAUSTED: Out of memory while trying to allocate 407798904 bytes.\n"
     ]
    },
    {
     "name": "stdout",
     "output_type": "stream",
     "text": [
      "error                     XlaRuntimeError('RESOURCE_EXHAUSTED: Out of memory while trying to allocate 407798904 bytes.')\n",
      "\n",
      "========== TRIAL 240 ==========\n",
      "Nin_virtual               12\n",
      "Nhidden                   100\n",
      "Nlayer                    2\n",
      "K                         150\n",
      "p_flip                    0.02\n",
      "Nt                        16\n"
     ]
    },
    {
     "name": "stderr",
     "output_type": "stream",
     "text": [
      "2024-08-28 23:04:59.802068: W external/xla/xla/tsl/framework/bfc_allocator.cc:482] Allocator (GPU_0_bfc) ran out of memory trying to allocate 517.08MiB (rounded to 542199040)requested by op \n",
      "2024-08-28 23:04:59.803311: W external/xla/xla/tsl/framework/bfc_allocator.cc:494] **************************************************************______________________________________\n",
      "E0828 23:04:59.803357  308455 pjrt_stream_executor_client.cc:3067] Execution of replica 0 failed: RESOURCE_EXHAUSTED: Out of memory while trying to allocate 542198904 bytes.\n"
     ]
    },
    {
     "name": "stdout",
     "output_type": "stream",
     "text": [
      "error                     XlaRuntimeError('RESOURCE_EXHAUSTED: Out of memory while trying to allocate 542198904 bytes.')\n",
      "\n",
      "========== TRIAL 241 ==========\n",
      "Nin_virtual               12\n",
      "Nhidden                   100\n",
      "Nlayer                    2\n",
      "K                         150\n",
      "p_flip                    0.04\n",
      "Nt                        8\n"
     ]
    },
    {
     "name": "stderr",
     "output_type": "stream",
     "text": [
      "  0%|          | 0/10 [00:00<?, ?it/s]2024-08-28 23:05:19.845328: W external/xla/xla/tsl/framework/bfc_allocator.cc:482] Allocator (GPU_0_bfc) ran out of memory trying to allocate 569.87MiB (rounded to 597551872)requested by op \n",
      "2024-08-28 23:05:19.846342: W external/xla/xla/tsl/framework/bfc_allocator.cc:494] ***********************************************************_________________________________________\n",
      "E0828 23:05:19.846374  308455 pjrt_stream_executor_client.cc:3067] Execution of replica 0 failed: RESOURCE_EXHAUSTED: Out of memory while trying to allocate 597551656 bytes.\n",
      "  0%|          | 0/10 [00:13<?, ?it/s]\n"
     ]
    },
    {
     "name": "stdout",
     "output_type": "stream",
     "text": [
      "error                     XlaRuntimeError('RESOURCE_EXHAUSTED: Out of memory while trying to allocate 597551656 bytes.')\n",
      "\n",
      "========== TRIAL 242 ==========\n",
      "Nin_virtual               12\n",
      "Nhidden                   100\n",
      "Nlayer                    2\n",
      "K                         150\n",
      "p_flip                    0.04\n",
      "Nt                        12\n"
     ]
    },
    {
     "name": "stderr",
     "output_type": "stream",
     "text": [
      "2024-08-28 23:05:35.613947: W external/xla/xla/tsl/framework/bfc_allocator.cc:482] Allocator (GPU_0_bfc) ran out of memory trying to allocate 388.91MiB (rounded to 407799040)requested by op \n",
      "2024-08-28 23:05:35.614679: W external/xla/xla/tsl/framework/bfc_allocator.cc:494] **************************************************************______________________________________\n",
      "E0828 23:05:35.614706  308455 pjrt_stream_executor_client.cc:3067] Execution of replica 0 failed: RESOURCE_EXHAUSTED: Out of memory while trying to allocate 407798904 bytes.\n"
     ]
    },
    {
     "name": "stdout",
     "output_type": "stream",
     "text": [
      "error                     XlaRuntimeError('RESOURCE_EXHAUSTED: Out of memory while trying to allocate 407798904 bytes.')\n",
      "\n",
      "========== TRIAL 243 ==========\n",
      "Nin_virtual               12\n",
      "Nhidden                   100\n",
      "Nlayer                    2\n",
      "K                         150\n",
      "p_flip                    0.04\n",
      "Nt                        16\n"
     ]
    },
    {
     "name": "stderr",
     "output_type": "stream",
     "text": [
      "2024-08-28 23:05:51.507232: W external/xla/xla/tsl/framework/bfc_allocator.cc:482] Allocator (GPU_0_bfc) ran out of memory trying to allocate 517.08MiB (rounded to 542199040)requested by op \n",
      "2024-08-28 23:05:51.508130: W external/xla/xla/tsl/framework/bfc_allocator.cc:494] ************************************************************_**_____________________________________\n",
      "E0828 23:05:51.508156  308455 pjrt_stream_executor_client.cc:3067] Execution of replica 0 failed: RESOURCE_EXHAUSTED: Out of memory while trying to allocate 542198904 bytes.\n"
     ]
    },
    {
     "name": "stdout",
     "output_type": "stream",
     "text": [
      "error                     XlaRuntimeError('RESOURCE_EXHAUSTED: Out of memory while trying to allocate 542198904 bytes.')\n",
      "\n",
      "========== TRIAL 244 ==========\n",
      "Nin_virtual               12\n",
      "Nhidden                   100\n",
      "Nlayer                    2\n",
      "K                         200\n",
      "p_flip                    0.0\n",
      "Nt                        8\n"
     ]
    },
    {
     "name": "stderr",
     "output_type": "stream",
     "text": [
      "  0%|          | 0/10 [00:00<?, ?it/s]2024-08-28 23:06:13.118886: W external/xla/xla/tsl/framework/bfc_allocator.cc:482] Allocator (GPU_0_bfc) ran out of memory trying to allocate 675.85MiB (rounded to 708685824)requested by op \n",
      "2024-08-28 23:06:13.119974: W external/xla/xla/tsl/framework/bfc_allocator.cc:494] ************************************************************________________________________________\n",
      "E0828 23:06:13.120020  308455 pjrt_stream_executor_client.cc:3067] Execution of replica 0 failed: RESOURCE_EXHAUSTED: Out of memory while trying to allocate 708685608 bytes.\n",
      "  0%|          | 0/10 [00:14<?, ?it/s]\n"
     ]
    },
    {
     "name": "stdout",
     "output_type": "stream",
     "text": [
      "error                     XlaRuntimeError('RESOURCE_EXHAUSTED: Out of memory while trying to allocate 708685608 bytes.')\n",
      "\n",
      "========== TRIAL 245 ==========\n",
      "Nin_virtual               12\n",
      "Nhidden                   100\n",
      "Nlayer                    2\n",
      "K                         200\n",
      "p_flip                    0.0\n",
      "Nt                        12\n"
     ]
    },
    {
     "name": "stderr",
     "output_type": "stream",
     "text": [
      "2024-08-28 23:06:29.297118: W external/xla/xla/tsl/framework/bfc_allocator.cc:482] Allocator (GPU_0_bfc) ran out of memory trying to allocate 388.91MiB (rounded to 407799040)requested by op \n",
      "2024-08-28 23:06:29.297882: W external/xla/xla/tsl/framework/bfc_allocator.cc:494] ***************************************************************_____________________________________\n",
      "E0828 23:06:29.297908  308455 pjrt_stream_executor_client.cc:3067] Execution of replica 0 failed: RESOURCE_EXHAUSTED: Out of memory while trying to allocate 407798904 bytes.\n"
     ]
    },
    {
     "name": "stdout",
     "output_type": "stream",
     "text": [
      "error                     XlaRuntimeError('RESOURCE_EXHAUSTED: Out of memory while trying to allocate 407798904 bytes.')\n",
      "\n",
      "========== TRIAL 246 ==========\n",
      "Nin_virtual               12\n",
      "Nhidden                   100\n",
      "Nlayer                    2\n",
      "K                         200\n",
      "p_flip                    0.0\n",
      "Nt                        16\n"
     ]
    },
    {
     "name": "stderr",
     "output_type": "stream",
     "text": [
      "2024-08-28 23:06:45.600210: W external/xla/xla/tsl/framework/bfc_allocator.cc:482] Allocator (GPU_0_bfc) ran out of memory trying to allocate 517.08MiB (rounded to 542199040)requested by op \n",
      "2024-08-28 23:06:45.600963: W external/xla/xla/tsl/framework/bfc_allocator.cc:494] ****************************************************************____________________________________\n",
      "E0828 23:06:45.600987  308455 pjrt_stream_executor_client.cc:3067] Execution of replica 0 failed: RESOURCE_EXHAUSTED: Out of memory while trying to allocate 542198904 bytes.\n"
     ]
    },
    {
     "name": "stdout",
     "output_type": "stream",
     "text": [
      "error                     XlaRuntimeError('RESOURCE_EXHAUSTED: Out of memory while trying to allocate 542198904 bytes.')\n",
      "\n",
      "========== TRIAL 247 ==========\n",
      "Nin_virtual               12\n",
      "Nhidden                   100\n",
      "Nlayer                    2\n",
      "K                         200\n",
      "p_flip                    0.02\n",
      "Nt                        8\n"
     ]
    },
    {
     "name": "stderr",
     "output_type": "stream",
     "text": [
      "  0%|          | 0/10 [00:00<?, ?it/s]2024-08-28 23:07:05.763254: W external/xla/xla/tsl/framework/bfc_allocator.cc:482] Allocator (GPU_0_bfc) ran out of memory trying to allocate 675.85MiB (rounded to 708685824)requested by op \n",
      "2024-08-28 23:07:05.764346: W external/xla/xla/tsl/framework/bfc_allocator.cc:494] *************************************************************_______________________________________\n",
      "E0828 23:07:05.764384  308455 pjrt_stream_executor_client.cc:3067] Execution of replica 0 failed: RESOURCE_EXHAUSTED: Out of memory while trying to allocate 708685608 bytes.\n",
      "  0%|          | 0/10 [00:13<?, ?it/s]\n"
     ]
    },
    {
     "name": "stdout",
     "output_type": "stream",
     "text": [
      "error                     XlaRuntimeError('RESOURCE_EXHAUSTED: Out of memory while trying to allocate 708685608 bytes.')\n",
      "\n",
      "========== TRIAL 248 ==========\n",
      "Nin_virtual               12\n",
      "Nhidden                   100\n",
      "Nlayer                    2\n",
      "K                         200\n",
      "p_flip                    0.02\n",
      "Nt                        12\n"
     ]
    },
    {
     "name": "stderr",
     "output_type": "stream",
     "text": [
      "2024-08-28 23:07:21.541392: W external/xla/xla/tsl/framework/bfc_allocator.cc:482] Allocator (GPU_0_bfc) ran out of memory trying to allocate 388.91MiB (rounded to 407799040)requested by op \n",
      "2024-08-28 23:07:21.542154: W external/xla/xla/tsl/framework/bfc_allocator.cc:494] ***************************************************************_____________________________________\n",
      "E0828 23:07:21.542178  308455 pjrt_stream_executor_client.cc:3067] Execution of replica 0 failed: RESOURCE_EXHAUSTED: Out of memory while trying to allocate 407798904 bytes.\n"
     ]
    },
    {
     "name": "stdout",
     "output_type": "stream",
     "text": [
      "error                     XlaRuntimeError('RESOURCE_EXHAUSTED: Out of memory while trying to allocate 407798904 bytes.')\n",
      "\n",
      "========== TRIAL 249 ==========\n",
      "Nin_virtual               12\n",
      "Nhidden                   100\n",
      "Nlayer                    2\n",
      "K                         200\n",
      "p_flip                    0.02\n",
      "Nt                        16\n"
     ]
    },
    {
     "name": "stderr",
     "output_type": "stream",
     "text": [
      "2024-08-28 23:07:37.432605: W external/xla/xla/tsl/framework/bfc_allocator.cc:482] Allocator (GPU_0_bfc) ran out of memory trying to allocate 517.08MiB (rounded to 542199040)requested by op \n",
      "2024-08-28 23:07:37.433536: W external/xla/xla/tsl/framework/bfc_allocator.cc:494] ****************************************************************____________________________________\n",
      "E0828 23:07:37.433563  308455 pjrt_stream_executor_client.cc:3067] Execution of replica 0 failed: RESOURCE_EXHAUSTED: Out of memory while trying to allocate 542198904 bytes.\n"
     ]
    },
    {
     "name": "stdout",
     "output_type": "stream",
     "text": [
      "error                     XlaRuntimeError('RESOURCE_EXHAUSTED: Out of memory while trying to allocate 542198904 bytes.')\n",
      "\n",
      "========== TRIAL 250 ==========\n",
      "Nin_virtual               12\n",
      "Nhidden                   100\n",
      "Nlayer                    2\n",
      "K                         200\n",
      "p_flip                    0.04\n",
      "Nt                        8\n"
     ]
    },
    {
     "name": "stderr",
     "output_type": "stream",
     "text": [
      "  0%|          | 0/10 [00:00<?, ?it/s]2024-08-28 23:08:00.931853: W external/xla/xla/tsl/framework/bfc_allocator.cc:482] Allocator (GPU_0_bfc) ran out of memory trying to allocate 675.85MiB (rounded to 708685824)requested by op \n",
      "2024-08-28 23:08:00.933022: W external/xla/xla/tsl/framework/bfc_allocator.cc:494] **************************************************************______________________________________\n",
      "E0828 23:08:00.933065  308455 pjrt_stream_executor_client.cc:3067] Execution of replica 0 failed: RESOURCE_EXHAUSTED: Out of memory while trying to allocate 708685608 bytes.\n",
      "  0%|          | 0/10 [00:16<?, ?it/s]\n"
     ]
    },
    {
     "name": "stdout",
     "output_type": "stream",
     "text": [
      "error                     XlaRuntimeError('RESOURCE_EXHAUSTED: Out of memory while trying to allocate 708685608 bytes.')\n",
      "\n",
      "========== TRIAL 251 ==========\n",
      "Nin_virtual               12\n",
      "Nhidden                   100\n",
      "Nlayer                    2\n",
      "K                         200\n",
      "p_flip                    0.04\n",
      "Nt                        12\n"
     ]
    },
    {
     "name": "stderr",
     "output_type": "stream",
     "text": [
      "2024-08-28 23:08:16.718686: W external/xla/xla/tsl/framework/bfc_allocator.cc:482] Allocator (GPU_0_bfc) ran out of memory trying to allocate 388.91MiB (rounded to 407799040)requested by op \n",
      "2024-08-28 23:08:16.719488: W external/xla/xla/tsl/framework/bfc_allocator.cc:494] ****************************************************************____________________________________\n",
      "E0828 23:08:16.719521  308455 pjrt_stream_executor_client.cc:3067] Execution of replica 0 failed: RESOURCE_EXHAUSTED: Out of memory while trying to allocate 407798904 bytes.\n"
     ]
    },
    {
     "name": "stdout",
     "output_type": "stream",
     "text": [
      "error                     XlaRuntimeError('RESOURCE_EXHAUSTED: Out of memory while trying to allocate 407798904 bytes.')\n",
      "\n",
      "========== TRIAL 252 ==========\n",
      "Nin_virtual               12\n",
      "Nhidden                   100\n",
      "Nlayer                    2\n",
      "K                         200\n",
      "p_flip                    0.04\n",
      "Nt                        16\n"
     ]
    },
    {
     "name": "stderr",
     "output_type": "stream",
     "text": [
      "2024-08-28 23:08:32.579446: W external/xla/xla/tsl/framework/bfc_allocator.cc:482] Allocator (GPU_0_bfc) ran out of memory trying to allocate 517.08MiB (rounded to 542199040)requested by op \n",
      "2024-08-28 23:08:32.580309: W external/xla/xla/tsl/framework/bfc_allocator.cc:494] *****************************************************************___________________________________\n",
      "E0828 23:08:32.580339  308455 pjrt_stream_executor_client.cc:3067] Execution of replica 0 failed: RESOURCE_EXHAUSTED: Out of memory while trying to allocate 542198904 bytes.\n"
     ]
    },
    {
     "name": "stdout",
     "output_type": "stream",
     "text": [
      "error                     XlaRuntimeError('RESOURCE_EXHAUSTED: Out of memory while trying to allocate 542198904 bytes.')\n",
      "\n",
      "========== TRIAL 253 ==========\n",
      "Nin_virtual               12\n",
      "Nhidden                   100\n",
      "Nlayer                    3\n",
      "K                         50\n",
      "p_flip                    0.0\n",
      "Nt                        8\n"
     ]
    },
    {
     "name": "stderr",
     "output_type": "stream",
     "text": [
      "  0%|          | 0/10 [00:00<?, ?it/s]2024-08-28 23:08:55.070117: W external/xla/xla/tsl/framework/bfc_allocator.cc:482] Allocator (GPU_0_bfc) ran out of memory trying to allocate 521.28MiB (rounded to 546605056)requested by op \n",
      "2024-08-28 23:08:55.071080: W external/xla/xla/tsl/framework/bfc_allocator.cc:494] **************************************************************______________________________________\n",
      "E0828 23:08:55.071111  308455 pjrt_stream_executor_client.cc:3067] Execution of replica 0 failed: RESOURCE_EXHAUSTED: Out of memory while trying to allocate 546604840 bytes.\n",
      "  0%|          | 0/10 [00:14<?, ?it/s]\n"
     ]
    },
    {
     "name": "stdout",
     "output_type": "stream",
     "text": [
      "error                     XlaRuntimeError('RESOURCE_EXHAUSTED: Out of memory while trying to allocate 546604840 bytes.')\n",
      "\n",
      "========== TRIAL 254 ==========\n",
      "Nin_virtual               12\n",
      "Nhidden                   100\n",
      "Nlayer                    3\n",
      "K                         50\n",
      "p_flip                    0.0\n",
      "Nt                        12\n"
     ]
    },
    {
     "name": "stderr",
     "output_type": "stream",
     "text": [
      "2024-08-28 23:09:11.219089: W external/xla/xla/tsl/framework/bfc_allocator.cc:482] Allocator (GPU_0_bfc) ran out of memory trying to allocate 388.91MiB (rounded to 407799296)requested by op \n",
      "2024-08-28 23:09:11.219898: W external/xla/xla/tsl/framework/bfc_allocator.cc:494] *****************************************************************___________________________________\n",
      "E0828 23:09:11.219925  308455 pjrt_stream_executor_client.cc:3067] Execution of replica 0 failed: RESOURCE_EXHAUSTED: Out of memory while trying to allocate 407799160 bytes.\n"
     ]
    },
    {
     "name": "stdout",
     "output_type": "stream",
     "text": [
      "error                     XlaRuntimeError('RESOURCE_EXHAUSTED: Out of memory while trying to allocate 407799160 bytes.')\n",
      "\n",
      "========== TRIAL 255 ==========\n",
      "Nin_virtual               12\n",
      "Nhidden                   100\n",
      "Nlayer                    3\n",
      "K                         50\n",
      "p_flip                    0.0\n",
      "Nt                        16\n"
     ]
    },
    {
     "name": "stderr",
     "output_type": "stream",
     "text": [
      "2024-08-28 23:09:27.459415: W external/xla/xla/tsl/framework/bfc_allocator.cc:482] Allocator (GPU_0_bfc) ran out of memory trying to allocate 517.08MiB (rounded to 542199296)requested by op \n",
      "2024-08-28 23:09:27.460258: W external/xla/xla/tsl/framework/bfc_allocator.cc:494] ***************************************************************_**__________________________________\n",
      "E0828 23:09:27.460284  308455 pjrt_stream_executor_client.cc:3067] Execution of replica 0 failed: RESOURCE_EXHAUSTED: Out of memory while trying to allocate 542199160 bytes.\n"
     ]
    },
    {
     "name": "stdout",
     "output_type": "stream",
     "text": [
      "error                     XlaRuntimeError('RESOURCE_EXHAUSTED: Out of memory while trying to allocate 542199160 bytes.')\n",
      "\n",
      "========== TRIAL 256 ==========\n",
      "Nin_virtual               12\n",
      "Nhidden                   100\n",
      "Nlayer                    3\n",
      "K                         50\n",
      "p_flip                    0.02\n",
      "Nt                        8\n"
     ]
    },
    {
     "name": "stderr",
     "output_type": "stream",
     "text": [
      "  0%|          | 0/10 [00:00<?, ?it/s]2024-08-28 23:09:47.585847: W external/xla/xla/tsl/framework/bfc_allocator.cc:482] Allocator (GPU_0_bfc) ran out of memory trying to allocate 521.28MiB (rounded to 546605056)requested by op \n",
      "2024-08-28 23:09:47.587021: W external/xla/xla/tsl/framework/bfc_allocator.cc:494] ***************************************************************_____________________________________\n",
      "E0828 23:09:47.587051  308455 pjrt_stream_executor_client.cc:3067] Execution of replica 0 failed: RESOURCE_EXHAUSTED: Out of memory while trying to allocate 546604840 bytes.\n",
      "  0%|          | 0/10 [00:13<?, ?it/s]\n"
     ]
    },
    {
     "name": "stdout",
     "output_type": "stream",
     "text": [
      "error                     XlaRuntimeError('RESOURCE_EXHAUSTED: Out of memory while trying to allocate 546604840 bytes.')\n",
      "\n",
      "========== TRIAL 257 ==========\n",
      "Nin_virtual               12\n",
      "Nhidden                   100\n",
      "Nlayer                    3\n",
      "K                         50\n",
      "p_flip                    0.02\n",
      "Nt                        12\n"
     ]
    },
    {
     "name": "stderr",
     "output_type": "stream",
     "text": [
      "2024-08-28 23:10:03.403324: W external/xla/xla/tsl/framework/bfc_allocator.cc:482] Allocator (GPU_0_bfc) ran out of memory trying to allocate 388.91MiB (rounded to 407799296)requested by op \n",
      "2024-08-28 23:10:03.404215: W external/xla/xla/tsl/framework/bfc_allocator.cc:494] ******************************************************************__________________________________\n",
      "E0828 23:10:03.404246  308455 pjrt_stream_executor_client.cc:3067] Execution of replica 0 failed: RESOURCE_EXHAUSTED: Out of memory while trying to allocate 407799160 bytes.\n"
     ]
    },
    {
     "name": "stdout",
     "output_type": "stream",
     "text": [
      "error                     XlaRuntimeError('RESOURCE_EXHAUSTED: Out of memory while trying to allocate 407799160 bytes.')\n",
      "\n",
      "========== TRIAL 258 ==========\n",
      "Nin_virtual               12\n",
      "Nhidden                   100\n",
      "Nlayer                    3\n",
      "K                         50\n",
      "p_flip                    0.02\n",
      "Nt                        16\n"
     ]
    },
    {
     "name": "stderr",
     "output_type": "stream",
     "text": [
      "2024-08-28 23:10:19.276328: W external/xla/xla/tsl/framework/bfc_allocator.cc:482] Allocator (GPU_0_bfc) ran out of memory trying to allocate 517.08MiB (rounded to 542199296)requested by op \n",
      "2024-08-28 23:10:19.277180: W external/xla/xla/tsl/framework/bfc_allocator.cc:494] ******************************************************************__________________________________\n",
      "E0828 23:10:19.277208  308455 pjrt_stream_executor_client.cc:3067] Execution of replica 0 failed: RESOURCE_EXHAUSTED: Out of memory while trying to allocate 542199160 bytes.\n"
     ]
    },
    {
     "name": "stdout",
     "output_type": "stream",
     "text": [
      "error                     XlaRuntimeError('RESOURCE_EXHAUSTED: Out of memory while trying to allocate 542199160 bytes.')\n",
      "\n",
      "========== TRIAL 259 ==========\n",
      "Nin_virtual               12\n",
      "Nhidden                   100\n",
      "Nlayer                    3\n",
      "K                         50\n",
      "p_flip                    0.04\n",
      "Nt                        8\n"
     ]
    },
    {
     "name": "stderr",
     "output_type": "stream",
     "text": [
      "  0%|          | 0/10 [00:00<?, ?it/s]2024-08-28 23:10:39.364948: W external/xla/xla/tsl/framework/bfc_allocator.cc:482] Allocator (GPU_0_bfc) ran out of memory trying to allocate 521.28MiB (rounded to 546605056)requested by op \n",
      "2024-08-28 23:10:39.366054: W external/xla/xla/tsl/framework/bfc_allocator.cc:494] ****************************************************************____________________________________\n",
      "E0828 23:10:39.366084  308455 pjrt_stream_executor_client.cc:3067] Execution of replica 0 failed: RESOURCE_EXHAUSTED: Out of memory while trying to allocate 546604840 bytes.\n",
      "  0%|          | 0/10 [00:13<?, ?it/s]\n"
     ]
    },
    {
     "name": "stdout",
     "output_type": "stream",
     "text": [
      "error                     XlaRuntimeError('RESOURCE_EXHAUSTED: Out of memory while trying to allocate 546604840 bytes.')\n",
      "\n",
      "========== TRIAL 260 ==========\n",
      "Nin_virtual               12\n",
      "Nhidden                   100\n",
      "Nlayer                    3\n",
      "K                         50\n",
      "p_flip                    0.04\n",
      "Nt                        12\n"
     ]
    },
    {
     "name": "stderr",
     "output_type": "stream",
     "text": [
      "2024-08-28 23:10:55.145302: W external/xla/xla/tsl/framework/bfc_allocator.cc:482] Allocator (GPU_0_bfc) ran out of memory trying to allocate 388.91MiB (rounded to 407799296)requested by op \n",
      "2024-08-28 23:10:55.146175: W external/xla/xla/tsl/framework/bfc_allocator.cc:494] ******************************************************************__________________________________\n",
      "E0828 23:10:55.146202  308455 pjrt_stream_executor_client.cc:3067] Execution of replica 0 failed: RESOURCE_EXHAUSTED: Out of memory while trying to allocate 407799160 bytes.\n"
     ]
    },
    {
     "name": "stdout",
     "output_type": "stream",
     "text": [
      "error                     XlaRuntimeError('RESOURCE_EXHAUSTED: Out of memory while trying to allocate 407799160 bytes.')\n",
      "\n",
      "========== TRIAL 261 ==========\n",
      "Nin_virtual               12\n",
      "Nhidden                   100\n",
      "Nlayer                    3\n",
      "K                         50\n",
      "p_flip                    0.04\n",
      "Nt                        16\n"
     ]
    },
    {
     "name": "stderr",
     "output_type": "stream",
     "text": [
      "2024-08-28 23:11:11.059022: W external/xla/xla/tsl/framework/bfc_allocator.cc:482] Allocator (GPU_0_bfc) ran out of memory trying to allocate 517.08MiB (rounded to 542199296)requested by op \n",
      "2024-08-28 23:11:11.059981: W external/xla/xla/tsl/framework/bfc_allocator.cc:494] *******************************************************************_________________________________\n",
      "E0828 23:11:11.060019  308455 pjrt_stream_executor_client.cc:3067] Execution of replica 0 failed: RESOURCE_EXHAUSTED: Out of memory while trying to allocate 542199160 bytes.\n"
     ]
    },
    {
     "name": "stdout",
     "output_type": "stream",
     "text": [
      "error                     XlaRuntimeError('RESOURCE_EXHAUSTED: Out of memory while trying to allocate 542199160 bytes.')\n",
      "\n",
      "========== TRIAL 262 ==========\n",
      "Nin_virtual               12\n",
      "Nhidden                   100\n",
      "Nlayer                    3\n",
      "K                         100\n",
      "p_flip                    0.0\n",
      "Nt                        8\n"
     ]
    },
    {
     "name": "stderr",
     "output_type": "stream",
     "text": [
      "  0%|          | 0/10 [00:00<?, ?it/s]2024-08-28 23:11:33.437743: W external/xla/xla/tsl/framework/bfc_allocator.cc:482] Allocator (GPU_0_bfc) ran out of memory trying to allocate 638.85MiB (rounded to 669882624)requested by op \n",
      "2024-08-28 23:11:33.438902: W external/xla/xla/tsl/framework/bfc_allocator.cc:494] *****************************************************************___________________________________\n",
      "E0828 23:11:33.438936  308455 pjrt_stream_executor_client.cc:3067] Execution of replica 0 failed: RESOURCE_EXHAUSTED: Out of memory while trying to allocate 669882408 bytes.\n",
      "  0%|          | 0/10 [00:14<?, ?it/s]\n"
     ]
    },
    {
     "name": "stdout",
     "output_type": "stream",
     "text": [
      "error                     XlaRuntimeError('RESOURCE_EXHAUSTED: Out of memory while trying to allocate 669882408 bytes.')\n",
      "\n",
      "========== TRIAL 263 ==========\n",
      "Nin_virtual               12\n",
      "Nhidden                   100\n",
      "Nlayer                    3\n",
      "K                         100\n",
      "p_flip                    0.0\n",
      "Nt                        12\n"
     ]
    },
    {
     "name": "stderr",
     "output_type": "stream",
     "text": [
      "2024-08-28 23:11:49.816787: W external/xla/xla/tsl/framework/bfc_allocator.cc:482] Allocator (GPU_0_bfc) ran out of memory trying to allocate 388.91MiB (rounded to 407799296)requested by op \n",
      "2024-08-28 23:11:49.817639: W external/xla/xla/tsl/framework/bfc_allocator.cc:494] *******************************************************************_________________________________\n",
      "E0828 23:11:49.817665  308455 pjrt_stream_executor_client.cc:3067] Execution of replica 0 failed: RESOURCE_EXHAUSTED: Out of memory while trying to allocate 407799160 bytes.\n"
     ]
    },
    {
     "name": "stdout",
     "output_type": "stream",
     "text": [
      "error                     XlaRuntimeError('RESOURCE_EXHAUSTED: Out of memory while trying to allocate 407799160 bytes.')\n",
      "\n",
      "========== TRIAL 264 ==========\n",
      "Nin_virtual               12\n",
      "Nhidden                   100\n",
      "Nlayer                    3\n",
      "K                         100\n",
      "p_flip                    0.0\n",
      "Nt                        16\n"
     ]
    },
    {
     "name": "stderr",
     "output_type": "stream",
     "text": [
      "2024-08-28 23:12:06.128234: W external/xla/xla/tsl/framework/bfc_allocator.cc:482] Allocator (GPU_0_bfc) ran out of memory trying to allocate 517.08MiB (rounded to 542199296)requested by op \n",
      "2024-08-28 23:12:06.129307: W external/xla/xla/tsl/framework/bfc_allocator.cc:494] *****************************************************************_**________________________________\n",
      "E0828 23:12:06.129343  308455 pjrt_stream_executor_client.cc:3067] Execution of replica 0 failed: RESOURCE_EXHAUSTED: Out of memory while trying to allocate 542199160 bytes.\n"
     ]
    },
    {
     "name": "stdout",
     "output_type": "stream",
     "text": [
      "error                     XlaRuntimeError('RESOURCE_EXHAUSTED: Out of memory while trying to allocate 542199160 bytes.')\n",
      "\n",
      "========== TRIAL 265 ==========\n",
      "Nin_virtual               12\n",
      "Nhidden                   100\n",
      "Nlayer                    3\n",
      "K                         100\n",
      "p_flip                    0.02\n",
      "Nt                        8\n"
     ]
    },
    {
     "name": "stderr",
     "output_type": "stream",
     "text": [
      "  0%|          | 0/10 [00:00<?, ?it/s]2024-08-28 23:12:26.378961: W external/xla/xla/tsl/framework/bfc_allocator.cc:482] Allocator (GPU_0_bfc) ran out of memory trying to allocate 638.85MiB (rounded to 669882624)requested by op \n",
      "2024-08-28 23:12:26.379834: W external/xla/xla/tsl/framework/bfc_allocator.cc:494] *****************************************************************___________________________________\n",
      "E0828 23:12:26.379865  308455 pjrt_stream_executor_client.cc:3067] Execution of replica 0 failed: RESOURCE_EXHAUSTED: Out of memory while trying to allocate 669882408 bytes.\n",
      "  0%|          | 0/10 [00:13<?, ?it/s]\n"
     ]
    },
    {
     "name": "stdout",
     "output_type": "stream",
     "text": [
      "error                     XlaRuntimeError('RESOURCE_EXHAUSTED: Out of memory while trying to allocate 669882408 bytes.')\n",
      "\n",
      "========== TRIAL 266 ==========\n",
      "Nin_virtual               12\n",
      "Nhidden                   100\n",
      "Nlayer                    3\n",
      "K                         100\n",
      "p_flip                    0.02\n",
      "Nt                        12\n"
     ]
    },
    {
     "name": "stderr",
     "output_type": "stream",
     "text": [
      "2024-08-28 23:12:42.192056: W external/xla/xla/tsl/framework/bfc_allocator.cc:482] Allocator (GPU_0_bfc) ran out of memory trying to allocate 388.91MiB (rounded to 407799296)requested by op \n",
      "2024-08-28 23:12:42.192897: W external/xla/xla/tsl/framework/bfc_allocator.cc:494] ********************************************************************________________________________\n",
      "E0828 23:12:42.192923  308455 pjrt_stream_executor_client.cc:3067] Execution of replica 0 failed: RESOURCE_EXHAUSTED: Out of memory while trying to allocate 407799160 bytes.\n"
     ]
    },
    {
     "name": "stdout",
     "output_type": "stream",
     "text": [
      "error                     XlaRuntimeError('RESOURCE_EXHAUSTED: Out of memory while trying to allocate 407799160 bytes.')\n",
      "\n",
      "========== TRIAL 267 ==========\n",
      "Nin_virtual               12\n",
      "Nhidden                   100\n",
      "Nlayer                    3\n",
      "K                         100\n",
      "p_flip                    0.02\n",
      "Nt                        16\n"
     ]
    },
    {
     "name": "stderr",
     "output_type": "stream",
     "text": [
      "2024-08-28 23:12:58.086899: W external/xla/xla/tsl/framework/bfc_allocator.cc:482] Allocator (GPU_0_bfc) ran out of memory trying to allocate 517.08MiB (rounded to 542199296)requested by op \n",
      "2024-08-28 23:12:58.088053: W external/xla/xla/tsl/framework/bfc_allocator.cc:494] *********************************************************************_______________________________\n",
      "E0828 23:12:58.088080  308455 pjrt_stream_executor_client.cc:3067] Execution of replica 0 failed: RESOURCE_EXHAUSTED: Out of memory while trying to allocate 542199160 bytes.\n"
     ]
    },
    {
     "name": "stdout",
     "output_type": "stream",
     "text": [
      "error                     XlaRuntimeError('RESOURCE_EXHAUSTED: Out of memory while trying to allocate 542199160 bytes.')\n",
      "\n",
      "========== TRIAL 268 ==========\n",
      "Nin_virtual               12\n",
      "Nhidden                   100\n",
      "Nlayer                    3\n",
      "K                         100\n",
      "p_flip                    0.04\n",
      "Nt                        8\n"
     ]
    },
    {
     "name": "stderr",
     "output_type": "stream",
     "text": [
      "  0%|          | 0/10 [00:00<?, ?it/s]2024-08-28 23:13:18.362334: W external/xla/xla/tsl/framework/bfc_allocator.cc:482] Allocator (GPU_0_bfc) ran out of memory trying to allocate 638.85MiB (rounded to 669882624)requested by op \n",
      "2024-08-28 23:13:18.363539: W external/xla/xla/tsl/framework/bfc_allocator.cc:494] ******************************************************************__________________________________\n",
      "E0828 23:13:18.363573  308455 pjrt_stream_executor_client.cc:3067] Execution of replica 0 failed: RESOURCE_EXHAUSTED: Out of memory while trying to allocate 669882408 bytes.\n",
      "  0%|          | 0/10 [00:13<?, ?it/s]\n"
     ]
    },
    {
     "name": "stdout",
     "output_type": "stream",
     "text": [
      "error                     XlaRuntimeError('RESOURCE_EXHAUSTED: Out of memory while trying to allocate 669882408 bytes.')\n",
      "\n",
      "========== TRIAL 269 ==========\n",
      "Nin_virtual               12\n",
      "Nhidden                   100\n",
      "Nlayer                    3\n",
      "K                         100\n",
      "p_flip                    0.04\n",
      "Nt                        12\n"
     ]
    },
    {
     "name": "stderr",
     "output_type": "stream",
     "text": [
      "2024-08-28 23:13:34.190751: W external/xla/xla/tsl/framework/bfc_allocator.cc:482] Allocator (GPU_0_bfc) ran out of memory trying to allocate 388.91MiB (rounded to 407799296)requested by op \n",
      "2024-08-28 23:13:34.191910: W external/xla/xla/tsl/framework/bfc_allocator.cc:494] *********************************************************************_______________________________\n",
      "E0828 23:13:34.191942  308455 pjrt_stream_executor_client.cc:3067] Execution of replica 0 failed: RESOURCE_EXHAUSTED: Out of memory while trying to allocate 407799160 bytes.\n"
     ]
    },
    {
     "name": "stdout",
     "output_type": "stream",
     "text": [
      "error                     XlaRuntimeError('RESOURCE_EXHAUSTED: Out of memory while trying to allocate 407799160 bytes.')\n",
      "\n",
      "========== TRIAL 270 ==========\n",
      "Nin_virtual               12\n",
      "Nhidden                   100\n",
      "Nlayer                    3\n",
      "K                         100\n",
      "p_flip                    0.04\n",
      "Nt                        16\n"
     ]
    },
    {
     "name": "stderr",
     "output_type": "stream",
     "text": [
      "2024-08-28 23:13:50.187331: W external/xla/xla/tsl/framework/bfc_allocator.cc:482] Allocator (GPU_0_bfc) ran out of memory trying to allocate 517.08MiB (rounded to 542199296)requested by op \n",
      "2024-08-28 23:13:50.188414: W external/xla/xla/tsl/framework/bfc_allocator.cc:494] *********************************************************************_______________________________\n",
      "E0828 23:13:50.188446  308455 pjrt_stream_executor_client.cc:3067] Execution of replica 0 failed: RESOURCE_EXHAUSTED: Out of memory while trying to allocate 542199160 bytes.\n"
     ]
    },
    {
     "name": "stdout",
     "output_type": "stream",
     "text": [
      "error                     XlaRuntimeError('RESOURCE_EXHAUSTED: Out of memory while trying to allocate 542199160 bytes.')\n",
      "\n",
      "========== TRIAL 271 ==========\n",
      "Nin_virtual               12\n",
      "Nhidden                   100\n",
      "Nlayer                    3\n",
      "K                         150\n",
      "p_flip                    0.0\n",
      "Nt                        8\n"
     ]
    },
    {
     "name": "stderr",
     "output_type": "stream",
     "text": [
      "  0%|          | 0/10 [00:00<?, ?it/s]2024-08-28 23:14:12.181116: W external/xla/xla/tsl/framework/bfc_allocator.cc:482] Allocator (GPU_0_bfc) ran out of memory trying to allocate 829.35MiB (rounded to 869632512)requested by op \n",
      "2024-08-28 23:14:12.182380: W external/xla/xla/tsl/framework/bfc_allocator.cc:494] *******************************************************************_________________________________\n",
      "E0828 23:14:12.182425  308455 pjrt_stream_executor_client.cc:3067] Execution of replica 0 failed: RESOURCE_EXHAUSTED: Out of memory while trying to allocate 869632424 bytes.\n",
      "  0%|          | 0/10 [00:14<?, ?it/s]\n"
     ]
    },
    {
     "name": "stdout",
     "output_type": "stream",
     "text": [
      "error                     XlaRuntimeError('RESOURCE_EXHAUSTED: Out of memory while trying to allocate 869632424 bytes.')\n",
      "\n",
      "========== TRIAL 272 ==========\n",
      "Nin_virtual               12\n",
      "Nhidden                   100\n",
      "Nlayer                    3\n",
      "K                         150\n",
      "p_flip                    0.0\n",
      "Nt                        12\n"
     ]
    },
    {
     "name": "stderr",
     "output_type": "stream",
     "text": [
      "2024-08-28 23:14:28.414928: W external/xla/xla/tsl/framework/bfc_allocator.cc:482] Allocator (GPU_0_bfc) ran out of memory trying to allocate 388.91MiB (rounded to 407799296)requested by op \n",
      "2024-08-28 23:14:28.415920: W external/xla/xla/tsl/framework/bfc_allocator.cc:494] *********************************************************************_______________________________\n",
      "E0828 23:14:28.415949  308455 pjrt_stream_executor_client.cc:3067] Execution of replica 0 failed: RESOURCE_EXHAUSTED: Out of memory while trying to allocate 407799160 bytes.\n"
     ]
    },
    {
     "name": "stdout",
     "output_type": "stream",
     "text": [
      "error                     XlaRuntimeError('RESOURCE_EXHAUSTED: Out of memory while trying to allocate 407799160 bytes.')\n",
      "\n",
      "========== TRIAL 273 ==========\n",
      "Nin_virtual               12\n",
      "Nhidden                   100\n",
      "Nlayer                    3\n",
      "K                         150\n",
      "p_flip                    0.0\n",
      "Nt                        16\n"
     ]
    },
    {
     "name": "stderr",
     "output_type": "stream",
     "text": [
      "2024-08-28 23:14:44.728391: W external/xla/xla/tsl/framework/bfc_allocator.cc:482] Allocator (GPU_0_bfc) ran out of memory trying to allocate 517.08MiB (rounded to 542199296)requested by op \n",
      "2024-08-28 23:14:44.729219: W external/xla/xla/tsl/framework/bfc_allocator.cc:494] **********************************************************************______________________________\n",
      "E0828 23:14:44.729249  308455 pjrt_stream_executor_client.cc:3067] Execution of replica 0 failed: RESOURCE_EXHAUSTED: Out of memory while trying to allocate 542199160 bytes.\n"
     ]
    },
    {
     "name": "stdout",
     "output_type": "stream",
     "text": [
      "error                     XlaRuntimeError('RESOURCE_EXHAUSTED: Out of memory while trying to allocate 542199160 bytes.')\n",
      "\n",
      "========== TRIAL 274 ==========\n",
      "Nin_virtual               12\n",
      "Nhidden                   100\n",
      "Nlayer                    3\n",
      "K                         150\n",
      "p_flip                    0.02\n",
      "Nt                        8\n"
     ]
    },
    {
     "name": "stderr",
     "output_type": "stream",
     "text": [
      "  0%|          | 0/10 [00:00<?, ?it/s]2024-08-28 23:15:04.999407: W external/xla/xla/tsl/framework/bfc_allocator.cc:482] Allocator (GPU_0_bfc) ran out of memory trying to allocate 829.35MiB (rounded to 869632512)requested by op \n",
      "2024-08-28 23:15:05.000549: W external/xla/xla/tsl/framework/bfc_allocator.cc:494] *******************************************************************_________________________________\n",
      "E0828 23:15:05.000585  308455 pjrt_stream_executor_client.cc:3067] Execution of replica 0 failed: RESOURCE_EXHAUSTED: Out of memory while trying to allocate 869632424 bytes.\n",
      "  0%|          | 0/10 [00:13<?, ?it/s]\n"
     ]
    },
    {
     "name": "stdout",
     "output_type": "stream",
     "text": [
      "error                     XlaRuntimeError('RESOURCE_EXHAUSTED: Out of memory while trying to allocate 869632424 bytes.')\n",
      "\n",
      "========== TRIAL 275 ==========\n",
      "Nin_virtual               12\n",
      "Nhidden                   100\n",
      "Nlayer                    3\n",
      "K                         150\n",
      "p_flip                    0.02\n",
      "Nt                        12\n"
     ]
    },
    {
     "name": "stderr",
     "output_type": "stream",
     "text": [
      "2024-08-28 23:15:20.824360: W external/xla/xla/tsl/framework/bfc_allocator.cc:482] Allocator (GPU_0_bfc) ran out of memory trying to allocate 388.91MiB (rounded to 407799296)requested by op \n",
      "2024-08-28 23:15:20.825321: W external/xla/xla/tsl/framework/bfc_allocator.cc:494] **********************************************************************______________________________\n",
      "E0828 23:15:20.825350  308455 pjrt_stream_executor_client.cc:3067] Execution of replica 0 failed: RESOURCE_EXHAUSTED: Out of memory while trying to allocate 407799160 bytes.\n"
     ]
    },
    {
     "name": "stdout",
     "output_type": "stream",
     "text": [
      "error                     XlaRuntimeError('RESOURCE_EXHAUSTED: Out of memory while trying to allocate 407799160 bytes.')\n",
      "\n",
      "========== TRIAL 276 ==========\n",
      "Nin_virtual               12\n",
      "Nhidden                   100\n",
      "Nlayer                    3\n",
      "K                         150\n",
      "p_flip                    0.02\n",
      "Nt                        16\n"
     ]
    },
    {
     "name": "stderr",
     "output_type": "stream",
     "text": [
      "2024-08-28 23:15:36.773634: W external/xla/xla/tsl/framework/bfc_allocator.cc:482] Allocator (GPU_0_bfc) ran out of memory trying to allocate 517.08MiB (rounded to 542199296)requested by op \n",
      "2024-08-28 23:15:36.774609: W external/xla/xla/tsl/framework/bfc_allocator.cc:494] ********************************************************************_**_____________________________\n",
      "E0828 23:15:36.774636  308455 pjrt_stream_executor_client.cc:3067] Execution of replica 0 failed: RESOURCE_EXHAUSTED: Out of memory while trying to allocate 542199160 bytes.\n"
     ]
    },
    {
     "name": "stdout",
     "output_type": "stream",
     "text": [
      "error                     XlaRuntimeError('RESOURCE_EXHAUSTED: Out of memory while trying to allocate 542199160 bytes.')\n",
      "\n",
      "========== TRIAL 277 ==========\n",
      "Nin_virtual               12\n",
      "Nhidden                   100\n",
      "Nlayer                    3\n",
      "K                         150\n",
      "p_flip                    0.04\n",
      "Nt                        8\n"
     ]
    },
    {
     "name": "stderr",
     "output_type": "stream",
     "text": [
      "  0%|          | 0/10 [00:00<?, ?it/s]2024-08-28 23:16:00.401638: W external/xla/xla/tsl/framework/bfc_allocator.cc:482] Allocator (GPU_0_bfc) ran out of memory trying to allocate 829.35MiB (rounded to 869632512)requested by op \n",
      "2024-08-28 23:16:00.402916: W external/xla/xla/tsl/framework/bfc_allocator.cc:494] ********************************************************************________________________________\n",
      "E0828 23:16:00.402951  308455 pjrt_stream_executor_client.cc:3067] Execution of replica 0 failed: RESOURCE_EXHAUSTED: Out of memory while trying to allocate 869632424 bytes.\n",
      "  0%|          | 0/10 [00:13<?, ?it/s]\n"
     ]
    },
    {
     "name": "stdout",
     "output_type": "stream",
     "text": [
      "error                     XlaRuntimeError('RESOURCE_EXHAUSTED: Out of memory while trying to allocate 869632424 bytes.')\n",
      "\n",
      "========== TRIAL 278 ==========\n",
      "Nin_virtual               12\n",
      "Nhidden                   100\n",
      "Nlayer                    3\n",
      "K                         150\n",
      "p_flip                    0.04\n",
      "Nt                        12\n"
     ]
    },
    {
     "name": "stderr",
     "output_type": "stream",
     "text": [
      "2024-08-28 23:16:16.266750: W external/xla/xla/tsl/framework/bfc_allocator.cc:482] Allocator (GPU_0_bfc) ran out of memory trying to allocate 388.91MiB (rounded to 407799296)requested by op \n",
      "2024-08-28 23:16:16.267648: W external/xla/xla/tsl/framework/bfc_allocator.cc:494] ***********************************************************************_____________________________\n",
      "E0828 23:16:16.267675  308455 pjrt_stream_executor_client.cc:3067] Execution of replica 0 failed: RESOURCE_EXHAUSTED: Out of memory while trying to allocate 407799160 bytes.\n"
     ]
    },
    {
     "name": "stdout",
     "output_type": "stream",
     "text": [
      "error                     XlaRuntimeError('RESOURCE_EXHAUSTED: Out of memory while trying to allocate 407799160 bytes.')\n",
      "\n",
      "========== TRIAL 279 ==========\n",
      "Nin_virtual               12\n",
      "Nhidden                   100\n",
      "Nlayer                    3\n",
      "K                         150\n",
      "p_flip                    0.04\n",
      "Nt                        16\n"
     ]
    },
    {
     "name": "stderr",
     "output_type": "stream",
     "text": [
      "2024-08-28 23:16:32.231246: W external/xla/xla/tsl/framework/bfc_allocator.cc:482] Allocator (GPU_0_bfc) ran out of memory trying to allocate 517.08MiB (rounded to 542199296)requested by op \n",
      "2024-08-28 23:16:32.232270: W external/xla/xla/tsl/framework/bfc_allocator.cc:494] ************************************************************************____________________________\n",
      "E0828 23:16:32.232296  308455 pjrt_stream_executor_client.cc:3067] Execution of replica 0 failed: RESOURCE_EXHAUSTED: Out of memory while trying to allocate 542199160 bytes.\n"
     ]
    },
    {
     "name": "stdout",
     "output_type": "stream",
     "text": [
      "error                     XlaRuntimeError('RESOURCE_EXHAUSTED: Out of memory while trying to allocate 542199160 bytes.')\n",
      "\n",
      "========== TRIAL 280 ==========\n",
      "Nin_virtual               12\n",
      "Nhidden                   100\n",
      "Nlayer                    3\n",
      "K                         200\n",
      "p_flip                    0.0\n",
      "Nt                        8\n"
     ]
    },
    {
     "name": "stderr",
     "output_type": "stream",
     "text": [
      "  0%|          | 0/10 [00:00<?, ?it/s]2024-08-28 23:16:54.165136: W external/xla/xla/tsl/framework/bfc_allocator.cc:482] Allocator (GPU_0_bfc) ran out of memory trying to allocate 1021.18MiB (rounded to 1070782464)requested by op \n",
      "2024-08-28 23:16:54.166467: W external/xla/xla/tsl/framework/bfc_allocator.cc:494] *********************************************************************_______________________________\n",
      "E0828 23:16:54.166502  308455 pjrt_stream_executor_client.cc:3067] Execution of replica 0 failed: RESOURCE_EXHAUSTED: Out of memory while trying to allocate 1070782248 bytes.\n",
      "  0%|          | 0/10 [00:14<?, ?it/s]\n"
     ]
    },
    {
     "name": "stdout",
     "output_type": "stream",
     "text": [
      "error                     XlaRuntimeError('RESOURCE_EXHAUSTED: Out of memory while trying to allocate 1070782248 bytes.')\n",
      "\n",
      "========== TRIAL 281 ==========\n",
      "Nin_virtual               12\n",
      "Nhidden                   100\n",
      "Nlayer                    3\n",
      "K                         200\n",
      "p_flip                    0.0\n",
      "Nt                        12\n"
     ]
    },
    {
     "name": "stderr",
     "output_type": "stream",
     "text": [
      "2024-08-28 23:17:10.441818: W external/xla/xla/tsl/framework/bfc_allocator.cc:482] Allocator (GPU_0_bfc) ran out of memory trying to allocate 388.91MiB (rounded to 407799296)requested by op \n",
      "2024-08-28 23:17:10.442776: W external/xla/xla/tsl/framework/bfc_allocator.cc:494] ***********************************************************************_____________________________\n",
      "E0828 23:17:10.442804  308455 pjrt_stream_executor_client.cc:3067] Execution of replica 0 failed: RESOURCE_EXHAUSTED: Out of memory while trying to allocate 407799160 bytes.\n"
     ]
    },
    {
     "name": "stdout",
     "output_type": "stream",
     "text": [
      "error                     XlaRuntimeError('RESOURCE_EXHAUSTED: Out of memory while trying to allocate 407799160 bytes.')\n",
      "\n",
      "========== TRIAL 282 ==========\n",
      "Nin_virtual               12\n",
      "Nhidden                   100\n",
      "Nlayer                    3\n",
      "K                         200\n",
      "p_flip                    0.0\n",
      "Nt                        16\n"
     ]
    },
    {
     "name": "stderr",
     "output_type": "stream",
     "text": [
      "2024-08-28 23:17:26.771880: W external/xla/xla/tsl/framework/bfc_allocator.cc:482] Allocator (GPU_0_bfc) ran out of memory trying to allocate 517.08MiB (rounded to 542199296)requested by op \n",
      "2024-08-28 23:17:26.773073: W external/xla/xla/tsl/framework/bfc_allocator.cc:494] ************************************************************************____________________________\n",
      "E0828 23:17:26.773100  308455 pjrt_stream_executor_client.cc:3067] Execution of replica 0 failed: RESOURCE_EXHAUSTED: Out of memory while trying to allocate 542199160 bytes.\n"
     ]
    },
    {
     "name": "stdout",
     "output_type": "stream",
     "text": [
      "error                     XlaRuntimeError('RESOURCE_EXHAUSTED: Out of memory while trying to allocate 542199160 bytes.')\n",
      "\n",
      "========== TRIAL 283 ==========\n",
      "Nin_virtual               12\n",
      "Nhidden                   100\n",
      "Nlayer                    3\n",
      "K                         200\n",
      "p_flip                    0.02\n",
      "Nt                        8\n"
     ]
    },
    {
     "name": "stderr",
     "output_type": "stream",
     "text": [
      "  0%|          | 0/10 [00:00<?, ?it/s]2024-08-28 23:17:47.103661: W external/xla/xla/tsl/framework/bfc_allocator.cc:482] Allocator (GPU_0_bfc) ran out of memory trying to allocate 1021.18MiB (rounded to 1070782464)requested by op \n",
      "2024-08-28 23:17:47.104897: W external/xla/xla/tsl/framework/bfc_allocator.cc:494] **********************************************************************______________________________\n",
      "E0828 23:17:47.104935  308455 pjrt_stream_executor_client.cc:3067] Execution of replica 0 failed: RESOURCE_EXHAUSTED: Out of memory while trying to allocate 1070782248 bytes.\n",
      "  0%|          | 0/10 [00:13<?, ?it/s]\n"
     ]
    },
    {
     "name": "stdout",
     "output_type": "stream",
     "text": [
      "error                     XlaRuntimeError('RESOURCE_EXHAUSTED: Out of memory while trying to allocate 1070782248 bytes.')\n",
      "\n",
      "========== TRIAL 284 ==========\n",
      "Nin_virtual               12\n",
      "Nhidden                   100\n",
      "Nlayer                    3\n",
      "K                         200\n",
      "p_flip                    0.02\n",
      "Nt                        12\n"
     ]
    },
    {
     "name": "stderr",
     "output_type": "stream",
     "text": [
      "2024-08-28 23:18:02.965175: W external/xla/xla/tsl/framework/bfc_allocator.cc:482] Allocator (GPU_0_bfc) ran out of memory trying to allocate 388.91MiB (rounded to 407799296)requested by op \n",
      "2024-08-28 23:18:02.966091: W external/xla/xla/tsl/framework/bfc_allocator.cc:494] ************************************************************************____________________________\n",
      "E0828 23:18:02.966114  308455 pjrt_stream_executor_client.cc:3067] Execution of replica 0 failed: RESOURCE_EXHAUSTED: Out of memory while trying to allocate 407799160 bytes.\n"
     ]
    },
    {
     "name": "stdout",
     "output_type": "stream",
     "text": [
      "error                     XlaRuntimeError('RESOURCE_EXHAUSTED: Out of memory while trying to allocate 407799160 bytes.')\n",
      "\n",
      "========== TRIAL 285 ==========\n",
      "Nin_virtual               12\n",
      "Nhidden                   100\n",
      "Nlayer                    3\n",
      "K                         200\n",
      "p_flip                    0.02\n",
      "Nt                        16\n"
     ]
    },
    {
     "name": "stderr",
     "output_type": "stream",
     "text": [
      "2024-08-28 23:18:18.953150: W external/xla/xla/tsl/framework/bfc_allocator.cc:482] Allocator (GPU_0_bfc) ran out of memory trying to allocate 517.08MiB (rounded to 542199296)requested by op \n",
      "2024-08-28 23:18:18.954190: W external/xla/xla/tsl/framework/bfc_allocator.cc:494] *************************************************************************___________________________\n",
      "E0828 23:18:18.954218  308455 pjrt_stream_executor_client.cc:3067] Execution of replica 0 failed: RESOURCE_EXHAUSTED: Out of memory while trying to allocate 542199160 bytes.\n"
     ]
    },
    {
     "name": "stdout",
     "output_type": "stream",
     "text": [
      "error                     XlaRuntimeError('RESOURCE_EXHAUSTED: Out of memory while trying to allocate 542199160 bytes.')\n",
      "\n",
      "========== TRIAL 286 ==========\n",
      "Nin_virtual               12\n",
      "Nhidden                   100\n",
      "Nlayer                    3\n",
      "K                         200\n",
      "p_flip                    0.04\n",
      "Nt                        8\n"
     ]
    },
    {
     "name": "stderr",
     "output_type": "stream",
     "text": [
      "2024-08-28 23:18:34.638973: W external/xla/xla/tsl/framework/bfc_allocator.cc:482] Allocator (GPU_0_bfc) ran out of memory trying to allocate 264.93MiB (rounded to 277797632)requested by op \n",
      "2024-08-28 23:18:34.639937: W external/xla/xla/tsl/framework/bfc_allocator.cc:494] ***********************************************************************_____________________________\n",
      "E0828 23:18:34.639963  308455 pjrt_stream_executor_client.cc:3067] Execution of replica 0 failed: RESOURCE_EXHAUSTED: Out of memory while trying to allocate 277797624 bytes.\n"
     ]
    },
    {
     "name": "stdout",
     "output_type": "stream",
     "text": [
      "error                     XlaRuntimeError('RESOURCE_EXHAUSTED: Out of memory while trying to allocate 277797624 bytes.')\n",
      "\n",
      "========== TRIAL 287 ==========\n",
      "Nin_virtual               12\n",
      "Nhidden                   100\n",
      "Nlayer                    3\n",
      "K                         200\n",
      "p_flip                    0.04\n",
      "Nt                        12\n"
     ]
    },
    {
     "name": "stderr",
     "output_type": "stream",
     "text": [
      "2024-08-28 23:18:50.410920: W external/xla/xla/tsl/framework/bfc_allocator.cc:482] Allocator (GPU_0_bfc) ran out of memory trying to allocate 388.91MiB (rounded to 407799296)requested by op \n",
      "2024-08-28 23:18:50.411937: W external/xla/xla/tsl/framework/bfc_allocator.cc:494] ************************************************************************____________________________\n",
      "E0828 23:18:50.411967  308455 pjrt_stream_executor_client.cc:3067] Execution of replica 0 failed: RESOURCE_EXHAUSTED: Out of memory while trying to allocate 407799160 bytes.\n"
     ]
    },
    {
     "name": "stdout",
     "output_type": "stream",
     "text": [
      "error                     XlaRuntimeError('RESOURCE_EXHAUSTED: Out of memory while trying to allocate 407799160 bytes.')\n",
      "\n",
      "========== TRIAL 288 ==========\n",
      "Nin_virtual               12\n",
      "Nhidden                   100\n",
      "Nlayer                    3\n",
      "K                         200\n",
      "p_flip                    0.04\n",
      "Nt                        16\n"
     ]
    },
    {
     "name": "stderr",
     "output_type": "stream",
     "text": [
      "2024-08-28 23:19:06.341777: W external/xla/xla/tsl/framework/bfc_allocator.cc:482] Allocator (GPU_0_bfc) ran out of memory trying to allocate 517.08MiB (rounded to 542199296)requested by op \n",
      "2024-08-28 23:19:06.342755: W external/xla/xla/tsl/framework/bfc_allocator.cc:494] *************************************************************************___________________________\n",
      "E0828 23:19:06.342781  308455 pjrt_stream_executor_client.cc:3067] Execution of replica 0 failed: RESOURCE_EXHAUSTED: Out of memory while trying to allocate 542199160 bytes.\n"
     ]
    },
    {
     "name": "stdout",
     "output_type": "stream",
     "text": [
      "error                     XlaRuntimeError('RESOURCE_EXHAUSTED: Out of memory while trying to allocate 542199160 bytes.')\n",
      "\n",
      "========== TRIAL 289 ==========\n",
      "Nin_virtual               16\n",
      "Nhidden                   40\n",
      "Nlayer                    2\n",
      "K                         50\n",
      "p_flip                    0.0\n",
      "Nt                        8\n"
     ]
    },
    {
     "name": "stderr",
     "output_type": "stream",
     "text": [
      "2024-08-28 23:19:11.159930: W external/xla/xla/tsl/framework/bfc_allocator.cc:291] Allocator (GPU_0_bfc) ran out of memory trying to allocate 357.80MiB with freed_by_count=0. The caller indicates that this is not a failure, but this may mean that there could be performance gains if more memory were available.\n"
     ]
    },
    {
     "name": "stdout",
     "output_type": "stream",
     "text": [
      "error                     XlaRuntimeError('RESOURCE_EXHAUSTED: Out of memory while trying to allocate 375177216 bytes.')\n",
      "\n",
      "========== TRIAL 290 ==========\n",
      "Nin_virtual               16\n",
      "Nhidden                   40\n",
      "Nlayer                    2\n",
      "K                         50\n",
      "p_flip                    0.0\n",
      "Nt                        12\n"
     ]
    },
    {
     "name": "stderr",
     "output_type": "stream",
     "text": [
      "2024-08-28 23:19:27.329207: W external/xla/xla/tsl/framework/bfc_allocator.cc:482] Allocator (GPU_0_bfc) ran out of memory trying to allocate 516.85MiB (rounded to 541959424)requested by op \n",
      "2024-08-28 23:19:27.330437: W external/xla/xla/tsl/framework/bfc_allocator.cc:494] ***********************************************************************_____________________________\n",
      "E0828 23:19:27.330466  308455 pjrt_stream_executor_client.cc:3067] Execution of replica 0 failed: RESOURCE_EXHAUSTED: Out of memory while trying to allocate 541959424 bytes.\n"
     ]
    },
    {
     "name": "stdout",
     "output_type": "stream",
     "text": [
      "error                     XlaRuntimeError('RESOURCE_EXHAUSTED: Out of memory while trying to allocate 541959424 bytes.')\n",
      "\n",
      "========== TRIAL 291 ==========\n",
      "Nin_virtual               16\n",
      "Nhidden                   40\n",
      "Nlayer                    2\n",
      "K                         50\n",
      "p_flip                    0.0\n",
      "Nt                        16\n"
     ]
    },
    {
     "name": "stderr",
     "output_type": "stream",
     "text": [
      "2024-08-28 23:19:43.696920: W external/xla/xla/tsl/framework/bfc_allocator.cc:482] Allocator (GPU_0_bfc) ran out of memory trying to allocate 687.75MiB (rounded to 721159424)requested by op \n",
      "2024-08-28 23:19:43.698256: W external/xla/xla/tsl/framework/bfc_allocator.cc:494] ************************************************************************____________________________\n",
      "E0828 23:19:43.698284  308455 pjrt_stream_executor_client.cc:3067] Execution of replica 0 failed: RESOURCE_EXHAUSTED: Out of memory while trying to allocate 721159424 bytes.\n"
     ]
    },
    {
     "name": "stdout",
     "output_type": "stream",
     "text": [
      "error                     XlaRuntimeError('RESOURCE_EXHAUSTED: Out of memory while trying to allocate 721159424 bytes.')\n",
      "\n",
      "========== TRIAL 292 ==========\n",
      "Nin_virtual               16\n",
      "Nhidden                   40\n",
      "Nlayer                    2\n",
      "K                         50\n",
      "p_flip                    0.02\n",
      "Nt                        8\n"
     ]
    },
    {
     "name": "stderr",
     "output_type": "stream",
     "text": [
      "2024-08-28 23:19:48.460431: W external/xla/xla/tsl/framework/bfc_allocator.cc:291] Allocator (GPU_0_bfc) ran out of memory trying to allocate 357.80MiB with freed_by_count=0. The caller indicates that this is not a failure, but this may mean that there could be performance gains if more memory were available.\n"
     ]
    },
    {
     "name": "stdout",
     "output_type": "stream",
     "text": [
      "error                     XlaRuntimeError('RESOURCE_EXHAUSTED: Out of memory while trying to allocate 375177216 bytes.')\n",
      "\n",
      "========== TRIAL 293 ==========\n",
      "Nin_virtual               16\n",
      "Nhidden                   40\n",
      "Nlayer                    2\n",
      "K                         50\n",
      "p_flip                    0.02\n",
      "Nt                        12\n"
     ]
    },
    {
     "name": "stderr",
     "output_type": "stream",
     "text": [
      "2024-08-28 23:20:04.246042: W external/xla/xla/tsl/framework/bfc_allocator.cc:482] Allocator (GPU_0_bfc) ran out of memory trying to allocate 516.85MiB (rounded to 541959424)requested by op \n",
      "2024-08-28 23:20:04.247124: W external/xla/xla/tsl/framework/bfc_allocator.cc:494] ***********************************************************************_____________________________\n",
      "E0828 23:20:04.247151  308455 pjrt_stream_executor_client.cc:3067] Execution of replica 0 failed: RESOURCE_EXHAUSTED: Out of memory while trying to allocate 541959424 bytes.\n"
     ]
    },
    {
     "name": "stdout",
     "output_type": "stream",
     "text": [
      "error                     XlaRuntimeError('RESOURCE_EXHAUSTED: Out of memory while trying to allocate 541959424 bytes.')\n",
      "\n",
      "========== TRIAL 294 ==========\n",
      "Nin_virtual               16\n",
      "Nhidden                   40\n",
      "Nlayer                    2\n",
      "K                         50\n",
      "p_flip                    0.02\n",
      "Nt                        16\n"
     ]
    },
    {
     "name": "stderr",
     "output_type": "stream",
     "text": [
      "2024-08-28 23:20:20.189909: W external/xla/xla/tsl/framework/bfc_allocator.cc:482] Allocator (GPU_0_bfc) ran out of memory trying to allocate 687.75MiB (rounded to 721159424)requested by op \n",
      "2024-08-28 23:20:20.191156: W external/xla/xla/tsl/framework/bfc_allocator.cc:494] ************************************************************************____________________________\n",
      "E0828 23:20:20.191183  308455 pjrt_stream_executor_client.cc:3067] Execution of replica 0 failed: RESOURCE_EXHAUSTED: Out of memory while trying to allocate 721159424 bytes.\n"
     ]
    },
    {
     "name": "stdout",
     "output_type": "stream",
     "text": [
      "error                     XlaRuntimeError('RESOURCE_EXHAUSTED: Out of memory while trying to allocate 721159424 bytes.')\n",
      "\n",
      "========== TRIAL 295 ==========\n",
      "Nin_virtual               16\n",
      "Nhidden                   40\n",
      "Nlayer                    2\n",
      "K                         50\n",
      "p_flip                    0.04\n",
      "Nt                        8\n"
     ]
    },
    {
     "name": "stderr",
     "output_type": "stream",
     "text": [
      "2024-08-28 23:20:24.967612: W external/xla/xla/tsl/framework/bfc_allocator.cc:291] Allocator (GPU_0_bfc) ran out of memory trying to allocate 357.80MiB with freed_by_count=0. The caller indicates that this is not a failure, but this may mean that there could be performance gains if more memory were available.\n"
     ]
    },
    {
     "name": "stdout",
     "output_type": "stream",
     "text": [
      "error                     XlaRuntimeError('RESOURCE_EXHAUSTED: Out of memory while trying to allocate 375177216 bytes.')\n",
      "\n",
      "========== TRIAL 296 ==========\n",
      "Nin_virtual               16\n",
      "Nhidden                   40\n",
      "Nlayer                    2\n",
      "K                         50\n",
      "p_flip                    0.04\n",
      "Nt                        12\n"
     ]
    },
    {
     "name": "stderr",
     "output_type": "stream",
     "text": [
      "2024-08-28 23:20:40.752713: W external/xla/xla/tsl/framework/bfc_allocator.cc:482] Allocator (GPU_0_bfc) ran out of memory trying to allocate 516.85MiB (rounded to 541959424)requested by op \n",
      "2024-08-28 23:20:40.753778: W external/xla/xla/tsl/framework/bfc_allocator.cc:494] ***********************************************************************_____________________________\n",
      "E0828 23:20:40.753804  308455 pjrt_stream_executor_client.cc:3067] Execution of replica 0 failed: RESOURCE_EXHAUSTED: Out of memory while trying to allocate 541959424 bytes.\n"
     ]
    },
    {
     "name": "stdout",
     "output_type": "stream",
     "text": [
      "error                     XlaRuntimeError('RESOURCE_EXHAUSTED: Out of memory while trying to allocate 541959424 bytes.')\n",
      "\n",
      "========== TRIAL 297 ==========\n",
      "Nin_virtual               16\n",
      "Nhidden                   40\n",
      "Nlayer                    2\n",
      "K                         50\n",
      "p_flip                    0.04\n",
      "Nt                        16\n"
     ]
    },
    {
     "name": "stderr",
     "output_type": "stream",
     "text": [
      "2024-08-28 23:20:56.709882: W external/xla/xla/tsl/framework/bfc_allocator.cc:482] Allocator (GPU_0_bfc) ran out of memory trying to allocate 687.75MiB (rounded to 721159424)requested by op \n",
      "2024-08-28 23:20:56.711299: W external/xla/xla/tsl/framework/bfc_allocator.cc:494] ************************************************************************____________________________\n",
      "E0828 23:20:56.711329  308455 pjrt_stream_executor_client.cc:3067] Execution of replica 0 failed: RESOURCE_EXHAUSTED: Out of memory while trying to allocate 721159424 bytes.\n"
     ]
    },
    {
     "name": "stdout",
     "output_type": "stream",
     "text": [
      "error                     XlaRuntimeError('RESOURCE_EXHAUSTED: Out of memory while trying to allocate 721159424 bytes.')\n",
      "\n",
      "========== TRIAL 298 ==========\n",
      "Nin_virtual               16\n",
      "Nhidden                   40\n",
      "Nlayer                    2\n",
      "K                         100\n",
      "p_flip                    0.0\n",
      "Nt                        8\n"
     ]
    },
    {
     "name": "stderr",
     "output_type": "stream",
     "text": [
      "2024-08-28 23:21:01.506176: W external/xla/xla/tsl/framework/bfc_allocator.cc:291] Allocator (GPU_0_bfc) ran out of memory trying to allocate 357.80MiB with freed_by_count=0. The caller indicates that this is not a failure, but this may mean that there could be performance gains if more memory were available.\n"
     ]
    },
    {
     "name": "stdout",
     "output_type": "stream",
     "text": [
      "error                     XlaRuntimeError('RESOURCE_EXHAUSTED: Out of memory while trying to allocate 375177216 bytes.')\n",
      "\n",
      "========== TRIAL 299 ==========\n",
      "Nin_virtual               16\n",
      "Nhidden                   40\n",
      "Nlayer                    2\n",
      "K                         100\n",
      "p_flip                    0.0\n",
      "Nt                        12\n"
     ]
    },
    {
     "name": "stderr",
     "output_type": "stream",
     "text": [
      "2024-08-28 23:21:17.692418: W external/xla/xla/tsl/framework/bfc_allocator.cc:482] Allocator (GPU_0_bfc) ran out of memory trying to allocate 516.85MiB (rounded to 541959424)requested by op \n",
      "2024-08-28 23:21:17.693766: W external/xla/xla/tsl/framework/bfc_allocator.cc:494] ***********************************************************************_____________________________\n",
      "E0828 23:21:17.693792  308455 pjrt_stream_executor_client.cc:3067] Execution of replica 0 failed: RESOURCE_EXHAUSTED: Out of memory while trying to allocate 541959424 bytes.\n"
     ]
    },
    {
     "name": "stdout",
     "output_type": "stream",
     "text": [
      "error                     XlaRuntimeError('RESOURCE_EXHAUSTED: Out of memory while trying to allocate 541959424 bytes.')\n",
      "\n",
      "========== TRIAL 300 ==========\n",
      "Nin_virtual               16\n",
      "Nhidden                   40\n",
      "Nlayer                    2\n",
      "K                         100\n",
      "p_flip                    0.0\n",
      "Nt                        16\n"
     ]
    },
    {
     "name": "stderr",
     "output_type": "stream",
     "text": [
      "2024-08-28 23:21:34.052921: W external/xla/xla/tsl/framework/bfc_allocator.cc:482] Allocator (GPU_0_bfc) ran out of memory trying to allocate 687.75MiB (rounded to 721159424)requested by op \n",
      "2024-08-28 23:21:34.054232: W external/xla/xla/tsl/framework/bfc_allocator.cc:494] ************************************************************************____________________________\n",
      "E0828 23:21:34.054265  308455 pjrt_stream_executor_client.cc:3067] Execution of replica 0 failed: RESOURCE_EXHAUSTED: Out of memory while trying to allocate 721159424 bytes.\n"
     ]
    },
    {
     "name": "stdout",
     "output_type": "stream",
     "text": [
      "error                     XlaRuntimeError('RESOURCE_EXHAUSTED: Out of memory while trying to allocate 721159424 bytes.')\n",
      "\n",
      "========== TRIAL 301 ==========\n",
      "Nin_virtual               16\n",
      "Nhidden                   40\n",
      "Nlayer                    2\n",
      "K                         100\n",
      "p_flip                    0.02\n",
      "Nt                        8\n"
     ]
    },
    {
     "name": "stderr",
     "output_type": "stream",
     "text": [
      "2024-08-28 23:21:38.836805: W external/xla/xla/tsl/framework/bfc_allocator.cc:291] Allocator (GPU_0_bfc) ran out of memory trying to allocate 357.80MiB with freed_by_count=0. The caller indicates that this is not a failure, but this may mean that there could be performance gains if more memory were available.\n"
     ]
    },
    {
     "name": "stdout",
     "output_type": "stream",
     "text": [
      "error                     XlaRuntimeError('RESOURCE_EXHAUSTED: Out of memory while trying to allocate 375177216 bytes.')\n",
      "\n",
      "========== TRIAL 302 ==========\n",
      "Nin_virtual               16\n",
      "Nhidden                   40\n",
      "Nlayer                    2\n",
      "K                         100\n",
      "p_flip                    0.02\n",
      "Nt                        12\n"
     ]
    },
    {
     "name": "stderr",
     "output_type": "stream",
     "text": [
      "2024-08-28 23:21:54.654557: W external/xla/xla/tsl/framework/bfc_allocator.cc:482] Allocator (GPU_0_bfc) ran out of memory trying to allocate 516.85MiB (rounded to 541959424)requested by op \n",
      "2024-08-28 23:21:54.655706: W external/xla/xla/tsl/framework/bfc_allocator.cc:494] ***********************************************************************_____________________________\n",
      "E0828 23:21:54.655732  308455 pjrt_stream_executor_client.cc:3067] Execution of replica 0 failed: RESOURCE_EXHAUSTED: Out of memory while trying to allocate 541959424 bytes.\n"
     ]
    },
    {
     "name": "stdout",
     "output_type": "stream",
     "text": [
      "error                     XlaRuntimeError('RESOURCE_EXHAUSTED: Out of memory while trying to allocate 541959424 bytes.')\n",
      "\n",
      "========== TRIAL 303 ==========\n",
      "Nin_virtual               16\n",
      "Nhidden                   40\n",
      "Nlayer                    2\n",
      "K                         100\n",
      "p_flip                    0.02\n",
      "Nt                        16\n"
     ]
    },
    {
     "name": "stderr",
     "output_type": "stream",
     "text": [
      "2024-08-28 23:22:10.610028: W external/xla/xla/tsl/framework/bfc_allocator.cc:482] Allocator (GPU_0_bfc) ran out of memory trying to allocate 687.75MiB (rounded to 721159424)requested by op \n",
      "2024-08-28 23:22:10.611439: W external/xla/xla/tsl/framework/bfc_allocator.cc:494] ************************************************************************____________________________\n",
      "E0828 23:22:10.611473  308455 pjrt_stream_executor_client.cc:3067] Execution of replica 0 failed: RESOURCE_EXHAUSTED: Out of memory while trying to allocate 721159424 bytes.\n"
     ]
    },
    {
     "name": "stdout",
     "output_type": "stream",
     "text": [
      "error                     XlaRuntimeError('RESOURCE_EXHAUSTED: Out of memory while trying to allocate 721159424 bytes.')\n",
      "\n",
      "========== TRIAL 304 ==========\n",
      "Nin_virtual               16\n",
      "Nhidden                   40\n",
      "Nlayer                    2\n",
      "K                         100\n",
      "p_flip                    0.04\n",
      "Nt                        8\n"
     ]
    },
    {
     "name": "stderr",
     "output_type": "stream",
     "text": [
      "2024-08-28 23:22:15.365881: W external/xla/xla/tsl/framework/bfc_allocator.cc:291] Allocator (GPU_0_bfc) ran out of memory trying to allocate 357.80MiB with freed_by_count=0. The caller indicates that this is not a failure, but this may mean that there could be performance gains if more memory were available.\n"
     ]
    },
    {
     "name": "stdout",
     "output_type": "stream",
     "text": [
      "error                     XlaRuntimeError('RESOURCE_EXHAUSTED: Out of memory while trying to allocate 375177216 bytes.')\n",
      "\n",
      "========== TRIAL 305 ==========\n",
      "Nin_virtual               16\n",
      "Nhidden                   40\n",
      "Nlayer                    2\n",
      "K                         100\n",
      "p_flip                    0.04\n",
      "Nt                        12\n"
     ]
    },
    {
     "name": "stderr",
     "output_type": "stream",
     "text": [
      "2024-08-28 23:22:31.179582: W external/xla/xla/tsl/framework/bfc_allocator.cc:482] Allocator (GPU_0_bfc) ran out of memory trying to allocate 516.85MiB (rounded to 541959424)requested by op \n",
      "2024-08-28 23:22:31.180704: W external/xla/xla/tsl/framework/bfc_allocator.cc:494] ***********************************************************************_____________________________\n",
      "E0828 23:22:31.180732  308455 pjrt_stream_executor_client.cc:3067] Execution of replica 0 failed: RESOURCE_EXHAUSTED: Out of memory while trying to allocate 541959424 bytes.\n"
     ]
    },
    {
     "name": "stdout",
     "output_type": "stream",
     "text": [
      "error                     XlaRuntimeError('RESOURCE_EXHAUSTED: Out of memory while trying to allocate 541959424 bytes.')\n",
      "\n",
      "========== TRIAL 306 ==========\n",
      "Nin_virtual               16\n",
      "Nhidden                   40\n",
      "Nlayer                    2\n",
      "K                         100\n",
      "p_flip                    0.04\n",
      "Nt                        16\n"
     ]
    },
    {
     "name": "stderr",
     "output_type": "stream",
     "text": [
      "2024-08-28 23:22:47.126779: W external/xla/xla/tsl/framework/bfc_allocator.cc:482] Allocator (GPU_0_bfc) ran out of memory trying to allocate 687.75MiB (rounded to 721159424)requested by op \n",
      "2024-08-28 23:22:47.128234: W external/xla/xla/tsl/framework/bfc_allocator.cc:494] ************************************************************************____________________________\n",
      "E0828 23:22:47.128267  308455 pjrt_stream_executor_client.cc:3067] Execution of replica 0 failed: RESOURCE_EXHAUSTED: Out of memory while trying to allocate 721159424 bytes.\n"
     ]
    },
    {
     "name": "stdout",
     "output_type": "stream",
     "text": [
      "error                     XlaRuntimeError('RESOURCE_EXHAUSTED: Out of memory while trying to allocate 721159424 bytes.')\n",
      "\n",
      "========== TRIAL 307 ==========\n",
      "Nin_virtual               16\n",
      "Nhidden                   40\n",
      "Nlayer                    2\n",
      "K                         150\n",
      "p_flip                    0.0\n",
      "Nt                        8\n"
     ]
    },
    {
     "name": "stderr",
     "output_type": "stream",
     "text": [
      "2024-08-28 23:22:51.918778: W external/xla/xla/tsl/framework/bfc_allocator.cc:291] Allocator (GPU_0_bfc) ran out of memory trying to allocate 357.80MiB with freed_by_count=0. The caller indicates that this is not a failure, but this may mean that there could be performance gains if more memory were available.\n"
     ]
    },
    {
     "name": "stdout",
     "output_type": "stream",
     "text": [
      "error                     XlaRuntimeError('RESOURCE_EXHAUSTED: Out of memory while trying to allocate 375177216 bytes.')\n",
      "\n",
      "========== TRIAL 308 ==========\n",
      "Nin_virtual               16\n",
      "Nhidden                   40\n",
      "Nlayer                    2\n",
      "K                         150\n",
      "p_flip                    0.0\n",
      "Nt                        12\n"
     ]
    },
    {
     "name": "stderr",
     "output_type": "stream",
     "text": [
      "2024-08-28 23:23:08.117303: W external/xla/xla/tsl/framework/bfc_allocator.cc:482] Allocator (GPU_0_bfc) ran out of memory trying to allocate 516.85MiB (rounded to 541959424)requested by op \n",
      "2024-08-28 23:23:08.118344: W external/xla/xla/tsl/framework/bfc_allocator.cc:494] ***********************************************************************_____________________________\n",
      "E0828 23:23:08.118372  308455 pjrt_stream_executor_client.cc:3067] Execution of replica 0 failed: RESOURCE_EXHAUSTED: Out of memory while trying to allocate 541959424 bytes.\n"
     ]
    },
    {
     "name": "stdout",
     "output_type": "stream",
     "text": [
      "error                     XlaRuntimeError('RESOURCE_EXHAUSTED: Out of memory while trying to allocate 541959424 bytes.')\n",
      "\n",
      "========== TRIAL 309 ==========\n",
      "Nin_virtual               16\n",
      "Nhidden                   40\n",
      "Nlayer                    2\n",
      "K                         150\n",
      "p_flip                    0.0\n",
      "Nt                        16\n"
     ]
    },
    {
     "name": "stderr",
     "output_type": "stream",
     "text": [
      "2024-08-28 23:23:24.509936: W external/xla/xla/tsl/framework/bfc_allocator.cc:482] Allocator (GPU_0_bfc) ran out of memory trying to allocate 687.75MiB (rounded to 721159424)requested by op \n",
      "2024-08-28 23:23:24.511217: W external/xla/xla/tsl/framework/bfc_allocator.cc:494] ************************************************************************____________________________\n",
      "E0828 23:23:24.511245  308455 pjrt_stream_executor_client.cc:3067] Execution of replica 0 failed: RESOURCE_EXHAUSTED: Out of memory while trying to allocate 721159424 bytes.\n"
     ]
    },
    {
     "name": "stdout",
     "output_type": "stream",
     "text": [
      "error                     XlaRuntimeError('RESOURCE_EXHAUSTED: Out of memory while trying to allocate 721159424 bytes.')\n",
      "\n",
      "========== TRIAL 310 ==========\n",
      "Nin_virtual               16\n",
      "Nhidden                   40\n",
      "Nlayer                    2\n",
      "K                         150\n",
      "p_flip                    0.02\n",
      "Nt                        8\n"
     ]
    },
    {
     "name": "stderr",
     "output_type": "stream",
     "text": [
      "2024-08-28 23:23:29.289405: W external/xla/xla/tsl/framework/bfc_allocator.cc:291] Allocator (GPU_0_bfc) ran out of memory trying to allocate 357.80MiB with freed_by_count=0. The caller indicates that this is not a failure, but this may mean that there could be performance gains if more memory were available.\n"
     ]
    },
    {
     "name": "stdout",
     "output_type": "stream",
     "text": [
      "error                     XlaRuntimeError('RESOURCE_EXHAUSTED: Out of memory while trying to allocate 375177216 bytes.')\n",
      "\n",
      "========== TRIAL 311 ==========\n",
      "Nin_virtual               16\n",
      "Nhidden                   40\n",
      "Nlayer                    2\n",
      "K                         150\n",
      "p_flip                    0.02\n",
      "Nt                        12\n"
     ]
    },
    {
     "name": "stderr",
     "output_type": "stream",
     "text": [
      "2024-08-28 23:23:45.108751: W external/xla/xla/tsl/framework/bfc_allocator.cc:482] Allocator (GPU_0_bfc) ran out of memory trying to allocate 516.85MiB (rounded to 541959424)requested by op \n",
      "2024-08-28 23:23:45.109882: W external/xla/xla/tsl/framework/bfc_allocator.cc:494] ***********************************************************************_____________________________\n",
      "E0828 23:23:45.109910  308455 pjrt_stream_executor_client.cc:3067] Execution of replica 0 failed: RESOURCE_EXHAUSTED: Out of memory while trying to allocate 541959424 bytes.\n"
     ]
    },
    {
     "name": "stdout",
     "output_type": "stream",
     "text": [
      "error                     XlaRuntimeError('RESOURCE_EXHAUSTED: Out of memory while trying to allocate 541959424 bytes.')\n",
      "\n",
      "========== TRIAL 312 ==========\n",
      "Nin_virtual               16\n",
      "Nhidden                   40\n",
      "Nlayer                    2\n",
      "K                         150\n",
      "p_flip                    0.02\n",
      "Nt                        16\n"
     ]
    },
    {
     "name": "stderr",
     "output_type": "stream",
     "text": [
      "2024-08-28 23:24:01.079670: W external/xla/xla/tsl/framework/bfc_allocator.cc:482] Allocator (GPU_0_bfc) ran out of memory trying to allocate 687.75MiB (rounded to 721159424)requested by op \n",
      "2024-08-28 23:24:01.080976: W external/xla/xla/tsl/framework/bfc_allocator.cc:494] ************************************************************************____________________________\n",
      "E0828 23:24:01.081012  308455 pjrt_stream_executor_client.cc:3067] Execution of replica 0 failed: RESOURCE_EXHAUSTED: Out of memory while trying to allocate 721159424 bytes.\n"
     ]
    },
    {
     "name": "stdout",
     "output_type": "stream",
     "text": [
      "error                     XlaRuntimeError('RESOURCE_EXHAUSTED: Out of memory while trying to allocate 721159424 bytes.')\n",
      "\n",
      "========== TRIAL 313 ==========\n",
      "Nin_virtual               16\n",
      "Nhidden                   40\n",
      "Nlayer                    2\n",
      "K                         150\n",
      "p_flip                    0.04\n",
      "Nt                        8\n"
     ]
    },
    {
     "name": "stderr",
     "output_type": "stream",
     "text": [
      "2024-08-28 23:24:09.260181: W external/xla/xla/tsl/framework/bfc_allocator.cc:291] Allocator (GPU_0_bfc) ran out of memory trying to allocate 357.80MiB with freed_by_count=0. The caller indicates that this is not a failure, but this may mean that there could be performance gains if more memory were available.\n"
     ]
    },
    {
     "name": "stdout",
     "output_type": "stream",
     "text": [
      "error                     XlaRuntimeError('RESOURCE_EXHAUSTED: Out of memory while trying to allocate 375177216 bytes.')\n",
      "\n",
      "========== TRIAL 314 ==========\n",
      "Nin_virtual               16\n",
      "Nhidden                   40\n",
      "Nlayer                    2\n",
      "K                         150\n",
      "p_flip                    0.04\n",
      "Nt                        12\n"
     ]
    },
    {
     "name": "stderr",
     "output_type": "stream",
     "text": [
      "2024-08-28 23:24:25.076695: W external/xla/xla/tsl/framework/bfc_allocator.cc:482] Allocator (GPU_0_bfc) ran out of memory trying to allocate 516.85MiB (rounded to 541959424)requested by op \n",
      "2024-08-28 23:24:25.077944: W external/xla/xla/tsl/framework/bfc_allocator.cc:494] ***********************************************************************_____________________________\n",
      "E0828 23:24:25.077970  308455 pjrt_stream_executor_client.cc:3067] Execution of replica 0 failed: RESOURCE_EXHAUSTED: Out of memory while trying to allocate 541959424 bytes.\n"
     ]
    },
    {
     "name": "stdout",
     "output_type": "stream",
     "text": [
      "error                     XlaRuntimeError('RESOURCE_EXHAUSTED: Out of memory while trying to allocate 541959424 bytes.')\n",
      "\n",
      "========== TRIAL 315 ==========\n",
      "Nin_virtual               16\n",
      "Nhidden                   40\n",
      "Nlayer                    2\n",
      "K                         150\n",
      "p_flip                    0.04\n",
      "Nt                        16\n"
     ]
    },
    {
     "name": "stderr",
     "output_type": "stream",
     "text": [
      "2024-08-28 23:24:41.100910: W external/xla/xla/tsl/framework/bfc_allocator.cc:482] Allocator (GPU_0_bfc) ran out of memory trying to allocate 687.75MiB (rounded to 721159424)requested by op \n",
      "2024-08-28 23:24:41.102266: W external/xla/xla/tsl/framework/bfc_allocator.cc:494] ************************************************************************____________________________\n",
      "E0828 23:24:41.102294  308455 pjrt_stream_executor_client.cc:3067] Execution of replica 0 failed: RESOURCE_EXHAUSTED: Out of memory while trying to allocate 721159424 bytes.\n"
     ]
    },
    {
     "name": "stdout",
     "output_type": "stream",
     "text": [
      "error                     XlaRuntimeError('RESOURCE_EXHAUSTED: Out of memory while trying to allocate 721159424 bytes.')\n",
      "\n",
      "========== TRIAL 316 ==========\n",
      "Nin_virtual               16\n",
      "Nhidden                   40\n",
      "Nlayer                    2\n",
      "K                         200\n",
      "p_flip                    0.0\n",
      "Nt                        8\n"
     ]
    },
    {
     "name": "stderr",
     "output_type": "stream",
     "text": [
      "2024-08-28 23:24:45.905572: W external/xla/xla/tsl/framework/bfc_allocator.cc:291] Allocator (GPU_0_bfc) ran out of memory trying to allocate 357.80MiB with freed_by_count=0. The caller indicates that this is not a failure, but this may mean that there could be performance gains if more memory were available.\n"
     ]
    },
    {
     "name": "stdout",
     "output_type": "stream",
     "text": [
      "error                     XlaRuntimeError('RESOURCE_EXHAUSTED: Out of memory while trying to allocate 375177216 bytes.')\n",
      "\n",
      "========== TRIAL 317 ==========\n",
      "Nin_virtual               16\n",
      "Nhidden                   40\n",
      "Nlayer                    2\n",
      "K                         200\n",
      "p_flip                    0.0\n",
      "Nt                        12\n"
     ]
    },
    {
     "name": "stderr",
     "output_type": "stream",
     "text": [
      "2024-08-28 23:25:02.141434: W external/xla/xla/tsl/framework/bfc_allocator.cc:482] Allocator (GPU_0_bfc) ran out of memory trying to allocate 516.85MiB (rounded to 541959424)requested by op \n",
      "2024-08-28 23:25:02.142727: W external/xla/xla/tsl/framework/bfc_allocator.cc:494] ***********************************************************************_____________________________\n",
      "E0828 23:25:02.142753  308455 pjrt_stream_executor_client.cc:3067] Execution of replica 0 failed: RESOURCE_EXHAUSTED: Out of memory while trying to allocate 541959424 bytes.\n"
     ]
    },
    {
     "name": "stdout",
     "output_type": "stream",
     "text": [
      "error                     XlaRuntimeError('RESOURCE_EXHAUSTED: Out of memory while trying to allocate 541959424 bytes.')\n",
      "\n",
      "========== TRIAL 318 ==========\n",
      "Nin_virtual               16\n",
      "Nhidden                   40\n",
      "Nlayer                    2\n",
      "K                         200\n",
      "p_flip                    0.0\n",
      "Nt                        16\n"
     ]
    },
    {
     "name": "stderr",
     "output_type": "stream",
     "text": [
      "2024-08-28 23:25:18.527709: W external/xla/xla/tsl/framework/bfc_allocator.cc:482] Allocator (GPU_0_bfc) ran out of memory trying to allocate 687.75MiB (rounded to 721159424)requested by op \n",
      "2024-08-28 23:25:18.529002: W external/xla/xla/tsl/framework/bfc_allocator.cc:494] ************************************************************************____________________________\n",
      "E0828 23:25:18.529029  308455 pjrt_stream_executor_client.cc:3067] Execution of replica 0 failed: RESOURCE_EXHAUSTED: Out of memory while trying to allocate 721159424 bytes.\n"
     ]
    },
    {
     "name": "stdout",
     "output_type": "stream",
     "text": [
      "error                     XlaRuntimeError('RESOURCE_EXHAUSTED: Out of memory while trying to allocate 721159424 bytes.')\n",
      "\n",
      "========== TRIAL 319 ==========\n",
      "Nin_virtual               16\n",
      "Nhidden                   40\n",
      "Nlayer                    2\n",
      "K                         200\n",
      "p_flip                    0.02\n",
      "Nt                        8\n",
      "error                     XlaRuntimeError('RESOURCE_EXHAUSTED: Out of memory while trying to allocate 375177216 bytes.')\n",
      "\n",
      "========== TRIAL 320 ==========\n",
      "Nin_virtual               16\n",
      "Nhidden                   40\n",
      "Nlayer                    2\n",
      "K                         200\n",
      "p_flip                    0.02\n",
      "Nt                        12\n"
     ]
    },
    {
     "name": "stderr",
     "output_type": "stream",
     "text": [
      "2024-08-28 23:25:39.174189: W external/xla/xla/tsl/framework/bfc_allocator.cc:482] Allocator (GPU_0_bfc) ran out of memory trying to allocate 516.85MiB (rounded to 541959424)requested by op \n",
      "2024-08-28 23:25:39.175448: W external/xla/xla/tsl/framework/bfc_allocator.cc:494] ***********************************************************************_____________________________\n",
      "E0828 23:25:39.175473  308455 pjrt_stream_executor_client.cc:3067] Execution of replica 0 failed: RESOURCE_EXHAUSTED: Out of memory while trying to allocate 541959424 bytes.\n"
     ]
    },
    {
     "name": "stdout",
     "output_type": "stream",
     "text": [
      "error                     XlaRuntimeError('RESOURCE_EXHAUSTED: Out of memory while trying to allocate 541959424 bytes.')\n",
      "\n",
      "========== TRIAL 321 ==========\n",
      "Nin_virtual               16\n",
      "Nhidden                   40\n",
      "Nlayer                    2\n",
      "K                         200\n",
      "p_flip                    0.02\n",
      "Nt                        16\n"
     ]
    },
    {
     "name": "stderr",
     "output_type": "stream",
     "text": [
      "2024-08-28 23:25:55.142364: W external/xla/xla/tsl/framework/bfc_allocator.cc:482] Allocator (GPU_0_bfc) ran out of memory trying to allocate 687.75MiB (rounded to 721159424)requested by op \n",
      "2024-08-28 23:25:55.143723: W external/xla/xla/tsl/framework/bfc_allocator.cc:494] ************************************************************************____________________________\n",
      "E0828 23:25:55.143751  308455 pjrt_stream_executor_client.cc:3067] Execution of replica 0 failed: RESOURCE_EXHAUSTED: Out of memory while trying to allocate 721159424 bytes.\n"
     ]
    },
    {
     "name": "stdout",
     "output_type": "stream",
     "text": [
      "error                     XlaRuntimeError('RESOURCE_EXHAUSTED: Out of memory while trying to allocate 721159424 bytes.')\n",
      "\n",
      "========== TRIAL 322 ==========\n",
      "Nin_virtual               16\n",
      "Nhidden                   40\n",
      "Nlayer                    2\n",
      "K                         200\n",
      "p_flip                    0.04\n",
      "Nt                        8\n",
      "error                     XlaRuntimeError('RESOURCE_EXHAUSTED: Out of memory while trying to allocate 375177216 bytes.')\n",
      "\n",
      "========== TRIAL 323 ==========\n",
      "Nin_virtual               16\n",
      "Nhidden                   40\n",
      "Nlayer                    2\n",
      "K                         200\n",
      "p_flip                    0.04\n",
      "Nt                        12\n"
     ]
    },
    {
     "name": "stderr",
     "output_type": "stream",
     "text": [
      "2024-08-28 23:26:15.843141: W external/xla/xla/tsl/framework/bfc_allocator.cc:482] Allocator (GPU_0_bfc) ran out of memory trying to allocate 516.85MiB (rounded to 541959424)requested by op \n",
      "2024-08-28 23:26:15.844201: W external/xla/xla/tsl/framework/bfc_allocator.cc:494] ***********************************************************************_____________________________\n",
      "E0828 23:26:15.844228  308455 pjrt_stream_executor_client.cc:3067] Execution of replica 0 failed: RESOURCE_EXHAUSTED: Out of memory while trying to allocate 541959424 bytes.\n"
     ]
    },
    {
     "name": "stdout",
     "output_type": "stream",
     "text": [
      "error                     XlaRuntimeError('RESOURCE_EXHAUSTED: Out of memory while trying to allocate 541959424 bytes.')\n",
      "\n",
      "========== TRIAL 324 ==========\n",
      "Nin_virtual               16\n",
      "Nhidden                   40\n",
      "Nlayer                    2\n",
      "K                         200\n",
      "p_flip                    0.04\n",
      "Nt                        16\n"
     ]
    },
    {
     "name": "stderr",
     "output_type": "stream",
     "text": [
      "2024-08-28 23:26:31.853444: W external/xla/xla/tsl/framework/bfc_allocator.cc:482] Allocator (GPU_0_bfc) ran out of memory trying to allocate 687.75MiB (rounded to 721159424)requested by op \n",
      "2024-08-28 23:26:31.854791: W external/xla/xla/tsl/framework/bfc_allocator.cc:494] ************************************************************************____________________________\n",
      "E0828 23:26:31.854819  308455 pjrt_stream_executor_client.cc:3067] Execution of replica 0 failed: RESOURCE_EXHAUSTED: Out of memory while trying to allocate 721159424 bytes.\n"
     ]
    },
    {
     "name": "stdout",
     "output_type": "stream",
     "text": [
      "error                     XlaRuntimeError('RESOURCE_EXHAUSTED: Out of memory while trying to allocate 721159424 bytes.')\n",
      "\n",
      "========== TRIAL 325 ==========\n",
      "Nin_virtual               16\n",
      "Nhidden                   40\n",
      "Nlayer                    3\n",
      "K                         50\n",
      "p_flip                    0.0\n",
      "Nt                        8\n",
      "error                     XlaRuntimeError('RESOURCE_EXHAUSTED: Out of memory while trying to allocate 375177216 bytes.')\n",
      "\n",
      "========== TRIAL 326 ==========\n",
      "Nin_virtual               16\n",
      "Nhidden                   40\n",
      "Nlayer                    3\n",
      "K                         50\n",
      "p_flip                    0.0\n",
      "Nt                        12\n"
     ]
    },
    {
     "name": "stderr",
     "output_type": "stream",
     "text": [
      "2024-08-28 23:26:52.974749: W external/xla/xla/tsl/framework/bfc_allocator.cc:482] Allocator (GPU_0_bfc) ran out of memory trying to allocate 516.85MiB (rounded to 541959680)requested by op \n",
      "2024-08-28 23:26:52.975883: W external/xla/xla/tsl/framework/bfc_allocator.cc:494] ***********************************************************************_____________________________\n",
      "E0828 23:26:52.975911  308455 pjrt_stream_executor_client.cc:3067] Execution of replica 0 failed: RESOURCE_EXHAUSTED: Out of memory while trying to allocate 541959680 bytes.\n"
     ]
    },
    {
     "name": "stdout",
     "output_type": "stream",
     "text": [
      "error                     XlaRuntimeError('RESOURCE_EXHAUSTED: Out of memory while trying to allocate 541959680 bytes.')\n",
      "\n",
      "========== TRIAL 327 ==========\n",
      "Nin_virtual               16\n",
      "Nhidden                   40\n",
      "Nlayer                    3\n",
      "K                         50\n",
      "p_flip                    0.0\n",
      "Nt                        16\n"
     ]
    },
    {
     "name": "stderr",
     "output_type": "stream",
     "text": [
      "2024-08-28 23:27:09.387825: W external/xla/xla/tsl/framework/bfc_allocator.cc:482] Allocator (GPU_0_bfc) ran out of memory trying to allocate 687.75MiB (rounded to 721159680)requested by op \n",
      "2024-08-28 23:27:09.389340: W external/xla/xla/tsl/framework/bfc_allocator.cc:494] ************************************************************************____________________________\n",
      "E0828 23:27:09.389375  308455 pjrt_stream_executor_client.cc:3067] Execution of replica 0 failed: RESOURCE_EXHAUSTED: Out of memory while trying to allocate 721159680 bytes.\n"
     ]
    },
    {
     "name": "stdout",
     "output_type": "stream",
     "text": [
      "error                     XlaRuntimeError('RESOURCE_EXHAUSTED: Out of memory while trying to allocate 721159680 bytes.')\n",
      "\n",
      "========== TRIAL 328 ==========\n",
      "Nin_virtual               16\n",
      "Nhidden                   40\n",
      "Nlayer                    3\n",
      "K                         50\n",
      "p_flip                    0.02\n",
      "Nt                        8\n",
      "error                     XlaRuntimeError('RESOURCE_EXHAUSTED: Out of memory while trying to allocate 375177216 bytes.')\n",
      "\n",
      "========== TRIAL 329 ==========\n",
      "Nin_virtual               16\n",
      "Nhidden                   40\n",
      "Nlayer                    3\n",
      "K                         50\n",
      "p_flip                    0.02\n",
      "Nt                        12\n"
     ]
    },
    {
     "name": "stderr",
     "output_type": "stream",
     "text": [
      "2024-08-28 23:27:30.081723: W external/xla/xla/tsl/framework/bfc_allocator.cc:482] Allocator (GPU_0_bfc) ran out of memory trying to allocate 516.85MiB (rounded to 541959680)requested by op \n",
      "2024-08-28 23:27:30.082829: W external/xla/xla/tsl/framework/bfc_allocator.cc:494] ***********************************************************************_____________________________\n",
      "E0828 23:27:30.082856  308455 pjrt_stream_executor_client.cc:3067] Execution of replica 0 failed: RESOURCE_EXHAUSTED: Out of memory while trying to allocate 541959680 bytes.\n"
     ]
    },
    {
     "name": "stdout",
     "output_type": "stream",
     "text": [
      "error                     XlaRuntimeError('RESOURCE_EXHAUSTED: Out of memory while trying to allocate 541959680 bytes.')\n",
      "\n",
      "========== TRIAL 330 ==========\n",
      "Nin_virtual               16\n",
      "Nhidden                   40\n",
      "Nlayer                    3\n",
      "K                         50\n",
      "p_flip                    0.02\n",
      "Nt                        16\n"
     ]
    },
    {
     "name": "stderr",
     "output_type": "stream",
     "text": [
      "2024-08-28 23:27:46.121944: W external/xla/xla/tsl/framework/bfc_allocator.cc:482] Allocator (GPU_0_bfc) ran out of memory trying to allocate 687.75MiB (rounded to 721159680)requested by op \n",
      "2024-08-28 23:27:46.123425: W external/xla/xla/tsl/framework/bfc_allocator.cc:494] ************************************************************************____________________________\n",
      "E0828 23:27:46.123455  308455 pjrt_stream_executor_client.cc:3067] Execution of replica 0 failed: RESOURCE_EXHAUSTED: Out of memory while trying to allocate 721159680 bytes.\n"
     ]
    },
    {
     "name": "stdout",
     "output_type": "stream",
     "text": [
      "error                     XlaRuntimeError('RESOURCE_EXHAUSTED: Out of memory while trying to allocate 721159680 bytes.')\n",
      "\n",
      "========== TRIAL 331 ==========\n",
      "Nin_virtual               16\n",
      "Nhidden                   40\n",
      "Nlayer                    3\n",
      "K                         50\n",
      "p_flip                    0.04\n",
      "Nt                        8\n",
      "error                     XlaRuntimeError('RESOURCE_EXHAUSTED: Out of memory while trying to allocate 375177216 bytes.')\n",
      "\n",
      "========== TRIAL 332 ==========\n",
      "Nin_virtual               16\n",
      "Nhidden                   40\n",
      "Nlayer                    3\n",
      "K                         50\n",
      "p_flip                    0.04\n",
      "Nt                        12\n"
     ]
    },
    {
     "name": "stderr",
     "output_type": "stream",
     "text": [
      "2024-08-28 23:28:06.732405: W external/xla/xla/tsl/framework/bfc_allocator.cc:482] Allocator (GPU_0_bfc) ran out of memory trying to allocate 516.85MiB (rounded to 541959680)requested by op \n",
      "2024-08-28 23:28:06.733548: W external/xla/xla/tsl/framework/bfc_allocator.cc:494] ***********************************************************************_____________________________\n",
      "E0828 23:28:06.733575  308455 pjrt_stream_executor_client.cc:3067] Execution of replica 0 failed: RESOURCE_EXHAUSTED: Out of memory while trying to allocate 541959680 bytes.\n"
     ]
    },
    {
     "name": "stdout",
     "output_type": "stream",
     "text": [
      "error                     XlaRuntimeError('RESOURCE_EXHAUSTED: Out of memory while trying to allocate 541959680 bytes.')\n",
      "\n",
      "========== TRIAL 333 ==========\n",
      "Nin_virtual               16\n",
      "Nhidden                   40\n",
      "Nlayer                    3\n",
      "K                         50\n",
      "p_flip                    0.04\n",
      "Nt                        16\n"
     ]
    },
    {
     "name": "stderr",
     "output_type": "stream",
     "text": [
      "2024-08-28 23:28:22.739796: W external/xla/xla/tsl/framework/bfc_allocator.cc:482] Allocator (GPU_0_bfc) ran out of memory trying to allocate 687.75MiB (rounded to 721159680)requested by op \n",
      "2024-08-28 23:28:22.740883: W external/xla/xla/tsl/framework/bfc_allocator.cc:494] ************************************************************************____________________________\n",
      "E0828 23:28:22.740910  308455 pjrt_stream_executor_client.cc:3067] Execution of replica 0 failed: RESOURCE_EXHAUSTED: Out of memory while trying to allocate 721159680 bytes.\n"
     ]
    },
    {
     "name": "stdout",
     "output_type": "stream",
     "text": [
      "error                     XlaRuntimeError('RESOURCE_EXHAUSTED: Out of memory while trying to allocate 721159680 bytes.')\n",
      "\n",
      "========== TRIAL 334 ==========\n",
      "Nin_virtual               16\n",
      "Nhidden                   40\n",
      "Nlayer                    3\n",
      "K                         100\n",
      "p_flip                    0.0\n",
      "Nt                        8\n",
      "error                     XlaRuntimeError('RESOURCE_EXHAUSTED: Out of memory while trying to allocate 375177216 bytes.')\n",
      "\n",
      "========== TRIAL 335 ==========\n",
      "Nin_virtual               16\n",
      "Nhidden                   40\n",
      "Nlayer                    3\n",
      "K                         100\n",
      "p_flip                    0.0\n",
      "Nt                        12\n"
     ]
    },
    {
     "name": "stderr",
     "output_type": "stream",
     "text": [
      "2024-08-28 23:28:43.904817: W external/xla/xla/tsl/framework/bfc_allocator.cc:482] Allocator (GPU_0_bfc) ran out of memory trying to allocate 516.85MiB (rounded to 541959680)requested by op \n",
      "2024-08-28 23:28:43.906248: W external/xla/xla/tsl/framework/bfc_allocator.cc:494] ***********************************************************************_____________________________\n",
      "E0828 23:28:43.906275  308455 pjrt_stream_executor_client.cc:3067] Execution of replica 0 failed: RESOURCE_EXHAUSTED: Out of memory while trying to allocate 541959680 bytes.\n"
     ]
    },
    {
     "name": "stdout",
     "output_type": "stream",
     "text": [
      "error                     XlaRuntimeError('RESOURCE_EXHAUSTED: Out of memory while trying to allocate 541959680 bytes.')\n",
      "\n",
      "========== TRIAL 336 ==========\n",
      "Nin_virtual               16\n",
      "Nhidden                   40\n",
      "Nlayer                    3\n",
      "K                         100\n",
      "p_flip                    0.0\n",
      "Nt                        16\n"
     ]
    },
    {
     "name": "stderr",
     "output_type": "stream",
     "text": [
      "2024-08-28 23:29:00.339220: W external/xla/xla/tsl/framework/bfc_allocator.cc:482] Allocator (GPU_0_bfc) ran out of memory trying to allocate 687.75MiB (rounded to 721159680)requested by op \n",
      "2024-08-28 23:29:00.340565: W external/xla/xla/tsl/framework/bfc_allocator.cc:494] ************************************************************************____________________________\n",
      "E0828 23:29:00.340594  308455 pjrt_stream_executor_client.cc:3067] Execution of replica 0 failed: RESOURCE_EXHAUSTED: Out of memory while trying to allocate 721159680 bytes.\n"
     ]
    },
    {
     "name": "stdout",
     "output_type": "stream",
     "text": [
      "error                     XlaRuntimeError('RESOURCE_EXHAUSTED: Out of memory while trying to allocate 721159680 bytes.')\n",
      "\n",
      "========== TRIAL 337 ==========\n",
      "Nin_virtual               16\n",
      "Nhidden                   40\n",
      "Nlayer                    3\n",
      "K                         100\n",
      "p_flip                    0.02\n",
      "Nt                        8\n",
      "error                     XlaRuntimeError('RESOURCE_EXHAUSTED: Out of memory while trying to allocate 375177216 bytes.')\n",
      "\n",
      "========== TRIAL 338 ==========\n",
      "Nin_virtual               16\n",
      "Nhidden                   40\n",
      "Nlayer                    3\n",
      "K                         100\n",
      "p_flip                    0.02\n",
      "Nt                        12\n"
     ]
    },
    {
     "name": "stderr",
     "output_type": "stream",
     "text": [
      "2024-08-28 23:29:21.039330: W external/xla/xla/tsl/framework/bfc_allocator.cc:482] Allocator (GPU_0_bfc) ran out of memory trying to allocate 516.85MiB (rounded to 541959680)requested by op \n",
      "2024-08-28 23:29:21.040509: W external/xla/xla/tsl/framework/bfc_allocator.cc:494] ***********************************************************************_____________________________\n",
      "E0828 23:29:21.040537  308455 pjrt_stream_executor_client.cc:3067] Execution of replica 0 failed: RESOURCE_EXHAUSTED: Out of memory while trying to allocate 541959680 bytes.\n"
     ]
    },
    {
     "name": "stdout",
     "output_type": "stream",
     "text": [
      "error                     XlaRuntimeError('RESOURCE_EXHAUSTED: Out of memory while trying to allocate 541959680 bytes.')\n",
      "\n",
      "========== TRIAL 339 ==========\n",
      "Nin_virtual               16\n",
      "Nhidden                   40\n",
      "Nlayer                    3\n",
      "K                         100\n",
      "p_flip                    0.02\n",
      "Nt                        16\n"
     ]
    },
    {
     "name": "stderr",
     "output_type": "stream",
     "text": [
      "2024-08-28 23:29:37.114769: W external/xla/xla/tsl/framework/bfc_allocator.cc:482] Allocator (GPU_0_bfc) ran out of memory trying to allocate 687.75MiB (rounded to 721159680)requested by op \n",
      "2024-08-28 23:29:37.116311: W external/xla/xla/tsl/framework/bfc_allocator.cc:494] ************************************************************************____________________________\n",
      "E0828 23:29:37.116341  308455 pjrt_stream_executor_client.cc:3067] Execution of replica 0 failed: RESOURCE_EXHAUSTED: Out of memory while trying to allocate 721159680 bytes.\n"
     ]
    },
    {
     "name": "stdout",
     "output_type": "stream",
     "text": [
      "error                     XlaRuntimeError('RESOURCE_EXHAUSTED: Out of memory while trying to allocate 721159680 bytes.')\n",
      "\n",
      "========== TRIAL 340 ==========\n",
      "Nin_virtual               16\n",
      "Nhidden                   40\n",
      "Nlayer                    3\n",
      "K                         100\n",
      "p_flip                    0.04\n",
      "Nt                        8\n",
      "error                     XlaRuntimeError('RESOURCE_EXHAUSTED: Out of memory while trying to allocate 375177216 bytes.')\n",
      "\n",
      "========== TRIAL 341 ==========\n",
      "Nin_virtual               16\n",
      "Nhidden                   40\n",
      "Nlayer                    3\n",
      "K                         100\n",
      "p_flip                    0.04\n",
      "Nt                        12\n"
     ]
    },
    {
     "name": "stderr",
     "output_type": "stream",
     "text": [
      "2024-08-28 23:29:57.873588: W external/xla/xla/tsl/framework/bfc_allocator.cc:482] Allocator (GPU_0_bfc) ran out of memory trying to allocate 516.85MiB (rounded to 541959680)requested by op \n",
      "2024-08-28 23:29:57.874797: W external/xla/xla/tsl/framework/bfc_allocator.cc:494] ***********************************************************************_____________________________\n",
      "E0828 23:29:57.874827  308455 pjrt_stream_executor_client.cc:3067] Execution of replica 0 failed: RESOURCE_EXHAUSTED: Out of memory while trying to allocate 541959680 bytes.\n"
     ]
    },
    {
     "name": "stdout",
     "output_type": "stream",
     "text": [
      "error                     XlaRuntimeError('RESOURCE_EXHAUSTED: Out of memory while trying to allocate 541959680 bytes.')\n",
      "\n",
      "========== TRIAL 342 ==========\n",
      "Nin_virtual               16\n",
      "Nhidden                   40\n",
      "Nlayer                    3\n",
      "K                         100\n",
      "p_flip                    0.04\n",
      "Nt                        16\n"
     ]
    },
    {
     "name": "stderr",
     "output_type": "stream",
     "text": [
      "2024-08-28 23:30:13.996601: W external/xla/xla/tsl/framework/bfc_allocator.cc:482] Allocator (GPU_0_bfc) ran out of memory trying to allocate 687.75MiB (rounded to 721159680)requested by op \n",
      "2024-08-28 23:30:13.998068: W external/xla/xla/tsl/framework/bfc_allocator.cc:494] ************************************************************************____________________________\n",
      "E0828 23:30:13.998096  308455 pjrt_stream_executor_client.cc:3067] Execution of replica 0 failed: RESOURCE_EXHAUSTED: Out of memory while trying to allocate 721159680 bytes.\n"
     ]
    },
    {
     "name": "stdout",
     "output_type": "stream",
     "text": [
      "error                     XlaRuntimeError('RESOURCE_EXHAUSTED: Out of memory while trying to allocate 721159680 bytes.')\n",
      "\n",
      "========== TRIAL 343 ==========\n",
      "Nin_virtual               16\n",
      "Nhidden                   40\n",
      "Nlayer                    3\n",
      "K                         150\n",
      "p_flip                    0.0\n",
      "Nt                        8\n",
      "error                     XlaRuntimeError('RESOURCE_EXHAUSTED: Out of memory while trying to allocate 375177216 bytes.')\n",
      "\n",
      "========== TRIAL 344 ==========\n",
      "Nin_virtual               16\n",
      "Nhidden                   40\n",
      "Nlayer                    3\n",
      "K                         150\n",
      "p_flip                    0.0\n",
      "Nt                        12\n"
     ]
    },
    {
     "name": "stderr",
     "output_type": "stream",
     "text": [
      "2024-08-28 23:30:35.149941: W external/xla/xla/tsl/framework/bfc_allocator.cc:482] Allocator (GPU_0_bfc) ran out of memory trying to allocate 516.85MiB (rounded to 541959680)requested by op \n",
      "2024-08-28 23:30:35.151120: W external/xla/xla/tsl/framework/bfc_allocator.cc:494] ***********************************************************************_____________________________\n",
      "E0828 23:30:35.151147  308455 pjrt_stream_executor_client.cc:3067] Execution of replica 0 failed: RESOURCE_EXHAUSTED: Out of memory while trying to allocate 541959680 bytes.\n"
     ]
    },
    {
     "name": "stdout",
     "output_type": "stream",
     "text": [
      "error                     XlaRuntimeError('RESOURCE_EXHAUSTED: Out of memory while trying to allocate 541959680 bytes.')\n",
      "\n",
      "========== TRIAL 345 ==========\n",
      "Nin_virtual               16\n",
      "Nhidden                   40\n",
      "Nlayer                    3\n",
      "K                         150\n",
      "p_flip                    0.0\n",
      "Nt                        16\n"
     ]
    },
    {
     "name": "stderr",
     "output_type": "stream",
     "text": [
      "2024-08-28 23:30:51.572916: W external/xla/xla/tsl/framework/bfc_allocator.cc:482] Allocator (GPU_0_bfc) ran out of memory trying to allocate 687.75MiB (rounded to 721159680)requested by op \n",
      "2024-08-28 23:30:51.574504: W external/xla/xla/tsl/framework/bfc_allocator.cc:494] ************************************************************************____________________________\n",
      "E0828 23:30:51.574538  308455 pjrt_stream_executor_client.cc:3067] Execution of replica 0 failed: RESOURCE_EXHAUSTED: Out of memory while trying to allocate 721159680 bytes.\n"
     ]
    },
    {
     "name": "stdout",
     "output_type": "stream",
     "text": [
      "error                     XlaRuntimeError('RESOURCE_EXHAUSTED: Out of memory while trying to allocate 721159680 bytes.')\n",
      "\n",
      "========== TRIAL 346 ==========\n",
      "Nin_virtual               16\n",
      "Nhidden                   40\n",
      "Nlayer                    3\n",
      "K                         150\n",
      "p_flip                    0.02\n",
      "Nt                        8\n",
      "error                     XlaRuntimeError('RESOURCE_EXHAUSTED: Out of memory while trying to allocate 375177216 bytes.')\n",
      "\n",
      "========== TRIAL 347 ==========\n",
      "Nin_virtual               16\n",
      "Nhidden                   40\n",
      "Nlayer                    3\n",
      "K                         150\n",
      "p_flip                    0.02\n",
      "Nt                        12\n"
     ]
    },
    {
     "name": "stderr",
     "output_type": "stream",
     "text": [
      "2024-08-28 23:31:12.415223: W external/xla/xla/tsl/framework/bfc_allocator.cc:482] Allocator (GPU_0_bfc) ran out of memory trying to allocate 516.85MiB (rounded to 541959680)requested by op \n",
      "2024-08-28 23:31:12.416384: W external/xla/xla/tsl/framework/bfc_allocator.cc:494] ***********************************************************************_____________________________\n",
      "E0828 23:31:12.416417  308455 pjrt_stream_executor_client.cc:3067] Execution of replica 0 failed: RESOURCE_EXHAUSTED: Out of memory while trying to allocate 541959680 bytes.\n"
     ]
    },
    {
     "name": "stdout",
     "output_type": "stream",
     "text": [
      "error                     XlaRuntimeError('RESOURCE_EXHAUSTED: Out of memory while trying to allocate 541959680 bytes.')\n",
      "\n",
      "========== TRIAL 348 ==========\n",
      "Nin_virtual               16\n",
      "Nhidden                   40\n",
      "Nlayer                    3\n",
      "K                         150\n",
      "p_flip                    0.02\n",
      "Nt                        16\n"
     ]
    },
    {
     "name": "stderr",
     "output_type": "stream",
     "text": [
      "2024-08-28 23:31:28.477509: W external/xla/xla/tsl/framework/bfc_allocator.cc:482] Allocator (GPU_0_bfc) ran out of memory trying to allocate 687.75MiB (rounded to 721159680)requested by op \n",
      "2024-08-28 23:31:28.479113: W external/xla/xla/tsl/framework/bfc_allocator.cc:494] ************************************************************************____________________________\n",
      "E0828 23:31:28.479148  308455 pjrt_stream_executor_client.cc:3067] Execution of replica 0 failed: RESOURCE_EXHAUSTED: Out of memory while trying to allocate 721159680 bytes.\n"
     ]
    },
    {
     "name": "stdout",
     "output_type": "stream",
     "text": [
      "error                     XlaRuntimeError('RESOURCE_EXHAUSTED: Out of memory while trying to allocate 721159680 bytes.')\n",
      "\n",
      "========== TRIAL 349 ==========\n",
      "Nin_virtual               16\n",
      "Nhidden                   40\n",
      "Nlayer                    3\n",
      "K                         150\n",
      "p_flip                    0.04\n",
      "Nt                        8\n",
      "error                     XlaRuntimeError('RESOURCE_EXHAUSTED: Out of memory while trying to allocate 375177216 bytes.')\n",
      "\n",
      "========== TRIAL 350 ==========\n",
      "Nin_virtual               16\n",
      "Nhidden                   40\n",
      "Nlayer                    3\n",
      "K                         150\n",
      "p_flip                    0.04\n",
      "Nt                        12\n"
     ]
    },
    {
     "name": "stderr",
     "output_type": "stream",
     "text": [
      "2024-08-28 23:31:49.261241: W external/xla/xla/tsl/framework/bfc_allocator.cc:482] Allocator (GPU_0_bfc) ran out of memory trying to allocate 516.85MiB (rounded to 541959680)requested by op \n",
      "2024-08-28 23:31:49.262534: W external/xla/xla/tsl/framework/bfc_allocator.cc:494] ***********************************************************************_____________________________\n",
      "E0828 23:31:49.262561  308455 pjrt_stream_executor_client.cc:3067] Execution of replica 0 failed: RESOURCE_EXHAUSTED: Out of memory while trying to allocate 541959680 bytes.\n"
     ]
    },
    {
     "name": "stdout",
     "output_type": "stream",
     "text": [
      "error                     XlaRuntimeError('RESOURCE_EXHAUSTED: Out of memory while trying to allocate 541959680 bytes.')\n",
      "\n",
      "========== TRIAL 351 ==========\n",
      "Nin_virtual               16\n",
      "Nhidden                   40\n",
      "Nlayer                    3\n",
      "K                         150\n",
      "p_flip                    0.04\n",
      "Nt                        16\n"
     ]
    },
    {
     "name": "stderr",
     "output_type": "stream",
     "text": [
      "2024-08-28 23:32:08.708646: W external/xla/xla/tsl/framework/bfc_allocator.cc:482] Allocator (GPU_0_bfc) ran out of memory trying to allocate 687.75MiB (rounded to 721159680)requested by op \n",
      "2024-08-28 23:32:08.710128: W external/xla/xla/tsl/framework/bfc_allocator.cc:494] ************************************************************************____________________________\n",
      "E0828 23:32:08.710157  308455 pjrt_stream_executor_client.cc:3067] Execution of replica 0 failed: RESOURCE_EXHAUSTED: Out of memory while trying to allocate 721159680 bytes.\n"
     ]
    },
    {
     "name": "stdout",
     "output_type": "stream",
     "text": [
      "error                     XlaRuntimeError('RESOURCE_EXHAUSTED: Out of memory while trying to allocate 721159680 bytes.')\n",
      "\n",
      "========== TRIAL 352 ==========\n",
      "Nin_virtual               16\n",
      "Nhidden                   40\n",
      "Nlayer                    3\n",
      "K                         200\n",
      "p_flip                    0.0\n",
      "Nt                        8\n",
      "error                     XlaRuntimeError('RESOURCE_EXHAUSTED: Out of memory while trying to allocate 375177216 bytes.')\n",
      "\n",
      "========== TRIAL 353 ==========\n",
      "Nin_virtual               16\n",
      "Nhidden                   40\n",
      "Nlayer                    3\n",
      "K                         200\n",
      "p_flip                    0.0\n",
      "Nt                        12\n"
     ]
    },
    {
     "name": "stderr",
     "output_type": "stream",
     "text": [
      "2024-08-28 23:32:29.869559: W external/xla/xla/tsl/framework/bfc_allocator.cc:482] Allocator (GPU_0_bfc) ran out of memory trying to allocate 516.85MiB (rounded to 541959680)requested by op \n",
      "2024-08-28 23:32:29.870955: W external/xla/xla/tsl/framework/bfc_allocator.cc:494] ***********************************************************************_____________________________\n",
      "E0828 23:32:29.870982  308455 pjrt_stream_executor_client.cc:3067] Execution of replica 0 failed: RESOURCE_EXHAUSTED: Out of memory while trying to allocate 541959680 bytes.\n"
     ]
    },
    {
     "name": "stdout",
     "output_type": "stream",
     "text": [
      "error                     XlaRuntimeError('RESOURCE_EXHAUSTED: Out of memory while trying to allocate 541959680 bytes.')\n",
      "\n",
      "========== TRIAL 354 ==========\n",
      "Nin_virtual               16\n",
      "Nhidden                   40\n",
      "Nlayer                    3\n",
      "K                         200\n",
      "p_flip                    0.0\n",
      "Nt                        16\n"
     ]
    },
    {
     "name": "stderr",
     "output_type": "stream",
     "text": [
      "2024-08-28 23:32:46.366644: W external/xla/xla/tsl/framework/bfc_allocator.cc:482] Allocator (GPU_0_bfc) ran out of memory trying to allocate 687.75MiB (rounded to 721159680)requested by op \n",
      "2024-08-28 23:32:46.368125: W external/xla/xla/tsl/framework/bfc_allocator.cc:494] ************************************************************************____________________________\n",
      "E0828 23:32:46.368152  308455 pjrt_stream_executor_client.cc:3067] Execution of replica 0 failed: RESOURCE_EXHAUSTED: Out of memory while trying to allocate 721159680 bytes.\n"
     ]
    },
    {
     "name": "stdout",
     "output_type": "stream",
     "text": [
      "error                     XlaRuntimeError('RESOURCE_EXHAUSTED: Out of memory while trying to allocate 721159680 bytes.')\n",
      "\n",
      "========== TRIAL 355 ==========\n",
      "Nin_virtual               16\n",
      "Nhidden                   40\n",
      "Nlayer                    3\n",
      "K                         200\n",
      "p_flip                    0.02\n",
      "Nt                        8\n",
      "error                     XlaRuntimeError('RESOURCE_EXHAUSTED: Out of memory while trying to allocate 375177216 bytes.')\n",
      "\n",
      "========== TRIAL 356 ==========\n",
      "Nin_virtual               16\n",
      "Nhidden                   40\n",
      "Nlayer                    3\n",
      "K                         200\n",
      "p_flip                    0.02\n",
      "Nt                        12\n"
     ]
    },
    {
     "name": "stderr",
     "output_type": "stream",
     "text": [
      "2024-08-28 23:33:07.059279: W external/xla/xla/tsl/framework/bfc_allocator.cc:482] Allocator (GPU_0_bfc) ran out of memory trying to allocate 516.85MiB (rounded to 541959680)requested by op \n",
      "2024-08-28 23:33:07.060435: W external/xla/xla/tsl/framework/bfc_allocator.cc:494] ***********************************************************************_____________________________\n",
      "E0828 23:33:07.060468  308455 pjrt_stream_executor_client.cc:3067] Execution of replica 0 failed: RESOURCE_EXHAUSTED: Out of memory while trying to allocate 541959680 bytes.\n"
     ]
    },
    {
     "name": "stdout",
     "output_type": "stream",
     "text": [
      "error                     XlaRuntimeError('RESOURCE_EXHAUSTED: Out of memory while trying to allocate 541959680 bytes.')\n",
      "\n",
      "========== TRIAL 357 ==========\n",
      "Nin_virtual               16\n",
      "Nhidden                   40\n",
      "Nlayer                    3\n",
      "K                         200\n",
      "p_flip                    0.02\n",
      "Nt                        16\n"
     ]
    },
    {
     "name": "stderr",
     "output_type": "stream",
     "text": [
      "2024-08-28 23:33:23.175823: W external/xla/xla/tsl/framework/bfc_allocator.cc:482] Allocator (GPU_0_bfc) ran out of memory trying to allocate 687.75MiB (rounded to 721159680)requested by op \n",
      "2024-08-28 23:33:23.177380: W external/xla/xla/tsl/framework/bfc_allocator.cc:494] ************************************************************************____________________________\n",
      "E0828 23:33:23.177420  308455 pjrt_stream_executor_client.cc:3067] Execution of replica 0 failed: RESOURCE_EXHAUSTED: Out of memory while trying to allocate 721159680 bytes.\n"
     ]
    },
    {
     "name": "stdout",
     "output_type": "stream",
     "text": [
      "error                     XlaRuntimeError('RESOURCE_EXHAUSTED: Out of memory while trying to allocate 721159680 bytes.')\n",
      "\n",
      "========== TRIAL 358 ==========\n",
      "Nin_virtual               16\n",
      "Nhidden                   40\n",
      "Nlayer                    3\n",
      "K                         200\n",
      "p_flip                    0.04\n",
      "Nt                        8\n",
      "error                     XlaRuntimeError('RESOURCE_EXHAUSTED: Out of memory while trying to allocate 375177216 bytes.')\n",
      "\n",
      "========== TRIAL 359 ==========\n",
      "Nin_virtual               16\n",
      "Nhidden                   40\n",
      "Nlayer                    3\n",
      "K                         200\n",
      "p_flip                    0.04\n",
      "Nt                        12\n"
     ]
    },
    {
     "name": "stderr",
     "output_type": "stream",
     "text": [
      "2024-08-28 23:33:43.991151: W external/xla/xla/tsl/framework/bfc_allocator.cc:482] Allocator (GPU_0_bfc) ran out of memory trying to allocate 516.85MiB (rounded to 541959680)requested by op \n",
      "2024-08-28 23:33:43.992478: W external/xla/xla/tsl/framework/bfc_allocator.cc:494] ***********************************************************************_____________________________\n",
      "E0828 23:33:43.992505  308455 pjrt_stream_executor_client.cc:3067] Execution of replica 0 failed: RESOURCE_EXHAUSTED: Out of memory while trying to allocate 541959680 bytes.\n"
     ]
    },
    {
     "name": "stdout",
     "output_type": "stream",
     "text": [
      "error                     XlaRuntimeError('RESOURCE_EXHAUSTED: Out of memory while trying to allocate 541959680 bytes.')\n",
      "\n",
      "========== TRIAL 360 ==========\n",
      "Nin_virtual               16\n",
      "Nhidden                   40\n",
      "Nlayer                    3\n",
      "K                         200\n",
      "p_flip                    0.04\n",
      "Nt                        16\n"
     ]
    },
    {
     "name": "stderr",
     "output_type": "stream",
     "text": [
      "2024-08-28 23:34:00.057835: W external/xla/xla/tsl/framework/bfc_allocator.cc:482] Allocator (GPU_0_bfc) ran out of memory trying to allocate 687.75MiB (rounded to 721159680)requested by op \n",
      "2024-08-28 23:34:00.059152: W external/xla/xla/tsl/framework/bfc_allocator.cc:494] ************************************************************************____________________________\n",
      "E0828 23:34:00.059179  308455 pjrt_stream_executor_client.cc:3067] Execution of replica 0 failed: RESOURCE_EXHAUSTED: Out of memory while trying to allocate 721159680 bytes.\n"
     ]
    },
    {
     "name": "stdout",
     "output_type": "stream",
     "text": [
      "error                     XlaRuntimeError('RESOURCE_EXHAUSTED: Out of memory while trying to allocate 721159680 bytes.')\n",
      "\n",
      "========== TRIAL 361 ==========\n",
      "Nin_virtual               16\n",
      "Nhidden                   60\n",
      "Nlayer                    2\n",
      "K                         50\n",
      "p_flip                    0.0\n",
      "Nt                        8\n",
      "error                     XlaRuntimeError('RESOURCE_EXHAUSTED: Out of memory while trying to allocate 375177216 bytes.')\n",
      "\n",
      "========== TRIAL 362 ==========\n",
      "Nin_virtual               16\n",
      "Nhidden                   60\n",
      "Nlayer                    2\n",
      "K                         50\n",
      "p_flip                    0.0\n",
      "Nt                        12\n"
     ]
    },
    {
     "name": "stderr",
     "output_type": "stream",
     "text": [
      "2024-08-28 23:34:21.155622: W external/xla/xla/tsl/framework/bfc_allocator.cc:482] Allocator (GPU_0_bfc) ran out of memory trying to allocate 516.93MiB (rounded to 542039552)requested by op \n",
      "2024-08-28 23:34:21.156853: W external/xla/xla/tsl/framework/bfc_allocator.cc:494] ***********************************************************************_____________________________\n",
      "E0828 23:34:21.156881  308455 pjrt_stream_executor_client.cc:3067] Execution of replica 0 failed: RESOURCE_EXHAUSTED: Out of memory while trying to allocate 542039424 bytes.\n"
     ]
    },
    {
     "name": "stdout",
     "output_type": "stream",
     "text": [
      "error                     XlaRuntimeError('RESOURCE_EXHAUSTED: Out of memory while trying to allocate 542039424 bytes.')\n",
      "\n",
      "========== TRIAL 363 ==========\n",
      "Nin_virtual               16\n",
      "Nhidden                   60\n",
      "Nlayer                    2\n",
      "K                         50\n",
      "p_flip                    0.0\n",
      "Nt                        16\n"
     ]
    },
    {
     "name": "stderr",
     "output_type": "stream",
     "text": [
      "2024-08-28 23:34:37.569484: W external/xla/xla/tsl/framework/bfc_allocator.cc:482] Allocator (GPU_0_bfc) ran out of memory trying to allocate 687.83MiB (rounded to 721239552)requested by op \n",
      "2024-08-28 23:34:37.570891: W external/xla/xla/tsl/framework/bfc_allocator.cc:494] ************************************************************************____________________________\n",
      "E0828 23:34:37.570921  308455 pjrt_stream_executor_client.cc:3067] Execution of replica 0 failed: RESOURCE_EXHAUSTED: Out of memory while trying to allocate 721239424 bytes.\n"
     ]
    },
    {
     "name": "stdout",
     "output_type": "stream",
     "text": [
      "error                     XlaRuntimeError('RESOURCE_EXHAUSTED: Out of memory while trying to allocate 721239424 bytes.')\n",
      "\n",
      "========== TRIAL 364 ==========\n",
      "Nin_virtual               16\n",
      "Nhidden                   60\n",
      "Nlayer                    2\n",
      "K                         50\n",
      "p_flip                    0.02\n",
      "Nt                        8\n",
      "error                     XlaRuntimeError('RESOURCE_EXHAUSTED: Out of memory while trying to allocate 375177216 bytes.')\n",
      "\n",
      "========== TRIAL 365 ==========\n",
      "Nin_virtual               16\n",
      "Nhidden                   60\n",
      "Nlayer                    2\n",
      "K                         50\n",
      "p_flip                    0.02\n",
      "Nt                        12\n"
     ]
    },
    {
     "name": "stderr",
     "output_type": "stream",
     "text": [
      "2024-08-28 23:34:58.289736: W external/xla/xla/tsl/framework/bfc_allocator.cc:482] Allocator (GPU_0_bfc) ran out of memory trying to allocate 516.93MiB (rounded to 542039552)requested by op \n",
      "2024-08-28 23:34:58.290910: W external/xla/xla/tsl/framework/bfc_allocator.cc:494] ***********************************************************************_____________________________\n",
      "E0828 23:34:58.290934  308455 pjrt_stream_executor_client.cc:3067] Execution of replica 0 failed: RESOURCE_EXHAUSTED: Out of memory while trying to allocate 542039424 bytes.\n"
     ]
    },
    {
     "name": "stdout",
     "output_type": "stream",
     "text": [
      "error                     XlaRuntimeError('RESOURCE_EXHAUSTED: Out of memory while trying to allocate 542039424 bytes.')\n",
      "\n",
      "========== TRIAL 366 ==========\n",
      "Nin_virtual               16\n",
      "Nhidden                   60\n",
      "Nlayer                    2\n",
      "K                         50\n",
      "p_flip                    0.02\n",
      "Nt                        16\n"
     ]
    },
    {
     "name": "stderr",
     "output_type": "stream",
     "text": [
      "2024-08-28 23:35:14.349727: W external/xla/xla/tsl/framework/bfc_allocator.cc:482] Allocator (GPU_0_bfc) ran out of memory trying to allocate 687.83MiB (rounded to 721239552)requested by op \n",
      "2024-08-28 23:35:14.351188: W external/xla/xla/tsl/framework/bfc_allocator.cc:494] ************************************************************************____________________________\n",
      "E0828 23:35:14.351221  308455 pjrt_stream_executor_client.cc:3067] Execution of replica 0 failed: RESOURCE_EXHAUSTED: Out of memory while trying to allocate 721239424 bytes.\n"
     ]
    },
    {
     "name": "stdout",
     "output_type": "stream",
     "text": [
      "error                     XlaRuntimeError('RESOURCE_EXHAUSTED: Out of memory while trying to allocate 721239424 bytes.')\n",
      "\n",
      "========== TRIAL 367 ==========\n",
      "Nin_virtual               16\n",
      "Nhidden                   60\n",
      "Nlayer                    2\n",
      "K                         50\n",
      "p_flip                    0.04\n",
      "Nt                        8\n",
      "error                     XlaRuntimeError('RESOURCE_EXHAUSTED: Out of memory while trying to allocate 375177216 bytes.')\n",
      "\n",
      "========== TRIAL 368 ==========\n",
      "Nin_virtual               16\n",
      "Nhidden                   60\n",
      "Nlayer                    2\n",
      "K                         50\n",
      "p_flip                    0.04\n",
      "Nt                        12\n"
     ]
    },
    {
     "name": "stderr",
     "output_type": "stream",
     "text": [
      "2024-08-28 23:35:35.136644: W external/xla/xla/tsl/framework/bfc_allocator.cc:482] Allocator (GPU_0_bfc) ran out of memory trying to allocate 516.93MiB (rounded to 542039552)requested by op \n",
      "2024-08-28 23:35:35.138053: W external/xla/xla/tsl/framework/bfc_allocator.cc:494] ***********************************************************************_____________________________\n",
      "E0828 23:35:35.138081  308455 pjrt_stream_executor_client.cc:3067] Execution of replica 0 failed: RESOURCE_EXHAUSTED: Out of memory while trying to allocate 542039424 bytes.\n"
     ]
    },
    {
     "name": "stdout",
     "output_type": "stream",
     "text": [
      "error                     XlaRuntimeError('RESOURCE_EXHAUSTED: Out of memory while trying to allocate 542039424 bytes.')\n",
      "\n",
      "========== TRIAL 369 ==========\n",
      "Nin_virtual               16\n",
      "Nhidden                   60\n",
      "Nlayer                    2\n",
      "K                         50\n",
      "p_flip                    0.04\n",
      "Nt                        16\n"
     ]
    },
    {
     "name": "stderr",
     "output_type": "stream",
     "text": [
      "2024-08-28 23:35:51.146488: W external/xla/xla/tsl/framework/bfc_allocator.cc:482] Allocator (GPU_0_bfc) ran out of memory trying to allocate 687.83MiB (rounded to 721239552)requested by op \n",
      "2024-08-28 23:35:51.148258: W external/xla/xla/tsl/framework/bfc_allocator.cc:494] ************************************************************************____________________________\n",
      "E0828 23:35:51.148292  308455 pjrt_stream_executor_client.cc:3067] Execution of replica 0 failed: RESOURCE_EXHAUSTED: Out of memory while trying to allocate 721239424 bytes.\n"
     ]
    },
    {
     "name": "stdout",
     "output_type": "stream",
     "text": [
      "error                     XlaRuntimeError('RESOURCE_EXHAUSTED: Out of memory while trying to allocate 721239424 bytes.')\n",
      "\n",
      "========== TRIAL 370 ==========\n",
      "Nin_virtual               16\n",
      "Nhidden                   60\n",
      "Nlayer                    2\n",
      "K                         100\n",
      "p_flip                    0.0\n",
      "Nt                        8\n",
      "error                     XlaRuntimeError('RESOURCE_EXHAUSTED: Out of memory while trying to allocate 375177216 bytes.')\n",
      "\n",
      "========== TRIAL 371 ==========\n",
      "Nin_virtual               16\n",
      "Nhidden                   60\n",
      "Nlayer                    2\n",
      "K                         100\n",
      "p_flip                    0.0\n",
      "Nt                        12\n"
     ]
    },
    {
     "name": "stderr",
     "output_type": "stream",
     "text": [
      "2024-08-28 23:36:12.300236: W external/xla/xla/tsl/framework/bfc_allocator.cc:482] Allocator (GPU_0_bfc) ran out of memory trying to allocate 516.93MiB (rounded to 542039552)requested by op \n",
      "2024-08-28 23:36:12.301673: W external/xla/xla/tsl/framework/bfc_allocator.cc:494] ***********************************************************************_____________________________\n",
      "E0828 23:36:12.301699  308455 pjrt_stream_executor_client.cc:3067] Execution of replica 0 failed: RESOURCE_EXHAUSTED: Out of memory while trying to allocate 542039424 bytes.\n"
     ]
    },
    {
     "name": "stdout",
     "output_type": "stream",
     "text": [
      "error                     XlaRuntimeError('RESOURCE_EXHAUSTED: Out of memory while trying to allocate 542039424 bytes.')\n",
      "\n",
      "========== TRIAL 372 ==========\n",
      "Nin_virtual               16\n",
      "Nhidden                   60\n",
      "Nlayer                    2\n",
      "K                         100\n",
      "p_flip                    0.0\n",
      "Nt                        16\n"
     ]
    },
    {
     "name": "stderr",
     "output_type": "stream",
     "text": [
      "2024-08-28 23:36:28.772340: W external/xla/xla/tsl/framework/bfc_allocator.cc:482] Allocator (GPU_0_bfc) ran out of memory trying to allocate 687.83MiB (rounded to 721239552)requested by op \n",
      "2024-08-28 23:36:28.773873: W external/xla/xla/tsl/framework/bfc_allocator.cc:494] ************************************************************************____________________________\n",
      "E0828 23:36:28.773901  308455 pjrt_stream_executor_client.cc:3067] Execution of replica 0 failed: RESOURCE_EXHAUSTED: Out of memory while trying to allocate 721239424 bytes.\n"
     ]
    },
    {
     "name": "stdout",
     "output_type": "stream",
     "text": [
      "error                     XlaRuntimeError('RESOURCE_EXHAUSTED: Out of memory while trying to allocate 721239424 bytes.')\n",
      "\n",
      "========== TRIAL 373 ==========\n",
      "Nin_virtual               16\n",
      "Nhidden                   60\n",
      "Nlayer                    2\n",
      "K                         100\n",
      "p_flip                    0.02\n",
      "Nt                        8\n",
      "error                     XlaRuntimeError('RESOURCE_EXHAUSTED: Out of memory while trying to allocate 375177216 bytes.')\n",
      "\n",
      "========== TRIAL 374 ==========\n",
      "Nin_virtual               16\n",
      "Nhidden                   60\n",
      "Nlayer                    2\n",
      "K                         100\n",
      "p_flip                    0.02\n",
      "Nt                        12\n"
     ]
    },
    {
     "name": "stderr",
     "output_type": "stream",
     "text": [
      "2024-08-28 23:36:49.482473: W external/xla/xla/tsl/framework/bfc_allocator.cc:482] Allocator (GPU_0_bfc) ran out of memory trying to allocate 516.93MiB (rounded to 542039552)requested by op \n",
      "2024-08-28 23:36:49.483838: W external/xla/xla/tsl/framework/bfc_allocator.cc:494] ***********************************************************************_____________________________\n",
      "E0828 23:36:49.483864  308455 pjrt_stream_executor_client.cc:3067] Execution of replica 0 failed: RESOURCE_EXHAUSTED: Out of memory while trying to allocate 542039424 bytes.\n"
     ]
    },
    {
     "name": "stdout",
     "output_type": "stream",
     "text": [
      "error                     XlaRuntimeError('RESOURCE_EXHAUSTED: Out of memory while trying to allocate 542039424 bytes.')\n",
      "\n",
      "========== TRIAL 375 ==========\n",
      "Nin_virtual               16\n",
      "Nhidden                   60\n",
      "Nlayer                    2\n",
      "K                         100\n",
      "p_flip                    0.02\n",
      "Nt                        16\n"
     ]
    },
    {
     "name": "stderr",
     "output_type": "stream",
     "text": [
      "2024-08-28 23:37:05.494953: W external/xla/xla/tsl/framework/bfc_allocator.cc:482] Allocator (GPU_0_bfc) ran out of memory trying to allocate 687.83MiB (rounded to 721239552)requested by op \n",
      "2024-08-28 23:37:05.496339: W external/xla/xla/tsl/framework/bfc_allocator.cc:494] ************************************************************************____________________________\n",
      "E0828 23:37:05.496367  308455 pjrt_stream_executor_client.cc:3067] Execution of replica 0 failed: RESOURCE_EXHAUSTED: Out of memory while trying to allocate 721239424 bytes.\n"
     ]
    },
    {
     "name": "stdout",
     "output_type": "stream",
     "text": [
      "error                     XlaRuntimeError('RESOURCE_EXHAUSTED: Out of memory while trying to allocate 721239424 bytes.')\n",
      "\n",
      "========== TRIAL 376 ==========\n",
      "Nin_virtual               16\n",
      "Nhidden                   60\n",
      "Nlayer                    2\n",
      "K                         100\n",
      "p_flip                    0.04\n",
      "Nt                        8\n",
      "error                     XlaRuntimeError('RESOURCE_EXHAUSTED: Out of memory while trying to allocate 375177216 bytes.')\n",
      "\n",
      "========== TRIAL 377 ==========\n",
      "Nin_virtual               16\n",
      "Nhidden                   60\n",
      "Nlayer                    2\n",
      "K                         100\n",
      "p_flip                    0.04\n",
      "Nt                        12\n"
     ]
    },
    {
     "name": "stderr",
     "output_type": "stream",
     "text": [
      "2024-08-28 23:37:26.316535: W external/xla/xla/tsl/framework/bfc_allocator.cc:482] Allocator (GPU_0_bfc) ran out of memory trying to allocate 516.93MiB (rounded to 542039552)requested by op \n",
      "2024-08-28 23:37:26.317749: W external/xla/xla/tsl/framework/bfc_allocator.cc:494] ***********************************************************************_____________________________\n",
      "E0828 23:37:26.317775  308455 pjrt_stream_executor_client.cc:3067] Execution of replica 0 failed: RESOURCE_EXHAUSTED: Out of memory while trying to allocate 542039424 bytes.\n"
     ]
    },
    {
     "name": "stdout",
     "output_type": "stream",
     "text": [
      "error                     XlaRuntimeError('RESOURCE_EXHAUSTED: Out of memory while trying to allocate 542039424 bytes.')\n",
      "\n",
      "========== TRIAL 378 ==========\n",
      "Nin_virtual               16\n",
      "Nhidden                   60\n",
      "Nlayer                    2\n",
      "K                         100\n",
      "p_flip                    0.04\n",
      "Nt                        16\n"
     ]
    },
    {
     "name": "stderr",
     "output_type": "stream",
     "text": [
      "2024-08-28 23:37:42.336792: W external/xla/xla/tsl/framework/bfc_allocator.cc:482] Allocator (GPU_0_bfc) ran out of memory trying to allocate 687.83MiB (rounded to 721239552)requested by op \n",
      "2024-08-28 23:37:42.338378: W external/xla/xla/tsl/framework/bfc_allocator.cc:494] ************************************************************************____________________________\n",
      "E0828 23:37:42.338405  308455 pjrt_stream_executor_client.cc:3067] Execution of replica 0 failed: RESOURCE_EXHAUSTED: Out of memory while trying to allocate 721239424 bytes.\n"
     ]
    },
    {
     "name": "stdout",
     "output_type": "stream",
     "text": [
      "error                     XlaRuntimeError('RESOURCE_EXHAUSTED: Out of memory while trying to allocate 721239424 bytes.')\n",
      "\n",
      "========== TRIAL 379 ==========\n",
      "Nin_virtual               16\n",
      "Nhidden                   60\n",
      "Nlayer                    2\n",
      "K                         150\n",
      "p_flip                    0.0\n",
      "Nt                        8\n",
      "error                     XlaRuntimeError('RESOURCE_EXHAUSTED: Out of memory while trying to allocate 375177216 bytes.')\n",
      "\n",
      "========== TRIAL 380 ==========\n",
      "Nin_virtual               16\n",
      "Nhidden                   60\n",
      "Nlayer                    2\n",
      "K                         150\n",
      "p_flip                    0.0\n",
      "Nt                        12\n"
     ]
    },
    {
     "name": "stderr",
     "output_type": "stream",
     "text": [
      "2024-08-28 23:38:03.475885: W external/xla/xla/tsl/framework/bfc_allocator.cc:482] Allocator (GPU_0_bfc) ran out of memory trying to allocate 516.93MiB (rounded to 542039552)requested by op \n",
      "2024-08-28 23:38:03.477259: W external/xla/xla/tsl/framework/bfc_allocator.cc:494] ***********************************************************************_____________________________\n",
      "E0828 23:38:03.477287  308455 pjrt_stream_executor_client.cc:3067] Execution of replica 0 failed: RESOURCE_EXHAUSTED: Out of memory while trying to allocate 542039424 bytes.\n"
     ]
    },
    {
     "name": "stdout",
     "output_type": "stream",
     "text": [
      "error                     XlaRuntimeError('RESOURCE_EXHAUSTED: Out of memory while trying to allocate 542039424 bytes.')\n",
      "\n",
      "========== TRIAL 381 ==========\n",
      "Nin_virtual               16\n",
      "Nhidden                   60\n",
      "Nlayer                    2\n",
      "K                         150\n",
      "p_flip                    0.0\n",
      "Nt                        16\n"
     ]
    },
    {
     "name": "stderr",
     "output_type": "stream",
     "text": [
      "2024-08-28 23:38:19.910182: W external/xla/xla/tsl/framework/bfc_allocator.cc:482] Allocator (GPU_0_bfc) ran out of memory trying to allocate 687.83MiB (rounded to 721239552)requested by op \n",
      "2024-08-28 23:38:19.911540: W external/xla/xla/tsl/framework/bfc_allocator.cc:494] ************************************************************************____________________________\n",
      "E0828 23:38:19.911567  308455 pjrt_stream_executor_client.cc:3067] Execution of replica 0 failed: RESOURCE_EXHAUSTED: Out of memory while trying to allocate 721239424 bytes.\n"
     ]
    },
    {
     "name": "stdout",
     "output_type": "stream",
     "text": [
      "error                     XlaRuntimeError('RESOURCE_EXHAUSTED: Out of memory while trying to allocate 721239424 bytes.')\n",
      "\n",
      "========== TRIAL 382 ==========\n",
      "Nin_virtual               16\n",
      "Nhidden                   60\n",
      "Nlayer                    2\n",
      "K                         150\n",
      "p_flip                    0.02\n",
      "Nt                        8\n",
      "error                     XlaRuntimeError('RESOURCE_EXHAUSTED: Out of memory while trying to allocate 375177216 bytes.')\n",
      "\n",
      "========== TRIAL 383 ==========\n",
      "Nin_virtual               16\n",
      "Nhidden                   60\n",
      "Nlayer                    2\n",
      "K                         150\n",
      "p_flip                    0.02\n",
      "Nt                        12\n"
     ]
    },
    {
     "name": "stderr",
     "output_type": "stream",
     "text": [
      "2024-08-28 23:38:40.678940: W external/xla/xla/tsl/framework/bfc_allocator.cc:482] Allocator (GPU_0_bfc) ran out of memory trying to allocate 516.93MiB (rounded to 542039552)requested by op \n",
      "2024-08-28 23:38:40.680303: W external/xla/xla/tsl/framework/bfc_allocator.cc:494] ***********************************************************************_____________________________\n",
      "E0828 23:38:40.680330  308455 pjrt_stream_executor_client.cc:3067] Execution of replica 0 failed: RESOURCE_EXHAUSTED: Out of memory while trying to allocate 542039424 bytes.\n"
     ]
    },
    {
     "name": "stdout",
     "output_type": "stream",
     "text": [
      "error                     XlaRuntimeError('RESOURCE_EXHAUSTED: Out of memory while trying to allocate 542039424 bytes.')\n",
      "\n",
      "========== TRIAL 384 ==========\n",
      "Nin_virtual               16\n",
      "Nhidden                   60\n",
      "Nlayer                    2\n",
      "K                         150\n",
      "p_flip                    0.02\n",
      "Nt                        16\n"
     ]
    },
    {
     "name": "stderr",
     "output_type": "stream",
     "text": [
      "2024-08-28 23:38:56.741780: W external/xla/xla/tsl/framework/bfc_allocator.cc:482] Allocator (GPU_0_bfc) ran out of memory trying to allocate 687.83MiB (rounded to 721239552)requested by op \n",
      "2024-08-28 23:38:56.743401: W external/xla/xla/tsl/framework/bfc_allocator.cc:494] ************************************************************************____________________________\n",
      "E0828 23:38:56.743430  308455 pjrt_stream_executor_client.cc:3067] Execution of replica 0 failed: RESOURCE_EXHAUSTED: Out of memory while trying to allocate 721239424 bytes.\n"
     ]
    },
    {
     "name": "stdout",
     "output_type": "stream",
     "text": [
      "error                     XlaRuntimeError('RESOURCE_EXHAUSTED: Out of memory while trying to allocate 721239424 bytes.')\n",
      "\n",
      "========== TRIAL 385 ==========\n",
      "Nin_virtual               16\n",
      "Nhidden                   60\n",
      "Nlayer                    2\n",
      "K                         150\n",
      "p_flip                    0.04\n",
      "Nt                        8\n",
      "error                     XlaRuntimeError('RESOURCE_EXHAUSTED: Out of memory while trying to allocate 375177216 bytes.')\n",
      "\n",
      "========== TRIAL 386 ==========\n",
      "Nin_virtual               16\n",
      "Nhidden                   60\n",
      "Nlayer                    2\n",
      "K                         150\n",
      "p_flip                    0.04\n",
      "Nt                        12\n"
     ]
    },
    {
     "name": "stderr",
     "output_type": "stream",
     "text": [
      "2024-08-28 23:39:17.476123: W external/xla/xla/tsl/framework/bfc_allocator.cc:482] Allocator (GPU_0_bfc) ran out of memory trying to allocate 516.93MiB (rounded to 542039552)requested by op \n",
      "2024-08-28 23:39:17.477502: W external/xla/xla/tsl/framework/bfc_allocator.cc:494] ***********************************************************************_____________________________\n",
      "E0828 23:39:17.477528  308455 pjrt_stream_executor_client.cc:3067] Execution of replica 0 failed: RESOURCE_EXHAUSTED: Out of memory while trying to allocate 542039424 bytes.\n"
     ]
    },
    {
     "name": "stdout",
     "output_type": "stream",
     "text": [
      "error                     XlaRuntimeError('RESOURCE_EXHAUSTED: Out of memory while trying to allocate 542039424 bytes.')\n",
      "\n",
      "========== TRIAL 387 ==========\n",
      "Nin_virtual               16\n",
      "Nhidden                   60\n",
      "Nlayer                    2\n",
      "K                         150\n",
      "p_flip                    0.04\n",
      "Nt                        16\n"
     ]
    },
    {
     "name": "stderr",
     "output_type": "stream",
     "text": [
      "2024-08-28 23:39:33.485708: W external/xla/xla/tsl/framework/bfc_allocator.cc:482] Allocator (GPU_0_bfc) ran out of memory trying to allocate 687.83MiB (rounded to 721239552)requested by op \n",
      "2024-08-28 23:39:33.487100: W external/xla/xla/tsl/framework/bfc_allocator.cc:494] ************************************************************************____________________________\n",
      "E0828 23:39:33.487129  308455 pjrt_stream_executor_client.cc:3067] Execution of replica 0 failed: RESOURCE_EXHAUSTED: Out of memory while trying to allocate 721239424 bytes.\n"
     ]
    },
    {
     "name": "stdout",
     "output_type": "stream",
     "text": [
      "error                     XlaRuntimeError('RESOURCE_EXHAUSTED: Out of memory while trying to allocate 721239424 bytes.')\n",
      "\n",
      "========== TRIAL 388 ==========\n",
      "Nin_virtual               16\n",
      "Nhidden                   60\n",
      "Nlayer                    2\n",
      "K                         200\n",
      "p_flip                    0.0\n",
      "Nt                        8\n",
      "error                     XlaRuntimeError('RESOURCE_EXHAUSTED: Out of memory while trying to allocate 375177216 bytes.')\n",
      "\n",
      "========== TRIAL 389 ==========\n",
      "Nin_virtual               16\n",
      "Nhidden                   60\n",
      "Nlayer                    2\n",
      "K                         200\n",
      "p_flip                    0.0\n",
      "Nt                        12\n"
     ]
    },
    {
     "name": "stderr",
     "output_type": "stream",
     "text": [
      "2024-08-28 23:39:57.972350: W external/xla/xla/tsl/framework/bfc_allocator.cc:482] Allocator (GPU_0_bfc) ran out of memory trying to allocate 516.93MiB (rounded to 542039552)requested by op \n",
      "2024-08-28 23:39:57.973790: W external/xla/xla/tsl/framework/bfc_allocator.cc:494] ***********************************************************************_____________________________\n",
      "E0828 23:39:57.973817  308455 pjrt_stream_executor_client.cc:3067] Execution of replica 0 failed: RESOURCE_EXHAUSTED: Out of memory while trying to allocate 542039424 bytes.\n"
     ]
    },
    {
     "name": "stdout",
     "output_type": "stream",
     "text": [
      "error                     XlaRuntimeError('RESOURCE_EXHAUSTED: Out of memory while trying to allocate 542039424 bytes.')\n",
      "\n",
      "========== TRIAL 390 ==========\n",
      "Nin_virtual               16\n",
      "Nhidden                   60\n",
      "Nlayer                    2\n",
      "K                         200\n",
      "p_flip                    0.0\n",
      "Nt                        16\n"
     ]
    },
    {
     "name": "stderr",
     "output_type": "stream",
     "text": [
      "2024-08-28 23:40:14.433965: W external/xla/xla/tsl/framework/bfc_allocator.cc:482] Allocator (GPU_0_bfc) ran out of memory trying to allocate 687.83MiB (rounded to 721239552)requested by op \n",
      "2024-08-28 23:40:14.435713: W external/xla/xla/tsl/framework/bfc_allocator.cc:494] ************************************************************************____________________________\n",
      "E0828 23:40:14.435745  308455 pjrt_stream_executor_client.cc:3067] Execution of replica 0 failed: RESOURCE_EXHAUSTED: Out of memory while trying to allocate 721239424 bytes.\n"
     ]
    },
    {
     "name": "stdout",
     "output_type": "stream",
     "text": [
      "error                     XlaRuntimeError('RESOURCE_EXHAUSTED: Out of memory while trying to allocate 721239424 bytes.')\n",
      "\n",
      "========== TRIAL 391 ==========\n",
      "Nin_virtual               16\n",
      "Nhidden                   60\n",
      "Nlayer                    2\n",
      "K                         200\n",
      "p_flip                    0.02\n",
      "Nt                        8\n",
      "error                     XlaRuntimeError('RESOURCE_EXHAUSTED: Out of memory while trying to allocate 375177216 bytes.')\n",
      "\n",
      "========== TRIAL 392 ==========\n",
      "Nin_virtual               16\n",
      "Nhidden                   60\n",
      "Nlayer                    2\n",
      "K                         200\n",
      "p_flip                    0.02\n",
      "Nt                        12\n"
     ]
    },
    {
     "name": "stderr",
     "output_type": "stream",
     "text": [
      "2024-08-28 23:40:35.189265: W external/xla/xla/tsl/framework/bfc_allocator.cc:482] Allocator (GPU_0_bfc) ran out of memory trying to allocate 516.93MiB (rounded to 542039552)requested by op \n",
      "2024-08-28 23:40:35.190507: W external/xla/xla/tsl/framework/bfc_allocator.cc:494] ***********************************************************************_____________________________\n",
      "E0828 23:40:35.190534  308455 pjrt_stream_executor_client.cc:3067] Execution of replica 0 failed: RESOURCE_EXHAUSTED: Out of memory while trying to allocate 542039424 bytes.\n"
     ]
    },
    {
     "name": "stdout",
     "output_type": "stream",
     "text": [
      "error                     XlaRuntimeError('RESOURCE_EXHAUSTED: Out of memory while trying to allocate 542039424 bytes.')\n",
      "\n",
      "========== TRIAL 393 ==========\n",
      "Nin_virtual               16\n",
      "Nhidden                   60\n",
      "Nlayer                    2\n",
      "K                         200\n",
      "p_flip                    0.02\n",
      "Nt                        16\n"
     ]
    },
    {
     "name": "stderr",
     "output_type": "stream",
     "text": [
      "2024-08-28 23:40:51.277169: W external/xla/xla/tsl/framework/bfc_allocator.cc:482] Allocator (GPU_0_bfc) ran out of memory trying to allocate 687.83MiB (rounded to 721239552)requested by op \n",
      "2024-08-28 23:40:51.278611: W external/xla/xla/tsl/framework/bfc_allocator.cc:494] ************************************************************************____________________________\n",
      "E0828 23:40:51.278640  308455 pjrt_stream_executor_client.cc:3067] Execution of replica 0 failed: RESOURCE_EXHAUSTED: Out of memory while trying to allocate 721239424 bytes.\n"
     ]
    },
    {
     "name": "stdout",
     "output_type": "stream",
     "text": [
      "error                     XlaRuntimeError('RESOURCE_EXHAUSTED: Out of memory while trying to allocate 721239424 bytes.')\n",
      "\n",
      "========== TRIAL 394 ==========\n",
      "Nin_virtual               16\n",
      "Nhidden                   60\n",
      "Nlayer                    2\n",
      "K                         200\n",
      "p_flip                    0.04\n",
      "Nt                        8\n",
      "error                     XlaRuntimeError('RESOURCE_EXHAUSTED: Out of memory while trying to allocate 375177216 bytes.')\n",
      "\n",
      "========== TRIAL 395 ==========\n",
      "Nin_virtual               16\n",
      "Nhidden                   60\n",
      "Nlayer                    2\n",
      "K                         200\n",
      "p_flip                    0.04\n",
      "Nt                        12\n"
     ]
    },
    {
     "name": "stderr",
     "output_type": "stream",
     "text": [
      "2024-08-28 23:41:12.011489: W external/xla/xla/tsl/framework/bfc_allocator.cc:482] Allocator (GPU_0_bfc) ran out of memory trying to allocate 516.93MiB (rounded to 542039552)requested by op \n",
      "2024-08-28 23:41:12.012762: W external/xla/xla/tsl/framework/bfc_allocator.cc:494] ***********************************************************************_____________________________\n",
      "E0828 23:41:12.012788  308455 pjrt_stream_executor_client.cc:3067] Execution of replica 0 failed: RESOURCE_EXHAUSTED: Out of memory while trying to allocate 542039424 bytes.\n"
     ]
    },
    {
     "name": "stdout",
     "output_type": "stream",
     "text": [
      "error                     XlaRuntimeError('RESOURCE_EXHAUSTED: Out of memory while trying to allocate 542039424 bytes.')\n",
      "\n",
      "========== TRIAL 396 ==========\n",
      "Nin_virtual               16\n",
      "Nhidden                   60\n",
      "Nlayer                    2\n",
      "K                         200\n",
      "p_flip                    0.04\n",
      "Nt                        16\n"
     ]
    },
    {
     "name": "stderr",
     "output_type": "stream",
     "text": [
      "2024-08-28 23:41:28.117670: W external/xla/xla/tsl/framework/bfc_allocator.cc:482] Allocator (GPU_0_bfc) ran out of memory trying to allocate 687.83MiB (rounded to 721239552)requested by op \n",
      "2024-08-28 23:41:28.119098: W external/xla/xla/tsl/framework/bfc_allocator.cc:494] ************************************************************************____________________________\n",
      "E0828 23:41:28.119126  308455 pjrt_stream_executor_client.cc:3067] Execution of replica 0 failed: RESOURCE_EXHAUSTED: Out of memory while trying to allocate 721239424 bytes.\n"
     ]
    },
    {
     "name": "stdout",
     "output_type": "stream",
     "text": [
      "error                     XlaRuntimeError('RESOURCE_EXHAUSTED: Out of memory while trying to allocate 721239424 bytes.')\n",
      "\n",
      "========== TRIAL 397 ==========\n",
      "Nin_virtual               16\n",
      "Nhidden                   60\n",
      "Nlayer                    3\n",
      "K                         50\n",
      "p_flip                    0.0\n",
      "Nt                        8\n",
      "error                     XlaRuntimeError('RESOURCE_EXHAUSTED: Out of memory while trying to allocate 375177216 bytes.')\n",
      "\n",
      "========== TRIAL 398 ==========\n",
      "Nin_virtual               16\n",
      "Nhidden                   60\n",
      "Nlayer                    3\n",
      "K                         50\n",
      "p_flip                    0.0\n",
      "Nt                        12\n"
     ]
    },
    {
     "name": "stderr",
     "output_type": "stream",
     "text": [
      "2024-08-28 23:41:49.369415: W external/xla/xla/tsl/framework/bfc_allocator.cc:482] Allocator (GPU_0_bfc) ran out of memory trying to allocate 516.93MiB (rounded to 542039808)requested by op \n",
      "2024-08-28 23:41:49.370892: W external/xla/xla/tsl/framework/bfc_allocator.cc:494] ***********************************************************************_____________________________\n",
      "E0828 23:41:49.370930  308455 pjrt_stream_executor_client.cc:3067] Execution of replica 0 failed: RESOURCE_EXHAUSTED: Out of memory while trying to allocate 542039680 bytes.\n"
     ]
    },
    {
     "name": "stdout",
     "output_type": "stream",
     "text": [
      "error                     XlaRuntimeError('RESOURCE_EXHAUSTED: Out of memory while trying to allocate 542039680 bytes.')\n",
      "\n",
      "========== TRIAL 399 ==========\n",
      "Nin_virtual               16\n",
      "Nhidden                   60\n",
      "Nlayer                    3\n",
      "K                         50\n",
      "p_flip                    0.0\n",
      "Nt                        16\n"
     ]
    },
    {
     "name": "stderr",
     "output_type": "stream",
     "text": [
      "2024-08-28 23:42:05.842772: W external/xla/xla/tsl/framework/bfc_allocator.cc:482] Allocator (GPU_0_bfc) ran out of memory trying to allocate 687.83MiB (rounded to 721239808)requested by op \n",
      "2024-08-28 23:42:05.844525: W external/xla/xla/tsl/framework/bfc_allocator.cc:494] ************************************************************************____________________________\n",
      "E0828 23:42:05.844559  308455 pjrt_stream_executor_client.cc:3067] Execution of replica 0 failed: RESOURCE_EXHAUSTED: Out of memory while trying to allocate 721239680 bytes.\n"
     ]
    },
    {
     "name": "stdout",
     "output_type": "stream",
     "text": [
      "error                     XlaRuntimeError('RESOURCE_EXHAUSTED: Out of memory while trying to allocate 721239680 bytes.')\n",
      "\n",
      "========== TRIAL 400 ==========\n",
      "Nin_virtual               16\n",
      "Nhidden                   60\n",
      "Nlayer                    3\n",
      "K                         50\n",
      "p_flip                    0.02\n",
      "Nt                        8\n",
      "error                     XlaRuntimeError('RESOURCE_EXHAUSTED: Out of memory while trying to allocate 375177216 bytes.')\n",
      "\n",
      "========== TRIAL 401 ==========\n",
      "Nin_virtual               16\n",
      "Nhidden                   60\n",
      "Nlayer                    3\n",
      "K                         50\n",
      "p_flip                    0.02\n",
      "Nt                        12\n"
     ]
    },
    {
     "name": "stderr",
     "output_type": "stream",
     "text": [
      "2024-08-28 23:42:26.720184: W external/xla/xla/tsl/framework/bfc_allocator.cc:482] Allocator (GPU_0_bfc) ran out of memory trying to allocate 516.93MiB (rounded to 542039808)requested by op \n",
      "2024-08-28 23:42:26.721480: W external/xla/xla/tsl/framework/bfc_allocator.cc:494] ***********************************************************************_____________________________\n",
      "E0828 23:42:26.721506  308455 pjrt_stream_executor_client.cc:3067] Execution of replica 0 failed: RESOURCE_EXHAUSTED: Out of memory while trying to allocate 542039680 bytes.\n"
     ]
    },
    {
     "name": "stdout",
     "output_type": "stream",
     "text": [
      "error                     XlaRuntimeError('RESOURCE_EXHAUSTED: Out of memory while trying to allocate 542039680 bytes.')\n",
      "\n",
      "========== TRIAL 402 ==========\n",
      "Nin_virtual               16\n",
      "Nhidden                   60\n",
      "Nlayer                    3\n",
      "K                         50\n",
      "p_flip                    0.02\n",
      "Nt                        16\n"
     ]
    },
    {
     "name": "stderr",
     "output_type": "stream",
     "text": [
      "2024-08-28 23:42:42.913619: W external/xla/xla/tsl/framework/bfc_allocator.cc:482] Allocator (GPU_0_bfc) ran out of memory trying to allocate 687.83MiB (rounded to 721239808)requested by op \n",
      "2024-08-28 23:42:42.915423: W external/xla/xla/tsl/framework/bfc_allocator.cc:494] ************************************************************************____________________________\n",
      "E0828 23:42:42.915453  308455 pjrt_stream_executor_client.cc:3067] Execution of replica 0 failed: RESOURCE_EXHAUSTED: Out of memory while trying to allocate 721239680 bytes.\n"
     ]
    },
    {
     "name": "stdout",
     "output_type": "stream",
     "text": [
      "error                     XlaRuntimeError('RESOURCE_EXHAUSTED: Out of memory while trying to allocate 721239680 bytes.')\n",
      "\n",
      "========== TRIAL 403 ==========\n",
      "Nin_virtual               16\n",
      "Nhidden                   60\n",
      "Nlayer                    3\n",
      "K                         50\n",
      "p_flip                    0.04\n",
      "Nt                        8\n",
      "error                     XlaRuntimeError('RESOURCE_EXHAUSTED: Out of memory while trying to allocate 375177216 bytes.')\n",
      "\n",
      "========== TRIAL 404 ==========\n",
      "Nin_virtual               16\n",
      "Nhidden                   60\n",
      "Nlayer                    3\n",
      "K                         50\n",
      "p_flip                    0.04\n",
      "Nt                        12\n"
     ]
    },
    {
     "name": "stderr",
     "output_type": "stream",
     "text": [
      "2024-08-28 23:43:03.700880: W external/xla/xla/tsl/framework/bfc_allocator.cc:482] Allocator (GPU_0_bfc) ran out of memory trying to allocate 516.93MiB (rounded to 542039808)requested by op \n",
      "2024-08-28 23:43:03.702139: W external/xla/xla/tsl/framework/bfc_allocator.cc:494] ***********************************************************************_____________________________\n",
      "E0828 23:43:03.702166  308455 pjrt_stream_executor_client.cc:3067] Execution of replica 0 failed: RESOURCE_EXHAUSTED: Out of memory while trying to allocate 542039680 bytes.\n"
     ]
    },
    {
     "name": "stdout",
     "output_type": "stream",
     "text": [
      "error                     XlaRuntimeError('RESOURCE_EXHAUSTED: Out of memory while trying to allocate 542039680 bytes.')\n",
      "\n",
      "========== TRIAL 405 ==========\n",
      "Nin_virtual               16\n",
      "Nhidden                   60\n",
      "Nlayer                    3\n",
      "K                         50\n",
      "p_flip                    0.04\n",
      "Nt                        16\n"
     ]
    },
    {
     "name": "stderr",
     "output_type": "stream",
     "text": [
      "2024-08-28 23:43:19.758173: W external/xla/xla/tsl/framework/bfc_allocator.cc:482] Allocator (GPU_0_bfc) ran out of memory trying to allocate 687.83MiB (rounded to 721239808)requested by op \n",
      "2024-08-28 23:43:19.759857: W external/xla/xla/tsl/framework/bfc_allocator.cc:494] ************************************************************************____________________________\n",
      "E0828 23:43:19.759885  308455 pjrt_stream_executor_client.cc:3067] Execution of replica 0 failed: RESOURCE_EXHAUSTED: Out of memory while trying to allocate 721239680 bytes.\n"
     ]
    },
    {
     "name": "stdout",
     "output_type": "stream",
     "text": [
      "error                     XlaRuntimeError('RESOURCE_EXHAUSTED: Out of memory while trying to allocate 721239680 bytes.')\n",
      "\n",
      "========== TRIAL 406 ==========\n",
      "Nin_virtual               16\n",
      "Nhidden                   60\n",
      "Nlayer                    3\n",
      "K                         100\n",
      "p_flip                    0.0\n",
      "Nt                        8\n",
      "error                     XlaRuntimeError('RESOURCE_EXHAUSTED: Out of memory while trying to allocate 375177216 bytes.')\n",
      "\n",
      "========== TRIAL 407 ==========\n",
      "Nin_virtual               16\n",
      "Nhidden                   60\n",
      "Nlayer                    3\n",
      "K                         100\n",
      "p_flip                    0.0\n",
      "Nt                        12\n"
     ]
    },
    {
     "name": "stderr",
     "output_type": "stream",
     "text": [
      "2024-08-28 23:43:41.117052: W external/xla/xla/tsl/framework/bfc_allocator.cc:482] Allocator (GPU_0_bfc) ran out of memory trying to allocate 516.93MiB (rounded to 542039808)requested by op \n",
      "2024-08-28 23:43:41.118372: W external/xla/xla/tsl/framework/bfc_allocator.cc:494] ***********************************************************************_____________________________\n",
      "E0828 23:43:41.118399  308455 pjrt_stream_executor_client.cc:3067] Execution of replica 0 failed: RESOURCE_EXHAUSTED: Out of memory while trying to allocate 542039680 bytes.\n"
     ]
    },
    {
     "name": "stdout",
     "output_type": "stream",
     "text": [
      "error                     XlaRuntimeError('RESOURCE_EXHAUSTED: Out of memory while trying to allocate 542039680 bytes.')\n",
      "\n",
      "========== TRIAL 408 ==========\n",
      "Nin_virtual               16\n",
      "Nhidden                   60\n",
      "Nlayer                    3\n",
      "K                         100\n",
      "p_flip                    0.0\n",
      "Nt                        16\n"
     ]
    },
    {
     "name": "stderr",
     "output_type": "stream",
     "text": [
      "2024-08-28 23:43:57.604225: W external/xla/xla/tsl/framework/bfc_allocator.cc:482] Allocator (GPU_0_bfc) ran out of memory trying to allocate 687.83MiB (rounded to 721239808)requested by op \n",
      "2024-08-28 23:43:57.605971: W external/xla/xla/tsl/framework/bfc_allocator.cc:494] ************************************************************************____________________________\n",
      "E0828 23:43:57.606010  308455 pjrt_stream_executor_client.cc:3067] Execution of replica 0 failed: RESOURCE_EXHAUSTED: Out of memory while trying to allocate 721239680 bytes.\n"
     ]
    },
    {
     "name": "stdout",
     "output_type": "stream",
     "text": [
      "error                     XlaRuntimeError('RESOURCE_EXHAUSTED: Out of memory while trying to allocate 721239680 bytes.')\n",
      "\n",
      "========== TRIAL 409 ==========\n",
      "Nin_virtual               16\n",
      "Nhidden                   60\n",
      "Nlayer                    3\n",
      "K                         100\n",
      "p_flip                    0.02\n",
      "Nt                        8\n",
      "error                     XlaRuntimeError('RESOURCE_EXHAUSTED: Out of memory while trying to allocate 375177216 bytes.')\n",
      "\n",
      "========== TRIAL 410 ==========\n",
      "Nin_virtual               16\n",
      "Nhidden                   60\n",
      "Nlayer                    3\n",
      "K                         100\n",
      "p_flip                    0.02\n",
      "Nt                        12\n"
     ]
    },
    {
     "name": "stderr",
     "output_type": "stream",
     "text": [
      "2024-08-28 23:44:18.472953: W external/xla/xla/tsl/framework/bfc_allocator.cc:482] Allocator (GPU_0_bfc) ran out of memory trying to allocate 516.93MiB (rounded to 542039808)requested by op \n",
      "2024-08-28 23:44:18.474499: W external/xla/xla/tsl/framework/bfc_allocator.cc:494] ***********************************************************************_____________________________\n",
      "E0828 23:44:18.474530  308455 pjrt_stream_executor_client.cc:3067] Execution of replica 0 failed: RESOURCE_EXHAUSTED: Out of memory while trying to allocate 542039680 bytes.\n"
     ]
    },
    {
     "name": "stdout",
     "output_type": "stream",
     "text": [
      "error                     XlaRuntimeError('RESOURCE_EXHAUSTED: Out of memory while trying to allocate 542039680 bytes.')\n",
      "\n",
      "========== TRIAL 411 ==========\n",
      "Nin_virtual               16\n",
      "Nhidden                   60\n",
      "Nlayer                    3\n",
      "K                         100\n",
      "p_flip                    0.02\n",
      "Nt                        16\n"
     ]
    },
    {
     "name": "stderr",
     "output_type": "stream",
     "text": [
      "2024-08-28 23:44:34.607540: W external/xla/xla/tsl/framework/bfc_allocator.cc:482] Allocator (GPU_0_bfc) ran out of memory trying to allocate 687.83MiB (rounded to 721239808)requested by op \n",
      "2024-08-28 23:44:34.609134: W external/xla/xla/tsl/framework/bfc_allocator.cc:494] ************************************************************************____________________________\n",
      "E0828 23:44:34.609162  308455 pjrt_stream_executor_client.cc:3067] Execution of replica 0 failed: RESOURCE_EXHAUSTED: Out of memory while trying to allocate 721239680 bytes.\n"
     ]
    },
    {
     "name": "stdout",
     "output_type": "stream",
     "text": [
      "error                     XlaRuntimeError('RESOURCE_EXHAUSTED: Out of memory while trying to allocate 721239680 bytes.')\n",
      "\n",
      "========== TRIAL 412 ==========\n",
      "Nin_virtual               16\n",
      "Nhidden                   60\n",
      "Nlayer                    3\n",
      "K                         100\n",
      "p_flip                    0.04\n",
      "Nt                        8\n",
      "error                     XlaRuntimeError('RESOURCE_EXHAUSTED: Out of memory while trying to allocate 375177216 bytes.')\n",
      "\n",
      "========== TRIAL 413 ==========\n",
      "Nin_virtual               16\n",
      "Nhidden                   60\n",
      "Nlayer                    3\n",
      "K                         100\n",
      "p_flip                    0.04\n",
      "Nt                        12\n"
     ]
    },
    {
     "name": "stderr",
     "output_type": "stream",
     "text": [
      "2024-08-28 23:44:55.439338: W external/xla/xla/tsl/framework/bfc_allocator.cc:482] Allocator (GPU_0_bfc) ran out of memory trying to allocate 516.93MiB (rounded to 542039808)requested by op \n",
      "2024-08-28 23:44:55.440630: W external/xla/xla/tsl/framework/bfc_allocator.cc:494] ***********************************************************************_____________________________\n",
      "E0828 23:44:55.440657  308455 pjrt_stream_executor_client.cc:3067] Execution of replica 0 failed: RESOURCE_EXHAUSTED: Out of memory while trying to allocate 542039680 bytes.\n"
     ]
    },
    {
     "name": "stdout",
     "output_type": "stream",
     "text": [
      "error                     XlaRuntimeError('RESOURCE_EXHAUSTED: Out of memory while trying to allocate 542039680 bytes.')\n",
      "\n",
      "========== TRIAL 414 ==========\n",
      "Nin_virtual               16\n",
      "Nhidden                   60\n",
      "Nlayer                    3\n",
      "K                         100\n",
      "p_flip                    0.04\n",
      "Nt                        16\n"
     ]
    },
    {
     "name": "stderr",
     "output_type": "stream",
     "text": [
      "2024-08-28 23:45:11.535406: W external/xla/xla/tsl/framework/bfc_allocator.cc:482] Allocator (GPU_0_bfc) ran out of memory trying to allocate 687.83MiB (rounded to 721239808)requested by op \n",
      "2024-08-28 23:45:11.536893: W external/xla/xla/tsl/framework/bfc_allocator.cc:494] ************************************************************************____________________________\n",
      "E0828 23:45:11.536924  308455 pjrt_stream_executor_client.cc:3067] Execution of replica 0 failed: RESOURCE_EXHAUSTED: Out of memory while trying to allocate 721239680 bytes.\n"
     ]
    },
    {
     "name": "stdout",
     "output_type": "stream",
     "text": [
      "error                     XlaRuntimeError('RESOURCE_EXHAUSTED: Out of memory while trying to allocate 721239680 bytes.')\n",
      "\n",
      "========== TRIAL 415 ==========\n",
      "Nin_virtual               16\n",
      "Nhidden                   60\n",
      "Nlayer                    3\n",
      "K                         150\n",
      "p_flip                    0.0\n",
      "Nt                        8\n",
      "error                     XlaRuntimeError('RESOURCE_EXHAUSTED: Out of memory while trying to allocate 375177216 bytes.')\n",
      "\n",
      "========== TRIAL 416 ==========\n",
      "Nin_virtual               16\n",
      "Nhidden                   60\n",
      "Nlayer                    3\n",
      "K                         150\n",
      "p_flip                    0.0\n",
      "Nt                        12\n"
     ]
    },
    {
     "name": "stderr",
     "output_type": "stream",
     "text": [
      "2024-08-28 23:45:32.777261: W external/xla/xla/tsl/framework/bfc_allocator.cc:482] Allocator (GPU_0_bfc) ran out of memory trying to allocate 516.93MiB (rounded to 542039808)requested by op \n",
      "2024-08-28 23:45:32.778635: W external/xla/xla/tsl/framework/bfc_allocator.cc:494] ***********************************************************************_____________________________\n",
      "E0828 23:45:32.778662  308455 pjrt_stream_executor_client.cc:3067] Execution of replica 0 failed: RESOURCE_EXHAUSTED: Out of memory while trying to allocate 542039680 bytes.\n"
     ]
    },
    {
     "name": "stdout",
     "output_type": "stream",
     "text": [
      "error                     XlaRuntimeError('RESOURCE_EXHAUSTED: Out of memory while trying to allocate 542039680 bytes.')\n",
      "\n",
      "========== TRIAL 417 ==========\n",
      "Nin_virtual               16\n",
      "Nhidden                   60\n",
      "Nlayer                    3\n",
      "K                         150\n",
      "p_flip                    0.0\n",
      "Nt                        16\n"
     ]
    },
    {
     "name": "stderr",
     "output_type": "stream",
     "text": [
      "2024-08-28 23:45:49.255849: W external/xla/xla/tsl/framework/bfc_allocator.cc:482] Allocator (GPU_0_bfc) ran out of memory trying to allocate 687.83MiB (rounded to 721239808)requested by op \n",
      "2024-08-28 23:45:49.257561: W external/xla/xla/tsl/framework/bfc_allocator.cc:494] ************************************************************************____________________________\n",
      "E0828 23:45:49.257589  308455 pjrt_stream_executor_client.cc:3067] Execution of replica 0 failed: RESOURCE_EXHAUSTED: Out of memory while trying to allocate 721239680 bytes.\n"
     ]
    },
    {
     "name": "stdout",
     "output_type": "stream",
     "text": [
      "error                     XlaRuntimeError('RESOURCE_EXHAUSTED: Out of memory while trying to allocate 721239680 bytes.')\n",
      "\n",
      "========== TRIAL 418 ==========\n",
      "Nin_virtual               16\n",
      "Nhidden                   60\n",
      "Nlayer                    3\n",
      "K                         150\n",
      "p_flip                    0.02\n",
      "Nt                        8\n",
      "error                     XlaRuntimeError('RESOURCE_EXHAUSTED: Out of memory while trying to allocate 375177216 bytes.')\n",
      "\n",
      "========== TRIAL 419 ==========\n",
      "Nin_virtual               16\n",
      "Nhidden                   60\n",
      "Nlayer                    3\n",
      "K                         150\n",
      "p_flip                    0.02\n",
      "Nt                        12\n"
     ]
    },
    {
     "name": "stderr",
     "output_type": "stream",
     "text": [
      "2024-08-28 23:46:10.098757: W external/xla/xla/tsl/framework/bfc_allocator.cc:482] Allocator (GPU_0_bfc) ran out of memory trying to allocate 516.93MiB (rounded to 542039808)requested by op \n",
      "2024-08-28 23:46:10.100147: W external/xla/xla/tsl/framework/bfc_allocator.cc:494] ***********************************************************************_____________________________\n",
      "E0828 23:46:10.100173  308455 pjrt_stream_executor_client.cc:3067] Execution of replica 0 failed: RESOURCE_EXHAUSTED: Out of memory while trying to allocate 542039680 bytes.\n"
     ]
    },
    {
     "name": "stdout",
     "output_type": "stream",
     "text": [
      "error                     XlaRuntimeError('RESOURCE_EXHAUSTED: Out of memory while trying to allocate 542039680 bytes.')\n",
      "\n",
      "========== TRIAL 420 ==========\n",
      "Nin_virtual               16\n",
      "Nhidden                   60\n",
      "Nlayer                    3\n",
      "K                         150\n",
      "p_flip                    0.02\n",
      "Nt                        16\n"
     ]
    },
    {
     "name": "stderr",
     "output_type": "stream",
     "text": [
      "2024-08-28 23:46:26.199696: W external/xla/xla/tsl/framework/bfc_allocator.cc:482] Allocator (GPU_0_bfc) ran out of memory trying to allocate 687.83MiB (rounded to 721239808)requested by op \n",
      "2024-08-28 23:46:26.201619: W external/xla/xla/tsl/framework/bfc_allocator.cc:494] ************************************************************************____________________________\n",
      "E0828 23:46:26.201668  308455 pjrt_stream_executor_client.cc:3067] Execution of replica 0 failed: RESOURCE_EXHAUSTED: Out of memory while trying to allocate 721239680 bytes.\n"
     ]
    },
    {
     "name": "stdout",
     "output_type": "stream",
     "text": [
      "error                     XlaRuntimeError('RESOURCE_EXHAUSTED: Out of memory while trying to allocate 721239680 bytes.')\n",
      "\n",
      "========== TRIAL 421 ==========\n",
      "Nin_virtual               16\n",
      "Nhidden                   60\n",
      "Nlayer                    3\n",
      "K                         150\n",
      "p_flip                    0.04\n",
      "Nt                        8\n",
      "error                     XlaRuntimeError('RESOURCE_EXHAUSTED: Out of memory while trying to allocate 375177216 bytes.')\n",
      "\n",
      "========== TRIAL 422 ==========\n",
      "Nin_virtual               16\n",
      "Nhidden                   60\n",
      "Nlayer                    3\n",
      "K                         150\n",
      "p_flip                    0.04\n",
      "Nt                        12\n"
     ]
    },
    {
     "name": "stderr",
     "output_type": "stream",
     "text": [
      "2024-08-28 23:46:50.329988: W external/xla/xla/tsl/framework/bfc_allocator.cc:482] Allocator (GPU_0_bfc) ran out of memory trying to allocate 516.93MiB (rounded to 542039808)requested by op \n",
      "2024-08-28 23:46:50.331527: W external/xla/xla/tsl/framework/bfc_allocator.cc:494] ***********************************************************************_____________________________\n",
      "E0828 23:46:50.331567  308455 pjrt_stream_executor_client.cc:3067] Execution of replica 0 failed: RESOURCE_EXHAUSTED: Out of memory while trying to allocate 542039680 bytes.\n"
     ]
    },
    {
     "name": "stdout",
     "output_type": "stream",
     "text": [
      "error                     XlaRuntimeError('RESOURCE_EXHAUSTED: Out of memory while trying to allocate 542039680 bytes.')\n",
      "\n",
      "========== TRIAL 423 ==========\n",
      "Nin_virtual               16\n",
      "Nhidden                   60\n",
      "Nlayer                    3\n",
      "K                         150\n",
      "p_flip                    0.04\n",
      "Nt                        16\n"
     ]
    },
    {
     "name": "stderr",
     "output_type": "stream",
     "text": [
      "2024-08-28 23:47:06.440238: W external/xla/xla/tsl/framework/bfc_allocator.cc:482] Allocator (GPU_0_bfc) ran out of memory trying to allocate 687.83MiB (rounded to 721239808)requested by op \n",
      "2024-08-28 23:47:06.441941: W external/xla/xla/tsl/framework/bfc_allocator.cc:494] ************************************************************************____________________________\n",
      "E0828 23:47:06.441969  308455 pjrt_stream_executor_client.cc:3067] Execution of replica 0 failed: RESOURCE_EXHAUSTED: Out of memory while trying to allocate 721239680 bytes.\n"
     ]
    },
    {
     "name": "stdout",
     "output_type": "stream",
     "text": [
      "error                     XlaRuntimeError('RESOURCE_EXHAUSTED: Out of memory while trying to allocate 721239680 bytes.')\n",
      "\n",
      "========== TRIAL 424 ==========\n",
      "Nin_virtual               16\n",
      "Nhidden                   60\n",
      "Nlayer                    3\n",
      "K                         200\n",
      "p_flip                    0.0\n",
      "Nt                        8\n",
      "error                     XlaRuntimeError('RESOURCE_EXHAUSTED: Out of memory while trying to allocate 375177216 bytes.')\n",
      "\n",
      "========== TRIAL 425 ==========\n",
      "Nin_virtual               16\n",
      "Nhidden                   60\n",
      "Nlayer                    3\n",
      "K                         200\n",
      "p_flip                    0.0\n",
      "Nt                        12\n"
     ]
    },
    {
     "name": "stderr",
     "output_type": "stream",
     "text": [
      "2024-08-28 23:47:27.714450: W external/xla/xla/tsl/framework/bfc_allocator.cc:482] Allocator (GPU_0_bfc) ran out of memory trying to allocate 516.93MiB (rounded to 542039808)requested by op \n",
      "2024-08-28 23:47:27.716002: W external/xla/xla/tsl/framework/bfc_allocator.cc:494] ***********************************************************************_____________________________\n",
      "E0828 23:47:27.716029  308455 pjrt_stream_executor_client.cc:3067] Execution of replica 0 failed: RESOURCE_EXHAUSTED: Out of memory while trying to allocate 542039680 bytes.\n"
     ]
    },
    {
     "name": "stdout",
     "output_type": "stream",
     "text": [
      "error                     XlaRuntimeError('RESOURCE_EXHAUSTED: Out of memory while trying to allocate 542039680 bytes.')\n",
      "\n",
      "========== TRIAL 426 ==========\n",
      "Nin_virtual               16\n",
      "Nhidden                   60\n",
      "Nlayer                    3\n",
      "K                         200\n",
      "p_flip                    0.0\n",
      "Nt                        16\n"
     ]
    },
    {
     "name": "stderr",
     "output_type": "stream",
     "text": [
      "2024-08-28 23:47:44.294547: W external/xla/xla/tsl/framework/bfc_allocator.cc:482] Allocator (GPU_0_bfc) ran out of memory trying to allocate 687.83MiB (rounded to 721239808)requested by op \n",
      "2024-08-28 23:47:44.296262: W external/xla/xla/tsl/framework/bfc_allocator.cc:494] ************************************************************************____________________________\n",
      "E0828 23:47:44.296291  308455 pjrt_stream_executor_client.cc:3067] Execution of replica 0 failed: RESOURCE_EXHAUSTED: Out of memory while trying to allocate 721239680 bytes.\n"
     ]
    },
    {
     "name": "stdout",
     "output_type": "stream",
     "text": [
      "error                     XlaRuntimeError('RESOURCE_EXHAUSTED: Out of memory while trying to allocate 721239680 bytes.')\n",
      "\n",
      "========== TRIAL 427 ==========\n",
      "Nin_virtual               16\n",
      "Nhidden                   60\n",
      "Nlayer                    3\n",
      "K                         200\n",
      "p_flip                    0.02\n",
      "Nt                        8\n",
      "error                     XlaRuntimeError('RESOURCE_EXHAUSTED: Out of memory while trying to allocate 375177216 bytes.')\n",
      "\n",
      "========== TRIAL 428 ==========\n",
      "Nin_virtual               16\n",
      "Nhidden                   60\n",
      "Nlayer                    3\n",
      "K                         200\n",
      "p_flip                    0.02\n",
      "Nt                        12\n"
     ]
    },
    {
     "name": "stderr",
     "output_type": "stream",
     "text": [
      "2024-08-28 23:48:05.130356: W external/xla/xla/tsl/framework/bfc_allocator.cc:482] Allocator (GPU_0_bfc) ran out of memory trying to allocate 516.93MiB (rounded to 542039808)requested by op \n",
      "2024-08-28 23:48:05.131767: W external/xla/xla/tsl/framework/bfc_allocator.cc:494] ***********************************************************************_____________________________\n",
      "E0828 23:48:05.131800  308455 pjrt_stream_executor_client.cc:3067] Execution of replica 0 failed: RESOURCE_EXHAUSTED: Out of memory while trying to allocate 542039680 bytes.\n"
     ]
    },
    {
     "name": "stdout",
     "output_type": "stream",
     "text": [
      "error                     XlaRuntimeError('RESOURCE_EXHAUSTED: Out of memory while trying to allocate 542039680 bytes.')\n",
      "\n",
      "========== TRIAL 429 ==========\n",
      "Nin_virtual               16\n",
      "Nhidden                   60\n",
      "Nlayer                    3\n",
      "K                         200\n",
      "p_flip                    0.02\n",
      "Nt                        16\n"
     ]
    },
    {
     "name": "stderr",
     "output_type": "stream",
     "text": [
      "2024-08-28 23:48:21.274537: W external/xla/xla/tsl/framework/bfc_allocator.cc:482] Allocator (GPU_0_bfc) ran out of memory trying to allocate 687.83MiB (rounded to 721239808)requested by op \n",
      "2024-08-28 23:48:21.276188: W external/xla/xla/tsl/framework/bfc_allocator.cc:494] ************************************************************************____________________________\n",
      "E0828 23:48:21.276217  308455 pjrt_stream_executor_client.cc:3067] Execution of replica 0 failed: RESOURCE_EXHAUSTED: Out of memory while trying to allocate 721239680 bytes.\n"
     ]
    },
    {
     "name": "stdout",
     "output_type": "stream",
     "text": [
      "error                     XlaRuntimeError('RESOURCE_EXHAUSTED: Out of memory while trying to allocate 721239680 bytes.')\n",
      "\n",
      "========== TRIAL 430 ==========\n",
      "Nin_virtual               16\n",
      "Nhidden                   60\n",
      "Nlayer                    3\n",
      "K                         200\n",
      "p_flip                    0.04\n",
      "Nt                        8\n",
      "error                     XlaRuntimeError('RESOURCE_EXHAUSTED: Out of memory while trying to allocate 375177216 bytes.')\n",
      "\n",
      "========== TRIAL 431 ==========\n",
      "Nin_virtual               16\n",
      "Nhidden                   60\n",
      "Nlayer                    3\n",
      "K                         200\n",
      "p_flip                    0.04\n",
      "Nt                        12\n"
     ]
    },
    {
     "name": "stderr",
     "output_type": "stream",
     "text": [
      "2024-08-28 23:48:42.167906: W external/xla/xla/tsl/framework/bfc_allocator.cc:482] Allocator (GPU_0_bfc) ran out of memory trying to allocate 516.93MiB (rounded to 542039808)requested by op \n",
      "2024-08-28 23:48:42.169386: W external/xla/xla/tsl/framework/bfc_allocator.cc:494] ***********************************************************************_____________________________\n",
      "E0828 23:48:42.169417  308455 pjrt_stream_executor_client.cc:3067] Execution of replica 0 failed: RESOURCE_EXHAUSTED: Out of memory while trying to allocate 542039680 bytes.\n"
     ]
    },
    {
     "name": "stdout",
     "output_type": "stream",
     "text": [
      "error                     XlaRuntimeError('RESOURCE_EXHAUSTED: Out of memory while trying to allocate 542039680 bytes.')\n",
      "\n",
      "========== TRIAL 432 ==========\n",
      "Nin_virtual               16\n",
      "Nhidden                   60\n",
      "Nlayer                    3\n",
      "K                         200\n",
      "p_flip                    0.04\n",
      "Nt                        16\n"
     ]
    },
    {
     "name": "stderr",
     "output_type": "stream",
     "text": [
      "2024-08-28 23:48:58.333616: W external/xla/xla/tsl/framework/bfc_allocator.cc:482] Allocator (GPU_0_bfc) ran out of memory trying to allocate 687.83MiB (rounded to 721239808)requested by op \n",
      "2024-08-28 23:48:58.335408: W external/xla/xla/tsl/framework/bfc_allocator.cc:494] ************************************************************************____________________________\n",
      "E0828 23:48:58.335452  308455 pjrt_stream_executor_client.cc:3067] Execution of replica 0 failed: RESOURCE_EXHAUSTED: Out of memory while trying to allocate 721239680 bytes.\n"
     ]
    },
    {
     "name": "stdout",
     "output_type": "stream",
     "text": [
      "error                     XlaRuntimeError('RESOURCE_EXHAUSTED: Out of memory while trying to allocate 721239680 bytes.')\n",
      "\n",
      "========== TRIAL 433 ==========\n",
      "Nin_virtual               16\n",
      "Nhidden                   80\n",
      "Nlayer                    2\n",
      "K                         50\n",
      "p_flip                    0.0\n",
      "Nt                        8\n",
      "error                     XlaRuntimeError('RESOURCE_EXHAUSTED: Out of memory while trying to allocate 375177216 bytes.')\n",
      "\n",
      "========== TRIAL 434 ==========\n",
      "Nin_virtual               16\n",
      "Nhidden                   80\n",
      "Nlayer                    2\n",
      "K                         50\n",
      "p_flip                    0.0\n",
      "Nt                        12\n"
     ]
    },
    {
     "name": "stderr",
     "output_type": "stream",
     "text": [
      "2024-08-28 23:49:19.440559: W external/xla/xla/tsl/framework/bfc_allocator.cc:482] Allocator (GPU_0_bfc) ran out of memory trying to allocate 517.00MiB (rounded to 542119424)requested by op \n",
      "2024-08-28 23:49:19.442143: W external/xla/xla/tsl/framework/bfc_allocator.cc:494] ***********************************************************************_____________________________\n",
      "E0828 23:49:19.442174  308455 pjrt_stream_executor_client.cc:3067] Execution of replica 0 failed: RESOURCE_EXHAUSTED: Out of memory while trying to allocate 542119424 bytes.\n"
     ]
    },
    {
     "name": "stdout",
     "output_type": "stream",
     "text": [
      "error                     XlaRuntimeError('RESOURCE_EXHAUSTED: Out of memory while trying to allocate 542119424 bytes.')\n",
      "\n",
      "========== TRIAL 435 ==========\n",
      "Nin_virtual               16\n",
      "Nhidden                   80\n",
      "Nlayer                    2\n",
      "K                         50\n",
      "p_flip                    0.0\n",
      "Nt                        16\n"
     ]
    },
    {
     "name": "stderr",
     "output_type": "stream",
     "text": [
      "2024-08-28 23:49:35.871319: W external/xla/xla/tsl/framework/bfc_allocator.cc:482] Allocator (GPU_0_bfc) ran out of memory trying to allocate 687.90MiB (rounded to 721319424)requested by op \n",
      "2024-08-28 23:49:35.873051: W external/xla/xla/tsl/framework/bfc_allocator.cc:494] **********************************************************************_**___________________________\n",
      "E0828 23:49:35.873082  308455 pjrt_stream_executor_client.cc:3067] Execution of replica 0 failed: RESOURCE_EXHAUSTED: Out of memory while trying to allocate 721319424 bytes.\n"
     ]
    },
    {
     "name": "stdout",
     "output_type": "stream",
     "text": [
      "error                     XlaRuntimeError('RESOURCE_EXHAUSTED: Out of memory while trying to allocate 721319424 bytes.')\n",
      "\n",
      "========== TRIAL 436 ==========\n",
      "Nin_virtual               16\n",
      "Nhidden                   80\n",
      "Nlayer                    2\n",
      "K                         50\n",
      "p_flip                    0.02\n",
      "Nt                        8\n",
      "error                     XlaRuntimeError('RESOURCE_EXHAUSTED: Out of memory while trying to allocate 375177216 bytes.')\n",
      "\n",
      "========== TRIAL 437 ==========\n",
      "Nin_virtual               16\n",
      "Nhidden                   80\n",
      "Nlayer                    2\n",
      "K                         50\n",
      "p_flip                    0.02\n",
      "Nt                        12\n"
     ]
    },
    {
     "name": "stderr",
     "output_type": "stream",
     "text": [
      "2024-08-28 23:49:56.669190: W external/xla/xla/tsl/framework/bfc_allocator.cc:482] Allocator (GPU_0_bfc) ran out of memory trying to allocate 517.00MiB (rounded to 542119424)requested by op \n",
      "2024-08-28 23:49:56.670573: W external/xla/xla/tsl/framework/bfc_allocator.cc:494] ***********************************************************************_____________________________\n",
      "E0828 23:49:56.670602  308455 pjrt_stream_executor_client.cc:3067] Execution of replica 0 failed: RESOURCE_EXHAUSTED: Out of memory while trying to allocate 542119424 bytes.\n"
     ]
    },
    {
     "name": "stdout",
     "output_type": "stream",
     "text": [
      "error                     XlaRuntimeError('RESOURCE_EXHAUSTED: Out of memory while trying to allocate 542119424 bytes.')\n",
      "\n",
      "========== TRIAL 438 ==========\n",
      "Nin_virtual               16\n",
      "Nhidden                   80\n",
      "Nlayer                    2\n",
      "K                         50\n",
      "p_flip                    0.02\n",
      "Nt                        16\n"
     ]
    },
    {
     "name": "stderr",
     "output_type": "stream",
     "text": [
      "2024-08-28 23:50:12.741257: W external/xla/xla/tsl/framework/bfc_allocator.cc:482] Allocator (GPU_0_bfc) ran out of memory trying to allocate 687.90MiB (rounded to 721319424)requested by op \n",
      "2024-08-28 23:50:12.743073: W external/xla/xla/tsl/framework/bfc_allocator.cc:494] **********************************************************************_**___________________________\n",
      "E0828 23:50:12.743101  308455 pjrt_stream_executor_client.cc:3067] Execution of replica 0 failed: RESOURCE_EXHAUSTED: Out of memory while trying to allocate 721319424 bytes.\n"
     ]
    },
    {
     "name": "stdout",
     "output_type": "stream",
     "text": [
      "error                     XlaRuntimeError('RESOURCE_EXHAUSTED: Out of memory while trying to allocate 721319424 bytes.')\n",
      "\n",
      "========== TRIAL 439 ==========\n",
      "Nin_virtual               16\n",
      "Nhidden                   80\n",
      "Nlayer                    2\n",
      "K                         50\n",
      "p_flip                    0.04\n",
      "Nt                        8\n",
      "error                     XlaRuntimeError('RESOURCE_EXHAUSTED: Out of memory while trying to allocate 375177216 bytes.')\n",
      "\n",
      "========== TRIAL 440 ==========\n",
      "Nin_virtual               16\n",
      "Nhidden                   80\n",
      "Nlayer                    2\n",
      "K                         50\n",
      "p_flip                    0.04\n",
      "Nt                        12\n"
     ]
    },
    {
     "name": "stderr",
     "output_type": "stream",
     "text": [
      "2024-08-28 23:50:33.568839: W external/xla/xla/tsl/framework/bfc_allocator.cc:482] Allocator (GPU_0_bfc) ran out of memory trying to allocate 517.00MiB (rounded to 542119424)requested by op \n",
      "2024-08-28 23:50:33.570382: W external/xla/xla/tsl/framework/bfc_allocator.cc:494] ***********************************************************************_____________________________\n",
      "E0828 23:50:33.570411  308455 pjrt_stream_executor_client.cc:3067] Execution of replica 0 failed: RESOURCE_EXHAUSTED: Out of memory while trying to allocate 542119424 bytes.\n"
     ]
    },
    {
     "name": "stdout",
     "output_type": "stream",
     "text": [
      "error                     XlaRuntimeError('RESOURCE_EXHAUSTED: Out of memory while trying to allocate 542119424 bytes.')\n",
      "\n",
      "========== TRIAL 441 ==========\n",
      "Nin_virtual               16\n",
      "Nhidden                   80\n",
      "Nlayer                    2\n",
      "K                         50\n",
      "p_flip                    0.04\n",
      "Nt                        16\n"
     ]
    },
    {
     "name": "stderr",
     "output_type": "stream",
     "text": [
      "2024-08-28 23:50:49.589420: W external/xla/xla/tsl/framework/bfc_allocator.cc:482] Allocator (GPU_0_bfc) ran out of memory trying to allocate 687.90MiB (rounded to 721319424)requested by op \n",
      "2024-08-28 23:50:49.591252: W external/xla/xla/tsl/framework/bfc_allocator.cc:494] **********************************************************************_**___________________________\n",
      "E0828 23:50:49.591281  308455 pjrt_stream_executor_client.cc:3067] Execution of replica 0 failed: RESOURCE_EXHAUSTED: Out of memory while trying to allocate 721319424 bytes.\n"
     ]
    },
    {
     "name": "stdout",
     "output_type": "stream",
     "text": [
      "error                     XlaRuntimeError('RESOURCE_EXHAUSTED: Out of memory while trying to allocate 721319424 bytes.')\n",
      "\n",
      "========== TRIAL 442 ==========\n",
      "Nin_virtual               16\n",
      "Nhidden                   80\n",
      "Nlayer                    2\n",
      "K                         100\n",
      "p_flip                    0.0\n",
      "Nt                        8\n",
      "error                     XlaRuntimeError('RESOURCE_EXHAUSTED: Out of memory while trying to allocate 375177216 bytes.')\n",
      "\n",
      "========== TRIAL 443 ==========\n",
      "Nin_virtual               16\n",
      "Nhidden                   80\n",
      "Nlayer                    2\n",
      "K                         100\n",
      "p_flip                    0.0\n",
      "Nt                        12\n"
     ]
    },
    {
     "name": "stderr",
     "output_type": "stream",
     "text": [
      "2024-08-28 23:51:10.761879: W external/xla/xla/tsl/framework/bfc_allocator.cc:482] Allocator (GPU_0_bfc) ran out of memory trying to allocate 517.00MiB (rounded to 542119424)requested by op \n",
      "2024-08-28 23:51:10.763365: W external/xla/xla/tsl/framework/bfc_allocator.cc:494] ***********************************************************************_____________________________\n",
      "E0828 23:51:10.763394  308455 pjrt_stream_executor_client.cc:3067] Execution of replica 0 failed: RESOURCE_EXHAUSTED: Out of memory while trying to allocate 542119424 bytes.\n"
     ]
    },
    {
     "name": "stdout",
     "output_type": "stream",
     "text": [
      "error                     XlaRuntimeError('RESOURCE_EXHAUSTED: Out of memory while trying to allocate 542119424 bytes.')\n",
      "\n",
      "========== TRIAL 444 ==========\n",
      "Nin_virtual               16\n",
      "Nhidden                   80\n",
      "Nlayer                    2\n",
      "K                         100\n",
      "p_flip                    0.0\n",
      "Nt                        16\n"
     ]
    },
    {
     "name": "stderr",
     "output_type": "stream",
     "text": [
      "2024-08-28 23:51:27.223736: W external/xla/xla/tsl/framework/bfc_allocator.cc:482] Allocator (GPU_0_bfc) ran out of memory trying to allocate 687.90MiB (rounded to 721319424)requested by op \n",
      "2024-08-28 23:51:27.225423: W external/xla/xla/tsl/framework/bfc_allocator.cc:494] **********************************************************************_**___________________________\n",
      "E0828 23:51:27.225453  308455 pjrt_stream_executor_client.cc:3067] Execution of replica 0 failed: RESOURCE_EXHAUSTED: Out of memory while trying to allocate 721319424 bytes.\n"
     ]
    },
    {
     "name": "stdout",
     "output_type": "stream",
     "text": [
      "error                     XlaRuntimeError('RESOURCE_EXHAUSTED: Out of memory while trying to allocate 721319424 bytes.')\n",
      "\n",
      "========== TRIAL 445 ==========\n",
      "Nin_virtual               16\n",
      "Nhidden                   80\n",
      "Nlayer                    2\n",
      "K                         100\n",
      "p_flip                    0.02\n",
      "Nt                        8\n",
      "error                     XlaRuntimeError('RESOURCE_EXHAUSTED: Out of memory while trying to allocate 375177216 bytes.')\n",
      "\n",
      "========== TRIAL 446 ==========\n",
      "Nin_virtual               16\n",
      "Nhidden                   80\n",
      "Nlayer                    2\n",
      "K                         100\n",
      "p_flip                    0.02\n",
      "Nt                        12\n"
     ]
    },
    {
     "name": "stderr",
     "output_type": "stream",
     "text": [
      "2024-08-28 23:51:48.019554: W external/xla/xla/tsl/framework/bfc_allocator.cc:482] Allocator (GPU_0_bfc) ran out of memory trying to allocate 517.00MiB (rounded to 542119424)requested by op \n",
      "2024-08-28 23:51:48.021165: W external/xla/xla/tsl/framework/bfc_allocator.cc:494] ***********************************************************************_____________________________\n",
      "E0828 23:51:48.021193  308455 pjrt_stream_executor_client.cc:3067] Execution of replica 0 failed: RESOURCE_EXHAUSTED: Out of memory while trying to allocate 542119424 bytes.\n"
     ]
    },
    {
     "name": "stdout",
     "output_type": "stream",
     "text": [
      "error                     XlaRuntimeError('RESOURCE_EXHAUSTED: Out of memory while trying to allocate 542119424 bytes.')\n",
      "\n",
      "========== TRIAL 447 ==========\n",
      "Nin_virtual               16\n",
      "Nhidden                   80\n",
      "Nlayer                    2\n",
      "K                         100\n",
      "p_flip                    0.02\n",
      "Nt                        16\n"
     ]
    },
    {
     "name": "stderr",
     "output_type": "stream",
     "text": [
      "2024-08-28 23:52:04.085072: W external/xla/xla/tsl/framework/bfc_allocator.cc:482] Allocator (GPU_0_bfc) ran out of memory trying to allocate 687.90MiB (rounded to 721319424)requested by op \n",
      "2024-08-28 23:52:04.086732: W external/xla/xla/tsl/framework/bfc_allocator.cc:494] **********************************************************************_**___________________________\n",
      "E0828 23:52:04.086759  308455 pjrt_stream_executor_client.cc:3067] Execution of replica 0 failed: RESOURCE_EXHAUSTED: Out of memory while trying to allocate 721319424 bytes.\n"
     ]
    },
    {
     "name": "stdout",
     "output_type": "stream",
     "text": [
      "error                     XlaRuntimeError('RESOURCE_EXHAUSTED: Out of memory while trying to allocate 721319424 bytes.')\n",
      "\n",
      "========== TRIAL 448 ==========\n",
      "Nin_virtual               16\n",
      "Nhidden                   80\n",
      "Nlayer                    2\n",
      "K                         100\n",
      "p_flip                    0.04\n",
      "Nt                        8\n",
      "error                     XlaRuntimeError('RESOURCE_EXHAUSTED: Out of memory while trying to allocate 375177216 bytes.')\n",
      "\n",
      "========== TRIAL 449 ==========\n",
      "Nin_virtual               16\n",
      "Nhidden                   80\n",
      "Nlayer                    2\n",
      "K                         100\n",
      "p_flip                    0.04\n",
      "Nt                        12\n"
     ]
    },
    {
     "name": "stderr",
     "output_type": "stream",
     "text": [
      "2024-08-28 23:52:24.891560: W external/xla/xla/tsl/framework/bfc_allocator.cc:482] Allocator (GPU_0_bfc) ran out of memory trying to allocate 517.00MiB (rounded to 542119424)requested by op \n",
      "2024-08-28 23:52:24.892959: W external/xla/xla/tsl/framework/bfc_allocator.cc:494] ***********************************************************************_____________________________\n",
      "E0828 23:52:24.892987  308455 pjrt_stream_executor_client.cc:3067] Execution of replica 0 failed: RESOURCE_EXHAUSTED: Out of memory while trying to allocate 542119424 bytes.\n"
     ]
    },
    {
     "name": "stdout",
     "output_type": "stream",
     "text": [
      "error                     XlaRuntimeError('RESOURCE_EXHAUSTED: Out of memory while trying to allocate 542119424 bytes.')\n",
      "\n",
      "========== TRIAL 450 ==========\n",
      "Nin_virtual               16\n",
      "Nhidden                   80\n",
      "Nlayer                    2\n",
      "K                         100\n",
      "p_flip                    0.04\n",
      "Nt                        16\n"
     ]
    },
    {
     "name": "stderr",
     "output_type": "stream",
     "text": [
      "2024-08-28 23:52:40.970270: W external/xla/xla/tsl/framework/bfc_allocator.cc:482] Allocator (GPU_0_bfc) ran out of memory trying to allocate 687.90MiB (rounded to 721319424)requested by op \n",
      "2024-08-28 23:52:40.971942: W external/xla/xla/tsl/framework/bfc_allocator.cc:494] **********************************************************************_**___________________________\n",
      "E0828 23:52:40.971985  308455 pjrt_stream_executor_client.cc:3067] Execution of replica 0 failed: RESOURCE_EXHAUSTED: Out of memory while trying to allocate 721319424 bytes.\n"
     ]
    },
    {
     "name": "stdout",
     "output_type": "stream",
     "text": [
      "error                     XlaRuntimeError('RESOURCE_EXHAUSTED: Out of memory while trying to allocate 721319424 bytes.')\n",
      "\n",
      "========== TRIAL 451 ==========\n",
      "Nin_virtual               16\n",
      "Nhidden                   80\n",
      "Nlayer                    2\n",
      "K                         150\n",
      "p_flip                    0.0\n",
      "Nt                        8\n",
      "error                     XlaRuntimeError('RESOURCE_EXHAUSTED: Out of memory while trying to allocate 375177216 bytes.')\n",
      "\n",
      "========== TRIAL 452 ==========\n",
      "Nin_virtual               16\n",
      "Nhidden                   80\n",
      "Nlayer                    2\n",
      "K                         150\n",
      "p_flip                    0.0\n",
      "Nt                        12\n"
     ]
    },
    {
     "name": "stderr",
     "output_type": "stream",
     "text": [
      "2024-08-28 23:53:02.197418: W external/xla/xla/tsl/framework/bfc_allocator.cc:482] Allocator (GPU_0_bfc) ran out of memory trying to allocate 517.00MiB (rounded to 542119424)requested by op \n",
      "2024-08-28 23:53:02.198969: W external/xla/xla/tsl/framework/bfc_allocator.cc:494] ***********************************************************************_____________________________\n",
      "E0828 23:53:02.199001  308455 pjrt_stream_executor_client.cc:3067] Execution of replica 0 failed: RESOURCE_EXHAUSTED: Out of memory while trying to allocate 542119424 bytes.\n"
     ]
    },
    {
     "name": "stdout",
     "output_type": "stream",
     "text": [
      "error                     XlaRuntimeError('RESOURCE_EXHAUSTED: Out of memory while trying to allocate 542119424 bytes.')\n",
      "\n",
      "========== TRIAL 453 ==========\n",
      "Nin_virtual               16\n",
      "Nhidden                   80\n",
      "Nlayer                    2\n",
      "K                         150\n",
      "p_flip                    0.0\n",
      "Nt                        16\n"
     ]
    },
    {
     "name": "stderr",
     "output_type": "stream",
     "text": [
      "2024-08-28 23:53:18.671182: W external/xla/xla/tsl/framework/bfc_allocator.cc:482] Allocator (GPU_0_bfc) ran out of memory trying to allocate 687.90MiB (rounded to 721319424)requested by op \n",
      "2024-08-28 23:53:18.673136: W external/xla/xla/tsl/framework/bfc_allocator.cc:494] **********************************************************************_**___________________________\n",
      "E0828 23:53:18.673168  308455 pjrt_stream_executor_client.cc:3067] Execution of replica 0 failed: RESOURCE_EXHAUSTED: Out of memory while trying to allocate 721319424 bytes.\n"
     ]
    },
    {
     "name": "stdout",
     "output_type": "stream",
     "text": [
      "error                     XlaRuntimeError('RESOURCE_EXHAUSTED: Out of memory while trying to allocate 721319424 bytes.')\n",
      "\n",
      "========== TRIAL 454 ==========\n",
      "Nin_virtual               16\n",
      "Nhidden                   80\n",
      "Nlayer                    2\n",
      "K                         150\n",
      "p_flip                    0.02\n",
      "Nt                        8\n",
      "error                     XlaRuntimeError('RESOURCE_EXHAUSTED: Out of memory while trying to allocate 375177216 bytes.')\n",
      "\n",
      "========== TRIAL 455 ==========\n",
      "Nin_virtual               16\n",
      "Nhidden                   80\n",
      "Nlayer                    2\n",
      "K                         150\n",
      "p_flip                    0.02\n",
      "Nt                        12\n"
     ]
    },
    {
     "name": "stderr",
     "output_type": "stream",
     "text": [
      "2024-08-28 23:53:42.779813: W external/xla/xla/tsl/framework/bfc_allocator.cc:482] Allocator (GPU_0_bfc) ran out of memory trying to allocate 517.00MiB (rounded to 542119424)requested by op \n",
      "2024-08-28 23:53:42.781370: W external/xla/xla/tsl/framework/bfc_allocator.cc:494] ***********************************************************************_____________________________\n",
      "E0828 23:53:42.781404  308455 pjrt_stream_executor_client.cc:3067] Execution of replica 0 failed: RESOURCE_EXHAUSTED: Out of memory while trying to allocate 542119424 bytes.\n"
     ]
    },
    {
     "name": "stdout",
     "output_type": "stream",
     "text": [
      "error                     XlaRuntimeError('RESOURCE_EXHAUSTED: Out of memory while trying to allocate 542119424 bytes.')\n",
      "\n",
      "========== TRIAL 456 ==========\n",
      "Nin_virtual               16\n",
      "Nhidden                   80\n",
      "Nlayer                    2\n",
      "K                         150\n",
      "p_flip                    0.02\n",
      "Nt                        16\n"
     ]
    },
    {
     "name": "stderr",
     "output_type": "stream",
     "text": [
      "2024-08-28 23:53:58.838735: W external/xla/xla/tsl/framework/bfc_allocator.cc:482] Allocator (GPU_0_bfc) ran out of memory trying to allocate 687.90MiB (rounded to 721319424)requested by op \n",
      "2024-08-28 23:53:58.840457: W external/xla/xla/tsl/framework/bfc_allocator.cc:494] **********************************************************************_**___________________________\n",
      "E0828 23:53:58.840487  308455 pjrt_stream_executor_client.cc:3067] Execution of replica 0 failed: RESOURCE_EXHAUSTED: Out of memory while trying to allocate 721319424 bytes.\n"
     ]
    },
    {
     "name": "stdout",
     "output_type": "stream",
     "text": [
      "error                     XlaRuntimeError('RESOURCE_EXHAUSTED: Out of memory while trying to allocate 721319424 bytes.')\n",
      "\n",
      "========== TRIAL 457 ==========\n",
      "Nin_virtual               16\n",
      "Nhidden                   80\n",
      "Nlayer                    2\n",
      "K                         150\n",
      "p_flip                    0.04\n",
      "Nt                        8\n",
      "error                     XlaRuntimeError('RESOURCE_EXHAUSTED: Out of memory while trying to allocate 375177216 bytes.')\n",
      "\n",
      "========== TRIAL 458 ==========\n",
      "Nin_virtual               16\n",
      "Nhidden                   80\n",
      "Nlayer                    2\n",
      "K                         150\n",
      "p_flip                    0.04\n",
      "Nt                        12\n"
     ]
    },
    {
     "name": "stderr",
     "output_type": "stream",
     "text": [
      "2024-08-28 23:54:19.680630: W external/xla/xla/tsl/framework/bfc_allocator.cc:482] Allocator (GPU_0_bfc) ran out of memory trying to allocate 517.00MiB (rounded to 542119424)requested by op \n",
      "2024-08-28 23:54:19.682056: W external/xla/xla/tsl/framework/bfc_allocator.cc:494] ***********************************************************************_____________________________\n",
      "E0828 23:54:19.682083  308455 pjrt_stream_executor_client.cc:3067] Execution of replica 0 failed: RESOURCE_EXHAUSTED: Out of memory while trying to allocate 542119424 bytes.\n"
     ]
    },
    {
     "name": "stdout",
     "output_type": "stream",
     "text": [
      "error                     XlaRuntimeError('RESOURCE_EXHAUSTED: Out of memory while trying to allocate 542119424 bytes.')\n",
      "\n",
      "========== TRIAL 459 ==========\n",
      "Nin_virtual               16\n",
      "Nhidden                   80\n",
      "Nlayer                    2\n",
      "K                         150\n",
      "p_flip                    0.04\n",
      "Nt                        16\n"
     ]
    },
    {
     "name": "stderr",
     "output_type": "stream",
     "text": [
      "2024-08-28 23:54:35.750739: W external/xla/xla/tsl/framework/bfc_allocator.cc:482] Allocator (GPU_0_bfc) ran out of memory trying to allocate 687.90MiB (rounded to 721319424)requested by op \n",
      "2024-08-28 23:54:35.752588: W external/xla/xla/tsl/framework/bfc_allocator.cc:494] **********************************************************************_**___________________________\n",
      "E0828 23:54:35.752622  308455 pjrt_stream_executor_client.cc:3067] Execution of replica 0 failed: RESOURCE_EXHAUSTED: Out of memory while trying to allocate 721319424 bytes.\n"
     ]
    },
    {
     "name": "stdout",
     "output_type": "stream",
     "text": [
      "error                     XlaRuntimeError('RESOURCE_EXHAUSTED: Out of memory while trying to allocate 721319424 bytes.')\n",
      "\n",
      "========== TRIAL 460 ==========\n",
      "Nin_virtual               16\n",
      "Nhidden                   80\n",
      "Nlayer                    2\n",
      "K                         200\n",
      "p_flip                    0.0\n",
      "Nt                        8\n",
      "error                     XlaRuntimeError('RESOURCE_EXHAUSTED: Out of memory while trying to allocate 375177216 bytes.')\n",
      "\n",
      "========== TRIAL 461 ==========\n",
      "Nin_virtual               16\n",
      "Nhidden                   80\n",
      "Nlayer                    2\n",
      "K                         200\n",
      "p_flip                    0.0\n",
      "Nt                        12\n"
     ]
    },
    {
     "name": "stderr",
     "output_type": "stream",
     "text": [
      "2024-08-28 23:54:56.971741: W external/xla/xla/tsl/framework/bfc_allocator.cc:482] Allocator (GPU_0_bfc) ran out of memory trying to allocate 517.00MiB (rounded to 542119424)requested by op \n",
      "2024-08-28 23:54:56.973200: W external/xla/xla/tsl/framework/bfc_allocator.cc:494] ***********************************************************************_____________________________\n",
      "E0828 23:54:56.973233  308455 pjrt_stream_executor_client.cc:3067] Execution of replica 0 failed: RESOURCE_EXHAUSTED: Out of memory while trying to allocate 542119424 bytes.\n"
     ]
    },
    {
     "name": "stdout",
     "output_type": "stream",
     "text": [
      "error                     XlaRuntimeError('RESOURCE_EXHAUSTED: Out of memory while trying to allocate 542119424 bytes.')\n",
      "\n",
      "========== TRIAL 462 ==========\n",
      "Nin_virtual               16\n",
      "Nhidden                   80\n",
      "Nlayer                    2\n",
      "K                         200\n",
      "p_flip                    0.0\n",
      "Nt                        16\n"
     ]
    },
    {
     "name": "stderr",
     "output_type": "stream",
     "text": [
      "2024-08-28 23:55:13.502749: W external/xla/xla/tsl/framework/bfc_allocator.cc:482] Allocator (GPU_0_bfc) ran out of memory trying to allocate 687.90MiB (rounded to 721319424)requested by op \n",
      "2024-08-28 23:55:13.504648: W external/xla/xla/tsl/framework/bfc_allocator.cc:494] **********************************************************************_**___________________________\n",
      "E0828 23:55:13.504677  308455 pjrt_stream_executor_client.cc:3067] Execution of replica 0 failed: RESOURCE_EXHAUSTED: Out of memory while trying to allocate 721319424 bytes.\n"
     ]
    },
    {
     "name": "stdout",
     "output_type": "stream",
     "text": [
      "error                     XlaRuntimeError('RESOURCE_EXHAUSTED: Out of memory while trying to allocate 721319424 bytes.')\n",
      "\n",
      "========== TRIAL 463 ==========\n",
      "Nin_virtual               16\n",
      "Nhidden                   80\n",
      "Nlayer                    2\n",
      "K                         200\n",
      "p_flip                    0.02\n",
      "Nt                        8\n",
      "error                     XlaRuntimeError('RESOURCE_EXHAUSTED: Out of memory while trying to allocate 375177216 bytes.')\n",
      "\n",
      "========== TRIAL 464 ==========\n",
      "Nin_virtual               16\n",
      "Nhidden                   80\n",
      "Nlayer                    2\n",
      "K                         200\n",
      "p_flip                    0.02\n",
      "Nt                        12\n"
     ]
    },
    {
     "name": "stderr",
     "output_type": "stream",
     "text": [
      "2024-08-28 23:55:34.325466: W external/xla/xla/tsl/framework/bfc_allocator.cc:482] Allocator (GPU_0_bfc) ran out of memory trying to allocate 517.00MiB (rounded to 542119424)requested by op \n",
      "2024-08-28 23:55:34.327066: W external/xla/xla/tsl/framework/bfc_allocator.cc:494] ***********************************************************************_____________________________\n",
      "E0828 23:55:34.327097  308455 pjrt_stream_executor_client.cc:3067] Execution of replica 0 failed: RESOURCE_EXHAUSTED: Out of memory while trying to allocate 542119424 bytes.\n"
     ]
    },
    {
     "name": "stdout",
     "output_type": "stream",
     "text": [
      "error                     XlaRuntimeError('RESOURCE_EXHAUSTED: Out of memory while trying to allocate 542119424 bytes.')\n",
      "\n",
      "========== TRIAL 465 ==========\n",
      "Nin_virtual               16\n",
      "Nhidden                   80\n",
      "Nlayer                    2\n",
      "K                         200\n",
      "p_flip                    0.02\n",
      "Nt                        16\n"
     ]
    },
    {
     "name": "stderr",
     "output_type": "stream",
     "text": [
      "2024-08-28 23:55:50.471068: W external/xla/xla/tsl/framework/bfc_allocator.cc:482] Allocator (GPU_0_bfc) ran out of memory trying to allocate 687.90MiB (rounded to 721319424)requested by op \n",
      "2024-08-28 23:55:50.472701: W external/xla/xla/tsl/framework/bfc_allocator.cc:494] **********************************************************************_**___________________________\n",
      "E0828 23:55:50.472732  308455 pjrt_stream_executor_client.cc:3067] Execution of replica 0 failed: RESOURCE_EXHAUSTED: Out of memory while trying to allocate 721319424 bytes.\n"
     ]
    },
    {
     "name": "stdout",
     "output_type": "stream",
     "text": [
      "error                     XlaRuntimeError('RESOURCE_EXHAUSTED: Out of memory while trying to allocate 721319424 bytes.')\n",
      "\n",
      "========== TRIAL 466 ==========\n",
      "Nin_virtual               16\n",
      "Nhidden                   80\n",
      "Nlayer                    2\n",
      "K                         200\n",
      "p_flip                    0.04\n",
      "Nt                        8\n",
      "error                     XlaRuntimeError('RESOURCE_EXHAUSTED: Out of memory while trying to allocate 375177216 bytes.')\n",
      "\n",
      "========== TRIAL 467 ==========\n",
      "Nin_virtual               16\n",
      "Nhidden                   80\n",
      "Nlayer                    2\n",
      "K                         200\n",
      "p_flip                    0.04\n",
      "Nt                        12\n"
     ]
    },
    {
     "name": "stderr",
     "output_type": "stream",
     "text": [
      "2024-08-28 23:56:11.343024: W external/xla/xla/tsl/framework/bfc_allocator.cc:482] Allocator (GPU_0_bfc) ran out of memory trying to allocate 517.00MiB (rounded to 542119424)requested by op \n",
      "2024-08-28 23:56:11.344616: W external/xla/xla/tsl/framework/bfc_allocator.cc:494] ***********************************************************************_____________________________\n",
      "E0828 23:56:11.344646  308455 pjrt_stream_executor_client.cc:3067] Execution of replica 0 failed: RESOURCE_EXHAUSTED: Out of memory while trying to allocate 542119424 bytes.\n"
     ]
    },
    {
     "name": "stdout",
     "output_type": "stream",
     "text": [
      "error                     XlaRuntimeError('RESOURCE_EXHAUSTED: Out of memory while trying to allocate 542119424 bytes.')\n",
      "\n",
      "========== TRIAL 468 ==========\n",
      "Nin_virtual               16\n",
      "Nhidden                   80\n",
      "Nlayer                    2\n",
      "K                         200\n",
      "p_flip                    0.04\n",
      "Nt                        16\n"
     ]
    },
    {
     "name": "stderr",
     "output_type": "stream",
     "text": [
      "2024-08-28 23:56:27.387724: W external/xla/xla/tsl/framework/bfc_allocator.cc:482] Allocator (GPU_0_bfc) ran out of memory trying to allocate 687.90MiB (rounded to 721319424)requested by op \n",
      "2024-08-28 23:56:27.389591: W external/xla/xla/tsl/framework/bfc_allocator.cc:494] **********************************************************************_**___________________________\n",
      "E0828 23:56:27.389619  308455 pjrt_stream_executor_client.cc:3067] Execution of replica 0 failed: RESOURCE_EXHAUSTED: Out of memory while trying to allocate 721319424 bytes.\n"
     ]
    },
    {
     "name": "stdout",
     "output_type": "stream",
     "text": [
      "error                     XlaRuntimeError('RESOURCE_EXHAUSTED: Out of memory while trying to allocate 721319424 bytes.')\n",
      "\n",
      "========== TRIAL 469 ==========\n",
      "Nin_virtual               16\n",
      "Nhidden                   80\n",
      "Nlayer                    3\n",
      "K                         50\n",
      "p_flip                    0.0\n",
      "Nt                        8\n",
      "error                     XlaRuntimeError('RESOURCE_EXHAUSTED: Out of memory while trying to allocate 375177216 bytes.')\n",
      "\n",
      "========== TRIAL 470 ==========\n",
      "Nin_virtual               16\n",
      "Nhidden                   80\n",
      "Nlayer                    3\n",
      "K                         50\n",
      "p_flip                    0.0\n",
      "Nt                        12\n"
     ]
    },
    {
     "name": "stderr",
     "output_type": "stream",
     "text": [
      "2024-08-28 23:56:48.632735: W external/xla/xla/tsl/framework/bfc_allocator.cc:482] Allocator (GPU_0_bfc) ran out of memory trying to allocate 517.00MiB (rounded to 542119680)requested by op \n",
      "2024-08-28 23:56:48.634213: W external/xla/xla/tsl/framework/bfc_allocator.cc:494] ***********************************************************************_____________________________\n",
      "E0828 23:56:48.634238  308455 pjrt_stream_executor_client.cc:3067] Execution of replica 0 failed: RESOURCE_EXHAUSTED: Out of memory while trying to allocate 542119680 bytes.\n"
     ]
    },
    {
     "name": "stdout",
     "output_type": "stream",
     "text": [
      "error                     XlaRuntimeError('RESOURCE_EXHAUSTED: Out of memory while trying to allocate 542119680 bytes.')\n",
      "\n",
      "========== TRIAL 471 ==========\n",
      "Nin_virtual               16\n",
      "Nhidden                   80\n",
      "Nlayer                    3\n",
      "K                         50\n",
      "p_flip                    0.0\n",
      "Nt                        16\n"
     ]
    },
    {
     "name": "stderr",
     "output_type": "stream",
     "text": [
      "2024-08-28 23:57:05.118819: W external/xla/xla/tsl/framework/bfc_allocator.cc:482] Allocator (GPU_0_bfc) ran out of memory trying to allocate 687.90MiB (rounded to 721319680)requested by op \n",
      "2024-08-28 23:57:05.120686: W external/xla/xla/tsl/framework/bfc_allocator.cc:494] **********************************************************************_**___________________________\n",
      "E0828 23:57:05.120713  308455 pjrt_stream_executor_client.cc:3067] Execution of replica 0 failed: RESOURCE_EXHAUSTED: Out of memory while trying to allocate 721319680 bytes.\n"
     ]
    },
    {
     "name": "stdout",
     "output_type": "stream",
     "text": [
      "error                     XlaRuntimeError('RESOURCE_EXHAUSTED: Out of memory while trying to allocate 721319680 bytes.')\n",
      "\n",
      "========== TRIAL 472 ==========\n",
      "Nin_virtual               16\n",
      "Nhidden                   80\n",
      "Nlayer                    3\n",
      "K                         50\n",
      "p_flip                    0.02\n",
      "Nt                        8\n",
      "error                     XlaRuntimeError('RESOURCE_EXHAUSTED: Out of memory while trying to allocate 375177216 bytes.')\n",
      "\n",
      "========== TRIAL 473 ==========\n",
      "Nin_virtual               16\n",
      "Nhidden                   80\n",
      "Nlayer                    3\n",
      "K                         50\n",
      "p_flip                    0.02\n",
      "Nt                        12\n"
     ]
    },
    {
     "name": "stderr",
     "output_type": "stream",
     "text": [
      "2024-08-28 23:57:26.026403: W external/xla/xla/tsl/framework/bfc_allocator.cc:482] Allocator (GPU_0_bfc) ran out of memory trying to allocate 517.00MiB (rounded to 542119680)requested by op \n",
      "2024-08-28 23:57:26.028090: W external/xla/xla/tsl/framework/bfc_allocator.cc:494] ***********************************************************************_____________________________\n",
      "E0828 23:57:26.028118  308455 pjrt_stream_executor_client.cc:3067] Execution of replica 0 failed: RESOURCE_EXHAUSTED: Out of memory while trying to allocate 542119680 bytes.\n"
     ]
    },
    {
     "name": "stdout",
     "output_type": "stream",
     "text": [
      "error                     XlaRuntimeError('RESOURCE_EXHAUSTED: Out of memory while trying to allocate 542119680 bytes.')\n",
      "\n",
      "========== TRIAL 474 ==========\n",
      "Nin_virtual               16\n",
      "Nhidden                   80\n",
      "Nlayer                    3\n",
      "K                         50\n",
      "p_flip                    0.02\n",
      "Nt                        16\n"
     ]
    },
    {
     "name": "stderr",
     "output_type": "stream",
     "text": [
      "2024-08-28 23:57:42.129948: W external/xla/xla/tsl/framework/bfc_allocator.cc:482] Allocator (GPU_0_bfc) ran out of memory trying to allocate 687.90MiB (rounded to 721319680)requested by op \n",
      "2024-08-28 23:57:42.131647: W external/xla/xla/tsl/framework/bfc_allocator.cc:494] **********************************************************************_**___________________________\n",
      "E0828 23:57:42.131678  308455 pjrt_stream_executor_client.cc:3067] Execution of replica 0 failed: RESOURCE_EXHAUSTED: Out of memory while trying to allocate 721319680 bytes.\n"
     ]
    },
    {
     "name": "stdout",
     "output_type": "stream",
     "text": [
      "error                     XlaRuntimeError('RESOURCE_EXHAUSTED: Out of memory while trying to allocate 721319680 bytes.')\n",
      "\n",
      "========== TRIAL 475 ==========\n",
      "Nin_virtual               16\n",
      "Nhidden                   80\n",
      "Nlayer                    3\n",
      "K                         50\n",
      "p_flip                    0.04\n",
      "Nt                        8\n",
      "error                     XlaRuntimeError('RESOURCE_EXHAUSTED: Out of memory while trying to allocate 375177216 bytes.')\n",
      "\n",
      "========== TRIAL 476 ==========\n",
      "Nin_virtual               16\n",
      "Nhidden                   80\n",
      "Nlayer                    3\n",
      "K                         50\n",
      "p_flip                    0.04\n",
      "Nt                        12\n"
     ]
    },
    {
     "name": "stderr",
     "output_type": "stream",
     "text": [
      "2024-08-28 23:58:03.004636: W external/xla/xla/tsl/framework/bfc_allocator.cc:482] Allocator (GPU_0_bfc) ran out of memory trying to allocate 517.00MiB (rounded to 542119680)requested by op \n",
      "2024-08-28 23:58:03.006065: W external/xla/xla/tsl/framework/bfc_allocator.cc:494] ***********************************************************************_____________________________\n",
      "E0828 23:58:03.006092  308455 pjrt_stream_executor_client.cc:3067] Execution of replica 0 failed: RESOURCE_EXHAUSTED: Out of memory while trying to allocate 542119680 bytes.\n"
     ]
    },
    {
     "name": "stdout",
     "output_type": "stream",
     "text": [
      "error                     XlaRuntimeError('RESOURCE_EXHAUSTED: Out of memory while trying to allocate 542119680 bytes.')\n",
      "\n",
      "========== TRIAL 477 ==========\n",
      "Nin_virtual               16\n",
      "Nhidden                   80\n",
      "Nlayer                    3\n",
      "K                         50\n",
      "p_flip                    0.04\n",
      "Nt                        16\n"
     ]
    },
    {
     "name": "stderr",
     "output_type": "stream",
     "text": [
      "2024-08-28 23:58:19.115202: W external/xla/xla/tsl/framework/bfc_allocator.cc:482] Allocator (GPU_0_bfc) ran out of memory trying to allocate 687.90MiB (rounded to 721319680)requested by op \n",
      "2024-08-28 23:58:19.117670: W external/xla/xla/tsl/framework/bfc_allocator.cc:494] **********************************************************************_**___________________________\n",
      "E0828 23:58:19.117713  308455 pjrt_stream_executor_client.cc:3067] Execution of replica 0 failed: RESOURCE_EXHAUSTED: Out of memory while trying to allocate 721319680 bytes.\n"
     ]
    },
    {
     "name": "stdout",
     "output_type": "stream",
     "text": [
      "error                     XlaRuntimeError('RESOURCE_EXHAUSTED: Out of memory while trying to allocate 721319680 bytes.')\n",
      "\n",
      "========== TRIAL 478 ==========\n",
      "Nin_virtual               16\n",
      "Nhidden                   80\n",
      "Nlayer                    3\n",
      "K                         100\n",
      "p_flip                    0.0\n",
      "Nt                        8\n",
      "error                     XlaRuntimeError('RESOURCE_EXHAUSTED: Out of memory while trying to allocate 375177216 bytes.')\n",
      "\n",
      "========== TRIAL 479 ==========\n",
      "Nin_virtual               16\n",
      "Nhidden                   80\n",
      "Nlayer                    3\n",
      "K                         100\n",
      "p_flip                    0.0\n",
      "Nt                        12\n"
     ]
    },
    {
     "name": "stderr",
     "output_type": "stream",
     "text": [
      "2024-08-28 23:58:40.318243: W external/xla/xla/tsl/framework/bfc_allocator.cc:482] Allocator (GPU_0_bfc) ran out of memory trying to allocate 517.00MiB (rounded to 542119680)requested by op \n",
      "2024-08-28 23:58:40.319855: W external/xla/xla/tsl/framework/bfc_allocator.cc:494] ***********************************************************************_____________________________\n",
      "E0828 23:58:40.319882  308455 pjrt_stream_executor_client.cc:3067] Execution of replica 0 failed: RESOURCE_EXHAUSTED: Out of memory while trying to allocate 542119680 bytes.\n"
     ]
    },
    {
     "name": "stdout",
     "output_type": "stream",
     "text": [
      "error                     XlaRuntimeError('RESOURCE_EXHAUSTED: Out of memory while trying to allocate 542119680 bytes.')\n",
      "\n",
      "========== TRIAL 480 ==========\n",
      "Nin_virtual               16\n",
      "Nhidden                   80\n",
      "Nlayer                    3\n",
      "K                         100\n",
      "p_flip                    0.0\n",
      "Nt                        16\n"
     ]
    },
    {
     "name": "stderr",
     "output_type": "stream",
     "text": [
      "2024-08-28 23:58:56.862881: W external/xla/xla/tsl/framework/bfc_allocator.cc:482] Allocator (GPU_0_bfc) ran out of memory trying to allocate 687.90MiB (rounded to 721319680)requested by op \n",
      "2024-08-28 23:58:56.864815: W external/xla/xla/tsl/framework/bfc_allocator.cc:494] **********************************************************************_**___________________________\n",
      "E0828 23:58:56.864843  308455 pjrt_stream_executor_client.cc:3067] Execution of replica 0 failed: RESOURCE_EXHAUSTED: Out of memory while trying to allocate 721319680 bytes.\n"
     ]
    },
    {
     "name": "stdout",
     "output_type": "stream",
     "text": [
      "error                     XlaRuntimeError('RESOURCE_EXHAUSTED: Out of memory while trying to allocate 721319680 bytes.')\n",
      "\n",
      "========== TRIAL 481 ==========\n",
      "Nin_virtual               16\n",
      "Nhidden                   80\n",
      "Nlayer                    3\n",
      "K                         100\n",
      "p_flip                    0.02\n",
      "Nt                        8\n",
      "error                     XlaRuntimeError('RESOURCE_EXHAUSTED: Out of memory while trying to allocate 375177216 bytes.')\n",
      "\n",
      "========== TRIAL 482 ==========\n",
      "Nin_virtual               16\n",
      "Nhidden                   80\n",
      "Nlayer                    3\n",
      "K                         100\n",
      "p_flip                    0.02\n",
      "Nt                        12\n"
     ]
    },
    {
     "name": "stderr",
     "output_type": "stream",
     "text": [
      "2024-08-28 23:59:17.768280: W external/xla/xla/tsl/framework/bfc_allocator.cc:482] Allocator (GPU_0_bfc) ran out of memory trying to allocate 517.00MiB (rounded to 542119680)requested by op \n",
      "2024-08-28 23:59:17.769790: W external/xla/xla/tsl/framework/bfc_allocator.cc:494] ***********************************************************************_____________________________\n",
      "E0828 23:59:17.769817  308455 pjrt_stream_executor_client.cc:3067] Execution of replica 0 failed: RESOURCE_EXHAUSTED: Out of memory while trying to allocate 542119680 bytes.\n"
     ]
    },
    {
     "name": "stdout",
     "output_type": "stream",
     "text": [
      "error                     XlaRuntimeError('RESOURCE_EXHAUSTED: Out of memory while trying to allocate 542119680 bytes.')\n",
      "\n",
      "========== TRIAL 483 ==========\n",
      "Nin_virtual               16\n",
      "Nhidden                   80\n",
      "Nlayer                    3\n",
      "K                         100\n",
      "p_flip                    0.02\n",
      "Nt                        16\n"
     ]
    },
    {
     "name": "stderr",
     "output_type": "stream",
     "text": [
      "2024-08-28 23:59:33.864382: W external/xla/xla/tsl/framework/bfc_allocator.cc:482] Allocator (GPU_0_bfc) ran out of memory trying to allocate 687.90MiB (rounded to 721319680)requested by op \n",
      "2024-08-28 23:59:33.866061: W external/xla/xla/tsl/framework/bfc_allocator.cc:494] **********************************************************************_**___________________________\n",
      "E0828 23:59:33.866091  308455 pjrt_stream_executor_client.cc:3067] Execution of replica 0 failed: RESOURCE_EXHAUSTED: Out of memory while trying to allocate 721319680 bytes.\n"
     ]
    },
    {
     "name": "stdout",
     "output_type": "stream",
     "text": [
      "error                     XlaRuntimeError('RESOURCE_EXHAUSTED: Out of memory while trying to allocate 721319680 bytes.')\n",
      "\n",
      "========== TRIAL 484 ==========\n",
      "Nin_virtual               16\n",
      "Nhidden                   80\n",
      "Nlayer                    3\n",
      "K                         100\n",
      "p_flip                    0.04\n",
      "Nt                        8\n",
      "error                     XlaRuntimeError('RESOURCE_EXHAUSTED: Out of memory while trying to allocate 375177216 bytes.')\n",
      "\n",
      "========== TRIAL 485 ==========\n",
      "Nin_virtual               16\n",
      "Nhidden                   80\n",
      "Nlayer                    3\n",
      "K                         100\n",
      "p_flip                    0.04\n",
      "Nt                        12\n"
     ]
    },
    {
     "name": "stderr",
     "output_type": "stream",
     "text": [
      "2024-08-28 23:59:57.937634: W external/xla/xla/tsl/framework/bfc_allocator.cc:482] Allocator (GPU_0_bfc) ran out of memory trying to allocate 517.00MiB (rounded to 542119680)requested by op \n",
      "2024-08-28 23:59:57.939205: W external/xla/xla/tsl/framework/bfc_allocator.cc:494] ***********************************************************************_____________________________\n",
      "E0828 23:59:57.939230  308455 pjrt_stream_executor_client.cc:3067] Execution of replica 0 failed: RESOURCE_EXHAUSTED: Out of memory while trying to allocate 542119680 bytes.\n"
     ]
    },
    {
     "name": "stdout",
     "output_type": "stream",
     "text": [
      "error                     XlaRuntimeError('RESOURCE_EXHAUSTED: Out of memory while trying to allocate 542119680 bytes.')\n",
      "\n",
      "========== TRIAL 486 ==========\n",
      "Nin_virtual               16\n",
      "Nhidden                   80\n",
      "Nlayer                    3\n",
      "K                         100\n",
      "p_flip                    0.04\n",
      "Nt                        16\n"
     ]
    },
    {
     "name": "stderr",
     "output_type": "stream",
     "text": [
      "2024-08-29 00:00:14.071527: W external/xla/xla/tsl/framework/bfc_allocator.cc:482] Allocator (GPU_0_bfc) ran out of memory trying to allocate 687.90MiB (rounded to 721319680)requested by op \n",
      "2024-08-29 00:00:14.073384: W external/xla/xla/tsl/framework/bfc_allocator.cc:494] **********************************************************************_**___________________________\n",
      "E0829 00:00:14.073412  308455 pjrt_stream_executor_client.cc:3067] Execution of replica 0 failed: RESOURCE_EXHAUSTED: Out of memory while trying to allocate 721319680 bytes.\n"
     ]
    },
    {
     "name": "stdout",
     "output_type": "stream",
     "text": [
      "error                     XlaRuntimeError('RESOURCE_EXHAUSTED: Out of memory while trying to allocate 721319680 bytes.')\n",
      "\n",
      "========== TRIAL 487 ==========\n",
      "Nin_virtual               16\n",
      "Nhidden                   80\n",
      "Nlayer                    3\n",
      "K                         150\n",
      "p_flip                    0.0\n",
      "Nt                        8\n",
      "error                     XlaRuntimeError('RESOURCE_EXHAUSTED: Out of memory while trying to allocate 375177216 bytes.')\n",
      "\n",
      "========== TRIAL 488 ==========\n",
      "Nin_virtual               16\n",
      "Nhidden                   80\n",
      "Nlayer                    3\n",
      "K                         150\n",
      "p_flip                    0.0\n",
      "Nt                        12\n"
     ]
    },
    {
     "name": "stderr",
     "output_type": "stream",
     "text": [
      "2024-08-29 00:00:35.299935: W external/xla/xla/tsl/framework/bfc_allocator.cc:482] Allocator (GPU_0_bfc) ran out of memory trying to allocate 517.00MiB (rounded to 542119680)requested by op \n",
      "2024-08-29 00:00:35.301522: W external/xla/xla/tsl/framework/bfc_allocator.cc:494] ***********************************************************************_____________________________\n",
      "E0829 00:00:35.301549  308455 pjrt_stream_executor_client.cc:3067] Execution of replica 0 failed: RESOURCE_EXHAUSTED: Out of memory while trying to allocate 542119680 bytes.\n"
     ]
    },
    {
     "name": "stdout",
     "output_type": "stream",
     "text": [
      "error                     XlaRuntimeError('RESOURCE_EXHAUSTED: Out of memory while trying to allocate 542119680 bytes.')\n",
      "\n",
      "========== TRIAL 489 ==========\n",
      "Nin_virtual               16\n",
      "Nhidden                   80\n",
      "Nlayer                    3\n",
      "K                         150\n",
      "p_flip                    0.0\n",
      "Nt                        16\n"
     ]
    },
    {
     "name": "stderr",
     "output_type": "stream",
     "text": [
      "2024-08-29 00:00:51.862089: W external/xla/xla/tsl/framework/bfc_allocator.cc:482] Allocator (GPU_0_bfc) ran out of memory trying to allocate 687.90MiB (rounded to 721319680)requested by op \n",
      "2024-08-29 00:00:51.863828: W external/xla/xla/tsl/framework/bfc_allocator.cc:494] **********************************************************************_**___________________________\n",
      "E0829 00:00:51.863859  308455 pjrt_stream_executor_client.cc:3067] Execution of replica 0 failed: RESOURCE_EXHAUSTED: Out of memory while trying to allocate 721319680 bytes.\n"
     ]
    },
    {
     "name": "stdout",
     "output_type": "stream",
     "text": [
      "error                     XlaRuntimeError('RESOURCE_EXHAUSTED: Out of memory while trying to allocate 721319680 bytes.')\n",
      "\n",
      "========== TRIAL 490 ==========\n",
      "Nin_virtual               16\n",
      "Nhidden                   80\n",
      "Nlayer                    3\n",
      "K                         150\n",
      "p_flip                    0.02\n",
      "Nt                        8\n",
      "error                     XlaRuntimeError('RESOURCE_EXHAUSTED: Out of memory while trying to allocate 375177216 bytes.')\n",
      "\n",
      "========== TRIAL 491 ==========\n",
      "Nin_virtual               16\n",
      "Nhidden                   80\n",
      "Nlayer                    3\n",
      "K                         150\n",
      "p_flip                    0.02\n",
      "Nt                        12\n"
     ]
    },
    {
     "name": "stderr",
     "output_type": "stream",
     "text": [
      "2024-08-29 00:01:12.822533: W external/xla/xla/tsl/framework/bfc_allocator.cc:482] Allocator (GPU_0_bfc) ran out of memory trying to allocate 517.00MiB (rounded to 542119680)requested by op \n",
      "2024-08-29 00:01:12.824149: W external/xla/xla/tsl/framework/bfc_allocator.cc:494] ***********************************************************************_____________________________\n",
      "E0829 00:01:12.824173  308455 pjrt_stream_executor_client.cc:3067] Execution of replica 0 failed: RESOURCE_EXHAUSTED: Out of memory while trying to allocate 542119680 bytes.\n"
     ]
    },
    {
     "name": "stdout",
     "output_type": "stream",
     "text": [
      "error                     XlaRuntimeError('RESOURCE_EXHAUSTED: Out of memory while trying to allocate 542119680 bytes.')\n",
      "\n",
      "========== TRIAL 492 ==========\n",
      "Nin_virtual               16\n",
      "Nhidden                   80\n",
      "Nlayer                    3\n",
      "K                         150\n",
      "p_flip                    0.02\n",
      "Nt                        16\n"
     ]
    },
    {
     "name": "stderr",
     "output_type": "stream",
     "text": [
      "2024-08-29 00:01:28.927461: W external/xla/xla/tsl/framework/bfc_allocator.cc:482] Allocator (GPU_0_bfc) ran out of memory trying to allocate 687.90MiB (rounded to 721319680)requested by op \n",
      "2024-08-29 00:01:28.929303: W external/xla/xla/tsl/framework/bfc_allocator.cc:494] **********************************************************************_**___________________________\n",
      "E0829 00:01:28.929332  308455 pjrt_stream_executor_client.cc:3067] Execution of replica 0 failed: RESOURCE_EXHAUSTED: Out of memory while trying to allocate 721319680 bytes.\n"
     ]
    },
    {
     "name": "stdout",
     "output_type": "stream",
     "text": [
      "error                     XlaRuntimeError('RESOURCE_EXHAUSTED: Out of memory while trying to allocate 721319680 bytes.')\n",
      "\n",
      "========== TRIAL 493 ==========\n",
      "Nin_virtual               16\n",
      "Nhidden                   80\n",
      "Nlayer                    3\n",
      "K                         150\n",
      "p_flip                    0.04\n",
      "Nt                        8\n",
      "error                     XlaRuntimeError('RESOURCE_EXHAUSTED: Out of memory while trying to allocate 375177216 bytes.')\n",
      "\n",
      "========== TRIAL 494 ==========\n",
      "Nin_virtual               16\n",
      "Nhidden                   80\n",
      "Nlayer                    3\n",
      "K                         150\n",
      "p_flip                    0.04\n",
      "Nt                        12\n"
     ]
    },
    {
     "name": "stderr",
     "output_type": "stream",
     "text": [
      "2024-08-29 00:01:49.755102: W external/xla/xla/tsl/framework/bfc_allocator.cc:482] Allocator (GPU_0_bfc) ran out of memory trying to allocate 517.00MiB (rounded to 542119680)requested by op \n",
      "2024-08-29 00:01:49.756651: W external/xla/xla/tsl/framework/bfc_allocator.cc:494] ***********************************************************************_____________________________\n",
      "E0829 00:01:49.756679  308455 pjrt_stream_executor_client.cc:3067] Execution of replica 0 failed: RESOURCE_EXHAUSTED: Out of memory while trying to allocate 542119680 bytes.\n"
     ]
    },
    {
     "name": "stdout",
     "output_type": "stream",
     "text": [
      "error                     XlaRuntimeError('RESOURCE_EXHAUSTED: Out of memory while trying to allocate 542119680 bytes.')\n",
      "\n",
      "========== TRIAL 495 ==========\n",
      "Nin_virtual               16\n",
      "Nhidden                   80\n",
      "Nlayer                    3\n",
      "K                         150\n",
      "p_flip                    0.04\n",
      "Nt                        16\n"
     ]
    },
    {
     "name": "stderr",
     "output_type": "stream",
     "text": [
      "2024-08-29 00:02:05.861183: W external/xla/xla/tsl/framework/bfc_allocator.cc:482] Allocator (GPU_0_bfc) ran out of memory trying to allocate 687.90MiB (rounded to 721319680)requested by op \n",
      "2024-08-29 00:02:05.862922: W external/xla/xla/tsl/framework/bfc_allocator.cc:494] **********************************************************************_**___________________________\n",
      "E0829 00:02:05.862954  308455 pjrt_stream_executor_client.cc:3067] Execution of replica 0 failed: RESOURCE_EXHAUSTED: Out of memory while trying to allocate 721319680 bytes.\n"
     ]
    },
    {
     "name": "stdout",
     "output_type": "stream",
     "text": [
      "error                     XlaRuntimeError('RESOURCE_EXHAUSTED: Out of memory while trying to allocate 721319680 bytes.')\n",
      "\n",
      "========== TRIAL 496 ==========\n",
      "Nin_virtual               16\n",
      "Nhidden                   80\n",
      "Nlayer                    3\n",
      "K                         200\n",
      "p_flip                    0.0\n",
      "Nt                        8\n",
      "error                     XlaRuntimeError('RESOURCE_EXHAUSTED: Out of memory while trying to allocate 375177216 bytes.')\n",
      "\n",
      "========== TRIAL 497 ==========\n",
      "Nin_virtual               16\n",
      "Nhidden                   80\n",
      "Nlayer                    3\n",
      "K                         200\n",
      "p_flip                    0.0\n",
      "Nt                        12\n"
     ]
    },
    {
     "name": "stderr",
     "output_type": "stream",
     "text": [
      "2024-08-29 00:02:27.231296: W external/xla/xla/tsl/framework/bfc_allocator.cc:482] Allocator (GPU_0_bfc) ran out of memory trying to allocate 517.00MiB (rounded to 542119680)requested by op \n",
      "2024-08-29 00:02:27.232986: W external/xla/xla/tsl/framework/bfc_allocator.cc:494] ***********************************************************************_____________________________\n",
      "E0829 00:02:27.233019  308455 pjrt_stream_executor_client.cc:3067] Execution of replica 0 failed: RESOURCE_EXHAUSTED: Out of memory while trying to allocate 542119680 bytes.\n"
     ]
    },
    {
     "name": "stdout",
     "output_type": "stream",
     "text": [
      "error                     XlaRuntimeError('RESOURCE_EXHAUSTED: Out of memory while trying to allocate 542119680 bytes.')\n",
      "\n",
      "========== TRIAL 498 ==========\n",
      "Nin_virtual               16\n",
      "Nhidden                   80\n",
      "Nlayer                    3\n",
      "K                         200\n",
      "p_flip                    0.0\n",
      "Nt                        16\n"
     ]
    },
    {
     "name": "stderr",
     "output_type": "stream",
     "text": [
      "2024-08-29 00:02:43.790173: W external/xla/xla/tsl/framework/bfc_allocator.cc:482] Allocator (GPU_0_bfc) ran out of memory trying to allocate 687.90MiB (rounded to 721319680)requested by op \n",
      "2024-08-29 00:02:43.792306: W external/xla/xla/tsl/framework/bfc_allocator.cc:494] **********************************************************************_**___________________________\n",
      "E0829 00:02:43.792344  308455 pjrt_stream_executor_client.cc:3067] Execution of replica 0 failed: RESOURCE_EXHAUSTED: Out of memory while trying to allocate 721319680 bytes.\n"
     ]
    },
    {
     "name": "stdout",
     "output_type": "stream",
     "text": [
      "error                     XlaRuntimeError('RESOURCE_EXHAUSTED: Out of memory while trying to allocate 721319680 bytes.')\n",
      "\n",
      "========== TRIAL 499 ==========\n",
      "Nin_virtual               16\n",
      "Nhidden                   80\n",
      "Nlayer                    3\n",
      "K                         200\n",
      "p_flip                    0.02\n",
      "Nt                        8\n",
      "error                     XlaRuntimeError('RESOURCE_EXHAUSTED: Out of memory while trying to allocate 375177216 bytes.')\n",
      "\n",
      "========== TRIAL 500 ==========\n",
      "Nin_virtual               16\n",
      "Nhidden                   80\n",
      "Nlayer                    3\n",
      "K                         200\n",
      "p_flip                    0.02\n",
      "Nt                        12\n"
     ]
    },
    {
     "name": "stderr",
     "output_type": "stream",
     "text": [
      "2024-08-29 00:03:04.703695: W external/xla/xla/tsl/framework/bfc_allocator.cc:482] Allocator (GPU_0_bfc) ran out of memory trying to allocate 517.00MiB (rounded to 542119680)requested by op \n",
      "2024-08-29 00:03:04.705501: W external/xla/xla/tsl/framework/bfc_allocator.cc:494] ***********************************************************************_____________________________\n",
      "E0829 00:03:04.705536  308455 pjrt_stream_executor_client.cc:3067] Execution of replica 0 failed: RESOURCE_EXHAUSTED: Out of memory while trying to allocate 542119680 bytes.\n"
     ]
    },
    {
     "name": "stdout",
     "output_type": "stream",
     "text": [
      "error                     XlaRuntimeError('RESOURCE_EXHAUSTED: Out of memory while trying to allocate 542119680 bytes.')\n",
      "\n",
      "========== TRIAL 501 ==========\n",
      "Nin_virtual               16\n",
      "Nhidden                   80\n",
      "Nlayer                    3\n",
      "K                         200\n",
      "p_flip                    0.02\n",
      "Nt                        16\n"
     ]
    },
    {
     "name": "stderr",
     "output_type": "stream",
     "text": [
      "2024-08-29 00:03:20.880230: W external/xla/xla/tsl/framework/bfc_allocator.cc:482] Allocator (GPU_0_bfc) ran out of memory trying to allocate 687.90MiB (rounded to 721319680)requested by op \n",
      "2024-08-29 00:03:20.882033: W external/xla/xla/tsl/framework/bfc_allocator.cc:494] **********************************************************************_**___________________________\n",
      "E0829 00:03:20.882061  308455 pjrt_stream_executor_client.cc:3067] Execution of replica 0 failed: RESOURCE_EXHAUSTED: Out of memory while trying to allocate 721319680 bytes.\n"
     ]
    },
    {
     "name": "stdout",
     "output_type": "stream",
     "text": [
      "error                     XlaRuntimeError('RESOURCE_EXHAUSTED: Out of memory while trying to allocate 721319680 bytes.')\n",
      "\n",
      "========== TRIAL 502 ==========\n",
      "Nin_virtual               16\n",
      "Nhidden                   80\n",
      "Nlayer                    3\n",
      "K                         200\n",
      "p_flip                    0.04\n",
      "Nt                        8\n",
      "error                     XlaRuntimeError('RESOURCE_EXHAUSTED: Out of memory while trying to allocate 375177216 bytes.')\n",
      "\n",
      "========== TRIAL 503 ==========\n",
      "Nin_virtual               16\n",
      "Nhidden                   80\n",
      "Nlayer                    3\n",
      "K                         200\n",
      "p_flip                    0.04\n",
      "Nt                        12\n"
     ]
    },
    {
     "name": "stderr",
     "output_type": "stream",
     "text": [
      "2024-08-29 00:03:41.751526: W external/xla/xla/tsl/framework/bfc_allocator.cc:482] Allocator (GPU_0_bfc) ran out of memory trying to allocate 517.00MiB (rounded to 542119680)requested by op \n",
      "2024-08-29 00:03:41.753251: W external/xla/xla/tsl/framework/bfc_allocator.cc:494] ***********************************************************************_____________________________\n",
      "E0829 00:03:41.753279  308455 pjrt_stream_executor_client.cc:3067] Execution of replica 0 failed: RESOURCE_EXHAUSTED: Out of memory while trying to allocate 542119680 bytes.\n"
     ]
    },
    {
     "name": "stdout",
     "output_type": "stream",
     "text": [
      "error                     XlaRuntimeError('RESOURCE_EXHAUSTED: Out of memory while trying to allocate 542119680 bytes.')\n",
      "\n",
      "========== TRIAL 504 ==========\n",
      "Nin_virtual               16\n",
      "Nhidden                   80\n",
      "Nlayer                    3\n",
      "K                         200\n",
      "p_flip                    0.04\n",
      "Nt                        16\n"
     ]
    },
    {
     "name": "stderr",
     "output_type": "stream",
     "text": [
      "2024-08-29 00:03:57.893966: W external/xla/xla/tsl/framework/bfc_allocator.cc:482] Allocator (GPU_0_bfc) ran out of memory trying to allocate 687.90MiB (rounded to 721319680)requested by op \n",
      "2024-08-29 00:03:57.895301: W external/xla/xla/tsl/framework/bfc_allocator.cc:494] **********************************************************************_**___________________________\n",
      "E0829 00:03:57.895333  308455 pjrt_stream_executor_client.cc:3067] Execution of replica 0 failed: RESOURCE_EXHAUSTED: Out of memory while trying to allocate 721319680 bytes.\n"
     ]
    },
    {
     "name": "stdout",
     "output_type": "stream",
     "text": [
      "error                     XlaRuntimeError('RESOURCE_EXHAUSTED: Out of memory while trying to allocate 721319680 bytes.')\n",
      "\n",
      "========== TRIAL 505 ==========\n",
      "Nin_virtual               16\n",
      "Nhidden                   100\n",
      "Nlayer                    2\n",
      "K                         50\n",
      "p_flip                    0.0\n",
      "Nt                        8\n",
      "error                     XlaRuntimeError('RESOURCE_EXHAUSTED: Out of memory while trying to allocate 375177216 bytes.')\n",
      "\n",
      "========== TRIAL 506 ==========\n",
      "Nin_virtual               16\n",
      "Nhidden                   100\n",
      "Nlayer                    2\n",
      "K                         50\n",
      "p_flip                    0.0\n",
      "Nt                        12\n"
     ]
    },
    {
     "name": "stderr",
     "output_type": "stream",
     "text": [
      "2024-08-29 00:04:19.074580: W external/xla/xla/tsl/framework/bfc_allocator.cc:482] Allocator (GPU_0_bfc) ran out of memory trying to allocate 517.08MiB (rounded to 542199552)requested by op \n",
      "2024-08-29 00:04:19.076351: W external/xla/xla/tsl/framework/bfc_allocator.cc:494] ************************************************************************____________________________\n",
      "E0829 00:04:19.076378  308455 pjrt_stream_executor_client.cc:3067] Execution of replica 0 failed: RESOURCE_EXHAUSTED: Out of memory while trying to allocate 542199424 bytes.\n"
     ]
    },
    {
     "name": "stdout",
     "output_type": "stream",
     "text": [
      "error                     XlaRuntimeError('RESOURCE_EXHAUSTED: Out of memory while trying to allocate 542199424 bytes.')\n",
      "\n",
      "========== TRIAL 507 ==========\n",
      "Nin_virtual               16\n",
      "Nhidden                   100\n",
      "Nlayer                    2\n",
      "K                         50\n",
      "p_flip                    0.0\n",
      "Nt                        16\n"
     ]
    },
    {
     "name": "stderr",
     "output_type": "stream",
     "text": [
      "2024-08-29 00:04:35.545363: W external/xla/xla/tsl/framework/bfc_allocator.cc:482] Allocator (GPU_0_bfc) ran out of memory trying to allocate 687.98MiB (rounded to 721399552)requested by op \n",
      "2024-08-29 00:04:35.547319: W external/xla/xla/tsl/framework/bfc_allocator.cc:494] *************************************************************************___________________________\n",
      "E0829 00:04:35.547347  308455 pjrt_stream_executor_client.cc:3067] Execution of replica 0 failed: RESOURCE_EXHAUSTED: Out of memory while trying to allocate 721399424 bytes.\n"
     ]
    },
    {
     "name": "stdout",
     "output_type": "stream",
     "text": [
      "error                     XlaRuntimeError('RESOURCE_EXHAUSTED: Out of memory while trying to allocate 721399424 bytes.')\n",
      "\n",
      "========== TRIAL 508 ==========\n",
      "Nin_virtual               16\n",
      "Nhidden                   100\n",
      "Nlayer                    2\n",
      "K                         50\n",
      "p_flip                    0.02\n",
      "Nt                        8\n",
      "error                     XlaRuntimeError('RESOURCE_EXHAUSTED: Out of memory while trying to allocate 375177216 bytes.')\n",
      "\n",
      "========== TRIAL 509 ==========\n",
      "Nin_virtual               16\n",
      "Nhidden                   100\n",
      "Nlayer                    2\n",
      "K                         50\n",
      "p_flip                    0.02\n",
      "Nt                        12\n"
     ]
    },
    {
     "name": "stderr",
     "output_type": "stream",
     "text": [
      "2024-08-29 00:04:56.373827: W external/xla/xla/tsl/framework/bfc_allocator.cc:482] Allocator (GPU_0_bfc) ran out of memory trying to allocate 517.08MiB (rounded to 542199552)requested by op \n",
      "2024-08-29 00:04:56.375595: W external/xla/xla/tsl/framework/bfc_allocator.cc:494] ************************************************************************____________________________\n",
      "E0829 00:04:56.375626  308455 pjrt_stream_executor_client.cc:3067] Execution of replica 0 failed: RESOURCE_EXHAUSTED: Out of memory while trying to allocate 542199424 bytes.\n"
     ]
    },
    {
     "name": "stdout",
     "output_type": "stream",
     "text": [
      "error                     XlaRuntimeError('RESOURCE_EXHAUSTED: Out of memory while trying to allocate 542199424 bytes.')\n",
      "\n",
      "========== TRIAL 510 ==========\n",
      "Nin_virtual               16\n",
      "Nhidden                   100\n",
      "Nlayer                    2\n",
      "K                         50\n",
      "p_flip                    0.02\n",
      "Nt                        16\n"
     ]
    },
    {
     "name": "stderr",
     "output_type": "stream",
     "text": [
      "2024-08-29 00:05:12.516549: W external/xla/xla/tsl/framework/bfc_allocator.cc:482] Allocator (GPU_0_bfc) ran out of memory trying to allocate 687.98MiB (rounded to 721399552)requested by op \n",
      "2024-08-29 00:05:12.518325: W external/xla/xla/tsl/framework/bfc_allocator.cc:494] *************************************************************************___________________________\n",
      "E0829 00:05:12.518352  308455 pjrt_stream_executor_client.cc:3067] Execution of replica 0 failed: RESOURCE_EXHAUSTED: Out of memory while trying to allocate 721399424 bytes.\n"
     ]
    },
    {
     "name": "stdout",
     "output_type": "stream",
     "text": [
      "error                     XlaRuntimeError('RESOURCE_EXHAUSTED: Out of memory while trying to allocate 721399424 bytes.')\n",
      "\n",
      "========== TRIAL 511 ==========\n",
      "Nin_virtual               16\n",
      "Nhidden                   100\n",
      "Nlayer                    2\n",
      "K                         50\n",
      "p_flip                    0.04\n",
      "Nt                        8\n",
      "error                     XlaRuntimeError('RESOURCE_EXHAUSTED: Out of memory while trying to allocate 375177216 bytes.')\n",
      "\n",
      "========== TRIAL 512 ==========\n",
      "Nin_virtual               16\n",
      "Nhidden                   100\n",
      "Nlayer                    2\n",
      "K                         50\n",
      "p_flip                    0.04\n",
      "Nt                        12\n"
     ]
    },
    {
     "name": "stderr",
     "output_type": "stream",
     "text": [
      "2024-08-29 00:05:33.256326: W external/xla/xla/tsl/framework/bfc_allocator.cc:482] Allocator (GPU_0_bfc) ran out of memory trying to allocate 517.08MiB (rounded to 542199552)requested by op \n",
      "2024-08-29 00:05:33.258095: W external/xla/xla/tsl/framework/bfc_allocator.cc:494] ************************************************************************____________________________\n",
      "E0829 00:05:33.258124  308455 pjrt_stream_executor_client.cc:3067] Execution of replica 0 failed: RESOURCE_EXHAUSTED: Out of memory while trying to allocate 542199424 bytes.\n"
     ]
    },
    {
     "name": "stdout",
     "output_type": "stream",
     "text": [
      "error                     XlaRuntimeError('RESOURCE_EXHAUSTED: Out of memory while trying to allocate 542199424 bytes.')\n",
      "\n",
      "========== TRIAL 513 ==========\n",
      "Nin_virtual               16\n",
      "Nhidden                   100\n",
      "Nlayer                    2\n",
      "K                         50\n",
      "p_flip                    0.04\n",
      "Nt                        16\n"
     ]
    },
    {
     "name": "stderr",
     "output_type": "stream",
     "text": [
      "2024-08-29 00:05:49.378189: W external/xla/xla/tsl/framework/bfc_allocator.cc:482] Allocator (GPU_0_bfc) ran out of memory trying to allocate 687.98MiB (rounded to 721399552)requested by op \n",
      "2024-08-29 00:05:49.380236: W external/xla/xla/tsl/framework/bfc_allocator.cc:494] *************************************************************************___________________________\n",
      "E0829 00:05:49.380264  308455 pjrt_stream_executor_client.cc:3067] Execution of replica 0 failed: RESOURCE_EXHAUSTED: Out of memory while trying to allocate 721399424 bytes.\n"
     ]
    },
    {
     "name": "stdout",
     "output_type": "stream",
     "text": [
      "error                     XlaRuntimeError('RESOURCE_EXHAUSTED: Out of memory while trying to allocate 721399424 bytes.')\n",
      "\n",
      "========== TRIAL 514 ==========\n",
      "Nin_virtual               16\n",
      "Nhidden                   100\n",
      "Nlayer                    2\n",
      "K                         100\n",
      "p_flip                    0.0\n",
      "Nt                        8\n",
      "error                     XlaRuntimeError('RESOURCE_EXHAUSTED: Out of memory while trying to allocate 375177216 bytes.')\n",
      "\n",
      "========== TRIAL 515 ==========\n",
      "Nin_virtual               16\n",
      "Nhidden                   100\n",
      "Nlayer                    2\n",
      "K                         100\n",
      "p_flip                    0.0\n",
      "Nt                        12\n"
     ]
    },
    {
     "name": "stderr",
     "output_type": "stream",
     "text": [
      "2024-08-29 00:06:13.809508: W external/xla/xla/tsl/framework/bfc_allocator.cc:482] Allocator (GPU_0_bfc) ran out of memory trying to allocate 517.08MiB (rounded to 542199552)requested by op \n",
      "2024-08-29 00:06:13.811045: W external/xla/xla/tsl/framework/bfc_allocator.cc:494] ************************************************************************____________________________\n",
      "E0829 00:06:13.811072  308455 pjrt_stream_executor_client.cc:3067] Execution of replica 0 failed: RESOURCE_EXHAUSTED: Out of memory while trying to allocate 542199424 bytes.\n"
     ]
    },
    {
     "name": "stdout",
     "output_type": "stream",
     "text": [
      "error                     XlaRuntimeError('RESOURCE_EXHAUSTED: Out of memory while trying to allocate 542199424 bytes.')\n",
      "\n",
      "========== TRIAL 516 ==========\n",
      "Nin_virtual               16\n",
      "Nhidden                   100\n",
      "Nlayer                    2\n",
      "K                         100\n",
      "p_flip                    0.0\n",
      "Nt                        16\n"
     ]
    },
    {
     "name": "stderr",
     "output_type": "stream",
     "text": [
      "2024-08-29 00:06:30.323297: W external/xla/xla/tsl/framework/bfc_allocator.cc:482] Allocator (GPU_0_bfc) ran out of memory trying to allocate 687.98MiB (rounded to 721399552)requested by op \n",
      "2024-08-29 00:06:30.324810: W external/xla/xla/tsl/framework/bfc_allocator.cc:494] *************************************************************************___________________________\n",
      "E0829 00:06:30.324842  308455 pjrt_stream_executor_client.cc:3067] Execution of replica 0 failed: RESOURCE_EXHAUSTED: Out of memory while trying to allocate 721399424 bytes.\n"
     ]
    },
    {
     "name": "stdout",
     "output_type": "stream",
     "text": [
      "error                     XlaRuntimeError('RESOURCE_EXHAUSTED: Out of memory while trying to allocate 721399424 bytes.')\n",
      "\n",
      "========== TRIAL 517 ==========\n",
      "Nin_virtual               16\n",
      "Nhidden                   100\n",
      "Nlayer                    2\n",
      "K                         100\n",
      "p_flip                    0.02\n",
      "Nt                        8\n",
      "error                     XlaRuntimeError('RESOURCE_EXHAUSTED: Out of memory while trying to allocate 375177216 bytes.')\n",
      "\n",
      "========== TRIAL 518 ==========\n",
      "Nin_virtual               16\n",
      "Nhidden                   100\n",
      "Nlayer                    2\n",
      "K                         100\n",
      "p_flip                    0.02\n",
      "Nt                        12\n"
     ]
    },
    {
     "name": "stderr",
     "output_type": "stream",
     "text": [
      "2024-08-29 00:06:51.191304: W external/xla/xla/tsl/framework/bfc_allocator.cc:482] Allocator (GPU_0_bfc) ran out of memory trying to allocate 517.08MiB (rounded to 542199552)requested by op \n",
      "2024-08-29 00:06:51.192994: W external/xla/xla/tsl/framework/bfc_allocator.cc:494] ************************************************************************____________________________\n",
      "E0829 00:06:51.193025  308455 pjrt_stream_executor_client.cc:3067] Execution of replica 0 failed: RESOURCE_EXHAUSTED: Out of memory while trying to allocate 542199424 bytes.\n"
     ]
    },
    {
     "name": "stdout",
     "output_type": "stream",
     "text": [
      "error                     XlaRuntimeError('RESOURCE_EXHAUSTED: Out of memory while trying to allocate 542199424 bytes.')\n",
      "\n",
      "========== TRIAL 519 ==========\n",
      "Nin_virtual               16\n",
      "Nhidden                   100\n",
      "Nlayer                    2\n",
      "K                         100\n",
      "p_flip                    0.02\n",
      "Nt                        16\n"
     ]
    },
    {
     "name": "stderr",
     "output_type": "stream",
     "text": [
      "2024-08-29 00:07:07.262895: W external/xla/xla/tsl/framework/bfc_allocator.cc:482] Allocator (GPU_0_bfc) ran out of memory trying to allocate 687.98MiB (rounded to 721399552)requested by op \n",
      "2024-08-29 00:07:07.264970: W external/xla/xla/tsl/framework/bfc_allocator.cc:494] *************************************************************************___________________________\n",
      "E0829 00:07:07.265006  308455 pjrt_stream_executor_client.cc:3067] Execution of replica 0 failed: RESOURCE_EXHAUSTED: Out of memory while trying to allocate 721399424 bytes.\n"
     ]
    },
    {
     "name": "stdout",
     "output_type": "stream",
     "text": [
      "error                     XlaRuntimeError('RESOURCE_EXHAUSTED: Out of memory while trying to allocate 721399424 bytes.')\n",
      "\n",
      "========== TRIAL 520 ==========\n",
      "Nin_virtual               16\n",
      "Nhidden                   100\n",
      "Nlayer                    2\n",
      "K                         100\n",
      "p_flip                    0.04\n",
      "Nt                        8\n",
      "error                     XlaRuntimeError('RESOURCE_EXHAUSTED: Out of memory while trying to allocate 375177216 bytes.')\n",
      "\n",
      "========== TRIAL 521 ==========\n",
      "Nin_virtual               16\n",
      "Nhidden                   100\n",
      "Nlayer                    2\n",
      "K                         100\n",
      "p_flip                    0.04\n",
      "Nt                        12\n"
     ]
    },
    {
     "name": "stderr",
     "output_type": "stream",
     "text": [
      "2024-08-29 00:07:28.136562: W external/xla/xla/tsl/framework/bfc_allocator.cc:482] Allocator (GPU_0_bfc) ran out of memory trying to allocate 517.08MiB (rounded to 542199552)requested by op \n",
      "2024-08-29 00:07:28.138469: W external/xla/xla/tsl/framework/bfc_allocator.cc:494] ************************************************************************____________________________\n",
      "E0829 00:07:28.138494  308455 pjrt_stream_executor_client.cc:3067] Execution of replica 0 failed: RESOURCE_EXHAUSTED: Out of memory while trying to allocate 542199424 bytes.\n"
     ]
    },
    {
     "name": "stdout",
     "output_type": "stream",
     "text": [
      "error                     XlaRuntimeError('RESOURCE_EXHAUSTED: Out of memory while trying to allocate 542199424 bytes.')\n",
      "\n",
      "========== TRIAL 522 ==========\n",
      "Nin_virtual               16\n",
      "Nhidden                   100\n",
      "Nlayer                    2\n",
      "K                         100\n",
      "p_flip                    0.04\n",
      "Nt                        16\n"
     ]
    },
    {
     "name": "stderr",
     "output_type": "stream",
     "text": [
      "2024-08-29 00:07:44.248015: W external/xla/xla/tsl/framework/bfc_allocator.cc:482] Allocator (GPU_0_bfc) ran out of memory trying to allocate 687.98MiB (rounded to 721399552)requested by op \n",
      "2024-08-29 00:07:44.249888: W external/xla/xla/tsl/framework/bfc_allocator.cc:494] *************************************************************************___________________________\n",
      "E0829 00:07:44.249916  308455 pjrt_stream_executor_client.cc:3067] Execution of replica 0 failed: RESOURCE_EXHAUSTED: Out of memory while trying to allocate 721399424 bytes.\n"
     ]
    },
    {
     "name": "stdout",
     "output_type": "stream",
     "text": [
      "error                     XlaRuntimeError('RESOURCE_EXHAUSTED: Out of memory while trying to allocate 721399424 bytes.')\n",
      "\n",
      "========== TRIAL 523 ==========\n",
      "Nin_virtual               16\n",
      "Nhidden                   100\n",
      "Nlayer                    2\n",
      "K                         150\n",
      "p_flip                    0.0\n",
      "Nt                        8\n",
      "error                     XlaRuntimeError('RESOURCE_EXHAUSTED: Out of memory while trying to allocate 375177216 bytes.')\n",
      "\n",
      "========== TRIAL 524 ==========\n",
      "Nin_virtual               16\n",
      "Nhidden                   100\n",
      "Nlayer                    2\n",
      "K                         150\n",
      "p_flip                    0.0\n",
      "Nt                        12\n"
     ]
    },
    {
     "name": "stderr",
     "output_type": "stream",
     "text": [
      "2024-08-29 00:08:05.484174: W external/xla/xla/tsl/framework/bfc_allocator.cc:482] Allocator (GPU_0_bfc) ran out of memory trying to allocate 517.08MiB (rounded to 542199552)requested by op \n",
      "2024-08-29 00:08:05.485854: W external/xla/xla/tsl/framework/bfc_allocator.cc:494] ************************************************************************____________________________\n",
      "E0829 00:08:05.485883  308455 pjrt_stream_executor_client.cc:3067] Execution of replica 0 failed: RESOURCE_EXHAUSTED: Out of memory while trying to allocate 542199424 bytes.\n"
     ]
    },
    {
     "name": "stdout",
     "output_type": "stream",
     "text": [
      "error                     XlaRuntimeError('RESOURCE_EXHAUSTED: Out of memory while trying to allocate 542199424 bytes.')\n",
      "\n",
      "========== TRIAL 525 ==========\n",
      "Nin_virtual               16\n",
      "Nhidden                   100\n",
      "Nlayer                    2\n",
      "K                         150\n",
      "p_flip                    0.0\n",
      "Nt                        16\n"
     ]
    },
    {
     "name": "stderr",
     "output_type": "stream",
     "text": [
      "2024-08-29 00:08:21.999126: W external/xla/xla/tsl/framework/bfc_allocator.cc:482] Allocator (GPU_0_bfc) ran out of memory trying to allocate 687.98MiB (rounded to 721399552)requested by op \n",
      "2024-08-29 00:08:22.000987: W external/xla/xla/tsl/framework/bfc_allocator.cc:494] *************************************************************************___________________________\n",
      "E0829 00:08:22.001024  308455 pjrt_stream_executor_client.cc:3067] Execution of replica 0 failed: RESOURCE_EXHAUSTED: Out of memory while trying to allocate 721399424 bytes.\n"
     ]
    },
    {
     "name": "stdout",
     "output_type": "stream",
     "text": [
      "error                     XlaRuntimeError('RESOURCE_EXHAUSTED: Out of memory while trying to allocate 721399424 bytes.')\n",
      "\n",
      "========== TRIAL 526 ==========\n",
      "Nin_virtual               16\n",
      "Nhidden                   100\n",
      "Nlayer                    2\n",
      "K                         150\n",
      "p_flip                    0.02\n",
      "Nt                        8\n",
      "error                     XlaRuntimeError('RESOURCE_EXHAUSTED: Out of memory while trying to allocate 375177216 bytes.')\n",
      "\n",
      "========== TRIAL 527 ==========\n",
      "Nin_virtual               16\n",
      "Nhidden                   100\n",
      "Nlayer                    2\n",
      "K                         150\n",
      "p_flip                    0.02\n",
      "Nt                        12\n"
     ]
    },
    {
     "name": "stderr",
     "output_type": "stream",
     "text": [
      "2024-08-29 00:08:42.878504: W external/xla/xla/tsl/framework/bfc_allocator.cc:482] Allocator (GPU_0_bfc) ran out of memory trying to allocate 517.08MiB (rounded to 542199552)requested by op \n",
      "2024-08-29 00:08:42.880275: W external/xla/xla/tsl/framework/bfc_allocator.cc:494] ************************************************************************____________________________\n",
      "E0829 00:08:42.880302  308455 pjrt_stream_executor_client.cc:3067] Execution of replica 0 failed: RESOURCE_EXHAUSTED: Out of memory while trying to allocate 542199424 bytes.\n"
     ]
    },
    {
     "name": "stdout",
     "output_type": "stream",
     "text": [
      "error                     XlaRuntimeError('RESOURCE_EXHAUSTED: Out of memory while trying to allocate 542199424 bytes.')\n",
      "\n",
      "========== TRIAL 528 ==========\n",
      "Nin_virtual               16\n",
      "Nhidden                   100\n",
      "Nlayer                    2\n",
      "K                         150\n",
      "p_flip                    0.02\n",
      "Nt                        16\n"
     ]
    },
    {
     "name": "stderr",
     "output_type": "stream",
     "text": [
      "2024-08-29 00:08:59.010123: W external/xla/xla/tsl/framework/bfc_allocator.cc:482] Allocator (GPU_0_bfc) ran out of memory trying to allocate 687.98MiB (rounded to 721399552)requested by op \n",
      "2024-08-29 00:08:59.011943: W external/xla/xla/tsl/framework/bfc_allocator.cc:494] *************************************************************************___________________________\n",
      "E0829 00:08:59.011977  308455 pjrt_stream_executor_client.cc:3067] Execution of replica 0 failed: RESOURCE_EXHAUSTED: Out of memory while trying to allocate 721399424 bytes.\n"
     ]
    },
    {
     "name": "stdout",
     "output_type": "stream",
     "text": [
      "error                     XlaRuntimeError('RESOURCE_EXHAUSTED: Out of memory while trying to allocate 721399424 bytes.')\n",
      "\n",
      "========== TRIAL 529 ==========\n",
      "Nin_virtual               16\n",
      "Nhidden                   100\n",
      "Nlayer                    2\n",
      "K                         150\n",
      "p_flip                    0.04\n",
      "Nt                        8\n",
      "error                     XlaRuntimeError('RESOURCE_EXHAUSTED: Out of memory while trying to allocate 375177216 bytes.')\n",
      "\n",
      "========== TRIAL 530 ==========\n",
      "Nin_virtual               16\n",
      "Nhidden                   100\n",
      "Nlayer                    2\n",
      "K                         150\n",
      "p_flip                    0.04\n",
      "Nt                        12\n"
     ]
    },
    {
     "name": "stderr",
     "output_type": "stream",
     "text": [
      "2024-08-29 00:09:19.945472: W external/xla/xla/tsl/framework/bfc_allocator.cc:482] Allocator (GPU_0_bfc) ran out of memory trying to allocate 517.08MiB (rounded to 542199552)requested by op \n",
      "2024-08-29 00:09:19.947116: W external/xla/xla/tsl/framework/bfc_allocator.cc:494] ************************************************************************____________________________\n",
      "E0829 00:09:19.947141  308455 pjrt_stream_executor_client.cc:3067] Execution of replica 0 failed: RESOURCE_EXHAUSTED: Out of memory while trying to allocate 542199424 bytes.\n"
     ]
    },
    {
     "name": "stdout",
     "output_type": "stream",
     "text": [
      "error                     XlaRuntimeError('RESOURCE_EXHAUSTED: Out of memory while trying to allocate 542199424 bytes.')\n",
      "\n",
      "========== TRIAL 531 ==========\n",
      "Nin_virtual               16\n",
      "Nhidden                   100\n",
      "Nlayer                    2\n",
      "K                         150\n",
      "p_flip                    0.04\n",
      "Nt                        16\n"
     ]
    },
    {
     "name": "stderr",
     "output_type": "stream",
     "text": [
      "2024-08-29 00:09:36.109917: W external/xla/xla/tsl/framework/bfc_allocator.cc:482] Allocator (GPU_0_bfc) ran out of memory trying to allocate 687.98MiB (rounded to 721399552)requested by op \n",
      "2024-08-29 00:09:36.111721: W external/xla/xla/tsl/framework/bfc_allocator.cc:494] *************************************************************************___________________________\n",
      "E0829 00:09:36.111749  308455 pjrt_stream_executor_client.cc:3067] Execution of replica 0 failed: RESOURCE_EXHAUSTED: Out of memory while trying to allocate 721399424 bytes.\n"
     ]
    },
    {
     "name": "stdout",
     "output_type": "stream",
     "text": [
      "error                     XlaRuntimeError('RESOURCE_EXHAUSTED: Out of memory while trying to allocate 721399424 bytes.')\n",
      "\n",
      "========== TRIAL 532 ==========\n",
      "Nin_virtual               16\n",
      "Nhidden                   100\n",
      "Nlayer                    2\n",
      "K                         200\n",
      "p_flip                    0.0\n",
      "Nt                        8\n",
      "error                     XlaRuntimeError('RESOURCE_EXHAUSTED: Out of memory while trying to allocate 375177216 bytes.')\n",
      "\n",
      "========== TRIAL 533 ==========\n",
      "Nin_virtual               16\n",
      "Nhidden                   100\n",
      "Nlayer                    2\n",
      "K                         200\n",
      "p_flip                    0.0\n",
      "Nt                        12\n"
     ]
    },
    {
     "name": "stderr",
     "output_type": "stream",
     "text": [
      "2024-08-29 00:09:57.308747: W external/xla/xla/tsl/framework/bfc_allocator.cc:482] Allocator (GPU_0_bfc) ran out of memory trying to allocate 517.08MiB (rounded to 542199552)requested by op \n",
      "2024-08-29 00:09:57.310440: W external/xla/xla/tsl/framework/bfc_allocator.cc:494] ************************************************************************____________________________\n",
      "E0829 00:09:57.310466  308455 pjrt_stream_executor_client.cc:3067] Execution of replica 0 failed: RESOURCE_EXHAUSTED: Out of memory while trying to allocate 542199424 bytes.\n"
     ]
    },
    {
     "name": "stdout",
     "output_type": "stream",
     "text": [
      "error                     XlaRuntimeError('RESOURCE_EXHAUSTED: Out of memory while trying to allocate 542199424 bytes.')\n",
      "\n",
      "========== TRIAL 534 ==========\n",
      "Nin_virtual               16\n",
      "Nhidden                   100\n",
      "Nlayer                    2\n",
      "K                         200\n",
      "p_flip                    0.0\n",
      "Nt                        16\n"
     ]
    },
    {
     "name": "stderr",
     "output_type": "stream",
     "text": [
      "2024-08-29 00:10:13.879084: W external/xla/xla/tsl/framework/bfc_allocator.cc:482] Allocator (GPU_0_bfc) ran out of memory trying to allocate 687.98MiB (rounded to 721399552)requested by op \n",
      "2024-08-29 00:10:13.880859: W external/xla/xla/tsl/framework/bfc_allocator.cc:494] *************************************************************************___________________________\n",
      "E0829 00:10:13.880887  308455 pjrt_stream_executor_client.cc:3067] Execution of replica 0 failed: RESOURCE_EXHAUSTED: Out of memory while trying to allocate 721399424 bytes.\n"
     ]
    },
    {
     "name": "stdout",
     "output_type": "stream",
     "text": [
      "error                     XlaRuntimeError('RESOURCE_EXHAUSTED: Out of memory while trying to allocate 721399424 bytes.')\n",
      "\n",
      "========== TRIAL 535 ==========\n",
      "Nin_virtual               16\n",
      "Nhidden                   100\n",
      "Nlayer                    2\n",
      "K                         200\n",
      "p_flip                    0.02\n",
      "Nt                        8\n",
      "error                     XlaRuntimeError('RESOURCE_EXHAUSTED: Out of memory while trying to allocate 375177216 bytes.')\n",
      "\n",
      "========== TRIAL 536 ==========\n",
      "Nin_virtual               16\n",
      "Nhidden                   100\n",
      "Nlayer                    2\n",
      "K                         200\n",
      "p_flip                    0.02\n",
      "Nt                        12\n"
     ]
    },
    {
     "name": "stderr",
     "output_type": "stream",
     "text": [
      "2024-08-29 00:10:34.724509: W external/xla/xla/tsl/framework/bfc_allocator.cc:482] Allocator (GPU_0_bfc) ran out of memory trying to allocate 517.08MiB (rounded to 542199552)requested by op \n",
      "2024-08-29 00:10:34.726214: W external/xla/xla/tsl/framework/bfc_allocator.cc:494] ************************************************************************____________________________\n",
      "E0829 00:10:34.726247  308455 pjrt_stream_executor_client.cc:3067] Execution of replica 0 failed: RESOURCE_EXHAUSTED: Out of memory while trying to allocate 542199424 bytes.\n"
     ]
    },
    {
     "name": "stdout",
     "output_type": "stream",
     "text": [
      "error                     XlaRuntimeError('RESOURCE_EXHAUSTED: Out of memory while trying to allocate 542199424 bytes.')\n",
      "\n",
      "========== TRIAL 537 ==========\n",
      "Nin_virtual               16\n",
      "Nhidden                   100\n",
      "Nlayer                    2\n",
      "K                         200\n",
      "p_flip                    0.02\n",
      "Nt                        16\n"
     ]
    },
    {
     "name": "stderr",
     "output_type": "stream",
     "text": [
      "2024-08-29 00:10:50.821800: W external/xla/xla/tsl/framework/bfc_allocator.cc:482] Allocator (GPU_0_bfc) ran out of memory trying to allocate 687.98MiB (rounded to 721399552)requested by op \n",
      "2024-08-29 00:10:50.823846: W external/xla/xla/tsl/framework/bfc_allocator.cc:494] *************************************************************************___________________________\n",
      "E0829 00:10:50.823874  308455 pjrt_stream_executor_client.cc:3067] Execution of replica 0 failed: RESOURCE_EXHAUSTED: Out of memory while trying to allocate 721399424 bytes.\n"
     ]
    },
    {
     "name": "stdout",
     "output_type": "stream",
     "text": [
      "error                     XlaRuntimeError('RESOURCE_EXHAUSTED: Out of memory while trying to allocate 721399424 bytes.')\n",
      "\n",
      "========== TRIAL 538 ==========\n",
      "Nin_virtual               16\n",
      "Nhidden                   100\n",
      "Nlayer                    2\n",
      "K                         200\n",
      "p_flip                    0.04\n",
      "Nt                        8\n",
      "error                     XlaRuntimeError('RESOURCE_EXHAUSTED: Out of memory while trying to allocate 375177216 bytes.')\n",
      "\n",
      "========== TRIAL 539 ==========\n",
      "Nin_virtual               16\n",
      "Nhidden                   100\n",
      "Nlayer                    2\n",
      "K                         200\n",
      "p_flip                    0.04\n",
      "Nt                        12\n"
     ]
    },
    {
     "name": "stderr",
     "output_type": "stream",
     "text": [
      "2024-08-29 00:11:11.670850: W external/xla/xla/tsl/framework/bfc_allocator.cc:482] Allocator (GPU_0_bfc) ran out of memory trying to allocate 517.08MiB (rounded to 542199552)requested by op \n",
      "2024-08-29 00:11:11.672858: W external/xla/xla/tsl/framework/bfc_allocator.cc:494] ************************************************************************____________________________\n",
      "E0829 00:11:11.672888  308455 pjrt_stream_executor_client.cc:3067] Execution of replica 0 failed: RESOURCE_EXHAUSTED: Out of memory while trying to allocate 542199424 bytes.\n"
     ]
    },
    {
     "name": "stdout",
     "output_type": "stream",
     "text": [
      "error                     XlaRuntimeError('RESOURCE_EXHAUSTED: Out of memory while trying to allocate 542199424 bytes.')\n",
      "\n",
      "========== TRIAL 540 ==========\n",
      "Nin_virtual               16\n",
      "Nhidden                   100\n",
      "Nlayer                    2\n",
      "K                         200\n",
      "p_flip                    0.04\n",
      "Nt                        16\n"
     ]
    },
    {
     "name": "stderr",
     "output_type": "stream",
     "text": [
      "2024-08-29 00:11:27.810648: W external/xla/xla/tsl/framework/bfc_allocator.cc:482] Allocator (GPU_0_bfc) ran out of memory trying to allocate 687.98MiB (rounded to 721399552)requested by op \n",
      "2024-08-29 00:11:27.812632: W external/xla/xla/tsl/framework/bfc_allocator.cc:494] *************************************************************************___________________________\n",
      "E0829 00:11:27.812660  308455 pjrt_stream_executor_client.cc:3067] Execution of replica 0 failed: RESOURCE_EXHAUSTED: Out of memory while trying to allocate 721399424 bytes.\n"
     ]
    },
    {
     "name": "stdout",
     "output_type": "stream",
     "text": [
      "error                     XlaRuntimeError('RESOURCE_EXHAUSTED: Out of memory while trying to allocate 721399424 bytes.')\n",
      "\n",
      "========== TRIAL 541 ==========\n",
      "Nin_virtual               16\n",
      "Nhidden                   100\n",
      "Nlayer                    3\n",
      "K                         50\n",
      "p_flip                    0.0\n",
      "Nt                        8\n",
      "error                     XlaRuntimeError('RESOURCE_EXHAUSTED: Out of memory while trying to allocate 375177216 bytes.')\n",
      "\n",
      "========== TRIAL 542 ==========\n",
      "Nin_virtual               16\n",
      "Nhidden                   100\n",
      "Nlayer                    3\n",
      "K                         50\n",
      "p_flip                    0.0\n",
      "Nt                        12\n"
     ]
    },
    {
     "name": "stderr",
     "output_type": "stream",
     "text": [
      "2024-08-29 00:11:49.138574: W external/xla/xla/tsl/framework/bfc_allocator.cc:482] Allocator (GPU_0_bfc) ran out of memory trying to allocate 517.08MiB (rounded to 542199808)requested by op \n",
      "2024-08-29 00:11:49.140256: W external/xla/xla/tsl/framework/bfc_allocator.cc:494] ************************************************************************____________________________\n",
      "E0829 00:11:49.140286  308455 pjrt_stream_executor_client.cc:3067] Execution of replica 0 failed: RESOURCE_EXHAUSTED: Out of memory while trying to allocate 542199680 bytes.\n"
     ]
    },
    {
     "name": "stdout",
     "output_type": "stream",
     "text": [
      "error                     XlaRuntimeError('RESOURCE_EXHAUSTED: Out of memory while trying to allocate 542199680 bytes.')\n",
      "\n",
      "========== TRIAL 543 ==========\n",
      "Nin_virtual               16\n",
      "Nhidden                   100\n",
      "Nlayer                    3\n",
      "K                         50\n",
      "p_flip                    0.0\n",
      "Nt                        16\n"
     ]
    },
    {
     "name": "stderr",
     "output_type": "stream",
     "text": [
      "2024-08-29 00:12:05.730971: W external/xla/xla/tsl/framework/bfc_allocator.cc:482] Allocator (GPU_0_bfc) ran out of memory trying to allocate 687.98MiB (rounded to 721399808)requested by op \n",
      "2024-08-29 00:12:05.732950: W external/xla/xla/tsl/framework/bfc_allocator.cc:494] *************************************************************************___________________________\n",
      "E0829 00:12:05.732982  308455 pjrt_stream_executor_client.cc:3067] Execution of replica 0 failed: RESOURCE_EXHAUSTED: Out of memory while trying to allocate 721399680 bytes.\n"
     ]
    },
    {
     "name": "stdout",
     "output_type": "stream",
     "text": [
      "error                     XlaRuntimeError('RESOURCE_EXHAUSTED: Out of memory while trying to allocate 721399680 bytes.')\n",
      "\n",
      "========== TRIAL 544 ==========\n",
      "Nin_virtual               16\n",
      "Nhidden                   100\n",
      "Nlayer                    3\n",
      "K                         50\n",
      "p_flip                    0.02\n",
      "Nt                        8\n",
      "error                     XlaRuntimeError('RESOURCE_EXHAUSTED: Out of memory while trying to allocate 375177216 bytes.')\n",
      "\n",
      "========== TRIAL 545 ==========\n",
      "Nin_virtual               16\n",
      "Nhidden                   100\n",
      "Nlayer                    3\n",
      "K                         50\n",
      "p_flip                    0.02\n",
      "Nt                        12\n"
     ]
    },
    {
     "name": "stderr",
     "output_type": "stream",
     "text": [
      "2024-08-29 00:12:29.825900: W external/xla/xla/tsl/framework/bfc_allocator.cc:482] Allocator (GPU_0_bfc) ran out of memory trying to allocate 517.08MiB (rounded to 542199808)requested by op \n",
      "2024-08-29 00:12:29.827649: W external/xla/xla/tsl/framework/bfc_allocator.cc:494] ************************************************************************____________________________\n",
      "E0829 00:12:29.827680  308455 pjrt_stream_executor_client.cc:3067] Execution of replica 0 failed: RESOURCE_EXHAUSTED: Out of memory while trying to allocate 542199680 bytes.\n"
     ]
    },
    {
     "name": "stdout",
     "output_type": "stream",
     "text": [
      "error                     XlaRuntimeError('RESOURCE_EXHAUSTED: Out of memory while trying to allocate 542199680 bytes.')\n",
      "\n",
      "========== TRIAL 546 ==========\n",
      "Nin_virtual               16\n",
      "Nhidden                   100\n",
      "Nlayer                    3\n",
      "K                         50\n",
      "p_flip                    0.02\n",
      "Nt                        16\n"
     ]
    },
    {
     "name": "stderr",
     "output_type": "stream",
     "text": [
      "2024-08-29 00:12:45.991870: W external/xla/xla/tsl/framework/bfc_allocator.cc:482] Allocator (GPU_0_bfc) ran out of memory trying to allocate 687.98MiB (rounded to 721399808)requested by op \n",
      "2024-08-29 00:12:45.993904: W external/xla/xla/tsl/framework/bfc_allocator.cc:494] *************************************************************************___________________________\n",
      "E0829 00:12:45.993935  308455 pjrt_stream_executor_client.cc:3067] Execution of replica 0 failed: RESOURCE_EXHAUSTED: Out of memory while trying to allocate 721399680 bytes.\n"
     ]
    },
    {
     "name": "stdout",
     "output_type": "stream",
     "text": [
      "error                     XlaRuntimeError('RESOURCE_EXHAUSTED: Out of memory while trying to allocate 721399680 bytes.')\n",
      "\n",
      "========== TRIAL 547 ==========\n",
      "Nin_virtual               16\n",
      "Nhidden                   100\n",
      "Nlayer                    3\n",
      "K                         50\n",
      "p_flip                    0.04\n",
      "Nt                        8\n",
      "error                     XlaRuntimeError('RESOURCE_EXHAUSTED: Out of memory while trying to allocate 375177216 bytes.')\n",
      "\n",
      "========== TRIAL 548 ==========\n",
      "Nin_virtual               16\n",
      "Nhidden                   100\n",
      "Nlayer                    3\n",
      "K                         50\n",
      "p_flip                    0.04\n",
      "Nt                        12\n"
     ]
    },
    {
     "name": "stderr",
     "output_type": "stream",
     "text": [
      "2024-08-29 00:13:06.911679: W external/xla/xla/tsl/framework/bfc_allocator.cc:482] Allocator (GPU_0_bfc) ran out of memory trying to allocate 517.08MiB (rounded to 542199808)requested by op \n",
      "2024-08-29 00:13:06.913472: W external/xla/xla/tsl/framework/bfc_allocator.cc:494] ************************************************************************____________________________\n",
      "E0829 00:13:06.913500  308455 pjrt_stream_executor_client.cc:3067] Execution of replica 0 failed: RESOURCE_EXHAUSTED: Out of memory while trying to allocate 542199680 bytes.\n"
     ]
    },
    {
     "name": "stdout",
     "output_type": "stream",
     "text": [
      "error                     XlaRuntimeError('RESOURCE_EXHAUSTED: Out of memory while trying to allocate 542199680 bytes.')\n",
      "\n",
      "========== TRIAL 549 ==========\n",
      "Nin_virtual               16\n",
      "Nhidden                   100\n",
      "Nlayer                    3\n",
      "K                         50\n",
      "p_flip                    0.04\n",
      "Nt                        16\n"
     ]
    },
    {
     "name": "stderr",
     "output_type": "stream",
     "text": [
      "2024-08-29 00:13:23.040796: W external/xla/xla/tsl/framework/bfc_allocator.cc:482] Allocator (GPU_0_bfc) ran out of memory trying to allocate 687.98MiB (rounded to 721399808)requested by op \n",
      "2024-08-29 00:13:23.042801: W external/xla/xla/tsl/framework/bfc_allocator.cc:494] *************************************************************************___________________________\n",
      "E0829 00:13:23.042830  308455 pjrt_stream_executor_client.cc:3067] Execution of replica 0 failed: RESOURCE_EXHAUSTED: Out of memory while trying to allocate 721399680 bytes.\n"
     ]
    },
    {
     "name": "stdout",
     "output_type": "stream",
     "text": [
      "error                     XlaRuntimeError('RESOURCE_EXHAUSTED: Out of memory while trying to allocate 721399680 bytes.')\n",
      "\n",
      "========== TRIAL 550 ==========\n",
      "Nin_virtual               16\n",
      "Nhidden                   100\n",
      "Nlayer                    3\n",
      "K                         100\n",
      "p_flip                    0.0\n",
      "Nt                        8\n",
      "error                     XlaRuntimeError('RESOURCE_EXHAUSTED: Out of memory while trying to allocate 375177216 bytes.')\n",
      "\n",
      "========== TRIAL 551 ==========\n",
      "Nin_virtual               16\n",
      "Nhidden                   100\n",
      "Nlayer                    3\n",
      "K                         100\n",
      "p_flip                    0.0\n",
      "Nt                        12\n"
     ]
    },
    {
     "name": "stderr",
     "output_type": "stream",
     "text": [
      "2024-08-29 00:13:44.441067: W external/xla/xla/tsl/framework/bfc_allocator.cc:482] Allocator (GPU_0_bfc) ran out of memory trying to allocate 517.08MiB (rounded to 542199808)requested by op \n",
      "2024-08-29 00:13:44.442957: W external/xla/xla/tsl/framework/bfc_allocator.cc:494] ************************************************************************____________________________\n",
      "E0829 00:13:44.442983  308455 pjrt_stream_executor_client.cc:3067] Execution of replica 0 failed: RESOURCE_EXHAUSTED: Out of memory while trying to allocate 542199680 bytes.\n"
     ]
    },
    {
     "name": "stdout",
     "output_type": "stream",
     "text": [
      "error                     XlaRuntimeError('RESOURCE_EXHAUSTED: Out of memory while trying to allocate 542199680 bytes.')\n",
      "\n",
      "========== TRIAL 552 ==========\n",
      "Nin_virtual               16\n",
      "Nhidden                   100\n",
      "Nlayer                    3\n",
      "K                         100\n",
      "p_flip                    0.0\n",
      "Nt                        16\n"
     ]
    },
    {
     "name": "stderr",
     "output_type": "stream",
     "text": [
      "2024-08-29 00:14:01.024154: W external/xla/xla/tsl/framework/bfc_allocator.cc:482] Allocator (GPU_0_bfc) ran out of memory trying to allocate 687.98MiB (rounded to 721399808)requested by op \n",
      "2024-08-29 00:14:01.026155: W external/xla/xla/tsl/framework/bfc_allocator.cc:494] *************************************************************************___________________________\n",
      "E0829 00:14:01.026183  308455 pjrt_stream_executor_client.cc:3067] Execution of replica 0 failed: RESOURCE_EXHAUSTED: Out of memory while trying to allocate 721399680 bytes.\n"
     ]
    },
    {
     "name": "stdout",
     "output_type": "stream",
     "text": [
      "error                     XlaRuntimeError('RESOURCE_EXHAUSTED: Out of memory while trying to allocate 721399680 bytes.')\n",
      "\n",
      "========== TRIAL 553 ==========\n",
      "Nin_virtual               16\n",
      "Nhidden                   100\n",
      "Nlayer                    3\n",
      "K                         100\n",
      "p_flip                    0.02\n",
      "Nt                        8\n",
      "error                     XlaRuntimeError('RESOURCE_EXHAUSTED: Out of memory while trying to allocate 375177216 bytes.')\n",
      "\n",
      "========== TRIAL 554 ==========\n",
      "Nin_virtual               16\n",
      "Nhidden                   100\n",
      "Nlayer                    3\n",
      "K                         100\n",
      "p_flip                    0.02\n",
      "Nt                        12\n"
     ]
    },
    {
     "name": "stderr",
     "output_type": "stream",
     "text": [
      "2024-08-29 00:14:21.905663: W external/xla/xla/tsl/framework/bfc_allocator.cc:482] Allocator (GPU_0_bfc) ran out of memory trying to allocate 517.08MiB (rounded to 542199808)requested by op \n",
      "2024-08-29 00:14:21.907602: W external/xla/xla/tsl/framework/bfc_allocator.cc:494] ************************************************************************____________________________\n",
      "E0829 00:14:21.907636  308455 pjrt_stream_executor_client.cc:3067] Execution of replica 0 failed: RESOURCE_EXHAUSTED: Out of memory while trying to allocate 542199680 bytes.\n"
     ]
    },
    {
     "name": "stdout",
     "output_type": "stream",
     "text": [
      "error                     XlaRuntimeError('RESOURCE_EXHAUSTED: Out of memory while trying to allocate 542199680 bytes.')\n",
      "\n",
      "========== TRIAL 555 ==========\n",
      "Nin_virtual               16\n",
      "Nhidden                   100\n",
      "Nlayer                    3\n",
      "K                         100\n",
      "p_flip                    0.02\n",
      "Nt                        16\n"
     ]
    },
    {
     "name": "stderr",
     "output_type": "stream",
     "text": [
      "2024-08-29 00:14:38.077362: W external/xla/xla/tsl/framework/bfc_allocator.cc:482] Allocator (GPU_0_bfc) ran out of memory trying to allocate 687.98MiB (rounded to 721399808)requested by op \n",
      "2024-08-29 00:14:38.079231: W external/xla/xla/tsl/framework/bfc_allocator.cc:494] *************************************************************************___________________________\n",
      "E0829 00:14:38.079260  308455 pjrt_stream_executor_client.cc:3067] Execution of replica 0 failed: RESOURCE_EXHAUSTED: Out of memory while trying to allocate 721399680 bytes.\n"
     ]
    },
    {
     "name": "stdout",
     "output_type": "stream",
     "text": [
      "error                     XlaRuntimeError('RESOURCE_EXHAUSTED: Out of memory while trying to allocate 721399680 bytes.')\n",
      "\n",
      "========== TRIAL 556 ==========\n",
      "Nin_virtual               16\n",
      "Nhidden                   100\n",
      "Nlayer                    3\n",
      "K                         100\n",
      "p_flip                    0.04\n",
      "Nt                        8\n",
      "error                     XlaRuntimeError('RESOURCE_EXHAUSTED: Out of memory while trying to allocate 375177216 bytes.')\n",
      "\n",
      "========== TRIAL 557 ==========\n",
      "Nin_virtual               16\n",
      "Nhidden                   100\n",
      "Nlayer                    3\n",
      "K                         100\n",
      "p_flip                    0.04\n",
      "Nt                        12\n"
     ]
    },
    {
     "name": "stderr",
     "output_type": "stream",
     "text": [
      "2024-08-29 00:14:59.014404: W external/xla/xla/tsl/framework/bfc_allocator.cc:482] Allocator (GPU_0_bfc) ran out of memory trying to allocate 517.08MiB (rounded to 542199808)requested by op \n",
      "2024-08-29 00:14:59.016315: W external/xla/xla/tsl/framework/bfc_allocator.cc:494] ************************************************************************____________________________\n",
      "E0829 00:14:59.016340  308455 pjrt_stream_executor_client.cc:3067] Execution of replica 0 failed: RESOURCE_EXHAUSTED: Out of memory while trying to allocate 542199680 bytes.\n"
     ]
    },
    {
     "name": "stdout",
     "output_type": "stream",
     "text": [
      "error                     XlaRuntimeError('RESOURCE_EXHAUSTED: Out of memory while trying to allocate 542199680 bytes.')\n",
      "\n",
      "========== TRIAL 558 ==========\n",
      "Nin_virtual               16\n",
      "Nhidden                   100\n",
      "Nlayer                    3\n",
      "K                         100\n",
      "p_flip                    0.04\n",
      "Nt                        16\n"
     ]
    },
    {
     "name": "stderr",
     "output_type": "stream",
     "text": [
      "2024-08-29 00:15:15.316642: W external/xla/xla/tsl/framework/bfc_allocator.cc:482] Allocator (GPU_0_bfc) ran out of memory trying to allocate 687.98MiB (rounded to 721399808)requested by op \n",
      "2024-08-29 00:15:15.318543: W external/xla/xla/tsl/framework/bfc_allocator.cc:494] *************************************************************************___________________________\n",
      "E0829 00:15:15.318578  308455 pjrt_stream_executor_client.cc:3067] Execution of replica 0 failed: RESOURCE_EXHAUSTED: Out of memory while trying to allocate 721399680 bytes.\n"
     ]
    },
    {
     "name": "stdout",
     "output_type": "stream",
     "text": [
      "error                     XlaRuntimeError('RESOURCE_EXHAUSTED: Out of memory while trying to allocate 721399680 bytes.')\n",
      "\n",
      "========== TRIAL 559 ==========\n",
      "Nin_virtual               16\n",
      "Nhidden                   100\n",
      "Nlayer                    3\n",
      "K                         150\n",
      "p_flip                    0.0\n",
      "Nt                        8\n",
      "error                     XlaRuntimeError('RESOURCE_EXHAUSTED: Out of memory while trying to allocate 375177216 bytes.')\n",
      "\n",
      "========== TRIAL 560 ==========\n",
      "Nin_virtual               16\n",
      "Nhidden                   100\n",
      "Nlayer                    3\n",
      "K                         150\n",
      "p_flip                    0.0\n",
      "Nt                        12\n"
     ]
    },
    {
     "name": "stderr",
     "output_type": "stream",
     "text": [
      "2024-08-29 00:15:36.629327: W external/xla/xla/tsl/framework/bfc_allocator.cc:482] Allocator (GPU_0_bfc) ran out of memory trying to allocate 517.08MiB (rounded to 542199808)requested by op \n",
      "2024-08-29 00:15:36.631221: W external/xla/xla/tsl/framework/bfc_allocator.cc:494] ************************************************************************____________________________\n",
      "E0829 00:15:36.631248  308455 pjrt_stream_executor_client.cc:3067] Execution of replica 0 failed: RESOURCE_EXHAUSTED: Out of memory while trying to allocate 542199680 bytes.\n"
     ]
    },
    {
     "name": "stdout",
     "output_type": "stream",
     "text": [
      "error                     XlaRuntimeError('RESOURCE_EXHAUSTED: Out of memory while trying to allocate 542199680 bytes.')\n",
      "\n",
      "========== TRIAL 561 ==========\n",
      "Nin_virtual               16\n",
      "Nhidden                   100\n",
      "Nlayer                    3\n",
      "K                         150\n",
      "p_flip                    0.0\n",
      "Nt                        16\n"
     ]
    },
    {
     "name": "stderr",
     "output_type": "stream",
     "text": [
      "2024-08-29 00:15:53.212980: W external/xla/xla/tsl/framework/bfc_allocator.cc:482] Allocator (GPU_0_bfc) ran out of memory trying to allocate 687.98MiB (rounded to 721399808)requested by op \n",
      "2024-08-29 00:15:53.214787: W external/xla/xla/tsl/framework/bfc_allocator.cc:494] *************************************************************************___________________________\n",
      "E0829 00:15:53.214816  308455 pjrt_stream_executor_client.cc:3067] Execution of replica 0 failed: RESOURCE_EXHAUSTED: Out of memory while trying to allocate 721399680 bytes.\n"
     ]
    },
    {
     "name": "stdout",
     "output_type": "stream",
     "text": [
      "error                     XlaRuntimeError('RESOURCE_EXHAUSTED: Out of memory while trying to allocate 721399680 bytes.')\n",
      "\n",
      "========== TRIAL 562 ==========\n",
      "Nin_virtual               16\n",
      "Nhidden                   100\n",
      "Nlayer                    3\n",
      "K                         150\n",
      "p_flip                    0.02\n",
      "Nt                        8\n",
      "error                     XlaRuntimeError('RESOURCE_EXHAUSTED: Out of memory while trying to allocate 375177216 bytes.')\n",
      "\n",
      "========== TRIAL 563 ==========\n",
      "Nin_virtual               16\n",
      "Nhidden                   100\n",
      "Nlayer                    3\n",
      "K                         150\n",
      "p_flip                    0.02\n",
      "Nt                        12\n"
     ]
    },
    {
     "name": "stderr",
     "output_type": "stream",
     "text": [
      "2024-08-29 00:16:14.151046: W external/xla/xla/tsl/framework/bfc_allocator.cc:482] Allocator (GPU_0_bfc) ran out of memory trying to allocate 517.08MiB (rounded to 542199808)requested by op \n",
      "2024-08-29 00:16:14.152821: W external/xla/xla/tsl/framework/bfc_allocator.cc:494] ************************************************************************____________________________\n",
      "E0829 00:16:14.152851  308455 pjrt_stream_executor_client.cc:3067] Execution of replica 0 failed: RESOURCE_EXHAUSTED: Out of memory while trying to allocate 542199680 bytes.\n"
     ]
    },
    {
     "name": "stdout",
     "output_type": "stream",
     "text": [
      "error                     XlaRuntimeError('RESOURCE_EXHAUSTED: Out of memory while trying to allocate 542199680 bytes.')\n",
      "\n",
      "========== TRIAL 564 ==========\n",
      "Nin_virtual               16\n",
      "Nhidden                   100\n",
      "Nlayer                    3\n",
      "K                         150\n",
      "p_flip                    0.02\n",
      "Nt                        16\n"
     ]
    },
    {
     "name": "stderr",
     "output_type": "stream",
     "text": [
      "2024-08-29 00:16:30.301514: W external/xla/xla/tsl/framework/bfc_allocator.cc:482] Allocator (GPU_0_bfc) ran out of memory trying to allocate 687.98MiB (rounded to 721399808)requested by op \n",
      "2024-08-29 00:16:30.303449: W external/xla/xla/tsl/framework/bfc_allocator.cc:494] *************************************************************************___________________________\n",
      "E0829 00:16:30.303481  308455 pjrt_stream_executor_client.cc:3067] Execution of replica 0 failed: RESOURCE_EXHAUSTED: Out of memory while trying to allocate 721399680 bytes.\n"
     ]
    },
    {
     "name": "stdout",
     "output_type": "stream",
     "text": [
      "error                     XlaRuntimeError('RESOURCE_EXHAUSTED: Out of memory while trying to allocate 721399680 bytes.')\n",
      "\n",
      "========== TRIAL 565 ==========\n",
      "Nin_virtual               16\n",
      "Nhidden                   100\n",
      "Nlayer                    3\n",
      "K                         150\n",
      "p_flip                    0.04\n",
      "Nt                        8\n",
      "error                     XlaRuntimeError('RESOURCE_EXHAUSTED: Out of memory while trying to allocate 375177216 bytes.')\n",
      "\n",
      "========== TRIAL 566 ==========\n",
      "Nin_virtual               16\n",
      "Nhidden                   100\n",
      "Nlayer                    3\n",
      "K                         150\n",
      "p_flip                    0.04\n",
      "Nt                        12\n"
     ]
    },
    {
     "name": "stderr",
     "output_type": "stream",
     "text": [
      "2024-08-29 00:16:51.239430: W external/xla/xla/tsl/framework/bfc_allocator.cc:482] Allocator (GPU_0_bfc) ran out of memory trying to allocate 517.08MiB (rounded to 542199808)requested by op \n",
      "2024-08-29 00:16:51.242118: W external/xla/xla/tsl/framework/bfc_allocator.cc:494] ************************************************************************____________________________\n",
      "E0829 00:16:51.242159  308455 pjrt_stream_executor_client.cc:3067] Execution of replica 0 failed: RESOURCE_EXHAUSTED: Out of memory while trying to allocate 542199680 bytes.\n"
     ]
    },
    {
     "name": "stdout",
     "output_type": "stream",
     "text": [
      "error                     XlaRuntimeError('RESOURCE_EXHAUSTED: Out of memory while trying to allocate 542199680 bytes.')\n",
      "\n",
      "========== TRIAL 567 ==========\n",
      "Nin_virtual               16\n",
      "Nhidden                   100\n",
      "Nlayer                    3\n",
      "K                         150\n",
      "p_flip                    0.04\n",
      "Nt                        16\n"
     ]
    },
    {
     "name": "stderr",
     "output_type": "stream",
     "text": [
      "2024-08-29 00:17:07.409890: W external/xla/xla/tsl/framework/bfc_allocator.cc:482] Allocator (GPU_0_bfc) ran out of memory trying to allocate 687.98MiB (rounded to 721399808)requested by op \n",
      "2024-08-29 00:17:07.412044: W external/xla/xla/tsl/framework/bfc_allocator.cc:494] *************************************************************************___________________________\n",
      "E0829 00:17:07.412073  308455 pjrt_stream_executor_client.cc:3067] Execution of replica 0 failed: RESOURCE_EXHAUSTED: Out of memory while trying to allocate 721399680 bytes.\n"
     ]
    },
    {
     "name": "stdout",
     "output_type": "stream",
     "text": [
      "error                     XlaRuntimeError('RESOURCE_EXHAUSTED: Out of memory while trying to allocate 721399680 bytes.')\n",
      "\n",
      "========== TRIAL 568 ==========\n",
      "Nin_virtual               16\n",
      "Nhidden                   100\n",
      "Nlayer                    3\n",
      "K                         200\n",
      "p_flip                    0.0\n",
      "Nt                        8\n",
      "error                     XlaRuntimeError('RESOURCE_EXHAUSTED: Out of memory while trying to allocate 375177216 bytes.')\n",
      "\n",
      "========== TRIAL 569 ==========\n",
      "Nin_virtual               16\n",
      "Nhidden                   100\n",
      "Nlayer                    3\n",
      "K                         200\n",
      "p_flip                    0.0\n",
      "Nt                        12\n"
     ]
    },
    {
     "name": "stderr",
     "output_type": "stream",
     "text": [
      "2024-08-29 00:17:28.797421: W external/xla/xla/tsl/framework/bfc_allocator.cc:482] Allocator (GPU_0_bfc) ran out of memory trying to allocate 517.08MiB (rounded to 542199808)requested by op \n",
      "2024-08-29 00:17:28.799351: W external/xla/xla/tsl/framework/bfc_allocator.cc:494] ************************************************************************____________________________\n",
      "E0829 00:17:28.799376  308455 pjrt_stream_executor_client.cc:3067] Execution of replica 0 failed: RESOURCE_EXHAUSTED: Out of memory while trying to allocate 542199680 bytes.\n"
     ]
    },
    {
     "name": "stdout",
     "output_type": "stream",
     "text": [
      "error                     XlaRuntimeError('RESOURCE_EXHAUSTED: Out of memory while trying to allocate 542199680 bytes.')\n",
      "\n",
      "========== TRIAL 570 ==========\n",
      "Nin_virtual               16\n",
      "Nhidden                   100\n",
      "Nlayer                    3\n",
      "K                         200\n",
      "p_flip                    0.0\n",
      "Nt                        16\n"
     ]
    },
    {
     "name": "stderr",
     "output_type": "stream",
     "text": [
      "2024-08-29 00:17:45.413046: W external/xla/xla/tsl/framework/bfc_allocator.cc:482] Allocator (GPU_0_bfc) ran out of memory trying to allocate 687.98MiB (rounded to 721399808)requested by op \n",
      "2024-08-29 00:17:45.414960: W external/xla/xla/tsl/framework/bfc_allocator.cc:494] *************************************************************************___________________________\n",
      "E0829 00:17:45.414989  308455 pjrt_stream_executor_client.cc:3067] Execution of replica 0 failed: RESOURCE_EXHAUSTED: Out of memory while trying to allocate 721399680 bytes.\n"
     ]
    },
    {
     "name": "stdout",
     "output_type": "stream",
     "text": [
      "error                     XlaRuntimeError('RESOURCE_EXHAUSTED: Out of memory while trying to allocate 721399680 bytes.')\n",
      "\n",
      "========== TRIAL 571 ==========\n",
      "Nin_virtual               16\n",
      "Nhidden                   100\n",
      "Nlayer                    3\n",
      "K                         200\n",
      "p_flip                    0.02\n",
      "Nt                        8\n",
      "error                     XlaRuntimeError('RESOURCE_EXHAUSTED: Out of memory while trying to allocate 375177216 bytes.')\n",
      "\n",
      "========== TRIAL 572 ==========\n",
      "Nin_virtual               16\n",
      "Nhidden                   100\n",
      "Nlayer                    3\n",
      "K                         200\n",
      "p_flip                    0.02\n",
      "Nt                        12\n"
     ]
    },
    {
     "name": "stderr",
     "output_type": "stream",
     "text": [
      "2024-08-29 00:18:09.530747: W external/xla/xla/tsl/framework/bfc_allocator.cc:482] Allocator (GPU_0_bfc) ran out of memory trying to allocate 517.08MiB (rounded to 542199808)requested by op \n",
      "2024-08-29 00:18:09.532248: W external/xla/xla/tsl/framework/bfc_allocator.cc:494] ************************************************************************____________________________\n",
      "E0829 00:18:09.532276  308455 pjrt_stream_executor_client.cc:3067] Execution of replica 0 failed: RESOURCE_EXHAUSTED: Out of memory while trying to allocate 542199680 bytes.\n"
     ]
    },
    {
     "name": "stdout",
     "output_type": "stream",
     "text": [
      "error                     XlaRuntimeError('RESOURCE_EXHAUSTED: Out of memory while trying to allocate 542199680 bytes.')\n",
      "\n",
      "========== TRIAL 573 ==========\n",
      "Nin_virtual               16\n",
      "Nhidden                   100\n",
      "Nlayer                    3\n",
      "K                         200\n",
      "p_flip                    0.02\n",
      "Nt                        16\n"
     ]
    },
    {
     "name": "stderr",
     "output_type": "stream",
     "text": [
      "2024-08-29 00:18:25.764404: W external/xla/xla/tsl/framework/bfc_allocator.cc:482] Allocator (GPU_0_bfc) ran out of memory trying to allocate 687.98MiB (rounded to 721399808)requested by op \n",
      "2024-08-29 00:18:25.766595: W external/xla/xla/tsl/framework/bfc_allocator.cc:494] *************************************************************************___________________________\n",
      "E0829 00:18:25.766626  308455 pjrt_stream_executor_client.cc:3067] Execution of replica 0 failed: RESOURCE_EXHAUSTED: Out of memory while trying to allocate 721399680 bytes.\n"
     ]
    },
    {
     "name": "stdout",
     "output_type": "stream",
     "text": [
      "error                     XlaRuntimeError('RESOURCE_EXHAUSTED: Out of memory while trying to allocate 721399680 bytes.')\n",
      "\n",
      "========== TRIAL 574 ==========\n",
      "Nin_virtual               16\n",
      "Nhidden                   100\n",
      "Nlayer                    3\n",
      "K                         200\n",
      "p_flip                    0.04\n",
      "Nt                        8\n",
      "error                     XlaRuntimeError('RESOURCE_EXHAUSTED: Out of memory while trying to allocate 375177216 bytes.')\n",
      "\n",
      "========== TRIAL 575 ==========\n",
      "Nin_virtual               16\n",
      "Nhidden                   100\n",
      "Nlayer                    3\n",
      "K                         200\n",
      "p_flip                    0.04\n",
      "Nt                        12\n"
     ]
    },
    {
     "name": "stderr",
     "output_type": "stream",
     "text": [
      "2024-08-29 00:18:46.728326: W external/xla/xla/tsl/framework/bfc_allocator.cc:482] Allocator (GPU_0_bfc) ran out of memory trying to allocate 517.08MiB (rounded to 542199808)requested by op \n",
      "2024-08-29 00:18:46.730199: W external/xla/xla/tsl/framework/bfc_allocator.cc:494] ************************************************************************____________________________\n",
      "E0829 00:18:46.730225  308455 pjrt_stream_executor_client.cc:3067] Execution of replica 0 failed: RESOURCE_EXHAUSTED: Out of memory while trying to allocate 542199680 bytes.\n"
     ]
    },
    {
     "name": "stdout",
     "output_type": "stream",
     "text": [
      "error                     XlaRuntimeError('RESOURCE_EXHAUSTED: Out of memory while trying to allocate 542199680 bytes.')\n",
      "\n",
      "========== TRIAL 576 ==========\n",
      "Nin_virtual               16\n",
      "Nhidden                   100\n",
      "Nlayer                    3\n",
      "K                         200\n",
      "p_flip                    0.04\n",
      "Nt                        16\n"
     ]
    },
    {
     "name": "stderr",
     "output_type": "stream",
     "text": [
      "2024-08-29 00:19:02.958225: W external/xla/xla/tsl/framework/bfc_allocator.cc:482] Allocator (GPU_0_bfc) ran out of memory trying to allocate 687.98MiB (rounded to 721399808)requested by op \n",
      "2024-08-29 00:19:02.960179: W external/xla/xla/tsl/framework/bfc_allocator.cc:494] *************************************************************************___________________________\n",
      "E0829 00:19:02.960207  308455 pjrt_stream_executor_client.cc:3067] Execution of replica 0 failed: RESOURCE_EXHAUSTED: Out of memory while trying to allocate 721399680 bytes.\n"
     ]
    },
    {
     "name": "stdout",
     "output_type": "stream",
     "text": [
      "error                     XlaRuntimeError('RESOURCE_EXHAUSTED: Out of memory while trying to allocate 721399680 bytes.')\n",
      "\n",
      "========== TRIAL 577 ==========\n",
      "Nin_virtual               20\n",
      "Nhidden                   40\n",
      "Nlayer                    2\n",
      "K                         50\n",
      "p_flip                    0.0\n",
      "Nt                        8\n",
      "error                     XlaRuntimeError('RESOURCE_EXHAUSTED: Out of memory while trying to allocate 464777216 bytes.')\n",
      "\n",
      "========== TRIAL 578 ==========\n",
      "Nin_virtual               20\n",
      "Nhidden                   40\n",
      "Nlayer                    2\n",
      "K                         50\n",
      "p_flip                    0.0\n",
      "Nt                        12\n"
     ]
    },
    {
     "name": "stderr",
     "output_type": "stream",
     "text": [
      "2024-08-29 00:19:24.288956: W external/xla/xla/tsl/framework/bfc_allocator.cc:482] Allocator (GPU_0_bfc) ran out of memory trying to allocate 645.03MiB (rounded to 676360192)requested by op \n",
      "2024-08-29 00:19:24.290939: W external/xla/xla/tsl/framework/bfc_allocator.cc:494] ***********************************************************************_____________________________\n",
      "E0829 00:19:24.290965  308455 pjrt_stream_executor_client.cc:3067] Execution of replica 0 failed: RESOURCE_EXHAUSTED: Out of memory while trying to allocate 676359968 bytes.\n"
     ]
    },
    {
     "name": "stdout",
     "output_type": "stream",
     "text": [
      "error                     XlaRuntimeError('RESOURCE_EXHAUSTED: Out of memory while trying to allocate 676359968 bytes.')\n",
      "\n",
      "========== TRIAL 579 ==========\n",
      "Nin_virtual               20\n",
      "Nhidden                   40\n",
      "Nlayer                    2\n",
      "K                         50\n",
      "p_flip                    0.0\n",
      "Nt                        16\n"
     ]
    },
    {
     "name": "stderr",
     "output_type": "stream",
     "text": [
      "2024-08-29 00:19:40.922818: W external/xla/xla/tsl/framework/bfc_allocator.cc:482] Allocator (GPU_0_bfc) ran out of memory trying to allocate 858.65MiB (rounded to 900360192)requested by op \n",
      "2024-08-29 00:19:40.924987: W external/xla/xla/tsl/framework/bfc_allocator.cc:494] ************************************************************************____________________________\n",
      "E0829 00:19:40.925025  308455 pjrt_stream_executor_client.cc:3067] Execution of replica 0 failed: RESOURCE_EXHAUSTED: Out of memory while trying to allocate 900359968 bytes.\n"
     ]
    },
    {
     "name": "stdout",
     "output_type": "stream",
     "text": [
      "error                     XlaRuntimeError('RESOURCE_EXHAUSTED: Out of memory while trying to allocate 900359968 bytes.')\n",
      "\n",
      "========== TRIAL 580 ==========\n",
      "Nin_virtual               20\n",
      "Nhidden                   40\n",
      "Nlayer                    2\n",
      "K                         50\n",
      "p_flip                    0.02\n",
      "Nt                        8\n",
      "error                     XlaRuntimeError('RESOURCE_EXHAUSTED: Out of memory while trying to allocate 464777216 bytes.')\n",
      "\n",
      "========== TRIAL 581 ==========\n",
      "Nin_virtual               20\n",
      "Nhidden                   40\n",
      "Nlayer                    2\n",
      "K                         50\n",
      "p_flip                    0.02\n",
      "Nt                        12\n"
     ]
    },
    {
     "name": "stderr",
     "output_type": "stream",
     "text": [
      "2024-08-29 00:20:01.995873: W external/xla/xla/tsl/framework/bfc_allocator.cc:482] Allocator (GPU_0_bfc) ran out of memory trying to allocate 645.03MiB (rounded to 676360192)requested by op \n",
      "2024-08-29 00:20:01.997877: W external/xla/xla/tsl/framework/bfc_allocator.cc:494] ***********************************************************************_____________________________\n",
      "E0829 00:20:01.997904  308455 pjrt_stream_executor_client.cc:3067] Execution of replica 0 failed: RESOURCE_EXHAUSTED: Out of memory while trying to allocate 676359968 bytes.\n"
     ]
    },
    {
     "name": "stdout",
     "output_type": "stream",
     "text": [
      "error                     XlaRuntimeError('RESOURCE_EXHAUSTED: Out of memory while trying to allocate 676359968 bytes.')\n",
      "\n",
      "========== TRIAL 582 ==========\n",
      "Nin_virtual               20\n",
      "Nhidden                   40\n",
      "Nlayer                    2\n",
      "K                         50\n",
      "p_flip                    0.02\n",
      "Nt                        16\n"
     ]
    },
    {
     "name": "stderr",
     "output_type": "stream",
     "text": [
      "2024-08-29 00:20:18.254887: W external/xla/xla/tsl/framework/bfc_allocator.cc:482] Allocator (GPU_0_bfc) ran out of memory trying to allocate 858.65MiB (rounded to 900360192)requested by op \n",
      "2024-08-29 00:20:18.256816: W external/xla/xla/tsl/framework/bfc_allocator.cc:494] ************************************************************************____________________________\n",
      "E0829 00:20:18.256844  308455 pjrt_stream_executor_client.cc:3067] Execution of replica 0 failed: RESOURCE_EXHAUSTED: Out of memory while trying to allocate 900359968 bytes.\n"
     ]
    },
    {
     "name": "stdout",
     "output_type": "stream",
     "text": [
      "error                     XlaRuntimeError('RESOURCE_EXHAUSTED: Out of memory while trying to allocate 900359968 bytes.')\n",
      "\n",
      "========== TRIAL 583 ==========\n",
      "Nin_virtual               20\n",
      "Nhidden                   40\n",
      "Nlayer                    2\n",
      "K                         50\n",
      "p_flip                    0.04\n",
      "Nt                        8\n",
      "error                     XlaRuntimeError('RESOURCE_EXHAUSTED: Out of memory while trying to allocate 464777216 bytes.')\n",
      "\n",
      "========== TRIAL 584 ==========\n",
      "Nin_virtual               20\n",
      "Nhidden                   40\n",
      "Nlayer                    2\n",
      "K                         50\n",
      "p_flip                    0.04\n",
      "Nt                        12\n"
     ]
    },
    {
     "name": "stderr",
     "output_type": "stream",
     "text": [
      "2024-08-29 00:20:39.243314: W external/xla/xla/tsl/framework/bfc_allocator.cc:482] Allocator (GPU_0_bfc) ran out of memory trying to allocate 645.03MiB (rounded to 676360192)requested by op \n",
      "2024-08-29 00:20:39.245520: W external/xla/xla/tsl/framework/bfc_allocator.cc:494] ***********************************************************************_____________________________\n",
      "E0829 00:20:39.245551  308455 pjrt_stream_executor_client.cc:3067] Execution of replica 0 failed: RESOURCE_EXHAUSTED: Out of memory while trying to allocate 676359968 bytes.\n"
     ]
    },
    {
     "name": "stdout",
     "output_type": "stream",
     "text": [
      "error                     XlaRuntimeError('RESOURCE_EXHAUSTED: Out of memory while trying to allocate 676359968 bytes.')\n",
      "\n",
      "========== TRIAL 585 ==========\n",
      "Nin_virtual               20\n",
      "Nhidden                   40\n",
      "Nlayer                    2\n",
      "K                         50\n",
      "p_flip                    0.04\n",
      "Nt                        16\n"
     ]
    },
    {
     "name": "stderr",
     "output_type": "stream",
     "text": [
      "2024-08-29 00:20:55.482689: W external/xla/xla/tsl/framework/bfc_allocator.cc:482] Allocator (GPU_0_bfc) ran out of memory trying to allocate 858.65MiB (rounded to 900360192)requested by op \n",
      "2024-08-29 00:20:55.484880: W external/xla/xla/tsl/framework/bfc_allocator.cc:494] ************************************************************************____________________________\n",
      "E0829 00:20:55.484908  308455 pjrt_stream_executor_client.cc:3067] Execution of replica 0 failed: RESOURCE_EXHAUSTED: Out of memory while trying to allocate 900359968 bytes.\n"
     ]
    },
    {
     "name": "stdout",
     "output_type": "stream",
     "text": [
      "error                     XlaRuntimeError('RESOURCE_EXHAUSTED: Out of memory while trying to allocate 900359968 bytes.')\n",
      "\n",
      "========== TRIAL 586 ==========\n",
      "Nin_virtual               20\n",
      "Nhidden                   40\n",
      "Nlayer                    2\n",
      "K                         100\n",
      "p_flip                    0.0\n",
      "Nt                        8\n",
      "error                     XlaRuntimeError('RESOURCE_EXHAUSTED: Out of memory while trying to allocate 464777216 bytes.')\n",
      "\n",
      "========== TRIAL 587 ==========\n",
      "Nin_virtual               20\n",
      "Nhidden                   40\n",
      "Nlayer                    2\n",
      "K                         100\n",
      "p_flip                    0.0\n",
      "Nt                        12\n"
     ]
    },
    {
     "name": "stderr",
     "output_type": "stream",
     "text": [
      "2024-08-29 00:21:16.946801: W external/xla/xla/tsl/framework/bfc_allocator.cc:482] Allocator (GPU_0_bfc) ran out of memory trying to allocate 645.03MiB (rounded to 676360192)requested by op \n",
      "2024-08-29 00:21:16.948863: W external/xla/xla/tsl/framework/bfc_allocator.cc:494] ***********************************************************************_____________________________\n",
      "E0829 00:21:16.948895  308455 pjrt_stream_executor_client.cc:3067] Execution of replica 0 failed: RESOURCE_EXHAUSTED: Out of memory while trying to allocate 676359968 bytes.\n"
     ]
    },
    {
     "name": "stdout",
     "output_type": "stream",
     "text": [
      "error                     XlaRuntimeError('RESOURCE_EXHAUSTED: Out of memory while trying to allocate 676359968 bytes.')\n",
      "\n",
      "========== TRIAL 588 ==========\n",
      "Nin_virtual               20\n",
      "Nhidden                   40\n",
      "Nlayer                    2\n",
      "K                         100\n",
      "p_flip                    0.0\n",
      "Nt                        16\n"
     ]
    },
    {
     "name": "stderr",
     "output_type": "stream",
     "text": [
      "2024-08-29 00:21:33.560876: W external/xla/xla/tsl/framework/bfc_allocator.cc:482] Allocator (GPU_0_bfc) ran out of memory trying to allocate 858.65MiB (rounded to 900360192)requested by op \n",
      "2024-08-29 00:21:33.562826: W external/xla/xla/tsl/framework/bfc_allocator.cc:494] ************************************************************************____________________________\n",
      "E0829 00:21:33.562855  308455 pjrt_stream_executor_client.cc:3067] Execution of replica 0 failed: RESOURCE_EXHAUSTED: Out of memory while trying to allocate 900359968 bytes.\n"
     ]
    },
    {
     "name": "stdout",
     "output_type": "stream",
     "text": [
      "error                     XlaRuntimeError('RESOURCE_EXHAUSTED: Out of memory while trying to allocate 900359968 bytes.')\n",
      "\n",
      "========== TRIAL 589 ==========\n",
      "Nin_virtual               20\n",
      "Nhidden                   40\n",
      "Nlayer                    2\n",
      "K                         100\n",
      "p_flip                    0.02\n",
      "Nt                        8\n",
      "error                     XlaRuntimeError('RESOURCE_EXHAUSTED: Out of memory while trying to allocate 464777216 bytes.')\n",
      "\n",
      "========== TRIAL 590 ==========\n",
      "Nin_virtual               20\n",
      "Nhidden                   40\n",
      "Nlayer                    2\n",
      "K                         100\n",
      "p_flip                    0.02\n",
      "Nt                        12\n"
     ]
    },
    {
     "name": "stderr",
     "output_type": "stream",
     "text": [
      "2024-08-29 00:21:54.753654: W external/xla/xla/tsl/framework/bfc_allocator.cc:482] Allocator (GPU_0_bfc) ran out of memory trying to allocate 645.03MiB (rounded to 676360192)requested by op \n",
      "2024-08-29 00:21:54.755751: W external/xla/xla/tsl/framework/bfc_allocator.cc:494] ***********************************************************************_____________________________\n",
      "E0829 00:21:54.755779  308455 pjrt_stream_executor_client.cc:3067] Execution of replica 0 failed: RESOURCE_EXHAUSTED: Out of memory while trying to allocate 676359968 bytes.\n"
     ]
    },
    {
     "name": "stdout",
     "output_type": "stream",
     "text": [
      "error                     XlaRuntimeError('RESOURCE_EXHAUSTED: Out of memory while trying to allocate 676359968 bytes.')\n",
      "\n",
      "========== TRIAL 591 ==========\n",
      "Nin_virtual               20\n",
      "Nhidden                   40\n",
      "Nlayer                    2\n",
      "K                         100\n",
      "p_flip                    0.02\n",
      "Nt                        16\n"
     ]
    },
    {
     "name": "stderr",
     "output_type": "stream",
     "text": [
      "2024-08-29 00:22:11.112313: W external/xla/xla/tsl/framework/bfc_allocator.cc:482] Allocator (GPU_0_bfc) ran out of memory trying to allocate 858.65MiB (rounded to 900360192)requested by op \n",
      "2024-08-29 00:22:11.114330: W external/xla/xla/tsl/framework/bfc_allocator.cc:494] ************************************************************************____________________________\n",
      "E0829 00:22:11.114361  308455 pjrt_stream_executor_client.cc:3067] Execution of replica 0 failed: RESOURCE_EXHAUSTED: Out of memory while trying to allocate 900359968 bytes.\n"
     ]
    },
    {
     "name": "stdout",
     "output_type": "stream",
     "text": [
      "error                     XlaRuntimeError('RESOURCE_EXHAUSTED: Out of memory while trying to allocate 900359968 bytes.')\n",
      "\n",
      "========== TRIAL 592 ==========\n",
      "Nin_virtual               20\n",
      "Nhidden                   40\n",
      "Nlayer                    2\n",
      "K                         100\n",
      "p_flip                    0.04\n",
      "Nt                        8\n",
      "error                     XlaRuntimeError('RESOURCE_EXHAUSTED: Out of memory while trying to allocate 464777216 bytes.')\n",
      "\n",
      "========== TRIAL 593 ==========\n",
      "Nin_virtual               20\n",
      "Nhidden                   40\n",
      "Nlayer                    2\n",
      "K                         100\n",
      "p_flip                    0.04\n",
      "Nt                        12\n"
     ]
    },
    {
     "name": "stderr",
     "output_type": "stream",
     "text": [
      "2024-08-29 00:22:32.113048: W external/xla/xla/tsl/framework/bfc_allocator.cc:482] Allocator (GPU_0_bfc) ran out of memory trying to allocate 645.03MiB (rounded to 676360192)requested by op \n",
      "2024-08-29 00:22:32.115218: W external/xla/xla/tsl/framework/bfc_allocator.cc:494] ***********************************************************************_____________________________\n",
      "E0829 00:22:32.115247  308455 pjrt_stream_executor_client.cc:3067] Execution of replica 0 failed: RESOURCE_EXHAUSTED: Out of memory while trying to allocate 676359968 bytes.\n"
     ]
    },
    {
     "name": "stdout",
     "output_type": "stream",
     "text": [
      "error                     XlaRuntimeError('RESOURCE_EXHAUSTED: Out of memory while trying to allocate 676359968 bytes.')\n",
      "\n",
      "========== TRIAL 594 ==========\n",
      "Nin_virtual               20\n",
      "Nhidden                   40\n",
      "Nlayer                    2\n",
      "K                         100\n",
      "p_flip                    0.04\n",
      "Nt                        16\n"
     ]
    },
    {
     "name": "stderr",
     "output_type": "stream",
     "text": [
      "2024-08-29 00:22:48.365378: W external/xla/xla/tsl/framework/bfc_allocator.cc:482] Allocator (GPU_0_bfc) ran out of memory trying to allocate 858.65MiB (rounded to 900360192)requested by op \n",
      "2024-08-29 00:22:48.367445: W external/xla/xla/tsl/framework/bfc_allocator.cc:494] ************************************************************************____________________________\n",
      "E0829 00:22:48.367479  308455 pjrt_stream_executor_client.cc:3067] Execution of replica 0 failed: RESOURCE_EXHAUSTED: Out of memory while trying to allocate 900359968 bytes.\n"
     ]
    },
    {
     "name": "stdout",
     "output_type": "stream",
     "text": [
      "error                     XlaRuntimeError('RESOURCE_EXHAUSTED: Out of memory while trying to allocate 900359968 bytes.')\n",
      "\n",
      "========== TRIAL 595 ==========\n",
      "Nin_virtual               20\n",
      "Nhidden                   40\n",
      "Nlayer                    2\n",
      "K                         150\n",
      "p_flip                    0.0\n",
      "Nt                        8\n",
      "error                     XlaRuntimeError('RESOURCE_EXHAUSTED: Out of memory while trying to allocate 464777216 bytes.')\n",
      "\n",
      "========== TRIAL 596 ==========\n",
      "Nin_virtual               20\n",
      "Nhidden                   40\n",
      "Nlayer                    2\n",
      "K                         150\n",
      "p_flip                    0.0\n",
      "Nt                        12\n"
     ]
    },
    {
     "name": "stderr",
     "output_type": "stream",
     "text": [
      "2024-08-29 00:23:09.747458: W external/xla/xla/tsl/framework/bfc_allocator.cc:482] Allocator (GPU_0_bfc) ran out of memory trying to allocate 645.03MiB (rounded to 676360192)requested by op \n",
      "2024-08-29 00:23:09.749459: W external/xla/xla/tsl/framework/bfc_allocator.cc:494] ***********************************************************************_____________________________\n",
      "E0829 00:23:09.749491  308455 pjrt_stream_executor_client.cc:3067] Execution of replica 0 failed: RESOURCE_EXHAUSTED: Out of memory while trying to allocate 676359968 bytes.\n"
     ]
    },
    {
     "name": "stdout",
     "output_type": "stream",
     "text": [
      "error                     XlaRuntimeError('RESOURCE_EXHAUSTED: Out of memory while trying to allocate 676359968 bytes.')\n",
      "\n",
      "========== TRIAL 597 ==========\n",
      "Nin_virtual               20\n",
      "Nhidden                   40\n",
      "Nlayer                    2\n",
      "K                         150\n",
      "p_flip                    0.0\n",
      "Nt                        16\n"
     ]
    },
    {
     "name": "stderr",
     "output_type": "stream",
     "text": [
      "2024-08-29 00:23:26.413521: W external/xla/xla/tsl/framework/bfc_allocator.cc:482] Allocator (GPU_0_bfc) ran out of memory trying to allocate 858.65MiB (rounded to 900360192)requested by op \n",
      "2024-08-29 00:23:26.415852: W external/xla/xla/tsl/framework/bfc_allocator.cc:494] ************************************************************************____________________________\n",
      "E0829 00:23:26.415880  308455 pjrt_stream_executor_client.cc:3067] Execution of replica 0 failed: RESOURCE_EXHAUSTED: Out of memory while trying to allocate 900359968 bytes.\n"
     ]
    },
    {
     "name": "stdout",
     "output_type": "stream",
     "text": [
      "error                     XlaRuntimeError('RESOURCE_EXHAUSTED: Out of memory while trying to allocate 900359968 bytes.')\n",
      "\n",
      "========== TRIAL 598 ==========\n",
      "Nin_virtual               20\n",
      "Nhidden                   40\n",
      "Nlayer                    2\n",
      "K                         150\n",
      "p_flip                    0.02\n",
      "Nt                        8\n",
      "error                     XlaRuntimeError('RESOURCE_EXHAUSTED: Out of memory while trying to allocate 464777216 bytes.')\n",
      "\n",
      "========== TRIAL 599 ==========\n",
      "Nin_virtual               20\n",
      "Nhidden                   40\n",
      "Nlayer                    2\n",
      "K                         150\n",
      "p_flip                    0.02\n",
      "Nt                        12\n"
     ]
    },
    {
     "name": "stderr",
     "output_type": "stream",
     "text": [
      "2024-08-29 00:23:50.626540: W external/xla/xla/tsl/framework/bfc_allocator.cc:482] Allocator (GPU_0_bfc) ran out of memory trying to allocate 645.03MiB (rounded to 676360192)requested by op \n",
      "2024-08-29 00:23:50.628562: W external/xla/xla/tsl/framework/bfc_allocator.cc:494] ***********************************************************************_____________________________\n",
      "E0829 00:23:50.628589  308455 pjrt_stream_executor_client.cc:3067] Execution of replica 0 failed: RESOURCE_EXHAUSTED: Out of memory while trying to allocate 676359968 bytes.\n"
     ]
    },
    {
     "name": "stdout",
     "output_type": "stream",
     "text": [
      "error                     XlaRuntimeError('RESOURCE_EXHAUSTED: Out of memory while trying to allocate 676359968 bytes.')\n",
      "\n",
      "========== TRIAL 600 ==========\n",
      "Nin_virtual               20\n",
      "Nhidden                   40\n",
      "Nlayer                    2\n",
      "K                         150\n",
      "p_flip                    0.02\n",
      "Nt                        16\n"
     ]
    },
    {
     "name": "stderr",
     "output_type": "stream",
     "text": [
      "2024-08-29 00:24:06.860679: W external/xla/xla/tsl/framework/bfc_allocator.cc:482] Allocator (GPU_0_bfc) ran out of memory trying to allocate 858.65MiB (rounded to 900360192)requested by op \n",
      "2024-08-29 00:24:06.862620: W external/xla/xla/tsl/framework/bfc_allocator.cc:494] ************************************************************************____________________________\n",
      "E0829 00:24:06.862648  308455 pjrt_stream_executor_client.cc:3067] Execution of replica 0 failed: RESOURCE_EXHAUSTED: Out of memory while trying to allocate 900359968 bytes.\n"
     ]
    },
    {
     "name": "stdout",
     "output_type": "stream",
     "text": [
      "error                     XlaRuntimeError('RESOURCE_EXHAUSTED: Out of memory while trying to allocate 900359968 bytes.')\n",
      "\n",
      "========== TRIAL 601 ==========\n",
      "Nin_virtual               20\n",
      "Nhidden                   40\n",
      "Nlayer                    2\n",
      "K                         150\n",
      "p_flip                    0.04\n",
      "Nt                        8\n",
      "error                     XlaRuntimeError('RESOURCE_EXHAUSTED: Out of memory while trying to allocate 464777216 bytes.')\n",
      "\n",
      "========== TRIAL 602 ==========\n",
      "Nin_virtual               20\n",
      "Nhidden                   40\n",
      "Nlayer                    2\n",
      "K                         150\n",
      "p_flip                    0.04\n",
      "Nt                        12\n"
     ]
    },
    {
     "name": "stderr",
     "output_type": "stream",
     "text": [
      "2024-08-29 00:24:27.992042: W external/xla/xla/tsl/framework/bfc_allocator.cc:482] Allocator (GPU_0_bfc) ran out of memory trying to allocate 645.03MiB (rounded to 676360192)requested by op \n",
      "2024-08-29 00:24:27.994003: W external/xla/xla/tsl/framework/bfc_allocator.cc:494] ***********************************************************************_____________________________\n",
      "E0829 00:24:27.994029  308455 pjrt_stream_executor_client.cc:3067] Execution of replica 0 failed: RESOURCE_EXHAUSTED: Out of memory while trying to allocate 676359968 bytes.\n"
     ]
    },
    {
     "name": "stdout",
     "output_type": "stream",
     "text": [
      "error                     XlaRuntimeError('RESOURCE_EXHAUSTED: Out of memory while trying to allocate 676359968 bytes.')\n",
      "\n",
      "========== TRIAL 603 ==========\n",
      "Nin_virtual               20\n",
      "Nhidden                   40\n",
      "Nlayer                    2\n",
      "K                         150\n",
      "p_flip                    0.04\n",
      "Nt                        16\n"
     ]
    },
    {
     "name": "stderr",
     "output_type": "stream",
     "text": [
      "2024-08-29 00:24:44.228470: W external/xla/xla/tsl/framework/bfc_allocator.cc:482] Allocator (GPU_0_bfc) ran out of memory trying to allocate 858.65MiB (rounded to 900360192)requested by op \n",
      "2024-08-29 00:24:44.230602: W external/xla/xla/tsl/framework/bfc_allocator.cc:494] ************************************************************************____________________________\n",
      "E0829 00:24:44.230629  308455 pjrt_stream_executor_client.cc:3067] Execution of replica 0 failed: RESOURCE_EXHAUSTED: Out of memory while trying to allocate 900359968 bytes.\n"
     ]
    },
    {
     "name": "stdout",
     "output_type": "stream",
     "text": [
      "error                     XlaRuntimeError('RESOURCE_EXHAUSTED: Out of memory while trying to allocate 900359968 bytes.')\n",
      "\n",
      "========== TRIAL 604 ==========\n",
      "Nin_virtual               20\n",
      "Nhidden                   40\n",
      "Nlayer                    2\n",
      "K                         200\n",
      "p_flip                    0.0\n",
      "Nt                        8\n",
      "error                     XlaRuntimeError('RESOURCE_EXHAUSTED: Out of memory while trying to allocate 464777216 bytes.')\n",
      "\n",
      "========== TRIAL 605 ==========\n",
      "Nin_virtual               20\n",
      "Nhidden                   40\n",
      "Nlayer                    2\n",
      "K                         200\n",
      "p_flip                    0.0\n",
      "Nt                        12\n"
     ]
    },
    {
     "name": "stderr",
     "output_type": "stream",
     "text": [
      "2024-08-29 00:25:05.720248: W external/xla/xla/tsl/framework/bfc_allocator.cc:482] Allocator (GPU_0_bfc) ran out of memory trying to allocate 645.03MiB (rounded to 676360192)requested by op \n",
      "2024-08-29 00:25:05.723305: W external/xla/xla/tsl/framework/bfc_allocator.cc:494] ***********************************************************************_____________________________\n",
      "E0829 00:25:05.723340  308455 pjrt_stream_executor_client.cc:3067] Execution of replica 0 failed: RESOURCE_EXHAUSTED: Out of memory while trying to allocate 676359968 bytes.\n"
     ]
    },
    {
     "name": "stdout",
     "output_type": "stream",
     "text": [
      "error                     XlaRuntimeError('RESOURCE_EXHAUSTED: Out of memory while trying to allocate 676359968 bytes.')\n",
      "\n",
      "========== TRIAL 606 ==========\n",
      "Nin_virtual               20\n",
      "Nhidden                   40\n",
      "Nlayer                    2\n",
      "K                         200\n",
      "p_flip                    0.0\n",
      "Nt                        16\n"
     ]
    },
    {
     "name": "stderr",
     "output_type": "stream",
     "text": [
      "2024-08-29 00:25:22.392786: W external/xla/xla/tsl/framework/bfc_allocator.cc:482] Allocator (GPU_0_bfc) ran out of memory trying to allocate 858.65MiB (rounded to 900360192)requested by op \n",
      "2024-08-29 00:25:22.394857: W external/xla/xla/tsl/framework/bfc_allocator.cc:494] ************************************************************************____________________________\n",
      "E0829 00:25:22.394884  308455 pjrt_stream_executor_client.cc:3067] Execution of replica 0 failed: RESOURCE_EXHAUSTED: Out of memory while trying to allocate 900359968 bytes.\n"
     ]
    },
    {
     "name": "stdout",
     "output_type": "stream",
     "text": [
      "error                     XlaRuntimeError('RESOURCE_EXHAUSTED: Out of memory while trying to allocate 900359968 bytes.')\n",
      "\n",
      "========== TRIAL 607 ==========\n",
      "Nin_virtual               20\n",
      "Nhidden                   40\n",
      "Nlayer                    2\n",
      "K                         200\n",
      "p_flip                    0.02\n",
      "Nt                        8\n",
      "error                     XlaRuntimeError('RESOURCE_EXHAUSTED: Out of memory while trying to allocate 464777216 bytes.')\n",
      "\n",
      "========== TRIAL 608 ==========\n",
      "Nin_virtual               20\n",
      "Nhidden                   40\n",
      "Nlayer                    2\n",
      "K                         200\n",
      "p_flip                    0.02\n",
      "Nt                        12\n"
     ]
    },
    {
     "name": "stderr",
     "output_type": "stream",
     "text": [
      "2024-08-29 00:25:43.584388: W external/xla/xla/tsl/framework/bfc_allocator.cc:482] Allocator (GPU_0_bfc) ran out of memory trying to allocate 645.03MiB (rounded to 676360192)requested by op \n",
      "2024-08-29 00:25:43.586421: W external/xla/xla/tsl/framework/bfc_allocator.cc:494] ***********************************************************************_____________________________\n",
      "E0829 00:25:43.586458  308455 pjrt_stream_executor_client.cc:3067] Execution of replica 0 failed: RESOURCE_EXHAUSTED: Out of memory while trying to allocate 676359968 bytes.\n"
     ]
    },
    {
     "name": "stdout",
     "output_type": "stream",
     "text": [
      "error                     XlaRuntimeError('RESOURCE_EXHAUSTED: Out of memory while trying to allocate 676359968 bytes.')\n",
      "\n",
      "========== TRIAL 609 ==========\n",
      "Nin_virtual               20\n",
      "Nhidden                   40\n",
      "Nlayer                    2\n",
      "K                         200\n",
      "p_flip                    0.02\n",
      "Nt                        16\n"
     ]
    },
    {
     "name": "stderr",
     "output_type": "stream",
     "text": [
      "2024-08-29 00:25:59.908235: W external/xla/xla/tsl/framework/bfc_allocator.cc:482] Allocator (GPU_0_bfc) ran out of memory trying to allocate 858.65MiB (rounded to 900360192)requested by op \n",
      "2024-08-29 00:25:59.910359: W external/xla/xla/tsl/framework/bfc_allocator.cc:494] ************************************************************************____________________________\n",
      "E0829 00:25:59.910389  308455 pjrt_stream_executor_client.cc:3067] Execution of replica 0 failed: RESOURCE_EXHAUSTED: Out of memory while trying to allocate 900359968 bytes.\n"
     ]
    },
    {
     "name": "stdout",
     "output_type": "stream",
     "text": [
      "error                     XlaRuntimeError('RESOURCE_EXHAUSTED: Out of memory while trying to allocate 900359968 bytes.')\n",
      "\n",
      "========== TRIAL 610 ==========\n",
      "Nin_virtual               20\n",
      "Nhidden                   40\n",
      "Nlayer                    2\n",
      "K                         200\n",
      "p_flip                    0.04\n",
      "Nt                        8\n",
      "error                     XlaRuntimeError('RESOURCE_EXHAUSTED: Out of memory while trying to allocate 464777216 bytes.')\n",
      "\n",
      "========== TRIAL 611 ==========\n",
      "Nin_virtual               20\n",
      "Nhidden                   40\n",
      "Nlayer                    2\n",
      "K                         200\n",
      "p_flip                    0.04\n",
      "Nt                        12\n"
     ]
    },
    {
     "name": "stderr",
     "output_type": "stream",
     "text": [
      "2024-08-29 00:26:21.035847: W external/xla/xla/tsl/framework/bfc_allocator.cc:482] Allocator (GPU_0_bfc) ran out of memory trying to allocate 645.03MiB (rounded to 676360192)requested by op \n",
      "2024-08-29 00:26:21.037889: W external/xla/xla/tsl/framework/bfc_allocator.cc:494] ***********************************************************************_____________________________\n",
      "E0829 00:26:21.037915  308455 pjrt_stream_executor_client.cc:3067] Execution of replica 0 failed: RESOURCE_EXHAUSTED: Out of memory while trying to allocate 676359968 bytes.\n"
     ]
    },
    {
     "name": "stdout",
     "output_type": "stream",
     "text": [
      "error                     XlaRuntimeError('RESOURCE_EXHAUSTED: Out of memory while trying to allocate 676359968 bytes.')\n",
      "\n",
      "========== TRIAL 612 ==========\n",
      "Nin_virtual               20\n",
      "Nhidden                   40\n",
      "Nlayer                    2\n",
      "K                         200\n",
      "p_flip                    0.04\n",
      "Nt                        16\n"
     ]
    },
    {
     "name": "stderr",
     "output_type": "stream",
     "text": [
      "2024-08-29 00:26:37.304047: W external/xla/xla/tsl/framework/bfc_allocator.cc:482] Allocator (GPU_0_bfc) ran out of memory trying to allocate 858.65MiB (rounded to 900360192)requested by op \n",
      "2024-08-29 00:26:37.306066: W external/xla/xla/tsl/framework/bfc_allocator.cc:494] ************************************************************************____________________________\n",
      "E0829 00:26:37.306094  308455 pjrt_stream_executor_client.cc:3067] Execution of replica 0 failed: RESOURCE_EXHAUSTED: Out of memory while trying to allocate 900359968 bytes.\n"
     ]
    },
    {
     "name": "stdout",
     "output_type": "stream",
     "text": [
      "error                     XlaRuntimeError('RESOURCE_EXHAUSTED: Out of memory while trying to allocate 900359968 bytes.')\n",
      "\n",
      "========== TRIAL 613 ==========\n",
      "Nin_virtual               20\n",
      "Nhidden                   40\n",
      "Nlayer                    3\n",
      "K                         50\n",
      "p_flip                    0.0\n",
      "Nt                        8\n",
      "error                     XlaRuntimeError('RESOURCE_EXHAUSTED: Out of memory while trying to allocate 464777216 bytes.')\n",
      "\n",
      "========== TRIAL 614 ==========\n",
      "Nin_virtual               20\n",
      "Nhidden                   40\n",
      "Nlayer                    3\n",
      "K                         50\n",
      "p_flip                    0.0\n",
      "Nt                        12\n"
     ]
    },
    {
     "name": "stderr",
     "output_type": "stream",
     "text": [
      "2024-08-29 00:26:58.847153: W external/xla/xla/tsl/framework/bfc_allocator.cc:482] Allocator (GPU_0_bfc) ran out of memory trying to allocate 645.03MiB (rounded to 676360448)requested by op \n",
      "2024-08-29 00:26:58.849280: W external/xla/xla/tsl/framework/bfc_allocator.cc:494] ***********************************************************************_____________________________\n",
      "E0829 00:26:58.849308  308455 pjrt_stream_executor_client.cc:3067] Execution of replica 0 failed: RESOURCE_EXHAUSTED: Out of memory while trying to allocate 676360224 bytes.\n"
     ]
    },
    {
     "name": "stdout",
     "output_type": "stream",
     "text": [
      "error                     XlaRuntimeError('RESOURCE_EXHAUSTED: Out of memory while trying to allocate 676360224 bytes.')\n",
      "\n",
      "========== TRIAL 615 ==========\n",
      "Nin_virtual               20\n",
      "Nhidden                   40\n",
      "Nlayer                    3\n",
      "K                         50\n",
      "p_flip                    0.0\n",
      "Nt                        16\n"
     ]
    },
    {
     "name": "stderr",
     "output_type": "stream",
     "text": [
      "2024-08-29 00:27:15.559885: W external/xla/xla/tsl/framework/bfc_allocator.cc:482] Allocator (GPU_0_bfc) ran out of memory trying to allocate 858.65MiB (rounded to 900360448)requested by op \n",
      "2024-08-29 00:27:15.561993: W external/xla/xla/tsl/framework/bfc_allocator.cc:494] ************************************************************************____________________________\n",
      "E0829 00:27:15.562023  308455 pjrt_stream_executor_client.cc:3067] Execution of replica 0 failed: RESOURCE_EXHAUSTED: Out of memory while trying to allocate 900360224 bytes.\n"
     ]
    },
    {
     "name": "stdout",
     "output_type": "stream",
     "text": [
      "error                     XlaRuntimeError('RESOURCE_EXHAUSTED: Out of memory while trying to allocate 900360224 bytes.')\n",
      "\n",
      "========== TRIAL 616 ==========\n",
      "Nin_virtual               20\n",
      "Nhidden                   40\n",
      "Nlayer                    3\n",
      "K                         50\n",
      "p_flip                    0.02\n",
      "Nt                        8\n",
      "error                     XlaRuntimeError('RESOURCE_EXHAUSTED: Out of memory while trying to allocate 464777216 bytes.')\n",
      "\n",
      "========== TRIAL 617 ==========\n",
      "Nin_virtual               20\n",
      "Nhidden                   40\n",
      "Nlayer                    3\n",
      "K                         50\n",
      "p_flip                    0.02\n",
      "Nt                        12\n"
     ]
    },
    {
     "name": "stderr",
     "output_type": "stream",
     "text": [
      "2024-08-29 00:27:36.675327: W external/xla/xla/tsl/framework/bfc_allocator.cc:482] Allocator (GPU_0_bfc) ran out of memory trying to allocate 645.03MiB (rounded to 676360448)requested by op \n",
      "2024-08-29 00:27:36.677414: W external/xla/xla/tsl/framework/bfc_allocator.cc:494] ***********************************************************************_____________________________\n",
      "E0829 00:27:36.677442  308455 pjrt_stream_executor_client.cc:3067] Execution of replica 0 failed: RESOURCE_EXHAUSTED: Out of memory while trying to allocate 676360224 bytes.\n"
     ]
    },
    {
     "name": "stdout",
     "output_type": "stream",
     "text": [
      "error                     XlaRuntimeError('RESOURCE_EXHAUSTED: Out of memory while trying to allocate 676360224 bytes.')\n",
      "\n",
      "========== TRIAL 618 ==========\n",
      "Nin_virtual               20\n",
      "Nhidden                   40\n",
      "Nlayer                    3\n",
      "K                         50\n",
      "p_flip                    0.02\n",
      "Nt                        16\n"
     ]
    },
    {
     "name": "stderr",
     "output_type": "stream",
     "text": [
      "2024-08-29 00:27:52.992622: W external/xla/xla/tsl/framework/bfc_allocator.cc:482] Allocator (GPU_0_bfc) ran out of memory trying to allocate 858.65MiB (rounded to 900360448)requested by op \n",
      "2024-08-29 00:27:52.994658: W external/xla/xla/tsl/framework/bfc_allocator.cc:494] ************************************************************************____________________________\n",
      "E0829 00:27:52.994686  308455 pjrt_stream_executor_client.cc:3067] Execution of replica 0 failed: RESOURCE_EXHAUSTED: Out of memory while trying to allocate 900360224 bytes.\n"
     ]
    },
    {
     "name": "stdout",
     "output_type": "stream",
     "text": [
      "error                     XlaRuntimeError('RESOURCE_EXHAUSTED: Out of memory while trying to allocate 900360224 bytes.')\n",
      "\n",
      "========== TRIAL 619 ==========\n",
      "Nin_virtual               20\n",
      "Nhidden                   40\n",
      "Nlayer                    3\n",
      "K                         50\n",
      "p_flip                    0.04\n",
      "Nt                        8\n",
      "error                     XlaRuntimeError('RESOURCE_EXHAUSTED: Out of memory while trying to allocate 464777216 bytes.')\n",
      "\n",
      "========== TRIAL 620 ==========\n",
      "Nin_virtual               20\n",
      "Nhidden                   40\n",
      "Nlayer                    3\n",
      "K                         50\n",
      "p_flip                    0.04\n",
      "Nt                        12\n"
     ]
    },
    {
     "name": "stderr",
     "output_type": "stream",
     "text": [
      "2024-08-29 00:28:14.114862: W external/xla/xla/tsl/framework/bfc_allocator.cc:482] Allocator (GPU_0_bfc) ran out of memory trying to allocate 645.03MiB (rounded to 676360448)requested by op \n",
      "2024-08-29 00:28:14.116982: W external/xla/xla/tsl/framework/bfc_allocator.cc:494] ***********************************************************************_____________________________\n",
      "E0829 00:28:14.117013  308455 pjrt_stream_executor_client.cc:3067] Execution of replica 0 failed: RESOURCE_EXHAUSTED: Out of memory while trying to allocate 676360224 bytes.\n"
     ]
    },
    {
     "name": "stdout",
     "output_type": "stream",
     "text": [
      "error                     XlaRuntimeError('RESOURCE_EXHAUSTED: Out of memory while trying to allocate 676360224 bytes.')\n",
      "\n",
      "========== TRIAL 621 ==========\n",
      "Nin_virtual               20\n",
      "Nhidden                   40\n",
      "Nlayer                    3\n",
      "K                         50\n",
      "p_flip                    0.04\n",
      "Nt                        16\n"
     ]
    },
    {
     "name": "stderr",
     "output_type": "stream",
     "text": [
      "2024-08-29 00:28:30.429533: W external/xla/xla/tsl/framework/bfc_allocator.cc:482] Allocator (GPU_0_bfc) ran out of memory trying to allocate 858.65MiB (rounded to 900360448)requested by op \n",
      "2024-08-29 00:28:30.431178: W external/xla/xla/tsl/framework/bfc_allocator.cc:494] ************************************************************************____________________________\n",
      "E0829 00:28:30.431208  308455 pjrt_stream_executor_client.cc:3067] Execution of replica 0 failed: RESOURCE_EXHAUSTED: Out of memory while trying to allocate 900360224 bytes.\n"
     ]
    },
    {
     "name": "stdout",
     "output_type": "stream",
     "text": [
      "error                     XlaRuntimeError('RESOURCE_EXHAUSTED: Out of memory while trying to allocate 900360224 bytes.')\n",
      "\n",
      "========== TRIAL 622 ==========\n",
      "Nin_virtual               20\n",
      "Nhidden                   40\n",
      "Nlayer                    3\n",
      "K                         100\n",
      "p_flip                    0.0\n",
      "Nt                        8\n",
      "error                     XlaRuntimeError('RESOURCE_EXHAUSTED: Out of memory while trying to allocate 464777216 bytes.')\n",
      "\n",
      "========== TRIAL 623 ==========\n",
      "Nin_virtual               20\n",
      "Nhidden                   40\n",
      "Nlayer                    3\n",
      "K                         100\n",
      "p_flip                    0.0\n",
      "Nt                        12\n"
     ]
    },
    {
     "name": "stderr",
     "output_type": "stream",
     "text": [
      "2024-08-29 00:28:52.140762: W external/xla/xla/tsl/framework/bfc_allocator.cc:482] Allocator (GPU_0_bfc) ran out of memory trying to allocate 645.03MiB (rounded to 676360448)requested by op \n",
      "2024-08-29 00:28:52.143069: W external/xla/xla/tsl/framework/bfc_allocator.cc:494] ***********************************************************************_____________________________\n",
      "E0829 00:28:52.143097  308455 pjrt_stream_executor_client.cc:3067] Execution of replica 0 failed: RESOURCE_EXHAUSTED: Out of memory while trying to allocate 676360224 bytes.\n"
     ]
    },
    {
     "name": "stdout",
     "output_type": "stream",
     "text": [
      "error                     XlaRuntimeError('RESOURCE_EXHAUSTED: Out of memory while trying to allocate 676360224 bytes.')\n",
      "\n",
      "========== TRIAL 624 ==========\n",
      "Nin_virtual               20\n",
      "Nhidden                   40\n",
      "Nlayer                    3\n",
      "K                         100\n",
      "p_flip                    0.0\n",
      "Nt                        16\n"
     ]
    },
    {
     "name": "stderr",
     "output_type": "stream",
     "text": [
      "2024-08-29 00:29:08.878946: W external/xla/xla/tsl/framework/bfc_allocator.cc:482] Allocator (GPU_0_bfc) ran out of memory trying to allocate 858.65MiB (rounded to 900360448)requested by op \n",
      "2024-08-29 00:29:08.881226: W external/xla/xla/tsl/framework/bfc_allocator.cc:494] ************************************************************************____________________________\n",
      "E0829 00:29:08.881262  308455 pjrt_stream_executor_client.cc:3067] Execution of replica 0 failed: RESOURCE_EXHAUSTED: Out of memory while trying to allocate 900360224 bytes.\n"
     ]
    },
    {
     "name": "stdout",
     "output_type": "stream",
     "text": [
      "error                     XlaRuntimeError('RESOURCE_EXHAUSTED: Out of memory while trying to allocate 900360224 bytes.')\n",
      "\n",
      "========== TRIAL 625 ==========\n",
      "Nin_virtual               20\n",
      "Nhidden                   40\n",
      "Nlayer                    3\n",
      "K                         100\n",
      "p_flip                    0.02\n",
      "Nt                        8\n",
      "error                     XlaRuntimeError('RESOURCE_EXHAUSTED: Out of memory while trying to allocate 464777216 bytes.')\n",
      "\n",
      "========== TRIAL 626 ==========\n",
      "Nin_virtual               20\n",
      "Nhidden                   40\n",
      "Nlayer                    3\n",
      "K                         100\n",
      "p_flip                    0.02\n",
      "Nt                        12\n"
     ]
    },
    {
     "name": "stderr",
     "output_type": "stream",
     "text": [
      "2024-08-29 00:29:33.130874: W external/xla/xla/tsl/framework/bfc_allocator.cc:482] Allocator (GPU_0_bfc) ran out of memory trying to allocate 645.03MiB (rounded to 676360448)requested by op \n",
      "2024-08-29 00:29:33.132949: W external/xla/xla/tsl/framework/bfc_allocator.cc:494] ***********************************************************************_____________________________\n",
      "E0829 00:29:33.132977  308455 pjrt_stream_executor_client.cc:3067] Execution of replica 0 failed: RESOURCE_EXHAUSTED: Out of memory while trying to allocate 676360224 bytes.\n"
     ]
    },
    {
     "name": "stdout",
     "output_type": "stream",
     "text": [
      "error                     XlaRuntimeError('RESOURCE_EXHAUSTED: Out of memory while trying to allocate 676360224 bytes.')\n",
      "\n",
      "========== TRIAL 627 ==========\n",
      "Nin_virtual               20\n",
      "Nhidden                   40\n",
      "Nlayer                    3\n",
      "K                         100\n",
      "p_flip                    0.02\n",
      "Nt                        16\n"
     ]
    },
    {
     "name": "stderr",
     "output_type": "stream",
     "text": [
      "2024-08-29 00:29:49.514412: W external/xla/xla/tsl/framework/bfc_allocator.cc:482] Allocator (GPU_0_bfc) ran out of memory trying to allocate 858.65MiB (rounded to 900360448)requested by op \n",
      "2024-08-29 00:29:49.516706: W external/xla/xla/tsl/framework/bfc_allocator.cc:494] ************************************************************************____________________________\n",
      "E0829 00:29:49.516734  308455 pjrt_stream_executor_client.cc:3067] Execution of replica 0 failed: RESOURCE_EXHAUSTED: Out of memory while trying to allocate 900360224 bytes.\n"
     ]
    },
    {
     "name": "stdout",
     "output_type": "stream",
     "text": [
      "error                     XlaRuntimeError('RESOURCE_EXHAUSTED: Out of memory while trying to allocate 900360224 bytes.')\n",
      "\n",
      "========== TRIAL 628 ==========\n",
      "Nin_virtual               20\n",
      "Nhidden                   40\n",
      "Nlayer                    3\n",
      "K                         100\n",
      "p_flip                    0.04\n",
      "Nt                        8\n",
      "error                     XlaRuntimeError('RESOURCE_EXHAUSTED: Out of memory while trying to allocate 464777216 bytes.')\n",
      "\n",
      "========== TRIAL 629 ==========\n",
      "Nin_virtual               20\n",
      "Nhidden                   40\n",
      "Nlayer                    3\n",
      "K                         100\n",
      "p_flip                    0.04\n",
      "Nt                        12\n"
     ]
    },
    {
     "name": "stderr",
     "output_type": "stream",
     "text": [
      "2024-08-29 00:30:10.770308: W external/xla/xla/tsl/framework/bfc_allocator.cc:482] Allocator (GPU_0_bfc) ran out of memory trying to allocate 645.03MiB (rounded to 676360448)requested by op \n",
      "2024-08-29 00:30:10.772455: W external/xla/xla/tsl/framework/bfc_allocator.cc:494] ***********************************************************************_____________________________\n",
      "E0829 00:30:10.772484  308455 pjrt_stream_executor_client.cc:3067] Execution of replica 0 failed: RESOURCE_EXHAUSTED: Out of memory while trying to allocate 676360224 bytes.\n"
     ]
    },
    {
     "name": "stdout",
     "output_type": "stream",
     "text": [
      "error                     XlaRuntimeError('RESOURCE_EXHAUSTED: Out of memory while trying to allocate 676360224 bytes.')\n",
      "\n",
      "========== TRIAL 630 ==========\n",
      "Nin_virtual               20\n",
      "Nhidden                   40\n",
      "Nlayer                    3\n",
      "K                         100\n",
      "p_flip                    0.04\n",
      "Nt                        16\n"
     ]
    },
    {
     "name": "stderr",
     "output_type": "stream",
     "text": [
      "2024-08-29 00:30:27.088408: W external/xla/xla/tsl/framework/bfc_allocator.cc:482] Allocator (GPU_0_bfc) ran out of memory trying to allocate 858.65MiB (rounded to 900360448)requested by op \n",
      "2024-08-29 00:30:27.090616: W external/xla/xla/tsl/framework/bfc_allocator.cc:494] ************************************************************************____________________________\n",
      "E0829 00:30:27.090648  308455 pjrt_stream_executor_client.cc:3067] Execution of replica 0 failed: RESOURCE_EXHAUSTED: Out of memory while trying to allocate 900360224 bytes.\n"
     ]
    },
    {
     "name": "stdout",
     "output_type": "stream",
     "text": [
      "error                     XlaRuntimeError('RESOURCE_EXHAUSTED: Out of memory while trying to allocate 900360224 bytes.')\n",
      "\n",
      "========== TRIAL 631 ==========\n",
      "Nin_virtual               20\n",
      "Nhidden                   40\n",
      "Nlayer                    3\n",
      "K                         150\n",
      "p_flip                    0.0\n",
      "Nt                        8\n",
      "error                     XlaRuntimeError('RESOURCE_EXHAUSTED: Out of memory while trying to allocate 464777216 bytes.')\n",
      "\n",
      "========== TRIAL 632 ==========\n",
      "Nin_virtual               20\n",
      "Nhidden                   40\n",
      "Nlayer                    3\n",
      "K                         150\n",
      "p_flip                    0.0\n",
      "Nt                        12\n"
     ]
    },
    {
     "name": "stderr",
     "output_type": "stream",
     "text": [
      "2024-08-29 00:30:48.651321: W external/xla/xla/tsl/framework/bfc_allocator.cc:482] Allocator (GPU_0_bfc) ran out of memory trying to allocate 645.03MiB (rounded to 676360448)requested by op \n",
      "2024-08-29 00:30:48.653674: W external/xla/xla/tsl/framework/bfc_allocator.cc:494] ***********************************************************************_____________________________\n",
      "E0829 00:30:48.653703  308455 pjrt_stream_executor_client.cc:3067] Execution of replica 0 failed: RESOURCE_EXHAUSTED: Out of memory while trying to allocate 676360224 bytes.\n"
     ]
    },
    {
     "name": "stdout",
     "output_type": "stream",
     "text": [
      "error                     XlaRuntimeError('RESOURCE_EXHAUSTED: Out of memory while trying to allocate 676360224 bytes.')\n",
      "\n",
      "========== TRIAL 633 ==========\n",
      "Nin_virtual               20\n",
      "Nhidden                   40\n",
      "Nlayer                    3\n",
      "K                         150\n",
      "p_flip                    0.0\n",
      "Nt                        16\n"
     ]
    },
    {
     "name": "stderr",
     "output_type": "stream",
     "text": [
      "2024-08-29 00:31:05.446584: W external/xla/xla/tsl/framework/bfc_allocator.cc:482] Allocator (GPU_0_bfc) ran out of memory trying to allocate 858.65MiB (rounded to 900360448)requested by op \n",
      "2024-08-29 00:31:05.448840: W external/xla/xla/tsl/framework/bfc_allocator.cc:494] ************************************************************************____________________________\n",
      "E0829 00:31:05.448873  308455 pjrt_stream_executor_client.cc:3067] Execution of replica 0 failed: RESOURCE_EXHAUSTED: Out of memory while trying to allocate 900360224 bytes.\n"
     ]
    },
    {
     "name": "stdout",
     "output_type": "stream",
     "text": [
      "error                     XlaRuntimeError('RESOURCE_EXHAUSTED: Out of memory while trying to allocate 900360224 bytes.')\n",
      "\n",
      "========== TRIAL 634 ==========\n",
      "Nin_virtual               20\n",
      "Nhidden                   40\n",
      "Nlayer                    3\n",
      "K                         150\n",
      "p_flip                    0.02\n",
      "Nt                        8\n",
      "error                     XlaRuntimeError('RESOURCE_EXHAUSTED: Out of memory while trying to allocate 464777216 bytes.')\n",
      "\n",
      "========== TRIAL 635 ==========\n",
      "Nin_virtual               20\n",
      "Nhidden                   40\n",
      "Nlayer                    3\n",
      "K                         150\n",
      "p_flip                    0.02\n",
      "Nt                        12\n"
     ]
    },
    {
     "name": "stderr",
     "output_type": "stream",
     "text": [
      "2024-08-29 00:31:26.641708: W external/xla/xla/tsl/framework/bfc_allocator.cc:482] Allocator (GPU_0_bfc) ran out of memory trying to allocate 645.03MiB (rounded to 676360448)requested by op \n",
      "2024-08-29 00:31:26.643755: W external/xla/xla/tsl/framework/bfc_allocator.cc:494] ***********************************************************************_____________________________\n",
      "E0829 00:31:26.643787  308455 pjrt_stream_executor_client.cc:3067] Execution of replica 0 failed: RESOURCE_EXHAUSTED: Out of memory while trying to allocate 676360224 bytes.\n"
     ]
    },
    {
     "name": "stdout",
     "output_type": "stream",
     "text": [
      "error                     XlaRuntimeError('RESOURCE_EXHAUSTED: Out of memory while trying to allocate 676360224 bytes.')\n",
      "\n",
      "========== TRIAL 636 ==========\n",
      "Nin_virtual               20\n",
      "Nhidden                   40\n",
      "Nlayer                    3\n",
      "K                         150\n",
      "p_flip                    0.02\n",
      "Nt                        16\n"
     ]
    },
    {
     "name": "stderr",
     "output_type": "stream",
     "text": [
      "2024-08-29 00:31:42.953742: W external/xla/xla/tsl/framework/bfc_allocator.cc:482] Allocator (GPU_0_bfc) ran out of memory trying to allocate 858.65MiB (rounded to 900360448)requested by op \n",
      "2024-08-29 00:31:42.955852: W external/xla/xla/tsl/framework/bfc_allocator.cc:494] ************************************************************************____________________________\n",
      "E0829 00:31:42.955883  308455 pjrt_stream_executor_client.cc:3067] Execution of replica 0 failed: RESOURCE_EXHAUSTED: Out of memory while trying to allocate 900360224 bytes.\n"
     ]
    },
    {
     "name": "stdout",
     "output_type": "stream",
     "text": [
      "error                     XlaRuntimeError('RESOURCE_EXHAUSTED: Out of memory while trying to allocate 900360224 bytes.')\n",
      "\n",
      "========== TRIAL 637 ==========\n",
      "Nin_virtual               20\n",
      "Nhidden                   40\n",
      "Nlayer                    3\n",
      "K                         150\n",
      "p_flip                    0.04\n",
      "Nt                        8\n",
      "error                     XlaRuntimeError('RESOURCE_EXHAUSTED: Out of memory while trying to allocate 464777216 bytes.')\n",
      "\n",
      "========== TRIAL 638 ==========\n",
      "Nin_virtual               20\n",
      "Nhidden                   40\n",
      "Nlayer                    3\n",
      "K                         150\n",
      "p_flip                    0.04\n",
      "Nt                        12\n"
     ]
    },
    {
     "name": "stderr",
     "output_type": "stream",
     "text": [
      "2024-08-29 00:32:04.224342: W external/xla/xla/tsl/framework/bfc_allocator.cc:482] Allocator (GPU_0_bfc) ran out of memory trying to allocate 645.03MiB (rounded to 676360448)requested by op \n",
      "2024-08-29 00:32:04.226497: W external/xla/xla/tsl/framework/bfc_allocator.cc:494] ***********************************************************************_____________________________\n",
      "E0829 00:32:04.226526  308455 pjrt_stream_executor_client.cc:3067] Execution of replica 0 failed: RESOURCE_EXHAUSTED: Out of memory while trying to allocate 676360224 bytes.\n"
     ]
    },
    {
     "name": "stdout",
     "output_type": "stream",
     "text": [
      "error                     XlaRuntimeError('RESOURCE_EXHAUSTED: Out of memory while trying to allocate 676360224 bytes.')\n",
      "\n",
      "========== TRIAL 639 ==========\n",
      "Nin_virtual               20\n",
      "Nhidden                   40\n",
      "Nlayer                    3\n",
      "K                         150\n",
      "p_flip                    0.04\n",
      "Nt                        16\n"
     ]
    },
    {
     "name": "stderr",
     "output_type": "stream",
     "text": [
      "2024-08-29 00:32:20.572937: W external/xla/xla/tsl/framework/bfc_allocator.cc:482] Allocator (GPU_0_bfc) ran out of memory trying to allocate 858.65MiB (rounded to 900360448)requested by op \n",
      "2024-08-29 00:32:20.575278: W external/xla/xla/tsl/framework/bfc_allocator.cc:494] ************************************************************************____________________________\n",
      "E0829 00:32:20.575317  308455 pjrt_stream_executor_client.cc:3067] Execution of replica 0 failed: RESOURCE_EXHAUSTED: Out of memory while trying to allocate 900360224 bytes.\n"
     ]
    },
    {
     "name": "stdout",
     "output_type": "stream",
     "text": [
      "error                     XlaRuntimeError('RESOURCE_EXHAUSTED: Out of memory while trying to allocate 900360224 bytes.')\n",
      "\n",
      "========== TRIAL 640 ==========\n",
      "Nin_virtual               20\n",
      "Nhidden                   40\n",
      "Nlayer                    3\n",
      "K                         200\n",
      "p_flip                    0.0\n",
      "Nt                        8\n",
      "error                     XlaRuntimeError('RESOURCE_EXHAUSTED: Out of memory while trying to allocate 464777216 bytes.')\n",
      "\n",
      "========== TRIAL 641 ==========\n",
      "Nin_virtual               20\n",
      "Nhidden                   40\n",
      "Nlayer                    3\n",
      "K                         200\n",
      "p_flip                    0.0\n",
      "Nt                        12\n"
     ]
    },
    {
     "name": "stderr",
     "output_type": "stream",
     "text": [
      "2024-08-29 00:32:42.232990: W external/xla/xla/tsl/framework/bfc_allocator.cc:482] Allocator (GPU_0_bfc) ran out of memory trying to allocate 645.03MiB (rounded to 676360448)requested by op \n",
      "2024-08-29 00:32:42.235152: W external/xla/xla/tsl/framework/bfc_allocator.cc:494] ***********************************************************************_____________________________\n",
      "E0829 00:32:42.235187  308455 pjrt_stream_executor_client.cc:3067] Execution of replica 0 failed: RESOURCE_EXHAUSTED: Out of memory while trying to allocate 676360224 bytes.\n"
     ]
    },
    {
     "name": "stdout",
     "output_type": "stream",
     "text": [
      "error                     XlaRuntimeError('RESOURCE_EXHAUSTED: Out of memory while trying to allocate 676360224 bytes.')\n",
      "\n",
      "========== TRIAL 642 ==========\n",
      "Nin_virtual               20\n",
      "Nhidden                   40\n",
      "Nlayer                    3\n",
      "K                         200\n",
      "p_flip                    0.0\n",
      "Nt                        16\n"
     ]
    },
    {
     "name": "stderr",
     "output_type": "stream",
     "text": [
      "2024-08-29 00:32:59.107414: W external/xla/xla/tsl/framework/bfc_allocator.cc:482] Allocator (GPU_0_bfc) ran out of memory trying to allocate 858.65MiB (rounded to 900360448)requested by op \n",
      "2024-08-29 00:32:59.109782: W external/xla/xla/tsl/framework/bfc_allocator.cc:494] ************************************************************************____________________________\n",
      "E0829 00:32:59.109813  308455 pjrt_stream_executor_client.cc:3067] Execution of replica 0 failed: RESOURCE_EXHAUSTED: Out of memory while trying to allocate 900360224 bytes.\n"
     ]
    },
    {
     "name": "stdout",
     "output_type": "stream",
     "text": [
      "error                     XlaRuntimeError('RESOURCE_EXHAUSTED: Out of memory while trying to allocate 900360224 bytes.')\n",
      "\n",
      "========== TRIAL 643 ==========\n",
      "Nin_virtual               20\n",
      "Nhidden                   40\n",
      "Nlayer                    3\n",
      "K                         200\n",
      "p_flip                    0.02\n",
      "Nt                        8\n",
      "error                     XlaRuntimeError('RESOURCE_EXHAUSTED: Out of memory while trying to allocate 464777216 bytes.')\n",
      "\n",
      "========== TRIAL 644 ==========\n",
      "Nin_virtual               20\n",
      "Nhidden                   40\n",
      "Nlayer                    3\n",
      "K                         200\n",
      "p_flip                    0.02\n",
      "Nt                        12\n"
     ]
    },
    {
     "name": "stderr",
     "output_type": "stream",
     "text": [
      "2024-08-29 00:33:20.312859: W external/xla/xla/tsl/framework/bfc_allocator.cc:482] Allocator (GPU_0_bfc) ran out of memory trying to allocate 645.03MiB (rounded to 676360448)requested by op \n",
      "2024-08-29 00:33:20.314940: W external/xla/xla/tsl/framework/bfc_allocator.cc:494] ***********************************************************************_____________________________\n",
      "E0829 00:33:20.314971  308455 pjrt_stream_executor_client.cc:3067] Execution of replica 0 failed: RESOURCE_EXHAUSTED: Out of memory while trying to allocate 676360224 bytes.\n"
     ]
    },
    {
     "name": "stdout",
     "output_type": "stream",
     "text": [
      "error                     XlaRuntimeError('RESOURCE_EXHAUSTED: Out of memory while trying to allocate 676360224 bytes.')\n",
      "\n",
      "========== TRIAL 645 ==========\n",
      "Nin_virtual               20\n",
      "Nhidden                   40\n",
      "Nlayer                    3\n",
      "K                         200\n",
      "p_flip                    0.02\n",
      "Nt                        16\n"
     ]
    },
    {
     "name": "stderr",
     "output_type": "stream",
     "text": [
      "2024-08-29 00:33:36.657034: W external/xla/xla/tsl/framework/bfc_allocator.cc:482] Allocator (GPU_0_bfc) ran out of memory trying to allocate 858.65MiB (rounded to 900360448)requested by op \n",
      "2024-08-29 00:33:36.659101: W external/xla/xla/tsl/framework/bfc_allocator.cc:494] ************************************************************************____________________________\n",
      "E0829 00:33:36.659129  308455 pjrt_stream_executor_client.cc:3067] Execution of replica 0 failed: RESOURCE_EXHAUSTED: Out of memory while trying to allocate 900360224 bytes.\n"
     ]
    },
    {
     "name": "stdout",
     "output_type": "stream",
     "text": [
      "error                     XlaRuntimeError('RESOURCE_EXHAUSTED: Out of memory while trying to allocate 900360224 bytes.')\n",
      "\n",
      "========== TRIAL 646 ==========\n",
      "Nin_virtual               20\n",
      "Nhidden                   40\n",
      "Nlayer                    3\n",
      "K                         200\n",
      "p_flip                    0.04\n",
      "Nt                        8\n",
      "error                     XlaRuntimeError('RESOURCE_EXHAUSTED: Out of memory while trying to allocate 464777216 bytes.')\n",
      "\n",
      "========== TRIAL 647 ==========\n",
      "Nin_virtual               20\n",
      "Nhidden                   40\n",
      "Nlayer                    3\n",
      "K                         200\n",
      "p_flip                    0.04\n",
      "Nt                        12\n"
     ]
    },
    {
     "name": "stderr",
     "output_type": "stream",
     "text": [
      "2024-08-29 00:33:57.898652: W external/xla/xla/tsl/framework/bfc_allocator.cc:482] Allocator (GPU_0_bfc) ran out of memory trying to allocate 645.03MiB (rounded to 676360448)requested by op \n",
      "2024-08-29 00:33:57.900694: W external/xla/xla/tsl/framework/bfc_allocator.cc:494] ***********************************************************************_____________________________\n",
      "E0829 00:33:57.900722  308455 pjrt_stream_executor_client.cc:3067] Execution of replica 0 failed: RESOURCE_EXHAUSTED: Out of memory while trying to allocate 676360224 bytes.\n"
     ]
    },
    {
     "name": "stdout",
     "output_type": "stream",
     "text": [
      "error                     XlaRuntimeError('RESOURCE_EXHAUSTED: Out of memory while trying to allocate 676360224 bytes.')\n",
      "\n",
      "========== TRIAL 648 ==========\n",
      "Nin_virtual               20\n",
      "Nhidden                   40\n",
      "Nlayer                    3\n",
      "K                         200\n",
      "p_flip                    0.04\n",
      "Nt                        16\n"
     ]
    },
    {
     "name": "stderr",
     "output_type": "stream",
     "text": [
      "2024-08-29 00:34:14.227346: W external/xla/xla/tsl/framework/bfc_allocator.cc:482] Allocator (GPU_0_bfc) ran out of memory trying to allocate 858.65MiB (rounded to 900360448)requested by op \n",
      "2024-08-29 00:34:14.229590: W external/xla/xla/tsl/framework/bfc_allocator.cc:494] ************************************************************************____________________________\n",
      "E0829 00:34:14.229623  308455 pjrt_stream_executor_client.cc:3067] Execution of replica 0 failed: RESOURCE_EXHAUSTED: Out of memory while trying to allocate 900360224 bytes.\n"
     ]
    },
    {
     "name": "stdout",
     "output_type": "stream",
     "text": [
      "error                     XlaRuntimeError('RESOURCE_EXHAUSTED: Out of memory while trying to allocate 900360224 bytes.')\n",
      "\n",
      "========== TRIAL 649 ==========\n",
      "Nin_virtual               20\n",
      "Nhidden                   60\n",
      "Nlayer                    2\n",
      "K                         50\n",
      "p_flip                    0.0\n",
      "Nt                        8\n",
      "error                     XlaRuntimeError('RESOURCE_EXHAUSTED: Out of memory while trying to allocate 464777216 bytes.')\n",
      "\n",
      "========== TRIAL 650 ==========\n",
      "Nin_virtual               20\n",
      "Nhidden                   60\n",
      "Nlayer                    2\n",
      "K                         50\n",
      "p_flip                    0.0\n",
      "Nt                        12\n"
     ]
    },
    {
     "name": "stderr",
     "output_type": "stream",
     "text": [
      "2024-08-29 00:34:38.943971: W external/xla/xla/tsl/framework/bfc_allocator.cc:482] Allocator (GPU_0_bfc) ran out of memory trying to allocate 645.10MiB (rounded to 676440064)requested by op \n",
      "2024-08-29 00:34:38.946104: W external/xla/xla/tsl/framework/bfc_allocator.cc:494] ***********************************************************************_____________________________\n",
      "E0829 00:34:38.946133  308455 pjrt_stream_executor_client.cc:3067] Execution of replica 0 failed: RESOURCE_EXHAUSTED: Out of memory while trying to allocate 676439968 bytes.\n"
     ]
    },
    {
     "name": "stdout",
     "output_type": "stream",
     "text": [
      "error                     XlaRuntimeError('RESOURCE_EXHAUSTED: Out of memory while trying to allocate 676439968 bytes.')\n",
      "\n",
      "========== TRIAL 651 ==========\n",
      "Nin_virtual               20\n",
      "Nhidden                   60\n",
      "Nlayer                    2\n",
      "K                         50\n",
      "p_flip                    0.0\n",
      "Nt                        16\n"
     ]
    },
    {
     "name": "stderr",
     "output_type": "stream",
     "text": [
      "2024-08-29 00:34:55.664767: W external/xla/xla/tsl/framework/bfc_allocator.cc:482] Allocator (GPU_0_bfc) ran out of memory trying to allocate 858.73MiB (rounded to 900440064)requested by op \n",
      "2024-08-29 00:34:55.666910: W external/xla/xla/tsl/framework/bfc_allocator.cc:494] ************************************************************************____________________________\n",
      "E0829 00:34:55.666938  308455 pjrt_stream_executor_client.cc:3067] Execution of replica 0 failed: RESOURCE_EXHAUSTED: Out of memory while trying to allocate 900439968 bytes.\n"
     ]
    },
    {
     "name": "stdout",
     "output_type": "stream",
     "text": [
      "error                     XlaRuntimeError('RESOURCE_EXHAUSTED: Out of memory while trying to allocate 900439968 bytes.')\n",
      "\n",
      "========== TRIAL 652 ==========\n",
      "Nin_virtual               20\n",
      "Nhidden                   60\n",
      "Nlayer                    2\n",
      "K                         50\n",
      "p_flip                    0.02\n",
      "Nt                        8\n",
      "error                     XlaRuntimeError('RESOURCE_EXHAUSTED: Out of memory while trying to allocate 464777216 bytes.')\n",
      "\n",
      "========== TRIAL 653 ==========\n",
      "Nin_virtual               20\n",
      "Nhidden                   60\n",
      "Nlayer                    2\n",
      "K                         50\n",
      "p_flip                    0.02\n",
      "Nt                        12\n"
     ]
    },
    {
     "name": "stderr",
     "output_type": "stream",
     "text": [
      "2024-08-29 00:35:16.825772: W external/xla/xla/tsl/framework/bfc_allocator.cc:482] Allocator (GPU_0_bfc) ran out of memory trying to allocate 645.10MiB (rounded to 676440064)requested by op \n",
      "2024-08-29 00:35:16.828010: W external/xla/xla/tsl/framework/bfc_allocator.cc:494] ***********************************************************************_____________________________\n",
      "E0829 00:35:16.828039  308455 pjrt_stream_executor_client.cc:3067] Execution of replica 0 failed: RESOURCE_EXHAUSTED: Out of memory while trying to allocate 676439968 bytes.\n"
     ]
    },
    {
     "name": "stdout",
     "output_type": "stream",
     "text": [
      "error                     XlaRuntimeError('RESOURCE_EXHAUSTED: Out of memory while trying to allocate 676439968 bytes.')\n",
      "\n",
      "========== TRIAL 654 ==========\n",
      "Nin_virtual               20\n",
      "Nhidden                   60\n",
      "Nlayer                    2\n",
      "K                         50\n",
      "p_flip                    0.02\n",
      "Nt                        16\n"
     ]
    },
    {
     "name": "stderr",
     "output_type": "stream",
     "text": [
      "2024-08-29 00:35:33.134720: W external/xla/xla/tsl/framework/bfc_allocator.cc:482] Allocator (GPU_0_bfc) ran out of memory trying to allocate 858.73MiB (rounded to 900440064)requested by op \n",
      "2024-08-29 00:35:33.137102: W external/xla/xla/tsl/framework/bfc_allocator.cc:494] ************************************************************************____________________________\n",
      "E0829 00:35:33.137133  308455 pjrt_stream_executor_client.cc:3067] Execution of replica 0 failed: RESOURCE_EXHAUSTED: Out of memory while trying to allocate 900439968 bytes.\n"
     ]
    },
    {
     "name": "stdout",
     "output_type": "stream",
     "text": [
      "error                     XlaRuntimeError('RESOURCE_EXHAUSTED: Out of memory while trying to allocate 900439968 bytes.')\n",
      "\n",
      "========== TRIAL 655 ==========\n",
      "Nin_virtual               20\n",
      "Nhidden                   60\n",
      "Nlayer                    2\n",
      "K                         50\n",
      "p_flip                    0.04\n",
      "Nt                        8\n",
      "error                     XlaRuntimeError('RESOURCE_EXHAUSTED: Out of memory while trying to allocate 464777216 bytes.')\n",
      "\n",
      "========== TRIAL 656 ==========\n",
      "Nin_virtual               20\n",
      "Nhidden                   60\n",
      "Nlayer                    2\n",
      "K                         50\n",
      "p_flip                    0.04\n",
      "Nt                        12\n"
     ]
    },
    {
     "name": "stderr",
     "output_type": "stream",
     "text": [
      "2024-08-29 00:35:54.249029: W external/xla/xla/tsl/framework/bfc_allocator.cc:482] Allocator (GPU_0_bfc) ran out of memory trying to allocate 645.10MiB (rounded to 676440064)requested by op \n",
      "2024-08-29 00:35:54.251362: W external/xla/xla/tsl/framework/bfc_allocator.cc:494] ***********************************************************************_____________________________\n",
      "E0829 00:35:54.251391  308455 pjrt_stream_executor_client.cc:3067] Execution of replica 0 failed: RESOURCE_EXHAUSTED: Out of memory while trying to allocate 676439968 bytes.\n"
     ]
    },
    {
     "name": "stdout",
     "output_type": "stream",
     "text": [
      "error                     XlaRuntimeError('RESOURCE_EXHAUSTED: Out of memory while trying to allocate 676439968 bytes.')\n",
      "\n",
      "========== TRIAL 657 ==========\n",
      "Nin_virtual               20\n",
      "Nhidden                   60\n",
      "Nlayer                    2\n",
      "K                         50\n",
      "p_flip                    0.04\n",
      "Nt                        16\n"
     ]
    },
    {
     "name": "stderr",
     "output_type": "stream",
     "text": [
      "2024-08-29 00:36:10.659397: W external/xla/xla/tsl/framework/bfc_allocator.cc:482] Allocator (GPU_0_bfc) ran out of memory trying to allocate 858.73MiB (rounded to 900440064)requested by op \n",
      "2024-08-29 00:36:10.661722: W external/xla/xla/tsl/framework/bfc_allocator.cc:494] ************************************************************************____________________________\n",
      "E0829 00:36:10.661753  308455 pjrt_stream_executor_client.cc:3067] Execution of replica 0 failed: RESOURCE_EXHAUSTED: Out of memory while trying to allocate 900439968 bytes.\n"
     ]
    },
    {
     "name": "stdout",
     "output_type": "stream",
     "text": [
      "error                     XlaRuntimeError('RESOURCE_EXHAUSTED: Out of memory while trying to allocate 900439968 bytes.')\n",
      "\n",
      "========== TRIAL 658 ==========\n",
      "Nin_virtual               20\n",
      "Nhidden                   60\n",
      "Nlayer                    2\n",
      "K                         100\n",
      "p_flip                    0.0\n",
      "Nt                        8\n",
      "error                     XlaRuntimeError('RESOURCE_EXHAUSTED: Out of memory while trying to allocate 464777216 bytes.')\n",
      "\n",
      "========== TRIAL 659 ==========\n",
      "Nin_virtual               20\n",
      "Nhidden                   60\n",
      "Nlayer                    2\n",
      "K                         100\n",
      "p_flip                    0.0\n",
      "Nt                        12\n"
     ]
    },
    {
     "name": "stderr",
     "output_type": "stream",
     "text": [
      "2024-08-29 00:36:32.273822: W external/xla/xla/tsl/framework/bfc_allocator.cc:482] Allocator (GPU_0_bfc) ran out of memory trying to allocate 645.10MiB (rounded to 676440064)requested by op \n",
      "2024-08-29 00:36:32.276193: W external/xla/xla/tsl/framework/bfc_allocator.cc:494] ***********************************************************************_____________________________\n",
      "E0829 00:36:32.276230  308455 pjrt_stream_executor_client.cc:3067] Execution of replica 0 failed: RESOURCE_EXHAUSTED: Out of memory while trying to allocate 676439968 bytes.\n"
     ]
    },
    {
     "name": "stdout",
     "output_type": "stream",
     "text": [
      "error                     XlaRuntimeError('RESOURCE_EXHAUSTED: Out of memory while trying to allocate 676439968 bytes.')\n",
      "\n",
      "========== TRIAL 660 ==========\n",
      "Nin_virtual               20\n",
      "Nhidden                   60\n",
      "Nlayer                    2\n",
      "K                         100\n",
      "p_flip                    0.0\n",
      "Nt                        16\n"
     ]
    },
    {
     "name": "stderr",
     "output_type": "stream",
     "text": [
      "2024-08-29 00:36:49.021580: W external/xla/xla/tsl/framework/bfc_allocator.cc:482] Allocator (GPU_0_bfc) ran out of memory trying to allocate 858.73MiB (rounded to 900440064)requested by op \n",
      "2024-08-29 00:36:49.023953: W external/xla/xla/tsl/framework/bfc_allocator.cc:494] ************************************************************************____________________________\n",
      "E0829 00:36:49.023982  308455 pjrt_stream_executor_client.cc:3067] Execution of replica 0 failed: RESOURCE_EXHAUSTED: Out of memory while trying to allocate 900439968 bytes.\n"
     ]
    },
    {
     "name": "stdout",
     "output_type": "stream",
     "text": [
      "error                     XlaRuntimeError('RESOURCE_EXHAUSTED: Out of memory while trying to allocate 900439968 bytes.')\n",
      "\n",
      "========== TRIAL 661 ==========\n",
      "Nin_virtual               20\n",
      "Nhidden                   60\n",
      "Nlayer                    2\n",
      "K                         100\n",
      "p_flip                    0.02\n",
      "Nt                        8\n",
      "error                     XlaRuntimeError('RESOURCE_EXHAUSTED: Out of memory while trying to allocate 464777216 bytes.')\n",
      "\n",
      "========== TRIAL 662 ==========\n",
      "Nin_virtual               20\n",
      "Nhidden                   60\n",
      "Nlayer                    2\n",
      "K                         100\n",
      "p_flip                    0.02\n",
      "Nt                        12\n"
     ]
    },
    {
     "name": "stderr",
     "output_type": "stream",
     "text": [
      "2024-08-29 00:37:10.181288: W external/xla/xla/tsl/framework/bfc_allocator.cc:482] Allocator (GPU_0_bfc) ran out of memory trying to allocate 645.10MiB (rounded to 676440064)requested by op \n",
      "2024-08-29 00:37:10.182935: W external/xla/xla/tsl/framework/bfc_allocator.cc:494] ***********************************************************************_____________________________\n",
      "E0829 00:37:10.182963  308455 pjrt_stream_executor_client.cc:3067] Execution of replica 0 failed: RESOURCE_EXHAUSTED: Out of memory while trying to allocate 676439968 bytes.\n"
     ]
    },
    {
     "name": "stdout",
     "output_type": "stream",
     "text": [
      "error                     XlaRuntimeError('RESOURCE_EXHAUSTED: Out of memory while trying to allocate 676439968 bytes.')\n",
      "\n",
      "========== TRIAL 663 ==========\n",
      "Nin_virtual               20\n",
      "Nhidden                   60\n",
      "Nlayer                    2\n",
      "K                         100\n",
      "p_flip                    0.02\n",
      "Nt                        16\n"
     ]
    },
    {
     "name": "stderr",
     "output_type": "stream",
     "text": [
      "2024-08-29 00:37:26.547749: W external/xla/xla/tsl/framework/bfc_allocator.cc:482] Allocator (GPU_0_bfc) ran out of memory trying to allocate 858.73MiB (rounded to 900440064)requested by op \n",
      "2024-08-29 00:37:26.549981: W external/xla/xla/tsl/framework/bfc_allocator.cc:494] ************************************************************************____________________________\n",
      "E0829 00:37:26.550015  308455 pjrt_stream_executor_client.cc:3067] Execution of replica 0 failed: RESOURCE_EXHAUSTED: Out of memory while trying to allocate 900439968 bytes.\n"
     ]
    },
    {
     "name": "stdout",
     "output_type": "stream",
     "text": [
      "error                     XlaRuntimeError('RESOURCE_EXHAUSTED: Out of memory while trying to allocate 900439968 bytes.')\n",
      "\n",
      "========== TRIAL 664 ==========\n",
      "Nin_virtual               20\n",
      "Nhidden                   60\n",
      "Nlayer                    2\n",
      "K                         100\n",
      "p_flip                    0.04\n",
      "Nt                        8\n",
      "error                     XlaRuntimeError('RESOURCE_EXHAUSTED: Out of memory while trying to allocate 464777216 bytes.')\n",
      "\n",
      "========== TRIAL 665 ==========\n",
      "Nin_virtual               20\n",
      "Nhidden                   60\n",
      "Nlayer                    2\n",
      "K                         100\n",
      "p_flip                    0.04\n",
      "Nt                        12\n"
     ]
    },
    {
     "name": "stderr",
     "output_type": "stream",
     "text": [
      "2024-08-29 00:37:47.685675: W external/xla/xla/tsl/framework/bfc_allocator.cc:482] Allocator (GPU_0_bfc) ran out of memory trying to allocate 645.10MiB (rounded to 676440064)requested by op \n",
      "2024-08-29 00:37:47.688058: W external/xla/xla/tsl/framework/bfc_allocator.cc:494] ***********************************************************************_____________________________\n",
      "E0829 00:37:47.688089  308455 pjrt_stream_executor_client.cc:3067] Execution of replica 0 failed: RESOURCE_EXHAUSTED: Out of memory while trying to allocate 676439968 bytes.\n"
     ]
    },
    {
     "name": "stdout",
     "output_type": "stream",
     "text": [
      "error                     XlaRuntimeError('RESOURCE_EXHAUSTED: Out of memory while trying to allocate 676439968 bytes.')\n",
      "\n",
      "========== TRIAL 666 ==========\n",
      "Nin_virtual               20\n",
      "Nhidden                   60\n",
      "Nlayer                    2\n",
      "K                         100\n",
      "p_flip                    0.04\n",
      "Nt                        16\n"
     ]
    },
    {
     "name": "stderr",
     "output_type": "stream",
     "text": [
      "2024-08-29 00:38:04.031260: W external/xla/xla/tsl/framework/bfc_allocator.cc:482] Allocator (GPU_0_bfc) ran out of memory trying to allocate 858.73MiB (rounded to 900440064)requested by op \n",
      "2024-08-29 00:38:04.033605: W external/xla/xla/tsl/framework/bfc_allocator.cc:494] ************************************************************************____________________________\n",
      "E0829 00:38:04.033638  308455 pjrt_stream_executor_client.cc:3067] Execution of replica 0 failed: RESOURCE_EXHAUSTED: Out of memory while trying to allocate 900439968 bytes.\n"
     ]
    },
    {
     "name": "stdout",
     "output_type": "stream",
     "text": [
      "error                     XlaRuntimeError('RESOURCE_EXHAUSTED: Out of memory while trying to allocate 900439968 bytes.')\n",
      "\n",
      "========== TRIAL 667 ==========\n",
      "Nin_virtual               20\n",
      "Nhidden                   60\n",
      "Nlayer                    2\n",
      "K                         150\n",
      "p_flip                    0.0\n",
      "Nt                        8\n",
      "error                     XlaRuntimeError('RESOURCE_EXHAUSTED: Out of memory while trying to allocate 464777216 bytes.')\n",
      "\n",
      "========== TRIAL 668 ==========\n",
      "Nin_virtual               20\n",
      "Nhidden                   60\n",
      "Nlayer                    2\n",
      "K                         150\n",
      "p_flip                    0.0\n",
      "Nt                        12\n"
     ]
    },
    {
     "name": "stderr",
     "output_type": "stream",
     "text": [
      "2024-08-29 00:38:25.576922: W external/xla/xla/tsl/framework/bfc_allocator.cc:482] Allocator (GPU_0_bfc) ran out of memory trying to allocate 645.10MiB (rounded to 676440064)requested by op \n",
      "2024-08-29 00:38:25.579401: W external/xla/xla/tsl/framework/bfc_allocator.cc:494] ***********************************************************************_____________________________\n",
      "E0829 00:38:25.579433  308455 pjrt_stream_executor_client.cc:3067] Execution of replica 0 failed: RESOURCE_EXHAUSTED: Out of memory while trying to allocate 676439968 bytes.\n"
     ]
    },
    {
     "name": "stdout",
     "output_type": "stream",
     "text": [
      "error                     XlaRuntimeError('RESOURCE_EXHAUSTED: Out of memory while trying to allocate 676439968 bytes.')\n",
      "\n",
      "========== TRIAL 669 ==========\n",
      "Nin_virtual               20\n",
      "Nhidden                   60\n",
      "Nlayer                    2\n",
      "K                         150\n",
      "p_flip                    0.0\n",
      "Nt                        16\n"
     ]
    },
    {
     "name": "stderr",
     "output_type": "stream",
     "text": [
      "2024-08-29 00:38:42.347090: W external/xla/xla/tsl/framework/bfc_allocator.cc:482] Allocator (GPU_0_bfc) ran out of memory trying to allocate 858.73MiB (rounded to 900440064)requested by op \n",
      "2024-08-29 00:38:42.349519: W external/xla/xla/tsl/framework/bfc_allocator.cc:494] ************************************************************************____________________________\n",
      "E0829 00:38:42.349558  308455 pjrt_stream_executor_client.cc:3067] Execution of replica 0 failed: RESOURCE_EXHAUSTED: Out of memory while trying to allocate 900439968 bytes.\n"
     ]
    },
    {
     "name": "stdout",
     "output_type": "stream",
     "text": [
      "error                     XlaRuntimeError('RESOURCE_EXHAUSTED: Out of memory while trying to allocate 900439968 bytes.')\n",
      "\n",
      "========== TRIAL 670 ==========\n",
      "Nin_virtual               20\n",
      "Nhidden                   60\n",
      "Nlayer                    2\n",
      "K                         150\n",
      "p_flip                    0.02\n",
      "Nt                        8\n",
      "error                     XlaRuntimeError('RESOURCE_EXHAUSTED: Out of memory while trying to allocate 464777216 bytes.')\n",
      "\n",
      "========== TRIAL 671 ==========\n",
      "Nin_virtual               20\n",
      "Nhidden                   60\n",
      "Nlayer                    2\n",
      "K                         150\n",
      "p_flip                    0.02\n",
      "Nt                        12\n"
     ]
    },
    {
     "name": "stderr",
     "output_type": "stream",
     "text": [
      "2024-08-29 00:39:03.524745: W external/xla/xla/tsl/framework/bfc_allocator.cc:482] Allocator (GPU_0_bfc) ran out of memory trying to allocate 645.10MiB (rounded to 676440064)requested by op \n",
      "2024-08-29 00:39:03.527077: W external/xla/xla/tsl/framework/bfc_allocator.cc:494] ***********************************************************************_____________________________\n",
      "E0829 00:39:03.527107  308455 pjrt_stream_executor_client.cc:3067] Execution of replica 0 failed: RESOURCE_EXHAUSTED: Out of memory while trying to allocate 676439968 bytes.\n"
     ]
    },
    {
     "name": "stdout",
     "output_type": "stream",
     "text": [
      "error                     XlaRuntimeError('RESOURCE_EXHAUSTED: Out of memory while trying to allocate 676439968 bytes.')\n",
      "\n",
      "========== TRIAL 672 ==========\n",
      "Nin_virtual               20\n",
      "Nhidden                   60\n",
      "Nlayer                    2\n",
      "K                         150\n",
      "p_flip                    0.02\n",
      "Nt                        16\n"
     ]
    },
    {
     "name": "stderr",
     "output_type": "stream",
     "text": [
      "2024-08-29 00:39:19.883731: W external/xla/xla/tsl/framework/bfc_allocator.cc:482] Allocator (GPU_0_bfc) ran out of memory trying to allocate 858.73MiB (rounded to 900440064)requested by op \n",
      "2024-08-29 00:39:19.886220: W external/xla/xla/tsl/framework/bfc_allocator.cc:494] ************************************************************************____________________________\n",
      "E0829 00:39:19.886255  308455 pjrt_stream_executor_client.cc:3067] Execution of replica 0 failed: RESOURCE_EXHAUSTED: Out of memory while trying to allocate 900439968 bytes.\n"
     ]
    },
    {
     "name": "stdout",
     "output_type": "stream",
     "text": [
      "error                     XlaRuntimeError('RESOURCE_EXHAUSTED: Out of memory while trying to allocate 900439968 bytes.')\n",
      "\n",
      "========== TRIAL 673 ==========\n",
      "Nin_virtual               20\n",
      "Nhidden                   60\n",
      "Nlayer                    2\n",
      "K                         150\n",
      "p_flip                    0.04\n",
      "Nt                        8\n",
      "error                     XlaRuntimeError('RESOURCE_EXHAUSTED: Out of memory while trying to allocate 464777216 bytes.')\n",
      "\n",
      "========== TRIAL 674 ==========\n",
      "Nin_virtual               20\n",
      "Nhidden                   60\n",
      "Nlayer                    2\n",
      "K                         150\n",
      "p_flip                    0.04\n",
      "Nt                        12\n"
     ]
    },
    {
     "name": "stderr",
     "output_type": "stream",
     "text": [
      "2024-08-29 00:39:41.103054: W external/xla/xla/tsl/framework/bfc_allocator.cc:482] Allocator (GPU_0_bfc) ran out of memory trying to allocate 645.10MiB (rounded to 676440064)requested by op \n",
      "2024-08-29 00:39:41.105033: W external/xla/xla/tsl/framework/bfc_allocator.cc:494] ***********************************************************************_____________________________\n",
      "E0829 00:39:41.105064  308455 pjrt_stream_executor_client.cc:3067] Execution of replica 0 failed: RESOURCE_EXHAUSTED: Out of memory while trying to allocate 676439968 bytes.\n"
     ]
    },
    {
     "name": "stdout",
     "output_type": "stream",
     "text": [
      "error                     XlaRuntimeError('RESOURCE_EXHAUSTED: Out of memory while trying to allocate 676439968 bytes.')\n",
      "\n",
      "========== TRIAL 675 ==========\n",
      "Nin_virtual               20\n",
      "Nhidden                   60\n",
      "Nlayer                    2\n",
      "K                         150\n",
      "p_flip                    0.04\n",
      "Nt                        16\n"
     ]
    },
    {
     "name": "stderr",
     "output_type": "stream",
     "text": [
      "2024-08-29 00:40:00.517058: W external/xla/xla/tsl/framework/bfc_allocator.cc:482] Allocator (GPU_0_bfc) ran out of memory trying to allocate 858.73MiB (rounded to 900440064)requested by op \n",
      "2024-08-29 00:40:00.519229: W external/xla/xla/tsl/framework/bfc_allocator.cc:494] ************************************************************************____________________________\n",
      "E0829 00:40:00.519258  308455 pjrt_stream_executor_client.cc:3067] Execution of replica 0 failed: RESOURCE_EXHAUSTED: Out of memory while trying to allocate 900439968 bytes.\n"
     ]
    },
    {
     "name": "stdout",
     "output_type": "stream",
     "text": [
      "error                     XlaRuntimeError('RESOURCE_EXHAUSTED: Out of memory while trying to allocate 900439968 bytes.')\n",
      "\n",
      "========== TRIAL 676 ==========\n",
      "Nin_virtual               20\n",
      "Nhidden                   60\n",
      "Nlayer                    2\n",
      "K                         200\n",
      "p_flip                    0.0\n",
      "Nt                        8\n",
      "error                     XlaRuntimeError('RESOURCE_EXHAUSTED: Out of memory while trying to allocate 464777216 bytes.')\n",
      "\n",
      "========== TRIAL 677 ==========\n",
      "Nin_virtual               20\n",
      "Nhidden                   60\n",
      "Nlayer                    2\n",
      "K                         200\n",
      "p_flip                    0.0\n",
      "Nt                        12\n"
     ]
    },
    {
     "name": "stderr",
     "output_type": "stream",
     "text": [
      "2024-08-29 00:40:22.211391: W external/xla/xla/tsl/framework/bfc_allocator.cc:482] Allocator (GPU_0_bfc) ran out of memory trying to allocate 645.10MiB (rounded to 676440064)requested by op \n",
      "2024-08-29 00:40:22.213834: W external/xla/xla/tsl/framework/bfc_allocator.cc:494] ***********************************************************************_____________________________\n",
      "E0829 00:40:22.213871  308455 pjrt_stream_executor_client.cc:3067] Execution of replica 0 failed: RESOURCE_EXHAUSTED: Out of memory while trying to allocate 676439968 bytes.\n"
     ]
    },
    {
     "name": "stdout",
     "output_type": "stream",
     "text": [
      "error                     XlaRuntimeError('RESOURCE_EXHAUSTED: Out of memory while trying to allocate 676439968 bytes.')\n",
      "\n",
      "========== TRIAL 678 ==========\n",
      "Nin_virtual               20\n",
      "Nhidden                   60\n",
      "Nlayer                    2\n",
      "K                         200\n",
      "p_flip                    0.0\n",
      "Nt                        16\n"
     ]
    },
    {
     "name": "stderr",
     "output_type": "stream",
     "text": [
      "2024-08-29 00:40:39.001913: W external/xla/xla/tsl/framework/bfc_allocator.cc:482] Allocator (GPU_0_bfc) ran out of memory trying to allocate 858.73MiB (rounded to 900440064)requested by op \n",
      "2024-08-29 00:40:39.004513: W external/xla/xla/tsl/framework/bfc_allocator.cc:494] ************************************************************************____________________________\n",
      "E0829 00:40:39.004544  308455 pjrt_stream_executor_client.cc:3067] Execution of replica 0 failed: RESOURCE_EXHAUSTED: Out of memory while trying to allocate 900439968 bytes.\n"
     ]
    },
    {
     "name": "stdout",
     "output_type": "stream",
     "text": [
      "error                     XlaRuntimeError('RESOURCE_EXHAUSTED: Out of memory while trying to allocate 900439968 bytes.')\n",
      "\n",
      "========== TRIAL 679 ==========\n",
      "Nin_virtual               20\n",
      "Nhidden                   60\n",
      "Nlayer                    2\n",
      "K                         200\n",
      "p_flip                    0.02\n",
      "Nt                        8\n",
      "error                     XlaRuntimeError('RESOURCE_EXHAUSTED: Out of memory while trying to allocate 464777216 bytes.')\n",
      "\n",
      "========== TRIAL 680 ==========\n",
      "Nin_virtual               20\n",
      "Nhidden                   60\n",
      "Nlayer                    2\n",
      "K                         200\n",
      "p_flip                    0.02\n",
      "Nt                        12\n"
     ]
    },
    {
     "name": "stderr",
     "output_type": "stream",
     "text": [
      "2024-08-29 00:41:00.277451: W external/xla/xla/tsl/framework/bfc_allocator.cc:482] Allocator (GPU_0_bfc) ran out of memory trying to allocate 645.10MiB (rounded to 676440064)requested by op \n",
      "2024-08-29 00:41:00.280025: W external/xla/xla/tsl/framework/bfc_allocator.cc:494] ***********************************************************************_____________________________\n",
      "E0829 00:41:00.280057  308455 pjrt_stream_executor_client.cc:3067] Execution of replica 0 failed: RESOURCE_EXHAUSTED: Out of memory while trying to allocate 676439968 bytes.\n"
     ]
    },
    {
     "name": "stdout",
     "output_type": "stream",
     "text": [
      "error                     XlaRuntimeError('RESOURCE_EXHAUSTED: Out of memory while trying to allocate 676439968 bytes.')\n",
      "\n",
      "========== TRIAL 681 ==========\n",
      "Nin_virtual               20\n",
      "Nhidden                   60\n",
      "Nlayer                    2\n",
      "K                         200\n",
      "p_flip                    0.02\n",
      "Nt                        16\n"
     ]
    },
    {
     "name": "stderr",
     "output_type": "stream",
     "text": [
      "2024-08-29 00:41:16.630552: W external/xla/xla/tsl/framework/bfc_allocator.cc:482] Allocator (GPU_0_bfc) ran out of memory trying to allocate 858.73MiB (rounded to 900440064)requested by op \n",
      "2024-08-29 00:41:16.632911: W external/xla/xla/tsl/framework/bfc_allocator.cc:494] ************************************************************************____________________________\n",
      "E0829 00:41:16.632944  308455 pjrt_stream_executor_client.cc:3067] Execution of replica 0 failed: RESOURCE_EXHAUSTED: Out of memory while trying to allocate 900439968 bytes.\n"
     ]
    },
    {
     "name": "stdout",
     "output_type": "stream",
     "text": [
      "error                     XlaRuntimeError('RESOURCE_EXHAUSTED: Out of memory while trying to allocate 900439968 bytes.')\n",
      "\n",
      "========== TRIAL 682 ==========\n",
      "Nin_virtual               20\n",
      "Nhidden                   60\n",
      "Nlayer                    2\n",
      "K                         200\n",
      "p_flip                    0.04\n",
      "Nt                        8\n",
      "error                     XlaRuntimeError('RESOURCE_EXHAUSTED: Out of memory while trying to allocate 464777216 bytes.')\n",
      "\n",
      "========== TRIAL 683 ==========\n",
      "Nin_virtual               20\n",
      "Nhidden                   60\n",
      "Nlayer                    2\n",
      "K                         200\n",
      "p_flip                    0.04\n",
      "Nt                        12\n"
     ]
    },
    {
     "name": "stderr",
     "output_type": "stream",
     "text": [
      "2024-08-29 00:41:37.872676: W external/xla/xla/tsl/framework/bfc_allocator.cc:482] Allocator (GPU_0_bfc) ran out of memory trying to allocate 645.10MiB (rounded to 676440064)requested by op \n",
      "2024-08-29 00:41:37.874747: W external/xla/xla/tsl/framework/bfc_allocator.cc:494] ***********************************************************************_____________________________\n",
      "E0829 00:41:37.874784  308455 pjrt_stream_executor_client.cc:3067] Execution of replica 0 failed: RESOURCE_EXHAUSTED: Out of memory while trying to allocate 676439968 bytes.\n"
     ]
    },
    {
     "name": "stdout",
     "output_type": "stream",
     "text": [
      "error                     XlaRuntimeError('RESOURCE_EXHAUSTED: Out of memory while trying to allocate 676439968 bytes.')\n",
      "\n",
      "========== TRIAL 684 ==========\n",
      "Nin_virtual               20\n",
      "Nhidden                   60\n",
      "Nlayer                    2\n",
      "K                         200\n",
      "p_flip                    0.04\n",
      "Nt                        16\n"
     ]
    },
    {
     "name": "stderr",
     "output_type": "stream",
     "text": [
      "2024-08-29 00:41:54.219882: W external/xla/xla/tsl/framework/bfc_allocator.cc:482] Allocator (GPU_0_bfc) ran out of memory trying to allocate 858.73MiB (rounded to 900440064)requested by op \n",
      "2024-08-29 00:41:54.222232: W external/xla/xla/tsl/framework/bfc_allocator.cc:494] ************************************************************************____________________________\n",
      "E0829 00:41:54.222269  308455 pjrt_stream_executor_client.cc:3067] Execution of replica 0 failed: RESOURCE_EXHAUSTED: Out of memory while trying to allocate 900439968 bytes.\n"
     ]
    },
    {
     "name": "stdout",
     "output_type": "stream",
     "text": [
      "error                     XlaRuntimeError('RESOURCE_EXHAUSTED: Out of memory while trying to allocate 900439968 bytes.')\n",
      "\n",
      "========== TRIAL 685 ==========\n",
      "Nin_virtual               20\n",
      "Nhidden                   60\n",
      "Nlayer                    3\n",
      "K                         50\n",
      "p_flip                    0.0\n",
      "Nt                        8\n",
      "error                     XlaRuntimeError('RESOURCE_EXHAUSTED: Out of memory while trying to allocate 464777216 bytes.')\n",
      "\n",
      "========== TRIAL 686 ==========\n",
      "Nin_virtual               20\n",
      "Nhidden                   60\n",
      "Nlayer                    3\n",
      "K                         50\n",
      "p_flip                    0.0\n",
      "Nt                        12\n"
     ]
    },
    {
     "name": "stderr",
     "output_type": "stream",
     "text": [
      "2024-08-29 00:42:15.911924: W external/xla/xla/tsl/framework/bfc_allocator.cc:482] Allocator (GPU_0_bfc) ran out of memory trying to allocate 645.10MiB (rounded to 676440320)requested by op \n",
      "2024-08-29 00:42:15.914457: W external/xla/xla/tsl/framework/bfc_allocator.cc:494] ***********************************************************************_____________________________\n",
      "E0829 00:42:15.914487  308455 pjrt_stream_executor_client.cc:3067] Execution of replica 0 failed: RESOURCE_EXHAUSTED: Out of memory while trying to allocate 676440224 bytes.\n"
     ]
    },
    {
     "name": "stdout",
     "output_type": "stream",
     "text": [
      "error                     XlaRuntimeError('RESOURCE_EXHAUSTED: Out of memory while trying to allocate 676440224 bytes.')\n",
      "\n",
      "========== TRIAL 687 ==========\n",
      "Nin_virtual               20\n",
      "Nhidden                   60\n",
      "Nlayer                    3\n",
      "K                         50\n",
      "p_flip                    0.0\n",
      "Nt                        16\n"
     ]
    },
    {
     "name": "stderr",
     "output_type": "stream",
     "text": [
      "2024-08-29 00:42:32.774191: W external/xla/xla/tsl/framework/bfc_allocator.cc:482] Allocator (GPU_0_bfc) ran out of memory trying to allocate 858.73MiB (rounded to 900440320)requested by op \n",
      "2024-08-29 00:42:32.776692: W external/xla/xla/tsl/framework/bfc_allocator.cc:494] ************************************************************************____________________________\n",
      "E0829 00:42:32.776739  308455 pjrt_stream_executor_client.cc:3067] Execution of replica 0 failed: RESOURCE_EXHAUSTED: Out of memory while trying to allocate 900440224 bytes.\n"
     ]
    },
    {
     "name": "stdout",
     "output_type": "stream",
     "text": [
      "error                     XlaRuntimeError('RESOURCE_EXHAUSTED: Out of memory while trying to allocate 900440224 bytes.')\n",
      "\n",
      "========== TRIAL 688 ==========\n",
      "Nin_virtual               20\n",
      "Nhidden                   60\n",
      "Nlayer                    3\n",
      "K                         50\n",
      "p_flip                    0.02\n",
      "Nt                        8\n",
      "error                     XlaRuntimeError('RESOURCE_EXHAUSTED: Out of memory while trying to allocate 464777216 bytes.')\n",
      "\n",
      "========== TRIAL 689 ==========\n",
      "Nin_virtual               20\n",
      "Nhidden                   60\n",
      "Nlayer                    3\n",
      "K                         50\n",
      "p_flip                    0.02\n",
      "Nt                        12\n"
     ]
    },
    {
     "name": "stderr",
     "output_type": "stream",
     "text": [
      "2024-08-29 00:42:54.078450: W external/xla/xla/tsl/framework/bfc_allocator.cc:482] Allocator (GPU_0_bfc) ran out of memory trying to allocate 645.10MiB (rounded to 676440320)requested by op \n",
      "2024-08-29 00:42:54.080767: W external/xla/xla/tsl/framework/bfc_allocator.cc:494] ***********************************************************************_____________________________\n",
      "E0829 00:42:54.080795  308455 pjrt_stream_executor_client.cc:3067] Execution of replica 0 failed: RESOURCE_EXHAUSTED: Out of memory while trying to allocate 676440224 bytes.\n"
     ]
    },
    {
     "name": "stdout",
     "output_type": "stream",
     "text": [
      "error                     XlaRuntimeError('RESOURCE_EXHAUSTED: Out of memory while trying to allocate 676440224 bytes.')\n",
      "\n",
      "========== TRIAL 690 ==========\n",
      "Nin_virtual               20\n",
      "Nhidden                   60\n",
      "Nlayer                    3\n",
      "K                         50\n",
      "p_flip                    0.02\n",
      "Nt                        16\n"
     ]
    },
    {
     "name": "stderr",
     "output_type": "stream",
     "text": [
      "2024-08-29 00:43:10.487124: W external/xla/xla/tsl/framework/bfc_allocator.cc:482] Allocator (GPU_0_bfc) ran out of memory trying to allocate 858.73MiB (rounded to 900440320)requested by op \n",
      "2024-08-29 00:43:10.489611: W external/xla/xla/tsl/framework/bfc_allocator.cc:494] ************************************************************************____________________________\n",
      "E0829 00:43:10.489642  308455 pjrt_stream_executor_client.cc:3067] Execution of replica 0 failed: RESOURCE_EXHAUSTED: Out of memory while trying to allocate 900440224 bytes.\n"
     ]
    },
    {
     "name": "stdout",
     "output_type": "stream",
     "text": [
      "error                     XlaRuntimeError('RESOURCE_EXHAUSTED: Out of memory while trying to allocate 900440224 bytes.')\n",
      "\n",
      "========== TRIAL 691 ==========\n",
      "Nin_virtual               20\n",
      "Nhidden                   60\n",
      "Nlayer                    3\n",
      "K                         50\n",
      "p_flip                    0.04\n",
      "Nt                        8\n",
      "error                     XlaRuntimeError('RESOURCE_EXHAUSTED: Out of memory while trying to allocate 464777216 bytes.')\n",
      "\n",
      "========== TRIAL 692 ==========\n",
      "Nin_virtual               20\n",
      "Nhidden                   60\n",
      "Nlayer                    3\n",
      "K                         50\n",
      "p_flip                    0.04\n",
      "Nt                        12\n"
     ]
    },
    {
     "name": "stderr",
     "output_type": "stream",
     "text": [
      "2024-08-29 00:43:31.882670: W external/xla/xla/tsl/framework/bfc_allocator.cc:482] Allocator (GPU_0_bfc) ran out of memory trying to allocate 645.10MiB (rounded to 676440320)requested by op \n",
      "2024-08-29 00:43:31.884979: W external/xla/xla/tsl/framework/bfc_allocator.cc:494] ***********************************************************************_____________________________\n",
      "E0829 00:43:31.885014  308455 pjrt_stream_executor_client.cc:3067] Execution of replica 0 failed: RESOURCE_EXHAUSTED: Out of memory while trying to allocate 676440224 bytes.\n"
     ]
    },
    {
     "name": "stdout",
     "output_type": "stream",
     "text": [
      "error                     XlaRuntimeError('RESOURCE_EXHAUSTED: Out of memory while trying to allocate 676440224 bytes.')\n",
      "\n",
      "========== TRIAL 693 ==========\n",
      "Nin_virtual               20\n",
      "Nhidden                   60\n",
      "Nlayer                    3\n",
      "K                         50\n",
      "p_flip                    0.04\n",
      "Nt                        16\n"
     ]
    },
    {
     "name": "stderr",
     "output_type": "stream",
     "text": [
      "2024-08-29 00:43:48.325631: W external/xla/xla/tsl/framework/bfc_allocator.cc:482] Allocator (GPU_0_bfc) ran out of memory trying to allocate 858.73MiB (rounded to 900440320)requested by op \n",
      "2024-08-29 00:43:48.328116: W external/xla/xla/tsl/framework/bfc_allocator.cc:494] ************************************************************************____________________________\n",
      "E0829 00:43:48.328142  308455 pjrt_stream_executor_client.cc:3067] Execution of replica 0 failed: RESOURCE_EXHAUSTED: Out of memory while trying to allocate 900440224 bytes.\n"
     ]
    },
    {
     "name": "stdout",
     "output_type": "stream",
     "text": [
      "error                     XlaRuntimeError('RESOURCE_EXHAUSTED: Out of memory while trying to allocate 900440224 bytes.')\n",
      "\n",
      "========== TRIAL 694 ==========\n",
      "Nin_virtual               20\n",
      "Nhidden                   60\n",
      "Nlayer                    3\n",
      "K                         100\n",
      "p_flip                    0.0\n",
      "Nt                        8\n",
      "error                     XlaRuntimeError('RESOURCE_EXHAUSTED: Out of memory while trying to allocate 464777216 bytes.')\n",
      "\n",
      "========== TRIAL 695 ==========\n",
      "Nin_virtual               20\n",
      "Nhidden                   60\n",
      "Nlayer                    3\n",
      "K                         100\n",
      "p_flip                    0.0\n",
      "Nt                        12\n"
     ]
    },
    {
     "name": "stderr",
     "output_type": "stream",
     "text": [
      "2024-08-29 00:44:10.049428: W external/xla/xla/tsl/framework/bfc_allocator.cc:482] Allocator (GPU_0_bfc) ran out of memory trying to allocate 645.10MiB (rounded to 676440320)requested by op \n",
      "2024-08-29 00:44:10.051759: W external/xla/xla/tsl/framework/bfc_allocator.cc:494] ***********************************************************************_____________________________\n",
      "E0829 00:44:10.051787  308455 pjrt_stream_executor_client.cc:3067] Execution of replica 0 failed: RESOURCE_EXHAUSTED: Out of memory while trying to allocate 676440224 bytes.\n"
     ]
    },
    {
     "name": "stdout",
     "output_type": "stream",
     "text": [
      "error                     XlaRuntimeError('RESOURCE_EXHAUSTED: Out of memory while trying to allocate 676440224 bytes.')\n",
      "\n",
      "========== TRIAL 696 ==========\n",
      "Nin_virtual               20\n",
      "Nhidden                   60\n",
      "Nlayer                    3\n",
      "K                         100\n",
      "p_flip                    0.0\n",
      "Nt                        16\n"
     ]
    },
    {
     "name": "stderr",
     "output_type": "stream",
     "text": [
      "2024-08-29 00:44:26.866721: W external/xla/xla/tsl/framework/bfc_allocator.cc:482] Allocator (GPU_0_bfc) ran out of memory trying to allocate 858.73MiB (rounded to 900440320)requested by op \n",
      "2024-08-29 00:44:26.869356: W external/xla/xla/tsl/framework/bfc_allocator.cc:494] ************************************************************************____________________________\n",
      "E0829 00:44:26.869385  308455 pjrt_stream_executor_client.cc:3067] Execution of replica 0 failed: RESOURCE_EXHAUSTED: Out of memory while trying to allocate 900440224 bytes.\n"
     ]
    },
    {
     "name": "stdout",
     "output_type": "stream",
     "text": [
      "error                     XlaRuntimeError('RESOURCE_EXHAUSTED: Out of memory while trying to allocate 900440224 bytes.')\n",
      "\n",
      "========== TRIAL 697 ==========\n",
      "Nin_virtual               20\n",
      "Nhidden                   60\n",
      "Nlayer                    3\n",
      "K                         100\n",
      "p_flip                    0.02\n",
      "Nt                        8\n",
      "error                     XlaRuntimeError('RESOURCE_EXHAUSTED: Out of memory while trying to allocate 464777216 bytes.')\n",
      "\n",
      "========== TRIAL 698 ==========\n",
      "Nin_virtual               20\n",
      "Nhidden                   60\n",
      "Nlayer                    3\n",
      "K                         100\n",
      "p_flip                    0.02\n",
      "Nt                        12\n"
     ]
    },
    {
     "name": "stderr",
     "output_type": "stream",
     "text": [
      "2024-08-29 00:44:48.179531: W external/xla/xla/tsl/framework/bfc_allocator.cc:482] Allocator (GPU_0_bfc) ran out of memory trying to allocate 645.10MiB (rounded to 676440320)requested by op \n",
      "2024-08-29 00:44:48.181745: W external/xla/xla/tsl/framework/bfc_allocator.cc:494] ***********************************************************************_____________________________\n",
      "E0829 00:44:48.181773  308455 pjrt_stream_executor_client.cc:3067] Execution of replica 0 failed: RESOURCE_EXHAUSTED: Out of memory while trying to allocate 676440224 bytes.\n"
     ]
    },
    {
     "name": "stdout",
     "output_type": "stream",
     "text": [
      "error                     XlaRuntimeError('RESOURCE_EXHAUSTED: Out of memory while trying to allocate 676440224 bytes.')\n",
      "\n",
      "========== TRIAL 699 ==========\n",
      "Nin_virtual               20\n",
      "Nhidden                   60\n",
      "Nlayer                    3\n",
      "K                         100\n",
      "p_flip                    0.02\n",
      "Nt                        16\n"
     ]
    },
    {
     "name": "stderr",
     "output_type": "stream",
     "text": [
      "2024-08-29 00:45:07.601373: W external/xla/xla/tsl/framework/bfc_allocator.cc:482] Allocator (GPU_0_bfc) ran out of memory trying to allocate 858.73MiB (rounded to 900440320)requested by op \n",
      "2024-08-29 00:45:07.603726: W external/xla/xla/tsl/framework/bfc_allocator.cc:494] ************************************************************************____________________________\n",
      "E0829 00:45:07.603755  308455 pjrt_stream_executor_client.cc:3067] Execution of replica 0 failed: RESOURCE_EXHAUSTED: Out of memory while trying to allocate 900440224 bytes.\n"
     ]
    },
    {
     "name": "stdout",
     "output_type": "stream",
     "text": [
      "error                     XlaRuntimeError('RESOURCE_EXHAUSTED: Out of memory while trying to allocate 900440224 bytes.')\n",
      "\n",
      "========== TRIAL 700 ==========\n",
      "Nin_virtual               20\n",
      "Nhidden                   60\n",
      "Nlayer                    3\n",
      "K                         100\n",
      "p_flip                    0.04\n",
      "Nt                        8\n",
      "error                     XlaRuntimeError('RESOURCE_EXHAUSTED: Out of memory while trying to allocate 464777216 bytes.')\n",
      "\n",
      "========== TRIAL 701 ==========\n",
      "Nin_virtual               20\n",
      "Nhidden                   60\n",
      "Nlayer                    3\n",
      "K                         100\n",
      "p_flip                    0.04\n",
      "Nt                        12\n"
     ]
    },
    {
     "name": "stderr",
     "output_type": "stream",
     "text": [
      "2024-08-29 00:45:28.920670: W external/xla/xla/tsl/framework/bfc_allocator.cc:482] Allocator (GPU_0_bfc) ran out of memory trying to allocate 645.10MiB (rounded to 676440320)requested by op \n",
      "2024-08-29 00:45:28.923191: W external/xla/xla/tsl/framework/bfc_allocator.cc:494] ***********************************************************************_____________________________\n",
      "E0829 00:45:28.923223  308455 pjrt_stream_executor_client.cc:3067] Execution of replica 0 failed: RESOURCE_EXHAUSTED: Out of memory while trying to allocate 676440224 bytes.\n"
     ]
    },
    {
     "name": "stdout",
     "output_type": "stream",
     "text": [
      "error                     XlaRuntimeError('RESOURCE_EXHAUSTED: Out of memory while trying to allocate 676440224 bytes.')\n",
      "\n",
      "========== TRIAL 702 ==========\n",
      "Nin_virtual               20\n",
      "Nhidden                   60\n",
      "Nlayer                    3\n",
      "K                         100\n",
      "p_flip                    0.04\n",
      "Nt                        16\n"
     ]
    },
    {
     "name": "stderr",
     "output_type": "stream",
     "text": [
      "2024-08-29 00:45:45.387242: W external/xla/xla/tsl/framework/bfc_allocator.cc:482] Allocator (GPU_0_bfc) ran out of memory trying to allocate 858.73MiB (rounded to 900440320)requested by op \n",
      "2024-08-29 00:45:45.389852: W external/xla/xla/tsl/framework/bfc_allocator.cc:494] ************************************************************************____________________________\n",
      "E0829 00:45:45.389885  308455 pjrt_stream_executor_client.cc:3067] Execution of replica 0 failed: RESOURCE_EXHAUSTED: Out of memory while trying to allocate 900440224 bytes.\n"
     ]
    },
    {
     "name": "stdout",
     "output_type": "stream",
     "text": [
      "error                     XlaRuntimeError('RESOURCE_EXHAUSTED: Out of memory while trying to allocate 900440224 bytes.')\n",
      "\n",
      "========== TRIAL 703 ==========\n",
      "Nin_virtual               20\n",
      "Nhidden                   60\n",
      "Nlayer                    3\n",
      "K                         150\n",
      "p_flip                    0.0\n",
      "Nt                        8\n",
      "error                     XlaRuntimeError('RESOURCE_EXHAUSTED: Out of memory while trying to allocate 464777216 bytes.')\n",
      "\n",
      "========== TRIAL 704 ==========\n",
      "Nin_virtual               20\n",
      "Nhidden                   60\n",
      "Nlayer                    3\n",
      "K                         150\n",
      "p_flip                    0.0\n",
      "Nt                        12\n"
     ]
    },
    {
     "name": "stderr",
     "output_type": "stream",
     "text": [
      "2024-08-29 00:46:07.194610: W external/xla/xla/tsl/framework/bfc_allocator.cc:482] Allocator (GPU_0_bfc) ran out of memory trying to allocate 645.10MiB (rounded to 676440320)requested by op \n",
      "2024-08-29 00:46:07.197243: W external/xla/xla/tsl/framework/bfc_allocator.cc:494] ***********************************************************************_____________________________\n",
      "E0829 00:46:07.197273  308455 pjrt_stream_executor_client.cc:3067] Execution of replica 0 failed: RESOURCE_EXHAUSTED: Out of memory while trying to allocate 676440224 bytes.\n"
     ]
    },
    {
     "name": "stdout",
     "output_type": "stream",
     "text": [
      "error                     XlaRuntimeError('RESOURCE_EXHAUSTED: Out of memory while trying to allocate 676440224 bytes.')\n",
      "\n",
      "========== TRIAL 705 ==========\n",
      "Nin_virtual               20\n",
      "Nhidden                   60\n",
      "Nlayer                    3\n",
      "K                         150\n",
      "p_flip                    0.0\n",
      "Nt                        16\n"
     ]
    },
    {
     "name": "stderr",
     "output_type": "stream",
     "text": [
      "2024-08-29 00:46:24.062391: W external/xla/xla/tsl/framework/bfc_allocator.cc:482] Allocator (GPU_0_bfc) ran out of memory trying to allocate 858.73MiB (rounded to 900440320)requested by op \n",
      "2024-08-29 00:46:24.064765: W external/xla/xla/tsl/framework/bfc_allocator.cc:494] ************************************************************************____________________________\n",
      "E0829 00:46:24.064794  308455 pjrt_stream_executor_client.cc:3067] Execution of replica 0 failed: RESOURCE_EXHAUSTED: Out of memory while trying to allocate 900440224 bytes.\n"
     ]
    },
    {
     "name": "stdout",
     "output_type": "stream",
     "text": [
      "error                     XlaRuntimeError('RESOURCE_EXHAUSTED: Out of memory while trying to allocate 900440224 bytes.')\n",
      "\n",
      "========== TRIAL 706 ==========\n",
      "Nin_virtual               20\n",
      "Nhidden                   60\n",
      "Nlayer                    3\n",
      "K                         150\n",
      "p_flip                    0.02\n",
      "Nt                        8\n",
      "error                     XlaRuntimeError('RESOURCE_EXHAUSTED: Out of memory while trying to allocate 464777216 bytes.')\n",
      "\n",
      "========== TRIAL 707 ==========\n",
      "Nin_virtual               20\n",
      "Nhidden                   60\n",
      "Nlayer                    3\n",
      "K                         150\n",
      "p_flip                    0.02\n",
      "Nt                        12\n"
     ]
    },
    {
     "name": "stderr",
     "output_type": "stream",
     "text": [
      "2024-08-29 00:46:45.393871: W external/xla/xla/tsl/framework/bfc_allocator.cc:482] Allocator (GPU_0_bfc) ran out of memory trying to allocate 645.10MiB (rounded to 676440320)requested by op \n",
      "2024-08-29 00:46:45.396329: W external/xla/xla/tsl/framework/bfc_allocator.cc:494] ***********************************************************************_____________________________\n",
      "E0829 00:46:45.396354  308455 pjrt_stream_executor_client.cc:3067] Execution of replica 0 failed: RESOURCE_EXHAUSTED: Out of memory while trying to allocate 676440224 bytes.\n"
     ]
    },
    {
     "name": "stdout",
     "output_type": "stream",
     "text": [
      "error                     XlaRuntimeError('RESOURCE_EXHAUSTED: Out of memory while trying to allocate 676440224 bytes.')\n",
      "\n",
      "========== TRIAL 708 ==========\n",
      "Nin_virtual               20\n",
      "Nhidden                   60\n",
      "Nlayer                    3\n",
      "K                         150\n",
      "p_flip                    0.02\n",
      "Nt                        16\n"
     ]
    },
    {
     "name": "stderr",
     "output_type": "stream",
     "text": [
      "2024-08-29 00:47:01.835870: W external/xla/xla/tsl/framework/bfc_allocator.cc:482] Allocator (GPU_0_bfc) ran out of memory trying to allocate 858.73MiB (rounded to 900440320)requested by op \n",
      "2024-08-29 00:47:01.838413: W external/xla/xla/tsl/framework/bfc_allocator.cc:494] ************************************************************************____________________________\n",
      "E0829 00:47:01.838442  308455 pjrt_stream_executor_client.cc:3067] Execution of replica 0 failed: RESOURCE_EXHAUSTED: Out of memory while trying to allocate 900440224 bytes.\n"
     ]
    },
    {
     "name": "stdout",
     "output_type": "stream",
     "text": [
      "error                     XlaRuntimeError('RESOURCE_EXHAUSTED: Out of memory while trying to allocate 900440224 bytes.')\n",
      "\n",
      "========== TRIAL 709 ==========\n",
      "Nin_virtual               20\n",
      "Nhidden                   60\n",
      "Nlayer                    3\n",
      "K                         150\n",
      "p_flip                    0.04\n",
      "Nt                        8\n",
      "error                     XlaRuntimeError('RESOURCE_EXHAUSTED: Out of memory while trying to allocate 464777216 bytes.')\n",
      "\n",
      "========== TRIAL 710 ==========\n",
      "Nin_virtual               20\n",
      "Nhidden                   60\n",
      "Nlayer                    3\n",
      "K                         150\n",
      "p_flip                    0.04\n",
      "Nt                        12\n"
     ]
    },
    {
     "name": "stderr",
     "output_type": "stream",
     "text": [
      "2024-08-29 00:47:23.263135: W external/xla/xla/tsl/framework/bfc_allocator.cc:482] Allocator (GPU_0_bfc) ran out of memory trying to allocate 645.10MiB (rounded to 676440320)requested by op \n",
      "2024-08-29 00:47:23.265610: W external/xla/xla/tsl/framework/bfc_allocator.cc:494] ***********************************************************************_____________________________\n",
      "E0829 00:47:23.265643  308455 pjrt_stream_executor_client.cc:3067] Execution of replica 0 failed: RESOURCE_EXHAUSTED: Out of memory while trying to allocate 676440224 bytes.\n"
     ]
    },
    {
     "name": "stdout",
     "output_type": "stream",
     "text": [
      "error                     XlaRuntimeError('RESOURCE_EXHAUSTED: Out of memory while trying to allocate 676440224 bytes.')\n",
      "\n",
      "========== TRIAL 711 ==========\n",
      "Nin_virtual               20\n",
      "Nhidden                   60\n",
      "Nlayer                    3\n",
      "K                         150\n",
      "p_flip                    0.04\n",
      "Nt                        16\n"
     ]
    },
    {
     "name": "stderr",
     "output_type": "stream",
     "text": [
      "2024-08-29 00:47:39.680867: W external/xla/xla/tsl/framework/bfc_allocator.cc:482] Allocator (GPU_0_bfc) ran out of memory trying to allocate 858.73MiB (rounded to 900440320)requested by op \n",
      "2024-08-29 00:47:39.683196: W external/xla/xla/tsl/framework/bfc_allocator.cc:494] ************************************************************************____________________________\n",
      "E0829 00:47:39.683223  308455 pjrt_stream_executor_client.cc:3067] Execution of replica 0 failed: RESOURCE_EXHAUSTED: Out of memory while trying to allocate 900440224 bytes.\n"
     ]
    },
    {
     "name": "stdout",
     "output_type": "stream",
     "text": [
      "error                     XlaRuntimeError('RESOURCE_EXHAUSTED: Out of memory while trying to allocate 900440224 bytes.')\n",
      "\n",
      "========== TRIAL 712 ==========\n",
      "Nin_virtual               20\n",
      "Nhidden                   60\n",
      "Nlayer                    3\n",
      "K                         200\n",
      "p_flip                    0.0\n",
      "Nt                        8\n",
      "error                     XlaRuntimeError('RESOURCE_EXHAUSTED: Out of memory while trying to allocate 464777216 bytes.')\n",
      "\n",
      "========== TRIAL 713 ==========\n",
      "Nin_virtual               20\n",
      "Nhidden                   60\n",
      "Nlayer                    3\n",
      "K                         200\n",
      "p_flip                    0.0\n",
      "Nt                        12\n"
     ]
    },
    {
     "name": "stderr",
     "output_type": "stream",
     "text": [
      "2024-08-29 00:48:01.530515: W external/xla/xla/tsl/framework/bfc_allocator.cc:482] Allocator (GPU_0_bfc) ran out of memory trying to allocate 645.10MiB (rounded to 676440320)requested by op \n",
      "2024-08-29 00:48:01.532892: W external/xla/xla/tsl/framework/bfc_allocator.cc:494] ***********************************************************************_____________________________\n",
      "E0829 00:48:01.532921  308455 pjrt_stream_executor_client.cc:3067] Execution of replica 0 failed: RESOURCE_EXHAUSTED: Out of memory while trying to allocate 676440224 bytes.\n"
     ]
    },
    {
     "name": "stdout",
     "output_type": "stream",
     "text": [
      "error                     XlaRuntimeError('RESOURCE_EXHAUSTED: Out of memory while trying to allocate 676440224 bytes.')\n",
      "\n",
      "========== TRIAL 714 ==========\n",
      "Nin_virtual               20\n",
      "Nhidden                   60\n",
      "Nlayer                    3\n",
      "K                         200\n",
      "p_flip                    0.0\n",
      "Nt                        16\n"
     ]
    },
    {
     "name": "stderr",
     "output_type": "stream",
     "text": [
      "2024-08-29 00:48:18.385802: W external/xla/xla/tsl/framework/bfc_allocator.cc:482] Allocator (GPU_0_bfc) ran out of memory trying to allocate 858.73MiB (rounded to 900440320)requested by op \n",
      "2024-08-29 00:48:18.388259: W external/xla/xla/tsl/framework/bfc_allocator.cc:494] ************************************************************************____________________________\n",
      "E0829 00:48:18.388284  308455 pjrt_stream_executor_client.cc:3067] Execution of replica 0 failed: RESOURCE_EXHAUSTED: Out of memory while trying to allocate 900440224 bytes.\n"
     ]
    },
    {
     "name": "stdout",
     "output_type": "stream",
     "text": [
      "error                     XlaRuntimeError('RESOURCE_EXHAUSTED: Out of memory while trying to allocate 900440224 bytes.')\n",
      "\n",
      "========== TRIAL 715 ==========\n",
      "Nin_virtual               20\n",
      "Nhidden                   60\n",
      "Nlayer                    3\n",
      "K                         200\n",
      "p_flip                    0.02\n",
      "Nt                        8\n",
      "error                     XlaRuntimeError('RESOURCE_EXHAUSTED: Out of memory while trying to allocate 464777216 bytes.')\n",
      "\n",
      "========== TRIAL 716 ==========\n",
      "Nin_virtual               20\n",
      "Nhidden                   60\n",
      "Nlayer                    3\n",
      "K                         200\n",
      "p_flip                    0.02\n",
      "Nt                        12\n"
     ]
    },
    {
     "name": "stderr",
     "output_type": "stream",
     "text": [
      "2024-08-29 00:48:39.768705: W external/xla/xla/tsl/framework/bfc_allocator.cc:482] Allocator (GPU_0_bfc) ran out of memory trying to allocate 645.10MiB (rounded to 676440320)requested by op \n",
      "2024-08-29 00:48:39.771085: W external/xla/xla/tsl/framework/bfc_allocator.cc:494] ***********************************************************************_____________________________\n",
      "E0829 00:48:39.771114  308455 pjrt_stream_executor_client.cc:3067] Execution of replica 0 failed: RESOURCE_EXHAUSTED: Out of memory while trying to allocate 676440224 bytes.\n"
     ]
    },
    {
     "name": "stdout",
     "output_type": "stream",
     "text": [
      "error                     XlaRuntimeError('RESOURCE_EXHAUSTED: Out of memory while trying to allocate 676440224 bytes.')\n",
      "\n",
      "========== TRIAL 717 ==========\n",
      "Nin_virtual               20\n",
      "Nhidden                   60\n",
      "Nlayer                    3\n",
      "K                         200\n",
      "p_flip                    0.02\n",
      "Nt                        16\n"
     ]
    },
    {
     "name": "stderr",
     "output_type": "stream",
     "text": [
      "2024-08-29 00:48:56.179988: W external/xla/xla/tsl/framework/bfc_allocator.cc:482] Allocator (GPU_0_bfc) ran out of memory trying to allocate 858.73MiB (rounded to 900440320)requested by op \n",
      "2024-08-29 00:48:56.182632: W external/xla/xla/tsl/framework/bfc_allocator.cc:494] ************************************************************************____________________________\n",
      "E0829 00:48:56.182660  308455 pjrt_stream_executor_client.cc:3067] Execution of replica 0 failed: RESOURCE_EXHAUSTED: Out of memory while trying to allocate 900440224 bytes.\n"
     ]
    },
    {
     "name": "stdout",
     "output_type": "stream",
     "text": [
      "error                     XlaRuntimeError('RESOURCE_EXHAUSTED: Out of memory while trying to allocate 900440224 bytes.')\n",
      "\n",
      "========== TRIAL 718 ==========\n",
      "Nin_virtual               20\n",
      "Nhidden                   60\n",
      "Nlayer                    3\n",
      "K                         200\n",
      "p_flip                    0.04\n",
      "Nt                        8\n",
      "error                     XlaRuntimeError('RESOURCE_EXHAUSTED: Out of memory while trying to allocate 464777216 bytes.')\n",
      "\n",
      "========== TRIAL 719 ==========\n",
      "Nin_virtual               20\n",
      "Nhidden                   60\n",
      "Nlayer                    3\n",
      "K                         200\n",
      "p_flip                    0.04\n",
      "Nt                        12\n"
     ]
    },
    {
     "name": "stderr",
     "output_type": "stream",
     "text": [
      "2024-08-29 00:49:17.530185: W external/xla/xla/tsl/framework/bfc_allocator.cc:482] Allocator (GPU_0_bfc) ran out of memory trying to allocate 645.10MiB (rounded to 676440320)requested by op \n",
      "2024-08-29 00:49:17.532773: W external/xla/xla/tsl/framework/bfc_allocator.cc:494] ***********************************************************************_____________________________\n",
      "E0829 00:49:17.532801  308455 pjrt_stream_executor_client.cc:3067] Execution of replica 0 failed: RESOURCE_EXHAUSTED: Out of memory while trying to allocate 676440224 bytes.\n"
     ]
    },
    {
     "name": "stdout",
     "output_type": "stream",
     "text": [
      "error                     XlaRuntimeError('RESOURCE_EXHAUSTED: Out of memory while trying to allocate 676440224 bytes.')\n",
      "\n",
      "========== TRIAL 720 ==========\n",
      "Nin_virtual               20\n",
      "Nhidden                   60\n",
      "Nlayer                    3\n",
      "K                         200\n",
      "p_flip                    0.04\n",
      "Nt                        16\n"
     ]
    },
    {
     "name": "stderr",
     "output_type": "stream",
     "text": [
      "2024-08-29 00:49:33.970565: W external/xla/xla/tsl/framework/bfc_allocator.cc:482] Allocator (GPU_0_bfc) ran out of memory trying to allocate 858.73MiB (rounded to 900440320)requested by op \n",
      "2024-08-29 00:49:33.973095: W external/xla/xla/tsl/framework/bfc_allocator.cc:494] ************************************************************************____________________________\n",
      "E0829 00:49:33.973125  308455 pjrt_stream_executor_client.cc:3067] Execution of replica 0 failed: RESOURCE_EXHAUSTED: Out of memory while trying to allocate 900440224 bytes.\n"
     ]
    },
    {
     "name": "stdout",
     "output_type": "stream",
     "text": [
      "error                     XlaRuntimeError('RESOURCE_EXHAUSTED: Out of memory while trying to allocate 900440224 bytes.')\n",
      "\n",
      "========== TRIAL 721 ==========\n",
      "Nin_virtual               20\n",
      "Nhidden                   80\n",
      "Nlayer                    2\n",
      "K                         50\n",
      "p_flip                    0.0\n",
      "Nt                        8\n",
      "error                     XlaRuntimeError('RESOURCE_EXHAUSTED: Out of memory while trying to allocate 464777216 bytes.')\n",
      "\n",
      "========== TRIAL 722 ==========\n",
      "Nin_virtual               20\n",
      "Nhidden                   80\n",
      "Nlayer                    2\n",
      "K                         50\n",
      "p_flip                    0.0\n",
      "Nt                        12\n"
     ]
    },
    {
     "name": "stderr",
     "output_type": "stream",
     "text": [
      "2024-08-29 00:49:58.754606: W external/xla/xla/tsl/framework/bfc_allocator.cc:482] Allocator (GPU_0_bfc) ran out of memory trying to allocate 645.18MiB (rounded to 676520192)requested by op \n",
      "2024-08-29 00:49:58.757170: W external/xla/xla/tsl/framework/bfc_allocator.cc:494] ***********************************************************************_____________________________\n",
      "E0829 00:49:58.757202  308455 pjrt_stream_executor_client.cc:3067] Execution of replica 0 failed: RESOURCE_EXHAUSTED: Out of memory while trying to allocate 676519968 bytes.\n"
     ]
    },
    {
     "name": "stdout",
     "output_type": "stream",
     "text": [
      "error                     XlaRuntimeError('RESOURCE_EXHAUSTED: Out of memory while trying to allocate 676519968 bytes.')\n",
      "\n",
      "========== TRIAL 723 ==========\n",
      "Nin_virtual               20\n",
      "Nhidden                   80\n",
      "Nlayer                    2\n",
      "K                         50\n",
      "p_flip                    0.0\n",
      "Nt                        16\n"
     ]
    },
    {
     "name": "stderr",
     "output_type": "stream",
     "text": [
      "2024-08-29 00:50:15.563483: W external/xla/xla/tsl/framework/bfc_allocator.cc:482] Allocator (GPU_0_bfc) ran out of memory trying to allocate 858.80MiB (rounded to 900520192)requested by op \n",
      "2024-08-29 00:50:15.565912: W external/xla/xla/tsl/framework/bfc_allocator.cc:494] **********************************************************************_**___________________________\n",
      "E0829 00:50:15.565941  308455 pjrt_stream_executor_client.cc:3067] Execution of replica 0 failed: RESOURCE_EXHAUSTED: Out of memory while trying to allocate 900519968 bytes.\n"
     ]
    },
    {
     "name": "stdout",
     "output_type": "stream",
     "text": [
      "error                     XlaRuntimeError('RESOURCE_EXHAUSTED: Out of memory while trying to allocate 900519968 bytes.')\n",
      "\n",
      "========== TRIAL 724 ==========\n",
      "Nin_virtual               20\n",
      "Nhidden                   80\n",
      "Nlayer                    2\n",
      "K                         50\n",
      "p_flip                    0.02\n",
      "Nt                        8\n",
      "error                     XlaRuntimeError('RESOURCE_EXHAUSTED: Out of memory while trying to allocate 464777216 bytes.')\n",
      "\n",
      "========== TRIAL 725 ==========\n",
      "Nin_virtual               20\n",
      "Nhidden                   80\n",
      "Nlayer                    2\n",
      "K                         50\n",
      "p_flip                    0.02\n",
      "Nt                        12\n"
     ]
    },
    {
     "name": "stderr",
     "output_type": "stream",
     "text": [
      "2024-08-29 00:50:36.795037: W external/xla/xla/tsl/framework/bfc_allocator.cc:482] Allocator (GPU_0_bfc) ran out of memory trying to allocate 645.18MiB (rounded to 676520192)requested by op \n",
      "2024-08-29 00:50:36.797488: W external/xla/xla/tsl/framework/bfc_allocator.cc:494] ***********************************************************************_____________________________\n",
      "E0829 00:50:36.797516  308455 pjrt_stream_executor_client.cc:3067] Execution of replica 0 failed: RESOURCE_EXHAUSTED: Out of memory while trying to allocate 676519968 bytes.\n"
     ]
    },
    {
     "name": "stdout",
     "output_type": "stream",
     "text": [
      "error                     XlaRuntimeError('RESOURCE_EXHAUSTED: Out of memory while trying to allocate 676519968 bytes.')\n",
      "\n",
      "========== TRIAL 726 ==========\n",
      "Nin_virtual               20\n",
      "Nhidden                   80\n",
      "Nlayer                    2\n",
      "K                         50\n",
      "p_flip                    0.02\n",
      "Nt                        16\n"
     ]
    },
    {
     "name": "stderr",
     "output_type": "stream",
     "text": [
      "2024-08-29 00:50:53.189937: W external/xla/xla/tsl/framework/bfc_allocator.cc:482] Allocator (GPU_0_bfc) ran out of memory trying to allocate 858.80MiB (rounded to 900520192)requested by op \n",
      "2024-08-29 00:50:53.192080: W external/xla/xla/tsl/framework/bfc_allocator.cc:494] **********************************************************************_**___________________________\n",
      "E0829 00:50:53.192112  308455 pjrt_stream_executor_client.cc:3067] Execution of replica 0 failed: RESOURCE_EXHAUSTED: Out of memory while trying to allocate 900519968 bytes.\n"
     ]
    },
    {
     "name": "stdout",
     "output_type": "stream",
     "text": [
      "error                     XlaRuntimeError('RESOURCE_EXHAUSTED: Out of memory while trying to allocate 900519968 bytes.')\n",
      "\n",
      "========== TRIAL 727 ==========\n",
      "Nin_virtual               20\n",
      "Nhidden                   80\n",
      "Nlayer                    2\n",
      "K                         50\n",
      "p_flip                    0.04\n",
      "Nt                        8\n",
      "error                     XlaRuntimeError('RESOURCE_EXHAUSTED: Out of memory while trying to allocate 464777216 bytes.')\n",
      "\n",
      "========== TRIAL 728 ==========\n",
      "Nin_virtual               20\n",
      "Nhidden                   80\n",
      "Nlayer                    2\n",
      "K                         50\n",
      "p_flip                    0.04\n",
      "Nt                        12\n"
     ]
    },
    {
     "name": "stderr",
     "output_type": "stream",
     "text": [
      "2024-08-29 00:51:14.496820: W external/xla/xla/tsl/framework/bfc_allocator.cc:482] Allocator (GPU_0_bfc) ran out of memory trying to allocate 645.18MiB (rounded to 676520192)requested by op \n",
      "2024-08-29 00:51:14.499350: W external/xla/xla/tsl/framework/bfc_allocator.cc:494] ***********************************************************************_____________________________\n",
      "E0829 00:51:14.499382  308455 pjrt_stream_executor_client.cc:3067] Execution of replica 0 failed: RESOURCE_EXHAUSTED: Out of memory while trying to allocate 676519968 bytes.\n"
     ]
    },
    {
     "name": "stdout",
     "output_type": "stream",
     "text": [
      "error                     XlaRuntimeError('RESOURCE_EXHAUSTED: Out of memory while trying to allocate 676519968 bytes.')\n",
      "\n",
      "========== TRIAL 729 ==========\n",
      "Nin_virtual               20\n",
      "Nhidden                   80\n",
      "Nlayer                    2\n",
      "K                         50\n",
      "p_flip                    0.04\n",
      "Nt                        16\n"
     ]
    },
    {
     "name": "stderr",
     "output_type": "stream",
     "text": [
      "2024-08-29 00:51:30.865498: W external/xla/xla/tsl/framework/bfc_allocator.cc:482] Allocator (GPU_0_bfc) ran out of memory trying to allocate 858.80MiB (rounded to 900520192)requested by op \n",
      "2024-08-29 00:51:30.867906: W external/xla/xla/tsl/framework/bfc_allocator.cc:494] **********************************************************************_**___________________________\n",
      "E0829 00:51:30.867934  308455 pjrt_stream_executor_client.cc:3067] Execution of replica 0 failed: RESOURCE_EXHAUSTED: Out of memory while trying to allocate 900519968 bytes.\n"
     ]
    },
    {
     "name": "stdout",
     "output_type": "stream",
     "text": [
      "error                     XlaRuntimeError('RESOURCE_EXHAUSTED: Out of memory while trying to allocate 900519968 bytes.')\n",
      "\n",
      "========== TRIAL 730 ==========\n",
      "Nin_virtual               20\n",
      "Nhidden                   80\n",
      "Nlayer                    2\n",
      "K                         100\n",
      "p_flip                    0.0\n",
      "Nt                        8\n",
      "error                     XlaRuntimeError('RESOURCE_EXHAUSTED: Out of memory while trying to allocate 464777216 bytes.')\n",
      "\n",
      "========== TRIAL 731 ==========\n",
      "Nin_virtual               20\n",
      "Nhidden                   80\n",
      "Nlayer                    2\n",
      "K                         100\n",
      "p_flip                    0.0\n",
      "Nt                        12\n"
     ]
    },
    {
     "name": "stderr",
     "output_type": "stream",
     "text": [
      "2024-08-29 00:51:52.587212: W external/xla/xla/tsl/framework/bfc_allocator.cc:482] Allocator (GPU_0_bfc) ran out of memory trying to allocate 645.18MiB (rounded to 676520192)requested by op \n",
      "2024-08-29 00:51:52.589807: W external/xla/xla/tsl/framework/bfc_allocator.cc:494] ***********************************************************************_____________________________\n",
      "E0829 00:51:52.589842  308455 pjrt_stream_executor_client.cc:3067] Execution of replica 0 failed: RESOURCE_EXHAUSTED: Out of memory while trying to allocate 676519968 bytes.\n"
     ]
    },
    {
     "name": "stdout",
     "output_type": "stream",
     "text": [
      "error                     XlaRuntimeError('RESOURCE_EXHAUSTED: Out of memory while trying to allocate 676519968 bytes.')\n",
      "\n",
      "========== TRIAL 732 ==========\n",
      "Nin_virtual               20\n",
      "Nhidden                   80\n",
      "Nlayer                    2\n",
      "K                         100\n",
      "p_flip                    0.0\n",
      "Nt                        16\n"
     ]
    },
    {
     "name": "stderr",
     "output_type": "stream",
     "text": [
      "2024-08-29 00:52:09.403538: W external/xla/xla/tsl/framework/bfc_allocator.cc:482] Allocator (GPU_0_bfc) ran out of memory trying to allocate 858.80MiB (rounded to 900520192)requested by op \n",
      "2024-08-29 00:52:09.406129: W external/xla/xla/tsl/framework/bfc_allocator.cc:494] **********************************************************************_**___________________________\n",
      "E0829 00:52:09.406156  308455 pjrt_stream_executor_client.cc:3067] Execution of replica 0 failed: RESOURCE_EXHAUSTED: Out of memory while trying to allocate 900519968 bytes.\n"
     ]
    },
    {
     "name": "stdout",
     "output_type": "stream",
     "text": [
      "error                     XlaRuntimeError('RESOURCE_EXHAUSTED: Out of memory while trying to allocate 900519968 bytes.')\n",
      "\n",
      "========== TRIAL 733 ==========\n",
      "Nin_virtual               20\n",
      "Nhidden                   80\n",
      "Nlayer                    2\n",
      "K                         100\n",
      "p_flip                    0.02\n",
      "Nt                        8\n",
      "error                     XlaRuntimeError('RESOURCE_EXHAUSTED: Out of memory while trying to allocate 464777216 bytes.')\n",
      "\n",
      "========== TRIAL 734 ==========\n",
      "Nin_virtual               20\n",
      "Nhidden                   80\n",
      "Nlayer                    2\n",
      "K                         100\n",
      "p_flip                    0.02\n",
      "Nt                        12\n"
     ]
    },
    {
     "name": "stderr",
     "output_type": "stream",
     "text": [
      "2024-08-29 00:52:30.824190: W external/xla/xla/tsl/framework/bfc_allocator.cc:482] Allocator (GPU_0_bfc) ran out of memory trying to allocate 645.18MiB (rounded to 676520192)requested by op \n",
      "2024-08-29 00:52:30.826830: W external/xla/xla/tsl/framework/bfc_allocator.cc:494] ***********************************************************************_____________________________\n",
      "E0829 00:52:30.826862  308455 pjrt_stream_executor_client.cc:3067] Execution of replica 0 failed: RESOURCE_EXHAUSTED: Out of memory while trying to allocate 676519968 bytes.\n"
     ]
    },
    {
     "name": "stdout",
     "output_type": "stream",
     "text": [
      "error                     XlaRuntimeError('RESOURCE_EXHAUSTED: Out of memory while trying to allocate 676519968 bytes.')\n",
      "\n",
      "========== TRIAL 735 ==========\n",
      "Nin_virtual               20\n",
      "Nhidden                   80\n",
      "Nlayer                    2\n",
      "K                         100\n",
      "p_flip                    0.02\n",
      "Nt                        16\n"
     ]
    },
    {
     "name": "stderr",
     "output_type": "stream",
     "text": [
      "2024-08-29 00:52:47.200583: W external/xla/xla/tsl/framework/bfc_allocator.cc:482] Allocator (GPU_0_bfc) ran out of memory trying to allocate 858.80MiB (rounded to 900520192)requested by op \n",
      "2024-08-29 00:52:47.203213: W external/xla/xla/tsl/framework/bfc_allocator.cc:494] **********************************************************************_**___________________________\n",
      "E0829 00:52:47.203240  308455 pjrt_stream_executor_client.cc:3067] Execution of replica 0 failed: RESOURCE_EXHAUSTED: Out of memory while trying to allocate 900519968 bytes.\n"
     ]
    },
    {
     "name": "stdout",
     "output_type": "stream",
     "text": [
      "error                     XlaRuntimeError('RESOURCE_EXHAUSTED: Out of memory while trying to allocate 900519968 bytes.')\n",
      "\n",
      "========== TRIAL 736 ==========\n",
      "Nin_virtual               20\n",
      "Nhidden                   80\n",
      "Nlayer                    2\n",
      "K                         100\n",
      "p_flip                    0.04\n",
      "Nt                        8\n",
      "error                     XlaRuntimeError('RESOURCE_EXHAUSTED: Out of memory while trying to allocate 464777216 bytes.')\n",
      "\n",
      "========== TRIAL 737 ==========\n",
      "Nin_virtual               20\n",
      "Nhidden                   80\n",
      "Nlayer                    2\n",
      "K                         100\n",
      "p_flip                    0.04\n",
      "Nt                        12\n"
     ]
    },
    {
     "name": "stderr",
     "output_type": "stream",
     "text": [
      "2024-08-29 00:53:08.512417: W external/xla/xla/tsl/framework/bfc_allocator.cc:482] Allocator (GPU_0_bfc) ran out of memory trying to allocate 645.18MiB (rounded to 676520192)requested by op \n",
      "2024-08-29 00:53:08.514955: W external/xla/xla/tsl/framework/bfc_allocator.cc:494] ***********************************************************************_____________________________\n",
      "E0829 00:53:08.514981  308455 pjrt_stream_executor_client.cc:3067] Execution of replica 0 failed: RESOURCE_EXHAUSTED: Out of memory while trying to allocate 676519968 bytes.\n"
     ]
    },
    {
     "name": "stdout",
     "output_type": "stream",
     "text": [
      "error                     XlaRuntimeError('RESOURCE_EXHAUSTED: Out of memory while trying to allocate 676519968 bytes.')\n",
      "\n",
      "========== TRIAL 738 ==========\n",
      "Nin_virtual               20\n",
      "Nhidden                   80\n",
      "Nlayer                    2\n",
      "K                         100\n",
      "p_flip                    0.04\n",
      "Nt                        16\n"
     ]
    },
    {
     "name": "stderr",
     "output_type": "stream",
     "text": [
      "2024-08-29 00:53:24.921650: W external/xla/xla/tsl/framework/bfc_allocator.cc:482] Allocator (GPU_0_bfc) ran out of memory trying to allocate 858.80MiB (rounded to 900520192)requested by op \n",
      "2024-08-29 00:53:24.924301: W external/xla/xla/tsl/framework/bfc_allocator.cc:494] **********************************************************************_**___________________________\n",
      "E0829 00:53:24.924336  308455 pjrt_stream_executor_client.cc:3067] Execution of replica 0 failed: RESOURCE_EXHAUSTED: Out of memory while trying to allocate 900519968 bytes.\n"
     ]
    },
    {
     "name": "stdout",
     "output_type": "stream",
     "text": [
      "error                     XlaRuntimeError('RESOURCE_EXHAUSTED: Out of memory while trying to allocate 900519968 bytes.')\n",
      "\n",
      "========== TRIAL 739 ==========\n",
      "Nin_virtual               20\n",
      "Nhidden                   80\n",
      "Nlayer                    2\n",
      "K                         150\n",
      "p_flip                    0.0\n",
      "Nt                        8\n",
      "error                     XlaRuntimeError('RESOURCE_EXHAUSTED: Out of memory while trying to allocate 464777216 bytes.')\n",
      "\n",
      "========== TRIAL 740 ==========\n",
      "Nin_virtual               20\n",
      "Nhidden                   80\n",
      "Nlayer                    2\n",
      "K                         150\n",
      "p_flip                    0.0\n",
      "Nt                        12\n"
     ]
    },
    {
     "name": "stderr",
     "output_type": "stream",
     "text": [
      "2024-08-29 00:53:46.666419: W external/xla/xla/tsl/framework/bfc_allocator.cc:482] Allocator (GPU_0_bfc) ran out of memory trying to allocate 645.18MiB (rounded to 676520192)requested by op \n",
      "2024-08-29 00:53:46.668901: W external/xla/xla/tsl/framework/bfc_allocator.cc:494] ***********************************************************************_____________________________\n",
      "E0829 00:53:46.668930  308455 pjrt_stream_executor_client.cc:3067] Execution of replica 0 failed: RESOURCE_EXHAUSTED: Out of memory while trying to allocate 676519968 bytes.\n"
     ]
    },
    {
     "name": "stdout",
     "output_type": "stream",
     "text": [
      "error                     XlaRuntimeError('RESOURCE_EXHAUSTED: Out of memory while trying to allocate 676519968 bytes.')\n",
      "\n",
      "========== TRIAL 741 ==========\n",
      "Nin_virtual               20\n",
      "Nhidden                   80\n",
      "Nlayer                    2\n",
      "K                         150\n",
      "p_flip                    0.0\n",
      "Nt                        16\n"
     ]
    },
    {
     "name": "stderr",
     "output_type": "stream",
     "text": [
      "2024-08-29 00:54:03.477335: W external/xla/xla/tsl/framework/bfc_allocator.cc:482] Allocator (GPU_0_bfc) ran out of memory trying to allocate 858.80MiB (rounded to 900520192)requested by op \n",
      "2024-08-29 00:54:03.479887: W external/xla/xla/tsl/framework/bfc_allocator.cc:494] **********************************************************************_**___________________________\n",
      "E0829 00:54:03.479914  308455 pjrt_stream_executor_client.cc:3067] Execution of replica 0 failed: RESOURCE_EXHAUSTED: Out of memory while trying to allocate 900519968 bytes.\n"
     ]
    },
    {
     "name": "stdout",
     "output_type": "stream",
     "text": [
      "error                     XlaRuntimeError('RESOURCE_EXHAUSTED: Out of memory while trying to allocate 900519968 bytes.')\n",
      "\n",
      "========== TRIAL 742 ==========\n",
      "Nin_virtual               20\n",
      "Nhidden                   80\n",
      "Nlayer                    2\n",
      "K                         150\n",
      "p_flip                    0.02\n",
      "Nt                        8\n",
      "error                     XlaRuntimeError('RESOURCE_EXHAUSTED: Out of memory while trying to allocate 464777216 bytes.')\n",
      "\n",
      "========== TRIAL 743 ==========\n",
      "Nin_virtual               20\n",
      "Nhidden                   80\n",
      "Nlayer                    2\n",
      "K                         150\n",
      "p_flip                    0.02\n",
      "Nt                        12\n"
     ]
    },
    {
     "name": "stderr",
     "output_type": "stream",
     "text": [
      "2024-08-29 00:54:24.805072: W external/xla/xla/tsl/framework/bfc_allocator.cc:482] Allocator (GPU_0_bfc) ran out of memory trying to allocate 645.18MiB (rounded to 676520192)requested by op \n",
      "2024-08-29 00:54:24.807617: W external/xla/xla/tsl/framework/bfc_allocator.cc:494] ***********************************************************************_____________________________\n",
      "E0829 00:54:24.807646  308455 pjrt_stream_executor_client.cc:3067] Execution of replica 0 failed: RESOURCE_EXHAUSTED: Out of memory while trying to allocate 676519968 bytes.\n"
     ]
    },
    {
     "name": "stdout",
     "output_type": "stream",
     "text": [
      "error                     XlaRuntimeError('RESOURCE_EXHAUSTED: Out of memory while trying to allocate 676519968 bytes.')\n",
      "\n",
      "========== TRIAL 744 ==========\n",
      "Nin_virtual               20\n",
      "Nhidden                   80\n",
      "Nlayer                    2\n",
      "K                         150\n",
      "p_flip                    0.02\n",
      "Nt                        16\n"
     ]
    },
    {
     "name": "stderr",
     "output_type": "stream",
     "text": [
      "2024-08-29 00:54:41.204143: W external/xla/xla/tsl/framework/bfc_allocator.cc:482] Allocator (GPU_0_bfc) ran out of memory trying to allocate 858.80MiB (rounded to 900520192)requested by op \n",
      "2024-08-29 00:54:41.206451: W external/xla/xla/tsl/framework/bfc_allocator.cc:494] **********************************************************************_**___________________________\n",
      "E0829 00:54:41.206478  308455 pjrt_stream_executor_client.cc:3067] Execution of replica 0 failed: RESOURCE_EXHAUSTED: Out of memory while trying to allocate 900519968 bytes.\n"
     ]
    },
    {
     "name": "stdout",
     "output_type": "stream",
     "text": [
      "error                     XlaRuntimeError('RESOURCE_EXHAUSTED: Out of memory while trying to allocate 900519968 bytes.')\n",
      "\n",
      "========== TRIAL 745 ==========\n",
      "Nin_virtual               20\n",
      "Nhidden                   80\n",
      "Nlayer                    2\n",
      "K                         150\n",
      "p_flip                    0.04\n",
      "Nt                        8\n",
      "error                     XlaRuntimeError('RESOURCE_EXHAUSTED: Out of memory while trying to allocate 464777216 bytes.')\n",
      "\n",
      "========== TRIAL 746 ==========\n",
      "Nin_virtual               20\n",
      "Nhidden                   80\n",
      "Nlayer                    2\n",
      "K                         150\n",
      "p_flip                    0.04\n",
      "Nt                        12\n"
     ]
    },
    {
     "name": "stderr",
     "output_type": "stream",
     "text": [
      "2024-08-29 00:55:05.500990: W external/xla/xla/tsl/framework/bfc_allocator.cc:482] Allocator (GPU_0_bfc) ran out of memory trying to allocate 645.18MiB (rounded to 676520192)requested by op \n",
      "2024-08-29 00:55:05.503596: W external/xla/xla/tsl/framework/bfc_allocator.cc:494] ***********************************************************************_____________________________\n",
      "E0829 00:55:05.503624  308455 pjrt_stream_executor_client.cc:3067] Execution of replica 0 failed: RESOURCE_EXHAUSTED: Out of memory while trying to allocate 676519968 bytes.\n"
     ]
    },
    {
     "name": "stdout",
     "output_type": "stream",
     "text": [
      "error                     XlaRuntimeError('RESOURCE_EXHAUSTED: Out of memory while trying to allocate 676519968 bytes.')\n",
      "\n",
      "========== TRIAL 747 ==========\n",
      "Nin_virtual               20\n",
      "Nhidden                   80\n",
      "Nlayer                    2\n",
      "K                         150\n",
      "p_flip                    0.04\n",
      "Nt                        16\n"
     ]
    },
    {
     "name": "stderr",
     "output_type": "stream",
     "text": [
      "2024-08-29 00:55:21.921031: W external/xla/xla/tsl/framework/bfc_allocator.cc:482] Allocator (GPU_0_bfc) ran out of memory trying to allocate 858.80MiB (rounded to 900520192)requested by op \n",
      "2024-08-29 00:55:21.923687: W external/xla/xla/tsl/framework/bfc_allocator.cc:494] **********************************************************************_**___________________________\n",
      "E0829 00:55:21.923718  308455 pjrt_stream_executor_client.cc:3067] Execution of replica 0 failed: RESOURCE_EXHAUSTED: Out of memory while trying to allocate 900519968 bytes.\n"
     ]
    },
    {
     "name": "stdout",
     "output_type": "stream",
     "text": [
      "error                     XlaRuntimeError('RESOURCE_EXHAUSTED: Out of memory while trying to allocate 900519968 bytes.')\n",
      "\n",
      "========== TRIAL 748 ==========\n",
      "Nin_virtual               20\n",
      "Nhidden                   80\n",
      "Nlayer                    2\n",
      "K                         200\n",
      "p_flip                    0.0\n",
      "Nt                        8\n",
      "error                     XlaRuntimeError('RESOURCE_EXHAUSTED: Out of memory while trying to allocate 464777216 bytes.')\n",
      "\n",
      "========== TRIAL 749 ==========\n",
      "Nin_virtual               20\n",
      "Nhidden                   80\n",
      "Nlayer                    2\n",
      "K                         200\n",
      "p_flip                    0.0\n",
      "Nt                        12\n"
     ]
    },
    {
     "name": "stderr",
     "output_type": "stream",
     "text": [
      "2024-08-29 00:55:43.649045: W external/xla/xla/tsl/framework/bfc_allocator.cc:482] Allocator (GPU_0_bfc) ran out of memory trying to allocate 645.18MiB (rounded to 676520192)requested by op \n",
      "2024-08-29 00:55:43.651421: W external/xla/xla/tsl/framework/bfc_allocator.cc:494] ***********************************************************************_____________________________\n",
      "E0829 00:55:43.651446  308455 pjrt_stream_executor_client.cc:3067] Execution of replica 0 failed: RESOURCE_EXHAUSTED: Out of memory while trying to allocate 676519968 bytes.\n"
     ]
    },
    {
     "name": "stdout",
     "output_type": "stream",
     "text": [
      "error                     XlaRuntimeError('RESOURCE_EXHAUSTED: Out of memory while trying to allocate 676519968 bytes.')\n",
      "\n",
      "========== TRIAL 750 ==========\n",
      "Nin_virtual               20\n",
      "Nhidden                   80\n",
      "Nlayer                    2\n",
      "K                         200\n",
      "p_flip                    0.0\n",
      "Nt                        16\n"
     ]
    },
    {
     "name": "stderr",
     "output_type": "stream",
     "text": [
      "2024-08-29 00:56:00.506945: W external/xla/xla/tsl/framework/bfc_allocator.cc:482] Allocator (GPU_0_bfc) ran out of memory trying to allocate 858.80MiB (rounded to 900520192)requested by op \n",
      "2024-08-29 00:56:00.509471: W external/xla/xla/tsl/framework/bfc_allocator.cc:494] **********************************************************************_**___________________________\n",
      "E0829 00:56:00.509500  308455 pjrt_stream_executor_client.cc:3067] Execution of replica 0 failed: RESOURCE_EXHAUSTED: Out of memory while trying to allocate 900519968 bytes.\n"
     ]
    },
    {
     "name": "stdout",
     "output_type": "stream",
     "text": [
      "error                     XlaRuntimeError('RESOURCE_EXHAUSTED: Out of memory while trying to allocate 900519968 bytes.')\n",
      "\n",
      "========== TRIAL 751 ==========\n",
      "Nin_virtual               20\n",
      "Nhidden                   80\n",
      "Nlayer                    2\n",
      "K                         200\n",
      "p_flip                    0.02\n",
      "Nt                        8\n",
      "error                     XlaRuntimeError('RESOURCE_EXHAUSTED: Out of memory while trying to allocate 464777216 bytes.')\n",
      "\n",
      "========== TRIAL 752 ==========\n",
      "Nin_virtual               20\n",
      "Nhidden                   80\n",
      "Nlayer                    2\n",
      "K                         200\n",
      "p_flip                    0.02\n",
      "Nt                        12\n"
     ]
    },
    {
     "name": "stderr",
     "output_type": "stream",
     "text": [
      "2024-08-29 00:56:21.786034: W external/xla/xla/tsl/framework/bfc_allocator.cc:482] Allocator (GPU_0_bfc) ran out of memory trying to allocate 645.18MiB (rounded to 676520192)requested by op \n",
      "2024-08-29 00:56:21.788418: W external/xla/xla/tsl/framework/bfc_allocator.cc:494] ***********************************************************************_____________________________\n",
      "E0829 00:56:21.788443  308455 pjrt_stream_executor_client.cc:3067] Execution of replica 0 failed: RESOURCE_EXHAUSTED: Out of memory while trying to allocate 676519968 bytes.\n"
     ]
    },
    {
     "name": "stdout",
     "output_type": "stream",
     "text": [
      "error                     XlaRuntimeError('RESOURCE_EXHAUSTED: Out of memory while trying to allocate 676519968 bytes.')\n",
      "\n",
      "========== TRIAL 753 ==========\n",
      "Nin_virtual               20\n",
      "Nhidden                   80\n",
      "Nlayer                    2\n",
      "K                         200\n",
      "p_flip                    0.02\n",
      "Nt                        16\n"
     ]
    },
    {
     "name": "stderr",
     "output_type": "stream",
     "text": [
      "2024-08-29 00:56:38.238928: W external/xla/xla/tsl/framework/bfc_allocator.cc:482] Allocator (GPU_0_bfc) ran out of memory trying to allocate 858.80MiB (rounded to 900520192)requested by op \n",
      "2024-08-29 00:56:38.241583: W external/xla/xla/tsl/framework/bfc_allocator.cc:494] **********************************************************************_**___________________________\n",
      "E0829 00:56:38.241614  308455 pjrt_stream_executor_client.cc:3067] Execution of replica 0 failed: RESOURCE_EXHAUSTED: Out of memory while trying to allocate 900519968 bytes.\n"
     ]
    },
    {
     "name": "stdout",
     "output_type": "stream",
     "text": [
      "error                     XlaRuntimeError('RESOURCE_EXHAUSTED: Out of memory while trying to allocate 900519968 bytes.')\n",
      "\n",
      "========== TRIAL 754 ==========\n",
      "Nin_virtual               20\n",
      "Nhidden                   80\n",
      "Nlayer                    2\n",
      "K                         200\n",
      "p_flip                    0.04\n",
      "Nt                        8\n",
      "error                     XlaRuntimeError('RESOURCE_EXHAUSTED: Out of memory while trying to allocate 464777216 bytes.')\n",
      "\n",
      "========== TRIAL 755 ==========\n",
      "Nin_virtual               20\n",
      "Nhidden                   80\n",
      "Nlayer                    2\n",
      "K                         200\n",
      "p_flip                    0.04\n",
      "Nt                        12\n"
     ]
    },
    {
     "name": "stderr",
     "output_type": "stream",
     "text": [
      "2024-08-29 00:56:59.568961: W external/xla/xla/tsl/framework/bfc_allocator.cc:482] Allocator (GPU_0_bfc) ran out of memory trying to allocate 645.18MiB (rounded to 676520192)requested by op \n",
      "2024-08-29 00:56:59.571144: W external/xla/xla/tsl/framework/bfc_allocator.cc:494] ***********************************************************************_____________________________\n",
      "E0829 00:56:59.571174  308455 pjrt_stream_executor_client.cc:3067] Execution of replica 0 failed: RESOURCE_EXHAUSTED: Out of memory while trying to allocate 676519968 bytes.\n"
     ]
    },
    {
     "name": "stdout",
     "output_type": "stream",
     "text": [
      "error                     XlaRuntimeError('RESOURCE_EXHAUSTED: Out of memory while trying to allocate 676519968 bytes.')\n",
      "\n",
      "========== TRIAL 756 ==========\n",
      "Nin_virtual               20\n",
      "Nhidden                   80\n",
      "Nlayer                    2\n",
      "K                         200\n",
      "p_flip                    0.04\n",
      "Nt                        16\n"
     ]
    },
    {
     "name": "stderr",
     "output_type": "stream",
     "text": [
      "2024-08-29 00:57:15.987532: W external/xla/xla/tsl/framework/bfc_allocator.cc:482] Allocator (GPU_0_bfc) ran out of memory trying to allocate 858.80MiB (rounded to 900520192)requested by op \n",
      "2024-08-29 00:57:15.990020: W external/xla/xla/tsl/framework/bfc_allocator.cc:494] **********************************************************************_**___________________________\n",
      "E0829 00:57:15.990047  308455 pjrt_stream_executor_client.cc:3067] Execution of replica 0 failed: RESOURCE_EXHAUSTED: Out of memory while trying to allocate 900519968 bytes.\n"
     ]
    },
    {
     "name": "stdout",
     "output_type": "stream",
     "text": [
      "error                     XlaRuntimeError('RESOURCE_EXHAUSTED: Out of memory while trying to allocate 900519968 bytes.')\n",
      "\n",
      "========== TRIAL 757 ==========\n",
      "Nin_virtual               20\n",
      "Nhidden                   80\n",
      "Nlayer                    3\n",
      "K                         50\n",
      "p_flip                    0.0\n",
      "Nt                        8\n",
      "error                     XlaRuntimeError('RESOURCE_EXHAUSTED: Out of memory while trying to allocate 464777216 bytes.')\n",
      "\n",
      "========== TRIAL 758 ==========\n",
      "Nin_virtual               20\n",
      "Nhidden                   80\n",
      "Nlayer                    3\n",
      "K                         50\n",
      "p_flip                    0.0\n",
      "Nt                        12\n"
     ]
    },
    {
     "name": "stderr",
     "output_type": "stream",
     "text": [
      "2024-08-29 00:57:37.735306: W external/xla/xla/tsl/framework/bfc_allocator.cc:482] Allocator (GPU_0_bfc) ran out of memory trying to allocate 645.18MiB (rounded to 676520448)requested by op \n",
      "2024-08-29 00:57:37.738125: W external/xla/xla/tsl/framework/bfc_allocator.cc:494] ***********************************************************************_____________________________\n",
      "E0829 00:57:37.738154  308455 pjrt_stream_executor_client.cc:3067] Execution of replica 0 failed: RESOURCE_EXHAUSTED: Out of memory while trying to allocate 676520224 bytes.\n"
     ]
    },
    {
     "name": "stdout",
     "output_type": "stream",
     "text": [
      "error                     XlaRuntimeError('RESOURCE_EXHAUSTED: Out of memory while trying to allocate 676520224 bytes.')\n",
      "\n",
      "========== TRIAL 759 ==========\n",
      "Nin_virtual               20\n",
      "Nhidden                   80\n",
      "Nlayer                    3\n",
      "K                         50\n",
      "p_flip                    0.0\n",
      "Nt                        16\n"
     ]
    },
    {
     "name": "stderr",
     "output_type": "stream",
     "text": [
      "2024-08-29 00:57:54.637880: W external/xla/xla/tsl/framework/bfc_allocator.cc:482] Allocator (GPU_0_bfc) ran out of memory trying to allocate 858.80MiB (rounded to 900520448)requested by op \n",
      "2024-08-29 00:57:54.640297: W external/xla/xla/tsl/framework/bfc_allocator.cc:494] **********************************************************************_**___________________________\n",
      "E0829 00:57:54.640331  308455 pjrt_stream_executor_client.cc:3067] Execution of replica 0 failed: RESOURCE_EXHAUSTED: Out of memory while trying to allocate 900520224 bytes.\n"
     ]
    },
    {
     "name": "stdout",
     "output_type": "stream",
     "text": [
      "error                     XlaRuntimeError('RESOURCE_EXHAUSTED: Out of memory while trying to allocate 900520224 bytes.')\n",
      "\n",
      "========== TRIAL 760 ==========\n",
      "Nin_virtual               20\n",
      "Nhidden                   80\n",
      "Nlayer                    3\n",
      "K                         50\n",
      "p_flip                    0.02\n",
      "Nt                        8\n",
      "error                     XlaRuntimeError('RESOURCE_EXHAUSTED: Out of memory while trying to allocate 464777216 bytes.')\n",
      "\n",
      "========== TRIAL 761 ==========\n",
      "Nin_virtual               20\n",
      "Nhidden                   80\n",
      "Nlayer                    3\n",
      "K                         50\n",
      "p_flip                    0.02\n",
      "Nt                        12\n"
     ]
    },
    {
     "name": "stderr",
     "output_type": "stream",
     "text": [
      "2024-08-29 00:58:15.989200: W external/xla/xla/tsl/framework/bfc_allocator.cc:482] Allocator (GPU_0_bfc) ran out of memory trying to allocate 645.18MiB (rounded to 676520448)requested by op \n",
      "2024-08-29 00:58:15.991775: W external/xla/xla/tsl/framework/bfc_allocator.cc:494] ***********************************************************************_____________________________\n",
      "E0829 00:58:15.991809  308455 pjrt_stream_executor_client.cc:3067] Execution of replica 0 failed: RESOURCE_EXHAUSTED: Out of memory while trying to allocate 676520224 bytes.\n"
     ]
    },
    {
     "name": "stdout",
     "output_type": "stream",
     "text": [
      "error                     XlaRuntimeError('RESOURCE_EXHAUSTED: Out of memory while trying to allocate 676520224 bytes.')\n",
      "\n",
      "========== TRIAL 762 ==========\n",
      "Nin_virtual               20\n",
      "Nhidden                   80\n",
      "Nlayer                    3\n",
      "K                         50\n",
      "p_flip                    0.02\n",
      "Nt                        16\n"
     ]
    },
    {
     "name": "stderr",
     "output_type": "stream",
     "text": [
      "2024-08-29 00:58:32.484504: W external/xla/xla/tsl/framework/bfc_allocator.cc:482] Allocator (GPU_0_bfc) ran out of memory trying to allocate 858.80MiB (rounded to 900520448)requested by op \n",
      "2024-08-29 00:58:32.487234: W external/xla/xla/tsl/framework/bfc_allocator.cc:494] **********************************************************************_**___________________________\n",
      "E0829 00:58:32.487264  308455 pjrt_stream_executor_client.cc:3067] Execution of replica 0 failed: RESOURCE_EXHAUSTED: Out of memory while trying to allocate 900520224 bytes.\n"
     ]
    },
    {
     "name": "stdout",
     "output_type": "stream",
     "text": [
      "error                     XlaRuntimeError('RESOURCE_EXHAUSTED: Out of memory while trying to allocate 900520224 bytes.')\n",
      "\n",
      "========== TRIAL 763 ==========\n",
      "Nin_virtual               20\n",
      "Nhidden                   80\n",
      "Nlayer                    3\n",
      "K                         50\n",
      "p_flip                    0.04\n",
      "Nt                        8\n",
      "error                     XlaRuntimeError('RESOURCE_EXHAUSTED: Out of memory while trying to allocate 464777216 bytes.')\n",
      "\n",
      "========== TRIAL 764 ==========\n",
      "Nin_virtual               20\n",
      "Nhidden                   80\n",
      "Nlayer                    3\n",
      "K                         50\n",
      "p_flip                    0.04\n",
      "Nt                        12\n"
     ]
    },
    {
     "name": "stderr",
     "output_type": "stream",
     "text": [
      "2024-08-29 00:58:53.871586: W external/xla/xla/tsl/framework/bfc_allocator.cc:482] Allocator (GPU_0_bfc) ran out of memory trying to allocate 645.18MiB (rounded to 676520448)requested by op \n",
      "2024-08-29 00:58:53.874295: W external/xla/xla/tsl/framework/bfc_allocator.cc:494] ***********************************************************************_____________________________\n",
      "E0829 00:58:53.874327  308455 pjrt_stream_executor_client.cc:3067] Execution of replica 0 failed: RESOURCE_EXHAUSTED: Out of memory while trying to allocate 676520224 bytes.\n"
     ]
    },
    {
     "name": "stdout",
     "output_type": "stream",
     "text": [
      "error                     XlaRuntimeError('RESOURCE_EXHAUSTED: Out of memory while trying to allocate 676520224 bytes.')\n",
      "\n",
      "========== TRIAL 765 ==========\n",
      "Nin_virtual               20\n",
      "Nhidden                   80\n",
      "Nlayer                    3\n",
      "K                         50\n",
      "p_flip                    0.04\n",
      "Nt                        16\n"
     ]
    },
    {
     "name": "stderr",
     "output_type": "stream",
     "text": [
      "2024-08-29 00:59:10.378908: W external/xla/xla/tsl/framework/bfc_allocator.cc:482] Allocator (GPU_0_bfc) ran out of memory trying to allocate 858.80MiB (rounded to 900520448)requested by op \n",
      "2024-08-29 00:59:10.381613: W external/xla/xla/tsl/framework/bfc_allocator.cc:494] **********************************************************************_**___________________________\n",
      "E0829 00:59:10.381643  308455 pjrt_stream_executor_client.cc:3067] Execution of replica 0 failed: RESOURCE_EXHAUSTED: Out of memory while trying to allocate 900520224 bytes.\n"
     ]
    },
    {
     "name": "stdout",
     "output_type": "stream",
     "text": [
      "error                     XlaRuntimeError('RESOURCE_EXHAUSTED: Out of memory while trying to allocate 900520224 bytes.')\n",
      "\n",
      "========== TRIAL 766 ==========\n",
      "Nin_virtual               20\n",
      "Nhidden                   80\n",
      "Nlayer                    3\n",
      "K                         100\n",
      "p_flip                    0.0\n",
      "Nt                        8\n",
      "error                     XlaRuntimeError('RESOURCE_EXHAUSTED: Out of memory while trying to allocate 464777216 bytes.')\n",
      "\n",
      "========== TRIAL 767 ==========\n",
      "Nin_virtual               20\n",
      "Nhidden                   80\n",
      "Nlayer                    3\n",
      "K                         100\n",
      "p_flip                    0.0\n",
      "Nt                        12\n"
     ]
    },
    {
     "name": "stderr",
     "output_type": "stream",
     "text": [
      "2024-08-29 00:59:35.113085: W external/xla/xla/tsl/framework/bfc_allocator.cc:482] Allocator (GPU_0_bfc) ran out of memory trying to allocate 645.18MiB (rounded to 676520448)requested by op \n",
      "2024-08-29 00:59:35.115519: W external/xla/xla/tsl/framework/bfc_allocator.cc:494] ***********************************************************************_____________________________\n",
      "E0829 00:59:35.115548  308455 pjrt_stream_executor_client.cc:3067] Execution of replica 0 failed: RESOURCE_EXHAUSTED: Out of memory while trying to allocate 676520224 bytes.\n"
     ]
    },
    {
     "name": "stdout",
     "output_type": "stream",
     "text": [
      "error                     XlaRuntimeError('RESOURCE_EXHAUSTED: Out of memory while trying to allocate 676520224 bytes.')\n",
      "\n",
      "========== TRIAL 768 ==========\n",
      "Nin_virtual               20\n",
      "Nhidden                   80\n",
      "Nlayer                    3\n",
      "K                         100\n",
      "p_flip                    0.0\n",
      "Nt                        16\n"
     ]
    },
    {
     "name": "stderr",
     "output_type": "stream",
     "text": [
      "2024-08-29 00:59:52.031668: W external/xla/xla/tsl/framework/bfc_allocator.cc:482] Allocator (GPU_0_bfc) ran out of memory trying to allocate 858.80MiB (rounded to 900520448)requested by op \n",
      "2024-08-29 00:59:52.034468: W external/xla/xla/tsl/framework/bfc_allocator.cc:494] **********************************************************************_**___________________________\n",
      "E0829 00:59:52.034496  308455 pjrt_stream_executor_client.cc:3067] Execution of replica 0 failed: RESOURCE_EXHAUSTED: Out of memory while trying to allocate 900520224 bytes.\n"
     ]
    },
    {
     "name": "stdout",
     "output_type": "stream",
     "text": [
      "error                     XlaRuntimeError('RESOURCE_EXHAUSTED: Out of memory while trying to allocate 900520224 bytes.')\n",
      "\n",
      "========== TRIAL 769 ==========\n",
      "Nin_virtual               20\n",
      "Nhidden                   80\n",
      "Nlayer                    3\n",
      "K                         100\n",
      "p_flip                    0.02\n",
      "Nt                        8\n",
      "error                     XlaRuntimeError('RESOURCE_EXHAUSTED: Out of memory while trying to allocate 464777216 bytes.')\n",
      "\n",
      "========== TRIAL 770 ==========\n",
      "Nin_virtual               20\n",
      "Nhidden                   80\n",
      "Nlayer                    3\n",
      "K                         100\n",
      "p_flip                    0.02\n",
      "Nt                        12\n"
     ]
    },
    {
     "name": "stderr",
     "output_type": "stream",
     "text": [
      "2024-08-29 01:00:13.451674: W external/xla/xla/tsl/framework/bfc_allocator.cc:482] Allocator (GPU_0_bfc) ran out of memory trying to allocate 645.18MiB (rounded to 676520448)requested by op \n",
      "2024-08-29 01:00:13.454334: W external/xla/xla/tsl/framework/bfc_allocator.cc:494] ***********************************************************************_____________________________\n",
      "E0829 01:00:13.454364  308455 pjrt_stream_executor_client.cc:3067] Execution of replica 0 failed: RESOURCE_EXHAUSTED: Out of memory while trying to allocate 676520224 bytes.\n"
     ]
    },
    {
     "name": "stdout",
     "output_type": "stream",
     "text": [
      "error                     XlaRuntimeError('RESOURCE_EXHAUSTED: Out of memory while trying to allocate 676520224 bytes.')\n",
      "\n",
      "========== TRIAL 771 ==========\n",
      "Nin_virtual               20\n",
      "Nhidden                   80\n",
      "Nlayer                    3\n",
      "K                         100\n",
      "p_flip                    0.02\n",
      "Nt                        16\n"
     ]
    },
    {
     "name": "stderr",
     "output_type": "stream",
     "text": [
      "2024-08-29 01:00:29.986176: W external/xla/xla/tsl/framework/bfc_allocator.cc:482] Allocator (GPU_0_bfc) ran out of memory trying to allocate 858.80MiB (rounded to 900520448)requested by op \n",
      "2024-08-29 01:00:29.988906: W external/xla/xla/tsl/framework/bfc_allocator.cc:494] **********************************************************************_**___________________________\n",
      "E0829 01:00:29.988936  308455 pjrt_stream_executor_client.cc:3067] Execution of replica 0 failed: RESOURCE_EXHAUSTED: Out of memory while trying to allocate 900520224 bytes.\n"
     ]
    },
    {
     "name": "stdout",
     "output_type": "stream",
     "text": [
      "error                     XlaRuntimeError('RESOURCE_EXHAUSTED: Out of memory while trying to allocate 900520224 bytes.')\n",
      "\n",
      "========== TRIAL 772 ==========\n",
      "Nin_virtual               20\n",
      "Nhidden                   80\n",
      "Nlayer                    3\n",
      "K                         100\n",
      "p_flip                    0.04\n",
      "Nt                        8\n",
      "error                     XlaRuntimeError('RESOURCE_EXHAUSTED: Out of memory while trying to allocate 464777216 bytes.')\n",
      "\n",
      "========== TRIAL 773 ==========\n",
      "Nin_virtual               20\n",
      "Nhidden                   80\n",
      "Nlayer                    3\n",
      "K                         100\n",
      "p_flip                    0.04\n",
      "Nt                        12\n"
     ]
    },
    {
     "name": "stderr",
     "output_type": "stream",
     "text": [
      "2024-08-29 01:00:51.394144: W external/xla/xla/tsl/framework/bfc_allocator.cc:482] Allocator (GPU_0_bfc) ran out of memory trying to allocate 645.18MiB (rounded to 676520448)requested by op \n",
      "2024-08-29 01:00:51.396828: W external/xla/xla/tsl/framework/bfc_allocator.cc:494] ***********************************************************************_____________________________\n",
      "E0829 01:00:51.396855  308455 pjrt_stream_executor_client.cc:3067] Execution of replica 0 failed: RESOURCE_EXHAUSTED: Out of memory while trying to allocate 676520224 bytes.\n"
     ]
    },
    {
     "name": "stdout",
     "output_type": "stream",
     "text": [
      "error                     XlaRuntimeError('RESOURCE_EXHAUSTED: Out of memory while trying to allocate 676520224 bytes.')\n",
      "\n",
      "========== TRIAL 774 ==========\n",
      "Nin_virtual               20\n",
      "Nhidden                   80\n",
      "Nlayer                    3\n",
      "K                         100\n",
      "p_flip                    0.04\n",
      "Nt                        16\n"
     ]
    },
    {
     "name": "stderr",
     "output_type": "stream",
     "text": [
      "2024-08-29 01:01:07.904509: W external/xla/xla/tsl/framework/bfc_allocator.cc:482] Allocator (GPU_0_bfc) ran out of memory trying to allocate 858.80MiB (rounded to 900520448)requested by op \n",
      "2024-08-29 01:01:07.906964: W external/xla/xla/tsl/framework/bfc_allocator.cc:494] **********************************************************************_**___________________________\n",
      "E0829 01:01:07.906993  308455 pjrt_stream_executor_client.cc:3067] Execution of replica 0 failed: RESOURCE_EXHAUSTED: Out of memory while trying to allocate 900520224 bytes.\n"
     ]
    },
    {
     "name": "stdout",
     "output_type": "stream",
     "text": [
      "error                     XlaRuntimeError('RESOURCE_EXHAUSTED: Out of memory while trying to allocate 900520224 bytes.')\n",
      "\n",
      "========== TRIAL 775 ==========\n",
      "Nin_virtual               20\n",
      "Nhidden                   80\n",
      "Nlayer                    3\n",
      "K                         150\n",
      "p_flip                    0.0\n",
      "Nt                        8\n",
      "error                     XlaRuntimeError('RESOURCE_EXHAUSTED: Out of memory while trying to allocate 464777216 bytes.')\n",
      "\n",
      "========== TRIAL 776 ==========\n",
      "Nin_virtual               20\n",
      "Nhidden                   80\n",
      "Nlayer                    3\n",
      "K                         150\n",
      "p_flip                    0.0\n",
      "Nt                        12\n"
     ]
    },
    {
     "name": "stderr",
     "output_type": "stream",
     "text": [
      "2024-08-29 01:01:29.789840: W external/xla/xla/tsl/framework/bfc_allocator.cc:482] Allocator (GPU_0_bfc) ran out of memory trying to allocate 645.18MiB (rounded to 676520448)requested by op \n",
      "2024-08-29 01:01:29.792455: W external/xla/xla/tsl/framework/bfc_allocator.cc:494] ***********************************************************************_____________________________\n",
      "E0829 01:01:29.792481  308455 pjrt_stream_executor_client.cc:3067] Execution of replica 0 failed: RESOURCE_EXHAUSTED: Out of memory while trying to allocate 676520224 bytes.\n"
     ]
    },
    {
     "name": "stdout",
     "output_type": "stream",
     "text": [
      "error                     XlaRuntimeError('RESOURCE_EXHAUSTED: Out of memory while trying to allocate 676520224 bytes.')\n",
      "\n",
      "========== TRIAL 777 ==========\n",
      "Nin_virtual               20\n",
      "Nhidden                   80\n",
      "Nlayer                    3\n",
      "K                         150\n",
      "p_flip                    0.0\n",
      "Nt                        16\n"
     ]
    },
    {
     "name": "stderr",
     "output_type": "stream",
     "text": [
      "2024-08-29 01:01:46.696589: W external/xla/xla/tsl/framework/bfc_allocator.cc:482] Allocator (GPU_0_bfc) ran out of memory trying to allocate 858.80MiB (rounded to 900520448)requested by op \n",
      "2024-08-29 01:01:46.699116: W external/xla/xla/tsl/framework/bfc_allocator.cc:494] **********************************************************************_**___________________________\n",
      "E0829 01:01:46.699144  308455 pjrt_stream_executor_client.cc:3067] Execution of replica 0 failed: RESOURCE_EXHAUSTED: Out of memory while trying to allocate 900520224 bytes.\n"
     ]
    },
    {
     "name": "stdout",
     "output_type": "stream",
     "text": [
      "error                     XlaRuntimeError('RESOURCE_EXHAUSTED: Out of memory while trying to allocate 900520224 bytes.')\n",
      "\n",
      "========== TRIAL 778 ==========\n",
      "Nin_virtual               20\n",
      "Nhidden                   80\n",
      "Nlayer                    3\n",
      "K                         150\n",
      "p_flip                    0.02\n",
      "Nt                        8\n",
      "error                     XlaRuntimeError('RESOURCE_EXHAUSTED: Out of memory while trying to allocate 464777216 bytes.')\n",
      "\n",
      "========== TRIAL 779 ==========\n",
      "Nin_virtual               20\n",
      "Nhidden                   80\n",
      "Nlayer                    3\n",
      "K                         150\n",
      "p_flip                    0.02\n",
      "Nt                        12\n"
     ]
    },
    {
     "name": "stderr",
     "output_type": "stream",
     "text": [
      "2024-08-29 01:02:08.220915: W external/xla/xla/tsl/framework/bfc_allocator.cc:482] Allocator (GPU_0_bfc) ran out of memory trying to allocate 645.18MiB (rounded to 676520448)requested by op \n",
      "2024-08-29 01:02:08.223390: W external/xla/xla/tsl/framework/bfc_allocator.cc:494] ***********************************************************************_____________________________\n",
      "E0829 01:02:08.223419  308455 pjrt_stream_executor_client.cc:3067] Execution of replica 0 failed: RESOURCE_EXHAUSTED: Out of memory while trying to allocate 676520224 bytes.\n"
     ]
    },
    {
     "name": "stdout",
     "output_type": "stream",
     "text": [
      "error                     XlaRuntimeError('RESOURCE_EXHAUSTED: Out of memory while trying to allocate 676520224 bytes.')\n",
      "\n",
      "========== TRIAL 780 ==========\n",
      "Nin_virtual               20\n",
      "Nhidden                   80\n",
      "Nlayer                    3\n",
      "K                         150\n",
      "p_flip                    0.02\n",
      "Nt                        16\n"
     ]
    },
    {
     "name": "stderr",
     "output_type": "stream",
     "text": [
      "2024-08-29 01:02:24.786088: W external/xla/xla/tsl/framework/bfc_allocator.cc:482] Allocator (GPU_0_bfc) ran out of memory trying to allocate 858.80MiB (rounded to 900520448)requested by op \n",
      "2024-08-29 01:02:24.788725: W external/xla/xla/tsl/framework/bfc_allocator.cc:494] **********************************************************************_**___________________________\n",
      "E0829 01:02:24.788756  308455 pjrt_stream_executor_client.cc:3067] Execution of replica 0 failed: RESOURCE_EXHAUSTED: Out of memory while trying to allocate 900520224 bytes.\n"
     ]
    },
    {
     "name": "stdout",
     "output_type": "stream",
     "text": [
      "error                     XlaRuntimeError('RESOURCE_EXHAUSTED: Out of memory while trying to allocate 900520224 bytes.')\n",
      "\n",
      "========== TRIAL 781 ==========\n",
      "Nin_virtual               20\n",
      "Nhidden                   80\n",
      "Nlayer                    3\n",
      "K                         150\n",
      "p_flip                    0.04\n",
      "Nt                        8\n",
      "error                     XlaRuntimeError('RESOURCE_EXHAUSTED: Out of memory while trying to allocate 464777216 bytes.')\n",
      "\n",
      "========== TRIAL 782 ==========\n",
      "Nin_virtual               20\n",
      "Nhidden                   80\n",
      "Nlayer                    3\n",
      "K                         150\n",
      "p_flip                    0.04\n",
      "Nt                        12\n"
     ]
    },
    {
     "name": "stderr",
     "output_type": "stream",
     "text": [
      "2024-08-29 01:02:46.191585: W external/xla/xla/tsl/framework/bfc_allocator.cc:482] Allocator (GPU_0_bfc) ran out of memory trying to allocate 645.18MiB (rounded to 676520448)requested by op \n",
      "2024-08-29 01:02:46.194388: W external/xla/xla/tsl/framework/bfc_allocator.cc:494] ***********************************************************************_____________________________\n",
      "E0829 01:02:46.194418  308455 pjrt_stream_executor_client.cc:3067] Execution of replica 0 failed: RESOURCE_EXHAUSTED: Out of memory while trying to allocate 676520224 bytes.\n"
     ]
    },
    {
     "name": "stdout",
     "output_type": "stream",
     "text": [
      "error                     XlaRuntimeError('RESOURCE_EXHAUSTED: Out of memory while trying to allocate 676520224 bytes.')\n",
      "\n",
      "========== TRIAL 783 ==========\n",
      "Nin_virtual               20\n",
      "Nhidden                   80\n",
      "Nlayer                    3\n",
      "K                         150\n",
      "p_flip                    0.04\n",
      "Nt                        16\n"
     ]
    },
    {
     "name": "stderr",
     "output_type": "stream",
     "text": [
      "2024-08-29 01:03:02.717991: W external/xla/xla/tsl/framework/bfc_allocator.cc:482] Allocator (GPU_0_bfc) ran out of memory trying to allocate 858.80MiB (rounded to 900520448)requested by op \n",
      "2024-08-29 01:03:02.720522: W external/xla/xla/tsl/framework/bfc_allocator.cc:494] **********************************************************************_**___________________________\n",
      "E0829 01:03:02.720554  308455 pjrt_stream_executor_client.cc:3067] Execution of replica 0 failed: RESOURCE_EXHAUSTED: Out of memory while trying to allocate 900520224 bytes.\n"
     ]
    },
    {
     "name": "stdout",
     "output_type": "stream",
     "text": [
      "error                     XlaRuntimeError('RESOURCE_EXHAUSTED: Out of memory while trying to allocate 900520224 bytes.')\n",
      "\n",
      "========== TRIAL 784 ==========\n",
      "Nin_virtual               20\n",
      "Nhidden                   80\n",
      "Nlayer                    3\n",
      "K                         200\n",
      "p_flip                    0.0\n",
      "Nt                        8\n",
      "error                     XlaRuntimeError('RESOURCE_EXHAUSTED: Out of memory while trying to allocate 464777216 bytes.')\n",
      "\n",
      "========== TRIAL 785 ==========\n",
      "Nin_virtual               20\n",
      "Nhidden                   80\n",
      "Nlayer                    3\n",
      "K                         200\n",
      "p_flip                    0.0\n",
      "Nt                        12\n"
     ]
    },
    {
     "name": "stderr",
     "output_type": "stream",
     "text": [
      "2024-08-29 01:03:24.598139: W external/xla/xla/tsl/framework/bfc_allocator.cc:482] Allocator (GPU_0_bfc) ran out of memory trying to allocate 645.18MiB (rounded to 676520448)requested by op \n",
      "2024-08-29 01:03:24.600882: W external/xla/xla/tsl/framework/bfc_allocator.cc:494] ***********************************************************************_____________________________\n",
      "E0829 01:03:24.600911  308455 pjrt_stream_executor_client.cc:3067] Execution of replica 0 failed: RESOURCE_EXHAUSTED: Out of memory while trying to allocate 676520224 bytes.\n"
     ]
    },
    {
     "name": "stdout",
     "output_type": "stream",
     "text": [
      "error                     XlaRuntimeError('RESOURCE_EXHAUSTED: Out of memory while trying to allocate 676520224 bytes.')\n",
      "\n",
      "========== TRIAL 786 ==========\n",
      "Nin_virtual               20\n",
      "Nhidden                   80\n",
      "Nlayer                    3\n",
      "K                         200\n",
      "p_flip                    0.0\n",
      "Nt                        16\n"
     ]
    },
    {
     "name": "stderr",
     "output_type": "stream",
     "text": [
      "2024-08-29 01:03:41.534276: W external/xla/xla/tsl/framework/bfc_allocator.cc:482] Allocator (GPU_0_bfc) ran out of memory trying to allocate 858.80MiB (rounded to 900520448)requested by op \n",
      "2024-08-29 01:03:41.536947: W external/xla/xla/tsl/framework/bfc_allocator.cc:494] **********************************************************************_**___________________________\n",
      "E0829 01:03:41.536980  308455 pjrt_stream_executor_client.cc:3067] Execution of replica 0 failed: RESOURCE_EXHAUSTED: Out of memory while trying to allocate 900520224 bytes.\n"
     ]
    },
    {
     "name": "stdout",
     "output_type": "stream",
     "text": [
      "error                     XlaRuntimeError('RESOURCE_EXHAUSTED: Out of memory while trying to allocate 900520224 bytes.')\n",
      "\n",
      "========== TRIAL 787 ==========\n",
      "Nin_virtual               20\n",
      "Nhidden                   80\n",
      "Nlayer                    3\n",
      "K                         200\n",
      "p_flip                    0.02\n",
      "Nt                        8\n",
      "error                     XlaRuntimeError('RESOURCE_EXHAUSTED: Out of memory while trying to allocate 464777216 bytes.')\n",
      "\n",
      "========== TRIAL 788 ==========\n",
      "Nin_virtual               20\n",
      "Nhidden                   80\n",
      "Nlayer                    3\n",
      "K                         200\n",
      "p_flip                    0.02\n",
      "Nt                        12\n"
     ]
    },
    {
     "name": "stderr",
     "output_type": "stream",
     "text": [
      "2024-08-29 01:04:02.998832: W external/xla/xla/tsl/framework/bfc_allocator.cc:482] Allocator (GPU_0_bfc) ran out of memory trying to allocate 645.18MiB (rounded to 676520448)requested by op \n",
      "2024-08-29 01:04:03.001445: W external/xla/xla/tsl/framework/bfc_allocator.cc:494] ***********************************************************************_____________________________\n",
      "E0829 01:04:03.001472  308455 pjrt_stream_executor_client.cc:3067] Execution of replica 0 failed: RESOURCE_EXHAUSTED: Out of memory while trying to allocate 676520224 bytes.\n"
     ]
    },
    {
     "name": "stdout",
     "output_type": "stream",
     "text": [
      "error                     XlaRuntimeError('RESOURCE_EXHAUSTED: Out of memory while trying to allocate 676520224 bytes.')\n",
      "\n",
      "========== TRIAL 789 ==========\n",
      "Nin_virtual               20\n",
      "Nhidden                   80\n",
      "Nlayer                    3\n",
      "K                         200\n",
      "p_flip                    0.02\n",
      "Nt                        16\n"
     ]
    },
    {
     "name": "stderr",
     "output_type": "stream",
     "text": [
      "2024-08-29 01:04:22.400159: W external/xla/xla/tsl/framework/bfc_allocator.cc:482] Allocator (GPU_0_bfc) ran out of memory trying to allocate 858.80MiB (rounded to 900520448)requested by op \n",
      "2024-08-29 01:04:22.402767: W external/xla/xla/tsl/framework/bfc_allocator.cc:494] **********************************************************************_**___________________________\n",
      "E0829 01:04:22.402800  308455 pjrt_stream_executor_client.cc:3067] Execution of replica 0 failed: RESOURCE_EXHAUSTED: Out of memory while trying to allocate 900520224 bytes.\n"
     ]
    },
    {
     "name": "stdout",
     "output_type": "stream",
     "text": [
      "error                     XlaRuntimeError('RESOURCE_EXHAUSTED: Out of memory while trying to allocate 900520224 bytes.')\n",
      "\n",
      "========== TRIAL 790 ==========\n",
      "Nin_virtual               20\n",
      "Nhidden                   80\n",
      "Nlayer                    3\n",
      "K                         200\n",
      "p_flip                    0.04\n",
      "Nt                        8\n",
      "error                     XlaRuntimeError('RESOURCE_EXHAUSTED: Out of memory while trying to allocate 464777216 bytes.')\n",
      "\n",
      "========== TRIAL 791 ==========\n",
      "Nin_virtual               20\n",
      "Nhidden                   80\n",
      "Nlayer                    3\n",
      "K                         200\n",
      "p_flip                    0.04\n",
      "Nt                        12\n"
     ]
    },
    {
     "name": "stderr",
     "output_type": "stream",
     "text": [
      "2024-08-29 01:04:43.858638: W external/xla/xla/tsl/framework/bfc_allocator.cc:482] Allocator (GPU_0_bfc) ran out of memory trying to allocate 645.18MiB (rounded to 676520448)requested by op \n",
      "2024-08-29 01:04:43.860710: W external/xla/xla/tsl/framework/bfc_allocator.cc:494] ***********************************************************************_____________________________\n",
      "E0829 01:04:43.860744  308455 pjrt_stream_executor_client.cc:3067] Execution of replica 0 failed: RESOURCE_EXHAUSTED: Out of memory while trying to allocate 676520224 bytes.\n"
     ]
    },
    {
     "name": "stdout",
     "output_type": "stream",
     "text": [
      "error                     XlaRuntimeError('RESOURCE_EXHAUSTED: Out of memory while trying to allocate 676520224 bytes.')\n",
      "\n",
      "========== TRIAL 792 ==========\n",
      "Nin_virtual               20\n",
      "Nhidden                   80\n",
      "Nlayer                    3\n",
      "K                         200\n",
      "p_flip                    0.04\n",
      "Nt                        16\n"
     ]
    },
    {
     "name": "stderr",
     "output_type": "stream",
     "text": [
      "2024-08-29 01:05:00.369173: W external/xla/xla/tsl/framework/bfc_allocator.cc:482] Allocator (GPU_0_bfc) ran out of memory trying to allocate 858.80MiB (rounded to 900520448)requested by op \n",
      "2024-08-29 01:05:00.371957: W external/xla/xla/tsl/framework/bfc_allocator.cc:494] **********************************************************************_**___________________________\n",
      "E0829 01:05:00.371985  308455 pjrt_stream_executor_client.cc:3067] Execution of replica 0 failed: RESOURCE_EXHAUSTED: Out of memory while trying to allocate 900520224 bytes.\n"
     ]
    },
    {
     "name": "stdout",
     "output_type": "stream",
     "text": [
      "error                     XlaRuntimeError('RESOURCE_EXHAUSTED: Out of memory while trying to allocate 900520224 bytes.')\n",
      "\n",
      "========== TRIAL 793 ==========\n",
      "Nin_virtual               20\n",
      "Nhidden                   100\n",
      "Nlayer                    2\n",
      "K                         50\n",
      "p_flip                    0.0\n",
      "Nt                        8\n",
      "error                     XlaRuntimeError('RESOURCE_EXHAUSTED: Out of memory while trying to allocate 464777216 bytes.')\n",
      "\n",
      "========== TRIAL 794 ==========\n",
      "Nin_virtual               20\n",
      "Nhidden                   100\n",
      "Nlayer                    2\n",
      "K                         50\n",
      "p_flip                    0.0\n",
      "Nt                        12\n"
     ]
    },
    {
     "name": "stderr",
     "output_type": "stream",
     "text": [
      "2024-08-29 01:05:22.186637: W external/xla/xla/tsl/framework/bfc_allocator.cc:482] Allocator (GPU_0_bfc) ran out of memory trying to allocate 645.26MiB (rounded to 676600064)requested by op \n",
      "2024-08-29 01:05:22.189130: W external/xla/xla/tsl/framework/bfc_allocator.cc:494] ************************************************************************____________________________\n",
      "E0829 01:05:22.189160  308455 pjrt_stream_executor_client.cc:3067] Execution of replica 0 failed: RESOURCE_EXHAUSTED: Out of memory while trying to allocate 676599968 bytes.\n"
     ]
    },
    {
     "name": "stdout",
     "output_type": "stream",
     "text": [
      "error                     XlaRuntimeError('RESOURCE_EXHAUSTED: Out of memory while trying to allocate 676599968 bytes.')\n",
      "\n",
      "========== TRIAL 795 ==========\n",
      "Nin_virtual               20\n",
      "Nhidden                   100\n",
      "Nlayer                    2\n",
      "K                         50\n",
      "p_flip                    0.0\n",
      "Nt                        16\n"
     ]
    },
    {
     "name": "stderr",
     "output_type": "stream",
     "text": [
      "2024-08-29 01:05:39.012081: W external/xla/xla/tsl/framework/bfc_allocator.cc:482] Allocator (GPU_0_bfc) ran out of memory trying to allocate 858.88MiB (rounded to 900600064)requested by op \n",
      "2024-08-29 01:05:39.014865: W external/xla/xla/tsl/framework/bfc_allocator.cc:494] *************************************************************************___________________________\n",
      "E0829 01:05:39.014903  308455 pjrt_stream_executor_client.cc:3067] Execution of replica 0 failed: RESOURCE_EXHAUSTED: Out of memory while trying to allocate 900599968 bytes.\n"
     ]
    },
    {
     "name": "stdout",
     "output_type": "stream",
     "text": [
      "error                     XlaRuntimeError('RESOURCE_EXHAUSTED: Out of memory while trying to allocate 900599968 bytes.')\n",
      "\n",
      "========== TRIAL 796 ==========\n",
      "Nin_virtual               20\n",
      "Nhidden                   100\n",
      "Nlayer                    2\n",
      "K                         50\n",
      "p_flip                    0.02\n",
      "Nt                        8\n",
      "error                     XlaRuntimeError('RESOURCE_EXHAUSTED: Out of memory while trying to allocate 464777216 bytes.')\n",
      "\n",
      "========== TRIAL 797 ==========\n",
      "Nin_virtual               20\n",
      "Nhidden                   100\n",
      "Nlayer                    2\n",
      "K                         50\n",
      "p_flip                    0.02\n",
      "Nt                        12\n"
     ]
    },
    {
     "name": "stderr",
     "output_type": "stream",
     "text": [
      "2024-08-29 01:06:00.401630: W external/xla/xla/tsl/framework/bfc_allocator.cc:482] Allocator (GPU_0_bfc) ran out of memory trying to allocate 645.26MiB (rounded to 676600064)requested by op \n",
      "2024-08-29 01:06:00.404380: W external/xla/xla/tsl/framework/bfc_allocator.cc:494] ************************************************************************____________________________\n",
      "E0829 01:06:00.404415  308455 pjrt_stream_executor_client.cc:3067] Execution of replica 0 failed: RESOURCE_EXHAUSTED: Out of memory while trying to allocate 676599968 bytes.\n"
     ]
    },
    {
     "name": "stdout",
     "output_type": "stream",
     "text": [
      "error                     XlaRuntimeError('RESOURCE_EXHAUSTED: Out of memory while trying to allocate 676599968 bytes.')\n",
      "\n",
      "========== TRIAL 798 ==========\n",
      "Nin_virtual               20\n",
      "Nhidden                   100\n",
      "Nlayer                    2\n",
      "K                         50\n",
      "p_flip                    0.02\n",
      "Nt                        16\n"
     ]
    },
    {
     "name": "stderr",
     "output_type": "stream",
     "text": [
      "2024-08-29 01:06:16.862138: W external/xla/xla/tsl/framework/bfc_allocator.cc:482] Allocator (GPU_0_bfc) ran out of memory trying to allocate 858.88MiB (rounded to 900600064)requested by op \n",
      "2024-08-29 01:06:16.864648: W external/xla/xla/tsl/framework/bfc_allocator.cc:494] *************************************************************************___________________________\n",
      "E0829 01:06:16.864677  308455 pjrt_stream_executor_client.cc:3067] Execution of replica 0 failed: RESOURCE_EXHAUSTED: Out of memory while trying to allocate 900599968 bytes.\n"
     ]
    },
    {
     "name": "stdout",
     "output_type": "stream",
     "text": [
      "error                     XlaRuntimeError('RESOURCE_EXHAUSTED: Out of memory while trying to allocate 900599968 bytes.')\n",
      "\n",
      "========== TRIAL 799 ==========\n",
      "Nin_virtual               20\n",
      "Nhidden                   100\n",
      "Nlayer                    2\n",
      "K                         50\n",
      "p_flip                    0.04\n",
      "Nt                        8\n",
      "error                     XlaRuntimeError('RESOURCE_EXHAUSTED: Out of memory while trying to allocate 464777216 bytes.')\n",
      "\n",
      "========== TRIAL 800 ==========\n",
      "Nin_virtual               20\n",
      "Nhidden                   100\n",
      "Nlayer                    2\n",
      "K                         50\n",
      "p_flip                    0.04\n",
      "Nt                        12\n"
     ]
    },
    {
     "name": "stderr",
     "output_type": "stream",
     "text": [
      "2024-08-29 01:06:38.198637: W external/xla/xla/tsl/framework/bfc_allocator.cc:482] Allocator (GPU_0_bfc) ran out of memory trying to allocate 645.26MiB (rounded to 676600064)requested by op \n",
      "2024-08-29 01:06:38.201278: W external/xla/xla/tsl/framework/bfc_allocator.cc:494] ************************************************************************____________________________\n",
      "E0829 01:06:38.201305  308455 pjrt_stream_executor_client.cc:3067] Execution of replica 0 failed: RESOURCE_EXHAUSTED: Out of memory while trying to allocate 676599968 bytes.\n"
     ]
    },
    {
     "name": "stdout",
     "output_type": "stream",
     "text": [
      "error                     XlaRuntimeError('RESOURCE_EXHAUSTED: Out of memory while trying to allocate 676599968 bytes.')\n",
      "\n",
      "========== TRIAL 801 ==========\n",
      "Nin_virtual               20\n",
      "Nhidden                   100\n",
      "Nlayer                    2\n",
      "K                         50\n",
      "p_flip                    0.04\n",
      "Nt                        16\n"
     ]
    },
    {
     "name": "stderr",
     "output_type": "stream",
     "text": [
      "2024-08-29 01:06:54.701569: W external/xla/xla/tsl/framework/bfc_allocator.cc:482] Allocator (GPU_0_bfc) ran out of memory trying to allocate 858.88MiB (rounded to 900600064)requested by op \n",
      "2024-08-29 01:06:54.704072: W external/xla/xla/tsl/framework/bfc_allocator.cc:494] *************************************************************************___________________________\n",
      "E0829 01:06:54.704101  308455 pjrt_stream_executor_client.cc:3067] Execution of replica 0 failed: RESOURCE_EXHAUSTED: Out of memory while trying to allocate 900599968 bytes.\n"
     ]
    },
    {
     "name": "stdout",
     "output_type": "stream",
     "text": [
      "error                     XlaRuntimeError('RESOURCE_EXHAUSTED: Out of memory while trying to allocate 900599968 bytes.')\n",
      "\n",
      "========== TRIAL 802 ==========\n",
      "Nin_virtual               20\n",
      "Nhidden                   100\n",
      "Nlayer                    2\n",
      "K                         100\n",
      "p_flip                    0.0\n",
      "Nt                        8\n",
      "error                     XlaRuntimeError('RESOURCE_EXHAUSTED: Out of memory while trying to allocate 464777216 bytes.')\n",
      "\n",
      "========== TRIAL 803 ==========\n",
      "Nin_virtual               20\n",
      "Nhidden                   100\n",
      "Nlayer                    2\n",
      "K                         100\n",
      "p_flip                    0.0\n",
      "Nt                        12\n"
     ]
    },
    {
     "name": "stderr",
     "output_type": "stream",
     "text": [
      "2024-08-29 01:07:16.525221: W external/xla/xla/tsl/framework/bfc_allocator.cc:482] Allocator (GPU_0_bfc) ran out of memory trying to allocate 645.26MiB (rounded to 676600064)requested by op \n",
      "2024-08-29 01:07:16.527948: W external/xla/xla/tsl/framework/bfc_allocator.cc:494] ************************************************************************____________________________\n",
      "E0829 01:07:16.527977  308455 pjrt_stream_executor_client.cc:3067] Execution of replica 0 failed: RESOURCE_EXHAUSTED: Out of memory while trying to allocate 676599968 bytes.\n"
     ]
    },
    {
     "name": "stdout",
     "output_type": "stream",
     "text": [
      "error                     XlaRuntimeError('RESOURCE_EXHAUSTED: Out of memory while trying to allocate 676599968 bytes.')\n",
      "\n",
      "========== TRIAL 804 ==========\n",
      "Nin_virtual               20\n",
      "Nhidden                   100\n",
      "Nlayer                    2\n",
      "K                         100\n",
      "p_flip                    0.0\n",
      "Nt                        16\n"
     ]
    },
    {
     "name": "stderr",
     "output_type": "stream",
     "text": [
      "2024-08-29 01:07:33.424835: W external/xla/xla/tsl/framework/bfc_allocator.cc:482] Allocator (GPU_0_bfc) ran out of memory trying to allocate 858.88MiB (rounded to 900600064)requested by op \n",
      "2024-08-29 01:07:33.427657: W external/xla/xla/tsl/framework/bfc_allocator.cc:494] *************************************************************************___________________________\n",
      "E0829 01:07:33.427683  308455 pjrt_stream_executor_client.cc:3067] Execution of replica 0 failed: RESOURCE_EXHAUSTED: Out of memory while trying to allocate 900599968 bytes.\n"
     ]
    },
    {
     "name": "stdout",
     "output_type": "stream",
     "text": [
      "error                     XlaRuntimeError('RESOURCE_EXHAUSTED: Out of memory while trying to allocate 900599968 bytes.')\n",
      "\n",
      "========== TRIAL 805 ==========\n",
      "Nin_virtual               20\n",
      "Nhidden                   100\n",
      "Nlayer                    2\n",
      "K                         100\n",
      "p_flip                    0.02\n",
      "Nt                        8\n",
      "error                     XlaRuntimeError('RESOURCE_EXHAUSTED: Out of memory while trying to allocate 464777216 bytes.')\n",
      "\n",
      "========== TRIAL 806 ==========\n",
      "Nin_virtual               20\n",
      "Nhidden                   100\n",
      "Nlayer                    2\n",
      "K                         100\n",
      "p_flip                    0.02\n",
      "Nt                        12\n"
     ]
    },
    {
     "name": "stderr",
     "output_type": "stream",
     "text": [
      "2024-08-29 01:07:54.785576: W external/xla/xla/tsl/framework/bfc_allocator.cc:482] Allocator (GPU_0_bfc) ran out of memory trying to allocate 645.26MiB (rounded to 676600064)requested by op \n",
      "2024-08-29 01:07:54.788331: W external/xla/xla/tsl/framework/bfc_allocator.cc:494] ************************************************************************____________________________\n",
      "E0829 01:07:54.788358  308455 pjrt_stream_executor_client.cc:3067] Execution of replica 0 failed: RESOURCE_EXHAUSTED: Out of memory while trying to allocate 676599968 bytes.\n"
     ]
    },
    {
     "name": "stdout",
     "output_type": "stream",
     "text": [
      "error                     XlaRuntimeError('RESOURCE_EXHAUSTED: Out of memory while trying to allocate 676599968 bytes.')\n",
      "\n",
      "========== TRIAL 807 ==========\n",
      "Nin_virtual               20\n",
      "Nhidden                   100\n",
      "Nlayer                    2\n",
      "K                         100\n",
      "p_flip                    0.02\n",
      "Nt                        16\n"
     ]
    },
    {
     "name": "stderr",
     "output_type": "stream",
     "text": [
      "2024-08-29 01:08:11.282546: W external/xla/xla/tsl/framework/bfc_allocator.cc:482] Allocator (GPU_0_bfc) ran out of memory trying to allocate 858.88MiB (rounded to 900600064)requested by op \n",
      "2024-08-29 01:08:11.285178: W external/xla/xla/tsl/framework/bfc_allocator.cc:494] *************************************************************************___________________________\n",
      "E0829 01:08:11.285218  308455 pjrt_stream_executor_client.cc:3067] Execution of replica 0 failed: RESOURCE_EXHAUSTED: Out of memory while trying to allocate 900599968 bytes.\n"
     ]
    },
    {
     "name": "stdout",
     "output_type": "stream",
     "text": [
      "error                     XlaRuntimeError('RESOURCE_EXHAUSTED: Out of memory while trying to allocate 900599968 bytes.')\n",
      "\n",
      "========== TRIAL 808 ==========\n",
      "Nin_virtual               20\n",
      "Nhidden                   100\n",
      "Nlayer                    2\n",
      "K                         100\n",
      "p_flip                    0.04\n",
      "Nt                        8\n",
      "error                     XlaRuntimeError('RESOURCE_EXHAUSTED: Out of memory while trying to allocate 464777216 bytes.')\n",
      "\n",
      "========== TRIAL 809 ==========\n",
      "Nin_virtual               20\n",
      "Nhidden                   100\n",
      "Nlayer                    2\n",
      "K                         100\n",
      "p_flip                    0.04\n",
      "Nt                        12\n"
     ]
    },
    {
     "name": "stderr",
     "output_type": "stream",
     "text": [
      "2024-08-29 01:08:32.673813: W external/xla/xla/tsl/framework/bfc_allocator.cc:482] Allocator (GPU_0_bfc) ran out of memory trying to allocate 645.26MiB (rounded to 676600064)requested by op \n",
      "2024-08-29 01:08:32.676366: W external/xla/xla/tsl/framework/bfc_allocator.cc:494] ************************************************************************____________________________\n",
      "E0829 01:08:32.676395  308455 pjrt_stream_executor_client.cc:3067] Execution of replica 0 failed: RESOURCE_EXHAUSTED: Out of memory while trying to allocate 676599968 bytes.\n"
     ]
    },
    {
     "name": "stdout",
     "output_type": "stream",
     "text": [
      "error                     XlaRuntimeError('RESOURCE_EXHAUSTED: Out of memory while trying to allocate 676599968 bytes.')\n",
      "\n",
      "========== TRIAL 810 ==========\n",
      "Nin_virtual               20\n",
      "Nhidden                   100\n",
      "Nlayer                    2\n",
      "K                         100\n",
      "p_flip                    0.04\n",
      "Nt                        16\n"
     ]
    },
    {
     "name": "stderr",
     "output_type": "stream",
     "text": [
      "2024-08-29 01:08:52.065875: W external/xla/xla/tsl/framework/bfc_allocator.cc:482] Allocator (GPU_0_bfc) ran out of memory trying to allocate 858.88MiB (rounded to 900600064)requested by op \n",
      "2024-08-29 01:08:52.068335: W external/xla/xla/tsl/framework/bfc_allocator.cc:494] *************************************************************************___________________________\n",
      "E0829 01:08:52.068364  308455 pjrt_stream_executor_client.cc:3067] Execution of replica 0 failed: RESOURCE_EXHAUSTED: Out of memory while trying to allocate 900599968 bytes.\n"
     ]
    },
    {
     "name": "stdout",
     "output_type": "stream",
     "text": [
      "error                     XlaRuntimeError('RESOURCE_EXHAUSTED: Out of memory while trying to allocate 900599968 bytes.')\n",
      "\n",
      "========== TRIAL 811 ==========\n",
      "Nin_virtual               20\n",
      "Nhidden                   100\n",
      "Nlayer                    2\n",
      "K                         150\n",
      "p_flip                    0.0\n",
      "Nt                        8\n",
      "error                     XlaRuntimeError('RESOURCE_EXHAUSTED: Out of memory while trying to allocate 464777216 bytes.')\n",
      "\n",
      "========== TRIAL 812 ==========\n",
      "Nin_virtual               20\n",
      "Nhidden                   100\n",
      "Nlayer                    2\n",
      "K                         150\n",
      "p_flip                    0.0\n",
      "Nt                        12\n"
     ]
    },
    {
     "name": "stderr",
     "output_type": "stream",
     "text": [
      "2024-08-29 01:09:13.825116: W external/xla/xla/tsl/framework/bfc_allocator.cc:482] Allocator (GPU_0_bfc) ran out of memory trying to allocate 645.26MiB (rounded to 676600064)requested by op \n",
      "2024-08-29 01:09:13.827726: W external/xla/xla/tsl/framework/bfc_allocator.cc:494] ************************************************************************____________________________\n",
      "E0829 01:09:13.827756  308455 pjrt_stream_executor_client.cc:3067] Execution of replica 0 failed: RESOURCE_EXHAUSTED: Out of memory while trying to allocate 676599968 bytes.\n"
     ]
    },
    {
     "name": "stdout",
     "output_type": "stream",
     "text": [
      "error                     XlaRuntimeError('RESOURCE_EXHAUSTED: Out of memory while trying to allocate 676599968 bytes.')\n",
      "\n",
      "========== TRIAL 813 ==========\n",
      "Nin_virtual               20\n",
      "Nhidden                   100\n",
      "Nlayer                    2\n",
      "K                         150\n",
      "p_flip                    0.0\n",
      "Nt                        16\n"
     ]
    },
    {
     "name": "stderr",
     "output_type": "stream",
     "text": [
      "2024-08-29 01:09:30.765064: W external/xla/xla/tsl/framework/bfc_allocator.cc:482] Allocator (GPU_0_bfc) ran out of memory trying to allocate 858.88MiB (rounded to 900600064)requested by op \n",
      "2024-08-29 01:09:30.767779: W external/xla/xla/tsl/framework/bfc_allocator.cc:494] *************************************************************************___________________________\n",
      "E0829 01:09:30.767807  308455 pjrt_stream_executor_client.cc:3067] Execution of replica 0 failed: RESOURCE_EXHAUSTED: Out of memory while trying to allocate 900599968 bytes.\n"
     ]
    },
    {
     "name": "stdout",
     "output_type": "stream",
     "text": [
      "error                     XlaRuntimeError('RESOURCE_EXHAUSTED: Out of memory while trying to allocate 900599968 bytes.')\n",
      "\n",
      "========== TRIAL 814 ==========\n",
      "Nin_virtual               20\n",
      "Nhidden                   100\n",
      "Nlayer                    2\n",
      "K                         150\n",
      "p_flip                    0.02\n",
      "Nt                        8\n",
      "error                     XlaRuntimeError('RESOURCE_EXHAUSTED: Out of memory while trying to allocate 464777216 bytes.')\n",
      "\n",
      "========== TRIAL 815 ==========\n",
      "Nin_virtual               20\n",
      "Nhidden                   100\n",
      "Nlayer                    2\n",
      "K                         150\n",
      "p_flip                    0.02\n",
      "Nt                        12\n"
     ]
    },
    {
     "name": "stderr",
     "output_type": "stream",
     "text": [
      "2024-08-29 01:09:52.151797: W external/xla/xla/tsl/framework/bfc_allocator.cc:482] Allocator (GPU_0_bfc) ran out of memory trying to allocate 645.26MiB (rounded to 676600064)requested by op \n",
      "2024-08-29 01:09:52.154627: W external/xla/xla/tsl/framework/bfc_allocator.cc:494] ************************************************************************____________________________\n",
      "E0829 01:09:52.154661  308455 pjrt_stream_executor_client.cc:3067] Execution of replica 0 failed: RESOURCE_EXHAUSTED: Out of memory while trying to allocate 676599968 bytes.\n"
     ]
    },
    {
     "name": "stdout",
     "output_type": "stream",
     "text": [
      "error                     XlaRuntimeError('RESOURCE_EXHAUSTED: Out of memory while trying to allocate 676599968 bytes.')\n",
      "\n",
      "========== TRIAL 816 ==========\n",
      "Nin_virtual               20\n",
      "Nhidden                   100\n",
      "Nlayer                    2\n",
      "K                         150\n",
      "p_flip                    0.02\n",
      "Nt                        16\n"
     ]
    },
    {
     "name": "stderr",
     "output_type": "stream",
     "text": [
      "2024-08-29 01:10:08.661476: W external/xla/xla/tsl/framework/bfc_allocator.cc:482] Allocator (GPU_0_bfc) ran out of memory trying to allocate 858.88MiB (rounded to 900600064)requested by op \n",
      "2024-08-29 01:10:08.665926: W external/xla/xla/tsl/framework/bfc_allocator.cc:494] *************************************************************************___________________________\n",
      "E0829 01:10:08.665979  308455 pjrt_stream_executor_client.cc:3067] Execution of replica 0 failed: RESOURCE_EXHAUSTED: Out of memory while trying to allocate 900599968 bytes.\n"
     ]
    },
    {
     "name": "stdout",
     "output_type": "stream",
     "text": [
      "error                     XlaRuntimeError('RESOURCE_EXHAUSTED: Out of memory while trying to allocate 900599968 bytes.')\n",
      "\n",
      "========== TRIAL 817 ==========\n",
      "Nin_virtual               20\n",
      "Nhidden                   100\n",
      "Nlayer                    2\n",
      "K                         150\n",
      "p_flip                    0.04\n",
      "Nt                        8\n",
      "error                     XlaRuntimeError('RESOURCE_EXHAUSTED: Out of memory while trying to allocate 464777216 bytes.')\n",
      "\n",
      "========== TRIAL 818 ==========\n",
      "Nin_virtual               20\n",
      "Nhidden                   100\n",
      "Nlayer                    2\n",
      "K                         150\n",
      "p_flip                    0.04\n",
      "Nt                        12\n"
     ]
    },
    {
     "name": "stderr",
     "output_type": "stream",
     "text": [
      "2024-08-29 01:10:30.114560: W external/xla/xla/tsl/framework/bfc_allocator.cc:482] Allocator (GPU_0_bfc) ran out of memory trying to allocate 645.26MiB (rounded to 676600064)requested by op \n",
      "2024-08-29 01:10:30.117270: W external/xla/xla/tsl/framework/bfc_allocator.cc:494] ************************************************************************____________________________\n",
      "E0829 01:10:30.117301  308455 pjrt_stream_executor_client.cc:3067] Execution of replica 0 failed: RESOURCE_EXHAUSTED: Out of memory while trying to allocate 676599968 bytes.\n"
     ]
    },
    {
     "name": "stdout",
     "output_type": "stream",
     "text": [
      "error                     XlaRuntimeError('RESOURCE_EXHAUSTED: Out of memory while trying to allocate 676599968 bytes.')\n",
      "\n",
      "========== TRIAL 819 ==========\n",
      "Nin_virtual               20\n",
      "Nhidden                   100\n",
      "Nlayer                    2\n",
      "K                         150\n",
      "p_flip                    0.04\n",
      "Nt                        16\n"
     ]
    },
    {
     "name": "stderr",
     "output_type": "stream",
     "text": [
      "2024-08-29 01:10:46.578236: W external/xla/xla/tsl/framework/bfc_allocator.cc:482] Allocator (GPU_0_bfc) ran out of memory trying to allocate 858.88MiB (rounded to 900600064)requested by op \n",
      "2024-08-29 01:10:46.581036: W external/xla/xla/tsl/framework/bfc_allocator.cc:494] *************************************************************************___________________________\n",
      "E0829 01:10:46.581064  308455 pjrt_stream_executor_client.cc:3067] Execution of replica 0 failed: RESOURCE_EXHAUSTED: Out of memory while trying to allocate 900599968 bytes.\n"
     ]
    },
    {
     "name": "stdout",
     "output_type": "stream",
     "text": [
      "error                     XlaRuntimeError('RESOURCE_EXHAUSTED: Out of memory while trying to allocate 900599968 bytes.')\n",
      "\n",
      "========== TRIAL 820 ==========\n",
      "Nin_virtual               20\n",
      "Nhidden                   100\n",
      "Nlayer                    2\n",
      "K                         200\n",
      "p_flip                    0.0\n",
      "Nt                        8\n",
      "error                     XlaRuntimeError('RESOURCE_EXHAUSTED: Out of memory while trying to allocate 464777216 bytes.')\n",
      "\n",
      "========== TRIAL 821 ==========\n",
      "Nin_virtual               20\n",
      "Nhidden                   100\n",
      "Nlayer                    2\n",
      "K                         200\n",
      "p_flip                    0.0\n",
      "Nt                        12\n"
     ]
    },
    {
     "name": "stderr",
     "output_type": "stream",
     "text": [
      "2024-08-29 01:11:08.436163: W external/xla/xla/tsl/framework/bfc_allocator.cc:482] Allocator (GPU_0_bfc) ran out of memory trying to allocate 645.26MiB (rounded to 676600064)requested by op \n",
      "2024-08-29 01:11:08.438752: W external/xla/xla/tsl/framework/bfc_allocator.cc:494] ************************************************************************____________________________\n",
      "E0829 01:11:08.438781  308455 pjrt_stream_executor_client.cc:3067] Execution of replica 0 failed: RESOURCE_EXHAUSTED: Out of memory while trying to allocate 676599968 bytes.\n"
     ]
    },
    {
     "name": "stdout",
     "output_type": "stream",
     "text": [
      "error                     XlaRuntimeError('RESOURCE_EXHAUSTED: Out of memory while trying to allocate 676599968 bytes.')\n",
      "\n",
      "========== TRIAL 822 ==========\n",
      "Nin_virtual               20\n",
      "Nhidden                   100\n",
      "Nlayer                    2\n",
      "K                         200\n",
      "p_flip                    0.0\n",
      "Nt                        16\n"
     ]
    },
    {
     "name": "stderr",
     "output_type": "stream",
     "text": [
      "2024-08-29 01:11:25.384132: W external/xla/xla/tsl/framework/bfc_allocator.cc:482] Allocator (GPU_0_bfc) ran out of memory trying to allocate 858.88MiB (rounded to 900600064)requested by op \n",
      "2024-08-29 01:11:25.387180: W external/xla/xla/tsl/framework/bfc_allocator.cc:494] *************************************************************************___________________________\n",
      "E0829 01:11:25.387216  308455 pjrt_stream_executor_client.cc:3067] Execution of replica 0 failed: RESOURCE_EXHAUSTED: Out of memory while trying to allocate 900599968 bytes.\n"
     ]
    },
    {
     "name": "stdout",
     "output_type": "stream",
     "text": [
      "error                     XlaRuntimeError('RESOURCE_EXHAUSTED: Out of memory while trying to allocate 900599968 bytes.')\n",
      "\n",
      "========== TRIAL 823 ==========\n",
      "Nin_virtual               20\n",
      "Nhidden                   100\n",
      "Nlayer                    2\n",
      "K                         200\n",
      "p_flip                    0.02\n",
      "Nt                        8\n",
      "error                     XlaRuntimeError('RESOURCE_EXHAUSTED: Out of memory while trying to allocate 464777216 bytes.')\n",
      "\n",
      "========== TRIAL 824 ==========\n",
      "Nin_virtual               20\n",
      "Nhidden                   100\n",
      "Nlayer                    2\n",
      "K                         200\n",
      "p_flip                    0.02\n",
      "Nt                        12\n"
     ]
    },
    {
     "name": "stderr",
     "output_type": "stream",
     "text": [
      "2024-08-29 01:11:46.759894: W external/xla/xla/tsl/framework/bfc_allocator.cc:482] Allocator (GPU_0_bfc) ran out of memory trying to allocate 645.26MiB (rounded to 676600064)requested by op \n",
      "2024-08-29 01:11:46.762679: W external/xla/xla/tsl/framework/bfc_allocator.cc:494] ************************************************************************____________________________\n",
      "E0829 01:11:46.762709  308455 pjrt_stream_executor_client.cc:3067] Execution of replica 0 failed: RESOURCE_EXHAUSTED: Out of memory while trying to allocate 676599968 bytes.\n"
     ]
    },
    {
     "name": "stdout",
     "output_type": "stream",
     "text": [
      "error                     XlaRuntimeError('RESOURCE_EXHAUSTED: Out of memory while trying to allocate 676599968 bytes.')\n",
      "\n",
      "========== TRIAL 825 ==========\n",
      "Nin_virtual               20\n",
      "Nhidden                   100\n",
      "Nlayer                    2\n",
      "K                         200\n",
      "p_flip                    0.02\n",
      "Nt                        16\n"
     ]
    },
    {
     "name": "stderr",
     "output_type": "stream",
     "text": [
      "2024-08-29 01:12:03.224750: W external/xla/xla/tsl/framework/bfc_allocator.cc:482] Allocator (GPU_0_bfc) ran out of memory trying to allocate 858.88MiB (rounded to 900600064)requested by op \n",
      "2024-08-29 01:12:03.227342: W external/xla/xla/tsl/framework/bfc_allocator.cc:494] *************************************************************************___________________________\n",
      "E0829 01:12:03.227368  308455 pjrt_stream_executor_client.cc:3067] Execution of replica 0 failed: RESOURCE_EXHAUSTED: Out of memory while trying to allocate 900599968 bytes.\n"
     ]
    },
    {
     "name": "stdout",
     "output_type": "stream",
     "text": [
      "error                     XlaRuntimeError('RESOURCE_EXHAUSTED: Out of memory while trying to allocate 900599968 bytes.')\n",
      "\n",
      "========== TRIAL 826 ==========\n",
      "Nin_virtual               20\n",
      "Nhidden                   100\n",
      "Nlayer                    2\n",
      "K                         200\n",
      "p_flip                    0.04\n",
      "Nt                        8\n",
      "error                     XlaRuntimeError('RESOURCE_EXHAUSTED: Out of memory while trying to allocate 464777216 bytes.')\n",
      "\n",
      "========== TRIAL 827 ==========\n",
      "Nin_virtual               20\n",
      "Nhidden                   100\n",
      "Nlayer                    2\n",
      "K                         200\n",
      "p_flip                    0.04\n",
      "Nt                        12\n"
     ]
    },
    {
     "name": "stderr",
     "output_type": "stream",
     "text": [
      "2024-08-29 01:12:24.881462: W external/xla/xla/tsl/framework/bfc_allocator.cc:482] Allocator (GPU_0_bfc) ran out of memory trying to allocate 645.26MiB (rounded to 676600064)requested by op \n",
      "2024-08-29 01:12:24.883747: W external/xla/xla/tsl/framework/bfc_allocator.cc:494] ************************************************************************____________________________\n",
      "E0829 01:12:24.883779  308455 pjrt_stream_executor_client.cc:3067] Execution of replica 0 failed: RESOURCE_EXHAUSTED: Out of memory while trying to allocate 676599968 bytes.\n"
     ]
    },
    {
     "name": "stdout",
     "output_type": "stream",
     "text": [
      "error                     XlaRuntimeError('RESOURCE_EXHAUSTED: Out of memory while trying to allocate 676599968 bytes.')\n",
      "\n",
      "========== TRIAL 828 ==========\n",
      "Nin_virtual               20\n",
      "Nhidden                   100\n",
      "Nlayer                    2\n",
      "K                         200\n",
      "p_flip                    0.04\n",
      "Nt                        16\n"
     ]
    },
    {
     "name": "stderr",
     "output_type": "stream",
     "text": [
      "2024-08-29 01:12:41.361925: W external/xla/xla/tsl/framework/bfc_allocator.cc:482] Allocator (GPU_0_bfc) ran out of memory trying to allocate 858.88MiB (rounded to 900600064)requested by op \n",
      "2024-08-29 01:12:41.364484: W external/xla/xla/tsl/framework/bfc_allocator.cc:494] *************************************************************************___________________________\n",
      "E0829 01:12:41.364514  308455 pjrt_stream_executor_client.cc:3067] Execution of replica 0 failed: RESOURCE_EXHAUSTED: Out of memory while trying to allocate 900599968 bytes.\n"
     ]
    },
    {
     "name": "stdout",
     "output_type": "stream",
     "text": [
      "error                     XlaRuntimeError('RESOURCE_EXHAUSTED: Out of memory while trying to allocate 900599968 bytes.')\n",
      "\n",
      "========== TRIAL 829 ==========\n",
      "Nin_virtual               20\n",
      "Nhidden                   100\n",
      "Nlayer                    3\n",
      "K                         50\n",
      "p_flip                    0.0\n",
      "Nt                        8\n",
      "error                     XlaRuntimeError('RESOURCE_EXHAUSTED: Out of memory while trying to allocate 464777216 bytes.')\n",
      "\n",
      "========== TRIAL 830 ==========\n",
      "Nin_virtual               20\n",
      "Nhidden                   100\n",
      "Nlayer                    3\n",
      "K                         50\n",
      "p_flip                    0.0\n",
      "Nt                        12\n"
     ]
    },
    {
     "name": "stderr",
     "output_type": "stream",
     "text": [
      "2024-08-29 01:13:03.269064: W external/xla/xla/tsl/framework/bfc_allocator.cc:482] Allocator (GPU_0_bfc) ran out of memory trying to allocate 645.26MiB (rounded to 676600320)requested by op \n",
      "2024-08-29 01:13:03.271891: W external/xla/xla/tsl/framework/bfc_allocator.cc:494] ************************************************************************____________________________\n",
      "E0829 01:13:03.271923  308455 pjrt_stream_executor_client.cc:3067] Execution of replica 0 failed: RESOURCE_EXHAUSTED: Out of memory while trying to allocate 676600224 bytes.\n"
     ]
    },
    {
     "name": "stdout",
     "output_type": "stream",
     "text": [
      "error                     XlaRuntimeError('RESOURCE_EXHAUSTED: Out of memory while trying to allocate 676600224 bytes.')\n",
      "\n",
      "========== TRIAL 831 ==========\n",
      "Nin_virtual               20\n",
      "Nhidden                   100\n",
      "Nlayer                    3\n",
      "K                         50\n",
      "p_flip                    0.0\n",
      "Nt                        16\n"
     ]
    },
    {
     "name": "stderr",
     "output_type": "stream",
     "text": [
      "2024-08-29 01:13:23.052325: W external/xla/xla/tsl/framework/bfc_allocator.cc:482] Allocator (GPU_0_bfc) ran out of memory trying to allocate 858.88MiB (rounded to 900600320)requested by op \n",
      "2024-08-29 01:13:23.054967: W external/xla/xla/tsl/framework/bfc_allocator.cc:494] *************************************************************************___________________________\n",
      "E0829 01:13:23.055004  308455 pjrt_stream_executor_client.cc:3067] Execution of replica 0 failed: RESOURCE_EXHAUSTED: Out of memory while trying to allocate 900600224 bytes.\n"
     ]
    },
    {
     "name": "stdout",
     "output_type": "stream",
     "text": [
      "error                     XlaRuntimeError('RESOURCE_EXHAUSTED: Out of memory while trying to allocate 900600224 bytes.')\n",
      "\n",
      "========== TRIAL 832 ==========\n",
      "Nin_virtual               20\n",
      "Nhidden                   100\n",
      "Nlayer                    3\n",
      "K                         50\n",
      "p_flip                    0.02\n",
      "Nt                        8\n",
      "error                     XlaRuntimeError('RESOURCE_EXHAUSTED: Out of memory while trying to allocate 464777216 bytes.')\n",
      "\n",
      "========== TRIAL 833 ==========\n",
      "Nin_virtual               20\n",
      "Nhidden                   100\n",
      "Nlayer                    3\n",
      "K                         50\n",
      "p_flip                    0.02\n",
      "Nt                        12\n"
     ]
    },
    {
     "name": "stderr",
     "output_type": "stream",
     "text": [
      "2024-08-29 01:13:44.557708: W external/xla/xla/tsl/framework/bfc_allocator.cc:482] Allocator (GPU_0_bfc) ran out of memory trying to allocate 645.26MiB (rounded to 676600320)requested by op \n",
      "2024-08-29 01:13:44.560222: W external/xla/xla/tsl/framework/bfc_allocator.cc:494] ************************************************************************____________________________\n",
      "E0829 01:13:44.560255  308455 pjrt_stream_executor_client.cc:3067] Execution of replica 0 failed: RESOURCE_EXHAUSTED: Out of memory while trying to allocate 676600224 bytes.\n"
     ]
    },
    {
     "name": "stdout",
     "output_type": "stream",
     "text": [
      "error                     XlaRuntimeError('RESOURCE_EXHAUSTED: Out of memory while trying to allocate 676600224 bytes.')\n",
      "\n",
      "========== TRIAL 834 ==========\n",
      "Nin_virtual               20\n",
      "Nhidden                   100\n",
      "Nlayer                    3\n",
      "K                         50\n",
      "p_flip                    0.02\n",
      "Nt                        16\n"
     ]
    },
    {
     "name": "stderr",
     "output_type": "stream",
     "text": [
      "2024-08-29 01:14:01.077637: W external/xla/xla/tsl/framework/bfc_allocator.cc:482] Allocator (GPU_0_bfc) ran out of memory trying to allocate 858.88MiB (rounded to 900600320)requested by op \n",
      "2024-08-29 01:14:01.079722: W external/xla/xla/tsl/framework/bfc_allocator.cc:494] *************************************************************************___________________________\n",
      "E0829 01:14:01.079752  308455 pjrt_stream_executor_client.cc:3067] Execution of replica 0 failed: RESOURCE_EXHAUSTED: Out of memory while trying to allocate 900600224 bytes.\n"
     ]
    },
    {
     "name": "stdout",
     "output_type": "stream",
     "text": [
      "error                     XlaRuntimeError('RESOURCE_EXHAUSTED: Out of memory while trying to allocate 900600224 bytes.')\n",
      "\n",
      "========== TRIAL 835 ==========\n",
      "Nin_virtual               20\n",
      "Nhidden                   100\n",
      "Nlayer                    3\n",
      "K                         50\n",
      "p_flip                    0.04\n",
      "Nt                        8\n",
      "error                     XlaRuntimeError('RESOURCE_EXHAUSTED: Out of memory while trying to allocate 464777216 bytes.')\n",
      "\n",
      "========== TRIAL 836 ==========\n",
      "Nin_virtual               20\n",
      "Nhidden                   100\n",
      "Nlayer                    3\n",
      "K                         50\n",
      "p_flip                    0.04\n",
      "Nt                        12\n"
     ]
    },
    {
     "name": "stderr",
     "output_type": "stream",
     "text": [
      "2024-08-29 01:14:22.616483: W external/xla/xla/tsl/framework/bfc_allocator.cc:482] Allocator (GPU_0_bfc) ran out of memory trying to allocate 645.26MiB (rounded to 676600320)requested by op \n",
      "2024-08-29 01:14:22.619012: W external/xla/xla/tsl/framework/bfc_allocator.cc:494] ************************************************************************____________________________\n",
      "E0829 01:14:22.619044  308455 pjrt_stream_executor_client.cc:3067] Execution of replica 0 failed: RESOURCE_EXHAUSTED: Out of memory while trying to allocate 676600224 bytes.\n"
     ]
    },
    {
     "name": "stdout",
     "output_type": "stream",
     "text": [
      "error                     XlaRuntimeError('RESOURCE_EXHAUSTED: Out of memory while trying to allocate 676600224 bytes.')\n",
      "\n",
      "========== TRIAL 837 ==========\n",
      "Nin_virtual               20\n",
      "Nhidden                   100\n",
      "Nlayer                    3\n",
      "K                         50\n",
      "p_flip                    0.04\n",
      "Nt                        16\n"
     ]
    },
    {
     "name": "stderr",
     "output_type": "stream",
     "text": [
      "2024-08-29 01:14:39.141539: W external/xla/xla/tsl/framework/bfc_allocator.cc:482] Allocator (GPU_0_bfc) ran out of memory trying to allocate 858.88MiB (rounded to 900600320)requested by op \n",
      "2024-08-29 01:14:39.144289: W external/xla/xla/tsl/framework/bfc_allocator.cc:494] *************************************************************************___________________________\n",
      "E0829 01:14:39.144320  308455 pjrt_stream_executor_client.cc:3067] Execution of replica 0 failed: RESOURCE_EXHAUSTED: Out of memory while trying to allocate 900600224 bytes.\n"
     ]
    },
    {
     "name": "stdout",
     "output_type": "stream",
     "text": [
      "error                     XlaRuntimeError('RESOURCE_EXHAUSTED: Out of memory while trying to allocate 900600224 bytes.')\n",
      "\n",
      "========== TRIAL 838 ==========\n",
      "Nin_virtual               20\n",
      "Nhidden                   100\n",
      "Nlayer                    3\n",
      "K                         100\n",
      "p_flip                    0.0\n",
      "Nt                        8\n",
      "error                     XlaRuntimeError('RESOURCE_EXHAUSTED: Out of memory while trying to allocate 464777216 bytes.')\n",
      "\n",
      "========== TRIAL 839 ==========\n",
      "Nin_virtual               20\n",
      "Nhidden                   100\n",
      "Nlayer                    3\n",
      "K                         100\n",
      "p_flip                    0.0\n",
      "Nt                        12\n"
     ]
    },
    {
     "name": "stderr",
     "output_type": "stream",
     "text": [
      "2024-08-29 01:15:01.171367: W external/xla/xla/tsl/framework/bfc_allocator.cc:482] Allocator (GPU_0_bfc) ran out of memory trying to allocate 645.26MiB (rounded to 676600320)requested by op \n",
      "2024-08-29 01:15:01.174170: W external/xla/xla/tsl/framework/bfc_allocator.cc:494] ************************************************************************____________________________\n",
      "E0829 01:15:01.174200  308455 pjrt_stream_executor_client.cc:3067] Execution of replica 0 failed: RESOURCE_EXHAUSTED: Out of memory while trying to allocate 676600224 bytes.\n"
     ]
    },
    {
     "name": "stdout",
     "output_type": "stream",
     "text": [
      "error                     XlaRuntimeError('RESOURCE_EXHAUSTED: Out of memory while trying to allocate 676600224 bytes.')\n",
      "\n",
      "========== TRIAL 840 ==========\n",
      "Nin_virtual               20\n",
      "Nhidden                   100\n",
      "Nlayer                    3\n",
      "K                         100\n",
      "p_flip                    0.0\n",
      "Nt                        16\n"
     ]
    },
    {
     "name": "stderr",
     "output_type": "stream",
     "text": [
      "2024-08-29 01:15:18.088049: W external/xla/xla/tsl/framework/bfc_allocator.cc:482] Allocator (GPU_0_bfc) ran out of memory trying to allocate 858.88MiB (rounded to 900600320)requested by op \n",
      "2024-08-29 01:15:18.090689: W external/xla/xla/tsl/framework/bfc_allocator.cc:494] *************************************************************************___________________________\n",
      "E0829 01:15:18.090715  308455 pjrt_stream_executor_client.cc:3067] Execution of replica 0 failed: RESOURCE_EXHAUSTED: Out of memory while trying to allocate 900600224 bytes.\n"
     ]
    },
    {
     "name": "stdout",
     "output_type": "stream",
     "text": [
      "error                     XlaRuntimeError('RESOURCE_EXHAUSTED: Out of memory while trying to allocate 900600224 bytes.')\n",
      "\n",
      "========== TRIAL 841 ==========\n",
      "Nin_virtual               20\n",
      "Nhidden                   100\n",
      "Nlayer                    3\n",
      "K                         100\n",
      "p_flip                    0.02\n",
      "Nt                        8\n",
      "error                     XlaRuntimeError('RESOURCE_EXHAUSTED: Out of memory while trying to allocate 464777216 bytes.')\n",
      "\n",
      "========== TRIAL 842 ==========\n",
      "Nin_virtual               20\n",
      "Nhidden                   100\n",
      "Nlayer                    3\n",
      "K                         100\n",
      "p_flip                    0.02\n",
      "Nt                        12\n"
     ]
    },
    {
     "name": "stderr",
     "output_type": "stream",
     "text": [
      "2024-08-29 01:15:39.543682: W external/xla/xla/tsl/framework/bfc_allocator.cc:482] Allocator (GPU_0_bfc) ran out of memory trying to allocate 645.26MiB (rounded to 676600320)requested by op \n",
      "2024-08-29 01:15:39.546532: W external/xla/xla/tsl/framework/bfc_allocator.cc:494] ************************************************************************____________________________\n",
      "E0829 01:15:39.546561  308455 pjrt_stream_executor_client.cc:3067] Execution of replica 0 failed: RESOURCE_EXHAUSTED: Out of memory while trying to allocate 676600224 bytes.\n"
     ]
    },
    {
     "name": "stdout",
     "output_type": "stream",
     "text": [
      "error                     XlaRuntimeError('RESOURCE_EXHAUSTED: Out of memory while trying to allocate 676600224 bytes.')\n",
      "\n",
      "========== TRIAL 843 ==========\n",
      "Nin_virtual               20\n",
      "Nhidden                   100\n",
      "Nlayer                    3\n",
      "K                         100\n",
      "p_flip                    0.02\n",
      "Nt                        16\n"
     ]
    },
    {
     "name": "stderr",
     "output_type": "stream",
     "text": [
      "2024-08-29 01:15:56.035194: W external/xla/xla/tsl/framework/bfc_allocator.cc:482] Allocator (GPU_0_bfc) ran out of memory trying to allocate 858.88MiB (rounded to 900600320)requested by op \n",
      "2024-08-29 01:15:56.038039: W external/xla/xla/tsl/framework/bfc_allocator.cc:494] *************************************************************************___________________________\n",
      "E0829 01:15:56.038070  308455 pjrt_stream_executor_client.cc:3067] Execution of replica 0 failed: RESOURCE_EXHAUSTED: Out of memory while trying to allocate 900600224 bytes.\n"
     ]
    },
    {
     "name": "stdout",
     "output_type": "stream",
     "text": [
      "error                     XlaRuntimeError('RESOURCE_EXHAUSTED: Out of memory while trying to allocate 900600224 bytes.')\n",
      "\n",
      "========== TRIAL 844 ==========\n",
      "Nin_virtual               20\n",
      "Nhidden                   100\n",
      "Nlayer                    3\n",
      "K                         100\n",
      "p_flip                    0.04\n",
      "Nt                        8\n",
      "error                     XlaRuntimeError('RESOURCE_EXHAUSTED: Out of memory while trying to allocate 464777216 bytes.')\n",
      "\n",
      "========== TRIAL 845 ==========\n",
      "Nin_virtual               20\n",
      "Nhidden                   100\n",
      "Nlayer                    3\n",
      "K                         100\n",
      "p_flip                    0.04\n",
      "Nt                        12\n"
     ]
    },
    {
     "name": "stderr",
     "output_type": "stream",
     "text": [
      "2024-08-29 01:16:17.558656: W external/xla/xla/tsl/framework/bfc_allocator.cc:482] Allocator (GPU_0_bfc) ran out of memory trying to allocate 645.26MiB (rounded to 676600320)requested by op \n",
      "2024-08-29 01:16:17.561397: W external/xla/xla/tsl/framework/bfc_allocator.cc:494] ************************************************************************____________________________\n",
      "E0829 01:16:17.561427  308455 pjrt_stream_executor_client.cc:3067] Execution of replica 0 failed: RESOURCE_EXHAUSTED: Out of memory while trying to allocate 676600224 bytes.\n"
     ]
    },
    {
     "name": "stdout",
     "output_type": "stream",
     "text": [
      "error                     XlaRuntimeError('RESOURCE_EXHAUSTED: Out of memory while trying to allocate 676600224 bytes.')\n",
      "\n",
      "========== TRIAL 846 ==========\n",
      "Nin_virtual               20\n",
      "Nhidden                   100\n",
      "Nlayer                    3\n",
      "K                         100\n",
      "p_flip                    0.04\n",
      "Nt                        16\n"
     ]
    },
    {
     "name": "stderr",
     "output_type": "stream",
     "text": [
      "2024-08-29 01:16:34.066331: W external/xla/xla/tsl/framework/bfc_allocator.cc:482] Allocator (GPU_0_bfc) ran out of memory trying to allocate 858.88MiB (rounded to 900600320)requested by op \n",
      "2024-08-29 01:16:34.069023: W external/xla/xla/tsl/framework/bfc_allocator.cc:494] *************************************************************************___________________________\n",
      "E0829 01:16:34.069054  308455 pjrt_stream_executor_client.cc:3067] Execution of replica 0 failed: RESOURCE_EXHAUSTED: Out of memory while trying to allocate 900600224 bytes.\n"
     ]
    },
    {
     "name": "stdout",
     "output_type": "stream",
     "text": [
      "error                     XlaRuntimeError('RESOURCE_EXHAUSTED: Out of memory while trying to allocate 900600224 bytes.')\n",
      "\n",
      "========== TRIAL 847 ==========\n",
      "Nin_virtual               20\n",
      "Nhidden                   100\n",
      "Nlayer                    3\n",
      "K                         150\n",
      "p_flip                    0.0\n",
      "Nt                        8\n",
      "error                     XlaRuntimeError('RESOURCE_EXHAUSTED: Out of memory while trying to allocate 464777216 bytes.')\n",
      "\n",
      "========== TRIAL 848 ==========\n",
      "Nin_virtual               20\n",
      "Nhidden                   100\n",
      "Nlayer                    3\n",
      "K                         150\n",
      "p_flip                    0.0\n",
      "Nt                        12\n"
     ]
    },
    {
     "name": "stderr",
     "output_type": "stream",
     "text": [
      "2024-08-29 01:16:56.087408: W external/xla/xla/tsl/framework/bfc_allocator.cc:482] Allocator (GPU_0_bfc) ran out of memory trying to allocate 645.26MiB (rounded to 676600320)requested by op \n",
      "2024-08-29 01:16:56.090055: W external/xla/xla/tsl/framework/bfc_allocator.cc:494] ************************************************************************____________________________\n",
      "E0829 01:16:56.090087  308455 pjrt_stream_executor_client.cc:3067] Execution of replica 0 failed: RESOURCE_EXHAUSTED: Out of memory while trying to allocate 676600224 bytes.\n"
     ]
    },
    {
     "name": "stdout",
     "output_type": "stream",
     "text": [
      "error                     XlaRuntimeError('RESOURCE_EXHAUSTED: Out of memory while trying to allocate 676600224 bytes.')\n",
      "\n",
      "========== TRIAL 849 ==========\n",
      "Nin_virtual               20\n",
      "Nhidden                   100\n",
      "Nlayer                    3\n",
      "K                         150\n",
      "p_flip                    0.0\n",
      "Nt                        16\n"
     ]
    },
    {
     "name": "stderr",
     "output_type": "stream",
     "text": [
      "2024-08-29 01:17:13.089435: W external/xla/xla/tsl/framework/bfc_allocator.cc:482] Allocator (GPU_0_bfc) ran out of memory trying to allocate 858.88MiB (rounded to 900600320)requested by op \n",
      "2024-08-29 01:17:13.092264: W external/xla/xla/tsl/framework/bfc_allocator.cc:494] *************************************************************************___________________________\n",
      "E0829 01:17:13.092296  308455 pjrt_stream_executor_client.cc:3067] Execution of replica 0 failed: RESOURCE_EXHAUSTED: Out of memory while trying to allocate 900600224 bytes.\n"
     ]
    },
    {
     "name": "stdout",
     "output_type": "stream",
     "text": [
      "error                     XlaRuntimeError('RESOURCE_EXHAUSTED: Out of memory while trying to allocate 900600224 bytes.')\n",
      "\n",
      "========== TRIAL 850 ==========\n",
      "Nin_virtual               20\n",
      "Nhidden                   100\n",
      "Nlayer                    3\n",
      "K                         150\n",
      "p_flip                    0.02\n",
      "Nt                        8\n",
      "error                     XlaRuntimeError('RESOURCE_EXHAUSTED: Out of memory while trying to allocate 464777216 bytes.')\n",
      "\n",
      "========== TRIAL 851 ==========\n",
      "Nin_virtual               20\n",
      "Nhidden                   100\n",
      "Nlayer                    3\n",
      "K                         150\n",
      "p_flip                    0.02\n",
      "Nt                        12\n"
     ]
    },
    {
     "name": "stderr",
     "output_type": "stream",
     "text": [
      "2024-08-29 01:17:34.678339: W external/xla/xla/tsl/framework/bfc_allocator.cc:482] Allocator (GPU_0_bfc) ran out of memory trying to allocate 645.26MiB (rounded to 676600320)requested by op \n",
      "2024-08-29 01:17:34.680915: W external/xla/xla/tsl/framework/bfc_allocator.cc:494] ************************************************************************____________________________\n",
      "E0829 01:17:34.680944  308455 pjrt_stream_executor_client.cc:3067] Execution of replica 0 failed: RESOURCE_EXHAUSTED: Out of memory while trying to allocate 676600224 bytes.\n"
     ]
    },
    {
     "name": "stdout",
     "output_type": "stream",
     "text": [
      "error                     XlaRuntimeError('RESOURCE_EXHAUSTED: Out of memory while trying to allocate 676600224 bytes.')\n",
      "\n",
      "========== TRIAL 852 ==========\n",
      "Nin_virtual               20\n",
      "Nhidden                   100\n",
      "Nlayer                    3\n",
      "K                         150\n",
      "p_flip                    0.02\n",
      "Nt                        16\n"
     ]
    },
    {
     "name": "stderr",
     "output_type": "stream",
     "text": [
      "2024-08-29 01:17:54.061171: W external/xla/xla/tsl/framework/bfc_allocator.cc:482] Allocator (GPU_0_bfc) ran out of memory trying to allocate 858.88MiB (rounded to 900600320)requested by op \n",
      "2024-08-29 01:17:54.063958: W external/xla/xla/tsl/framework/bfc_allocator.cc:494] *************************************************************************___________________________\n",
      "E0829 01:17:54.063987  308455 pjrt_stream_executor_client.cc:3067] Execution of replica 0 failed: RESOURCE_EXHAUSTED: Out of memory while trying to allocate 900600224 bytes.\n"
     ]
    },
    {
     "name": "stdout",
     "output_type": "stream",
     "text": [
      "error                     XlaRuntimeError('RESOURCE_EXHAUSTED: Out of memory while trying to allocate 900600224 bytes.')\n",
      "\n",
      "========== TRIAL 853 ==========\n",
      "Nin_virtual               20\n",
      "Nhidden                   100\n",
      "Nlayer                    3\n",
      "K                         150\n",
      "p_flip                    0.04\n",
      "Nt                        8\n",
      "error                     XlaRuntimeError('RESOURCE_EXHAUSTED: Out of memory while trying to allocate 464777216 bytes.')\n",
      "\n",
      "========== TRIAL 854 ==========\n",
      "Nin_virtual               20\n",
      "Nhidden                   100\n",
      "Nlayer                    3\n",
      "K                         150\n",
      "p_flip                    0.04\n",
      "Nt                        12\n"
     ]
    },
    {
     "name": "stderr",
     "output_type": "stream",
     "text": [
      "2024-08-29 01:18:15.719248: W external/xla/xla/tsl/framework/bfc_allocator.cc:482] Allocator (GPU_0_bfc) ran out of memory trying to allocate 645.26MiB (rounded to 676600320)requested by op \n",
      "2024-08-29 01:18:15.722011: W external/xla/xla/tsl/framework/bfc_allocator.cc:494] ************************************************************************____________________________\n",
      "E0829 01:18:15.722042  308455 pjrt_stream_executor_client.cc:3067] Execution of replica 0 failed: RESOURCE_EXHAUSTED: Out of memory while trying to allocate 676600224 bytes.\n"
     ]
    },
    {
     "name": "stdout",
     "output_type": "stream",
     "text": [
      "error                     XlaRuntimeError('RESOURCE_EXHAUSTED: Out of memory while trying to allocate 676600224 bytes.')\n",
      "\n",
      "========== TRIAL 855 ==========\n",
      "Nin_virtual               20\n",
      "Nhidden                   100\n",
      "Nlayer                    3\n",
      "K                         150\n",
      "p_flip                    0.04\n",
      "Nt                        16\n"
     ]
    },
    {
     "name": "stderr",
     "output_type": "stream",
     "text": [
      "2024-08-29 01:18:32.215767: W external/xla/xla/tsl/framework/bfc_allocator.cc:482] Allocator (GPU_0_bfc) ran out of memory trying to allocate 858.88MiB (rounded to 900600320)requested by op \n",
      "2024-08-29 01:18:32.218620: W external/xla/xla/tsl/framework/bfc_allocator.cc:494] *************************************************************************___________________________\n",
      "E0829 01:18:32.218650  308455 pjrt_stream_executor_client.cc:3067] Execution of replica 0 failed: RESOURCE_EXHAUSTED: Out of memory while trying to allocate 900600224 bytes.\n"
     ]
    },
    {
     "name": "stdout",
     "output_type": "stream",
     "text": [
      "error                     XlaRuntimeError('RESOURCE_EXHAUSTED: Out of memory while trying to allocate 900600224 bytes.')\n",
      "\n",
      "========== TRIAL 856 ==========\n",
      "Nin_virtual               20\n",
      "Nhidden                   100\n",
      "Nlayer                    3\n",
      "K                         200\n",
      "p_flip                    0.0\n",
      "Nt                        8\n",
      "error                     XlaRuntimeError('RESOURCE_EXHAUSTED: Out of memory while trying to allocate 464777216 bytes.')\n",
      "\n",
      "========== TRIAL 857 ==========\n",
      "Nin_virtual               20\n",
      "Nhidden                   100\n",
      "Nlayer                    3\n",
      "K                         200\n",
      "p_flip                    0.0\n",
      "Nt                        12\n"
     ]
    },
    {
     "name": "stderr",
     "output_type": "stream",
     "text": [
      "2024-08-29 01:18:54.300763: W external/xla/xla/tsl/framework/bfc_allocator.cc:482] Allocator (GPU_0_bfc) ran out of memory trying to allocate 645.26MiB (rounded to 676600320)requested by op \n",
      "2024-08-29 01:18:54.303742: W external/xla/xla/tsl/framework/bfc_allocator.cc:494] ************************************************************************____________________________\n",
      "E0829 01:18:54.303770  308455 pjrt_stream_executor_client.cc:3067] Execution of replica 0 failed: RESOURCE_EXHAUSTED: Out of memory while trying to allocate 676600224 bytes.\n"
     ]
    },
    {
     "name": "stdout",
     "output_type": "stream",
     "text": [
      "error                     XlaRuntimeError('RESOURCE_EXHAUSTED: Out of memory while trying to allocate 676600224 bytes.')\n",
      "\n",
      "========== TRIAL 858 ==========\n",
      "Nin_virtual               20\n",
      "Nhidden                   100\n",
      "Nlayer                    3\n",
      "K                         200\n",
      "p_flip                    0.0\n",
      "Nt                        16\n"
     ]
    },
    {
     "name": "stderr",
     "output_type": "stream",
     "text": [
      "2024-08-29 01:19:11.273120: W external/xla/xla/tsl/framework/bfc_allocator.cc:482] Allocator (GPU_0_bfc) ran out of memory trying to allocate 858.88MiB (rounded to 900600320)requested by op \n",
      "2024-08-29 01:19:11.275988: W external/xla/xla/tsl/framework/bfc_allocator.cc:494] *************************************************************************___________________________\n",
      "E0829 01:19:11.276024  308455 pjrt_stream_executor_client.cc:3067] Execution of replica 0 failed: RESOURCE_EXHAUSTED: Out of memory while trying to allocate 900600224 bytes.\n"
     ]
    },
    {
     "name": "stdout",
     "output_type": "stream",
     "text": [
      "error                     XlaRuntimeError('RESOURCE_EXHAUSTED: Out of memory while trying to allocate 900600224 bytes.')\n",
      "\n",
      "========== TRIAL 859 ==========\n",
      "Nin_virtual               20\n",
      "Nhidden                   100\n",
      "Nlayer                    3\n",
      "K                         200\n",
      "p_flip                    0.02\n",
      "Nt                        8\n",
      "error                     XlaRuntimeError('RESOURCE_EXHAUSTED: Out of memory while trying to allocate 464777216 bytes.')\n",
      "\n",
      "========== TRIAL 860 ==========\n",
      "Nin_virtual               20\n",
      "Nhidden                   100\n",
      "Nlayer                    3\n",
      "K                         200\n",
      "p_flip                    0.02\n",
      "Nt                        12\n"
     ]
    },
    {
     "name": "stderr",
     "output_type": "stream",
     "text": [
      "2024-08-29 01:19:32.875501: W external/xla/xla/tsl/framework/bfc_allocator.cc:482] Allocator (GPU_0_bfc) ran out of memory trying to allocate 645.26MiB (rounded to 676600320)requested by op \n",
      "2024-08-29 01:19:32.878401: W external/xla/xla/tsl/framework/bfc_allocator.cc:494] ************************************************************************____________________________\n",
      "E0829 01:19:32.878430  308455 pjrt_stream_executor_client.cc:3067] Execution of replica 0 failed: RESOURCE_EXHAUSTED: Out of memory while trying to allocate 676600224 bytes.\n"
     ]
    },
    {
     "name": "stdout",
     "output_type": "stream",
     "text": [
      "error                     XlaRuntimeError('RESOURCE_EXHAUSTED: Out of memory while trying to allocate 676600224 bytes.')\n",
      "\n",
      "========== TRIAL 861 ==========\n",
      "Nin_virtual               20\n",
      "Nhidden                   100\n",
      "Nlayer                    3\n",
      "K                         200\n",
      "p_flip                    0.02\n",
      "Nt                        16\n"
     ]
    },
    {
     "name": "stderr",
     "output_type": "stream",
     "text": [
      "2024-08-29 01:19:49.473226: W external/xla/xla/tsl/framework/bfc_allocator.cc:482] Allocator (GPU_0_bfc) ran out of memory trying to allocate 858.88MiB (rounded to 900600320)requested by op \n",
      "2024-08-29 01:19:49.476483: W external/xla/xla/tsl/framework/bfc_allocator.cc:494] *************************************************************************___________________________\n",
      "E0829 01:19:49.476515  308455 pjrt_stream_executor_client.cc:3067] Execution of replica 0 failed: RESOURCE_EXHAUSTED: Out of memory while trying to allocate 900600224 bytes.\n"
     ]
    },
    {
     "name": "stdout",
     "output_type": "stream",
     "text": [
      "error                     XlaRuntimeError('RESOURCE_EXHAUSTED: Out of memory while trying to allocate 900600224 bytes.')\n",
      "\n",
      "========== TRIAL 862 ==========\n",
      "Nin_virtual               20\n",
      "Nhidden                   100\n",
      "Nlayer                    3\n",
      "K                         200\n",
      "p_flip                    0.04\n",
      "Nt                        8\n",
      "error                     XlaRuntimeError('RESOURCE_EXHAUSTED: Out of memory while trying to allocate 464777216 bytes.')\n",
      "\n",
      "========== TRIAL 863 ==========\n",
      "Nin_virtual               20\n",
      "Nhidden                   100\n",
      "Nlayer                    3\n",
      "K                         200\n",
      "p_flip                    0.04\n",
      "Nt                        12\n"
     ]
    },
    {
     "name": "stderr",
     "output_type": "stream",
     "text": [
      "2024-08-29 01:20:11.144980: W external/xla/xla/tsl/framework/bfc_allocator.cc:482] Allocator (GPU_0_bfc) ran out of memory trying to allocate 645.26MiB (rounded to 676600320)requested by op \n",
      "2024-08-29 01:20:11.147687: W external/xla/xla/tsl/framework/bfc_allocator.cc:494] ************************************************************************____________________________\n",
      "E0829 01:20:11.147715  308455 pjrt_stream_executor_client.cc:3067] Execution of replica 0 failed: RESOURCE_EXHAUSTED: Out of memory while trying to allocate 676600224 bytes.\n"
     ]
    },
    {
     "name": "stdout",
     "output_type": "stream",
     "text": [
      "error                     XlaRuntimeError('RESOURCE_EXHAUSTED: Out of memory while trying to allocate 676600224 bytes.')\n",
      "\n",
      "========== TRIAL 864 ==========\n",
      "Nin_virtual               20\n",
      "Nhidden                   100\n",
      "Nlayer                    3\n",
      "K                         200\n",
      "p_flip                    0.04\n",
      "Nt                        16\n"
     ]
    },
    {
     "name": "stderr",
     "output_type": "stream",
     "text": [
      "2024-08-29 01:20:27.693501: W external/xla/xla/tsl/framework/bfc_allocator.cc:482] Allocator (GPU_0_bfc) ran out of memory trying to allocate 858.88MiB (rounded to 900600320)requested by op \n",
      "2024-08-29 01:20:27.696313: W external/xla/xla/tsl/framework/bfc_allocator.cc:494] *************************************************************************___________________________\n",
      "E0829 01:20:27.696344  308455 pjrt_stream_executor_client.cc:3067] Execution of replica 0 failed: RESOURCE_EXHAUSTED: Out of memory while trying to allocate 900600224 bytes.\n"
     ]
    },
    {
     "name": "stdout",
     "output_type": "stream",
     "text": [
      "error                     XlaRuntimeError('RESOURCE_EXHAUSTED: Out of memory while trying to allocate 900600224 bytes.')\n",
      "\n"
     ]
    }
   ],
   "source": [
    "run_theta_grid(config_grid, version=1, n_samples_per_trial=3)"
   ]
  }
 ],
 "metadata": {
  "kernelspec": {
   "display_name": "spikegd",
   "language": "python",
   "name": "python3"
  },
  "language_info": {
   "codemirror_mode": {
    "name": "ipython",
    "version": 3
   },
   "file_extension": ".py",
   "mimetype": "text/x-python",
   "name": "python",
   "nbconvert_exporter": "python",
   "pygments_lexer": "ipython3",
   "version": "3.12.3"
  }
 },
 "nbformat": 4,
 "nbformat_minor": 2
}
