{
 "cells": [
  {
   "cell_type": "markdown",
   "metadata": {},
   "source": [
    "**Warning: This notebook may contain destructive behavior. Never just run all cells!**"
   ]
  },
  {
   "cell_type": "markdown",
   "metadata": {},
   "source": [
    "## Load"
   ]
  },
  {
   "cell_type": "code",
   "execution_count": 1,
   "metadata": {},
   "outputs": [
    {
     "name": "stdout",
     "output_type": "stream",
     "text": [
      "GridScan(main_v2.1_max_over_time)\n",
      "24 runs\n",
      "1131 trials\n"
     ]
    }
   ],
   "source": [
    "from hyperparam_scan_util import GridScan, GridTrial, hash_config\n",
    "from spikegd.utils.formatting import print_dict\n",
    "\n",
    "scan = GridScan.load(\"main_v2.1_max_over_time\", root=\"results\")\n",
    "print(scan)\n",
    "\n",
    "run_ids = scan.load_run_ids()\n",
    "print(f\"{len(run_ids)} runs\")\n",
    "\n",
    "config_hashes = scan.load_trial_config_hashes()\n",
    "print(f\"{len(config_hashes)} trials\")"
   ]
  },
  {
   "cell_type": "markdown",
   "metadata": {},
   "source": [
    "## Info"
   ]
  },
  {
   "cell_type": "code",
   "execution_count": 2,
   "metadata": {},
   "outputs": [
    {
     "data": {
      "application/vnd.jupyter.widget-view+json": {
       "model_id": "ad4f5fa3994644d18db35dacaf06182b",
       "version_major": 2,
       "version_minor": 0
      },
      "text/plain": [
       "VBox(children=(HTML(value='<h3>11 active runs</h3>'), HBox(children=(HTML(value='17107658_01: '), FloatProgres…"
      ]
     },
     "metadata": {},
     "output_type": "display_data"
    }
   ],
   "source": [
    "scan.show_progress()"
   ]
  },
  {
   "cell_type": "markdown",
   "metadata": {},
   "source": [
    "## Export"
   ]
  },
  {
   "cell_type": "code",
   "execution_count": 4,
   "metadata": {},
   "outputs": [
    {
     "name": "stdout",
     "output_type": "stream",
     "text": [
      "Loading runs...\n"
     ]
    },
    {
     "name": "stderr",
     "output_type": "stream",
     "text": [
      "100%|██████████| 24/24 [00:00<00:00, 5414.04it/s]"
     ]
    },
    {
     "name": "stdout",
     "output_type": "stream",
     "text": [
      "Loading trials and epochs...\n"
     ]
    },
    {
     "name": "stderr",
     "output_type": "stream",
     "text": [
      "\n",
      "100%|██████████| 1071/1071 [00:00<00:00, 1140.17it/s]\n"
     ]
    },
    {
     "data": {
      "text/plain": [
       "GridScanExports(24 runs, 1071 trials, 54621 epochs)"
      ]
     },
     "execution_count": 4,
     "metadata": {},
     "output_type": "execute_result"
    }
   ],
   "source": [
    "exports = scan.export(verbose=True)\n",
    "exports"
   ]
  },
  {
   "cell_type": "markdown",
   "metadata": {},
   "source": [
    "## Backup"
   ]
  },
  {
   "cell_type": "code",
   "execution_count": 4,
   "metadata": {},
   "outputs": [],
   "source": [
    "scan.backup()"
   ]
  },
  {
   "cell_type": "markdown",
   "metadata": {},
   "source": [
    "## Trial update"
   ]
  },
  {
   "cell_type": "markdown",
   "metadata": {},
   "source": [
    "Load and save all trials (in case you updated some internal logic). "
   ]
  },
  {
   "cell_type": "code",
   "execution_count": 5,
   "metadata": {},
   "outputs": [
    {
     "name": "stderr",
     "output_type": "stream",
     "text": [
      "100%|██████████| 982/982 [00:01<00:00, 769.37it/s]\n"
     ]
    },
    {
     "name": "stdout",
     "output_type": "stream",
     "text": [
      "Updated: 982\n",
      "Failed: 0\n",
      "Unchanged: 0\n",
      "Skipped: 0\n"
     ]
    }
   ],
   "source": [
    "scan.update_trials(ignore_unchanged=False)"
   ]
  },
  {
   "cell_type": "markdown",
   "metadata": {},
   "source": [
    "Use update function."
   ]
  },
  {
   "cell_type": "code",
   "execution_count": 6,
   "metadata": {},
   "outputs": [],
   "source": [
    "# @scan.update_trials\n",
    "# def update(trial: GridTrial):\n",
    "#     if \"out_func\" in trial.config:\n",
    "#         return False\n",
    "    \n",
    "#     trial.config[\"out_func\"] = \"first_spike_time\""
   ]
  },
  {
   "cell_type": "markdown",
   "metadata": {},
   "source": [
    "If an error occurred, we can compare the two conflicting trials:"
   ]
  },
  {
   "cell_type": "code",
   "execution_count": 7,
   "metadata": {},
   "outputs": [
    {
     "ename": "FileNotFoundError",
     "evalue": "GridTrial at results/grid_scans/main_v2.1_max_over_time/trials/8aab68f9aeb06f383773daccf9bc73be.yaml not found.",
     "output_type": "error",
     "traceback": [
      "\u001b[0;31m---------------------------------------------------------------------------\u001b[0m",
      "\u001b[0;31mFileNotFoundError\u001b[0m                         Traceback (most recent call last)",
      "Cell \u001b[0;32mIn[7], line 1\u001b[0m\n\u001b[0;32m----> 1\u001b[0m old_trial \u001b[38;5;241m=\u001b[39m \u001b[43mscan\u001b[49m\u001b[38;5;241;43m.\u001b[39;49m\u001b[43mload_trial\u001b[49m\u001b[43m(\u001b[49m\u001b[38;5;124;43m\"\u001b[39;49m\u001b[38;5;124;43m8aab68f9aeb06f383773daccf9bc73be\u001b[39;49m\u001b[38;5;124;43m\"\u001b[39;49m\u001b[43m)\u001b[49m\n\u001b[1;32m      2\u001b[0m new_trial \u001b[38;5;241m=\u001b[39m scan\u001b[38;5;241m.\u001b[39mload_trial(\u001b[38;5;124m\"\u001b[39m\u001b[38;5;124m63f4e869a89ce35de7fb244387f4c5d6\u001b[39m\u001b[38;5;124m\"\u001b[39m)\n\u001b[1;32m      3\u001b[0m config_keys \u001b[38;5;241m=\u001b[39m \u001b[38;5;28mset\u001b[39m(old_trial\u001b[38;5;241m.\u001b[39mconfig) \u001b[38;5;241m|\u001b[39m \u001b[38;5;28mset\u001b[39m(new_trial\u001b[38;5;241m.\u001b[39mconfig)\n",
      "File \u001b[0;32m~/spikegd-carlo/experiments/heidelberg/hyperparam_scan_util.py:669\u001b[0m, in \u001b[0;36mGridScan.load_trial\u001b[0;34m(self, config_hash)\u001b[0m\n\u001b[1;32m    668\u001b[0m \u001b[38;5;28;01mdef\u001b[39;00m \u001b[38;5;21mload_trial\u001b[39m(\u001b[38;5;28mself\u001b[39m, config_hash: \u001b[38;5;28mstr\u001b[39m):\n\u001b[0;32m--> 669\u001b[0m     \u001b[38;5;28;01mreturn\u001b[39;00m \u001b[43mGridTrial\u001b[49m\u001b[38;5;241;43m.\u001b[39;49m\u001b[43mload\u001b[49m\u001b[43m(\u001b[49m\u001b[38;5;28;43mself\u001b[39;49m\u001b[38;5;241;43m.\u001b[39;49m\u001b[43mid\u001b[49m\u001b[43m,\u001b[49m\u001b[43m \u001b[49m\u001b[43mconfig_hash\u001b[49m\u001b[43m,\u001b[49m\u001b[43m \u001b[49m\u001b[43mroot\u001b[49m\u001b[38;5;241;43m=\u001b[39;49m\u001b[38;5;28;43mself\u001b[39;49m\u001b[38;5;241;43m.\u001b[39;49m\u001b[43mroot\u001b[49m\u001b[43m)\u001b[49m\n",
      "File \u001b[0;32m~/spikegd-carlo/experiments/heidelberg/hyperparam_scan_util.py:276\u001b[0m, in \u001b[0;36mResource.load\u001b[0;34m(cls, root, *args)\u001b[0m\n\u001b[1;32m    272\u001b[0m \u001b[38;5;129m@classmethod\u001b[39m\n\u001b[1;32m    273\u001b[0m \u001b[38;5;129m@final\u001b[39m\n\u001b[1;32m    274\u001b[0m \u001b[38;5;28;01mdef\u001b[39;00m \u001b[38;5;21mload\u001b[39m(\u001b[38;5;28mcls\u001b[39m, \u001b[38;5;241m*\u001b[39margs: Unpack[Args], root: PathLike) \u001b[38;5;241m-\u001b[39m\u001b[38;5;241m>\u001b[39m Self:\n\u001b[1;32m    275\u001b[0m     abs_path \u001b[38;5;241m=\u001b[39m \u001b[38;5;28mcls\u001b[39m\u001b[38;5;241m.\u001b[39mget_abs_path_of(\u001b[38;5;241m*\u001b[39margs, root\u001b[38;5;241m=\u001b[39mroot)\n\u001b[0;32m--> 276\u001b[0m     obj \u001b[38;5;241m=\u001b[39m \u001b[38;5;28;43mcls\u001b[39;49m\u001b[38;5;241;43m.\u001b[39;49m\u001b[43m_load_from\u001b[49m\u001b[43m(\u001b[49m\u001b[43mabs_path\u001b[49m\u001b[43m,\u001b[49m\u001b[43m \u001b[49m\u001b[43mroot\u001b[49m\u001b[38;5;241;43m=\u001b[39;49m\u001b[43mroot\u001b[49m\u001b[43m)\u001b[49m\n\u001b[1;32m    278\u001b[0m     \u001b[38;5;28;01mif\u001b[39;00m obj\u001b[38;5;241m.\u001b[39m_get_args() \u001b[38;5;241m!=\u001b[39m args:\n\u001b[1;32m    279\u001b[0m         \u001b[38;5;28;01mraise\u001b[39;00m \u001b[38;5;167;01mValueError\u001b[39;00m(\n\u001b[1;32m    280\u001b[0m             \u001b[38;5;124mf\u001b[39m\u001b[38;5;124m\"\u001b[39m\u001b[38;5;124mLoaded \u001b[39m\u001b[38;5;132;01m{\u001b[39;00m\u001b[38;5;28mcls\u001b[39m\u001b[38;5;241m.\u001b[39m\u001b[38;5;18m__name__\u001b[39m\u001b[38;5;132;01m}\u001b[39;00m\u001b[38;5;124m has different arguments: \u001b[39m\u001b[38;5;132;01m{\u001b[39;00mobj\u001b[38;5;241m.\u001b[39m_get_args()\u001b[38;5;132;01m}\u001b[39;00m\u001b[38;5;124m != \u001b[39m\u001b[38;5;132;01m{\u001b[39;00margs\u001b[38;5;132;01m}\u001b[39;00m\u001b[38;5;124m\"\u001b[39m\n\u001b[1;32m    281\u001b[0m         )\n",
      "File \u001b[0;32m~/spikegd-carlo/experiments/heidelberg/hyperparam_scan_util.py:409\u001b[0m, in \u001b[0;36mYamlResource._load_from\u001b[0;34m(cls, abs_path, root)\u001b[0m\n\u001b[1;32m    406\u001b[0m \u001b[38;5;129m@classmethod\u001b[39m\n\u001b[1;32m    407\u001b[0m \u001b[38;5;28;01mdef\u001b[39;00m \u001b[38;5;21m_load_from\u001b[39m(\u001b[38;5;28mcls\u001b[39m, abs_path: Path, root: PathLike) \u001b[38;5;241m-\u001b[39m\u001b[38;5;241m>\u001b[39m Self:\n\u001b[1;32m    408\u001b[0m     \u001b[38;5;28;01mif\u001b[39;00m \u001b[38;5;129;01mnot\u001b[39;00m abs_path\u001b[38;5;241m.\u001b[39mexists():\n\u001b[0;32m--> 409\u001b[0m         \u001b[38;5;28;01mraise\u001b[39;00m \u001b[38;5;167;01mFileNotFoundError\u001b[39;00m(\u001b[38;5;124mf\u001b[39m\u001b[38;5;124m\"\u001b[39m\u001b[38;5;132;01m{\u001b[39;00m\u001b[38;5;28mcls\u001b[39m\u001b[38;5;241m.\u001b[39m\u001b[38;5;18m__name__\u001b[39m\u001b[38;5;132;01m}\u001b[39;00m\u001b[38;5;124m at \u001b[39m\u001b[38;5;132;01m{\u001b[39;00mabs_path\u001b[38;5;132;01m}\u001b[39;00m\u001b[38;5;124m not found.\u001b[39m\u001b[38;5;124m\"\u001b[39m)\n\u001b[1;32m    411\u001b[0m     \u001b[38;5;28;01mwith\u001b[39;00m abs_path\u001b[38;5;241m.\u001b[39mopen(\u001b[38;5;124m\"\u001b[39m\u001b[38;5;124mr\u001b[39m\u001b[38;5;124m\"\u001b[39m) \u001b[38;5;28;01mas\u001b[39;00m f:\n\u001b[1;32m    412\u001b[0m         dict_ \u001b[38;5;241m=\u001b[39m yaml\u001b[38;5;241m.\u001b[39mload(f, yaml\u001b[38;5;241m.\u001b[39mLoader)\n",
      "\u001b[0;31mFileNotFoundError\u001b[0m: GridTrial at results/grid_scans/main_v2.1_max_over_time/trials/8aab68f9aeb06f383773daccf9bc73be.yaml not found."
     ]
    }
   ],
   "source": [
    "old_trial = scan.load_trial(\"8aab68f9aeb06f383773daccf9bc73be\")\n",
    "new_trial = scan.load_trial(\"63f4e869a89ce35de7fb244387f4c5d6\")\n",
    "config_keys = set(old_trial.config) | set(new_trial.config)\n",
    "\n",
    "print_dict(\n",
    "    {\n",
    "        key: f\"{old_value!r} -> {new_value!r}\"\n",
    "        for key in config_keys\n",
    "        if (\n",
    "            (old_value := old_trial.config.get(key))\n",
    "            != (new_value := new_trial.config.get(key))\n",
    "        )\n",
    "    }\n",
    ")"
   ]
  },
  {
   "cell_type": "markdown",
   "metadata": {},
   "source": [
    "If there is no relevant config difference, we can delete one of the trials."
   ]
  },
  {
   "cell_type": "code",
   "execution_count": 9,
   "metadata": {},
   "outputs": [],
   "source": [
    "# WARNING: destructive\n",
    "old_trial.delete()"
   ]
  },
  {
   "cell_type": "markdown",
   "metadata": {},
   "source": [
    "## Trial inspection"
   ]
  },
  {
   "cell_type": "code",
   "execution_count": 18,
   "metadata": {},
   "outputs": [
    {
     "ename": "FileNotFoundError",
     "evalue": "GridTrial at results/grid_scans/main_v2.1/trials/520727d7983725f204f5d454d5d1c5e7.yaml not found.",
     "output_type": "error",
     "traceback": [
      "\u001b[0;31m---------------------------------------------------------------------------\u001b[0m",
      "\u001b[0;31mFileNotFoundError\u001b[0m                         Traceback (most recent call last)",
      "Cell \u001b[0;32mIn[18], line 1\u001b[0m\n\u001b[0;32m----> 1\u001b[0m trial \u001b[38;5;241m=\u001b[39m \u001b[43mscan\u001b[49m\u001b[38;5;241;43m.\u001b[39;49m\u001b[43mload_trial\u001b[49m\u001b[43m(\u001b[49m\u001b[38;5;124;43m\"\u001b[39;49m\u001b[38;5;124;43m520727d7983725f204f5d454d5d1c5e7\u001b[39;49m\u001b[38;5;124;43m\"\u001b[39;49m\u001b[43m)\u001b[49m\n\u001b[1;32m      2\u001b[0m \u001b[38;5;28mprint\u001b[39m(trial)\n\u001b[1;32m      3\u001b[0m \u001b[38;5;28mprint\u001b[39m(\u001b[38;5;124m\"\u001b[39m\u001b[38;5;124mrun_id:\u001b[39m\u001b[38;5;124m\"\u001b[39m, trial\u001b[38;5;241m.\u001b[39mrun_id)\n",
      "File \u001b[0;32m~/spikegd-carlo/experiments/heidelberg/hyperparam_scan_util.py:478\u001b[0m, in \u001b[0;36mGridScan.load_trial\u001b[0;34m(self, config_hash)\u001b[0m\n\u001b[1;32m    477\u001b[0m \u001b[38;5;28;01mdef\u001b[39;00m \u001b[38;5;21mload_trial\u001b[39m(\u001b[38;5;28mself\u001b[39m, config_hash: \u001b[38;5;28mstr\u001b[39m):\n\u001b[0;32m--> 478\u001b[0m     \u001b[38;5;28;01mreturn\u001b[39;00m \u001b[43mGridTrial\u001b[49m\u001b[38;5;241;43m.\u001b[39;49m\u001b[43mload\u001b[49m\u001b[43m(\u001b[49m\u001b[38;5;28;43mself\u001b[39;49m\u001b[38;5;241;43m.\u001b[39;49m\u001b[43mid\u001b[49m\u001b[43m,\u001b[49m\u001b[43m \u001b[49m\u001b[43mconfig_hash\u001b[49m\u001b[43m,\u001b[49m\u001b[43m \u001b[49m\u001b[43mroot\u001b[49m\u001b[38;5;241;43m=\u001b[39;49m\u001b[38;5;28;43mself\u001b[39;49m\u001b[38;5;241;43m.\u001b[39;49m\u001b[43mroot\u001b[49m\u001b[43m)\u001b[49m\n",
      "File \u001b[0;32m~/spikegd-carlo/experiments/heidelberg/hyperparam_scan_util.py:275\u001b[0m, in \u001b[0;36mResource.load\u001b[0;34m(cls, root, *args)\u001b[0m\n\u001b[1;32m    271\u001b[0m \u001b[38;5;129m@classmethod\u001b[39m\n\u001b[1;32m    272\u001b[0m \u001b[38;5;129m@final\u001b[39m\n\u001b[1;32m    273\u001b[0m \u001b[38;5;28;01mdef\u001b[39;00m \u001b[38;5;21mload\u001b[39m(\u001b[38;5;28mcls\u001b[39m, \u001b[38;5;241m*\u001b[39margs: Unpack[Args], root: PathLike) \u001b[38;5;241m-\u001b[39m\u001b[38;5;241m>\u001b[39m Self:\n\u001b[1;32m    274\u001b[0m     abs_path \u001b[38;5;241m=\u001b[39m \u001b[38;5;28mcls\u001b[39m\u001b[38;5;241m.\u001b[39mget_abs_path_of(\u001b[38;5;241m*\u001b[39margs, root\u001b[38;5;241m=\u001b[39mroot)\n\u001b[0;32m--> 275\u001b[0m     obj \u001b[38;5;241m=\u001b[39m \u001b[38;5;28;43mcls\u001b[39;49m\u001b[38;5;241;43m.\u001b[39;49m\u001b[43m_load_from\u001b[49m\u001b[43m(\u001b[49m\u001b[43mabs_path\u001b[49m\u001b[43m,\u001b[49m\u001b[43m \u001b[49m\u001b[43mroot\u001b[49m\u001b[38;5;241;43m=\u001b[39;49m\u001b[43mroot\u001b[49m\u001b[43m)\u001b[49m\n\u001b[1;32m    277\u001b[0m     \u001b[38;5;28;01mif\u001b[39;00m obj\u001b[38;5;241m.\u001b[39m_get_args() \u001b[38;5;241m!=\u001b[39m args:\n\u001b[1;32m    278\u001b[0m         \u001b[38;5;28;01mraise\u001b[39;00m \u001b[38;5;167;01mValueError\u001b[39;00m(\n\u001b[1;32m    279\u001b[0m             \u001b[38;5;124mf\u001b[39m\u001b[38;5;124m\"\u001b[39m\u001b[38;5;124mLoaded \u001b[39m\u001b[38;5;132;01m{\u001b[39;00m\u001b[38;5;28mcls\u001b[39m\u001b[38;5;241m.\u001b[39m\u001b[38;5;18m__name__\u001b[39m\u001b[38;5;132;01m}\u001b[39;00m\u001b[38;5;124m has different arguments: \u001b[39m\u001b[38;5;132;01m{\u001b[39;00mobj\u001b[38;5;241m.\u001b[39m_get_args()\u001b[38;5;132;01m}\u001b[39;00m\u001b[38;5;124m != \u001b[39m\u001b[38;5;132;01m{\u001b[39;00margs\u001b[38;5;132;01m}\u001b[39;00m\u001b[38;5;124m\"\u001b[39m\n\u001b[1;32m    280\u001b[0m         )\n",
      "File \u001b[0;32m~/spikegd-carlo/experiments/heidelberg/hyperparam_scan_util.py:408\u001b[0m, in \u001b[0;36mYamlResource._load_from\u001b[0;34m(cls, abs_path, root)\u001b[0m\n\u001b[1;32m    405\u001b[0m \u001b[38;5;129m@classmethod\u001b[39m\n\u001b[1;32m    406\u001b[0m \u001b[38;5;28;01mdef\u001b[39;00m \u001b[38;5;21m_load_from\u001b[39m(\u001b[38;5;28mcls\u001b[39m, abs_path: Path, root: PathLike) \u001b[38;5;241m-\u001b[39m\u001b[38;5;241m>\u001b[39m Self:\n\u001b[1;32m    407\u001b[0m     \u001b[38;5;28;01mif\u001b[39;00m \u001b[38;5;129;01mnot\u001b[39;00m abs_path\u001b[38;5;241m.\u001b[39mexists():\n\u001b[0;32m--> 408\u001b[0m         \u001b[38;5;28;01mraise\u001b[39;00m \u001b[38;5;167;01mFileNotFoundError\u001b[39;00m(\u001b[38;5;124mf\u001b[39m\u001b[38;5;124m\"\u001b[39m\u001b[38;5;132;01m{\u001b[39;00m\u001b[38;5;28mcls\u001b[39m\u001b[38;5;241m.\u001b[39m\u001b[38;5;18m__name__\u001b[39m\u001b[38;5;132;01m}\u001b[39;00m\u001b[38;5;124m at \u001b[39m\u001b[38;5;132;01m{\u001b[39;00mabs_path\u001b[38;5;132;01m}\u001b[39;00m\u001b[38;5;124m not found.\u001b[39m\u001b[38;5;124m\"\u001b[39m)\n\u001b[1;32m    410\u001b[0m     \u001b[38;5;28;01mwith\u001b[39;00m abs_path\u001b[38;5;241m.\u001b[39mopen(\u001b[38;5;124m\"\u001b[39m\u001b[38;5;124mr\u001b[39m\u001b[38;5;124m\"\u001b[39m) \u001b[38;5;28;01mas\u001b[39;00m f:\n\u001b[1;32m    411\u001b[0m         dict_ \u001b[38;5;241m=\u001b[39m yaml\u001b[38;5;241m.\u001b[39msafe_load(f)\n",
      "\u001b[0;31mFileNotFoundError\u001b[0m: GridTrial at results/grid_scans/main_v2.1/trials/520727d7983725f204f5d454d5d1c5e7.yaml not found."
     ]
    }
   ],
   "source": [
    "trial = scan.load_trial(\"520727d7983725f204f5d454d5d1c5e7\")\n",
    "print(trial)\n",
    "print(\"run_id:\", trial.run_id)\n",
    "print(\"started_at:\", trial.started_at)\n",
    "print(\"finished_at:\", trial.finished_at)\n",
    "print_dict(trial.config)"
   ]
  },
  {
   "cell_type": "markdown",
   "metadata": {},
   "source": [
    "## Find trial by config"
   ]
  },
  {
   "cell_type": "code",
   "execution_count": 25,
   "metadata": {},
   "outputs": [
    {
     "name": "stdout",
     "output_type": "stream",
     "text": [
      "Config hash: 520727d7983725f204f5d454d5d1c5e7\n",
      "Trial: GridTrial(main_v2.1, 520727d7983725f204f5d454d5d1c5e7)\n"
     ]
    }
   ],
   "source": [
    "config = {\n",
    "    \"device_count\": 1,\n",
    "    \"seed\": 0,\n",
    "    \"I0\": 1.25,\n",
    "    \"eps\": 1e-6,\n",
    "    \"Nhidden\": 100,\n",
    "    \"Nout\": 20,\n",
    "    \"w_scale\": 0.5,\n",
    "    \"T\": 2,\n",
    "    \"K\": 700,\n",
    "    \"dt\": 0.001,\n",
    "    \"gamma\": 0.01,\n",
    "    \"Nbatch\": 1000,\n",
    "    \"lr\": 0.004,\n",
    "    \"tau_lr\": 100.0,\n",
    "    \"beta1\": 0.9,\n",
    "    \"beta2\": 0.999,\n",
    "    \"p_flip\": 0.0,\n",
    "    \"Nepochs\": 50,\n",
    "    \"Ntrain\": None,\n",
    "    \"Nin\": 700,\n",
    "    \"Nsamples\": 3,\n",
    "    \"Nlayer\": 2,\n",
    "    \"normalize_times\": False,\n",
    "    \"tau\": 1,\n",
    "    \"Nin_virtual\": 1\n",
    "}\n",
    "config_hash = hash_config(config)\n",
    "print(f\"Config hash: {config_hash}\")\n",
    "\n",
    "trial = scan.load_trial(config_hash)\n",
    "print(f\"Trial: {trial}\")"
   ]
  },
  {
   "cell_type": "markdown",
   "metadata": {},
   "source": [
    "## Config hashing playground"
   ]
  },
  {
   "cell_type": "code",
   "execution_count": 16,
   "metadata": {},
   "outputs": [
    {
     "data": {
      "text/plain": [
       "'dd5f53d4a996899e681e3f75571e37a7'"
      ]
     },
     "execution_count": 16,
     "metadata": {},
     "output_type": "execute_result"
    }
   ],
   "source": [
    "hash_config({\n",
    "    \"foo\": 1\n",
    "})"
   ]
  }
 ],
 "metadata": {
  "kernelspec": {
   "display_name": ".venv",
   "language": "python",
   "name": "python3"
  },
  "language_info": {
   "codemirror_mode": {
    "name": "ipython",
    "version": 3
   },
   "file_extension": ".py",
   "mimetype": "text/x-python",
   "name": "python",
   "nbconvert_exporter": "python",
   "pygments_lexer": "ipython3",
   "version": "3.12.3"
  }
 },
 "nbformat": 4,
 "nbformat_minor": 2
}
