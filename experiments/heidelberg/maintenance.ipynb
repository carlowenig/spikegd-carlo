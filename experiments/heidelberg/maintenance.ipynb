{
 "cells": [
  {
   "cell_type": "markdown",
   "metadata": {},
   "source": [
    "**Warning: This notebook contains destructive behavior. Never just run all cells!**"
   ]
  },
  {
   "cell_type": "code",
   "execution_count": 1,
   "metadata": {},
   "outputs": [],
   "source": [
    "from hyperparam_scan_util import GridScan, GridTrial\n",
    "from spikegd.utils.formatting import print_dict"
   ]
  },
  {
   "cell_type": "code",
   "execution_count": 2,
   "metadata": {},
   "outputs": [],
   "source": [
    "scan = GridScan.load(\"main_v2.1\", root=\"results\")"
   ]
  },
  {
   "cell_type": "markdown",
   "metadata": {},
   "source": [
    "## Backup"
   ]
  },
  {
   "cell_type": "code",
   "execution_count": 3,
   "metadata": {},
   "outputs": [],
   "source": [
    "scan.backup()"
   ]
  },
  {
   "cell_type": "markdown",
   "metadata": {},
   "source": [
    "## Trial update"
   ]
  },
  {
   "cell_type": "code",
   "execution_count": 4,
   "metadata": {},
   "outputs": [
    {
     "name": "stderr",
     "output_type": "stream",
     "text": [
      "  0%|          | 0/2010 [00:00<?, ?it/s]"
     ]
    },
    {
     "name": "stderr",
     "output_type": "stream",
     "text": [
      " 71%|███████   | 1419/2010 [01:00<00:31, 19.02it/s, failed=1, skipped=1419, unchanged=0, updated=0]"
     ]
    },
    {
     "name": "stdout",
     "output_type": "stream",
     "text": [
      "Error while saving updated trial b510356ec4959462a42d6f8ee21382db as new trial 0b4c943f047f69728d7ed6a37c17ea99:\n",
      "  GridTrial at results/grid_scans/main_v2.1/trials/0b4c943f047f69728d7ed6a37c17ea99.yaml already exists.\n",
      "Reverting to old trial...\n"
     ]
    },
    {
     "name": "stderr",
     "output_type": "stream",
     "text": [
      " 94%|█████████▎| 1881/2010 [01:19<00:05, 23.18it/s, failed=2, skipped=1879, unchanged=0, updated=0]"
     ]
    },
    {
     "name": "stdout",
     "output_type": "stream",
     "text": [
      "Error while saving updated trial 8aab68f9aeb06f383773daccf9bc73be as new trial 63f4e869a89ce35de7fb244387f4c5d6:\n",
      "  GridTrial at results/grid_scans/main_v2.1/trials/63f4e869a89ce35de7fb244387f4c5d6.yaml already exists.\n",
      "Reverting to old trial...\n"
     ]
    },
    {
     "name": "stderr",
     "output_type": "stream",
     "text": [
      "100%|██████████| 2010/2010 [01:25<00:00, 23.55it/s, failed=2, skipped=2008, unchanged=0, updated=0]"
     ]
    },
    {
     "name": "stdout",
     "output_type": "stream",
     "text": [
      "Updated: 0\n",
      "Failed: 2\n",
      "Unchanged: 0\n",
      "Skipped: 2008\n"
     ]
    },
    {
     "name": "stderr",
     "output_type": "stream",
     "text": [
      "\n"
     ]
    }
   ],
   "source": [
    "@scan.update_trials\n",
    "def remove_config_index(trial: GridTrial):\n",
    "    if \"_index\" not in trial.config:\n",
    "        return False\n",
    "    \n",
    "    del trial.config[\"_index\"]"
   ]
  },
  {
   "cell_type": "markdown",
   "metadata": {},
   "source": [
    "If an error occurred, we can compare the two conflicting trials:"
   ]
  },
  {
   "cell_type": "code",
   "execution_count": 8,
   "metadata": {},
   "outputs": [
    {
     "name": "stdout",
     "output_type": "stream",
     "text": [
      "_index                    344 -> None\n"
     ]
    }
   ],
   "source": [
    "old_trial = scan.load_trial(\"8aab68f9aeb06f383773daccf9bc73be\")\n",
    "new_trial = scan.load_trial(\"63f4e869a89ce35de7fb244387f4c5d6\")\n",
    "config_keys = set(old_trial.config) | set(new_trial.config)\n",
    "\n",
    "print_dict(\n",
    "    {\n",
    "        key: f\"{old_value!r} -> {new_value!r}\"\n",
    "        for key in config_keys\n",
    "        if (\n",
    "            (old_value := old_trial.config.get(key))\n",
    "            != (new_value := new_trial.config.get(key))\n",
    "        )\n",
    "    }\n",
    ")"
   ]
  },
  {
   "cell_type": "markdown",
   "metadata": {},
   "source": [
    "If there is no relevant config difference, we can delete one of the trials."
   ]
  },
  {
   "cell_type": "code",
   "execution_count": 9,
   "metadata": {},
   "outputs": [],
   "source": [
    "# WARNING: destructive\n",
    "old_trial.delete()"
   ]
  },
  {
   "cell_type": "markdown",
   "metadata": {},
   "source": [
    "## Trial inspection"
   ]
  },
  {
   "cell_type": "code",
   "execution_count": 5,
   "metadata": {},
   "outputs": [
    {
     "name": "stdout",
     "output_type": "stream",
     "text": [
      "device_count              1\n",
      "seed                      0\n",
      "tau                       1\n",
      "I0                        1.25\n",
      "eps                       1e-06\n",
      "Nhidden                   100\n",
      "Nout                      20\n",
      "w_scale                   0.5\n",
      "T                         2\n",
      "K                         700\n",
      "dt                        0.001\n",
      "gamma                     0.01\n",
      "lr                        0.004\n",
      "tau_lr                    100\n",
      "beta1                     0.9\n",
      "beta2                     0.999\n",
      "p_flip                    0\n",
      "Nepochs                   50\n",
      "Ntrain                    None\n",
      "Nin                       700\n",
      "Nsamples                  3\n",
      "normalize_times           0\n",
      "Nin_virtual               16\n",
      "Nlayer                    2\n",
      "Nbatch                    1000\n",
      "_index                    36\n"
     ]
    }
   ],
   "source": [
    "trial = scan.load_trial(\"a840c278a8018500c96a6bbb91291d5c\")\n",
    "print_dict(trial.config)"
   ]
  },
  {
   "cell_type": "markdown",
   "metadata": {},
   "source": [
    "## Export trials to DataFrame for analysis"
   ]
  },
  {
   "cell_type": "code",
   "execution_count": null,
   "metadata": {},
   "outputs": [],
   "source": [
    "scan.export_trials_df(\"analysis.parquet\", loading_progress=True)"
   ]
  }
 ],
 "metadata": {
  "kernelspec": {
   "display_name": ".venv",
   "language": "python",
   "name": "python3"
  },
  "language_info": {
   "codemirror_mode": {
    "name": "ipython",
    "version": 3
   },
   "file_extension": ".py",
   "mimetype": "text/x-python",
   "name": "python",
   "nbconvert_exporter": "python",
   "pygments_lexer": "ipython3",
   "version": "3.12.3"
  }
 },
 "nbformat": 4,
 "nbformat_minor": 2
}
