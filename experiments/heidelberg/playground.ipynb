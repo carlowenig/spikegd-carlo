{
 "cells": [
  {
   "cell_type": "code",
   "execution_count": 1,
   "metadata": {},
   "outputs": [],
   "source": [
    "import jax\n",
    "import jax.numpy as jnp"
   ]
  },
  {
   "cell_type": "code",
   "execution_count": 23,
   "metadata": {},
   "outputs": [
    {
     "data": {
      "text/plain": [
       "Array([[1],\n",
       "       [2],\n",
       "       [3]], dtype=int32)"
      ]
     },
     "execution_count": 23,
     "metadata": {},
     "output_type": "execute_result"
    }
   ],
   "source": [
    "neurons = jnp.array([\n",
    "    [0, 0, 3, 4, 2], # batch sample 0\n",
    "    [1, 2, 0, -1, -1], # batch sample 1\n",
    "    [3, -1, -1, -1, -1] # batch sample 2\n",
    "])\n",
    "Nbatch, Nspike = neurons.shape\n",
    "\n",
    "labels = jnp.array([1, 2, 3]) # one label per batch sample\n",
    "assert labels.shape == (Nbatch,)\n",
    "\n",
    "N = 10\n",
    "Nout = 10\n",
    "\n",
    "neurons_true = N - Nout + labels[:, jnp.newaxis]\n",
    "neurons_true"
   ]
  },
  {
   "cell_type": "code",
   "execution_count": 18,
   "metadata": {},
   "outputs": [
    {
     "data": {
      "text/plain": [
       "Array([[False, False, False, False, False],\n",
       "       [False,  True, False, False, False],\n",
       "       [ True, False, False, False, False]], dtype=bool)"
      ]
     },
     "execution_count": 18,
     "metadata": {},
     "output_type": "execute_result"
    }
   ],
   "source": [
    "neurons == neurons_true"
   ]
  },
  {
   "cell_type": "code",
   "execution_count": 19,
   "metadata": {},
   "outputs": [
    {
     "data": {
      "text/plain": [
       "Array(0.6666667, dtype=float32)"
      ]
     },
     "execution_count": 19,
     "metadata": {},
     "output_type": "execute_result"
    }
   ],
   "source": [
    "Nspike_out_true_total = jnp.sum(neurons == neurons_true)\n",
    "activity_out_true = Nspike_out_true_total / Nbatch\n",
    "activity_out_true"
   ]
  },
  {
   "cell_type": "code",
   "execution_count": 33,
   "metadata": {},
   "outputs": [
    {
     "data": {
      "text/plain": [
       "Array([[False,  True, False, False, False, False, False, False, False,\n",
       "        False],\n",
       "       [False, False,  True, False, False, False, False, False, False,\n",
       "        False],\n",
       "       [False, False, False,  True, False, False, False, False, False,\n",
       "        False]], dtype=bool)"
      ]
     },
     "execution_count": 33,
     "metadata": {},
     "output_type": "execute_result"
    }
   ],
   "source": [
    "out_true_mask = labels[:, jnp.newaxis] == jnp.arange(Nout)\n",
    "assert out_true_mask.shape == (Nbatch, Nout)\n",
    "out_true_mask"
   ]
  },
  {
   "cell_type": "code",
   "execution_count": 42,
   "metadata": {},
   "outputs": [
    {
     "data": {
      "text/plain": [
       "Array([[0.38831604, 0.82557344, 0.15744662, 0.9216856 , 0.8541341 ,\n",
       "        0.81880295, 0.33484733, 0.83797956, 0.28858185, 0.5061135 ],\n",
       "       [0.01882851, 0.7104969 , 0.8197037 , 0.71717155, 0.7650944 ,\n",
       "        0.5481789 , 0.37306917, 0.9477587 , 0.59677327, 0.08364284],\n",
       "       [0.27055883, 0.5558171 , 0.7998272 , 0.136899  , 0.14062798,\n",
       "        0.12721694, 0.27647746, 0.43810904, 0.35078037, 0.13254273]],      dtype=float32)"
      ]
     },
     "execution_count": 42,
     "metadata": {},
     "output_type": "execute_result"
    }
   ],
   "source": [
    "key = jax.random.PRNGKey(0)\n",
    "out_vals = jax.random.uniform(key, (Nbatch, Nout))\n",
    "out_vals"
   ]
  },
  {
   "cell_type": "code",
   "execution_count": 43,
   "metadata": {},
   "outputs": [
    {
     "data": {
      "text/plain": [
       "Array([0.82557344, 0.8197037 , 0.136899  ], dtype=float32)"
      ]
     },
     "execution_count": 43,
     "metadata": {},
     "output_type": "execute_result"
    }
   ],
   "source": [
    "out_vals_true = out_vals[out_true_mask]\n",
    "out_vals_true"
   ]
  },
  {
   "cell_type": "code",
   "execution_count": 54,
   "metadata": {},
   "outputs": [
    {
     "data": {
      "text/plain": [
       "True"
      ]
     },
     "execution_count": 54,
     "metadata": {},
     "output_type": "execute_result"
    }
   ],
   "source": [
    "\"2024-10-07_10-11-12\" > \"2024-10-07\""
   ]
  }
 ],
 "metadata": {
  "kernelspec": {
   "display_name": "spikegd",
   "language": "python",
   "name": "python3"
  },
  "language_info": {
   "codemirror_mode": {
    "name": "ipython",
    "version": 3
   },
   "file_extension": ".py",
   "mimetype": "text/x-python",
   "name": "python",
   "nbconvert_exporter": "python",
   "pygments_lexer": "ipython3",
   "version": "3.12.1"
  }
 },
 "nbformat": 4,
 "nbformat_minor": 2
}
