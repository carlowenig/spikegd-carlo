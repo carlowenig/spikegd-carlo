{
    "cells": [
        {
            "cell_type": "code",
            "execution_count": 1,
            "metadata": {},
            "outputs": [],
            "source": [
                "import jax\n",
                "import jax.numpy as jnp\n",
                "import matplotlib.gridspec as gridspec\n",
                "import matplotlib.pyplot as plt\n",
                "from jax import random\n",
                "from mpl_toolkits.axes_grid1.inset_locator import inset_axes\n",
                "\n",
                "from heidelberg import plot_error, plot_spikes, plot_traces, run, run_example\n",
                "from spikegd.theta import ThetaNeuron\n",
                "from spikegd.utils.plotting import (\n",
                "    cm2inch,\n",
                "    panel_label,\n",
                ")"
            ]
        },
        {
            "cell_type": "code",
            "execution_count": 2,
            "metadata": {},
            "outputs": [],
            "source": [
                "plt.style.use(\"spikegd.utils.plotstyle\")"
            ]
        },
        {
            "cell_type": "code",
            "execution_count": 3,
            "metadata": {},
            "outputs": [
                {
                    "data": {
                        "text/plain": [
                            "[CudaDevice(id=0)]"
                        ]
                    },
                    "execution_count": 3,
                    "metadata": {},
                    "output_type": "execute_result"
                }
            ],
            "source": [
                "jax.devices()"
            ]
        },
        {
            "cell_type": "markdown",
            "metadata": {},
            "source": [
                "# Run experiments"
            ]
        },
        {
            "cell_type": "code",
            "execution_count": 4,
            "metadata": {},
            "outputs": [],
            "source": [
                "config_theta = {\n",
                "    \"seed\": 0,\n",
                "    # Neuron\n",
                "    \"tau\": 6 / jnp.pi,\n",
                "    \"I0\": 5 / 4,\n",
                "    \"eps\": 1e-6,\n",
                "    # Network\n",
                "    # \"Nin\": 7000, # must be N * Nt, where N is the number of neurons in the SHD dataset (700)\n",
                "    \"Nin_virtual\": 10,  # #Virtual input neurons = N_bin - 1\n",
                "    \"Nhidden\": 50,\n",
                "    \"Nlayer\": 3,  # Number of layers\n",
                "    \"Nout\": 20,\n",
                "    \"w_scale\": 0.5,  # Scaling factor of initial weights\n",
                "    # Trial\n",
                "    \"T\": 2.0,\n",
                "    \"K\": 200,  # Maximal number of simulated ordinary spikes\n",
                "    \"dt\": 0.001,  # Step size used to compute state traces\n",
                "    # Training\n",
                "    \"gamma\": 1e-2,\n",
                "    \"Nbatch\": 1000,\n",
                "    \"lr\": 4e-3,\n",
                "    \"tau_lr\": 1e2,\n",
                "    \"beta1\": 0.9,\n",
                "    \"beta2\": 0.999,\n",
                "    \"p_flip\": 0.0,\n",
                "    \"Nepochs\": 50,\n",
                "    \"Ntrain\": None, # Number of training samples\n",
                "\n",
                "    # SHD Quantization\n",
                "    \"Nt\": 10,\n",
                "}\n",
                "config_theta[\"Nin\"] = 700 * config_theta[\"Nt\"]\n",
                "\n",
                "\n",
                "def run_theta(config: dict) -> dict:\n",
                "    \"\"\"\n",
                "    Wrapper to train a network of Theta neurons with the given configuration.\n",
                "\n",
                "    See docstring of `run` and article for more information.\n",
                "    \"\"\"\n",
                "    tau, I0, eps = config[\"tau\"], config[\"I0\"], config[\"eps\"]\n",
                "    neuron = ThetaNeuron(tau, I0, eps)\n",
                "    metrics = run(neuron, config, progress_bar=\"notebook\")\n",
                "    return metrics"
            ]
        },
        {
            "cell_type": "code",
            "execution_count": 5,
            "metadata": {},
            "outputs": [
                {
                    "name": "stdout",
                    "output_type": "stream",
                    "text": [
                        "Loading data from h5 file\n",
                        "Loading audio filenames\n",
                        "Finished loading SHD\n",
                        "Quantizing training set...\n",
                        "Max spike count in single time interval (30) is very different to N_bin (11)\n",
                        "Quantized data memory: 57.092 MB\n",
                        "Train set size: 8156\n",
                        "Loading data from h5 file\n",
                        "Loading audio filenames\n",
                        "Finished loading SHD\n",
                        "Quantizing test set...\n",
                        "Max spike count in single time interval (27) is very different to N_bin (11)\n",
                        "Quantized data memory: 15.848 MB\n",
                        "Test set size: 2264\n"
                    ]
                },
                {
                    "data": {
                        "application/vnd.jupyter.widget-view+json": {
                            "model_id": "f04554043f904339b97d18a8c8c5acf3",
                            "version_major": 2,
                            "version_minor": 0
                        },
                        "text/plain": [
                            "  0%|          | 0/50 [00:00<?, ?it/s]"
                        ]
                    },
                    "metadata": {},
                    "output_type": "display_data"
                }
            ],
            "source": [
                "seed = 0\n",
                "samples = 1  # Number of network realizations, decrease to save simulation time\n",
                "key = random.PRNGKey(seed)\n",
                "seeds = random.randint(key, (samples,), 0, jnp.uint32(2**32 - 1), dtype=jnp.uint32)\n",
                "metrics_list = []\n",
                "for seed in seeds:\n",
                "    config_theta[\"seed\"] = seed\n",
                "    metrics = run_theta(config_theta)\n",
                "    metrics_list.append(metrics)\n",
                "metrics_example = metrics_list[0]\n",
                "metrics = jax.tree.map(lambda *args: jnp.stack(args), *metrics_list)"
            ]
        },
        {
            "cell_type": "code",
            "execution_count": 6,
            "metadata": {},
            "outputs": [
                {
                    "name": "stdout",
                    "output_type": "stream",
                    "text": [
                        "**Results before training**\n",
                        "acc                       0.044 ± 0.000\n",
                        "acc_ord                   0.045 ± 0.000\n",
                        "activity                  0.000 ± 0.000\n",
                        "activity_first            0.000 ± 0.000\n",
                        "loss                      3.035 ± 0.000\n",
                        "loss_ord                  3.013 ± 0.000\n",
                        "silent_neurons            1.000 ± 0.000\n",
                        "silent_neurons_first      1.000 ± 0.000\n",
                        "\n",
                        "**Results after training**\n",
                        "acc                       0.552 ± 0.000\n",
                        "acc_ord                   0.323 ± 0.000\n",
                        "activity                  0.456 ± 0.000\n",
                        "activity_first            0.447 ± 0.000\n",
                        "loss                      2.173 ± 0.000\n",
                        "loss_ord                  2.965 ± 0.000\n",
                        "silent_neurons            0.010 ± 0.000\n",
                        "silent_neurons_first      0.010 ± 0.000\n"
                    ]
                }
            ],
            "source": [
                "def summarize_metrics(metrics: dict, epoch: int) -> None:\n",
                "    \"\"\"\n",
                "    Print a summary of the metrics at the given epoch.\n",
                "    \"\"\"\n",
                "    summary_metrics = {k: v for k, v in metrics.items() if k not in [\"p_init\", \"p_end\"]}\n",
                "    summary_metrics = jax.tree.map(\n",
                "        lambda x: jnp.array([jnp.mean(x[:, epoch]), jnp.std(x[:, epoch])]),\n",
                "        summary_metrics,\n",
                "    )\n",
                "    for key, value in summary_metrics.items():\n",
                "        print(f\"{key:<25} {value[0]:.3f} ± {value[1]:.3f}\")\n",
                "\n",
                "\n",
                "print(\"**Results before training**\")\n",
                "summarize_metrics(metrics, 0)\n",
                "print()\n",
                "print(\"**Results after training**\")\n",
                "summarize_metrics(metrics, -1)"
            ]
        },
        {
            "cell_type": "markdown",
            "metadata": {},
            "source": [
                "# Test error over time"
            ]
        },
        {
            "cell_type": "code",
            "execution_count": 7,
            "metadata": {},
            "outputs": [
                {
                    "data": {
                        "image/png": "[encoded data removed]",
                        "text/plain": [
                            "<Figure size 700x400 with 1 Axes>"
                        ]
                    },
                    "metadata": {},
                    "output_type": "display_data"
                }
            ],
            "source": [
                "fig, ax = plt.subplots(figsize=(7, 4))\n",
                "plot_error(ax, metrics, config_theta)"
            ]
        },
        {
            "cell_type": "code",
            "execution_count": 8,
            "metadata": {},
            "outputs": [
                {
                    "name": "stdout",
                    "output_type": "stream",
                    "text": [
                        "Loading data from h5 file\n",
                        "Loading audio filenames\n",
                        "Finished loading SHD\n",
                        "Quantizing training set...\n",
                        "Max spike count in single time interval (30) is very different to N_bin (11)\n",
                        "Quantized data memory: 57.092 MB\n",
                        "Train set size: 8156\n",
                        "Loading data from h5 file\n",
                        "Loading audio filenames\n",
                        "Finished loading SHD\n",
                        "Quantizing test set...\n",
                        "Max spike count in single time interval (27) is very different to N_bin (11)\n",
                        "Quantized data memory: 15.848 MB\n",
                        "Test set size: 2264\n",
                        "Loading data from h5 file\n",
                        "Loading audio filenames\n",
                        "Finished loading SHD\n",
                        "Quantizing training set...\n",
                        "Max spike count in single time interval (30) is very different to N_bin (11)\n",
                        "Quantized data memory: 57.092 MB\n",
                        "Train set size: 8156\n",
                        "Loading data from h5 file\n",
                        "Loading audio filenames\n",
                        "Finished loading SHD\n",
                        "Quantizing test set...\n",
                        "Max spike count in single time interval (27) is very different to N_bin (11)\n",
                        "Quantized data memory: 15.848 MB\n",
                        "Test set size: 2264\n"
                    ]
                }
            ],
            "source": [
                "\n",
                "def run_example_theta(p: list, config: dict) -> dict:\n",
                "    \"\"\"\n",
                "    Wrapper to run network on one example input.\n",
                "\n",
                "    See docstring of `run_example` and article for more information.\n",
                "    \"\"\"\n",
                "    tau, I0, eps = config[\"tau\"], config[\"I0\"], config[\"eps\"]\n",
                "    neuron = ThetaNeuron(tau, I0, eps)\n",
                "    metrics = run_example(p, neuron, config)\n",
                "    return metrics\n",
                "\n",
                "\n",
                "example_init = run_example_theta(metrics_example[\"p_init\"], config_theta)\n",
                "example_end = run_example_theta(metrics_example[\"p_end\"], config_theta)"
            ]
        },
        {
            "cell_type": "markdown",
            "metadata": {},
            "source": [
                "# Plot results"
            ]
        },
        {
            "cell_type": "code",
            "execution_count": 9,
            "metadata": {},
            "outputs": [
                {
                    "data": {
                        "image/png": "[encoded data removed]",
                        "text/plain": [
                            "<Figure size 507.874x354.331 with 5 Axes>"
                        ]
                    },
                    "metadata": {},
                    "output_type": "display_data"
                }
            ],
            "source": [
                "### Figure\n",
                "fig = plt.figure(figsize=cm2inch(1.5 * 8.6, 1.5 * 6.0))\n",
                "gs = gridspec.GridSpec(\n",
                "    2,\n",
                "    3,\n",
                "    figure=fig,\n",
                "    hspace=0.5,\n",
                "    wspace=0.4,\n",
                "    top=0.94,\n",
                "    bottom=0.15,\n",
                "    left=0.12,\n",
                "    right=0.97,\n",
                ")\n",
                "\n",
                "#### Spike plot before learning\n",
                "ax = fig.add_subplot(gs[:, 0])\n",
                "plot_spikes(ax, example_init, config_theta)\n",
                "ax.set_title(\"Epoch 0\", pad=-1)\n",
                "axins = inset_axes(ax, width=0.4, height=0.4, loc=\"lower left\")\n",
                "# axins.imshow(example_init[\"input\"].reshape(28, 28), cmap=\"gray\")\n",
                "axins.set_xticks([])\n",
                "axins.set_yticks([])\n",
                "axins.spines[\"top\"].set_visible(True)\n",
                "axins.spines[\"right\"].set_visible(True)\n",
                "panel_label(fig, ax, \"(a)\", x=-0.4, y=0.07)\n",
                "\n",
                "#### Spike plot after learning\n",
                "ax = fig.add_subplot(gs[:, 1])\n",
                "plot_spikes(ax, example_end, config_theta)\n",
                "ax.set_title(f\"Epoch {config_theta['Nepochs']}\", pad=-1)\n",
                "ax.tick_params(labelleft=False)\n",
                "ax.set_ylabel(\"\")\n",
                "\n",
                "### Trace output\n",
                "ax = fig.add_subplot(gs[0, 2])\n",
                "plot_traces(ax, example_end, config_theta)\n",
                "panel_label(fig, ax, \"(b)\", x=-0.4, y=0.0)\n",
                "\n",
                "### Accuracy plot\n",
                "ax = fig.add_subplot(gs[1, 2])\n",
                "plot_error(ax, metrics, config_theta)\n",
                "panel_label(fig, ax, \"(c)\", x=-0.4, y=0.0)\n",
                "\n",
                "plt.show()"
            ]
        },
        {
            "cell_type": "code",
            "execution_count": null,
            "metadata": {},
            "outputs": [],
            "source": []
        }
    ],
    "metadata": {
        "kernelspec": {
            "display_name": "spikesgd",
            "language": "python",
            "name": "python3"
        },
        "language_info": {
            "codemirror_mode": {
                "name": "ipython",
                "version": 3
            },
            "file_extension": ".py",
            "mimetype": "text/x-python",
            "name": "python",
            "nbconvert_exporter": "python",
            "pygments_lexer": "ipython3",
            "version": "3.12.3"
        }
    },
    "nbformat": 4,
    "nbformat_minor": 2
}
