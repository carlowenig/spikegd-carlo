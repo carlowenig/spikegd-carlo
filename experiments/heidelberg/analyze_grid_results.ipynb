{
 "cells": [
  {
   "cell_type": "code",
   "execution_count": 1,
   "metadata": {},
   "outputs": [],
   "source": [
    "import yaml\n",
    "import pandas as pd\n",
    "import numpy as np\n",
    "import matplotlib.pyplot as plt\n",
    "from hyperparam_scan_util import GridData\n",
    "pd.set_option('display.max_columns', None)"
   ]
  },
  {
   "cell_type": "code",
   "execution_count": 2,
   "metadata": {},
   "outputs": [],
   "source": [
    "data = GridData.load_or_create(version=1, backup=False)"
   ]
  },
  {
   "cell_type": "code",
   "execution_count": 3,
   "metadata": {},
   "outputs": [
    {
     "name": "stdout",
     "output_type": "stream",
     "text": [
      "<class 'pandas.core.frame.DataFrame'>\n",
      "RangeIndex: 5 entries, 0 to 4\n",
      "Columns: 116 entries, index to metrics.silent_neurons_first_max_std\n",
      "dtypes: float64(101), int64(13), object(2)\n",
      "memory usage: 4.7+ KB\n"
     ]
    }
   ],
   "source": [
    "def get_trials_df(data: GridData):\n",
    "    trials = []\n",
    "    for trial in data.trials.values():\n",
    "        trial_dict = {\n",
    "            \"index\": trial.index,\n",
    "            \"duration\": trial.duration,\n",
    "            \"error\": trial.error,\n",
    "        }\n",
    "\n",
    "        for key, value in trial.config.items():\n",
    "            trial_dict[f\"config.{key}\"] = value\n",
    "\n",
    "        for key, value in trial.metrics.items():\n",
    "            if key == \"epochs\":\n",
    "                continue\n",
    "            trial_dict[f\"metrics.{key}\"] = value\n",
    "\n",
    "        trials.append(trial_dict)\n",
    "\n",
    "    return pd.DataFrame(trials)\n",
    "\n",
    "trials_df = get_trials_df(data)\n",
    "trials_df.info()"
   ]
  },
  {
   "cell_type": "code",
   "execution_count": 4,
   "metadata": {},
   "outputs": [],
   "source": [
    "# def load_trials_df(version: int):\n",
    "#     filename = f\"grid_data_{version:02d}.yaml\"\n",
    "\n",
    "#     with open(filename, \"r\") as f:\n",
    "#         data = yaml.safe_load(f)\n",
    "\n",
    "#     trials = []\n",
    "\n",
    "#     for trial in data[\"trials\"].values():\n",
    "#         for k, v in trial[\"config\"].items():\n",
    "#             trial[f\"config.{k}\"] = v\n",
    "#         del trial[\"config\"]\n",
    "\n",
    "#         for k, v in trial[\"metrics\"].items():\n",
    "#             trial[f\"metrics.{k}\"] = v\n",
    "#         del trial[\"metrics\"]\n",
    "\n",
    "#         trials.append(trial)\n",
    "\n",
    "#     return pd.DataFrame(trials)\n",
    "\n",
    "# trials_df = load_trials_df(version=1)\n",
    "# trials_df.info()"
   ]
  },
  {
   "cell_type": "code",
   "execution_count": 5,
   "metadata": {},
   "outputs": [
    {
     "ename": "AttributeError",
     "evalue": "'' is not a valid function for 'DataFrameGroupBy' object",
     "output_type": "error",
     "traceback": [
      "\u001b[0;31m---------------------------------------------------------------------------\u001b[0m",
      "\u001b[0;31mAttributeError\u001b[0m                            Traceback (most recent call last)",
      "Cell \u001b[0;32mIn[5], line 60\u001b[0m\n\u001b[1;32m     57\u001b[0m     plt\u001b[38;5;241m.\u001b[39mtight_layout()\n\u001b[1;32m     58\u001b[0m     plt\u001b[38;5;241m.\u001b[39mshow()\n\u001b[0;32m---> 60\u001b[0m \u001b[43mplot_config_dependency\u001b[49m\u001b[43m(\u001b[49m\u001b[43mtrials_df\u001b[49m\u001b[43m,\u001b[49m\u001b[43m \u001b[49m\u001b[43m[\u001b[49m\u001b[38;5;124;43m\"\u001b[39;49m\u001b[38;5;124;43m\"\u001b[39;49m\u001b[43m]\u001b[49m\u001b[43m)\u001b[49m\n",
      "Cell \u001b[0;32mIn[5], line 14\u001b[0m, in \u001b[0;36mplot_config_dependency\u001b[0;34m(df, agg_funcs, agg_kwargs)\u001b[0m\n\u001b[1;32m     11\u001b[0m grouped \u001b[38;5;241m=\u001b[39m df\u001b[38;5;241m.\u001b[39mgroupby(config_col)\n\u001b[1;32m     13\u001b[0m \u001b[38;5;28;01mfor\u001b[39;00m agg_func \u001b[38;5;129;01min\u001b[39;00m agg_funcs:\n\u001b[0;32m---> 14\u001b[0m     agg_df \u001b[38;5;241m=\u001b[39m \u001b[43mgrouped\u001b[49m\u001b[38;5;241;43m.\u001b[39;49m\u001b[43maggregate\u001b[49m\u001b[43m(\u001b[49m\u001b[43magg_func\u001b[49m\u001b[43m,\u001b[49m\u001b[43m \u001b[49m\u001b[38;5;241;43m*\u001b[39;49m\u001b[38;5;241;43m*\u001b[39;49m\u001b[43magg_kwargs\u001b[49m\u001b[43m)\u001b[49m\n\u001b[1;32m     16\u001b[0m     agg_df\u001b[38;5;241m.\u001b[39mplot(\n\u001b[1;32m     17\u001b[0m         ax\u001b[38;5;241m=\u001b[39magg_ax,\n\u001b[1;32m     18\u001b[0m         y\u001b[38;5;241m=\u001b[39m\u001b[38;5;124m\"\u001b[39m\u001b[38;5;124mmetrics.acc_max_mean\u001b[39m\u001b[38;5;124m\"\u001b[39m,\n\u001b[0;32m   (...)\u001b[0m\n\u001b[1;32m     21\u001b[0m         label\u001b[38;5;241m=\u001b[39magg_func,\n\u001b[1;32m     22\u001b[0m     )\n\u001b[1;32m     24\u001b[0m grouped\u001b[38;5;241m.\u001b[39mcount()\u001b[38;5;241m.\u001b[39mplot(\n\u001b[1;32m     25\u001b[0m     ax\u001b[38;5;241m=\u001b[39mcount_ax,\n\u001b[1;32m     26\u001b[0m     y\u001b[38;5;241m=\u001b[39m\u001b[38;5;124m\"\u001b[39m\u001b[38;5;124mmetrics.acc_max_mean\u001b[39m\u001b[38;5;124m\"\u001b[39m,\n\u001b[0;32m   (...)\u001b[0m\n\u001b[1;32m     30\u001b[0m     color\u001b[38;5;241m=\u001b[39m\u001b[38;5;124m\"\u001b[39m\u001b[38;5;124mgreen\u001b[39m\u001b[38;5;124m\"\u001b[39m,\n\u001b[1;32m     31\u001b[0m )\n",
      "File \u001b[0;32m~/.local/share/hatch/env/virtual/spikegd/ZHnL-QaC/spikegd/lib/python3.12/site-packages/pandas/core/groupby/generic.py:1432\u001b[0m, in \u001b[0;36mDataFrameGroupBy.aggregate\u001b[0;34m(self, func, engine, engine_kwargs, *args, **kwargs)\u001b[0m\n\u001b[1;32m   1429\u001b[0m     kwargs[\u001b[38;5;124m\"\u001b[39m\u001b[38;5;124mengine_kwargs\u001b[39m\u001b[38;5;124m\"\u001b[39m] \u001b[38;5;241m=\u001b[39m engine_kwargs\n\u001b[1;32m   1431\u001b[0m op \u001b[38;5;241m=\u001b[39m GroupByApply(\u001b[38;5;28mself\u001b[39m, func, args\u001b[38;5;241m=\u001b[39margs, kwargs\u001b[38;5;241m=\u001b[39mkwargs)\n\u001b[0;32m-> 1432\u001b[0m result \u001b[38;5;241m=\u001b[39m \u001b[43mop\u001b[49m\u001b[38;5;241;43m.\u001b[39;49m\u001b[43magg\u001b[49m\u001b[43m(\u001b[49m\u001b[43m)\u001b[49m\n\u001b[1;32m   1433\u001b[0m \u001b[38;5;28;01mif\u001b[39;00m \u001b[38;5;129;01mnot\u001b[39;00m is_dict_like(func) \u001b[38;5;129;01mand\u001b[39;00m result \u001b[38;5;129;01mis\u001b[39;00m \u001b[38;5;129;01mnot\u001b[39;00m \u001b[38;5;28;01mNone\u001b[39;00m:\n\u001b[1;32m   1434\u001b[0m     \u001b[38;5;66;03m# GH #52849\u001b[39;00m\n\u001b[1;32m   1435\u001b[0m     \u001b[38;5;28;01mif\u001b[39;00m \u001b[38;5;129;01mnot\u001b[39;00m \u001b[38;5;28mself\u001b[39m\u001b[38;5;241m.\u001b[39mas_index \u001b[38;5;129;01mand\u001b[39;00m is_list_like(func):\n",
      "File \u001b[0;32m~/.local/share/hatch/env/virtual/spikegd/ZHnL-QaC/spikegd/lib/python3.12/site-packages/pandas/core/apply.py:187\u001b[0m, in \u001b[0;36mApply.agg\u001b[0;34m(self)\u001b[0m\n\u001b[1;32m    184\u001b[0m kwargs \u001b[38;5;241m=\u001b[39m \u001b[38;5;28mself\u001b[39m\u001b[38;5;241m.\u001b[39mkwargs\n\u001b[1;32m    186\u001b[0m \u001b[38;5;28;01mif\u001b[39;00m \u001b[38;5;28misinstance\u001b[39m(func, \u001b[38;5;28mstr\u001b[39m):\n\u001b[0;32m--> 187\u001b[0m     \u001b[38;5;28;01mreturn\u001b[39;00m \u001b[38;5;28;43mself\u001b[39;49m\u001b[38;5;241;43m.\u001b[39;49m\u001b[43mapply_str\u001b[49m\u001b[43m(\u001b[49m\u001b[43m)\u001b[49m\n\u001b[1;32m    189\u001b[0m \u001b[38;5;28;01mif\u001b[39;00m is_dict_like(func):\n\u001b[1;32m    190\u001b[0m     \u001b[38;5;28;01mreturn\u001b[39;00m \u001b[38;5;28mself\u001b[39m\u001b[38;5;241m.\u001b[39magg_dict_like()\n",
      "File \u001b[0;32m~/.local/share/hatch/env/virtual/spikegd/ZHnL-QaC/spikegd/lib/python3.12/site-packages/pandas/core/apply.py:603\u001b[0m, in \u001b[0;36mApply.apply_str\u001b[0;34m(self)\u001b[0m\n\u001b[1;32m    601\u001b[0m         \u001b[38;5;28;01melse\u001b[39;00m:\n\u001b[1;32m    602\u001b[0m             \u001b[38;5;28mself\u001b[39m\u001b[38;5;241m.\u001b[39mkwargs[\u001b[38;5;124m\"\u001b[39m\u001b[38;5;124maxis\u001b[39m\u001b[38;5;124m\"\u001b[39m] \u001b[38;5;241m=\u001b[39m \u001b[38;5;28mself\u001b[39m\u001b[38;5;241m.\u001b[39maxis\n\u001b[0;32m--> 603\u001b[0m \u001b[38;5;28;01mreturn\u001b[39;00m \u001b[38;5;28;43mself\u001b[39;49m\u001b[38;5;241;43m.\u001b[39;49m\u001b[43m_apply_str\u001b[49m\u001b[43m(\u001b[49m\u001b[43mobj\u001b[49m\u001b[43m,\u001b[49m\u001b[43m \u001b[49m\u001b[43mfunc\u001b[49m\u001b[43m,\u001b[49m\u001b[43m \u001b[49m\u001b[38;5;241;43m*\u001b[39;49m\u001b[38;5;28;43mself\u001b[39;49m\u001b[38;5;241;43m.\u001b[39;49m\u001b[43margs\u001b[49m\u001b[43m,\u001b[49m\u001b[43m \u001b[49m\u001b[38;5;241;43m*\u001b[39;49m\u001b[38;5;241;43m*\u001b[39;49m\u001b[38;5;28;43mself\u001b[39;49m\u001b[38;5;241;43m.\u001b[39;49m\u001b[43mkwargs\u001b[49m\u001b[43m)\u001b[49m\n",
      "File \u001b[0;32m~/.local/share/hatch/env/virtual/spikegd/ZHnL-QaC/spikegd/lib/python3.12/site-packages/pandas/core/apply.py:706\u001b[0m, in \u001b[0;36mApply._apply_str\u001b[0;34m(self, obj, func, *args, **kwargs)\u001b[0m\n\u001b[1;32m    704\u001b[0m \u001b[38;5;28;01melse\u001b[39;00m:\n\u001b[1;32m    705\u001b[0m     msg \u001b[38;5;241m=\u001b[39m \u001b[38;5;124mf\u001b[39m\u001b[38;5;124m\"\u001b[39m\u001b[38;5;124m'\u001b[39m\u001b[38;5;132;01m{\u001b[39;00mfunc\u001b[38;5;132;01m}\u001b[39;00m\u001b[38;5;124m'\u001b[39m\u001b[38;5;124m is not a valid function for \u001b[39m\u001b[38;5;124m'\u001b[39m\u001b[38;5;132;01m{\u001b[39;00m\u001b[38;5;28mtype\u001b[39m(obj)\u001b[38;5;241m.\u001b[39m\u001b[38;5;18m__name__\u001b[39m\u001b[38;5;132;01m}\u001b[39;00m\u001b[38;5;124m'\u001b[39m\u001b[38;5;124m object\u001b[39m\u001b[38;5;124m\"\u001b[39m\n\u001b[0;32m--> 706\u001b[0m     \u001b[38;5;28;01mraise\u001b[39;00m \u001b[38;5;167;01mAttributeError\u001b[39;00m(msg)\n",
      "\u001b[0;31mAttributeError\u001b[0m: '' is not a valid function for 'DataFrameGroupBy' object"
     ]
    },
    {
     "data": {
      "image/png": "[encoded data removed]",
      "text/plain": [
       "<Figure size 600x500 with 4 Axes>"
      ]
     },
     "metadata": {},
     "output_type": "display_data"
    }
   ],
   "source": [
    "def plot_config_dependency(df, agg_funcs=(\"max\",), agg_kwargs=dict(numeric_only=True)):\n",
    "    config_cols = [\n",
    "        col\n",
    "        for col in df.columns\n",
    "        if col.startswith(\"config.\") and df[col].nunique() > 1\n",
    "    ]\n",
    "\n",
    "    fig, axs = plt.subplots(2, len(config_cols), figsize=(3 * len(config_cols), 5), sharey=\"row\", sharex=\"col\", squeeze=False)\n",
    "\n",
    "    for (agg_ax, count_ax), config_col in zip(axs.T, config_cols):\n",
    "        grouped = df.groupby(config_col)\n",
    "\n",
    "        for agg_func in agg_funcs:\n",
    "            agg_df = grouped.aggregate(agg_func, **agg_kwargs)\n",
    "            \n",
    "            agg_df.plot(\n",
    "                ax=agg_ax,\n",
    "                y=\"metrics.acc_max_mean\",\n",
    "                marker=\".\",\n",
    "                linestyle=\"--\",\n",
    "                label=agg_func,\n",
    "            )\n",
    "\n",
    "        grouped.count().plot(\n",
    "            ax=count_ax,\n",
    "            y=\"metrics.acc_max_mean\",\n",
    "            marker=\".\",\n",
    "            linestyle=\"--\",\n",
    "            label=\"success\",\n",
    "            color=\"green\",\n",
    "        )\n",
    "        grouped.count().plot(\n",
    "            ax=count_ax,\n",
    "            y=\"error\",\n",
    "            marker=\".\",\n",
    "            linestyle=\"--\",\n",
    "            label=\"error\",\n",
    "            color=\"red\",\n",
    "        )\n",
    "        grouped.size().plot(\n",
    "            ax=count_ax,\n",
    "            marker=\".\",\n",
    "            linestyle=\"--\",\n",
    "            label=\"total\",\n",
    "            color=\"black\",\n",
    "        )\n",
    "\n",
    "        agg_ax.set_ylabel(\"Accuracy\")\n",
    "        agg_ax.grid()\n",
    "        agg_ax.legend()\n",
    "\n",
    "        count_ax.set_xlabel(config_col.removeprefix(\"config.\"))\n",
    "        count_ax.set_ylabel(\"Trial count\")\n",
    "        count_ax.grid()\n",
    "        count_ax.legend()\n",
    "\n",
    "    plt.tight_layout()\n",
    "    plt.show()\n",
    "\n",
    "plot_config_dependency(trials_df)"
   ]
  },
  {
   "cell_type": "markdown",
   "metadata": {},
   "source": [
    "## Best trials"
   ]
  },
  {
   "cell_type": "code",
   "execution_count": null,
   "metadata": {},
   "outputs": [
    {
     "ename": "KeyError",
     "evalue": "'metrics.acc_mean'",
     "output_type": "error",
     "traceback": [
      "\u001b[0;31m---------------------------------------------------------------------------\u001b[0m",
      "\u001b[0;31mKeyError\u001b[0m                                  Traceback (most recent call last)",
      "\u001b[0;32m/tmp/ipykernel_198530/2312369832.py\u001b[0m in \u001b[0;36m?\u001b[0;34m()\u001b[0m\n\u001b[0;32m----> 1\u001b[0;31m \u001b[0mtrials_df\u001b[0m\u001b[0;34m.\u001b[0m\u001b[0msort_values\u001b[0m\u001b[0;34m(\u001b[0m\u001b[0;34m\"metrics.acc_mean\"\u001b[0m\u001b[0;34m,\u001b[0m \u001b[0mascending\u001b[0m\u001b[0;34m=\u001b[0m\u001b[0;32mFalse\u001b[0m\u001b[0;34m)\u001b[0m\u001b[0;34m.\u001b[0m\u001b[0mhead\u001b[0m\u001b[0;34m(\u001b[0m\u001b[0;36m10\u001b[0m\u001b[0;34m)\u001b[0m\u001b[0;34m\u001b[0m\u001b[0;34m\u001b[0m\u001b[0m\n\u001b[0m",
      "\u001b[0;32m~/.local/share/hatch/env/virtual/spikegd/ZHnL-QaC/spikegd/lib/python3.12/site-packages/pandas/core/frame.py\u001b[0m in \u001b[0;36m?\u001b[0;34m(self, by, axis, ascending, inplace, kind, na_position, ignore_index, key)\u001b[0m\n\u001b[1;32m   7185\u001b[0m             \u001b[0;34m)\u001b[0m\u001b[0;34m\u001b[0m\u001b[0;34m\u001b[0m\u001b[0m\n\u001b[1;32m   7186\u001b[0m         \u001b[0;32melif\u001b[0m \u001b[0mlen\u001b[0m\u001b[0;34m(\u001b[0m\u001b[0mby\u001b[0m\u001b[0;34m)\u001b[0m\u001b[0;34m:\u001b[0m\u001b[0;34m\u001b[0m\u001b[0;34m\u001b[0m\u001b[0m\n\u001b[1;32m   7187\u001b[0m             \u001b[0;31m# len(by) == 1\u001b[0m\u001b[0;34m\u001b[0m\u001b[0;34m\u001b[0m\u001b[0m\n\u001b[1;32m   7188\u001b[0m \u001b[0;34m\u001b[0m\u001b[0m\n\u001b[0;32m-> 7189\u001b[0;31m             \u001b[0mk\u001b[0m \u001b[0;34m=\u001b[0m \u001b[0mself\u001b[0m\u001b[0;34m.\u001b[0m\u001b[0m_get_label_or_level_values\u001b[0m\u001b[0;34m(\u001b[0m\u001b[0mby\u001b[0m\u001b[0;34m[\u001b[0m\u001b[0;36m0\u001b[0m\u001b[0;34m]\u001b[0m\u001b[0;34m,\u001b[0m \u001b[0maxis\u001b[0m\u001b[0;34m=\u001b[0m\u001b[0maxis\u001b[0m\u001b[0;34m)\u001b[0m\u001b[0;34m\u001b[0m\u001b[0;34m\u001b[0m\u001b[0m\n\u001b[0m\u001b[1;32m   7190\u001b[0m \u001b[0;34m\u001b[0m\u001b[0m\n\u001b[1;32m   7191\u001b[0m             \u001b[0;31m# need to rewrap column in Series to apply key function\u001b[0m\u001b[0;34m\u001b[0m\u001b[0;34m\u001b[0m\u001b[0m\n\u001b[1;32m   7192\u001b[0m             \u001b[0;32mif\u001b[0m \u001b[0mkey\u001b[0m \u001b[0;32mis\u001b[0m \u001b[0;32mnot\u001b[0m \u001b[0;32mNone\u001b[0m\u001b[0;34m:\u001b[0m\u001b[0;34m\u001b[0m\u001b[0;34m\u001b[0m\u001b[0m\n",
      "\u001b[0;32m~/.local/share/hatch/env/virtual/spikegd/ZHnL-QaC/spikegd/lib/python3.12/site-packages/pandas/core/generic.py\u001b[0m in \u001b[0;36m?\u001b[0;34m(self, key, axis)\u001b[0m\n\u001b[1;32m   1907\u001b[0m             \u001b[0mvalues\u001b[0m \u001b[0;34m=\u001b[0m \u001b[0mself\u001b[0m\u001b[0;34m.\u001b[0m\u001b[0mxs\u001b[0m\u001b[0;34m(\u001b[0m\u001b[0mkey\u001b[0m\u001b[0;34m,\u001b[0m \u001b[0maxis\u001b[0m\u001b[0;34m=\u001b[0m\u001b[0mother_axes\u001b[0m\u001b[0;34m[\u001b[0m\u001b[0;36m0\u001b[0m\u001b[0;34m]\u001b[0m\u001b[0;34m)\u001b[0m\u001b[0;34m.\u001b[0m\u001b[0m_values\u001b[0m\u001b[0;34m\u001b[0m\u001b[0;34m\u001b[0m\u001b[0m\n\u001b[1;32m   1908\u001b[0m         \u001b[0;32melif\u001b[0m \u001b[0mself\u001b[0m\u001b[0;34m.\u001b[0m\u001b[0m_is_level_reference\u001b[0m\u001b[0;34m(\u001b[0m\u001b[0mkey\u001b[0m\u001b[0;34m,\u001b[0m \u001b[0maxis\u001b[0m\u001b[0;34m=\u001b[0m\u001b[0maxis\u001b[0m\u001b[0;34m)\u001b[0m\u001b[0;34m:\u001b[0m\u001b[0;34m\u001b[0m\u001b[0;34m\u001b[0m\u001b[0m\n\u001b[1;32m   1909\u001b[0m             \u001b[0mvalues\u001b[0m \u001b[0;34m=\u001b[0m \u001b[0mself\u001b[0m\u001b[0;34m.\u001b[0m\u001b[0maxes\u001b[0m\u001b[0;34m[\u001b[0m\u001b[0maxis\u001b[0m\u001b[0;34m]\u001b[0m\u001b[0;34m.\u001b[0m\u001b[0mget_level_values\u001b[0m\u001b[0;34m(\u001b[0m\u001b[0mkey\u001b[0m\u001b[0;34m)\u001b[0m\u001b[0;34m.\u001b[0m\u001b[0m_values\u001b[0m\u001b[0;34m\u001b[0m\u001b[0;34m\u001b[0m\u001b[0m\n\u001b[1;32m   1910\u001b[0m         \u001b[0;32melse\u001b[0m\u001b[0;34m:\u001b[0m\u001b[0;34m\u001b[0m\u001b[0;34m\u001b[0m\u001b[0m\n\u001b[0;32m-> 1911\u001b[0;31m             \u001b[0;32mraise\u001b[0m \u001b[0mKeyError\u001b[0m\u001b[0;34m(\u001b[0m\u001b[0mkey\u001b[0m\u001b[0;34m)\u001b[0m\u001b[0;34m\u001b[0m\u001b[0;34m\u001b[0m\u001b[0m\n\u001b[0m\u001b[1;32m   1912\u001b[0m \u001b[0;34m\u001b[0m\u001b[0m\n\u001b[1;32m   1913\u001b[0m         \u001b[0;31m# Check for duplicates\u001b[0m\u001b[0;34m\u001b[0m\u001b[0;34m\u001b[0m\u001b[0m\n\u001b[1;32m   1914\u001b[0m         \u001b[0;32mif\u001b[0m \u001b[0mvalues\u001b[0m\u001b[0;34m.\u001b[0m\u001b[0mndim\u001b[0m \u001b[0;34m>\u001b[0m \u001b[0;36m1\u001b[0m\u001b[0;34m:\u001b[0m\u001b[0;34m\u001b[0m\u001b[0;34m\u001b[0m\u001b[0m\n",
      "\u001b[0;31mKeyError\u001b[0m: 'metrics.acc_mean'"
     ]
    }
   ],
   "source": [
    "trials_df.sort_values(\"metrics.acc_mean\", ascending=False).head(10)"
   ]
  },
  {
   "cell_type": "code",
   "execution_count": null,
   "metadata": {},
   "outputs": [
    {
     "name": "stdout",
     "output_type": "stream",
     "text": [
      "===== BEST TRIAL =====\n",
      "index                                                         163\n",
      "n_samples                                                       3\n",
      "started_at                             2024-08-28_22-31-08_896511\n",
      "finished_at                            2024-08-28_22-32-06_129337\n",
      "duration                                                57.232826\n",
      "error                                                        None\n",
      "config.Nt                                                       8\n",
      "config.Nin                                                   5600\n",
      "config.p_flip                                                 0.0\n",
      "config.K                                                      150\n",
      "config.Nlayer                                                   2\n",
      "config.Nhidden                                                 80\n",
      "config.Nin_virtual                                             12\n",
      "metrics.acc_mean                                         0.832983\n",
      "metrics.acc_std                                          0.017176\n",
      "metrics.acc_ord_mean                                      0.37963\n",
      "metrics.acc_ord_std                                      0.034684\n",
      "metrics.activity_mean                                    0.299988\n",
      "metrics.activity_std                                     0.034494\n",
      "metrics.activity_first_mean                              0.297042\n",
      "metrics.activity_first_std                               0.033628\n",
      "metrics.loss_mean                                        0.857134\n",
      "metrics.loss_std                                         0.093494\n",
      "metrics.loss_ord_mean                                    2.944813\n",
      "metrics.loss_ord_std                                     0.012133\n",
      "metrics.perf.compilation_time_mean                       0.000634\n",
      "metrics.perf.compilation_time_std                        0.000009\n",
      "metrics.perf.optim_init_time_mean                        0.003117\n",
      "metrics.perf.optim_init_time_std                         0.000698\n",
      "metrics.perf.phi0_init_time_mean                         0.000699\n",
      "metrics.perf.phi0_init_time_std                          0.000036\n",
      "metrics.perf.weights_init_time_mean                      0.003957\n",
      "metrics.perf.weights_init_time_std                       0.002019\n",
      "metrics.silent_neurons_mean                              0.154167\n",
      "metrics.silent_neurons_std                               0.065617\n",
      "metrics.silent_neurons_first_mean                        0.154167\n",
      "metrics.silent_neurons_first_std                         0.065617\n",
      "Name: 162, dtype: object\n",
      "\n",
      "===== BEST CONFIG =====\n"
     ]
    },
    {
     "data": {
      "text/plain": [
       "{'Nt': 8,\n",
       " 'Nin': 5600,\n",
       " 'p_flip': 0.0,\n",
       " 'K': 150,\n",
       " 'Nlayer': 2,\n",
       " 'Nhidden': 80,\n",
       " 'Nin_virtual': 12}"
      ]
     },
     "execution_count": 5,
     "metadata": {},
     "output_type": "execute_result"
    }
   ],
   "source": [
    "best_trial = trials_df.loc[trials_df[\"metrics.acc_mean\"].idxmax()]\n",
    "print(\"===== BEST TRIAL =====\")\n",
    "print(best_trial)\n",
    "print()\n",
    "print(\"===== BEST CONFIG =====\")\n",
    "best_config = {\n",
    "    k.removeprefix(\"config.\"): v.item()\n",
    "    for k, v in best_trial.items()\n",
    "    if isinstance(k, str) and k.startswith(\"config.\")\n",
    "}\n",
    "best_config"
   ]
  }
 ],
 "metadata": {
  "kernelspec": {
   "display_name": "spikegd",
   "language": "python",
   "name": "python3"
  },
  "language_info": {
   "codemirror_mode": {
    "name": "ipython",
    "version": 3
   },
   "file_extension": ".py",
   "mimetype": "text/x-python",
   "name": "python",
   "nbconvert_exporter": "python",
   "pygments_lexer": "ipython3",
   "version": "3.12.3"
  }
 },
 "nbformat": 4,
 "nbformat_minor": 2
}
